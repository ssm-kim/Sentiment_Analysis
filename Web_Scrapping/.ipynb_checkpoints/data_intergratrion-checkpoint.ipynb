{
 "cells": [
  {
   "cell_type": "code",
   "execution_count": 1,
   "id": "f84bc6b6",
   "metadata": {
    "ExecuteTime": {
     "end_time": "2022-06-03T01:36:10.192896Z",
     "start_time": "2022-06-03T01:36:07.579881Z"
    }
   },
   "outputs": [],
   "source": [
    "import pandas as pd\n",
    "import numpy as np\n",
    "import matplotlib\n",
    "import datetime, time\n",
    "import re\n",
    "import timedelta\n",
    "import matplotlib.pyplot as plt\n",
    "import seaborn as sns"
   ]
  },
  {
   "cell_type": "code",
   "execution_count": 3,
   "id": "0b0b6090",
   "metadata": {
    "ExecuteTime": {
     "end_time": "2022-06-03T01:36:20.427199Z",
     "start_time": "2022-06-03T01:36:20.255631Z"
    },
    "scrolled": true
   },
   "outputs": [
    {
     "name": "stdout",
     "output_type": "stream",
     "text": [
      "(24010, 5)\n",
      "(3979, 6)\n"
     ]
    }
   ],
   "source": [
    "matplotlib.rc('font',family='NanumGothic')\n",
    "\n",
    "# 한글 폰트 적용\n",
    "matplotlib.rc('axes', unicode_minus = False) # True\n",
    "\n",
    "# 2022 / 04 / 21 일자 스크래핑 데이터\n",
    "# df_news = pd.read_csv('./news_data.csv', engine= 'python',encoding = 'utf-8')\n",
    "df1 = pd.read_csv('./데이터 수집/2019.05.01~2022.05.01_DGB대구은행.csv', engine= 'python',encoding = 'utf-8')\n",
    "df2 = pd.read_csv('./데이터 수집/최종2022-6-3  10시 31분 31초 merging.csv', engine= 'python',encoding = 'utf-8')\n",
    "\n",
    "# (행, 열)\n",
    "print(df1.shape)\n",
    "print(df2.shape)"
   ]
  },
  {
   "cell_type": "code",
   "execution_count": 4,
   "id": "5b62c061",
   "metadata": {
    "ExecuteTime": {
     "end_time": "2022-06-03T01:36:25.140672Z",
     "start_time": "2022-06-03T01:36:25.132694Z"
    }
   },
   "outputs": [],
   "source": [
    "total_data = pd.concat([df1, df2])"
   ]
  },
  {
   "cell_type": "code",
   "execution_count": 5,
   "id": "0e8cdc16",
   "metadata": {
    "ExecuteTime": {
     "end_time": "2022-06-03T01:36:29.600764Z",
     "start_time": "2022-06-03T01:36:29.583809Z"
    }
   },
   "outputs": [],
   "source": [
    "# 필요한 컬럼 추출\n",
    "total_data = total_data.loc[:,['date', 'title', 'source', 'contents']]\n",
    "total_data.rename(columns={'source' : 'press'}, inplace=True)"
   ]
  },
  {
   "cell_type": "code",
   "execution_count": 6,
   "id": "5a8c5a59",
   "metadata": {
    "ExecuteTime": {
     "end_time": "2022-06-03T01:36:29.840151Z",
     "start_time": "2022-06-03T01:36:29.768343Z"
    }
   },
   "outputs": [],
   "source": [
    "# 중복제거\n",
    "total_data.drop_duplicates(['contents'], keep = False, inplace=True)\n",
    "total_data.drop_duplicates(['title'], keep = False, inplace=True)"
   ]
  },
  {
   "cell_type": "code",
   "execution_count": 7,
   "id": "f458f9e2",
   "metadata": {
    "ExecuteTime": {
     "end_time": "2022-06-03T01:36:29.929934Z",
     "start_time": "2022-06-03T01:36:29.905003Z"
    }
   },
   "outputs": [],
   "source": [
    "# 정렬 및 인덱스 초기화\n",
    "total_data.sort_values(by = ['date'], inplace=True, ascending=True)\n",
    "\n",
    "total_data.reset_index(inplace=True)\n",
    "total_data.drop(['index'], axis=1, inplace=True)"
   ]
  },
  {
   "cell_type": "code",
   "execution_count": 8,
   "id": "52eefa4c",
   "metadata": {
    "ExecuteTime": {
     "end_time": "2022-06-03T01:36:30.977509Z",
     "start_time": "2022-06-03T01:36:30.957563Z"
    }
   },
   "outputs": [
    {
     "data": {
      "text/html": [
       "<div>\n",
       "<style scoped>\n",
       "    .dataframe tbody tr th:only-of-type {\n",
       "        vertical-align: middle;\n",
       "    }\n",
       "\n",
       "    .dataframe tbody tr th {\n",
       "        vertical-align: top;\n",
       "    }\n",
       "\n",
       "    .dataframe thead th {\n",
       "        text-align: right;\n",
       "    }\n",
       "</style>\n",
       "<table border=\"1\" class=\"dataframe\">\n",
       "  <thead>\n",
       "    <tr style=\"text-align: right;\">\n",
       "      <th></th>\n",
       "      <th>date</th>\n",
       "      <th>title</th>\n",
       "      <th>press</th>\n",
       "      <th>contents</th>\n",
       "    </tr>\n",
       "  </thead>\n",
       "  <tbody>\n",
       "    <tr>\n",
       "      <th>0</th>\n",
       "      <td>2019.05.01.</td>\n",
       "      <td>DGB 대구은행파크 건설에 뒷돈?…경찰, 대구 건설본부 압색</td>\n",
       "      <td>NaN</td>\n",
       "      <td>프로축구 대구 FC 전용구장인 DGB 대구은행파크를 건설하는 과정에 금품이 오갔다는...</td>\n",
       "    </tr>\n",
       "    <tr>\n",
       "      <th>1</th>\n",
       "      <td>2019.05.01.</td>\n",
       "      <td>금융권 CEO의 소통 본색…'특별한' 스킨십 경영</td>\n",
       "      <td>NaN</td>\n",
       "      <td>김태오 DGB금융지주 회장 겸 대구은행장도 소통 강화에 한창이다. 최근 김태오 회장...</td>\n",
       "    </tr>\n",
       "    <tr>\n",
       "      <th>2</th>\n",
       "      <td>2019.05.01.</td>\n",
       "      <td>대구은행 대전지역 1호점 개점</td>\n",
       "      <td>NaN</td>\n",
       "      <td>DGB대구은행은 지난달 30일 대전지점(대전광역시 서구 문예로 65)을 개점하고 국...</td>\n",
       "    </tr>\n",
       "    <tr>\n",
       "      <th>3</th>\n",
       "      <td>2019.05.01.</td>\n",
       "      <td>대구은행, 대전 서구에 '대전지점' 개점</td>\n",
       "      <td>NaN</td>\n",
       "      <td>대구은행은 30일 대전시 서구에 대전지점을 개점했다. 대구은행은 서울지역 3 개점(...</td>\n",
       "    </tr>\n",
       "    <tr>\n",
       "      <th>4</th>\n",
       "      <td>2019.05.01.</td>\n",
       "      <td>DGB대구은행, 대전지점 개점</td>\n",
       "      <td>NaN</td>\n",
       "      <td>DGB대구은행이 30일 대전지점(대전광역시 서구 문예로 65)을 개점하고, 국토 및...</td>\n",
       "    </tr>\n",
       "    <tr>\n",
       "      <th>...</th>\n",
       "      <td>...</td>\n",
       "      <td>...</td>\n",
       "      <td>...</td>\n",
       "      <td>...</td>\n",
       "    </tr>\n",
       "    <tr>\n",
       "      <th>26972</th>\n",
       "      <td>7일 전</td>\n",
       "      <td>DGB금융 1분기 지배주주지분 순이익 1천622억…창립이래 최대</td>\n",
       "      <td>NaN</td>\n",
       "      <td>주력 계열사인 DGB대구은행은 순이익이 29.7% 증가한 1천187억원을 기록했다....</td>\n",
       "    </tr>\n",
       "    <tr>\n",
       "      <th>26973</th>\n",
       "      <td>7일 전</td>\n",
       "      <td>DGB금융, 1분기 영업익 2284억원…전년 比 28.1% ↑</td>\n",
       "      <td>NaN</td>\n",
       "      <td>DGB금융지주(139130)는 1분기 연결 기준 영업이익이 2284억9000만원으로...</td>\n",
       "    </tr>\n",
       "    <tr>\n",
       "      <th>26974</th>\n",
       "      <td>7일 전</td>\n",
       "      <td>대구銀, 가정의 달 맞아 대고객 대면 행사 진행</td>\n",
       "      <td>NaN</td>\n",
       "      <td>DGB대구은행은 '가정의 달' 5월을 맞아 기존 코로나19기간 비대면이나 축소돼 진...</td>\n",
       "    </tr>\n",
       "    <tr>\n",
       "      <th>26975</th>\n",
       "      <td>7일 전</td>\n",
       "      <td>대구은행, DGB당선통장 판매…선거비용 관리 전용</td>\n",
       "      <td>NaN</td>\n",
       "      <td>DGB대구은행은 오는 6월 1일 제8회 전국동시지방선거를 앞두고 선거 자금을 관리할...</td>\n",
       "    </tr>\n",
       "    <tr>\n",
       "      <th>26976</th>\n",
       "      <td>7일 전</td>\n",
       "      <td>DGB금융그룹, 1Q 순익 1741억…전년비 27.9%↑</td>\n",
       "      <td>NaN</td>\n",
       "      <td>[사진=DGB금융그룹] 주력 계열사인 DGB대구은행의 1분기 당기순이익은 전년 동기...</td>\n",
       "    </tr>\n",
       "  </tbody>\n",
       "</table>\n",
       "<p>26977 rows × 4 columns</p>\n",
       "</div>"
      ],
      "text/plain": [
       "              date                                title press  \\\n",
       "0      2019.05.01.    DGB 대구은행파크 건설에 뒷돈?…경찰, 대구 건설본부 압색   NaN   \n",
       "1      2019.05.01.          금융권 CEO의 소통 본색…'특별한' 스킨십 경영   NaN   \n",
       "2      2019.05.01.                     대구은행 대전지역 1호점 개점   NaN   \n",
       "3      2019.05.01.               대구은행, 대전 서구에 '대전지점' 개점   NaN   \n",
       "4      2019.05.01.                     DGB대구은행, 대전지점 개점   NaN   \n",
       "...            ...                                  ...   ...   \n",
       "26972         7일 전  DGB금융 1분기 지배주주지분 순이익 1천622억…창립이래 최대   NaN   \n",
       "26973         7일 전   DGB금융, 1분기 영업익 2284억원…전년 比 28.1% ↑   NaN   \n",
       "26974         7일 전           대구銀, 가정의 달 맞아 대고객 대면 행사 진행   NaN   \n",
       "26975         7일 전          대구은행, DGB당선통장 판매…선거비용 관리 전용   NaN   \n",
       "26976         7일 전      DGB금융그룹, 1Q 순익 1741억…전년비 27.9%↑   NaN   \n",
       "\n",
       "                                                contents  \n",
       "0      프로축구 대구 FC 전용구장인 DGB 대구은행파크를 건설하는 과정에 금품이 오갔다는...  \n",
       "1      김태오 DGB금융지주 회장 겸 대구은행장도 소통 강화에 한창이다. 최근 김태오 회장...  \n",
       "2      DGB대구은행은 지난달 30일 대전지점(대전광역시 서구 문예로 65)을 개점하고 국...  \n",
       "3      대구은행은 30일 대전시 서구에 대전지점을 개점했다. 대구은행은 서울지역 3 개점(...  \n",
       "4      DGB대구은행이 30일 대전지점(대전광역시 서구 문예로 65)을 개점하고, 국토 및...  \n",
       "...                                                  ...  \n",
       "26972  주력 계열사인 DGB대구은행은 순이익이 29.7% 증가한 1천187억원을 기록했다....  \n",
       "26973  DGB금융지주(139130)는 1분기 연결 기준 영업이익이 2284억9000만원으로...  \n",
       "26974  DGB대구은행은 '가정의 달' 5월을 맞아 기존 코로나19기간 비대면이나 축소돼 진...  \n",
       "26975  DGB대구은행은 오는 6월 1일 제8회 전국동시지방선거를 앞두고 선거 자금을 관리할...  \n",
       "26976  [사진=DGB금융그룹] 주력 계열사인 DGB대구은행의 1분기 당기순이익은 전년 동기...  \n",
       "\n",
       "[26977 rows x 4 columns]"
      ]
     },
     "execution_count": 8,
     "metadata": {},
     "output_type": "execute_result"
    }
   ],
   "source": [
    "total_data"
   ]
  },
  {
   "cell_type": "code",
   "execution_count": 9,
   "id": "3fcf1042",
   "metadata": {
    "ExecuteTime": {
     "end_time": "2022-06-03T01:36:38.250167Z",
     "start_time": "2022-06-03T01:36:38.088465Z"
    }
   },
   "outputs": [],
   "source": [
    "# 중복 제거 X\n",
    "total_data.to_csv('./데이터 수집/2019.05.01~2022.05.01_DGB대구은행.csv')"
   ]
  }
 ],
 "metadata": {
  "kernelspec": {
   "display_name": "Proj",
   "language": "python",
   "name": "intern_project"
  },
  "language_info": {
   "codemirror_mode": {
    "name": "ipython",
    "version": 3
   },
   "file_extension": ".py",
   "mimetype": "text/x-python",
   "name": "python",
   "nbconvert_exporter": "python",
   "pygments_lexer": "ipython3",
   "version": "3.6.13"
  },
  "toc": {
   "base_numbering": 1,
   "nav_menu": {},
   "number_sections": true,
   "sideBar": true,
   "skip_h1_title": false,
   "title_cell": "Table of Contents",
   "title_sidebar": "Contents",
   "toc_cell": false,
   "toc_position": {},
   "toc_section_display": true,
   "toc_window_display": false
  }
 },
 "nbformat": 4,
 "nbformat_minor": 5
}
