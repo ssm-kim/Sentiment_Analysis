{
 "cells": [
  {
   "cell_type": "code",
   "execution_count": 43,
   "id": "f84bc6b6",
   "metadata": {
    "ExecuteTime": {
     "end_time": "2022-06-03T05:54:32.198185Z",
     "start_time": "2022-06-03T05:54:32.189208Z"
    }
   },
   "outputs": [],
   "source": [
    "import pandas as pd\n",
    "import numpy as np\n",
    "import matplotlib\n",
    "import datetime, time\n",
    "import re\n",
    "import timedelta\n",
    "import matplotlib.pyplot as plt\n",
    "import seaborn as sns"
   ]
  },
  {
   "cell_type": "code",
   "execution_count": 45,
   "id": "0b0b6090",
   "metadata": {
    "ExecuteTime": {
     "end_time": "2022-06-03T05:55:01.864793Z",
     "start_time": "2022-06-03T05:55:01.682282Z"
    },
    "scrolled": true
   },
   "outputs": [
    {
     "name": "stdout",
     "output_type": "stream",
     "text": [
      "(26977, 5)\n",
      "(1748, 6)\n"
     ]
    }
   ],
   "source": [
    "matplotlib.rc('font',family='NanumGothic')\n",
    "\n",
    "# 한글 폰트 적용\n",
    "matplotlib.rc('axes', unicode_minus = False) # True\n",
    "\n",
    "# 2022 / 04 / 21 일자 스크래핑 데이터\n",
    "# df_news = pd.read_csv('./news_data.csv', engine= 'python',encoding = 'utf-8')\n",
    "df1 = pd.read_csv('./데이터 수집/2019.05.01~2022.05.01_DGB대구은행.csv', engine= 'python',encoding = 'utf-8')\n",
    "df2 = pd.read_csv('./데이터 수집/최종2022-6-3  14시 51분 16초 merging.csv', engine= 'python',encoding = 'utf-8')\n",
    "\n",
    "# (행, 열)\n",
    "print(df1.shape)\n",
    "print(df2.shape)"
   ]
  },
  {
   "cell_type": "code",
   "execution_count": 47,
   "id": "05f2425e",
   "metadata": {
    "ExecuteTime": {
     "end_time": "2022-06-03T05:55:11.633661Z",
     "start_time": "2022-06-03T05:55:11.625682Z"
    }
   },
   "outputs": [],
   "source": [
    "df2.rename(columns={'source' : 'press'}, inplace=True)"
   ]
  },
  {
   "cell_type": "code",
   "execution_count": 48,
   "id": "5b62c061",
   "metadata": {
    "ExecuteTime": {
     "end_time": "2022-06-03T05:55:13.398937Z",
     "start_time": "2022-06-03T05:55:13.386969Z"
    }
   },
   "outputs": [],
   "source": [
    "total_data = pd.concat([df1, df2])"
   ]
  },
  {
   "cell_type": "code",
   "execution_count": 49,
   "id": "432cd322",
   "metadata": {
    "ExecuteTime": {
     "end_time": "2022-06-03T05:55:14.072136Z",
     "start_time": "2022-06-03T05:55:14.049198Z"
    },
    "collapsed": true
   },
   "outputs": [
    {
     "data": {
      "text/html": [
       "<div>\n",
       "<style scoped>\n",
       "    .dataframe tbody tr th:only-of-type {\n",
       "        vertical-align: middle;\n",
       "    }\n",
       "\n",
       "    .dataframe tbody tr th {\n",
       "        vertical-align: top;\n",
       "    }\n",
       "\n",
       "    .dataframe thead th {\n",
       "        text-align: right;\n",
       "    }\n",
       "</style>\n",
       "<table border=\"1\" class=\"dataframe\">\n",
       "  <thead>\n",
       "    <tr style=\"text-align: right;\">\n",
       "      <th></th>\n",
       "      <th>Unnamed: 0</th>\n",
       "      <th>date</th>\n",
       "      <th>title</th>\n",
       "      <th>press</th>\n",
       "      <th>contents</th>\n",
       "      <th>link</th>\n",
       "    </tr>\n",
       "  </thead>\n",
       "  <tbody>\n",
       "    <tr>\n",
       "      <th>0</th>\n",
       "      <td>0</td>\n",
       "      <td>2019.05.01.</td>\n",
       "      <td>DGB 대구은행파크 건설에 뒷돈?…경찰, 대구 건설본부 압색</td>\n",
       "      <td>노컷뉴스</td>\n",
       "      <td>프로축구 대구 FC 전용구장인 DGB 대구은행파크를 건설하는 과정에 금품이 오갔다는...</td>\n",
       "      <td>NaN</td>\n",
       "    </tr>\n",
       "    <tr>\n",
       "      <th>1</th>\n",
       "      <td>1</td>\n",
       "      <td>2019.05.01.</td>\n",
       "      <td>금융권 CEO의 소통 본색…'특별한' 스킨십 경영</td>\n",
       "      <td>아시아타임즈</td>\n",
       "      <td>김태오 DGB금융지주 회장 겸 대구은행장도 소통 강화에 한창이다. 최근 김태오 회장...</td>\n",
       "      <td>NaN</td>\n",
       "    </tr>\n",
       "    <tr>\n",
       "      <th>2</th>\n",
       "      <td>2</td>\n",
       "      <td>2019.05.01.</td>\n",
       "      <td>대구은행 대전지역 1호점 개점</td>\n",
       "      <td>대구일보</td>\n",
       "      <td>DGB대구은행은 지난달 30일 대전지점(대전광역시 서구 문예로 65)을 개점하고 국...</td>\n",
       "      <td>NaN</td>\n",
       "    </tr>\n",
       "    <tr>\n",
       "      <th>3</th>\n",
       "      <td>3</td>\n",
       "      <td>2019.05.01.</td>\n",
       "      <td>대구은행, 대전 서구에 '대전지점' 개점</td>\n",
       "      <td>경북일보</td>\n",
       "      <td>대구은행은 30일 대전시 서구에 대전지점을 개점했다. 대구은행은 서울지역 3 개점(...</td>\n",
       "      <td>NaN</td>\n",
       "    </tr>\n",
       "    <tr>\n",
       "      <th>4</th>\n",
       "      <td>4</td>\n",
       "      <td>2019.05.01.</td>\n",
       "      <td>DGB대구은행, 대전지점 개점</td>\n",
       "      <td>경상매일신문</td>\n",
       "      <td>DGB대구은행이 30일 대전지점(대전광역시 서구 문예로 65)을 개점하고, 국토 및...</td>\n",
       "      <td>NaN</td>\n",
       "    </tr>\n",
       "    <tr>\n",
       "      <th>...</th>\n",
       "      <td>...</td>\n",
       "      <td>...</td>\n",
       "      <td>...</td>\n",
       "      <td>...</td>\n",
       "      <td>...</td>\n",
       "      <td>...</td>\n",
       "    </tr>\n",
       "    <tr>\n",
       "      <th>1743</th>\n",
       "      <td>1743</td>\n",
       "      <td>2020.05.03.</td>\n",
       "      <td>DGB대구은행, 온누리상품권 20억원 구매약정</td>\n",
       "      <td>더퍼블릭</td>\n",
       "      <td>DGB대구은행은 코로나19(COVID-19) 여파로 인한 지역 경제 침체를 살리고자...</td>\n",
       "      <td>http://www.thepublic.kr/news/newsview.php?ncod...</td>\n",
       "    </tr>\n",
       "    <tr>\n",
       "      <th>1744</th>\n",
       "      <td>1744</td>\n",
       "      <td>2020.05.02.</td>\n",
       "      <td>국토연구원 도시 주거지 생활SOC 대표사례 '제주 김영수도서관'</td>\n",
       "      <td>미디어제주</td>\n",
       "      <td>한편 국토연구원은 지역유형별 생활SOC 대표 사례로 제주 김영수도서관 외에 ▲DGB...</td>\n",
       "      <td>http://www.mediajeju.com/news/articleView.html...</td>\n",
       "    </tr>\n",
       "    <tr>\n",
       "      <th>1745</th>\n",
       "      <td>1745</td>\n",
       "      <td>2020.05.02.</td>\n",
       "      <td>[5월 1주] 은행 정기예금(24개월) 최고우대금리 연 1.70%…케이뱅크 ‘주거래...</td>\n",
       "      <td>한국금융신문</td>\n",
       "      <td>6위는 대구은행의 ‘DGB주거래우대예금(첫만남고객형)’으로 1.48%를 제공했다. ...</td>\n",
       "      <td>http://www.fntimes.com/html/view.php?ud=202005...</td>\n",
       "    </tr>\n",
       "    <tr>\n",
       "      <th>1746</th>\n",
       "      <td>1746</td>\n",
       "      <td>2020.05.02.</td>\n",
       "      <td>제로금리 시대에 '5% 적금'의 비밀</td>\n",
       "      <td>서울경제</td>\n",
       "      <td>핀테크 업체 ‘핀크’ 역시 DGB대구은행에 이어 KDB산업은행과 함께 지난 10월부...</td>\n",
       "      <td>https://www.sedaily.com/NewsView/1Z2LEGY9JP</td>\n",
       "    </tr>\n",
       "    <tr>\n",
       "      <th>1747</th>\n",
       "      <td>1747</td>\n",
       "      <td>2020.05.02.</td>\n",
       "      <td>대구FC, 16일 포항과 홈 개막전</td>\n",
       "      <td>파이낸셜뉴스</td>\n",
       "      <td>대구의 홈 개막전은 오는 16일 오후 4시 30분 DGB대구은행파크에서 열리는 포항...</td>\n",
       "      <td>http://www.fnnews.com/news/202004291648471708</td>\n",
       "    </tr>\n",
       "  </tbody>\n",
       "</table>\n",
       "<p>28725 rows × 6 columns</p>\n",
       "</div>"
      ],
      "text/plain": [
       "      Unnamed: 0         date  \\\n",
       "0              0  2019.05.01.   \n",
       "1              1  2019.05.01.   \n",
       "2              2  2019.05.01.   \n",
       "3              3  2019.05.01.   \n",
       "4              4  2019.05.01.   \n",
       "...          ...          ...   \n",
       "1743        1743  2020.05.03.   \n",
       "1744        1744  2020.05.02.   \n",
       "1745        1745  2020.05.02.   \n",
       "1746        1746  2020.05.02.   \n",
       "1747        1747  2020.05.02.   \n",
       "\n",
       "                                                  title   press  \\\n",
       "0                     DGB 대구은행파크 건설에 뒷돈?…경찰, 대구 건설본부 압색    노컷뉴스   \n",
       "1                           금융권 CEO의 소통 본색…'특별한' 스킨십 경영  아시아타임즈   \n",
       "2                                      대구은행 대전지역 1호점 개점    대구일보   \n",
       "3                                대구은행, 대전 서구에 '대전지점' 개점    경북일보   \n",
       "4                                      DGB대구은행, 대전지점 개점  경상매일신문   \n",
       "...                                                 ...     ...   \n",
       "1743                          DGB대구은행, 온누리상품권 20억원 구매약정    더퍼블릭   \n",
       "1744                국토연구원 도시 주거지 생활SOC 대표사례 '제주 김영수도서관'   미디어제주   \n",
       "1745  [5월 1주] 은행 정기예금(24개월) 최고우대금리 연 1.70%…케이뱅크 ‘주거래...  한국금융신문   \n",
       "1746                               제로금리 시대에 '5% 적금'의 비밀    서울경제   \n",
       "1747                                대구FC, 16일 포항과 홈 개막전  파이낸셜뉴스   \n",
       "\n",
       "                                               contents  \\\n",
       "0     프로축구 대구 FC 전용구장인 DGB 대구은행파크를 건설하는 과정에 금품이 오갔다는...   \n",
       "1     김태오 DGB금융지주 회장 겸 대구은행장도 소통 강화에 한창이다. 최근 김태오 회장...   \n",
       "2     DGB대구은행은 지난달 30일 대전지점(대전광역시 서구 문예로 65)을 개점하고 국...   \n",
       "3     대구은행은 30일 대전시 서구에 대전지점을 개점했다. 대구은행은 서울지역 3 개점(...   \n",
       "4     DGB대구은행이 30일 대전지점(대전광역시 서구 문예로 65)을 개점하고, 국토 및...   \n",
       "...                                                 ...   \n",
       "1743  DGB대구은행은 코로나19(COVID-19) 여파로 인한 지역 경제 침체를 살리고자...   \n",
       "1744  한편 국토연구원은 지역유형별 생활SOC 대표 사례로 제주 김영수도서관 외에 ▲DGB...   \n",
       "1745  6위는 대구은행의 ‘DGB주거래우대예금(첫만남고객형)’으로 1.48%를 제공했다. ...   \n",
       "1746  핀테크 업체 ‘핀크’ 역시 DGB대구은행에 이어 KDB산업은행과 함께 지난 10월부...   \n",
       "1747  대구의 홈 개막전은 오는 16일 오후 4시 30분 DGB대구은행파크에서 열리는 포항...   \n",
       "\n",
       "                                                   link  \n",
       "0                                                   NaN  \n",
       "1                                                   NaN  \n",
       "2                                                   NaN  \n",
       "3                                                   NaN  \n",
       "4                                                   NaN  \n",
       "...                                                 ...  \n",
       "1743  http://www.thepublic.kr/news/newsview.php?ncod...  \n",
       "1744  http://www.mediajeju.com/news/articleView.html...  \n",
       "1745  http://www.fntimes.com/html/view.php?ud=202005...  \n",
       "1746        https://www.sedaily.com/NewsView/1Z2LEGY9JP  \n",
       "1747      http://www.fnnews.com/news/202004291648471708  \n",
       "\n",
       "[28725 rows x 6 columns]"
      ]
     },
     "execution_count": 49,
     "metadata": {},
     "output_type": "execute_result"
    }
   ],
   "source": [
    "total_data"
   ]
  },
  {
   "cell_type": "code",
   "execution_count": 50,
   "id": "0e8cdc16",
   "metadata": {
    "ExecuteTime": {
     "end_time": "2022-06-03T05:55:28.194356Z",
     "start_time": "2022-06-03T05:55:28.178400Z"
    }
   },
   "outputs": [],
   "source": [
    "# 필요한 컬럼 추출\n",
    "total_data = total_data.loc[:,['date', 'title', 'press', 'contents']]"
   ]
  },
  {
   "cell_type": "code",
   "execution_count": 51,
   "id": "5a8c5a59",
   "metadata": {
    "ExecuteTime": {
     "end_time": "2022-06-03T05:55:30.184037Z",
     "start_time": "2022-06-03T05:55:30.113223Z"
    }
   },
   "outputs": [],
   "source": [
    "# 중복제거\n",
    "total_data.drop_duplicates(['contents'], keep = False, inplace=True)\n",
    "total_data.drop_duplicates(['title'], keep = False, inplace=True)"
   ]
  },
  {
   "cell_type": "code",
   "execution_count": 52,
   "id": "f458f9e2",
   "metadata": {
    "ExecuteTime": {
     "end_time": "2022-06-03T05:55:30.572997Z",
     "start_time": "2022-06-03T05:55:30.547062Z"
    }
   },
   "outputs": [],
   "source": [
    "# 정렬 및 인덱스 초기화\n",
    "total_data.sort_values(by = ['date'], inplace=True, ascending=True)\n",
    "\n",
    "total_data.reset_index(inplace=True)\n",
    "total_data.drop(['index'], axis=1, inplace=True)"
   ]
  },
  {
   "cell_type": "code",
   "execution_count": 53,
   "id": "52eefa4c",
   "metadata": {
    "ExecuteTime": {
     "end_time": "2022-06-03T05:55:32.368332Z",
     "start_time": "2022-06-03T05:55:32.354370Z"
    },
    "collapsed": true
   },
   "outputs": [
    {
     "data": {
      "text/html": [
       "<div>\n",
       "<style scoped>\n",
       "    .dataframe tbody tr th:only-of-type {\n",
       "        vertical-align: middle;\n",
       "    }\n",
       "\n",
       "    .dataframe tbody tr th {\n",
       "        vertical-align: top;\n",
       "    }\n",
       "\n",
       "    .dataframe thead th {\n",
       "        text-align: right;\n",
       "    }\n",
       "</style>\n",
       "<table border=\"1\" class=\"dataframe\">\n",
       "  <thead>\n",
       "    <tr style=\"text-align: right;\">\n",
       "      <th></th>\n",
       "      <th>date</th>\n",
       "      <th>title</th>\n",
       "      <th>press</th>\n",
       "      <th>contents</th>\n",
       "    </tr>\n",
       "  </thead>\n",
       "  <tbody>\n",
       "    <tr>\n",
       "      <th>0</th>\n",
       "      <td>2019.05.01.</td>\n",
       "      <td>DGB 대구은행파크 건설에 뒷돈?…경찰, 대구 건설본부 압색</td>\n",
       "      <td>노컷뉴스</td>\n",
       "      <td>프로축구 대구 FC 전용구장인 DGB 대구은행파크를 건설하는 과정에 금품이 오갔다는...</td>\n",
       "    </tr>\n",
       "    <tr>\n",
       "      <th>1</th>\n",
       "      <td>2019.05.01.</td>\n",
       "      <td>\"민원 없는 그 날까지\" 은행권, 민원 줄이기에 총력</td>\n",
       "      <td>한스경제</td>\n",
       "      <td>DGB대구은행 5.9건, SC제일은행 5.4건, KB국민은행 4.8건, 우리은행 4...</td>\n",
       "    </tr>\n",
       "    <tr>\n",
       "      <th>2</th>\n",
       "      <td>2019.05.01.</td>\n",
       "      <td>대구FC, 3일 상주전 홈경기 대세존 운영</td>\n",
       "      <td>뉴스웨이</td>\n",
       "      <td>대구FC가 오는 3일 오후 7시 30분 DGB대구은행파크에서 열리는 하나원큐 K리그...</td>\n",
       "    </tr>\n",
       "    <tr>\n",
       "      <th>3</th>\n",
       "      <td>2019.05.01.</td>\n",
       "      <td>충청권이 타 지역 지방은행 각축장이 된 까닭</td>\n",
       "      <td>충청투데이</td>\n",
       "      <td>DGB대구은행이 엊그제 둔산동에 대전지역 1호 점포를 개설하고 충청권 영업에 본격 ...</td>\n",
       "    </tr>\n",
       "    <tr>\n",
       "      <th>4</th>\n",
       "      <td>2019.05.01.</td>\n",
       "      <td>대전에 문 연 대구은행…지역 반응은 '글쎄'</td>\n",
       "      <td>충청투데이</td>\n",
       "      <td>DGB대구은행이 대전지역 진출을 본격화한 가운데 다소 냉담한 반응이 흘러나오고 있다...</td>\n",
       "    </tr>\n",
       "    <tr>\n",
       "      <th>...</th>\n",
       "      <td>...</td>\n",
       "      <td>...</td>\n",
       "      <td>...</td>\n",
       "      <td>...</td>\n",
       "    </tr>\n",
       "    <tr>\n",
       "      <th>28358</th>\n",
       "      <td>7일 전</td>\n",
       "      <td>지방금융 3社, 순이익 증가율 4대 금융도 제쳐</td>\n",
       "      <td>한국경제</td>\n",
       "      <td>대구은행의 모기업인 DGB금융지주도 같은 날 1분기 순이익이 1622억원으로 집계됐...</td>\n",
       "    </tr>\n",
       "    <tr>\n",
       "      <th>28359</th>\n",
       "      <td>7일 전</td>\n",
       "      <td>BNK·DGB금융그룹, 올해 1분기 실적 발표…당기순익 큰 폭 증가</td>\n",
       "      <td>대한금융신문</td>\n",
       "      <td>주요 계열서인 DGB대구은행의 올해 1분기 순이익은 전년동기 대비 29.7% 증가한...</td>\n",
       "    </tr>\n",
       "    <tr>\n",
       "      <th>28360</th>\n",
       "      <td>7일 전</td>\n",
       "      <td>DGB금융그룹, 1분기 순이익 1622억…전년比 31% 증가</td>\n",
       "      <td>팍스경제TV</td>\n",
       "      <td>주력 계열사인 DGB대구은행의 1분기 순이익은 전년 동기 대비 29.7% 증가한 1...</td>\n",
       "    </tr>\n",
       "    <tr>\n",
       "      <th>28361</th>\n",
       "      <td>7일 전</td>\n",
       "      <td>지방금융 3사, 역대급 호실적 행진…당분간 이자익 증가 전망</td>\n",
       "      <td>이뉴스투데이</td>\n",
       "      <td>주력 계열사인 DGB대구은행의 1분기 순이익은 전년 동기 대비 29.7% 증가한 1...</td>\n",
       "    </tr>\n",
       "    <tr>\n",
       "      <th>28362</th>\n",
       "      <td>7일 전</td>\n",
       "      <td>DGB금융, 1분기 당기순이익 1622억...\"역대 분기 최대\"</td>\n",
       "      <td>FETV</td>\n",
       "      <td>주력 계열사인 DGB대구은행의 1분기 순이익은 전년 동기 대비 29.7% 증가한 1...</td>\n",
       "    </tr>\n",
       "  </tbody>\n",
       "</table>\n",
       "<p>28363 rows × 4 columns</p>\n",
       "</div>"
      ],
      "text/plain": [
       "              date                                  title   press  \\\n",
       "0      2019.05.01.      DGB 대구은행파크 건설에 뒷돈?…경찰, 대구 건설본부 압색    노컷뉴스   \n",
       "1      2019.05.01.          \"민원 없는 그 날까지\" 은행권, 민원 줄이기에 총력    한스경제   \n",
       "2      2019.05.01.                대구FC, 3일 상주전 홈경기 대세존 운영    뉴스웨이   \n",
       "3      2019.05.01.               충청권이 타 지역 지방은행 각축장이 된 까닭   충청투데이   \n",
       "4      2019.05.01.               대전에 문 연 대구은행…지역 반응은 '글쎄'   충청투데이   \n",
       "...            ...                                    ...     ...   \n",
       "28358         7일 전             지방금융 3社, 순이익 증가율 4대 금융도 제쳐    한국경제   \n",
       "28359         7일 전  BNK·DGB금융그룹, 올해 1분기 실적 발표…당기순익 큰 폭 증가  대한금융신문   \n",
       "28360         7일 전      DGB금융그룹, 1분기 순이익 1622억…전년比 31% 증가  팍스경제TV   \n",
       "28361         7일 전      지방금융 3사, 역대급 호실적 행진…당분간 이자익 증가 전망  이뉴스투데이   \n",
       "28362         7일 전    DGB금융, 1분기 당기순이익 1622억...\"역대 분기 최대\"    FETV   \n",
       "\n",
       "                                                contents  \n",
       "0      프로축구 대구 FC 전용구장인 DGB 대구은행파크를 건설하는 과정에 금품이 오갔다는...  \n",
       "1      DGB대구은행 5.9건, SC제일은행 5.4건, KB국민은행 4.8건, 우리은행 4...  \n",
       "2      대구FC가 오는 3일 오후 7시 30분 DGB대구은행파크에서 열리는 하나원큐 K리그...  \n",
       "3      DGB대구은행이 엊그제 둔산동에 대전지역 1호 점포를 개설하고 충청권 영업에 본격 ...  \n",
       "4      DGB대구은행이 대전지역 진출을 본격화한 가운데 다소 냉담한 반응이 흘러나오고 있다...  \n",
       "...                                                  ...  \n",
       "28358  대구은행의 모기업인 DGB금융지주도 같은 날 1분기 순이익이 1622억원으로 집계됐...  \n",
       "28359  주요 계열서인 DGB대구은행의 올해 1분기 순이익은 전년동기 대비 29.7% 증가한...  \n",
       "28360  주력 계열사인 DGB대구은행의 1분기 순이익은 전년 동기 대비 29.7% 증가한 1...  \n",
       "28361  주력 계열사인 DGB대구은행의 1분기 순이익은 전년 동기 대비 29.7% 증가한 1...  \n",
       "28362  주력 계열사인 DGB대구은행의 1분기 순이익은 전년 동기 대비 29.7% 증가한 1...  \n",
       "\n",
       "[28363 rows x 4 columns]"
      ]
     },
     "execution_count": 53,
     "metadata": {},
     "output_type": "execute_result"
    }
   ],
   "source": [
    "total_data"
   ]
  },
  {
   "cell_type": "code",
   "execution_count": 55,
   "id": "3fcf1042",
   "metadata": {
    "ExecuteTime": {
     "end_time": "2022-06-03T05:55:59.252657Z",
     "start_time": "2022-06-03T05:55:59.082074Z"
    }
   },
   "outputs": [],
   "source": [
    "# 중복 제거 X\n",
    "total_data.to_csv('./데이터 수집/2019.05.01~2022.05.01_DGB대구은행.csv')"
   ]
  }
 ],
 "metadata": {
  "kernelspec": {
   "display_name": "Proj",
   "language": "python",
   "name": "intern_project"
  },
  "language_info": {
   "codemirror_mode": {
    "name": "ipython",
    "version": 3
   },
   "file_extension": ".py",
   "mimetype": "text/x-python",
   "name": "python",
   "nbconvert_exporter": "python",
   "pygments_lexer": "ipython3",
   "version": "3.6.13"
  },
  "toc": {
   "base_numbering": 1,
   "nav_menu": {},
   "number_sections": true,
   "sideBar": true,
   "skip_h1_title": false,
   "title_cell": "Table of Contents",
   "title_sidebar": "Contents",
   "toc_cell": false,
   "toc_position": {},
   "toc_section_display": true,
   "toc_window_display": false
  }
 },
 "nbformat": 4,
 "nbformat_minor": 5
}
