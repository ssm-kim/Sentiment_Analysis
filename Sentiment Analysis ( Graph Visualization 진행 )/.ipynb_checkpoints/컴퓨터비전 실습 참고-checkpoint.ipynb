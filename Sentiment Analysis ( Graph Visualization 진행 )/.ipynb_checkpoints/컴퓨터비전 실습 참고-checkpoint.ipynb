{
 "cells": [
  {
   "cell_type": "code",
   "execution_count": 1,
   "metadata": {
    "collapsed": true
   },
   "outputs": [
    {
     "name": "stderr",
     "output_type": "stream",
     "text": [
      "2021-12-07 19:20:58.756703: I tensorflow/stream_executor/platform/default/dso_loader.cc:49] Successfully opened dynamic library libcudart.so.11.0\n"
     ]
    },
    {
     "name": "stdout",
     "output_type": "stream",
     "text": [
      "2 Physical GPUs, 2 Logical GPUs\n"
     ]
    },
    {
     "name": "stderr",
     "output_type": "stream",
     "text": [
      "2021-12-07 19:20:59.851454: I tensorflow/compiler/jit/xla_cpu_device.cc:41] Not creating XLA devices, tf_xla_enable_xla_devices not set\n",
      "2021-12-07 19:20:59.852305: I tensorflow/stream_executor/platform/default/dso_loader.cc:49] Successfully opened dynamic library libcuda.so.1\n",
      "2021-12-07 19:20:59.952119: I tensorflow/core/common_runtime/gpu/gpu_device.cc:1720] Found device 0 with properties: \n",
      "pciBusID: 0000:17:00.0 name: NVIDIA GeForce RTX 2080 computeCapability: 7.5\n",
      "coreClock: 1.71GHz coreCount: 46 deviceMemorySize: 7.79GiB deviceMemoryBandwidth: 417.23GiB/s\n",
      "2021-12-07 19:20:59.952629: I tensorflow/core/common_runtime/gpu/gpu_device.cc:1720] Found device 1 with properties: \n",
      "pciBusID: 0000:b3:00.0 name: NVIDIA GeForce RTX 2080 computeCapability: 7.5\n",
      "coreClock: 1.71GHz coreCount: 46 deviceMemorySize: 7.79GiB deviceMemoryBandwidth: 417.23GiB/s\n",
      "2021-12-07 19:20:59.952655: I tensorflow/stream_executor/platform/default/dso_loader.cc:49] Successfully opened dynamic library libcudart.so.11.0\n",
      "2021-12-07 19:20:59.955315: I tensorflow/stream_executor/platform/default/dso_loader.cc:49] Successfully opened dynamic library libcublas.so.11\n",
      "2021-12-07 19:20:59.955387: I tensorflow/stream_executor/platform/default/dso_loader.cc:49] Successfully opened dynamic library libcublasLt.so.11\n",
      "2021-12-07 19:20:59.956434: I tensorflow/stream_executor/platform/default/dso_loader.cc:49] Successfully opened dynamic library libcufft.so.10\n",
      "2021-12-07 19:20:59.956730: I tensorflow/stream_executor/platform/default/dso_loader.cc:49] Successfully opened dynamic library libcurand.so.10\n",
      "2021-12-07 19:20:59.959522: I tensorflow/stream_executor/platform/default/dso_loader.cc:49] Successfully opened dynamic library libcusolver.so.10\n",
      "2021-12-07 19:20:59.960158: I tensorflow/stream_executor/platform/default/dso_loader.cc:49] Successfully opened dynamic library libcusparse.so.11\n",
      "2021-12-07 19:20:59.960275: I tensorflow/stream_executor/platform/default/dso_loader.cc:49] Successfully opened dynamic library libcudnn.so.8\n",
      "2021-12-07 19:20:59.962255: I tensorflow/core/common_runtime/gpu/gpu_device.cc:1862] Adding visible gpu devices: 0, 1\n",
      "2021-12-07 19:20:59.963005: I tensorflow/core/platform/cpu_feature_guard.cc:142] This TensorFlow binary is optimized with oneAPI Deep Neural Network Library (oneDNN) to use the following CPU instructions in performance-critical operations:  AVX2 AVX512F FMA\n",
      "To enable them in other operations, rebuild TensorFlow with the appropriate compiler flags.\n",
      "2021-12-07 19:20:59.963413: I tensorflow/compiler/jit/xla_gpu_device.cc:99] Not creating XLA devices, tf_xla_enable_xla_devices not set\n",
      "2021-12-07 19:21:00.149787: I tensorflow/core/common_runtime/gpu/gpu_device.cc:1720] Found device 0 with properties: \n",
      "pciBusID: 0000:17:00.0 name: NVIDIA GeForce RTX 2080 computeCapability: 7.5\n",
      "coreClock: 1.71GHz coreCount: 46 deviceMemorySize: 7.79GiB deviceMemoryBandwidth: 417.23GiB/s\n",
      "2021-12-07 19:21:00.150263: I tensorflow/core/common_runtime/gpu/gpu_device.cc:1720] Found device 1 with properties: \n",
      "pciBusID: 0000:b3:00.0 name: NVIDIA GeForce RTX 2080 computeCapability: 7.5\n",
      "coreClock: 1.71GHz coreCount: 46 deviceMemorySize: 7.79GiB deviceMemoryBandwidth: 417.23GiB/s\n",
      "2021-12-07 19:21:00.150296: I tensorflow/stream_executor/platform/default/dso_loader.cc:49] Successfully opened dynamic library libcudart.so.11.0\n",
      "2021-12-07 19:21:00.150322: I tensorflow/stream_executor/platform/default/dso_loader.cc:49] Successfully opened dynamic library libcublas.so.11\n",
      "2021-12-07 19:21:00.150334: I tensorflow/stream_executor/platform/default/dso_loader.cc:49] Successfully opened dynamic library libcublasLt.so.11\n",
      "2021-12-07 19:21:00.150346: I tensorflow/stream_executor/platform/default/dso_loader.cc:49] Successfully opened dynamic library libcufft.so.10\n",
      "2021-12-07 19:21:00.150358: I tensorflow/stream_executor/platform/default/dso_loader.cc:49] Successfully opened dynamic library libcurand.so.10\n",
      "2021-12-07 19:21:00.150369: I tensorflow/stream_executor/platform/default/dso_loader.cc:49] Successfully opened dynamic library libcusolver.so.10\n",
      "2021-12-07 19:21:00.150381: I tensorflow/stream_executor/platform/default/dso_loader.cc:49] Successfully opened dynamic library libcusparse.so.11\n",
      "2021-12-07 19:21:00.150393: I tensorflow/stream_executor/platform/default/dso_loader.cc:49] Successfully opened dynamic library libcudnn.so.8\n",
      "2021-12-07 19:21:00.152101: I tensorflow/core/common_runtime/gpu/gpu_device.cc:1862] Adding visible gpu devices: 0, 1\n",
      "2021-12-07 19:21:00.152133: I tensorflow/stream_executor/platform/default/dso_loader.cc:49] Successfully opened dynamic library libcudart.so.11.0\n",
      "2021-12-07 19:21:01.010412: I tensorflow/core/common_runtime/gpu/gpu_device.cc:1261] Device interconnect StreamExecutor with strength 1 edge matrix:\n",
      "2021-12-07 19:21:01.010452: I tensorflow/core/common_runtime/gpu/gpu_device.cc:1267]      0 1 \n",
      "2021-12-07 19:21:01.010460: I tensorflow/core/common_runtime/gpu/gpu_device.cc:1280] 0:   N N \n",
      "2021-12-07 19:21:01.010465: I tensorflow/core/common_runtime/gpu/gpu_device.cc:1280] 1:   N N \n",
      "2021-12-07 19:21:01.012410: I tensorflow/core/common_runtime/gpu/gpu_device.cc:1406] Create"
     ]
    }
   ],
   "source": [
    "import tensorflow as tf\n",
    "gpus = tf.config.experimental.list_physical_devices('GPU')\n",
    "if gpus:\n",
    "  # Restrict TensorFlow to only allocate 4GB of memory on the first GPU\n",
    "    try:\n",
    "        tf.config.experimental.set_virtual_device_configuration(\n",
    "            gpus[0],\n",
    "            [tf.config.experimental.VirtualDeviceConfiguration(memory_limit=6000)])\n",
    "        logical_gpus = tf.config.experimental.list_logical_devices('GPU')\n",
    "        print(len(gpus), \"Physical GPUs,\", len(logical_gpus), \"Logical GPUs\")\n",
    "    except RuntimeError as e:\n",
    "        # Virtual devices must be set before GPUs have been initialized\n",
    "        print(e)"
   ]
  },
  {
   "cell_type": "markdown",
   "metadata": {},
   "source": [
    "# MNIST 데이터셋 학습 (to do)\n",
    "MNIST 데이터셋은0~9까지 총 10개의 label로 이루어진 이미지 분류를 위한 사이즈의 손글씨 데이터셋이다.  \n",
    "각각의 레이블마다 28×28 크기 이미지인 60,000개의 training 데이터셋, 10,000개의 test 데이터셋이 존재하고, 결과적으로 총 70,000개의 28×28 크기의 이미지로 데이터셋이 구성되어 있다."
   ]
  },
  {
   "cell_type": "code",
   "execution_count": 2,
   "metadata": {},
   "outputs": [],
   "source": [
    "import tensorflow.keras.utils as utils\n",
    "from tensorflow.keras import datasets\n",
    "from tensorflow.keras.models import Sequential, Model\n",
    "from tensorflow.keras.layers import Input, Dense, Activation\n",
    "from tensorflow.keras.preprocessing.image import ImageDataGenerator, img_to_array\n",
    "from tensorflow.keras import backend\n",
    "\n",
    "import numpy as np\n",
    "import matplotlib.pyplot as plt\n",
    "%matplotlib inline"
   ]
  },
  {
   "cell_type": "markdown",
   "metadata": {},
   "source": [
    "## (1) 데이터셋"
   ]
  },
  {
   "cell_type": "code",
   "execution_count": 3,
   "metadata": {
    "scrolled": true
   },
   "outputs": [
    {
     "name": "stdout",
     "output_type": "stream",
     "text": [
      "(60000, 28, 28) (60000,)\n",
      "(10000, 28, 28) (10000,)\n"
     ]
    }
   ],
   "source": [
    "(X_train, Y_train),(X_test, Y_test) = datasets.mnist.load_data()\n",
    "print(X_train.shape, Y_train.shape)\n",
    "print(X_test.shape, Y_test.shape)"
   ]
  },
  {
   "cell_type": "code",
   "execution_count": 4,
   "metadata": {},
   "outputs": [
    {
     "name": "stdout",
     "output_type": "stream",
     "text": [
      "(60000, 28, 28, 1) (60000, 10)\n"
     ]
    }
   ],
   "source": [
    "X_train = X_train.reshape(X_train.shape[0], X_train.shape[1], X_train.shape[2], 1)\n",
    "X_test = X_test.reshape(X_test.shape[0], X_test.shape[1], X_test.shape[2], 1)\n",
    "\n",
    "Y_train = utils.to_categorical(Y_train)\n",
    "Y_test = utils.to_categorical(Y_test)\n",
    "\n",
    "print(X_train.shape, Y_train.shape)\n",
    "\n",
    "n_in = X_train.shape[1:]\n",
    "n_out = Y_train.shape[-1]"
   ]
  },
  {
   "cell_type": "markdown",
   "metadata": {},
   "source": [
    "## (2) 모델링"
   ]
  },
  {
   "cell_type": "code",
   "execution_count": 7,
   "metadata": {},
   "outputs": [],
   "source": [
    "from tensorflow.keras.optimizers import Adam\n",
    "from tensorflow.keras.callbacks import EarlyStopping\n",
    "\n",
    "# Adam --> 내가 원하는 파라미터 적용가능 / decay=1e-6\n",
    "adam = Adam(lr=0.001, beta_1=0.9, beta_2=0.999, decay=0.0001, epsilon=None, amsgrad=False)\n",
    "# model.compile(loss='categorical_crossentropy', optimizer=adam, metrics=['accuracy'])"
   ]
  },
  {
   "cell_type": "code",
   "execution_count": 8,
   "metadata": {},
   "outputs": [],
   "source": [
    "from tensorflow.keras.layers import Flatten, BatchNormalization, Dropout, ReLU\n",
    "from tensorflow.keras.layers import Conv2D\n",
    "from tensorflow.keras.layers import MaxPooling2D"
   ]
  },
  {
   "cell_type": "code",
   "execution_count": 129,
   "metadata": {},
   "outputs": [],
   "source": [
    "# define the larger model\n",
    "def My_CNN_model():\n",
    "    # create model\n",
    "    model = Sequential()\n",
    "    model.add(Conv2D(filters=64, kernel_size=3, padding='same', activation='relu', input_shape=(28,28,1)))\n",
    "    model.add(Conv2D(filters=64, kernel_size=3, padding='same', activation='relu'))\n",
    "    \n",
    "    model.add(Conv2D(filters=128, kernel_size=3, padding='same', activation='relu'))\n",
    "    model.add(MaxPooling2D(pool_size=2))\n",
    "    model.add(Dropout(0.4)) # 0.1\n",
    "    model.add(Conv2D(filters=128, kernel_size=3, padding='same', activation='relu'))\n",
    "    \n",
    "    model.add(Conv2D(filters=192, kernel_size=3, padding='same', activation='relu'))\n",
    "    model.add(MaxPooling2D(pool_size=2))\n",
    "    # model.add(Dropout(0.5)) # 0.1\n",
    "    model.add(Conv2D(filters=192, kernel_size=5, padding='same', activation='relu'))\n",
    "    \n",
    "    model.add(Conv2D(filters=256, kernel_size=3, padding='same', activation='relu'))\n",
    "    model.add(MaxPooling2D(pool_size=2))\n",
    "    model.add(Dropout(0.4)) # 0.1\n",
    "    model.add(Conv2D(filters=256, kernel_size=5, padding='same', activation='relu'))\n",
    "    \n",
    "    model.add(MaxPooling2D(pool_size=2, padding='same'))\n",
    "    model.add(Flatten())\n",
    "    model.add(Dense(512, activation='relu'))\n",
    "    model.add(Dense(10, activation='softmax'))\n",
    "    # Compile model\n",
    "    model.compile(loss='categorical_crossentropy', optimizer='adam', metrics=['accuracy'])\n",
    "    return model"
   ]
  },
  {
   "cell_type": "code",
   "execution_count": 145,
   "metadata": {},
   "outputs": [],
   "source": [
    "model=My_CNN_model()"
   ]
  },
  {
   "cell_type": "code",
   "execution_count": 130,
   "metadata": {},
   "outputs": [],
   "source": [
    "datagen = ImageDataGenerator(\n",
    "    featurewise_center = False,\n",
    "    samplewise_center = False,\n",
    "    featurewise_std_normalization = False,\n",
    "    samplewise_std_normalization = False,\n",
    "    zca_whitening = False,\n",
    "    rotation_range = 45, # 회전\n",
    "    zoom_range = 0.1, # 확대 축소\n",
    "    width_shift_range = 0.5, # 수평 이동\n",
    "    height_shift_range = 0.5, # 수직 이동\n",
    "    horizontal_flip = True, # 수평 반전\n",
    "    vertical_flip = True # 수직 반전\n",
    ")\n",
    "\n",
    "datagen.fit(X_train)"
   ]
  },
  {
   "cell_type": "code",
   "execution_count": 127,
   "metadata": {},
   "outputs": [
    {
     "name": "stdout",
     "output_type": "stream",
     "text": [
      "Epoch 1/20\n",
      "50/50 [==============================] - 15s 293ms/step - loss: 14.4296 - accuracy: 0.1691 - val_loss: 0.5510 - val_accuracy: 0.8341\n",
      "Epoch 2/20\n",
      "50/50 [==============================] - 14s 278ms/step - loss: 2.3551 - accuracy: 0.1234 - val_loss: 0.6515 - val_accuracy: 0.8001\n",
      "Epoch 3/20\n",
      "50/50 [==============================] - 13s 265ms/step - loss: 2.3327 - accuracy: 0.1265 - val_loss: 0.6802 - val_accuracy: 0.7886\n",
      "Epoch 4/20\n",
      "50/50 [==============================] - 13s 262ms/step - loss: 2.3265 - accuracy: 0.1270 - val_loss: 0.7072 - val_accuracy: 0.7816\n",
      "Epoch 5/20\n",
      "50/50 [==============================] - 13s 260ms/step - loss: 2.3087 - accuracy: 0.1348 - val_loss: 0.7204 - val_accuracy: 0.7766\n",
      "Epoch 6/20\n",
      "50/50 [==============================] - 13s 266ms/step - loss: 2.2958 - accuracy: 0.1440 - val_loss: 0.7541 - val_accuracy: 0.7648\n",
      "Epoch 7/20\n",
      "50/50 [==============================] - 13s 266ms/step - loss: 2.2679 - accuracy: 0.1569 - val_loss: 0.7704 - val_accuracy: 0.7608\n",
      "Epoch 8/20\n",
      "50/50 [==============================] - 14s 271ms/step - loss: 2.2322 - accuracy: 0.1758 - val_loss: 0.7948 - val_accuracy: 0.7455\n",
      "Epoch 9/20\n",
      "50/50 [==============================] - 13s 267ms/step - loss: 2.1902 - accuracy: 0.1857 - val_loss: 0.7382 - val_accuracy: 0.7549\n",
      "Epoch 10/20\n",
      "50/50 [==============================] - 14s 268ms/step - loss: 2.1324 - accuracy: 0.2044 - val_loss: 0.7255 - val_accuracy: 0.7454\n",
      "Epoch 11/20\n",
      "50/50 [==============================] - 14s 270ms/step - loss: 2.0726 - accuracy: 0.2075 - val_loss: 0.7447 - val_accuracy: 0.7260\n",
      "Epoch 12/20\n",
      "50/50 [==============================] - 14s 268ms/step - loss: 2.0303 - accuracy: 0.2212 - val_loss: 0.8412 - val_accuracy: 0.6730\n",
      "Epoch 13/20\n",
      "50/50 [==============================] - 14s 270ms/step - loss: 1.9979 - accuracy: 0.2284 - val_loss: 0.9155 - val_accuracy: 0.6198\n",
      "Epoch 14/20\n",
      "50/50 [==============================] - 14s 273ms/step - loss: 1.9639 - accuracy: 0.2330 - val_loss: 0.8775 - val_accuracy: 0.6251\n",
      "Epoch 15/20\n",
      "50/50 [==============================] - 14s 270ms/step - loss: 1.9333 - accuracy: 0.2433 - val_loss: 0.8217 - val_accuracy: 0.6754\n",
      "Epoch 16/20\n",
      "50/50 [==============================] - 15s 293ms/step - loss: 1.9075 - accuracy: 0.2781 - val_loss: 0.8750 - val_accuracy: 0.7277\n",
      "Epoch 17/20\n",
      "50/50 [==============================] - 14s 282ms/step - loss: 1.8796 - accuracy: 0.2908 - val_loss: 0.9179 - val_accuracy: 0.6425\n",
      "Epoch 18/20\n",
      "50/50 [==============================] - 14s 270ms/step - loss: 1.8710 - accuracy: 0.2925 - val_loss: 0.9132 - val_accuracy: 0.6328\n",
      "Epoch 19/20\n",
      "50/50 [==============================] - 13s 266ms/step - loss: 1.8275 - accuracy: 0.3067 - val_loss: 0.9302 - val_accuracy: 0.6316\n",
      "Epoch 20/20\n",
      "50/50 [==============================] - 13s 263ms/step - loss: 1.8035 - accuracy: 0.3191 - val_loss: 0.8878 - val_accuracy: 0.6466\n"
     ]
    }
   ],
   "source": [
    "model.compile(loss='categorical_crossentropy', optimizer='adam', metrics=['accuracy'])\n",
    "\n",
    "# 이미지가 증강되면서 학습 진행 --> 과적합 방지\n",
    "model.fit(datagen.flow(X_train[:-10000], Y_train[:-10000], batch_size = 1000),\n",
    "                   epochs = 20,\n",
    "                   validation_data = (X_train[-10000:], Y_train[-10000:]),\n",
    "                   steps_per_epoch = 50, #epoch당 datagen을 호출하는 횟수\n",
    "                   verbose = 1)\n",
    "\n",
    "#총 데이터셋의 크기는 batch_size*steps_per_epoch\n",
    "datagen.fit(X_train)"
   ]
  },
  {
   "cell_type": "code",
   "execution_count": 131,
   "metadata": {
    "scrolled": true
   },
   "outputs": [
    {
     "name": "stdout",
     "output_type": "stream",
     "text": [
      "Model: \"sequential_4\"\n",
      "_________________________________________________________________\n",
      "Layer (type)                 Output Shape              Param #   \n",
      "=================================================================\n",
      "conv2d_32 (Conv2D)           (None, 28, 28, 64)        640       \n",
      "_________________________________________________________________\n",
      "conv2d_33 (Conv2D)           (None, 28, 28, 64)        36928     \n",
      "_________________________________________________________________\n",
      "conv2d_34 (Conv2D)           (None, 28, 28, 128)       73856     \n",
      "_________________________________________________________________\n",
      "max_pooling2d_16 (MaxPooling (None, 14, 14, 128)       0         \n",
      "_________________________________________________________________\n",
      "dropout_8 (Dropout)          (None, 14, 14, 128)       0         \n",
      "_________________________________________________________________\n",
      "conv2d_35 (Conv2D)           (None, 14, 14, 128)       147584    \n",
      "_________________________________________________________________\n",
      "conv2d_36 (Conv2D)           (None, 14, 14, 192)       221376    \n",
      "_________________________________________________________________\n",
      "max_pooling2d_17 (MaxPooling (None, 7, 7, 192)         0         \n",
      "_________________________________________________________________\n",
      "conv2d_37 (Conv2D)           (None, 7, 7, 192)         921792    \n",
      "_________________________________________________________________\n",
      "conv2d_38 (Conv2D)           (None, 7, 7, 256)         442624    \n",
      "_________________________________________________________________\n",
      "max_pooling2d_18 (MaxPooling (None, 3, 3, 256)         0         \n",
      "_________________________________________________________________\n",
      "dropout_9 (Dropout)          (None, 3, 3, 256)         0         \n",
      "_________________________________________________________________\n",
      "conv2d_39 (Conv2D)           (None, 3, 3, 256)         1638656   \n",
      "_________________________________________________________________\n",
      "max_pooling2d_19 (MaxPooling (None, 2, 2, 256)         0         \n",
      "_________________________________________________________________\n",
      "flatten_4 (Flatten)          (None, 1024)              0         \n",
      "_________________________________________________________________\n",
      "dense_8 (Dense)              (None, 512)               524800    \n",
      "_________________________________________________________________\n",
      "dense_9 (Dense)              (None, 10)                5130      \n",
      "=================================================================\n",
      "Total params: 4,013,386\n",
      "Trainable params: 4,013,386\n",
      "Non-trainable params: 0\n",
      "_________________________________________________________________\n"
     ]
    }
   ],
   "source": [
    "model=My_CNN_model()\n",
    "model.summary()"
   ]
  },
  {
   "cell_type": "markdown",
   "metadata": {},
   "source": [
    "## (3) 모델의 학습과정 설정"
   ]
  },
  {
   "cell_type": "code",
   "execution_count": 132,
   "metadata": {},
   "outputs": [],
   "source": [
    "from tensorflow.keras.optimizers import Adam\n",
    "from tensorflow.keras.callbacks import EarlyStopping"
   ]
  },
  {
   "cell_type": "code",
   "execution_count": 133,
   "metadata": {},
   "outputs": [],
   "source": [
    "# Adam --> 내가 원하는 파라미터 적용가능\n",
    "adam = Adam(lr=0.001, beta_1=0.9, beta_2=0.999, decay=0.001, epsilon=None, amsgrad=False)\n",
    "model.compile(loss='categorical_crossentropy', optimizer=adam, metrics=['accuracy'])"
   ]
  },
  {
   "cell_type": "markdown",
   "metadata": {},
   "source": [
    "**1차 - 0.9932**\n",
    "\n",
    "**batch_size = 256**\n",
    "\n",
    "**epochs = 30**\n",
    "\n",
    "**adam = Adam(lr=0.001, beta_1=0.9, beta_2=0.999, decay=0.0001, epsilon=None, amsgrad=False)**\n",
    "\n",
    "\n",
    "**2차 - 0.9948**\n",
    "\n",
    "**batch_size = 512**\n",
    "\n",
    "**epochs = 30**\n",
    "\n",
    "**adam = Adam(lr=0.0001, beta_1=0.9, beta_2=0.999, decay=0.001, epsilon=None, amsgrad=False)**\n",
    "\n",
    "\n",
    "**3차 - 0.9948**\n",
    "\n",
    "**batch_size = 512**\n",
    "\n",
    "**epochs = 30**\n",
    "\n",
    "**adam = Adam(lr=0.001, beta_1=0.9, beta_2=0.999, decay=0.001, epsilon=None, amsgrad=False)**\n",
    "\n",
    "\n",
    "**4차 - 0.9954**\n",
    "\n",
    "**batch_size = 512 / patience = 30**\n",
    "\n",
    "**epochs = 60**\n",
    "\n",
    "**adam = Adam(lr=0.001, beta_1=0.9, beta_2=0.999, decay=0.001, epsilon=None, amsgrad=False)**\n",
    "\n",
    "**5차 - 0.9952**\n",
    "\n",
    "**batch_size = 256 / patience = 30**\n",
    "\n",
    "**epochs = 60**\n",
    "\n",
    "**adam = Adam(lr=0.001, beta_1=0.9, beta_2=0.999, decay=0.001, epsilon=None, amsgrad=False)**\n",
    "\n",
    "**5차까지는 Augmentation 동일하게 사용**\n",
    "\n",
    "datagen = ImageDataGenerator(\n",
    "    featurewise_center = False,\n",
    "    samplewise_center = False,\n",
    "    featurewise_std_normalization = False,\n",
    "    samplewise_std_normalization = False,\n",
    "    zca_whitening = False,\n",
    "    rotation_range = 45, # 회전\n",
    "    zoom_range = 0.1, # 확대 축소\n",
    "    width_shift_range = 0.5, # 수평 이동\n",
    "    height_shift_range = 0.5, # 수직 이동\n",
    "    horizontal_flip = True, # 수평 반전\n",
    "    vertical_flip = True # 수직 반전\n",
    ")\n",
    "\n",
    "\n",
    "**6차 - 0.9957 !!!**\n",
    "\n",
    "**batch_size = 256 / patience = 40**\n",
    "\n",
    "**epochs = 100**\n",
    "\n",
    "**adam = Adam(lr=0.001, beta_1=0.9, beta_2=0.999, decay=0.001, epsilon=None, amsgrad=False)**\n",
    "\n",
    "datagen = ImageDataGenerator(\n",
    "    featurewise_center = False,\n",
    "    samplewise_center = False,\n",
    "    featurewise_std_normalization = False,\n",
    "    samplewise_std_normalization = False,\n",
    "    zca_whitening = False,\n",
    "    rotation_range = 45, # 회전\n",
    "    zoom_range = 0.1, # 확대 축소\n",
    "    width_shift_range = 0.5, # 수평 이동\n",
    "    height_shift_range = 0.5, # 수직 이동\n",
    "    horizontal_flip = True, # 수평 반전\n",
    "    vertical_flip = True # 수직 반전\n",
    ")\n"
   ]
  },
  {
   "cell_type": "markdown",
   "metadata": {},
   "source": [
    "## (4) 모델 학습시키기"
   ]
  },
  {
   "cell_type": "code",
   "execution_count": 141,
   "metadata": {
    "scrolled": true
   },
   "outputs": [
    {
     "name": "stdout",
     "output_type": "stream",
     "text": [
      "Epoch 1/100\n",
      "188/188 [==============================] - 9s 48ms/step - loss: 2.1053e-04 - accuracy: 0.9999 - val_loss: 0.0428 - val_accuracy: 0.9947\n",
      "Epoch 2/100\n",
      "188/188 [==============================] - 9s 48ms/step - loss: 2.8109e-04 - accuracy: 0.9999 - val_loss: 0.0452 - val_accuracy: 0.9952\n",
      "Epoch 3/100\n",
      "188/188 [==============================] - 9s 48ms/step - loss: 8.5669e-05 - accuracy: 1.0000 - val_loss: 0.0442 - val_accuracy: 0.9954\n",
      "Epoch 4/100\n",
      "188/188 [==============================] - 9s 48ms/step - loss: 1.3242e-04 - accuracy: 0.9999 - val_loss: 0.0490 - val_accuracy: 0.9951\n",
      "Epoch 5/100\n",
      "188/188 [==============================] - 9s 48ms/step - loss: 5.1741e-04 - accuracy: 0.9999 - val_loss: 0.0487 - val_accuracy: 0.9947\n",
      "Epoch 6/100\n",
      "188/188 [==============================] - 9s 49ms/step - loss: 2.8916e-04 - accuracy: 0.9999 - val_loss: 0.0452 - val_accuracy: 0.9948\n",
      "Epoch 7/100\n",
      "188/188 [==============================] - 9s 49ms/step - loss: 9.8083e-05 - accuracy: 1.0000 - val_loss: 0.0445 - val_accuracy: 0.9952\n",
      "Epoch 8/100\n",
      "188/188 [==============================] - 9s 49ms/step - loss: 1.6265e-04 - accuracy: 1.0000 - val_loss: 0.0466 - val_accuracy: 0.9945\n",
      "Epoch 9/100\n",
      "188/188 [==============================] - 9s 49ms/step - loss: 3.4289e-04 - accuracy: 0.9999 - val_loss: 0.0462 - val_accuracy: 0.9948\n",
      "Epoch 10/100\n",
      "188/188 [==============================] - 9s 49ms/step - loss: 3.9943e-04 - accuracy: 0.9998 - val_loss: 0.0451 - val_accuracy: 0.9948\n",
      "Epoch 11/100\n",
      "188/188 [==============================] - 9s 49ms/step - loss: 6.2222e-04 - accuracy: 0.9998 - val_loss: 0.0456 - val_accuracy: 0.9951\n",
      "Epoch 12/100\n",
      "188/188 [==============================] - 9s 49ms/step - loss: 8.6501e-05 - accuracy: 1.0000 - val_loss: 0.0455 - val_accuracy: 0.9951\n",
      "Epoch 13/100\n",
      "188/188 [==============================] - 9s 49ms/step - loss: 2.7210e-04 - accuracy: 0.9999 - val_loss: 0.0492 - val_accuracy: 0.9944\n",
      "Epoch 14/100\n",
      "188/188 [==============================] - 9s 49ms/step - loss: 5.1654e-04 - accuracy: 0.9998 - val_loss: 0.0401 - val_accuracy: 0.9952\n",
      "Epoch 15/100\n",
      "188/188 [==============================] - 9s 49ms/step - loss: 1.9149e-04 - accuracy: 0.9999 - val_loss: 0.0407 - val_accuracy: 0.9949\n",
      "Epoch 16/100\n",
      "188/188 [==============================] - 9s 49ms/step - loss: 9.4786e-05 - accuracy: 1.0000 - val_loss: 0.0424 - val_accuracy: 0.9951\n",
      "Epoch 17/100\n",
      "188/188 [==============================] - 9s 49ms/step - loss: 2.0766e-04 - accuracy: 0.9999 - val_loss: 0.0442 - val_accuracy: 0.9952\n",
      "Epoch 18/100\n",
      "188/188 [==============================] - 9s 49ms/step - loss: 1.0031e-04 - accuracy: 1.0000 - val_loss: 0.0478 - val_accuracy: 0.9950\n",
      "Epoch 19/100\n",
      "188/188 [==============================] - 9s 49ms/step - loss: 8.6299e-05 - accuracy: 1.0000 - val_loss: 0.0446 - val_accuracy: 0.9954\n",
      "Epoch 20/100\n",
      "188/188 [==============================] - 9s 49ms/step - loss: 3.9816e-05 - accuracy: 1.0000 - val_loss: 0.0451 - val_accuracy: 0.9953\n",
      "Epoch 21/100\n",
      "188/188 [==============================] - 9s 49ms/step - loss: 2.9787e-05 - accuracy: 1.0000 - val_loss: 0.0450 - val_accuracy: 0.9951\n",
      "Epoch 22/100\n",
      "188/188 [==============================] - 9s 49ms/step - loss: 1.7925e-05 - accuracy: 1.0000 - val_loss: 0.0445 - val_accuracy: 0.9951\n",
      "Epoch 23/100\n",
      "188/188 [==============================] - 9s 49ms/step - loss: 1.0996e-05 - accuracy: 1.0000 - val_loss: 0.0454 - val_accuracy: 0.9954\n",
      "Epoch 24/100\n",
      "188/188 [==============================] - 9s 49ms/step - loss: 1.2391e-05 - accuracy: 1.0000 - val_loss: 0.0479 - val_accuracy: 0.9951\n",
      "Epoch 25/100\n",
      "188/188 [==============================] - 9s 49ms/step - loss: 9.2970e-06 - accuracy: 1.0000 - val_loss: 0.0487 - val_accuracy: 0.9950\n",
      "Epoch 26/100\n",
      "188/188 [==============================] - 9s 49ms/step - loss: 1.4070e-05 - accuracy: 1.0000 - val_loss: 0.0473 - val_accuracy: 0.9955\n",
      "Epoch 27/100\n",
      "188/188 [==============================] - 9s 49ms/step - loss: 3.0156e-05 - accuracy: 1.0000 - val_loss: 0.0517 - val_accuracy: 0.9953\n",
      "Epoch 28/100\n",
      "188/188 [==============================] - 9s 49ms/step - loss: 2.8336e-04 - accuracy: 0.9999 - val_loss: 0.0500 - val_accuracy: 0.9946\n",
      "Epoch 29/100\n",
      "188/188 [==============================] - 9s 49ms/step - loss: 1.0412e-04 - accuracy: 1.0000 - val_loss: 0.0462 - val_accuracy: 0.9951\n",
      "Epoch 30/100\n",
      "188/188 [==============================] - 9s 49ms/step - loss: 5.1302e-04 - accuracy: 0.9998 - val_loss: 0.0485 - val_accuracy: 0.9949\n",
      "Epoch 31/100\n",
      "188/188 [==============================] - 9s 49ms/step - loss: 1.5032e-04 - accuracy: 1.0000 - val_loss: 0.0447 - val_accuracy: 0.9950\n",
      "Epoch 32/100\n",
      "188/188 [==============================] - 9s 49ms/step - loss: 2.5564e-04 - accuracy: 0.9999 - val_loss: 0.0441 - val_accuracy: 0.9956\n",
      "Epoch 33/100\n",
      "188/188 [==============================] - 9s 49ms/step - loss: 1.2042e-05 - accuracy: 1.0000 - val_loss: 0.0453 - val_accuracy: 0.9954\n",
      "Epoch 34/100\n",
      "188/188 [==============================] - 9s 49ms/step - loss: 3.0284e-05 - accuracy: 1.0000 - val_loss: 0.0449 - val_accuracy: 0.9953\n",
      "Epoch 35/100\n",
      "188/188 [==============================] - 9s 49ms/step - loss: 1.2608e-05 - accuracy: 1.0000 - val_loss: 0.0450 - val_accuracy: 0.9952\n",
      "Epoch 36/100\n",
      "188/188 [==============================] - 9s 49ms/step - loss: 9.2897e-06 - accuracy: 1.0000 - val_loss: 0.0460 - val_accuracy: 0.9952\n",
      "Epoch 37/100\n",
      "188/188 [==============================] - 9s 49ms/step - loss: 5.0340e-06 - accuracy: 1.0000 - val_loss: 0.0453 - val_accuracy: 0.9952\n",
      "Epoch 38/100\n",
      "188/188 [==============================] - 9s 49ms/step - loss: 3.4392e-05 - accuracy: 1.0000 - val_loss: 0.0435 - val_accuracy: 0.9952\n",
      "Epoch 39/100\n",
      "188/188 [==============================] - 9s 49ms/step - loss: 1.2616e-05 - accuracy: 1.0000 - val_loss: 0.0438 - val_accuracy: 0.9949\n",
      "Epoch 40/100\n",
      "188/188 [==============================] - 9s 49ms/step - loss: 3.2751e-05 - accuracy: 1.0000 - val_loss: 0.0457 - val_accuracy: 0.9948\n",
      "Epoch 41/100\n",
      "188/188 [==============================] - 9s 49ms/step - loss: 7.3368e-06 - accuracy: 1.0000 - val_loss: 0.0462 - val_accuracy: 0.9950\n",
      "Epoch 42/100\n",
      "188/188 [==============================] - 9s 49ms/step - loss: 4.5531e-05 - accuracy: 1.0000 - val_loss: 0.0478 - val_accuracy: 0.9950\n",
      "Epoch 43/100\n",
      "188/188 [==============================] - 9s 49ms/step - loss: 2.2196e-05 - accuracy: 1.0000 - val_loss: 0.0488 - val_accuracy: 0.9956\n",
      "Epoch 44/100\n",
      "188/188 [==============================] - 9s 49ms/step - loss: 1.4679e-05 - accuracy: 1.0000 - val_loss: 0.0478 - val_accuracy: 0.9956\n",
      "Epoch 45/100\n",
      "188/188 [==============================] - 9s 49ms/step - loss: 1.0442e-05 - accuracy: 1.0000 - val_loss: 0.0479 - val_accuracy: 0.9954\n",
      "Epoch 46/100\n",
      "188/188 [==============================] - 9s 49ms/step - loss: 5.6502e-06 - accuracy: 1.0000 - val_loss: 0.0474 - val_accuracy: 0.9950\n",
      "Epoch 47/100\n",
      "188/188 [==============================] - 9s 49ms/step - loss: 2.1137e-04 - accuracy: 0.9999 - val_loss: 0.0455 - val_accuracy: 0.9947\n",
      "Epoch 48/100\n",
      "188/188 [==============================] - 9s 49ms/step - loss: 2.0241e-04 - accuracy: 1.0000 - val_loss: 0.0496 - val_accuracy: 0.9952\n",
      "Epoch 49/100\n",
      "188/188 [==============================] - 9s 49ms/step - loss: 1.6933e-04 - accuracy: 1.0000 - val_loss: 0.0453 - val_accuracy: 0.9952\n",
      "Epoch 50/100\n",
      "188/188 [==============================] - 9s 49ms/step - loss: 3.6917e-05 - accuracy: 1.0000 - val_loss: 0.0456 - val_accuracy: 0.9950\n",
      "Epoch 51/100\n",
      "188/188 [==============================] - 9s 49ms/step - loss: 1.1715e-04 - accuracy: 1.0000 - val_loss: 0.0475 - val_accuracy: 0.9949\n",
      "Epoch 52/100\n",
      "188/188 [==============================] - 9s 49ms/step - loss: 2.5375e-04 - accuracy: 0.9999 - val_loss: 0.0522 - val_accuracy: 0.9948\n",
      "Epoch 53/100\n",
      "188/188 [==============================] - 9s 49ms/step - loss: 1.5917e-04 - accuracy: 0.9999 - val_loss: 0.0500 - val_accuracy: 0.9953\n",
      "Epoch 54/100\n",
      "188/188 [==============================] - 9s 49ms/step - loss: 1.0044e-04 - accuracy: 1.0000 - val_loss: 0.0471 - val_accuracy: 0.9954\n",
      "Epoch 55/100\n",
      "188/188 [==============================] - 9s 49ms/step - loss: 2.9664e-05 - accuracy: 1.0000 - val_loss: 0.0450 - val_accuracy: 0.9955\n",
      "Epoch 56/100\n"
     ]
    },
    {
     "name": "stdout",
     "output_type": "stream",
     "text": [
      "188/188 [==============================] - 9s 49ms/step - loss: 5.8041e-06 - accuracy: 1.0000 - val_loss: 0.0455 - val_accuracy: 0.9956\n",
      "Epoch 57/100\n",
      "188/188 [==============================] - 9s 49ms/step - loss: 7.4715e-06 - accuracy: 1.0000 - val_loss: 0.0464 - val_accuracy: 0.9956\n",
      "Epoch 58/100\n",
      "188/188 [==============================] - 9s 49ms/step - loss: 6.7507e-06 - accuracy: 1.0000 - val_loss: 0.0474 - val_accuracy: 0.9958\n",
      "Epoch 59/100\n",
      "188/188 [==============================] - 9s 49ms/step - loss: 7.0538e-06 - accuracy: 1.0000 - val_loss: 0.0481 - val_accuracy: 0.9956\n",
      "Epoch 60/100\n",
      "188/188 [==============================] - 9s 49ms/step - loss: 1.2758e-04 - accuracy: 1.0000 - val_loss: 0.0461 - val_accuracy: 0.9956\n",
      "Epoch 61/100\n",
      "188/188 [==============================] - 9s 49ms/step - loss: 2.2661e-04 - accuracy: 0.9999 - val_loss: 0.0477 - val_accuracy: 0.9953\n",
      "Epoch 62/100\n",
      "188/188 [==============================] - 9s 49ms/step - loss: 1.3127e-04 - accuracy: 0.9999 - val_loss: 0.0478 - val_accuracy: 0.9951\n",
      "Epoch 63/100\n",
      "188/188 [==============================] - 9s 49ms/step - loss: 2.9093e-04 - accuracy: 0.9999 - val_loss: 0.0488 - val_accuracy: 0.9951\n",
      "Epoch 64/100\n",
      "188/188 [==============================] - 9s 49ms/step - loss: 4.1255e-05 - accuracy: 1.0000 - val_loss: 0.0474 - val_accuracy: 0.9949\n",
      "Epoch 65/100\n",
      "188/188 [==============================] - 9s 49ms/step - loss: 1.6390e-04 - accuracy: 1.0000 - val_loss: 0.0464 - val_accuracy: 0.9953\n",
      "Epoch 66/100\n",
      "188/188 [==============================] - 9s 49ms/step - loss: 9.9532e-05 - accuracy: 1.0000 - val_loss: 0.0473 - val_accuracy: 0.9952\n",
      "Epoch 67/100\n",
      "188/188 [==============================] - 9s 49ms/step - loss: 1.5814e-04 - accuracy: 0.9999 - val_loss: 0.0491 - val_accuracy: 0.9951\n",
      "Epoch 68/100\n",
      "188/188 [==============================] - 9s 49ms/step - loss: 8.5253e-05 - accuracy: 1.0000 - val_loss: 0.0487 - val_accuracy: 0.9950\n",
      "Epoch 69/100\n",
      "188/188 [==============================] - 9s 49ms/step - loss: 1.2831e-04 - accuracy: 1.0000 - val_loss: 0.0471 - val_accuracy: 0.9952\n",
      "Epoch 70/100\n",
      "188/188 [==============================] - 9s 49ms/step - loss: 3.6705e-05 - accuracy: 1.0000 - val_loss: 0.0483 - val_accuracy: 0.9950\n",
      "Epoch 71/100\n",
      "188/188 [==============================] - 9s 49ms/step - loss: 2.1284e-05 - accuracy: 1.0000 - val_loss: 0.0470 - val_accuracy: 0.9953\n",
      "Epoch 72/100\n",
      "188/188 [==============================] - 9s 49ms/step - loss: 5.4793e-06 - accuracy: 1.0000 - val_loss: 0.0472 - val_accuracy: 0.9954\n",
      "Epoch 73/100\n",
      "188/188 [==============================] - 9s 49ms/step - loss: 3.5148e-05 - accuracy: 1.0000 - val_loss: 0.0476 - val_accuracy: 0.9952\n",
      "Epoch 74/100\n",
      "188/188 [==============================] - 9s 49ms/step - loss: 5.7609e-05 - accuracy: 1.0000 - val_loss: 0.0481 - val_accuracy: 0.9954\n",
      "Epoch 75/100\n",
      "188/188 [==============================] - 9s 49ms/step - loss: 5.6123e-05 - accuracy: 1.0000 - val_loss: 0.0509 - val_accuracy: 0.9951\n",
      "Epoch 76/100\n",
      "188/188 [==============================] - 9s 49ms/step - loss: 2.7921e-04 - accuracy: 0.9999 - val_loss: 0.0468 - val_accuracy: 0.9952\n",
      "Epoch 77/100\n",
      "188/188 [==============================] - 9s 49ms/step - loss: 5.5479e-06 - accuracy: 1.0000 - val_loss: 0.0470 - val_accuracy: 0.9952\n",
      "Epoch 78/100\n",
      "188/188 [==============================] - 9s 49ms/step - loss: 2.8834e-05 - accuracy: 1.0000 - val_loss: 0.0468 - val_accuracy: 0.9952\n",
      "Epoch 79/100\n",
      "188/188 [==============================] - 9s 49ms/step - loss: 5.8903e-06 - accuracy: 1.0000 - val_loss: 0.0474 - val_accuracy: 0.9953\n",
      "Epoch 80/100\n",
      "188/188 [==============================] - 9s 49ms/step - loss: 1.2512e-05 - accuracy: 1.0000 - val_loss: 0.0483 - val_accuracy: 0.9952\n",
      "Epoch 81/100\n",
      "188/188 [==============================] - 9s 49ms/step - loss: 1.4425e-05 - accuracy: 1.0000 - val_loss: 0.0510 - val_accuracy: 0.9952\n",
      "Epoch 82/100\n",
      "188/188 [==============================] - 9s 49ms/step - loss: 2.1864e-05 - accuracy: 1.0000 - val_loss: 0.0517 - val_accuracy: 0.9949\n",
      "Epoch 83/100\n",
      "188/188 [==============================] - 9s 49ms/step - loss: 1.3549e-04 - accuracy: 1.0000 - val_loss: 0.0513 - val_accuracy: 0.9952\n",
      "Epoch 84/100\n",
      "188/188 [==============================] - 9s 49ms/step - loss: 2.2764e-05 - accuracy: 1.0000 - val_loss: 0.0488 - val_accuracy: 0.9955\n",
      "Epoch 85/100\n",
      "188/188 [==============================] - 9s 49ms/step - loss: 1.3359e-04 - accuracy: 1.0000 - val_loss: 0.0473 - val_accuracy: 0.9954\n",
      "Epoch 86/100\n",
      "188/188 [==============================] - 9s 49ms/step - loss: 2.0974e-04 - accuracy: 0.9999 - val_loss: 0.0474 - val_accuracy: 0.9955\n",
      "Epoch 87/100\n",
      "188/188 [==============================] - 9s 49ms/step - loss: 3.5491e-05 - accuracy: 1.0000 - val_loss: 0.0476 - val_accuracy: 0.9953\n",
      "Epoch 88/100\n",
      "188/188 [==============================] - 9s 49ms/step - loss: 2.5464e-05 - accuracy: 1.0000 - val_loss: 0.0479 - val_accuracy: 0.9953\n",
      "Epoch 89/100\n",
      "188/188 [==============================] - 9s 49ms/step - loss: 2.1065e-04 - accuracy: 0.9999 - val_loss: 0.0516 - val_accuracy: 0.9954\n",
      "Epoch 90/100\n",
      "188/188 [==============================] - 9s 49ms/step - loss: 1.3313e-04 - accuracy: 1.0000 - val_loss: 0.0485 - val_accuracy: 0.9954\n",
      "Epoch 91/100\n",
      "188/188 [==============================] - 9s 49ms/step - loss: 7.8860e-05 - accuracy: 1.0000 - val_loss: 0.0499 - val_accuracy: 0.9956\n",
      "Epoch 92/100\n",
      "188/188 [==============================] - 9s 49ms/step - loss: 4.1180e-05 - accuracy: 1.0000 - val_loss: 0.0507 - val_accuracy: 0.9954\n",
      "Epoch 93/100\n",
      "188/188 [==============================] - 9s 49ms/step - loss: 4.2467e-06 - accuracy: 1.0000 - val_loss: 0.0501 - val_accuracy: 0.9954\n",
      "Epoch 94/100\n",
      "188/188 [==============================] - 9s 49ms/step - loss: 1.3180e-06 - accuracy: 1.0000 - val_loss: 0.0500 - val_accuracy: 0.9954\n",
      "Epoch 95/100\n",
      "188/188 [==============================] - 9s 49ms/step - loss: 2.1456e-05 - accuracy: 1.0000 - val_loss: 0.0523 - val_accuracy: 0.9953\n",
      "Epoch 96/100\n",
      "188/188 [==============================] - 9s 49ms/step - loss: 9.3802e-05 - accuracy: 1.0000 - val_loss: 0.0519 - val_accuracy: 0.9958\n",
      "Epoch 97/100\n",
      "188/188 [==============================] - 9s 49ms/step - loss: 3.0902e-04 - accuracy: 0.9999 - val_loss: 0.0536 - val_accuracy: 0.9952\n",
      "Epoch 98/100\n",
      "188/188 [==============================] - 9s 49ms/step - loss: 1.5122e-04 - accuracy: 1.0000 - val_loss: 0.0510 - val_accuracy: 0.9957\n"
     ]
    }
   ],
   "source": [
    "# EarlyStopping Val 10번이상 떨어지면 학습 중지\n",
    "import tensorflow as tf\n",
    "#with tf.device('/gpu:1'):\n",
    "earlystopper = EarlyStopping(monitor='val_accuracy', patience=40, verbose=0, mode='auto')\n",
    "history = model.fit(X_train, Y_train, batch_size=256, epochs=100, validation_split=0.2, callbacks = [earlystopper])"
   ]
  },
  {
   "cell_type": "markdown",
   "metadata": {},
   "source": [
    "## (5) 모델 평가하기"
   ]
  },
  {
   "cell_type": "code",
   "execution_count": 143,
   "metadata": {
    "scrolled": false
   },
   "outputs": [
    {
     "name": "stdout",
     "output_type": "stream",
     "text": [
      "79/79 [==============================] - 1s 10ms/step - loss: 0.0411 - accuracy: 0.9957\n",
      "loss : 0.0411, accruracy : 0.9957\n"
     ]
    }
   ],
   "source": [
    "loss_and_accuracy = model.evaluate(X_test, Y_test, batch_size=128)\n",
    "print('loss : %.4f, accruracy : %.4f'%(loss_and_accuracy[0],loss_and_accuracy[1]))"
   ]
  },
  {
   "cell_type": "markdown",
   "metadata": {},
   "source": [
    "## (6) 모델 사용하기"
   ]
  },
  {
   "cell_type": "code",
   "execution_count": null,
   "metadata": {},
   "outputs": [],
   "source": [
    "import random\n",
    "\n",
    "predicted_result = model.predict(X_test)\n",
    "predicted_labels = np.argmax(predicted_result, axis = 1)\n",
    "test_labels = np.argmax(Y_test, axis = 1)\n",
    "wrong_result = []\n",
    "\n",
    "for n in range(0, len(test_labels)):\n",
    "    if predicted_labels[n] != test_labels[n]:\n",
    "        wrong_result.append(n)     \n",
    "\n",
    "samples = random.choices(population = wrong_result, k = 15)\n",
    "count = 0\n",
    "nrows = ncols = 5\n",
    "plt.figure(figsize = (12, 8))\n",
    "\n",
    "for n in samples:\n",
    "    count += 1\n",
    "    plt.subplot(nrows, ncols, count)\n",
    "    plt.imshow(X_test[n].reshape(28, 28), cmap = 'Greys', interpolation = 'nearest')\n",
    "    tmp = 'label:' + str(test_labels[n]) + ', Prediction: ' + str(predicted_labels[n])\n",
    "    plt.title(tmp)\n",
    "## (5) 모델 평가하기\n",
    "plt.tight_layout()\n",
    "plt.show()"
   ]
  }
 ],
 "metadata": {
  "kernelspec": {
   "display_name": "Proj",
   "language": "python",
   "name": "intern_project"
  },
  "language_info": {
   "codemirror_mode": {
    "name": "ipython",
    "version": 3
   },
   "file_extension": ".py",
   "mimetype": "text/x-python",
   "name": "python",
   "nbconvert_exporter": "python",
   "pygments_lexer": "ipython3",
   "version": "3.6.13"
  },
  "toc": {
   "base_numbering": 1,
   "nav_menu": {},
   "number_sections": false,
   "sideBar": true,
   "skip_h1_title": false,
   "title_cell": "Table of Contents",
   "title_sidebar": "Contents",
   "toc_cell": false,
   "toc_position": {
    "height": "calc(100% - 180px)",
    "left": "10px",
    "top": "150px",
    "width": "286px"
   },
   "toc_section_display": true,
   "toc_window_display": true
  },
  "varInspector": {
   "cols": {
    "lenName": 16,
    "lenType": 16,
    "lenVar": 40
   },
   "kernels_config": {
    "python": {
     "delete_cmd_postfix": "",
     "delete_cmd_prefix": "del ",
     "library": "var_list.py",
     "varRefreshCmd": "print(var_dic_list())"
    },
    "r": {
     "delete_cmd_postfix": ") ",
     "delete_cmd_prefix": "rm(",
     "library": "var_list.r",
     "varRefreshCmd": "cat(var_dic_list()) "
    }
   },
   "types_to_exclude": [
    "module",
    "function",
    "builtin_function_or_method",
    "instance",
    "_Feature"
   ],
   "window_display": false
  }
 },
 "nbformat": 4,
 "nbformat_minor": 4
}
