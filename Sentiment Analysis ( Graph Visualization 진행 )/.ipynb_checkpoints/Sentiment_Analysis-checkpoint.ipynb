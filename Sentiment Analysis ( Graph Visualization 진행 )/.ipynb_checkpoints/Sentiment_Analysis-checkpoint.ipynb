{
 "cells": [
  {
   "cell_type": "markdown",
   "id": "9cff7e3a",
   "metadata": {},
   "source": [
    "\n",
    "**참고자료**\n",
    "<br>\n",
    "<br>\n",
    " * https://somjang.tistory.com/entry/Keras%EA%B8%B0%EC%82%AC-%EC%A0%9C%EB%AA%A9%EC%9D%84-%EA%B0%80%EC%A7%80%EA%B3%A0-%EA%B8%8D%EC%A0%95-%EB%B6%80%EC%A0%95-%EC%A4%91%EB%A6%BD-%EB%B6%84%EB%A5%98%ED%95%98%EB%8A%94-%EB%AA%A8%EB%8D%B8-%EB%A7%8C%EB%93%A4%EC%96%B4%EB%B3%B4%EA%B8%B0\n",
    "<br>\n",
    "<br>\n",
    " * https://sig413.tistory.com/5\n",
    "<br>\n",
    "<br>\n",
    " * https://www.youtube.com/watch?v=7GUoDHxN5NM"
   ]
  },
  {
   "cell_type": "markdown",
   "id": "746e088d",
   "metadata": {},
   "source": [
    "# 네이버 기사 감정 분석\n",
    "\n",
    "## 데이터 불러오기\n",
    "<br>\n",
    "\n",
    "**데이터 특성 정의( 각각의 데이터가 어떤 특성을 가지는지? )**\n",
    "\n",
    "    ▶ date : 등록된 기사별 날짜\n",
    "    ▶ title : 기사 제목\n",
    "    ▶ source : 언론사\n",
    "    ▶ contents : 기사 내용 요약본\n",
    "    ▶ link : 사이트 주소\n",
    "\n",
    "※ : 네이버 뉴스 기준으로 Test... ( 구글 뉴스데이터와 병합해서 전처리 실시 예정 )"
   ]
  },
  {
   "cell_type": "code",
   "execution_count": 1,
   "id": "a2be10e9",
   "metadata": {
    "ExecuteTime": {
     "end_time": "2022-05-19T23:54:15.508664Z",
     "start_time": "2022-05-19T23:54:12.301459Z"
    },
    "scrolled": true
   },
   "outputs": [],
   "source": [
    "import pandas as pd\n",
    "import numpy as np\n",
    "import matplotlib\n",
    "import datetime, time\n",
    "import re\n",
    "import timedelta\n",
    "import matplotlib.pyplot as plt\n",
    "import seaborn as sns"
   ]
  },
  {
   "cell_type": "code",
   "execution_count": 2,
   "id": "f441fef5",
   "metadata": {
    "ExecuteTime": {
     "end_time": "2022-05-19T23:54:15.523624Z",
     "start_time": "2022-05-19T23:54:15.509661Z"
    }
   },
   "outputs": [],
   "source": [
    "# 시각화 글자 깨짐 방지\n",
    "import os\n",
    "\n",
    "if os.name == 'posix':\n",
    "    plt.rc(\"font\", family=\"AppleGothic\")\n",
    "else:\n",
    "    plt.rc(\"font\", family=\"Malgun Gothic\")"
   ]
  },
  {
   "cell_type": "code",
   "execution_count": 3,
   "id": "f4ffc5a8",
   "metadata": {
    "ExecuteTime": {
     "end_time": "2022-05-19T23:54:15.658264Z",
     "start_time": "2022-05-19T23:54:15.524622Z"
    }
   },
   "outputs": [
    {
     "name": "stdout",
     "output_type": "stream",
     "text": [
      "(12867, 12)\n"
     ]
    },
    {
     "data": {
      "text/html": [
       "<div>\n",
       "<style scoped>\n",
       "    .dataframe tbody tr th:only-of-type {\n",
       "        vertical-align: middle;\n",
       "    }\n",
       "\n",
       "    .dataframe tbody tr th {\n",
       "        vertical-align: top;\n",
       "    }\n",
       "\n",
       "    .dataframe thead th {\n",
       "        text-align: right;\n",
       "    }\n",
       "</style>\n",
       "<table border=\"1\" class=\"dataframe\">\n",
       "  <thead>\n",
       "    <tr style=\"text-align: right;\">\n",
       "      <th></th>\n",
       "      <th>Unnamed: 0</th>\n",
       "      <th>date</th>\n",
       "      <th>title</th>\n",
       "      <th>source</th>\n",
       "      <th>contents</th>\n",
       "      <th>link</th>\n",
       "      <th>Unnamed: 6</th>\n",
       "      <th>Unnamed: 7</th>\n",
       "      <th>Unnamed: 8</th>\n",
       "      <th>Unnamed: 9</th>\n",
       "      <th>Unnamed: 10</th>\n",
       "      <th>Unnamed: 11</th>\n",
       "    </tr>\n",
       "  </thead>\n",
       "  <tbody>\n",
       "    <tr>\n",
       "      <th>0</th>\n",
       "      <td>0</td>\n",
       "      <td>2021.05.01.</td>\n",
       "      <td>DGB대구은행, 은행권 중금리대출 실적 1위</td>\n",
       "      <td>글로벌이코노믹</td>\n",
       "      <td>DGB대구은행의 중금리대출 실적이 지방은행뿐만 아니라 은행권 전체에서 가장 많은 것...</td>\n",
       "      <td>http://www.g-enews.com/ko-kr/news/article/news...</td>\n",
       "      <td>NaN</td>\n",
       "      <td>NaN</td>\n",
       "      <td>NaN</td>\n",
       "      <td>NaN</td>\n",
       "      <td>NaN</td>\n",
       "      <td>NaN</td>\n",
       "    </tr>\n",
       "  </tbody>\n",
       "</table>\n",
       "</div>"
      ],
      "text/plain": [
       "   Unnamed: 0         date                     title   source  \\\n",
       "0           0  2021.05.01.  DGB대구은행, 은행권 중금리대출 실적 1위  글로벌이코노믹   \n",
       "\n",
       "                                            contents  \\\n",
       "0  DGB대구은행의 중금리대출 실적이 지방은행뿐만 아니라 은행권 전체에서 가장 많은 것...   \n",
       "\n",
       "                                                link Unnamed: 6 Unnamed: 7  \\\n",
       "0  http://www.g-enews.com/ko-kr/news/article/news...        NaN        NaN   \n",
       "\n",
       "  Unnamed: 8 Unnamed: 9 Unnamed: 10 Unnamed: 11  \n",
       "0        NaN        NaN         NaN         NaN  "
      ]
     },
     "execution_count": 3,
     "metadata": {},
     "output_type": "execute_result"
    }
   ],
   "source": [
    "matplotlib.rc('font',family='NanumGothic')\n",
    "\n",
    "# 한글 폰트 적용\n",
    "matplotlib.rc('axes', unicode_minus = False) # True\n",
    "\n",
    "# 2022 / 04 / 21 일자 스크래핑 데이터\n",
    "# df_news = pd.read_csv('./news_data.csv', engine= 'python',encoding = 'utf-8')\n",
    "df_news = pd.read_csv('./news_data(Raw_Data 2021.05.01 ~ 2022.05.01 검색어-DGB대구은행).csv', engine= 'python',encoding = 'utf-8')\n",
    "\n",
    "# (행, 열)\n",
    "print(df_news.shape)\n",
    "df_news.head(1)"
   ]
  },
  {
   "cell_type": "code",
   "execution_count": 4,
   "id": "eb89b858",
   "metadata": {
    "ExecuteTime": {
     "end_time": "2022-05-19T23:54:15.673224Z",
     "start_time": "2022-05-19T23:54:15.659261Z"
    },
    "scrolled": true
   },
   "outputs": [
    {
     "name": "stdout",
     "output_type": "stream",
     "text": [
      "<class 'pandas.core.frame.DataFrame'>\n",
      "RangeIndex: 12867 entries, 0 to 12866\n",
      "Data columns (total 12 columns):\n",
      " #   Column       Non-Null Count  Dtype \n",
      "---  ------       --------------  ----- \n",
      " 0   Unnamed: 0   12867 non-null  int64 \n",
      " 1   date         12867 non-null  object\n",
      " 2   title        12867 non-null  object\n",
      " 3   source       12867 non-null  object\n",
      " 4   contents     12864 non-null  object\n",
      " 5   link         12867 non-null  object\n",
      " 6   Unnamed: 6   108 non-null    object\n",
      " 7   Unnamed: 7   65 non-null     object\n",
      " 8   Unnamed: 8   14 non-null     object\n",
      " 9   Unnamed: 9   14 non-null     object\n",
      " 10  Unnamed: 10  6 non-null      object\n",
      " 11  Unnamed: 11  5 non-null      object\n",
      "dtypes: int64(1), object(11)\n",
      "memory usage: 1.2+ MB\n"
     ]
    }
   ],
   "source": [
    "# 데이터 구조 파악시 용이\n",
    "df_news.info()"
   ]
  },
  {
   "cell_type": "markdown",
   "id": "88a27fb0",
   "metadata": {},
   "source": [
    "# 데이터 전처리"
   ]
  },
  {
   "cell_type": "markdown",
   "id": "580d9198",
   "metadata": {},
   "source": [
    "## 이상치와 결측치 제거 / 데이터 특성(구조) 확인\n",
    "    ▶ 필요없는 컬럼 제거\n",
    "    ▶ 컬럼명과 순서 변경 \n",
    "    ▶ 데이터 구조 파악 - info, head\n",
    "    \n",
    "    ▶ 우선 'DGB대구은행'과 필요없는 언론사는 버리고 인덱스번호도 초기화 시켜야 함.\n",
    "    예를 들면, 축구관련 기사\n",
    "\n",
    "    제목과 요약본 기준\n",
    "    '감독' / '신태용' / 'DGB대구은행파크' / '대표팀' / '경기' / '스포츠' / '축구'\n",
    "    참고 사이트 : https://jimmy-ai.tistory.com/92\n",
    "※ : 수치별 데이터가 아니므로 이상치는 굳이 확인할 필요가 없다고 판단"
   ]
  },
  {
   "cell_type": "code",
   "execution_count": 5,
   "id": "9372f5e9",
   "metadata": {
    "ExecuteTime": {
     "end_time": "2022-05-19T23:54:15.688185Z",
     "start_time": "2022-05-19T23:54:15.674222Z"
    }
   },
   "outputs": [],
   "source": [
    "# 필요한 데이터만 추출 / 컬럼명 변경\n",
    "df_news = df_news.loc[:,['date', 'title', 'source', 'contents']]\n",
    "df_news.rename(columns={'source' : 'press'}, inplace=True)"
   ]
  },
  {
   "cell_type": "code",
   "execution_count": 6,
   "id": "0f4202a2",
   "metadata": {
    "ExecuteTime": {
     "end_time": "2022-05-19T23:54:15.703144Z",
     "start_time": "2022-05-19T23:54:15.689182Z"
    }
   },
   "outputs": [
    {
     "name": "stdout",
     "output_type": "stream",
     "text": [
      "<class 'pandas.core.frame.DataFrame'>\n",
      "RangeIndex: 12867 entries, 0 to 12866\n",
      "Data columns (total 4 columns):\n",
      " #   Column    Non-Null Count  Dtype \n",
      "---  ------    --------------  ----- \n",
      " 0   date      12867 non-null  object\n",
      " 1   title     12867 non-null  object\n",
      " 2   press     12867 non-null  object\n",
      " 3   contents  12864 non-null  object\n",
      "dtypes: object(4)\n",
      "memory usage: 402.2+ KB\n"
     ]
    }
   ],
   "source": [
    "df_news.info()"
   ]
  },
  {
   "cell_type": "code",
   "execution_count": 7,
   "id": "92d67a0c",
   "metadata": {
    "ExecuteTime": {
     "end_time": "2022-05-19T23:54:15.718104Z",
     "start_time": "2022-05-19T23:54:15.704142Z"
    },
    "scrolled": true
   },
   "outputs": [
    {
     "data": {
      "text/html": [
       "<div>\n",
       "<style scoped>\n",
       "    .dataframe tbody tr th:only-of-type {\n",
       "        vertical-align: middle;\n",
       "    }\n",
       "\n",
       "    .dataframe tbody tr th {\n",
       "        vertical-align: top;\n",
       "    }\n",
       "\n",
       "    .dataframe thead th {\n",
       "        text-align: right;\n",
       "    }\n",
       "</style>\n",
       "<table border=\"1\" class=\"dataframe\">\n",
       "  <thead>\n",
       "    <tr style=\"text-align: right;\">\n",
       "      <th></th>\n",
       "      <th>date</th>\n",
       "      <th>title</th>\n",
       "      <th>press</th>\n",
       "      <th>contents</th>\n",
       "    </tr>\n",
       "  </thead>\n",
       "  <tbody>\n",
       "    <tr>\n",
       "      <th>0</th>\n",
       "      <td>2021.05.01.</td>\n",
       "      <td>DGB대구은행, 은행권 중금리대출 실적 1위</td>\n",
       "      <td>글로벌이코노믹</td>\n",
       "      <td>DGB대구은행의 중금리대출 실적이 지방은행뿐만 아니라 은행권 전체에서 가장 많은 것...</td>\n",
       "    </tr>\n",
       "  </tbody>\n",
       "</table>\n",
       "</div>"
      ],
      "text/plain": [
       "          date                     title    press  \\\n",
       "0  2021.05.01.  DGB대구은행, 은행권 중금리대출 실적 1위  글로벌이코노믹   \n",
       "\n",
       "                                            contents  \n",
       "0  DGB대구은행의 중금리대출 실적이 지방은행뿐만 아니라 은행권 전체에서 가장 많은 것...  "
      ]
     },
     "execution_count": 7,
     "metadata": {},
     "output_type": "execute_result"
    }
   ],
   "source": [
    "df_news.head(1)"
   ]
  },
  {
   "cell_type": "code",
   "execution_count": 8,
   "id": "c9c9c087",
   "metadata": {
    "ExecuteTime": {
     "end_time": "2022-05-19T23:54:15.733064Z",
     "start_time": "2022-05-19T23:54:15.720099Z"
    }
   },
   "outputs": [
    {
     "data": {
      "text/plain": [
       "date        0\n",
       "title       0\n",
       "press       0\n",
       "contents    3\n",
       "dtype: int64"
      ]
     },
     "execution_count": 8,
     "metadata": {},
     "output_type": "execute_result"
    }
   ],
   "source": [
    "# 행별로 null값 존재 유무 파악 --> 결측치 contents쪽에 3개 존재.\n",
    "df_news.isnull().sum(axis = 0)"
   ]
  },
  {
   "cell_type": "code",
   "execution_count": 9,
   "id": "12ba1ef7",
   "metadata": {
    "ExecuteTime": {
     "end_time": "2022-05-19T23:54:15.748024Z",
     "start_time": "2022-05-19T23:54:15.734062Z"
    }
   },
   "outputs": [
    {
     "data": {
      "text/html": [
       "<div>\n",
       "<style scoped>\n",
       "    .dataframe tbody tr th:only-of-type {\n",
       "        vertical-align: middle;\n",
       "    }\n",
       "\n",
       "    .dataframe tbody tr th {\n",
       "        vertical-align: top;\n",
       "    }\n",
       "\n",
       "    .dataframe thead th {\n",
       "        text-align: right;\n",
       "    }\n",
       "</style>\n",
       "<table border=\"1\" class=\"dataframe\">\n",
       "  <thead>\n",
       "    <tr style=\"text-align: right;\">\n",
       "      <th></th>\n",
       "      <th>date</th>\n",
       "      <th>title</th>\n",
       "      <th>press</th>\n",
       "      <th>contents</th>\n",
       "    </tr>\n",
       "  </thead>\n",
       "  <tbody>\n",
       "    <tr>\n",
       "      <th>3217</th>\n",
       "      <td>2021.08.04.</td>\n",
       "      <td>검찰 '캄보디아 부동산 계약 사고' 관련 대구은행 압수수색</td>\n",
       "      <td>뉴스1</td>\n",
       "      <td>오류:509</td>\n",
       "    </tr>\n",
       "    <tr>\n",
       "      <th>3218</th>\n",
       "      <td>2021.08.04.</td>\n",
       "      <td>검찰 '캄보디아 부동산 계약 사고' 관련 대구은행 압수수색</td>\n",
       "      <td>뉴스1</td>\n",
       "      <td>오류:509</td>\n",
       "    </tr>\n",
       "    <tr>\n",
       "      <th>3219</th>\n",
       "      <td>2021.08.04.</td>\n",
       "      <td>검찰 '캄보디아 부동산 계약 사고' 관련 대구은행 압수수색</td>\n",
       "      <td>뉴스1</td>\n",
       "      <td>오류:509</td>\n",
       "    </tr>\n",
       "    <tr>\n",
       "      <th>3226</th>\n",
       "      <td>2021.08.04.</td>\n",
       "      <td>검찰, 대구은행 압수수색..캄보디아 부동산 매입 손실 사건</td>\n",
       "      <td>뉴스1</td>\n",
       "      <td>오류:509</td>\n",
       "    </tr>\n",
       "    <tr>\n",
       "      <th>3227</th>\n",
       "      <td>2021.08.04.</td>\n",
       "      <td>검찰, 대구은행 압수수색..캄보디아 부동산 매입 손실 사건</td>\n",
       "      <td>뉴스1</td>\n",
       "      <td>오류:509</td>\n",
       "    </tr>\n",
       "  </tbody>\n",
       "</table>\n",
       "</div>"
      ],
      "text/plain": [
       "             date                             title press contents\n",
       "3217  2021.08.04.  검찰 '캄보디아 부동산 계약 사고' 관련 대구은행 압수수색   뉴스1   오류:509\n",
       "3218  2021.08.04.  검찰 '캄보디아 부동산 계약 사고' 관련 대구은행 압수수색   뉴스1   오류:509\n",
       "3219  2021.08.04.  검찰 '캄보디아 부동산 계약 사고' 관련 대구은행 압수수색   뉴스1   오류:509\n",
       "3226  2021.08.04.  검찰, 대구은행 압수수색..캄보디아 부동산 매입 손실 사건   뉴스1   오류:509\n",
       "3227  2021.08.04.  검찰, 대구은행 압수수색..캄보디아 부동산 매입 손실 사건   뉴스1   오류:509"
      ]
     },
     "execution_count": 9,
     "metadata": {},
     "output_type": "execute_result"
    }
   ],
   "source": [
    "df_news[df_news['contents'].str.contains('오류', na=False)][:5]"
   ]
  },
  {
   "cell_type": "code",
   "execution_count": 10,
   "id": "80cd9a9f",
   "metadata": {
    "ExecuteTime": {
     "end_time": "2022-05-19T23:54:15.822824Z",
     "start_time": "2022-05-19T23:54:15.749021Z"
    }
   },
   "outputs": [
    {
     "name": "stdout",
     "output_type": "stream",
     "text": [
      "이상치 제거 전: 51\n",
      "이상치 제거 후: 0\n"
     ]
    }
   ],
   "source": [
    "# 불필요한 내용 삭제 / contents의 길이가 20이하 또는 title의 길이가 10 이하인 데이터\n",
    "df_news.head()\n",
    "\n",
    "# 51개 스크래핑 오류\n",
    "\n",
    "print('이상치 제거 전:',len(df_news[df_news['contents'].str.contains('오류', na=False)]))\n",
    "\n",
    "for i in df_news[df_news['contents'].str.contains('오류', na=False)].index:\n",
    "    df_news.drop(i, axis=0, inplace=True)\n",
    "    \n",
    "print('이상치 제거 후:',len(df_news[df_news['contents'].str.contains('오류', na=False)]))"
   ]
  },
  {
   "cell_type": "code",
   "execution_count": 11,
   "id": "9020b119",
   "metadata": {
    "ExecuteTime": {
     "end_time": "2022-05-19T23:54:15.837813Z",
     "start_time": "2022-05-19T23:54:15.823821Z"
    }
   },
   "outputs": [
    {
     "data": {
      "text/html": [
       "<div>\n",
       "<style scoped>\n",
       "    .dataframe tbody tr th:only-of-type {\n",
       "        vertical-align: middle;\n",
       "    }\n",
       "\n",
       "    .dataframe tbody tr th {\n",
       "        vertical-align: top;\n",
       "    }\n",
       "\n",
       "    .dataframe thead th {\n",
       "        text-align: right;\n",
       "    }\n",
       "</style>\n",
       "<table border=\"1\" class=\"dataframe\">\n",
       "  <thead>\n",
       "    <tr style=\"text-align: right;\">\n",
       "      <th></th>\n",
       "      <th>date</th>\n",
       "      <th>title</th>\n",
       "      <th>press</th>\n",
       "      <th>contents</th>\n",
       "    </tr>\n",
       "  </thead>\n",
       "  <tbody>\n",
       "    <tr>\n",
       "      <th>0</th>\n",
       "      <td>2021.05.01.</td>\n",
       "      <td>DGB대구은행, 은행권 중금리대출 실적 1위</td>\n",
       "      <td>글로벌이코노믹</td>\n",
       "      <td>DGB대구은행의 중금리대출 실적이 지방은행뿐만 아니라 은행권 전체에서 가장 많은 것...</td>\n",
       "    </tr>\n",
       "  </tbody>\n",
       "</table>\n",
       "</div>"
      ],
      "text/plain": [
       "          date                     title    press  \\\n",
       "0  2021.05.01.  DGB대구은행, 은행권 중금리대출 실적 1위  글로벌이코노믹   \n",
       "\n",
       "                                            contents  \n",
       "0  DGB대구은행의 중금리대출 실적이 지방은행뿐만 아니라 은행권 전체에서 가장 많은 것...  "
      ]
     },
     "execution_count": 11,
     "metadata": {},
     "output_type": "execute_result"
    }
   ],
   "source": [
    "df_news.head(1)"
   ]
  },
  {
   "cell_type": "code",
   "execution_count": 12,
   "id": "065f6b41",
   "metadata": {
    "ExecuteTime": {
     "end_time": "2022-05-19T23:54:15.867704Z",
     "start_time": "2022-05-19T23:54:15.838781Z"
    }
   },
   "outputs": [
    {
     "name": "stdout",
     "output_type": "stream",
     "text": [
      "(12816, 4)\n",
      "중복행 제거 전 데이터 : 12816\n",
      "중복행 갯수 : 165개\n",
      "중복행 제거 후 데이터 : 10691\n"
     ]
    }
   ],
   "source": [
    "# 중복행 제거 --> 분석하는데 안 좋을 수도 있으니 신중한 고려가 필요함.\n",
    "# 참고 : https://sy-log.tistory.com/60\n",
    "\n",
    "print(df_news.shape)\n",
    "print('중복행 제거 전 데이터 :', len(df_news))\n",
    "# 중복행 살림.\n",
    "print('중복행 갯수 : %d개' % df_news.duplicated().sum())\n",
    "print('중복행 제거 후 데이터 :', len(df_news.drop_duplicates(['title'], keep = False)))"
   ]
  },
  {
   "cell_type": "code",
   "execution_count": 13,
   "id": "7fdcac53",
   "metadata": {
    "ExecuteTime": {
     "end_time": "2022-05-19T23:54:15.882664Z",
     "start_time": "2022-05-19T23:54:15.868701Z"
    }
   },
   "outputs": [
    {
     "data": {
      "text/plain": [
       "12816"
      ]
     },
     "execution_count": 13,
     "metadata": {},
     "output_type": "execute_result"
    }
   ],
   "source": [
    "# 중복 제거 일부러 하지 않음.\n",
    "len(df_news)"
   ]
  },
  {
   "cell_type": "code",
   "execution_count": 14,
   "id": "9c0f035f",
   "metadata": {
    "ExecuteTime": {
     "end_time": "2022-05-19T23:54:15.897623Z",
     "start_time": "2022-05-19T23:54:15.883662Z"
    }
   },
   "outputs": [],
   "source": [
    "# AND용\n",
    "# target_string = ['서울', '마포']\n",
    "# df[df['주소'].map(lambda x: all(string in x for string in target_string))]\n",
    "# df_news.head()"
   ]
  },
  {
   "cell_type": "code",
   "execution_count": 15,
   "id": "c7470143",
   "metadata": {
    "ExecuteTime": {
     "end_time": "2022-05-19T23:54:15.912584Z",
     "start_time": "2022-05-19T23:54:15.898621Z"
    }
   },
   "outputs": [
    {
     "data": {
      "text/plain": [
       "12816"
      ]
     },
     "execution_count": 15,
     "metadata": {},
     "output_type": "execute_result"
    }
   ],
   "source": [
    "len(df_news)"
   ]
  },
  {
   "cell_type": "code",
   "execution_count": 16,
   "id": "487c6a6e",
   "metadata": {
    "ExecuteTime": {
     "end_time": "2022-05-19T23:54:15.957463Z",
     "start_time": "2022-05-19T23:54:15.913582Z"
    }
   },
   "outputs": [],
   "source": [
    "# df.query('주소.str.contains(\"마포|은평\")', engine='python'\n",
    "# Series 내장함수 : str.contains() \n",
    "\n",
    "# 제목\n",
    "remove_title = list(df_news.query('title.str.contains(\"부상|선수|승점|구장|리그|DGB대구은행파크|FC|감독|신태용|연승|대표팀|친선경기|스포츠|축구|세징야\", na=False)', engine = 'python').index)\n",
    "df_news.drop(remove_title, axis=0, inplace = True)\n",
    "\n",
    "# 내용 요약본\n",
    "remove_contents = list(df_news.query('contents.str.contains(\"부상|선수|승점|구장|리그|DGB대구은행파크|FC|감독|신태용|연승|대표팀|친선경기|스포츠|축구|세징야\", na=False)', engine = 'python').index)\n",
    "df_news.drop(remove_contents, axis=0, inplace = True)\n"
   ]
  },
  {
   "cell_type": "markdown",
   "id": "6416dc58",
   "metadata": {},
   "source": [
    "### 결측치 처리 contents 컬럼에 3개 존재 --> 3개의 데이터 삭제"
   ]
  },
  {
   "cell_type": "code",
   "execution_count": 17,
   "id": "32175bd6",
   "metadata": {
    "ExecuteTime": {
     "end_time": "2022-05-19T23:54:15.972424Z",
     "start_time": "2022-05-19T23:54:15.958461Z"
    },
    "scrolled": true
   },
   "outputs": [
    {
     "data": {
      "text/plain": [
       "date        9000\n",
       "title       9000\n",
       "press       9000\n",
       "contents    8997\n",
       "dtype: int64"
      ]
     },
     "execution_count": 17,
     "metadata": {},
     "output_type": "execute_result"
    }
   ],
   "source": [
    "df_news.count()"
   ]
  },
  {
   "cell_type": "code",
   "execution_count": 18,
   "id": "02e5ee9a",
   "metadata": {
    "ExecuteTime": {
     "end_time": "2022-05-19T23:54:15.987383Z",
     "start_time": "2022-05-19T23:54:15.973421Z"
    }
   },
   "outputs": [
    {
     "name": "stdout",
     "output_type": "stream",
     "text": [
      "date        0\n",
      "title       0\n",
      "press       0\n",
      "contents    3\n",
      "dtype: int64\n"
     ]
    }
   ],
   "source": [
    "print(df_news.isnull().sum())\n",
    "df_news.dropna(axis=0, inplace = True)"
   ]
  },
  {
   "cell_type": "code",
   "execution_count": 19,
   "id": "c815e1cc",
   "metadata": {
    "ExecuteTime": {
     "end_time": "2022-05-19T23:54:16.002344Z",
     "start_time": "2022-05-19T23:54:15.988381Z"
    }
   },
   "outputs": [
    {
     "data": {
      "text/plain": [
       "(8997, 4)"
      ]
     },
     "execution_count": 19,
     "metadata": {},
     "output_type": "execute_result"
    }
   ],
   "source": [
    "df_news.shape"
   ]
  },
  {
   "cell_type": "code",
   "execution_count": 20,
   "id": "cb95bb2c",
   "metadata": {
    "ExecuteTime": {
     "end_time": "2022-05-19T23:54:16.017304Z",
     "start_time": "2022-05-19T23:54:16.003341Z"
    }
   },
   "outputs": [],
   "source": [
    "# 인덱스 번호 새로 부여.\n",
    "df_news.reset_index(inplace=True)\n",
    "df_news.drop(['index'], axis=1, inplace=True)"
   ]
  },
  {
   "cell_type": "code",
   "execution_count": 21,
   "id": "654d2399",
   "metadata": {
    "ExecuteTime": {
     "end_time": "2022-05-19T23:54:16.032264Z",
     "start_time": "2022-05-19T23:54:16.018301Z"
    }
   },
   "outputs": [
    {
     "data": {
      "text/html": [
       "<div>\n",
       "<style scoped>\n",
       "    .dataframe tbody tr th:only-of-type {\n",
       "        vertical-align: middle;\n",
       "    }\n",
       "\n",
       "    .dataframe tbody tr th {\n",
       "        vertical-align: top;\n",
       "    }\n",
       "\n",
       "    .dataframe thead th {\n",
       "        text-align: right;\n",
       "    }\n",
       "</style>\n",
       "<table border=\"1\" class=\"dataframe\">\n",
       "  <thead>\n",
       "    <tr style=\"text-align: right;\">\n",
       "      <th></th>\n",
       "      <th>date</th>\n",
       "      <th>title</th>\n",
       "      <th>press</th>\n",
       "      <th>contents</th>\n",
       "    </tr>\n",
       "  </thead>\n",
       "  <tbody>\n",
       "    <tr>\n",
       "      <th>0</th>\n",
       "      <td>2021.05.01.</td>\n",
       "      <td>DGB대구은행, 은행권 중금리대출 실적 1위</td>\n",
       "      <td>글로벌이코노믹</td>\n",
       "      <td>DGB대구은행의 중금리대출 실적이 지방은행뿐만 아니라 은행권 전체에서 가장 많은 것...</td>\n",
       "    </tr>\n",
       "    <tr>\n",
       "      <th>1</th>\n",
       "      <td>2021.05.01.</td>\n",
       "      <td>DGB대구은행, 어버이날 맞이 효(孝) 마스크 지원</td>\n",
       "      <td>경북신문</td>\n",
       "      <td>DGB대구은행(은행장 임성훈)은 다가오는 어버이날을 맞아 지역 내 방역취약계층 어르...</td>\n",
       "    </tr>\n",
       "    <tr>\n",
       "      <th>2</th>\n",
       "      <td>2021.05.01.</td>\n",
       "      <td>은행·비은행 동반성장…지방금융지주 1분기 '好好好'</td>\n",
       "      <td>미디어펜</td>\n",
       "      <td>DGB금융의 순이익은 지난해 1분기에 견줘 40% 급증했다. 핵심 계열사인 대구은행...</td>\n",
       "    </tr>\n",
       "    <tr>\n",
       "      <th>3</th>\n",
       "      <td>2021.05.01.</td>\n",
       "      <td>DGB대구銀, 코로나 대응 관련 ‘유공 행정안전부 장관표창’</td>\n",
       "      <td>더퍼블릭</td>\n",
       "      <td>DGB대구은행(이하 대구은행)은 코로나19 재난 방역 적극 참여 및 지역사회 지원활...</td>\n",
       "    </tr>\n",
       "    <tr>\n",
       "      <th>4</th>\n",
       "      <td>2021.05.01.</td>\n",
       "      <td>대구은행, 방역취약계층 어르신 대상 KF94 마스크 전달</td>\n",
       "      <td>일요신문</td>\n",
       "      <td>- DGB대구은행, 어버이날 맞아 효(孝) 마스크 지원 DGB대구은행(은행장 임성훈...</td>\n",
       "    </tr>\n",
       "  </tbody>\n",
       "</table>\n",
       "</div>"
      ],
      "text/plain": [
       "          date                              title    press  \\\n",
       "0  2021.05.01.           DGB대구은행, 은행권 중금리대출 실적 1위  글로벌이코노믹   \n",
       "1  2021.05.01.       DGB대구은행, 어버이날 맞이 효(孝) 마스크 지원     경북신문   \n",
       "2  2021.05.01.       은행·비은행 동반성장…지방금융지주 1분기 '好好好'     미디어펜   \n",
       "3  2021.05.01.  DGB대구銀, 코로나 대응 관련 ‘유공 행정안전부 장관표창’     더퍼블릭   \n",
       "4  2021.05.01.    대구은행, 방역취약계층 어르신 대상 KF94 마스크 전달     일요신문   \n",
       "\n",
       "                                            contents  \n",
       "0  DGB대구은행의 중금리대출 실적이 지방은행뿐만 아니라 은행권 전체에서 가장 많은 것...  \n",
       "1  DGB대구은행(은행장 임성훈)은 다가오는 어버이날을 맞아 지역 내 방역취약계층 어르...  \n",
       "2  DGB금융의 순이익은 지난해 1분기에 견줘 40% 급증했다. 핵심 계열사인 대구은행...  \n",
       "3  DGB대구은행(이하 대구은행)은 코로나19 재난 방역 적극 참여 및 지역사회 지원활...  \n",
       "4  - DGB대구은행, 어버이날 맞아 효(孝) 마스크 지원 DGB대구은행(은행장 임성훈...  "
      ]
     },
     "execution_count": 21,
     "metadata": {},
     "output_type": "execute_result"
    }
   ],
   "source": [
    "df_news.head()"
   ]
  },
  {
   "cell_type": "code",
   "execution_count": 22,
   "id": "2d953afc",
   "metadata": {
    "ExecuteTime": {
     "end_time": "2022-05-19T23:54:16.047223Z",
     "start_time": "2022-05-19T23:54:16.033262Z"
    }
   },
   "outputs": [
    {
     "data": {
      "text/plain": [
       "date        8997\n",
       "title       8997\n",
       "press       8997\n",
       "contents    8997\n",
       "dtype: int64"
      ]
     },
     "execution_count": 22,
     "metadata": {},
     "output_type": "execute_result"
    }
   ],
   "source": [
    "df_news.count()"
   ]
  },
  {
   "cell_type": "markdown",
   "id": "96032515",
   "metadata": {},
   "source": [
    "## 날짜 데이터 정제\n",
    "    ▶ 연월일로만 표현 ( 시간 제거 )\n",
    "    ▶ 연 / 월 / 일 3개의 파생변수 생성\n",
    "    ▶ 연 / 일 보다는 월별로 각 언론사의 'DGB대구은행'에 관련된 기사가 얼마나 많은지? 파악하기 위함. --> 긍정 / 부정 개수로 이어짐."
   ]
  },
  {
   "cell_type": "code",
   "execution_count": 23,
   "id": "cc4e5544",
   "metadata": {
    "ExecuteTime": {
     "end_time": "2022-05-19T23:54:16.062183Z",
     "start_time": "2022-05-19T23:54:16.050216Z"
    }
   },
   "outputs": [
    {
     "data": {
      "text/plain": [
       "0       2021.05.01.\n",
       "1       2021.05.01.\n",
       "2       2021.05.01.\n",
       "3       2021.05.01.\n",
       "4       2021.05.01.\n",
       "           ...     \n",
       "8992           4일 전\n",
       "8993           4일 전\n",
       "8994           4일 전\n",
       "8995           4일 전\n",
       "8996           4일 전\n",
       "Name: date, Length: 8997, dtype: object"
      ]
     },
     "execution_count": 23,
     "metadata": {},
     "output_type": "execute_result"
    }
   ],
   "source": [
    "# 연도별 월별 일별로 \n",
    "df_news['date']"
   ]
  },
  {
   "cell_type": "code",
   "execution_count": 24,
   "id": "6c74f7ae",
   "metadata": {
    "ExecuteTime": {
     "end_time": "2022-05-19T23:54:16.077143Z",
     "start_time": "2022-05-19T23:54:16.064178Z"
    }
   },
   "outputs": [
    {
     "name": "stdout",
     "output_type": "stream",
     "text": [
      "2022-05-20 08:54:16.065176\n",
      "2022년 5월 19일\n",
      "2021-04-25 00:00:00\n"
     ]
    }
   ],
   "source": [
    "now = time.localtime()\n",
    "\n",
    "# 테스트 용 / 참고 - https://wikidocs.net/104836\n",
    "print(datetime.datetime.now())\n",
    "print('{}년 {}월 {}일'.format(now.tm_year, now.tm_mon, now.tm_mday-1))\n",
    "print(pd.to_datetime(df_news['date'][0]) - datetime.timedelta(days = 6))"
   ]
  },
  {
   "cell_type": "code",
   "execution_count": 25,
   "id": "0aaa96ec",
   "metadata": {
    "ExecuteTime": {
     "end_time": "2022-05-19T23:54:16.151943Z",
     "start_time": "2022-05-19T23:54:16.078141Z"
    }
   },
   "outputs": [],
   "source": [
    "# 2022-04-21 17:45 일자 데이터 자료 ( 시각은 무시 )\n",
    "scrapping_date = datetime.date(2022, 5, 6)\n",
    "\n",
    "idx_list = list()\n",
    "\n",
    "for i in range(len(df_news['date'])):\n",
    "    if '일' in df_news['date'][i]:\n",
    "        idx_list.append(i)\n",
    "    elif '시간' in df_news['date'][i]:\n",
    "        idx_list.append(i)\n",
    "# df_news['date'][i]\n",
    "# 몇 일전 / 몇 시간전 인덱스 번호"
   ]
  },
  {
   "cell_type": "code",
   "execution_count": 26,
   "id": "ddb11f8c",
   "metadata": {
    "ExecuteTime": {
     "end_time": "2022-05-19T23:54:16.166903Z",
     "start_time": "2022-05-19T23:54:16.152941Z"
    }
   },
   "outputs": [
    {
     "data": {
      "text/html": [
       "<div>\n",
       "<style scoped>\n",
       "    .dataframe tbody tr th:only-of-type {\n",
       "        vertical-align: middle;\n",
       "    }\n",
       "\n",
       "    .dataframe tbody tr th {\n",
       "        vertical-align: top;\n",
       "    }\n",
       "\n",
       "    .dataframe thead th {\n",
       "        text-align: right;\n",
       "    }\n",
       "</style>\n",
       "<table border=\"1\" class=\"dataframe\">\n",
       "  <thead>\n",
       "    <tr style=\"text-align: right;\">\n",
       "      <th></th>\n",
       "      <th>date</th>\n",
       "    </tr>\n",
       "  </thead>\n",
       "  <tbody>\n",
       "    <tr>\n",
       "      <th>8872</th>\n",
       "      <td>7일 전</td>\n",
       "    </tr>\n",
       "    <tr>\n",
       "      <th>8873</th>\n",
       "      <td>7일 전</td>\n",
       "    </tr>\n",
       "    <tr>\n",
       "      <th>8874</th>\n",
       "      <td>7일 전</td>\n",
       "    </tr>\n",
       "  </tbody>\n",
       "</table>\n",
       "</div>"
      ],
      "text/plain": [
       "      date\n",
       "8872  7일 전\n",
       "8873  7일 전\n",
       "8874  7일 전"
      ]
     },
     "execution_count": 26,
     "metadata": {},
     "output_type": "execute_result"
    }
   ],
   "source": [
    "# 확인\n",
    "df_news.loc[idx_list, ['date']][:3]"
   ]
  },
  {
   "cell_type": "code",
   "execution_count": 27,
   "id": "a380839f",
   "metadata": {
    "ExecuteTime": {
     "end_time": "2022-05-19T23:54:16.196823Z",
     "start_time": "2022-05-19T23:54:16.167901Z"
    }
   },
   "outputs": [],
   "source": [
    "# 시간 전 / 몇일 전 --> 숫자로 변환\n",
    "\n",
    "for i in idx_list:\n",
    "    \n",
    "    trans_day = int(re.findall('\\d+', df_news['date'][i])[0]) \n",
    "\n",
    "    if '시간' in df_news['date'][i]:\n",
    "        df_news['date'][i] = scrapping_date - datetime.timedelta(days=1)\n",
    "    else:\n",
    "        df_news['date'][i] = scrapping_date - datetime.timedelta(days=trans_day+1)"
   ]
  },
  {
   "cell_type": "code",
   "execution_count": 28,
   "id": "26accde3",
   "metadata": {
    "ExecuteTime": {
     "end_time": "2022-05-19T23:54:16.226743Z",
     "start_time": "2022-05-19T23:54:16.197820Z"
    },
    "scrolled": true
   },
   "outputs": [],
   "source": [
    "df_news['date'] = pd.to_datetime(df_news['date'])"
   ]
  },
  {
   "cell_type": "code",
   "execution_count": 29,
   "id": "3cd2d330",
   "metadata": {
    "ExecuteTime": {
     "end_time": "2022-05-19T23:54:16.241703Z",
     "start_time": "2022-05-19T23:54:16.227741Z"
    }
   },
   "outputs": [],
   "source": [
    "df_news['year'] = df_news['date'].dt.year\n",
    "df_news['month'] = df_news['date'].dt.month\n",
    "df_news['day'] = df_news['date'].dt.day"
   ]
  },
  {
   "cell_type": "code",
   "execution_count": 30,
   "id": "1089fd7d",
   "metadata": {
    "ExecuteTime": {
     "end_time": "2022-05-19T23:54:16.256663Z",
     "start_time": "2022-05-19T23:54:16.242701Z"
    }
   },
   "outputs": [
    {
     "data": {
      "text/html": [
       "<div>\n",
       "<style scoped>\n",
       "    .dataframe tbody tr th:only-of-type {\n",
       "        vertical-align: middle;\n",
       "    }\n",
       "\n",
       "    .dataframe tbody tr th {\n",
       "        vertical-align: top;\n",
       "    }\n",
       "\n",
       "    .dataframe thead th {\n",
       "        text-align: right;\n",
       "    }\n",
       "</style>\n",
       "<table border=\"1\" class=\"dataframe\">\n",
       "  <thead>\n",
       "    <tr style=\"text-align: right;\">\n",
       "      <th></th>\n",
       "      <th>date</th>\n",
       "      <th>title</th>\n",
       "      <th>press</th>\n",
       "      <th>contents</th>\n",
       "      <th>year</th>\n",
       "      <th>month</th>\n",
       "      <th>day</th>\n",
       "    </tr>\n",
       "  </thead>\n",
       "  <tbody>\n",
       "    <tr>\n",
       "      <th>0</th>\n",
       "      <td>2021-05-01</td>\n",
       "      <td>DGB대구은행, 은행권 중금리대출 실적 1위</td>\n",
       "      <td>글로벌이코노믹</td>\n",
       "      <td>DGB대구은행의 중금리대출 실적이 지방은행뿐만 아니라 은행권 전체에서 가장 많은 것...</td>\n",
       "      <td>2021</td>\n",
       "      <td>5</td>\n",
       "      <td>1</td>\n",
       "    </tr>\n",
       "  </tbody>\n",
       "</table>\n",
       "</div>"
      ],
      "text/plain": [
       "        date                     title    press  \\\n",
       "0 2021-05-01  DGB대구은행, 은행권 중금리대출 실적 1위  글로벌이코노믹   \n",
       "\n",
       "                                            contents  year  month  day  \n",
       "0  DGB대구은행의 중금리대출 실적이 지방은행뿐만 아니라 은행권 전체에서 가장 많은 것...  2021      5    1  "
      ]
     },
     "execution_count": 30,
     "metadata": {},
     "output_type": "execute_result"
    }
   ],
   "source": [
    "df_news.head(1)"
   ]
  },
  {
   "cell_type": "code",
   "execution_count": 31,
   "id": "181c3b0b",
   "metadata": {
    "ExecuteTime": {
     "end_time": "2022-05-19T23:54:16.271623Z",
     "start_time": "2022-05-19T23:54:16.257660Z"
    }
   },
   "outputs": [],
   "source": [
    "# 데이터 자료 시간에서 마이너스해주면 날짜가 나옴.\n",
    "# 이것을 다시 대입해주면 날짜 데이터 정제 완료\n",
    "\n",
    "# 컬럼 제거 axis = 1 --> 열 / axis = 0 --> 행\n",
    "# df_news.drop(['date_day'], axis=1, inplace=True)"
   ]
  },
  {
   "cell_type": "code",
   "execution_count": 32,
   "id": "96590a4d",
   "metadata": {
    "ExecuteTime": {
     "end_time": "2022-05-19T23:54:16.286583Z",
     "start_time": "2022-05-19T23:54:16.272621Z"
    }
   },
   "outputs": [],
   "source": [
    "# 참고 : https://hogni.tistory.com/51\n",
    "# 컬럼 순서 정렬\n",
    "df_news = df_news[['date', 'year', 'month', 'day', 'title', 'press', 'contents']]"
   ]
  },
  {
   "cell_type": "code",
   "execution_count": 33,
   "id": "a7b76b28",
   "metadata": {
    "ExecuteTime": {
     "end_time": "2022-05-19T23:54:16.301543Z",
     "start_time": "2022-05-19T23:54:16.287580Z"
    }
   },
   "outputs": [
    {
     "data": {
      "text/html": [
       "<div>\n",
       "<style scoped>\n",
       "    .dataframe tbody tr th:only-of-type {\n",
       "        vertical-align: middle;\n",
       "    }\n",
       "\n",
       "    .dataframe tbody tr th {\n",
       "        vertical-align: top;\n",
       "    }\n",
       "\n",
       "    .dataframe thead th {\n",
       "        text-align: right;\n",
       "    }\n",
       "</style>\n",
       "<table border=\"1\" class=\"dataframe\">\n",
       "  <thead>\n",
       "    <tr style=\"text-align: right;\">\n",
       "      <th></th>\n",
       "      <th>date</th>\n",
       "      <th>year</th>\n",
       "      <th>month</th>\n",
       "      <th>day</th>\n",
       "      <th>title</th>\n",
       "      <th>press</th>\n",
       "      <th>contents</th>\n",
       "    </tr>\n",
       "  </thead>\n",
       "  <tbody>\n",
       "    <tr>\n",
       "      <th>0</th>\n",
       "      <td>2021-05-01</td>\n",
       "      <td>2021</td>\n",
       "      <td>5</td>\n",
       "      <td>1</td>\n",
       "      <td>DGB대구은행, 은행권 중금리대출 실적 1위</td>\n",
       "      <td>글로벌이코노믹</td>\n",
       "      <td>DGB대구은행의 중금리대출 실적이 지방은행뿐만 아니라 은행권 전체에서 가장 많은 것...</td>\n",
       "    </tr>\n",
       "    <tr>\n",
       "      <th>1</th>\n",
       "      <td>2021-05-01</td>\n",
       "      <td>2021</td>\n",
       "      <td>5</td>\n",
       "      <td>1</td>\n",
       "      <td>DGB대구은행, 어버이날 맞이 효(孝) 마스크 지원</td>\n",
       "      <td>경북신문</td>\n",
       "      <td>DGB대구은행(은행장 임성훈)은 다가오는 어버이날을 맞아 지역 내 방역취약계층 어르...</td>\n",
       "    </tr>\n",
       "    <tr>\n",
       "      <th>2</th>\n",
       "      <td>2021-05-01</td>\n",
       "      <td>2021</td>\n",
       "      <td>5</td>\n",
       "      <td>1</td>\n",
       "      <td>은행·비은행 동반성장…지방금융지주 1분기 '好好好'</td>\n",
       "      <td>미디어펜</td>\n",
       "      <td>DGB금융의 순이익은 지난해 1분기에 견줘 40% 급증했다. 핵심 계열사인 대구은행...</td>\n",
       "    </tr>\n",
       "  </tbody>\n",
       "</table>\n",
       "</div>"
      ],
      "text/plain": [
       "        date  year  month  day                         title    press  \\\n",
       "0 2021-05-01  2021      5    1      DGB대구은행, 은행권 중금리대출 실적 1위  글로벌이코노믹   \n",
       "1 2021-05-01  2021      5    1  DGB대구은행, 어버이날 맞이 효(孝) 마스크 지원     경북신문   \n",
       "2 2021-05-01  2021      5    1  은행·비은행 동반성장…지방금융지주 1분기 '好好好'     미디어펜   \n",
       "\n",
       "                                            contents  \n",
       "0  DGB대구은행의 중금리대출 실적이 지방은행뿐만 아니라 은행권 전체에서 가장 많은 것...  \n",
       "1  DGB대구은행(은행장 임성훈)은 다가오는 어버이날을 맞아 지역 내 방역취약계층 어르...  \n",
       "2  DGB금융의 순이익은 지난해 1분기에 견줘 40% 급증했다. 핵심 계열사인 대구은행...  "
      ]
     },
     "execution_count": 33,
     "metadata": {},
     "output_type": "execute_result"
    }
   ],
   "source": [
    "df_news.head(3)"
   ]
  },
  {
   "cell_type": "code",
   "execution_count": 34,
   "id": "19c3a6e8",
   "metadata": {
    "ExecuteTime": {
     "end_time": "2022-05-19T23:54:16.316503Z",
     "start_time": "2022-05-19T23:54:16.302541Z"
    }
   },
   "outputs": [
    {
     "data": {
      "text/html": [
       "<div>\n",
       "<style scoped>\n",
       "    .dataframe tbody tr th:only-of-type {\n",
       "        vertical-align: middle;\n",
       "    }\n",
       "\n",
       "    .dataframe tbody tr th {\n",
       "        vertical-align: top;\n",
       "    }\n",
       "\n",
       "    .dataframe thead th {\n",
       "        text-align: right;\n",
       "    }\n",
       "</style>\n",
       "<table border=\"1\" class=\"dataframe\">\n",
       "  <thead>\n",
       "    <tr style=\"text-align: right;\">\n",
       "      <th></th>\n",
       "      <th>date</th>\n",
       "    </tr>\n",
       "  </thead>\n",
       "  <tbody>\n",
       "    <tr>\n",
       "      <th>8994</th>\n",
       "      <td>2022-05-01</td>\n",
       "    </tr>\n",
       "    <tr>\n",
       "      <th>8995</th>\n",
       "      <td>2022-05-01</td>\n",
       "    </tr>\n",
       "    <tr>\n",
       "      <th>8996</th>\n",
       "      <td>2022-05-01</td>\n",
       "    </tr>\n",
       "  </tbody>\n",
       "</table>\n",
       "</div>"
      ],
      "text/plain": [
       "           date\n",
       "8994 2022-05-01\n",
       "8995 2022-05-01\n",
       "8996 2022-05-01"
      ]
     },
     "execution_count": 34,
     "metadata": {},
     "output_type": "execute_result"
    }
   ],
   "source": [
    "df_news.loc[:, ['date']].tail(3)"
   ]
  },
  {
   "cell_type": "markdown",
   "id": "e70714d4",
   "metadata": {},
   "source": [
    "## 정규식 표현 처리\n",
    "\n",
    "<br>\n",
    "\n",
    "'[-=+,#/\\?:^$.@*\\\"※%~&ㆍ\\‘\\’\\_, ②外∙·!』『\\(\\)\\[\\]\\[\\]\\<\\>\\'\\`<\\>\\銀…\\\"\\'…》]' 등을 기사제목에서 제거\n",
    "- tqdm --> 진행률 표시 모듈\n",
    "\n",
    "**※ 참고 : https://clolee.tistory.com/17, https://codingspooning.tistory.com/138**\n",
    "<br>"
   ]
  },
  {
   "cell_type": "markdown",
   "id": "0432c0d3",
   "metadata": {},
   "source": [
    "### 정규식 표현 ( 기사 제목 )"
   ]
  },
  {
   "cell_type": "code",
   "execution_count": 35,
   "id": "54f89188",
   "metadata": {
    "ExecuteTime": {
     "end_time": "2022-05-19T23:54:17.124342Z",
     "start_time": "2022-05-19T23:54:16.317501Z"
    }
   },
   "outputs": [
    {
     "data": {
      "text/html": [
       "<div>\n",
       "<style scoped>\n",
       "    .dataframe tbody tr th:only-of-type {\n",
       "        vertical-align: middle;\n",
       "    }\n",
       "\n",
       "    .dataframe tbody tr th {\n",
       "        vertical-align: top;\n",
       "    }\n",
       "\n",
       "    .dataframe thead th {\n",
       "        text-align: right;\n",
       "    }\n",
       "</style>\n",
       "<table border=\"1\" class=\"dataframe\">\n",
       "  <thead>\n",
       "    <tr style=\"text-align: right;\">\n",
       "      <th></th>\n",
       "      <th>title</th>\n",
       "      <th>nouns_title</th>\n",
       "    </tr>\n",
       "  </thead>\n",
       "  <tbody>\n",
       "    <tr>\n",
       "      <th>0</th>\n",
       "      <td>DGB대구은행, 은행권 중금리대출 실적 1위</td>\n",
       "      <td>DGB대구은행 은행권 중금리대출 실적 1위</td>\n",
       "    </tr>\n",
       "    <tr>\n",
       "      <th>1</th>\n",
       "      <td>DGB대구은행, 어버이날 맞이 효(孝) 마스크 지원</td>\n",
       "      <td>DGB대구은행 어버이날 맞이 효孝 마스크 지원</td>\n",
       "    </tr>\n",
       "    <tr>\n",
       "      <th>2</th>\n",
       "      <td>은행·비은행 동반성장…지방금융지주 1분기 '好好好'</td>\n",
       "      <td>은행비은행 동반성장지방금융지주 1분기 好好好</td>\n",
       "    </tr>\n",
       "    <tr>\n",
       "      <th>3</th>\n",
       "      <td>DGB대구銀, 코로나 대응 관련 ‘유공 행정안전부 장관표창’</td>\n",
       "      <td>DGB대구銀 코로나 대응 관련 유공 행정안전부 장관표창</td>\n",
       "    </tr>\n",
       "    <tr>\n",
       "      <th>4</th>\n",
       "      <td>대구은행, 방역취약계층 어르신 대상 KF94 마스크 전달</td>\n",
       "      <td>대구은행 방역취약계층 어르신 대상 KF94 마스크 전달</td>\n",
       "    </tr>\n",
       "    <tr>\n",
       "      <th>5</th>\n",
       "      <td>지방금융그룹도 1분기 사상최대 실적…비은행 계열 선전</td>\n",
       "      <td>지방금융그룹도 1분기 사상최대 실적비은행 계열 선전</td>\n",
       "    </tr>\n",
       "  </tbody>\n",
       "</table>\n",
       "</div>"
      ],
      "text/plain": [
       "                               title                     nouns_title\n",
       "0           DGB대구은행, 은행권 중금리대출 실적 1위         DGB대구은행 은행권 중금리대출 실적 1위\n",
       "1       DGB대구은행, 어버이날 맞이 효(孝) 마스크 지원       DGB대구은행 어버이날 맞이 효孝 마스크 지원\n",
       "2       은행·비은행 동반성장…지방금융지주 1분기 '好好好'        은행비은행 동반성장지방금융지주 1분기 好好好\n",
       "3  DGB대구銀, 코로나 대응 관련 ‘유공 행정안전부 장관표창’  DGB대구銀 코로나 대응 관련 유공 행정안전부 장관표창\n",
       "4    대구은행, 방역취약계층 어르신 대상 KF94 마스크 전달  대구은행 방역취약계층 어르신 대상 KF94 마스크 전달\n",
       "5      지방금융그룹도 1분기 사상최대 실적…비은행 계열 선전    지방금융그룹도 1분기 사상최대 실적비은행 계열 선전"
      ]
     },
     "execution_count": 35,
     "metadata": {},
     "output_type": "execute_result"
    }
   ],
   "source": [
    "from tqdm import tqdm\n",
    "import copy\n",
    "\n",
    "# 경고 off\n",
    "pd.set_option('mode.chained_assignment', None)\n",
    "\n",
    "# 원본 데이터프레임 복사하여 사용\n",
    "df_news_copy = copy.deepcopy(df_news)\n",
    "df_news_copy.insert(5, 'nouns_title', '0')\n",
    "title_data = df_news_copy['title'].tolist()\n",
    "\n",
    "# re.sub('[-=+,#/\\?:^$.@*\\\"※%~&ㆍ\\‘\\’\\_, ②外∙·!』『\\(\\)\\[\\]\\[\\]\\<\\>\\'\\`<\\>\\銀…\\\"\\'…》→p”“◇證‧]',\n",
    "for i in range(len(title_data)):\n",
    "    cleaner = re.sub('[-=+,#/\\?:^.@*\\\"※~ㆍ!』‘|\\(\\)\\[\\]`\\'…》\\”\\“\\’·◇②【】<>�→α&]', '', title_data[i])\n",
    "    df_news_copy['nouns_title'][i] = cleaner\n",
    "\n",
    "df_news_copy.loc[:5,['title', 'nouns_title']]"
   ]
  },
  {
   "cell_type": "markdown",
   "id": "cc9d2cc4",
   "metadata": {},
   "source": [
    "### 정규식 표현 ( 기사 내용 )"
   ]
  },
  {
   "cell_type": "code",
   "execution_count": 36,
   "id": "0cc4b248",
   "metadata": {
    "ExecuteTime": {
     "end_time": "2022-05-19T23:54:17.932147Z",
     "start_time": "2022-05-19T23:54:17.125339Z"
    }
   },
   "outputs": [
    {
     "data": {
      "text/html": [
       "<div>\n",
       "<style scoped>\n",
       "    .dataframe tbody tr th:only-of-type {\n",
       "        vertical-align: middle;\n",
       "    }\n",
       "\n",
       "    .dataframe tbody tr th {\n",
       "        vertical-align: top;\n",
       "    }\n",
       "\n",
       "    .dataframe thead th {\n",
       "        text-align: right;\n",
       "    }\n",
       "</style>\n",
       "<table border=\"1\" class=\"dataframe\">\n",
       "  <thead>\n",
       "    <tr style=\"text-align: right;\">\n",
       "      <th></th>\n",
       "      <th>contents</th>\n",
       "      <th>nouns_contents</th>\n",
       "    </tr>\n",
       "  </thead>\n",
       "  <tbody>\n",
       "    <tr>\n",
       "      <th>0</th>\n",
       "      <td>DGB대구은행의 중금리대출 실적이 지방은행뿐만 아니라 은행권 전체에서 가장 많은 것...</td>\n",
       "      <td>DGB대구은행의 중금리대출 실적이 지방은행뿐만 아니라 은행권 전체에서 가장 많은 것...</td>\n",
       "    </tr>\n",
       "    <tr>\n",
       "      <th>1</th>\n",
       "      <td>DGB대구은행(은행장 임성훈)은 다가오는 어버이날을 맞아 지역 내 방역취약계층 어르...</td>\n",
       "      <td>DGB대구은행은행장 임성훈은 다가오는 어버이날을 맞아 지역 내 방역취약계층 어르신들...</td>\n",
       "    </tr>\n",
       "    <tr>\n",
       "      <th>2</th>\n",
       "      <td>DGB금융의 순이익은 지난해 1분기에 견줘 40% 급증했다. 핵심 계열사인 대구은행...</td>\n",
       "      <td>DGB금융의 순이익은 지난해 1분기에 견줘 40% 급증했다 핵심 계열사인 대구은행은...</td>\n",
       "    </tr>\n",
       "    <tr>\n",
       "      <th>3</th>\n",
       "      <td>DGB대구은행(이하 대구은행)은 코로나19 재난 방역 적극 참여 및 지역사회 지원활...</td>\n",
       "      <td>DGB대구은행이하 대구은행은 코로나19 재난 방역 적극 참여 및 지역사회 지원활동을...</td>\n",
       "    </tr>\n",
       "    <tr>\n",
       "      <th>4</th>\n",
       "      <td>- DGB대구은행, 어버이날 맞아 효(孝) 마스크 지원 DGB대구은행(은행장 임성훈...</td>\n",
       "      <td>DGB대구은행 어버이날 맞아 효孝 마스크 지원 DGB대구은행은행장 임성훈이 어버이...</td>\n",
       "    </tr>\n",
       "    <tr>\n",
       "      <th>5</th>\n",
       "      <td>시장금리 상승세에 힘입어 대구은행의 순이자마진이 회복한 데 이어, 비은행 계열인 하...</td>\n",
       "      <td>시장금리 상승세에 힘입어 대구은행의 순이자마진이 회복한 데 이어 비은행 계열인 하이...</td>\n",
       "    </tr>\n",
       "  </tbody>\n",
       "</table>\n",
       "</div>"
      ],
      "text/plain": [
       "                                            contents  \\\n",
       "0  DGB대구은행의 중금리대출 실적이 지방은행뿐만 아니라 은행권 전체에서 가장 많은 것...   \n",
       "1  DGB대구은행(은행장 임성훈)은 다가오는 어버이날을 맞아 지역 내 방역취약계층 어르...   \n",
       "2  DGB금융의 순이익은 지난해 1분기에 견줘 40% 급증했다. 핵심 계열사인 대구은행...   \n",
       "3  DGB대구은행(이하 대구은행)은 코로나19 재난 방역 적극 참여 및 지역사회 지원활...   \n",
       "4  - DGB대구은행, 어버이날 맞아 효(孝) 마스크 지원 DGB대구은행(은행장 임성훈...   \n",
       "5  시장금리 상승세에 힘입어 대구은행의 순이자마진이 회복한 데 이어, 비은행 계열인 하...   \n",
       "\n",
       "                                      nouns_contents  \n",
       "0  DGB대구은행의 중금리대출 실적이 지방은행뿐만 아니라 은행권 전체에서 가장 많은 것...  \n",
       "1  DGB대구은행은행장 임성훈은 다가오는 어버이날을 맞아 지역 내 방역취약계층 어르신들...  \n",
       "2  DGB금융의 순이익은 지난해 1분기에 견줘 40% 급증했다 핵심 계열사인 대구은행은...  \n",
       "3  DGB대구은행이하 대구은행은 코로나19 재난 방역 적극 참여 및 지역사회 지원활동을...  \n",
       "4   DGB대구은행 어버이날 맞아 효孝 마스크 지원 DGB대구은행은행장 임성훈이 어버이...  \n",
       "5  시장금리 상승세에 힘입어 대구은행의 순이자마진이 회복한 데 이어 비은행 계열인 하이...  "
      ]
     },
     "execution_count": 36,
     "metadata": {},
     "output_type": "execute_result"
    }
   ],
   "source": [
    "from tqdm import tqdm\n",
    "import copy\n",
    "\n",
    "# 경고 off\n",
    "pd.set_option('mode.chained_assignment', None)\n",
    "\n",
    "# 원본 데이터프레임 복사하여 사용\n",
    "df_news_copy = copy.deepcopy(df_news_copy)\n",
    "df_news_copy.insert(8, 'nouns_contents', '0')\n",
    "contents_data = df_news_copy['contents'].tolist()\n",
    "\n",
    "# re.sub('[-=+,#/\\?:^$.@*\\\"※%~&ㆍ\\‘\\’\\_, ②外∙·!』『\\(\\)\\[\\]\\[\\]\\<\\>\\'\\`<\\>\\銀…\\\"\\'…》→p”“◇證‧]',\n",
    "for i in range(len(contents_data)):\n",
    "    cleaner = re.sub('[-=+,#/\\?:^.@*\\\"※~ㆍ!』‘|\\(\\)\\[\\]`\\'…》\\”\\“\\’·◇②【】<>�→α&]', '', contents_data[i])\n",
    "    df_news_copy['nouns_contents'][i] = cleaner\n",
    "\n",
    "df_news_copy.loc[:5,['contents', 'nouns_contents']]"
   ]
  },
  {
   "cell_type": "markdown",
   "id": "e2218193",
   "metadata": {},
   "source": [
    "## 토큰화 및 불용어 제거( 1차 )\n",
    "\n",
    "<br>\n",
    "\n",
    "**Hannanum / Kkma / Komoran / Mecab / Twitter(Okt, 사용?)**\n",
    "- 제목을 토큰화 시킴\n",
    "- Okt형태소 분석기 사용\n",
    "- norm = True --> 문장을 정규화 Ex) 늘린, 늘린 / 문장 그대로\n",
    "- stem = True --> 문장을 정규화 Ex) 늘린, 늘리다 / 줄인, 줄이다 / 예뻐서 예뻤다, 예쁘다 / 즉, stem을 사용해야 함. \n",
    "- (stem은 stemming 어간화라는 뜻)\n",
    "<br>\n",
    "\n",
    "**불용어 : 자연어 처리에 큰 영향을 주지 않는 중요하지 않은 단어들을 말합니다. 주로 조사나 접사 등이 불용어**"
   ]
  },
  {
   "cell_type": "code",
   "execution_count": 37,
   "id": "911a830f",
   "metadata": {
    "ExecuteTime": {
     "end_time": "2022-05-19T23:54:18.476482Z",
     "start_time": "2022-05-19T23:54:17.933144Z"
    }
   },
   "outputs": [],
   "source": [
    "import konlpy\n",
    "from konlpy.tag import Okt\n",
    "okt = Okt()"
   ]
  },
  {
   "cell_type": "code",
   "execution_count": 38,
   "id": "7f255d94",
   "metadata": {
    "ExecuteTime": {
     "end_time": "2022-05-19T23:54:21.518678Z",
     "start_time": "2022-05-19T23:54:18.477451Z"
    }
   },
   "outputs": [
    {
     "name": "stdout",
     "output_type": "stream",
     "text": [
      "['늘린', '결과', '이다', '줄인', '많아서', '예뻤다', '1', '위']\n",
      "['늘리다', '결과', '이다', '줄이다', '많다', '예쁘다', '1', '위']\n"
     ]
    }
   ],
   "source": [
    "# 테스트\n",
    "print(okt.morphs('늘린 결과이다 줄인 많아서 예뻤다 1위', norm=True))\n",
    "print(okt.morphs('늘린 결과이다 줄인 많아서 예뻐서 1위', stem=True))"
   ]
  },
  {
   "cell_type": "code",
   "execution_count": 39,
   "id": "d96db1ce",
   "metadata": {
    "ExecuteTime": {
     "end_time": "2022-05-19T23:54:21.533638Z",
     "start_time": "2022-05-19T23:54:21.519675Z"
    }
   },
   "outputs": [],
   "source": [
    "stopwords = ['의', '가', '이', '은', '는', '좀',\n",
    "             '잘', '걍', '과', '도', '를', '자',\n",
    "             '으로', '에', '와', '한', '하다']"
   ]
  },
  {
   "cell_type": "code",
   "execution_count": 40,
   "id": "54d8144b",
   "metadata": {
    "ExecuteTime": {
     "end_time": "2022-05-19T23:54:35.600087Z",
     "start_time": "2022-05-19T23:54:21.534635Z"
    }
   },
   "outputs": [],
   "source": [
    "import konlpy\n",
    "from konlpy.tag import Okt\n",
    "okt = Okt()\n",
    "for sentence in df_news_copy['nouns_title']:\n",
    "    tmp_X = okt.morphs(sentence, stem=True) # 토큰화\n",
    "    tmp_X = [word for word in tmp_X if not word in stopwords] # 불용어 제거  \n",
    "#     print('예외처리 전 :', tmp_X)\n",
    "\n",
    "    # ['1', '위'] --> ['1위'] 붙이기\n",
    "    if ('1' in tmp_X) and ('위' in tmp_X):\n",
    "        for i in range(len(tmp_X)):\n",
    "            if tmp_X[i] == '위' and tmp_X[i-1] == '1':\n",
    "                tmp_X[i-1] += tmp_X.pop(i)\n",
    "                break\n",
    "    copy_tmp = tmp_X.copy()\n",
    "    df_news_copy.replace({'nouns_title':sentence}, ' '.join(copy_tmp), inplace=True) # 공백 기준으로 단어 나누기."
   ]
  },
  {
   "cell_type": "code",
   "execution_count": 41,
   "id": "bd9b5be0",
   "metadata": {
    "ExecuteTime": {
     "end_time": "2022-05-19T23:54:35.615076Z",
     "start_time": "2022-05-19T23:54:35.601085Z"
    }
   },
   "outputs": [
    {
     "data": {
      "text/html": [
       "<div>\n",
       "<style scoped>\n",
       "    .dataframe tbody tr th:only-of-type {\n",
       "        vertical-align: middle;\n",
       "    }\n",
       "\n",
       "    .dataframe tbody tr th {\n",
       "        vertical-align: top;\n",
       "    }\n",
       "\n",
       "    .dataframe thead th {\n",
       "        text-align: right;\n",
       "    }\n",
       "</style>\n",
       "<table border=\"1\" class=\"dataframe\">\n",
       "  <thead>\n",
       "    <tr style=\"text-align: right;\">\n",
       "      <th></th>\n",
       "      <th>title</th>\n",
       "      <th>nouns_title</th>\n",
       "    </tr>\n",
       "  </thead>\n",
       "  <tbody>\n",
       "    <tr>\n",
       "      <th>0</th>\n",
       "      <td>DGB대구은행, 은행권 중금리대출 실적 1위</td>\n",
       "      <td>DGB 대구 은행 은행권 중 금리 대출 실적 1위</td>\n",
       "    </tr>\n",
       "    <tr>\n",
       "      <th>1</th>\n",
       "      <td>DGB대구은행, 어버이날 맞이 효(孝) 마스크 지원</td>\n",
       "      <td>DGB 대구 은행 어버이날 맞이 효 孝 마스크 지원</td>\n",
       "    </tr>\n",
       "    <tr>\n",
       "      <th>2</th>\n",
       "      <td>은행·비은행 동반성장…지방금융지주 1분기 '好好好'</td>\n",
       "      <td>은행 비 은행 동반성 장 지방 금융 지주 1분 기 好好好</td>\n",
       "    </tr>\n",
       "    <tr>\n",
       "      <th>3</th>\n",
       "      <td>DGB대구銀, 코로나 대응 관련 ‘유공 행정안전부 장관표창’</td>\n",
       "      <td>DGB 대구 銀 코로나 대응 관련 유공 행정안전부 장관 표창</td>\n",
       "    </tr>\n",
       "  </tbody>\n",
       "</table>\n",
       "</div>"
      ],
      "text/plain": [
       "                               title                        nouns_title\n",
       "0           DGB대구은행, 은행권 중금리대출 실적 1위        DGB 대구 은행 은행권 중 금리 대출 실적 1위\n",
       "1       DGB대구은행, 어버이날 맞이 효(孝) 마스크 지원       DGB 대구 은행 어버이날 맞이 효 孝 마스크 지원\n",
       "2       은행·비은행 동반성장…지방금융지주 1분기 '好好好'    은행 비 은행 동반성 장 지방 금융 지주 1분 기 好好好\n",
       "3  DGB대구銀, 코로나 대응 관련 ‘유공 행정안전부 장관표창’  DGB 대구 銀 코로나 대응 관련 유공 행정안전부 장관 표창"
      ]
     },
     "execution_count": 41,
     "metadata": {},
     "output_type": "execute_result"
    }
   ],
   "source": [
    "df_news_copy.loc[:3, ['title', 'nouns_title']]"
   ]
  },
  {
   "cell_type": "code",
   "execution_count": 42,
   "id": "eaa16922",
   "metadata": {
    "ExecuteTime": {
     "end_time": "2022-05-19T23:54:35.630008Z",
     "start_time": "2022-05-19T23:54:35.616045Z"
    }
   },
   "outputs": [],
   "source": [
    "# 테스트테스트"
   ]
  },
  {
   "cell_type": "code",
   "execution_count": 43,
   "id": "dcf4d4b4",
   "metadata": {
    "ExecuteTime": {
     "end_time": "2022-05-19T23:55:17.883392Z",
     "start_time": "2022-05-19T23:54:35.631005Z"
    }
   },
   "outputs": [],
   "source": [
    "import konlpy\n",
    "from konlpy.tag import Okt\n",
    "okt = Okt()\n",
    "for sentence in df_news_copy['nouns_contents']:\n",
    "    tmp_X = okt.morphs(sentence, stem=True) # 토큰화\n",
    "    tmp_X = [word for word in tmp_X if not word in stopwords] # 불용어 제거\n",
    "    \n",
    "    copy_tmp = tmp_X.copy()\n",
    "    df_news_copy.replace({'nouns_contents':sentence}, ' '.join(copy_tmp), inplace=True) # 공백 기준으로 단어 나누기."
   ]
  },
  {
   "cell_type": "code",
   "execution_count": 44,
   "id": "086db098",
   "metadata": {
    "ExecuteTime": {
     "end_time": "2022-05-19T23:55:17.898707Z",
     "start_time": "2022-05-19T23:55:17.883739Z"
    }
   },
   "outputs": [
    {
     "data": {
      "text/html": [
       "<div>\n",
       "<style scoped>\n",
       "    .dataframe tbody tr th:only-of-type {\n",
       "        vertical-align: middle;\n",
       "    }\n",
       "\n",
       "    .dataframe tbody tr th {\n",
       "        vertical-align: top;\n",
       "    }\n",
       "\n",
       "    .dataframe thead th {\n",
       "        text-align: right;\n",
       "    }\n",
       "</style>\n",
       "<table border=\"1\" class=\"dataframe\">\n",
       "  <thead>\n",
       "    <tr style=\"text-align: right;\">\n",
       "      <th></th>\n",
       "      <th>contents</th>\n",
       "      <th>nouns_contents</th>\n",
       "    </tr>\n",
       "  </thead>\n",
       "  <tbody>\n",
       "    <tr>\n",
       "      <th>0</th>\n",
       "      <td>DGB대구은행의 중금리대출 실적이 지방은행뿐만 아니라 은행권 전체에서 가장 많은 것...</td>\n",
       "      <td>DGB 대 구 은행 중 금리 대출 실적 지방 은행 뿐 만 아니다 은행권 전체 에서 ...</td>\n",
       "    </tr>\n",
       "    <tr>\n",
       "      <th>1</th>\n",
       "      <td>DGB대구은행(은행장 임성훈)은 다가오는 어버이날을 맞아 지역 내 방역취약계층 어르...</td>\n",
       "      <td>DGB 대 구 은행 은행 장 임성훈 다가오다 어버이날 을 맞다 지역 내 방역 취약 ...</td>\n",
       "    </tr>\n",
       "    <tr>\n",
       "      <th>2</th>\n",
       "      <td>DGB금융의 순이익은 지난해 1분기에 견줘 40% 급증했다. 핵심 계열사인 대구은행...</td>\n",
       "      <td>DGB 금융 순이익 지난해 1분 기에 견줘 40% 급증 핵심 계열 사인 대 구 은행...</td>\n",
       "    </tr>\n",
       "    <tr>\n",
       "      <th>3</th>\n",
       "      <td>DGB대구은행(이하 대구은행)은 코로나19 재난 방역 적극 참여 및 지역사회 지원활...</td>\n",
       "      <td>DGB 대구 은행 이하 대 구 은행 코로나 19 재난 방역 적극 참여 및 지역 사회...</td>\n",
       "    </tr>\n",
       "  </tbody>\n",
       "</table>\n",
       "</div>"
      ],
      "text/plain": [
       "                                            contents  \\\n",
       "0  DGB대구은행의 중금리대출 실적이 지방은행뿐만 아니라 은행권 전체에서 가장 많은 것...   \n",
       "1  DGB대구은행(은행장 임성훈)은 다가오는 어버이날을 맞아 지역 내 방역취약계층 어르...   \n",
       "2  DGB금융의 순이익은 지난해 1분기에 견줘 40% 급증했다. 핵심 계열사인 대구은행...   \n",
       "3  DGB대구은행(이하 대구은행)은 코로나19 재난 방역 적극 참여 및 지역사회 지원활...   \n",
       "\n",
       "                                      nouns_contents  \n",
       "0  DGB 대 구 은행 중 금리 대출 실적 지방 은행 뿐 만 아니다 은행권 전체 에서 ...  \n",
       "1  DGB 대 구 은행 은행 장 임성훈 다가오다 어버이날 을 맞다 지역 내 방역 취약 ...  \n",
       "2  DGB 금융 순이익 지난해 1분 기에 견줘 40% 급증 핵심 계열 사인 대 구 은행...  \n",
       "3  DGB 대구 은행 이하 대 구 은행 코로나 19 재난 방역 적극 참여 및 지역 사회...  "
      ]
     },
     "execution_count": 44,
     "metadata": {},
     "output_type": "execute_result"
    }
   ],
   "source": [
    "df_news_copy.loc[:3, ['contents', 'nouns_contents']]"
   ]
  },
  {
   "cell_type": "markdown",
   "id": "75f67cf9",
   "metadata": {},
   "source": [
    "## 파생변수 불필요데이터(이상치?) 처리 \n",
    "**nouns_contents 컬럼**\n",
    "- 외화 / 외화 Buyamp / It 해당 단어들이 들어가 있으면 --> 스크래핑 오류 또한, 요약본 기준 글자갯수가 40이하라면 이상치로 판단 --> 또한 의미없는 데이터가 주로 분표됨 90% 이상"
   ]
  },
  {
   "cell_type": "code",
   "execution_count": 45,
   "id": "d80d87d3",
   "metadata": {
    "ExecuteTime": {
     "end_time": "2022-05-19T23:55:17.958636Z",
     "start_time": "2022-05-19T23:55:17.899699Z"
    }
   },
   "outputs": [
    {
     "data": {
      "text/html": [
       "<div>\n",
       "<style scoped>\n",
       "    .dataframe tbody tr th:only-of-type {\n",
       "        vertical-align: middle;\n",
       "    }\n",
       "\n",
       "    .dataframe tbody tr th {\n",
       "        vertical-align: top;\n",
       "    }\n",
       "\n",
       "    .dataframe thead th {\n",
       "        text-align: right;\n",
       "    }\n",
       "</style>\n",
       "<table border=\"1\" class=\"dataframe\">\n",
       "  <thead>\n",
       "    <tr style=\"text-align: right;\">\n",
       "      <th></th>\n",
       "      <th>contents</th>\n",
       "      <th>nouns_contents</th>\n",
       "    </tr>\n",
       "  </thead>\n",
       "  <tbody>\n",
       "    <tr>\n",
       "      <th>34</th>\n",
       "      <td>'Buy&amp;amp</td>\n",
       "      <td>Buyamp</td>\n",
       "    </tr>\n",
       "    <tr>\n",
       "      <th>69</th>\n",
       "      <td>- 외화 Buy&amp;amp</td>\n",
       "      <td>외화 Buyamp</td>\n",
       "    </tr>\n",
       "    <tr>\n",
       "      <th>565</th>\n",
       "      <td>대구은행은 임성훈&amp;lt</td>\n",
       "      <td>대 구 은행 임성훈 lt</td>\n",
       "    </tr>\n",
       "  </tbody>\n",
       "</table>\n",
       "</div>"
      ],
      "text/plain": [
       "         contents nouns_contents\n",
       "34       'Buy&amp         Buyamp\n",
       "69   - 외화 Buy&amp      외화 Buyamp\n",
       "565  대구은행은 임성훈&lt  대 구 은행 임성훈 lt"
      ]
     },
     "execution_count": 45,
     "metadata": {},
     "output_type": "execute_result"
    }
   ],
   "source": [
    "r_idx = list()\n",
    "for i in range(len(df_news_copy)):\n",
    "    if len(df_news_copy['nouns_contents'][i]) <= 60:# or  '외화 Buyamp' in df_news_copy['nouns_contents'][i]:\n",
    "        r_idx.append(i)\n",
    "df_news_copy.loc[r_idx, ['contents', 'nouns_contents']][:3]"
   ]
  },
  {
   "cell_type": "code",
   "execution_count": 46,
   "id": "3c26d88d",
   "metadata": {
    "ExecuteTime": {
     "end_time": "2022-05-19T23:55:17.973588Z",
     "start_time": "2022-05-19T23:55:17.959633Z"
    }
   },
   "outputs": [],
   "source": [
    "df_news_copy.drop(index = r_idx, axis=0, inplace=True)"
   ]
  },
  {
   "cell_type": "code",
   "execution_count": 47,
   "id": "5345f375",
   "metadata": {
    "ExecuteTime": {
     "end_time": "2022-05-19T23:55:17.988549Z",
     "start_time": "2022-05-19T23:55:17.974618Z"
    }
   },
   "outputs": [],
   "source": [
    "# 인덱스 번호 새로 부여.\n",
    "df_news_copy.reset_index(inplace=True)\n",
    "df_news_copy.drop(['index'], axis=1, inplace=True)"
   ]
  },
  {
   "cell_type": "code",
   "execution_count": 48,
   "id": "6e30177f",
   "metadata": {
    "ExecuteTime": {
     "end_time": "2022-05-19T23:55:18.003509Z",
     "start_time": "2022-05-19T23:55:17.989547Z"
    }
   },
   "outputs": [
    {
     "name": "stdout",
     "output_type": "stream",
     "text": [
      "원본 : 8997  /  제거 후 : 8948\n"
     ]
    }
   ],
   "source": [
    "print('원본 :', len(df_news), ' /  제거 후 :', len(df_news_copy))"
   ]
  },
  {
   "cell_type": "markdown",
   "id": "6a316465",
   "metadata": {},
   "source": [
    "## 리스트 변환 --> 단어별로 긍정 부정 중립 판단"
   ]
  },
  {
   "cell_type": "code",
   "execution_count": 49,
   "id": "588f12f9",
   "metadata": {
    "ExecuteTime": {
     "end_time": "2022-05-19T23:55:18.018469Z",
     "start_time": "2022-05-19T23:55:18.004507Z"
    }
   },
   "outputs": [
    {
     "data": {
      "text/html": [
       "<div>\n",
       "<style scoped>\n",
       "    .dataframe tbody tr th:only-of-type {\n",
       "        vertical-align: middle;\n",
       "    }\n",
       "\n",
       "    .dataframe tbody tr th {\n",
       "        vertical-align: top;\n",
       "    }\n",
       "\n",
       "    .dataframe thead th {\n",
       "        text-align: right;\n",
       "    }\n",
       "</style>\n",
       "<table border=\"1\" class=\"dataframe\">\n",
       "  <thead>\n",
       "    <tr style=\"text-align: right;\">\n",
       "      <th></th>\n",
       "      <th>nouns_title</th>\n",
       "    </tr>\n",
       "  </thead>\n",
       "  <tbody>\n",
       "    <tr>\n",
       "      <th>0</th>\n",
       "      <td>DGB 대구 은행 은행권 중 금리 대출 실적 1위</td>\n",
       "    </tr>\n",
       "    <tr>\n",
       "      <th>1</th>\n",
       "      <td>DGB 대구 은행 어버이날 맞이 효 孝 마스크 지원</td>\n",
       "    </tr>\n",
       "    <tr>\n",
       "      <th>2</th>\n",
       "      <td>은행 비 은행 동반성 장 지방 금융 지주 1분 기 好好好</td>\n",
       "    </tr>\n",
       "    <tr>\n",
       "      <th>3</th>\n",
       "      <td>DGB 대구 銀 코로나 대응 관련 유공 행정안전부 장관 표창</td>\n",
       "    </tr>\n",
       "  </tbody>\n",
       "</table>\n",
       "</div>"
      ],
      "text/plain": [
       "                         nouns_title\n",
       "0        DGB 대구 은행 은행권 중 금리 대출 실적 1위\n",
       "1       DGB 대구 은행 어버이날 맞이 효 孝 마스크 지원\n",
       "2    은행 비 은행 동반성 장 지방 금융 지주 1분 기 好好好\n",
       "3  DGB 대구 銀 코로나 대응 관련 유공 행정안전부 장관 표창"
      ]
     },
     "execution_count": 49,
     "metadata": {},
     "output_type": "execute_result"
    }
   ],
   "source": [
    "df_news_copy.loc[:3, ['nouns_title']]"
   ]
  },
  {
   "cell_type": "code",
   "execution_count": 50,
   "id": "c77e23d8",
   "metadata": {
    "ExecuteTime": {
     "end_time": "2022-05-19T23:55:18.033429Z",
     "start_time": "2022-05-19T23:55:18.019496Z"
    },
    "scrolled": true
   },
   "outputs": [
    {
     "name": "stdout",
     "output_type": "stream",
     "text": [
      "['DGB', '대구', '은행', '은행권', '중', '금리', '대출', '실적', '1위']\n",
      "['DGB', '대구', '은행', '어버이날', '맞이', '효', '孝', '마스크', '지원']\n",
      "['은행', '비', '은행', '동반성', '장', '지방', '금융', '지주', '1분', '기', '好好好']\n",
      "['DGB', '대구', '銀', '코로나', '대응', '관련', '유공', '행정안전부', '장관', '표창']\n"
     ]
    }
   ],
   "source": [
    "df_news_copy.loc[:5, ['nouns_title']]\n",
    "# nouns 컬럼 --> 공백을 기준으로 나눠 리스트로 변환\n",
    "df_news_copy['nouns_title'][0].split(' ')\n",
    "for title_words in df_news_copy['nouns_title'][:4]:\n",
    "    print(list(title_words.split(' ')))"
   ]
  },
  {
   "cell_type": "markdown",
   "id": "129011aa",
   "metadata": {},
   "source": [
    "## 파일 저장"
   ]
  },
  {
   "cell_type": "code",
   "execution_count": 51,
   "id": "5e9b55d0",
   "metadata": {
    "ExecuteTime": {
     "end_time": "2022-05-19T23:55:18.048389Z",
     "start_time": "2022-05-19T23:55:18.034427Z"
    },
    "scrolled": true
   },
   "outputs": [
    {
     "name": "stdout",
     "output_type": "stream",
     "text": [
      "<class 'pandas.core.frame.DataFrame'>\n",
      "RangeIndex: 8948 entries, 0 to 8947\n",
      "Data columns (total 9 columns):\n",
      " #   Column          Non-Null Count  Dtype         \n",
      "---  ------          --------------  -----         \n",
      " 0   date            8948 non-null   datetime64[ns]\n",
      " 1   year            8948 non-null   int64         \n",
      " 2   month           8948 non-null   int64         \n",
      " 3   day             8948 non-null   int64         \n",
      " 4   title           8948 non-null   object        \n",
      " 5   nouns_title     8948 non-null   object        \n",
      " 6   press           8948 non-null   object        \n",
      " 7   contents        8948 non-null   object        \n",
      " 8   nouns_contents  8948 non-null   object        \n",
      "dtypes: datetime64[ns](1), int64(3), object(5)\n",
      "memory usage: 629.3+ KB\n"
     ]
    }
   ],
   "source": [
    "df_news_copy.info()"
   ]
  },
  {
   "cell_type": "code",
   "execution_count": 52,
   "id": "b701d314",
   "metadata": {
    "ExecuteTime": {
     "end_time": "2022-05-19T23:55:18.063349Z",
     "start_time": "2022-05-19T23:55:18.049387Z"
    }
   },
   "outputs": [],
   "source": [
    "# 저장전 날짜별 내림차순으로 정렬\n",
    "df_news_copy.sort_values(by = ['date'], inplace=True, ascending=True)"
   ]
  },
  {
   "cell_type": "code",
   "execution_count": 53,
   "id": "811be5a6",
   "metadata": {
    "ExecuteTime": {
     "end_time": "2022-05-19T23:55:18.078309Z",
     "start_time": "2022-05-19T23:55:18.064376Z"
    }
   },
   "outputs": [],
   "source": [
    "# 인덱스 번호 새로 부여.\n",
    "df_news_copy.reset_index(inplace=True)\n",
    "df_news_copy.drop(['index'], axis=1, inplace=True)"
   ]
  },
  {
   "cell_type": "code",
   "execution_count": 54,
   "id": "9f294866",
   "metadata": {
    "ExecuteTime": {
     "end_time": "2022-05-19T23:55:18.093614Z",
     "start_time": "2022-05-19T23:55:18.079307Z"
    }
   },
   "outputs": [],
   "source": [
    "# 기술 통계량 확인\n",
    "# df_news_copy.describe(include='all')"
   ]
  },
  {
   "cell_type": "code",
   "execution_count": 55,
   "id": "e247dd03",
   "metadata": {
    "ExecuteTime": {
     "end_time": "2022-05-19T23:55:18.273160Z",
     "start_time": "2022-05-19T23:55:18.094610Z"
    }
   },
   "outputs": [],
   "source": [
    "# r_title.to_csv('news_data_preprocessing.csv')\n",
    "df_news_copy.to_csv('news_data_preprocessing.csv')"
   ]
  },
  {
   "cell_type": "markdown",
   "id": "66c3f39b",
   "metadata": {},
   "source": [
    "# 레이블링 / 정수 인코딩 / 데이터 셋 분할\n",
    "\n",
    "- 긍정 부정 단어를 분류 기초 방식. 따라서 보충이 필요.\n",
    "\n",
    "**※논문 참고(계산법) : http://www.koreascience.kr/article/JAKO201719363360793.pdf**"
   ]
  },
  {
   "cell_type": "markdown",
   "id": "061f79ea",
   "metadata": {},
   "source": [
    "## 레이블링"
   ]
  },
  {
   "cell_type": "code",
   "execution_count": 56,
   "id": "185bf789",
   "metadata": {
    "ExecuteTime": {
     "end_time": "2022-05-19T23:55:18.288092Z",
     "start_time": "2022-05-19T23:55:18.274130Z"
    }
   },
   "outputs": [],
   "source": [
    "import sys\n",
    "pos_word = []\n",
    "neg_word = []\n",
    "pos_neg = []\n",
    "\n",
    "pos = open('./pos_neg_dictionary/positive_word.txt', 'r', encoding='UTF-8')\n",
    "\n",
    "while True:\n",
    "    line = pos.readline().rstrip()\n",
    "    pos_word.append(line)\n",
    "    \n",
    "    if not line:\n",
    "        break\n",
    "\n",
    "pos.close()\n",
    "\n",
    "neg = open('./pos_neg_dictionary/negative_word.txt', 'r', encoding='UTF-8')\n",
    "\n",
    "while True:\n",
    "    line = neg.readline().rstrip()\n",
    "    neg_word.append(line)\n",
    "    \n",
    "    if not line:\n",
    "        break\n",
    "\n",
    "neg.close()"
   ]
  },
  {
   "cell_type": "code",
   "execution_count": 57,
   "id": "a5278b12",
   "metadata": {
    "ExecuteTime": {
     "end_time": "2022-05-19T23:55:18.303052Z",
     "start_time": "2022-05-19T23:55:18.289089Z"
    }
   },
   "outputs": [],
   "source": [
    "# 마지막 인덱스 '' 제거\n",
    "pos_word = pos_word[:-1]\n",
    "neg_word = neg_word[:-1]\n",
    "pos_neg = pos_word + neg_word"
   ]
  },
  {
   "cell_type": "code",
   "execution_count": 58,
   "id": "3a5165e3",
   "metadata": {
    "ExecuteTime": {
     "end_time": "2022-05-19T23:55:19.066011Z",
     "start_time": "2022-05-19T23:55:18.304050Z"
    }
   },
   "outputs": [
    {
     "name": "stdout",
     "output_type": "stream",
     "text": [
      "부정:567   긍정:5567   중립:2814\n"
     ]
    }
   ],
   "source": [
    "state = list()\n",
    "\n",
    "for x in df_news_copy['nouns_title']:\n",
    "    words = x.split(' ')\n",
    "    total, p, n = 0, 0, 0\n",
    "    for i in words:\n",
    "        if i in pos_word:\n",
    "            p += 1\n",
    "        elif i in neg_word:\n",
    "            n += 1\n",
    "    \n",
    "    # 기사 제목당 긍정갯수 - 부정 갯수\n",
    "    total = p - n\n",
    "    if total > 0:\n",
    "        state.append(1)\n",
    "    elif total == 0:\n",
    "        state.append(0)\n",
    "    else:\n",
    "        state.append(-1)\n",
    "\n",
    "print('부정:%d   긍정:%d   중립:%d' % (state.count(-1), state.count(1), state.count(0)))\n",
    "\n",
    "# pd.set_option('mode.chained_assignment',  None) # 경고 off\n",
    "df_news_copy['label'] = 0\n",
    "for i in range(len(state)):\n",
    "    df_news_copy['label'][i] = state[i]"
   ]
  },
  {
   "cell_type": "code",
   "execution_count": 59,
   "id": "798e35d3",
   "metadata": {
    "ExecuteTime": {
     "end_time": "2022-05-19T23:55:19.080971Z",
     "start_time": "2022-05-19T23:55:19.067009Z"
    }
   },
   "outputs": [
    {
     "data": {
      "text/html": [
       "<div>\n",
       "<style scoped>\n",
       "    .dataframe tbody tr th:only-of-type {\n",
       "        vertical-align: middle;\n",
       "    }\n",
       "\n",
       "    .dataframe tbody tr th {\n",
       "        vertical-align: top;\n",
       "    }\n",
       "\n",
       "    .dataframe thead th {\n",
       "        text-align: right;\n",
       "    }\n",
       "</style>\n",
       "<table border=\"1\" class=\"dataframe\">\n",
       "  <thead>\n",
       "    <tr style=\"text-align: right;\">\n",
       "      <th></th>\n",
       "      <th>date</th>\n",
       "      <th>year</th>\n",
       "      <th>month</th>\n",
       "      <th>day</th>\n",
       "      <th>title</th>\n",
       "      <th>nouns_title</th>\n",
       "      <th>press</th>\n",
       "      <th>contents</th>\n",
       "      <th>nouns_contents</th>\n",
       "      <th>label</th>\n",
       "    </tr>\n",
       "  </thead>\n",
       "  <tbody>\n",
       "    <tr>\n",
       "      <th>0</th>\n",
       "      <td>2021-05-01</td>\n",
       "      <td>2021</td>\n",
       "      <td>5</td>\n",
       "      <td>1</td>\n",
       "      <td>DGB대구은행, 은행권 중금리대출 실적 1위</td>\n",
       "      <td>DGB 대구 은행 은행권 중 금리 대출 실적 1위</td>\n",
       "      <td>글로벌이코노믹</td>\n",
       "      <td>DGB대구은행의 중금리대출 실적이 지방은행뿐만 아니라 은행권 전체에서 가장 많은 것...</td>\n",
       "      <td>DGB 대 구 은행 중 금리 대출 실적 지방 은행 뿐 만 아니다 은행권 전체 에서 ...</td>\n",
       "      <td>1</td>\n",
       "    </tr>\n",
       "    <tr>\n",
       "      <th>1</th>\n",
       "      <td>2021-05-01</td>\n",
       "      <td>2021</td>\n",
       "      <td>5</td>\n",
       "      <td>1</td>\n",
       "      <td>DGB대구은행, 어버이날 맞이 효(孝) 마스크 지원</td>\n",
       "      <td>DGB 대구 은행 어버이날 맞이 효 孝 마스크 지원</td>\n",
       "      <td>경북신문</td>\n",
       "      <td>DGB대구은행(은행장 임성훈)은 다가오는 어버이날을 맞아 지역 내 방역취약계층 어르...</td>\n",
       "      <td>DGB 대 구 은행 은행 장 임성훈 다가오다 어버이날 을 맞다 지역 내 방역 취약 ...</td>\n",
       "      <td>1</td>\n",
       "    </tr>\n",
       "  </tbody>\n",
       "</table>\n",
       "</div>"
      ],
      "text/plain": [
       "        date  year  month  day                         title  \\\n",
       "0 2021-05-01  2021      5    1      DGB대구은행, 은행권 중금리대출 실적 1위   \n",
       "1 2021-05-01  2021      5    1  DGB대구은행, 어버이날 맞이 효(孝) 마스크 지원   \n",
       "\n",
       "                    nouns_title    press  \\\n",
       "0   DGB 대구 은행 은행권 중 금리 대출 실적 1위  글로벌이코노믹   \n",
       "1  DGB 대구 은행 어버이날 맞이 효 孝 마스크 지원     경북신문   \n",
       "\n",
       "                                            contents  \\\n",
       "0  DGB대구은행의 중금리대출 실적이 지방은행뿐만 아니라 은행권 전체에서 가장 많은 것...   \n",
       "1  DGB대구은행(은행장 임성훈)은 다가오는 어버이날을 맞아 지역 내 방역취약계층 어르...   \n",
       "\n",
       "                                      nouns_contents  label  \n",
       "0  DGB 대 구 은행 중 금리 대출 실적 지방 은행 뿐 만 아니다 은행권 전체 에서 ...      1  \n",
       "1  DGB 대 구 은행 은행 장 임성훈 다가오다 어버이날 을 맞다 지역 내 방역 취약 ...      1  "
      ]
     },
     "execution_count": 59,
     "metadata": {},
     "output_type": "execute_result"
    }
   ],
   "source": [
    "df_news_copy[:2]"
   ]
  },
  {
   "cell_type": "markdown",
   "id": "c605eef2",
   "metadata": {},
   "source": [
    "### 중립 개수가 너무 많음.\n",
    "- 제목별로 단어개수를 파악해서 긍정단어사전과 부정단어사전을 만들어서 레이블링 작업 진행해야 함. \n",
    "- 기사당 긍정단어개수 - 부정단어개수가 0보다 크면 긍정 작으면 부정 0이라면 중립으로 진행\n",
    "\n",
    "***nouns_title 컬럼에서 길이가 1 또는 한자가 있다면 제거***"
   ]
  },
  {
   "cell_type": "markdown",
   "id": "0472600e",
   "metadata": {},
   "source": [
    "#### 추가 불용어 제거 ( 2차 )"
   ]
  },
  {
   "cell_type": "code",
   "execution_count": 60,
   "id": "aaf54fab",
   "metadata": {
    "ExecuteTime": {
     "end_time": "2022-05-19T23:55:19.095931Z",
     "start_time": "2022-05-19T23:55:19.081970Z"
    }
   },
   "outputs": [
    {
     "name": "stdout",
     "output_type": "stream",
     "text": [
      "리스트 레이블링 정제 전\n",
      "['DGB', '대구', '은행', '은행권', '중', '금리', '대출', '실적', '1위']\n",
      "['DGB', '대구', '은행', '어버이날', '맞이', '효', '孝', '마스크', '지원']\n",
      "['은행', '비', '은행', '동반성', '장', '지방', '금융', '지주', '1분', '기', '好好好']\n",
      "['DGB', '대구', '銀', '코로나', '대응', '관련', '유공', '행정안전부', '장관', '표창']\n"
     ]
    }
   ],
   "source": [
    "# 리스트로 변환 후 체크 \n",
    "print('리스트 레이블링 정제 전')\n",
    "# nouns 컬럼 --> 공백을 기준으로 나눠 리스트로 변환\n",
    "df_news_copy['nouns_title'][0].split(' ')\n",
    "for title_words in df_news_copy['nouns_title'][:4]:\n",
    "    print(list(title_words.split(' ')))"
   ]
  },
  {
   "cell_type": "code",
   "execution_count": 61,
   "id": "cffca0d9",
   "metadata": {
    "ExecuteTime": {
     "end_time": "2022-05-19T23:55:19.111888Z",
     "start_time": "2022-05-19T23:55:19.097925Z"
    }
   },
   "outputs": [
    {
     "name": "stdout",
     "output_type": "stream",
     "text": [
      "It is an alphabet\n"
     ]
    }
   ],
   "source": [
    "# # [-=+,#/\\?:^.@*\\\"※~ㆍ!』‘|\\(\\)\\[\\]`\\'…》\\”\\“\\’·◇②【】<>�→α&]\n",
    "import re\n",
    "word=\"↑\" # 테스트 용\n",
    "# 한글 / 대소문자 / 숫자만 확인\n",
    "reg = re.compile(r'[가-힣a-zA-Z0-9↑]') \n",
    "\n",
    "if reg.match(word):\n",
    "    print(\"It is an alphabet\")\n",
    "else:\n",
    "    print(\"It is not an alphabet\")"
   ]
  },
  {
   "cell_type": "code",
   "execution_count": 62,
   "id": "1ef84b09",
   "metadata": {
    "ExecuteTime": {
     "end_time": "2022-05-19T23:55:25.664358Z",
     "start_time": "2022-05-19T23:55:19.112887Z"
    }
   },
   "outputs": [
    {
     "data": {
      "text/html": [
       "<div>\n",
       "<style scoped>\n",
       "    .dataframe tbody tr th:only-of-type {\n",
       "        vertical-align: middle;\n",
       "    }\n",
       "\n",
       "    .dataframe tbody tr th {\n",
       "        vertical-align: top;\n",
       "    }\n",
       "\n",
       "    .dataframe thead th {\n",
       "        text-align: right;\n",
       "    }\n",
       "</style>\n",
       "<table border=\"1\" class=\"dataframe\">\n",
       "  <thead>\n",
       "    <tr style=\"text-align: right;\">\n",
       "      <th></th>\n",
       "      <th>date</th>\n",
       "      <th>year</th>\n",
       "      <th>month</th>\n",
       "      <th>day</th>\n",
       "      <th>title</th>\n",
       "      <th>nouns_title</th>\n",
       "      <th>press</th>\n",
       "      <th>contents</th>\n",
       "      <th>nouns_contents</th>\n",
       "      <th>label</th>\n",
       "    </tr>\n",
       "  </thead>\n",
       "  <tbody>\n",
       "    <tr>\n",
       "      <th>0</th>\n",
       "      <td>2021-05-01</td>\n",
       "      <td>2021</td>\n",
       "      <td>5</td>\n",
       "      <td>1</td>\n",
       "      <td>DGB대구은행, 은행권 중금리대출 실적 1위</td>\n",
       "      <td>DGB 대구 은행 은행권 금리 대출 실적 1위</td>\n",
       "      <td>글로벌이코노믹</td>\n",
       "      <td>DGB대구은행의 중금리대출 실적이 지방은행뿐만 아니라 은행권 전체에서 가장 많은 것...</td>\n",
       "      <td>DGB 대 구 은행 중 금리 대출 실적 지방 은행 뿐 만 아니다 은행권 전체 에서 ...</td>\n",
       "      <td>1</td>\n",
       "    </tr>\n",
       "    <tr>\n",
       "      <th>1</th>\n",
       "      <td>2021-05-01</td>\n",
       "      <td>2021</td>\n",
       "      <td>5</td>\n",
       "      <td>1</td>\n",
       "      <td>DGB대구은행, 어버이날 맞이 효(孝) 마스크 지원</td>\n",
       "      <td>DGB 대구 은행 어버이날 맞이 마스크 지원</td>\n",
       "      <td>경북신문</td>\n",
       "      <td>DGB대구은행(은행장 임성훈)은 다가오는 어버이날을 맞아 지역 내 방역취약계층 어르...</td>\n",
       "      <td>DGB 대 구 은행 은행 장 임성훈 다가오다 어버이날 을 맞다 지역 내 방역 취약 ...</td>\n",
       "      <td>1</td>\n",
       "    </tr>\n",
       "  </tbody>\n",
       "</table>\n",
       "</div>"
      ],
      "text/plain": [
       "        date  year  month  day                         title  \\\n",
       "0 2021-05-01  2021      5    1      DGB대구은행, 은행권 중금리대출 실적 1위   \n",
       "1 2021-05-01  2021      5    1  DGB대구은행, 어버이날 맞이 효(孝) 마스크 지원   \n",
       "\n",
       "                 nouns_title    press  \\\n",
       "0  DGB 대구 은행 은행권 금리 대출 실적 1위  글로벌이코노믹   \n",
       "1   DGB 대구 은행 어버이날 맞이 마스크 지원     경북신문   \n",
       "\n",
       "                                            contents  \\\n",
       "0  DGB대구은행의 중금리대출 실적이 지방은행뿐만 아니라 은행권 전체에서 가장 많은 것...   \n",
       "1  DGB대구은행(은행장 임성훈)은 다가오는 어버이날을 맞아 지역 내 방역취약계층 어르...   \n",
       "\n",
       "                                      nouns_contents  label  \n",
       "0  DGB 대 구 은행 중 금리 대출 실적 지방 은행 뿐 만 아니다 은행권 전체 에서 ...      1  \n",
       "1  DGB 대 구 은행 은행 장 임성훈 다가오다 어버이날 을 맞다 지역 내 방역 취약 ...      1  "
      ]
     },
     "execution_count": 62,
     "metadata": {},
     "output_type": "execute_result"
    }
   ],
   "source": [
    "import re\n",
    "# 1글자짜리 한글 한자 제거\n",
    "reg = re.compile(r'[가-힣a-zA-Z0-9↑]')\n",
    "def Chinese_character(x):\n",
    "    if reg.match(x): # 한글 / 대소문자 / 숫자\n",
    "        return False\n",
    "    else: # 한자\n",
    "        return True\n",
    "    \n",
    "for title_words in df_news_copy['nouns_title']: # xxx --> df_news_copy\n",
    "    ch_list = list(title_words.split(' '))\n",
    "    change_value = ''\n",
    "    for i in range(len(ch_list)):\n",
    "        if ch_list[i] == '↑' or ch_list[i] == 'A':\n",
    "            change_value += ch_list[i]\n",
    "            continue\n",
    "            \n",
    "        if len(ch_list[i]) < 2 or Chinese_character(ch_list[i]): # 1글자 이하 또는 함수내에 있다면 제거\n",
    "            continue\n",
    "        else:\n",
    "            change_value += ch_list[i]\n",
    "        \n",
    "        # 리스트 마지막 '' 제거\n",
    "        change_value += ' '\n",
    "    df_news_copy.replace({'nouns_title' : title_words}, change_value[:-1], inplace=True)\n",
    "    \n",
    "df_news_copy.head(2)"
   ]
  },
  {
   "cell_type": "code",
   "execution_count": 63,
   "id": "eb3cd751",
   "metadata": {
    "ExecuteTime": {
     "end_time": "2022-05-19T23:55:25.813958Z",
     "start_time": "2022-05-19T23:55:25.665356Z"
    }
   },
   "outputs": [],
   "source": [
    "# r_title.to_csv('news_data_preprocessing.csv')\n",
    "df_news_copy.to_csv('news_data_preprocessing.csv')"
   ]
  },
  {
   "cell_type": "markdown",
   "id": "9b5c1930",
   "metadata": {},
   "source": [
    "## Train Set / Test Set 분할\n",
    "\n",
    "- Train Set과 Test Set으로 분류 ( 7:3 )\n",
    "- train_test_split() 함수에서 shuffle / default option : True.\n",
    "- stratify 옵션 중요 !!\n",
    "- Pos : 개선 / Neg : 불만\n",
    "\n",
    "**참고 https://sosoeasy.tistory.com/488 / https://teddylee777.github.io/scikit-learn/train-test-split**"
   ]
  },
  {
   "cell_type": "code",
   "execution_count": 64,
   "id": "65ec654b",
   "metadata": {
    "ExecuteTime": {
     "end_time": "2022-05-19T23:55:26.741477Z",
     "start_time": "2022-05-19T23:55:25.814957Z"
    }
   },
   "outputs": [],
   "source": [
    "from sklearn.model_selection import train_test_split"
   ]
  },
  {
   "cell_type": "code",
   "execution_count": 65,
   "id": "67f472ef",
   "metadata": {
    "ExecuteTime": {
     "end_time": "2022-05-19T23:55:26.756438Z",
     "start_time": "2022-05-19T23:55:26.742476Z"
    }
   },
   "outputs": [],
   "source": [
    "# 필요한 데이터만 추출 / 컬럼명 변경\n",
    "# 70% / 30% 으로 분할\n",
    "x_train, x_test = train_test_split(df_news_copy.loc[:,['nouns_title', 'label']], test_size = 0.3, shuffle = True, random_state = 1234)"
   ]
  },
  {
   "cell_type": "code",
   "execution_count": 66,
   "id": "208d2cc1",
   "metadata": {
    "ExecuteTime": {
     "end_time": "2022-05-19T23:55:26.771398Z",
     "start_time": "2022-05-19T23:55:26.757436Z"
    }
   },
   "outputs": [],
   "source": [
    "# 인덱스 번호 새로 부여.\n",
    "x_train.reset_index(inplace=True)\n",
    "x_train.drop(['index'], axis=1, inplace=True)\n",
    "\n",
    "x_test.reset_index(inplace=True)\n",
    "x_test.drop(['index'], axis=1, inplace=True)"
   ]
  },
  {
   "cell_type": "code",
   "execution_count": 67,
   "id": "44ed751a",
   "metadata": {
    "ExecuteTime": {
     "end_time": "2022-05-19T23:55:26.786357Z",
     "start_time": "2022-05-19T23:55:26.772395Z"
    }
   },
   "outputs": [
    {
     "name": "stdout",
     "output_type": "stream",
     "text": [
      "<class 'pandas.core.frame.DataFrame'> <class 'pandas.core.frame.DataFrame'>\n"
     ]
    }
   ],
   "source": [
    "# 2개의 데이터 프레임 생성\n",
    "print(type(x_train), type(x_test))"
   ]
  },
  {
   "cell_type": "markdown",
   "id": "5108e893",
   "metadata": {},
   "source": [
    "### Train Set / Test Set 시각화 및 레이블 현황\n",
    "\n",
    "**참고 : isin() 문법 참고 : https://rfriend.tistory.com/460**"
   ]
  },
  {
   "cell_type": "code",
   "execution_count": 68,
   "id": "e4de1bff",
   "metadata": {
    "ExecuteTime": {
     "end_time": "2022-05-19T23:55:26.935985Z",
     "start_time": "2022-05-19T23:55:26.790346Z"
    }
   },
   "outputs": [
    {
     "name": "stderr",
     "output_type": "stream",
     "text": [
      "findfont: Font family ['NanumGothic'] not found. Falling back to DejaVu Sans.\n",
      "findfont: Font family ['NanumGothic'] not found. Falling back to DejaVu Sans.\n"
     ]
    },
    {
     "data": {
      "image/png": "[encoded data removed]",
      "text/plain": [
       "<Figure size 432x288 with 1 Axes>"
      ]
     },
     "metadata": {
      "needs_background": "light"
     },
     "output_type": "display_data"
    }
   ],
   "source": [
    "x_train['label'].value_counts().plot(kind='bar')\n",
    "plt.title('Train Set Label', size = 15)\n",
    "plt.show()"
   ]
  },
  {
   "cell_type": "code",
   "execution_count": 69,
   "id": "1e1a9e62",
   "metadata": {
    "ExecuteTime": {
     "end_time": "2022-05-19T23:55:27.025745Z",
     "start_time": "2022-05-19T23:55:26.937951Z"
    }
   },
   "outputs": [
    {
     "data": {
      "image/png": "[encoded data removed]",
      "text/plain": [
       "<Figure size 432x288 with 1 Axes>"
      ]
     },
     "metadata": {
      "needs_background": "light"
     },
     "output_type": "display_data"
    }
   ],
   "source": [
    "x_test['label'].value_counts().plot(kind='bar')\n",
    "plt.title('Test Set Label', size = 15)\n",
    "plt.show()"
   ]
  },
  {
   "cell_type": "code",
   "execution_count": 70,
   "id": "27b354d4",
   "metadata": {
    "ExecuteTime": {
     "end_time": "2022-05-19T23:55:27.040678Z",
     "start_time": "2022-05-19T23:55:27.026715Z"
    }
   },
   "outputs": [
    {
     "name": "stdout",
     "output_type": "stream",
     "text": [
      "Train_Set  긍정(1) : 3903 \n",
      "\t   중립(0) : 1960 \n",
      "\t   부정(-1) : 400 \n",
      "\t   총 합계 : 6263\n",
      "\n",
      "Test_Set   긍정(1) : 1664 \n",
      "\t   중립(0) : 854 \n",
      "\t   부정(-1) : 167 \n",
      "\t   총 합계 : 2685\n"
     ]
    }
   ],
   "source": [
    "# Train_Set 레이블 현황 갯수\n",
    "print('Train_Set  긍정(1) : {} \\n\\t   중립(0) : {} \\n\\t   부정(-1) : {} \\n\\t   총 합계 : {}'.format(len(x_train[x_train['label'].isin([1])]), len(x_train[x_train['label'].isin([0])]), len(x_train[x_train['label'].isin([-1])]), len(x_train)))\n",
    "print()\n",
    "# Test_Set 레이블 현황 갯수\n",
    "print('Test_Set   긍정(1) : {} \\n\\t   중립(0) : {} \\n\\t   부정(-1) : {} \\n\\t   총 합계 : {}'.format(len(x_test[x_test['label'].isin([1])]), len(x_test[x_test['label'].isin([0])]), len(x_test[x_test['label'].isin([-1])]), len(x_test)))"
   ]
  },
  {
   "cell_type": "markdown",
   "id": "8deeddd2",
   "metadata": {},
   "source": [
    "## Convert to two_dimensional list"
   ]
  },
  {
   "cell_type": "code",
   "execution_count": 71,
   "id": "6b757394",
   "metadata": {
    "ExecuteTime": {
     "end_time": "2022-05-19T23:55:27.055637Z",
     "start_time": "2022-05-19T23:55:27.041675Z"
    }
   },
   "outputs": [
    {
     "name": "stdout",
     "output_type": "stream",
     "text": [
      "6263 2685\n"
     ]
    }
   ],
   "source": [
    "print(len(x_train), len(x_test))"
   ]
  },
  {
   "cell_type": "code",
   "execution_count": 72,
   "id": "efbfed0d",
   "metadata": {
    "ExecuteTime": {
     "end_time": "2022-05-19T23:55:27.070597Z",
     "start_time": "2022-05-19T23:55:27.056635Z"
    }
   },
   "outputs": [
    {
     "data": {
      "text/html": [
       "<div>\n",
       "<style scoped>\n",
       "    .dataframe tbody tr th:only-of-type {\n",
       "        vertical-align: middle;\n",
       "    }\n",
       "\n",
       "    .dataframe tbody tr th {\n",
       "        vertical-align: top;\n",
       "    }\n",
       "\n",
       "    .dataframe thead th {\n",
       "        text-align: right;\n",
       "    }\n",
       "</style>\n",
       "<table border=\"1\" class=\"dataframe\">\n",
       "  <thead>\n",
       "    <tr style=\"text-align: right;\">\n",
       "      <th></th>\n",
       "      <th>nouns_title</th>\n",
       "      <th>label</th>\n",
       "    </tr>\n",
       "  </thead>\n",
       "  <tbody>\n",
       "    <tr>\n",
       "      <th>0</th>\n",
       "      <td>열대야 일수 맞추다 우대금리 DGB 대구 은행 프리 적금</td>\n",
       "      <td>0</td>\n",
       "    </tr>\n",
       "    <tr>\n",
       "      <th>1</th>\n",
       "      <td>DGB 대구 은행 국가 고객 만족도 NCSI 지방 은행 1위 선정</td>\n",
       "      <td>1</td>\n",
       "    </tr>\n",
       "    <tr>\n",
       "      <th>2</th>\n",
       "      <td>금융 안전 비대 강화 포스 크다 코로나 에도 상품 개발 워드</td>\n",
       "      <td>1</td>\n",
       "    </tr>\n",
       "    <tr>\n",
       "      <th>3</th>\n",
       "      <td>DGB 캐피탈 협업 플로우 도입 목표 지향 업무 환경 강화</td>\n",
       "      <td>1</td>\n",
       "    </tr>\n",
       "    <tr>\n",
       "      <th>4</th>\n",
       "      <td>DGB 대구 은행 전세 대출 금리 인하 취급 제한 해제</td>\n",
       "      <td>1</td>\n",
       "    </tr>\n",
       "    <tr>\n",
       "      <th>...</th>\n",
       "      <td>...</td>\n",
       "      <td>...</td>\n",
       "    </tr>\n",
       "    <tr>\n",
       "      <th>6258</th>\n",
       "      <td>DGB 대구 은행 대구 미술관 지역 문화 발전 업무 협약 체결</td>\n",
       "      <td>1</td>\n",
       "    </tr>\n",
       "    <tr>\n",
       "      <th>6259</th>\n",
       "      <td>DGB 금융 그룹 봉사 통해 코로나 19 자가진단 키트 원금 전달</td>\n",
       "      <td>1</td>\n",
       "    </tr>\n",
       "    <tr>\n",
       "      <th>6260</th>\n",
       "      <td>DGB 대구 은행 우대금리 적용 DGB 삼일절 적금 판매</td>\n",
       "      <td>0</td>\n",
       "    </tr>\n",
       "    <tr>\n",
       "      <th>6261</th>\n",
       "      <td>상품 DGB 대구 은행 언택트 카드</td>\n",
       "      <td>0</td>\n",
       "    </tr>\n",
       "    <tr>\n",
       "      <th>6262</th>\n",
       "      <td>대구 은행 6월 1일 지방선거 앞두다 선거 자금 통장 출시</td>\n",
       "      <td>1</td>\n",
       "    </tr>\n",
       "  </tbody>\n",
       "</table>\n",
       "<p>6263 rows × 2 columns</p>\n",
       "</div>"
      ],
      "text/plain": [
       "                               nouns_title  label\n",
       "0          열대야 일수 맞추다 우대금리 DGB 대구 은행 프리 적금      0\n",
       "1     DGB 대구 은행 국가 고객 만족도 NCSI 지방 은행 1위 선정      1\n",
       "2        금융 안전 비대 강화 포스 크다 코로나 에도 상품 개발 워드      1\n",
       "3         DGB 캐피탈 협업 플로우 도입 목표 지향 업무 환경 강화      1\n",
       "4           DGB 대구 은행 전세 대출 금리 인하 취급 제한 해제      1\n",
       "...                                    ...    ...\n",
       "6258    DGB 대구 은행 대구 미술관 지역 문화 발전 업무 협약 체결      1\n",
       "6259  DGB 금융 그룹 봉사 통해 코로나 19 자가진단 키트 원금 전달      1\n",
       "6260       DGB 대구 은행 우대금리 적용 DGB 삼일절 적금 판매      0\n",
       "6261                   상품 DGB 대구 은행 언택트 카드      0\n",
       "6262      대구 은행 6월 1일 지방선거 앞두다 선거 자금 통장 출시      1\n",
       "\n",
       "[6263 rows x 2 columns]"
      ]
     },
     "execution_count": 72,
     "metadata": {},
     "output_type": "execute_result"
    }
   ],
   "source": [
    "x_train"
   ]
  },
  {
   "cell_type": "code",
   "execution_count": 73,
   "id": "5ee14dcb",
   "metadata": {
    "ExecuteTime": {
     "end_time": "2022-05-19T23:55:27.085557Z",
     "start_time": "2022-05-19T23:55:27.071595Z"
    }
   },
   "outputs": [
    {
     "data": {
      "text/html": [
       "<div>\n",
       "<style scoped>\n",
       "    .dataframe tbody tr th:only-of-type {\n",
       "        vertical-align: middle;\n",
       "    }\n",
       "\n",
       "    .dataframe tbody tr th {\n",
       "        vertical-align: top;\n",
       "    }\n",
       "\n",
       "    .dataframe thead th {\n",
       "        text-align: right;\n",
       "    }\n",
       "</style>\n",
       "<table border=\"1\" class=\"dataframe\">\n",
       "  <thead>\n",
       "    <tr style=\"text-align: right;\">\n",
       "      <th></th>\n",
       "      <th>nouns_title</th>\n",
       "      <th>label</th>\n",
       "    </tr>\n",
       "  </thead>\n",
       "  <tbody>\n",
       "    <tr>\n",
       "      <th>0</th>\n",
       "      <td>지방 은행 ESG DGB 금융 그룹 친환경 디지털로 ESG 경영 속도</td>\n",
       "      <td>1</td>\n",
       "    </tr>\n",
       "    <tr>\n",
       "      <th>1</th>\n",
       "      <td>경북 희망 2022 나눔 캠페인 출범 모금 목표 137억</td>\n",
       "      <td>1</td>\n",
       "    </tr>\n",
       "    <tr>\n",
       "      <th>2</th>\n",
       "      <td>더밸류 금융 신한은행 우리은행 DGB 대구 은행 AI 자산 관리 판교 금융 센터</td>\n",
       "      <td>0</td>\n",
       "    </tr>\n",
       "    <tr>\n",
       "      <th>3</th>\n",
       "      <td>DGB 금융 정보보호 실천 캠페인</td>\n",
       "      <td>1</td>\n",
       "    </tr>\n",
       "    <tr>\n",
       "      <th>4</th>\n",
       "      <td>DGB 대구 은행 캄보디아 현지 법인 상업 은행 공식 출범</td>\n",
       "      <td>1</td>\n",
       "    </tr>\n",
       "    <tr>\n",
       "      <th>...</th>\n",
       "      <td>...</td>\n",
       "      <td>...</td>\n",
       "    </tr>\n",
       "    <tr>\n",
       "      <th>2680</th>\n",
       "      <td>DGB 금융 ESG 경영 협의 열사 모이다 실천 방안 논의</td>\n",
       "      <td>1</td>\n",
       "    </tr>\n",
       "    <tr>\n",
       "      <th>2681</th>\n",
       "      <td>DGB 대구 은행 러시아 경제 제재 피해 기업 1000억원 금융 지원 상환 유예 제도</td>\n",
       "      <td>0</td>\n",
       "    </tr>\n",
       "    <tr>\n",
       "      <th>2682</th>\n",
       "      <td>대구 은행 BC 카드 온라인 간편 결제 할인 이벤트 3만원 결제 5000원 할인</td>\n",
       "      <td>1</td>\n",
       "    </tr>\n",
       "    <tr>\n",
       "      <th>2683</th>\n",
       "      <td>DGB 대구 은행 1090억 규모 중간배당 실시 모두 금융 지주 지급</td>\n",
       "      <td>1</td>\n",
       "    </tr>\n",
       "    <tr>\n",
       "      <th>2684</th>\n",
       "      <td>금융 초록색 물결 녹색 금융 재다 걸음 그린 스완 막다</td>\n",
       "      <td>1</td>\n",
       "    </tr>\n",
       "  </tbody>\n",
       "</table>\n",
       "<p>2685 rows × 2 columns</p>\n",
       "</div>"
      ],
      "text/plain": [
       "                                          nouns_title  label\n",
       "0              지방 은행 ESG DGB 금융 그룹 친환경 디지털로 ESG 경영 속도      1\n",
       "1                     경북 희망 2022 나눔 캠페인 출범 모금 목표 137억      1\n",
       "2        더밸류 금융 신한은행 우리은행 DGB 대구 은행 AI 자산 관리 판교 금융 센터      0\n",
       "3                                  DGB 금융 정보보호 실천 캠페인      1\n",
       "4                    DGB 대구 은행 캄보디아 현지 법인 상업 은행 공식 출범      1\n",
       "...                                               ...    ...\n",
       "2680                 DGB 금융 ESG 경영 협의 열사 모이다 실천 방안 논의      1\n",
       "2681  DGB 대구 은행 러시아 경제 제재 피해 기업 1000억원 금융 지원 상환 유예 제도      0\n",
       "2682     대구 은행 BC 카드 온라인 간편 결제 할인 이벤트 3만원 결제 5000원 할인      1\n",
       "2683           DGB 대구 은행 1090억 규모 중간배당 실시 모두 금융 지주 지급      1\n",
       "2684                   금융 초록색 물결 녹색 금융 재다 걸음 그린 스완 막다      1\n",
       "\n",
       "[2685 rows x 2 columns]"
      ]
     },
     "execution_count": 73,
     "metadata": {},
     "output_type": "execute_result"
    }
   ],
   "source": [
    "x_test"
   ]
  },
  {
   "cell_type": "code",
   "execution_count": 74,
   "id": "7c28a784",
   "metadata": {
    "ExecuteTime": {
     "end_time": "2022-05-19T23:55:27.100517Z",
     "start_time": "2022-05-19T23:55:27.086554Z"
    }
   },
   "outputs": [],
   "source": [
    "# 리스트로 변환 후 체크 \n",
    "# 6263\n",
    "x_train_words = list()\n",
    "for title_words in x_train['nouns_title']:\n",
    "    x_train_words.append(list(title_words.split(' ')))\n",
    "\n",
    "# 2685\n",
    "x_test_words = list()\n",
    "for title_words in x_test['nouns_title']:\n",
    "    x_test_words.append(list(title_words.split(' ')))"
   ]
  },
  {
   "cell_type": "code",
   "execution_count": 75,
   "id": "4e1edef7",
   "metadata": {
    "ExecuteTime": {
     "end_time": "2022-05-19T23:55:27.115477Z",
     "start_time": "2022-05-19T23:55:27.101514Z"
    }
   },
   "outputs": [
    {
     "name": "stdout",
     "output_type": "stream",
     "text": [
      "[['열대야', '일수', '맞추다', '우대금리', 'DGB', '대구', '은행', '프리', '적금'], ['DGB', '대구', '은행', '국가', '고객', '만족도', 'NCSI', '지방', '은행', '1위', '선정'], ['금융', '안전', '비대', '강화', '포스', '크다', '코로나', '에도', '상품', '개발', '워드']]\n"
     ]
    }
   ],
   "source": [
    "print(x_train_words[:3])"
   ]
  },
  {
   "cell_type": "code",
   "execution_count": 76,
   "id": "bb2ae334",
   "metadata": {
    "ExecuteTime": {
     "end_time": "2022-05-19T23:55:27.130437Z",
     "start_time": "2022-05-19T23:55:27.116475Z"
    }
   },
   "outputs": [
    {
     "name": "stdout",
     "output_type": "stream",
     "text": [
      "[['지방', '은행', 'ESG', 'DGB', '금융', '그룹', '친환경', '디지털로', 'ESG', '경영', '속도'], ['경북', '희망', '2022', '나눔', '캠페인', '출범', '모금', '목표', '137억'], ['더밸류', '금융', '신한은행', '우리은행', 'DGB', '대구', '은행', 'AI', '자산', '관리', '판교', '금융', '센터']]\n"
     ]
    }
   ],
   "source": [
    "print(x_test_words[:3])"
   ]
  },
  {
   "cell_type": "markdown",
   "id": "63a2d286",
   "metadata": {},
   "source": [
    "## Integer Encoding\n",
    "- 토큰화 한 단어를 컴퓨터가 인식하도록 정수 인코딩 수행"
   ]
  },
  {
   "cell_type": "code",
   "execution_count": 77,
   "id": "1ec75d4a",
   "metadata": {
    "ExecuteTime": {
     "end_time": "2022-05-19T23:55:32.353801Z",
     "start_time": "2022-05-19T23:55:27.131434Z"
    }
   },
   "outputs": [],
   "source": [
    "from keras.preprocessing.text import Tokenizer"
   ]
  },
  {
   "cell_type": "code",
   "execution_count": 78,
   "id": "900b495f",
   "metadata": {
    "ExecuteTime": {
     "end_time": "2022-05-19T23:55:32.413613Z",
     "start_time": "2022-05-19T23:55:32.354771Z"
    }
   },
   "outputs": [],
   "source": [
    "tokenizer = Tokenizer()\n",
    "tokenizer.fit_on_texts(x_train_words)\n",
    "tokenizer.fit_on_texts(x_test_words)"
   ]
  },
  {
   "cell_type": "code",
   "execution_count": 79,
   "id": "a0344a80",
   "metadata": {
    "ExecuteTime": {
     "end_time": "2022-05-19T23:55:32.443533Z",
     "start_time": "2022-05-19T23:55:32.414610Z"
    }
   },
   "outputs": [],
   "source": [
    "x_train_int = tokenizer.texts_to_sequences(x_train_words)"
   ]
  },
  {
   "cell_type": "code",
   "execution_count": 80,
   "id": "9361a354",
   "metadata": {
    "ExecuteTime": {
     "end_time": "2022-05-19T23:55:32.458493Z",
     "start_time": "2022-05-19T23:55:32.444531Z"
    }
   },
   "outputs": [],
   "source": [
    "x_test_int = tokenizer.texts_to_sequences(x_test_words)"
   ]
  },
  {
   "cell_type": "code",
   "execution_count": 81,
   "id": "dd01a020",
   "metadata": {
    "ExecuteTime": {
     "end_time": "2022-05-19T23:55:32.473453Z",
     "start_time": "2022-05-19T23:55:32.459491Z"
    }
   },
   "outputs": [
    {
     "name": "stdout",
     "output_type": "stream",
     "text": [
      "[[566, 667, 567, 219, 1, 3, 2, 337, 67], [1, 3, 2, 380, 24, 422, 1098, 11, 2, 226, 262], [4, 493, 20, 146, 3016, 547, 59, 478, 54, 108, 1465]]\n"
     ]
    }
   ],
   "source": [
    "print(x_train_int[:3])"
   ]
  },
  {
   "cell_type": "code",
   "execution_count": 82,
   "id": "5bd27ea7",
   "metadata": {
    "ExecuteTime": {
     "end_time": "2022-05-19T23:55:32.488413Z",
     "start_time": "2022-05-19T23:55:32.474451Z"
    }
   },
   "outputs": [
    {
     "name": "stdout",
     "output_type": "stream",
     "text": [
      "[[11, 2, 19, 1, 4, 5, 103, 1976, 19, 22, 546], [17, 141, 99, 40, 66, 104, 1512, 494, 1184], [1773, 4, 811, 403, 1, 3, 2, 228, 252, 60, 4601, 4, 23]]\n"
     ]
    }
   ],
   "source": [
    "print(x_test_int[:3])"
   ]
  },
  {
   "cell_type": "markdown",
   "id": "03c5a0f7",
   "metadata": {},
   "source": [
    "## 제목 길이 기준 분포 확인"
   ]
  },
  {
   "cell_type": "code",
   "execution_count": 83,
   "id": "dee97738",
   "metadata": {
    "ExecuteTime": {
     "end_time": "2022-05-19T23:55:32.653001Z",
     "start_time": "2022-05-19T23:55:32.489410Z"
    },
    "scrolled": true
   },
   "outputs": [
    {
     "name": "stdout",
     "output_type": "stream",
     "text": [
      "제목의 최대 길이(단어의 수) : 15\n",
      "제목의 평균 길이 : 9\n"
     ]
    },
    {
     "data": {
      "image/png": "[encoded data removed]",
      "text/plain": [
       "<Figure size 576x288 with 1 Axes>"
      ]
     },
     "metadata": {
      "needs_background": "light"
     },
     "output_type": "display_data"
    }
   ],
   "source": [
    "print('제목의 최대 길이(단어의 수) :', max([(len(i)) for i in x_train_int]))\n",
    "print('제목의 평균 길이 :', sum([len(i) for i in x_train_int]) // len(x_train_int))\n",
    "plt.figure(figsize = (8, 4))\n",
    "plt.hist([len(i) for i in x_train_int], bins=40)\n",
    "plt.xlabel('length fo Data')\n",
    "plt.ylabel('number fo Data')\n",
    "plt.show()"
   ]
  },
  {
   "cell_type": "code",
   "execution_count": 84,
   "id": "0f3e8d7f",
   "metadata": {
    "ExecuteTime": {
     "end_time": "2022-05-19T23:55:32.802601Z",
     "start_time": "2022-05-19T23:55:32.653970Z"
    }
   },
   "outputs": [
    {
     "name": "stdout",
     "output_type": "stream",
     "text": [
      "제목의 최대 길이(단어의 수) : 15\n",
      "제목의 평균 길이 : 9\n"
     ]
    },
    {
     "data": {
      "image/png": "[encoded data removed]",
      "text/plain": [
       "<Figure size 576x288 with 1 Axes>"
      ]
     },
     "metadata": {
      "needs_background": "light"
     },
     "output_type": "display_data"
    }
   ],
   "source": [
    "print('제목의 최대 길이(단어의 수) :', max([(len(i)) for i in x_test_int]))\n",
    "print('제목의 평균 길이 :', sum([len(i) for i in x_test_int]) // len(x_test_int))\n",
    "plt.figure(figsize = (8, 4))\n",
    "plt.hist([len(i) for i in x_test_int], bins=40)\n",
    "plt.xlabel('length fo Data')\n",
    "plt.ylabel('number fo Data')\n",
    "plt.show()"
   ]
  },
  {
   "cell_type": "markdown",
   "id": "f8dbcd86",
   "metadata": {},
   "source": [
    "## Padding\n",
    "\n",
    "- 길이를 길게 잡으면 학습 시간이 오래 걸림 --> 데이터 손실 최소화 + 효율성\n",
    "- 데이터가 비교적 적은 부분은 패딩으로 처리하는게 좋음.\n",
    "- maxlen의 인자로 정수를 주면, 해당 정수로 모든 문서의 길이를 동일\n",
    "\n",
    "**Ex) 길이가 5인 리스트가 있다면 5보다 작은 인덱스 값들은 0으로 패딩되고 5보다 큰 인덱스들은 즉, 6번째 인덱스부터는 데이터가 손실됨.**<br><br>\n",
    "**참고<br> https://wikidocs.net/83544 (2/5 지점)<br>http://www.nextobe.com/2020/05/14/%EA%B0%80%EB%B3%80-%EA%B8%B8%EC%9D%B4-%EC%9E%85%EB%A0%A5-%EC%8B%9C%ED%80%80%EC%8A%A4%EC%97%90-%EB%8C%80%ED%95%9C-%EB%8D%B0%EC%9D%B4%ED%84%B0-%EC%A4%80%EB%B9%84/<br>https://sig413.tistory.com/5**"
   ]
  },
  {
   "cell_type": "code",
   "execution_count": 85,
   "id": "1678809f",
   "metadata": {
    "ExecuteTime": {
     "end_time": "2022-05-19T23:55:32.997053Z",
     "start_time": "2022-05-19T23:55:32.803570Z"
    }
   },
   "outputs": [],
   "source": [
    "from tensorflow.keras.preprocessing.sequence import pad_sequences"
   ]
  },
  {
   "cell_type": "code",
   "execution_count": 86,
   "id": "4f951c81",
   "metadata": {
    "ExecuteTime": {
     "end_time": "2022-05-19T23:55:33.012012Z",
     "start_time": "2022-05-19T23:55:32.998049Z"
    }
   },
   "outputs": [],
   "source": [
    "# 각 인덱스 길이대로 정렬\n",
    "x_train_int.sort(key=lambda x:len(x),reverse = True)\n",
    "x_test_int.sort(key=lambda x:len(x),reverse = True)"
   ]
  },
  {
   "cell_type": "code",
   "execution_count": 87,
   "id": "1943429c",
   "metadata": {
    "ExecuteTime": {
     "end_time": "2022-05-19T23:55:33.026972Z",
     "start_time": "2022-05-19T23:55:33.013011Z"
    }
   },
   "outputs": [],
   "source": [
    "def limit_len(front, back, reset_list):\n",
    "    cnt = 0\n",
    "    for s in reset_list:\n",
    "        # if (front <= len(s) <= back):\n",
    "        if len(s) <= back:\n",
    "            cnt += 1\n",
    "    print('전체 학습 데이터 중 길이가 {} 이상 {} 이하인 비율 : {:.2f}%'.format(front, back,( cnt / len(x_train_int)) * 100))"
   ]
  },
  {
   "cell_type": "code",
   "execution_count": 88,
   "id": "ef2d71cd",
   "metadata": {
    "ExecuteTime": {
     "end_time": "2022-05-19T23:55:33.041933Z",
     "start_time": "2022-05-19T23:55:33.027970Z"
    }
   },
   "outputs": [
    {
     "name": "stdout",
     "output_type": "stream",
     "text": [
      "전체 학습 데이터 중 길이가 4 이상 14 이하인 비율 : 99.81%\n"
     ]
    }
   ],
   "source": [
    "# min_len = 4 / max_len = 14\n",
    "# 앞선 제목의 평균 길이 그래프를 보면 ( 4 <= idx_num <= 14 ) 범위를 벗어난 인덱스들은 데이터가 현저히 적음.\n",
    "limit_len(4, 14, x_train_int)"
   ]
  },
  {
   "cell_type": "markdown",
   "id": "9f34a4e2",
   "metadata": {},
   "source": [
    "**일단 14이하인 것만 패딩 --> 나중에 시간되면 4이상 14이하인 부분만 패딩하도록 전처리 필요**\n",
    "<br>\n",
    "**pad_sequences post / defalut로 각각 한번씩 해주면 됨.**"
   ]
  },
  {
   "cell_type": "code",
   "execution_count": 89,
   "id": "061d9fbc",
   "metadata": {
    "ExecuteTime": {
     "end_time": "2022-05-19T23:55:33.056893Z",
     "start_time": "2022-05-19T23:55:33.042930Z"
    }
   },
   "outputs": [],
   "source": [
    "max_len = 14"
   ]
  },
  {
   "cell_type": "code",
   "execution_count": 90,
   "id": "d51860a0",
   "metadata": {
    "ExecuteTime": {
     "end_time": "2022-05-19T23:55:33.086813Z",
     "start_time": "2022-05-19T23:55:33.057890Z"
    }
   },
   "outputs": [],
   "source": [
    "x_train_final = pad_sequences(x_train_int, maxlen = max_len)"
   ]
  },
  {
   "cell_type": "code",
   "execution_count": 91,
   "id": "d561fac2",
   "metadata": {
    "ExecuteTime": {
     "end_time": "2022-05-19T23:55:33.101773Z",
     "start_time": "2022-05-19T23:55:33.087809Z"
    }
   },
   "outputs": [],
   "source": [
    "x_test_final = pad_sequences(x_test_int, maxlen = max_len)"
   ]
  },
  {
   "cell_type": "markdown",
   "id": "67e48044",
   "metadata": {},
   "source": [
    "## One-Hot-Encoding\n",
    "\n",
    "- 단어 집합의 크기를 벡터로 변환하고, 표현하고 싶은 단어 인덱스에 1의 값 부여하고, 다른 인덱스는 0을 부여하는 단어의 벡터 표현 방식\n",
    "- 즉, 1개만 Hot(True)이고 나머지는 Cold(False)\n",
    "\n",
    "※ 벡터 (1차원)  /  행렬 (2차원)  /  배열 (3차원)  /  텐서 (3차원 이상)\n",
    "<br>\n",
    "<br>\n",
    "**참고 : https://godcode.tistory.com/9?category=908926**"
   ]
  },
  {
   "cell_type": "code",
   "execution_count": 92,
   "id": "984df717",
   "metadata": {
    "ExecuteTime": {
     "end_time": "2022-05-19T23:55:33.131692Z",
     "start_time": "2022-05-19T23:55:33.102769Z"
    }
   },
   "outputs": [
    {
     "data": {
      "text/plain": [
       "{'dgb': 1,\n",
       " '은행': 2,\n",
       " '대구': 3,\n",
       " '금융': 4,\n",
       " '그룹': 5,\n",
       " '대출': 6,\n",
       " '지원': 7,\n",
       " '지역': 8,\n",
       " '버스': 9,\n",
       " '메타': 10,\n",
       " '지방': 11,\n",
       " '실시': 12,\n",
       " '개최': 13,\n",
       " '전달': 14,\n",
       " '기업': 15,\n",
       " '사랑': 16,\n",
       " '경북': 17,\n",
       " '투자': 18,\n",
       " 'esg': 19,\n",
       " '비대': 20,\n",
       " '협약': 21,\n",
       " '경영': 22,\n",
       " '센터': 23,\n",
       " '고객': 24,\n",
       " '업무': 25,\n",
       " '서비스': 26,\n",
       " '김태오': 27,\n",
       " '최대': 28,\n",
       " '채용': 29,\n",
       " '증권': 30,\n",
       " '카드': 31,\n",
       " '디지털': 32,\n",
       " '회장': 33,\n",
       " '출시': 34,\n",
       " '모집': 35,\n",
       " '이벤트': 36,\n",
       " '전문': 37,\n",
       " '특별': 38,\n",
       " '캄보디아': 39,\n",
       " '나눔': 40,\n",
       " '신용': 41,\n",
       " '금리': 42,\n",
       " '역대': 43,\n",
       " '직원': 44,\n",
       " '점포': 45,\n",
       " '자금': 46,\n",
       " '실적': 47,\n",
       " '하이': 48,\n",
       " '피해': 49,\n",
       " '오픈': 50,\n",
       " '주년': 51,\n",
       " '기념': 52,\n",
       " '순이익': 53,\n",
       " '상품': 54,\n",
       " '지주': 55,\n",
       " '2021': 56,\n",
       " '임성훈': 57,\n",
       " '실천': 58,\n",
       " '코로나': 59,\n",
       " '관리': 60,\n",
       " '복합': 61,\n",
       " '공인': 62,\n",
       " '산업': 63,\n",
       " '상반기': 64,\n",
       " '은행권': 65,\n",
       " '캠페인': 66,\n",
       " '적금': 67,\n",
       " 'im': 68,\n",
       " '행사': 69,\n",
       " '맞다': 70,\n",
       " '확대': 71,\n",
       " '인사': 72,\n",
       " '창립': 73,\n",
       " '독도': 74,\n",
       " '체결': 75,\n",
       " '소상': 76,\n",
       " '전세': 77,\n",
       " '대다': 78,\n",
       " '주택': 79,\n",
       " '진행': 80,\n",
       " '계층': 81,\n",
       " '뱅크': 82,\n",
       " '종합': 83,\n",
       " '신입': 84,\n",
       " '할인': 85,\n",
       " '페이': 86,\n",
       " '까지': 87,\n",
       " '산불': 88,\n",
       " '플랫폼': 89,\n",
       " '전국': 90,\n",
       " '담보': 91,\n",
       " '활성화': 92,\n",
       " '취약': 93,\n",
       " '소식': 94,\n",
       " '뇌물': 95,\n",
       " '후원': 96,\n",
       " '보증': 97,\n",
       " '행복': 98,\n",
       " '2022': 99,\n",
       " '구매': 100,\n",
       " '성금': 101,\n",
       " 'bc': 102,\n",
       " '친환경': 103,\n",
       " '출범': 104,\n",
       " '재단': 105,\n",
       " '하반기': 106,\n",
       " '부동산': 107,\n",
       " '개발': 108,\n",
       " '영업': 109,\n",
       " '인증': 110,\n",
       " '모바일': 111,\n",
       " '부산': 112,\n",
       " '19': 113,\n",
       " '10': 114,\n",
       " '세대': 115,\n",
       " '사회': 116,\n",
       " '판매': 117,\n",
       " '사업': 118,\n",
       " '차량': 119,\n",
       " '혐의': 120,\n",
       " 'irp': 121,\n",
       " '돌파': 122,\n",
       " '대구시': 123,\n",
       " '3분': 124,\n",
       " 'dignity': 125,\n",
       " '맞이': 126,\n",
       " '혁신': 127,\n",
       " '대상': 128,\n",
       " 'mz': 129,\n",
       " '데이터': 130,\n",
       " '구미': 131,\n",
       " '문화': 132,\n",
       " '이웃': 133,\n",
       " '열사': 134,\n",
       " '2021년': 135,\n",
       " '추석': 136,\n",
       " 'ceo': 137,\n",
       " '카카오': 138,\n",
       " '원금': 139,\n",
       " '중소기업': 140,\n",
       " '희망': 141,\n",
       " '육성': 142,\n",
       " '대회': 143,\n",
       " '담비': 144,\n",
       " '지점': 145,\n",
       " '강화': 146,\n",
       " '소통': 147,\n",
       " '경제': 148,\n",
       " '신탁': 149,\n",
       " '계좌': 150,\n",
       " '검찰': 151,\n",
       " '에서': 152,\n",
       " '청구': 153,\n",
       " '공개': 154,\n",
       " '방문': 155,\n",
       " '기소': 156,\n",
       " '수수료': 157,\n",
       " '가입': 158,\n",
       " '1분': 159,\n",
       " '경품': 160,\n",
       " '결제': 161,\n",
       " '사고': 162,\n",
       " '54': 163,\n",
       " '최초': 164,\n",
       " '본점': 165,\n",
       " '캐시': 166,\n",
       " '공모전': 167,\n",
       " '활용': 168,\n",
       " '도시락': 169,\n",
       " '아동': 170,\n",
       " '상공': 171,\n",
       " '통장': 172,\n",
       " '나서다': 173,\n",
       " '얼굴': 174,\n",
       " '편의점': 175,\n",
       " '대학생': 176,\n",
       " '12': 177,\n",
       " '부터': 178,\n",
       " '발간': 179,\n",
       " '상생': 180,\n",
       " '활동': 181,\n",
       " '기획': 182,\n",
       " '특판': 183,\n",
       " '박람회': 184,\n",
       " '시행': 185,\n",
       " '포항': 186,\n",
       " '비교': 187,\n",
       " '올해': 188,\n",
       " '공식': 189,\n",
       " '장기': 190,\n",
       " '울진': 191,\n",
       " '사내변호사': 192,\n",
       " '동참': 193,\n",
       " '면제': 194,\n",
       " '누적': 195,\n",
       " '봉사': 196,\n",
       " '동시': 197,\n",
       " '휴가': 198,\n",
       " '어깨동무': 199,\n",
       " '되다': 200,\n",
       " '마이': 201,\n",
       " '개다': 202,\n",
       " '압수수색': 203,\n",
       " '달성': 204,\n",
       " '세미나': 205,\n",
       " '시스템': 206,\n",
       " '무료': 207,\n",
       " '마케팅': 208,\n",
       " '증권사': 209,\n",
       " '조회': 210,\n",
       " '관련': 211,\n",
       " '기술': 212,\n",
       " '현지': 213,\n",
       " '최고': 214,\n",
       " '은행가': 215,\n",
       " '유예': 216,\n",
       " '리스크': 217,\n",
       " '구축': 218,\n",
       " '우대금리': 219,\n",
       " '계약': 220,\n",
       " '증가': 221,\n",
       " '': 222,\n",
       " '규모': 223,\n",
       " '장학금': 224,\n",
       " '담대': 225,\n",
       " '1위': 226,\n",
       " '상담': 227,\n",
       " 'ai': 228,\n",
       " '위해': 229,\n",
       " '협의': 230,\n",
       " '확인': 231,\n",
       " '자동차': 232,\n",
       " '스타트업': 233,\n",
       " '수도권': 234,\n",
       " '열다': 235,\n",
       " '고도화': 236,\n",
       " '분석': 237,\n",
       " '정보보호': 238,\n",
       " '시중': 239,\n",
       " '노조': 240,\n",
       " '경력': 241,\n",
       " '받다': 242,\n",
       " '추진': 243,\n",
       " '전략': 244,\n",
       " '장애인': 245,\n",
       " '상업': 246,\n",
       " '실명': 247,\n",
       " '홍보': 248,\n",
       " '청년': 249,\n",
       " '개인': 250,\n",
       " '보다': 251,\n",
       " '자산': 252,\n",
       " '눈길': 253,\n",
       " '전망': 254,\n",
       " '피우다': 255,\n",
       " '이상': 256,\n",
       " '장학': 257,\n",
       " '여의도': 258,\n",
       " '삼계탕': 259,\n",
       " '테크': 260,\n",
       " '가능': 261,\n",
       " '선정': 262,\n",
       " '제공': 263,\n",
       " '지부': 264,\n",
       " '법인': 265,\n",
       " '개월': 266,\n",
       " '문화재단': 267,\n",
       " '평가': 268,\n",
       " '수시': 269,\n",
       " '개설': 270,\n",
       " '전액': 271,\n",
       " '배포': 272,\n",
       " '개선': 273,\n",
       " '세븐일레븐': 274,\n",
       " '도청': 275,\n",
       " '대사': 276,\n",
       " '확장': 277,\n",
       " '수익': 278,\n",
       " '공채': 279,\n",
       " '증정': 280,\n",
       " '찾다': 281,\n",
       " '함께': 282,\n",
       " '창업': 283,\n",
       " '회의': 284,\n",
       " '지난해': 285,\n",
       " '기반': 286,\n",
       " '채널': 287,\n",
       " '해외': 288,\n",
       " 'mou': 289,\n",
       " '온누리상품권': 290,\n",
       " '교체': 291,\n",
       " '도입': 292,\n",
       " '의료': 293,\n",
       " '기부': 294,\n",
       " '1조원': 295,\n",
       " '변호사': 296,\n",
       " '부방': 297,\n",
       " '대금': 298,\n",
       " '환전': 299,\n",
       " '취급': 300,\n",
       " '제한': 301,\n",
       " '들다': 302,\n",
       " 'bnk': 303,\n",
       " '이전': 304,\n",
       " '계단': 305,\n",
       " '포럼': 306,\n",
       " '브리핑': 307,\n",
       " '국제': 308,\n",
       " '인상': 309,\n",
       " '더벨': 310,\n",
       " '성악': 311,\n",
       " '빅데이터': 312,\n",
       " '글로벌': 313,\n",
       " '한도': 314,\n",
       " '달러': 315,\n",
       " '가족': 316,\n",
       " '안면': 317,\n",
       " '발대식': 318,\n",
       " '오다': 319,\n",
       " '농협': 320,\n",
       " '퇴직': 321,\n",
       " '생활': 322,\n",
       " '베스트': 323,\n",
       " '적용': 324,\n",
       " '콩쿠르': 325,\n",
       " '백년': 326,\n",
       " '플러스': 327,\n",
       " '전용': 328,\n",
       " '포항시': 329,\n",
       " '제재': 330,\n",
       " '프로모션': 331,\n",
       " '호점': 332,\n",
       " '오르다': 333,\n",
       " '연속': 334,\n",
       " '5031억': 335,\n",
       " '저축은행': 336,\n",
       " '프리': 337,\n",
       " '인하': 338,\n",
       " '해제': 339,\n",
       " '채다': 340,\n",
       " 'kt': 341,\n",
       " '있다': 342,\n",
       " '전시회': 343,\n",
       " '성장': 344,\n",
       " '전면': 345,\n",
       " '증시': 346,\n",
       " '거래': 347,\n",
       " '배달': 348,\n",
       " '비즈니스': 349,\n",
       " '린지': 350,\n",
       " '백신': 351,\n",
       " '맛집': 352,\n",
       " '통해': 353,\n",
       " '상공회의소': 354,\n",
       " '시즌': 355,\n",
       " '인식': 356,\n",
       " '컨설팅': 357,\n",
       " '남구청': 358,\n",
       " '없다': 359,\n",
       " '재테크': 360,\n",
       " '디그': 361,\n",
       " '서민': 362,\n",
       " '봉사활동': 363,\n",
       " '동행': 364,\n",
       " '비리': 365,\n",
       " '물품': 366,\n",
       " '한시': 367,\n",
       " '10월': 368,\n",
       " '분기': 369,\n",
       " '박스': 370,\n",
       " '키트': 371,\n",
       " '대비': 372,\n",
       " 'sns': 373,\n",
       " '온라인': 374,\n",
       " '환율': 375,\n",
       " '구제': 376,\n",
       " '전환': 377,\n",
       " '외화': 378,\n",
       " '4175억': 379,\n",
       " '국가': 380,\n",
       " '가상': 381,\n",
       " '챗봇': 382,\n",
       " '비상': 383,\n",
       " '홍보단': 384,\n",
       " '펀드': 385,\n",
       " '여름': 386,\n",
       " '획득': 387,\n",
       " '미래': 388,\n",
       " '미술관': 389,\n",
       " '마스크': 390,\n",
       " '미팅': 391,\n",
       " '인력': 392,\n",
       " '한국': 393,\n",
       " '5000억원': 394,\n",
       " '협력': 395,\n",
       " '추첨': 396,\n",
       " '부문': 397,\n",
       " '확산': 398,\n",
       " '저축': 399,\n",
       " '협업': 400,\n",
       " '간담': 401,\n",
       " '혜민': 402,\n",
       " '우리은행': 403,\n",
       " 'wm': 404,\n",
       " '광복절': 405,\n",
       " '내다': 406,\n",
       " '연탄': 407,\n",
       " '라이프': 408,\n",
       " '파킹': 409,\n",
       " '이자': 410,\n",
       " '청약': 411,\n",
       " '톡톡': 412,\n",
       " '노동조합': 413,\n",
       " '다운로드': 414,\n",
       " 'ict': 415,\n",
       " '착수': 416,\n",
       " '숨맛꼭질': 417,\n",
       " '러시아': 418,\n",
       " '20': 419,\n",
       " '수익률': 420,\n",
       " '남편': 421,\n",
       " '만족도': 422,\n",
       " '환경': 423,\n",
       " '연말': 424,\n",
       " '미거': 425,\n",
       " '하나': 426,\n",
       " '자영': 427,\n",
       " '업자': 428,\n",
       " '어버이날': 429,\n",
       " '에너지': 430,\n",
       " '시상식': 431,\n",
       " '창구': 432,\n",
       " '넘다': 433,\n",
       " '삼일절': 434,\n",
       " '보고서': 435,\n",
       " '잡다': 436,\n",
       " '시대': 437,\n",
       " '설명': 438,\n",
       " '위반': 439,\n",
       " '비용': 440,\n",
       " '푸르지오': 441,\n",
       " '에듀': 442,\n",
       " '포레': 443,\n",
       " '감정평가사': 444,\n",
       " '헌혈': 445,\n",
       " '앤디': 446,\n",
       " '일기': 447,\n",
       " '도곡': 448,\n",
       " '개점': 449,\n",
       " '삼척': 450,\n",
       " '사진전': 451,\n",
       " '뉴딜': 452,\n",
       " '음악회': 453,\n",
       " '지진': 454,\n",
       " '재건축': 455,\n",
       " '본격': 456,\n",
       " '예방': 457,\n",
       " '기프티콘': 458,\n",
       " '방지법': 459,\n",
       " '선거': 460,\n",
       " '번째': 461,\n",
       " '2022년': 462,\n",
       " '상품권': 463,\n",
       " '47%': 464,\n",
       " '100': 465,\n",
       " '기탁': 466,\n",
       " '52': 467,\n",
       " '생명': 468,\n",
       " 'uxui': 469,\n",
       " '가정': 470,\n",
       " '경남': 471,\n",
       " '작년': 472,\n",
       " '규제': 473,\n",
       " '성과': 474,\n",
       " '경쟁': 475,\n",
       " '지구': 476,\n",
       " '신혼부부': 477,\n",
       " '에도': 478,\n",
       " '13': 479,\n",
       " '접종': 480,\n",
       " '부점': 481,\n",
       " '멘토링': 482,\n",
       " '수상': 483,\n",
       " '참석': 484,\n",
       " '극복': 485,\n",
       " '운영': 486,\n",
       " '공동': 487,\n",
       " '가게': 488,\n",
       " '클라우드': 489,\n",
       " '빌라': 490,\n",
       " '대면': 491,\n",
       " '프로젝트': 492,\n",
       " '안전': 493,\n",
       " '목표': 494,\n",
       " '공헌': 495,\n",
       " '정기예금': 496,\n",
       " '브로커': 497,\n",
       " '제작': 498,\n",
       " '탄소': 499,\n",
       " '1622억': 500,\n",
       " '외식': 501,\n",
       " '횡령': 502,\n",
       " '간부': 503,\n",
       " 'nie': 504,\n",
       " '연금': 505,\n",
       " '인재': 506,\n",
       " '간편': 507,\n",
       " '유튜브': 508,\n",
       " '키우다': 509,\n",
       " '사이버': 510,\n",
       " '우수': 511,\n",
       " '호실': 512,\n",
       " '프로그램': 513,\n",
       " '당선': 514,\n",
       " 'growup': 515,\n",
       " '유언': 516,\n",
       " '대용': 517,\n",
       " '사상': 518,\n",
       " '다양하다': 519,\n",
       " '주요': 520,\n",
       " '본부': 521,\n",
       " '등록': 522,\n",
       " '공단': 523,\n",
       " '에게': 524,\n",
       " '대동': 525,\n",
       " '부인': 526,\n",
       " '분양': 527,\n",
       " '박차': 528,\n",
       " '발전': 529,\n",
       " '윤리경영': 530,\n",
       " '역량': 531,\n",
       " '6월': 532,\n",
       " '시작': 533,\n",
       " '리테일': 534,\n",
       " '설날': 535,\n",
       " '어르신': 536,\n",
       " '만에': 537,\n",
       " '이슈': 538,\n",
       " '오늘': 539,\n",
       " 'jb': 540,\n",
       " '지갑': 541,\n",
       " '지속': 542,\n",
       " '컨설턴트': 543,\n",
       " '얼음': 544,\n",
       " '진단': 545,\n",
       " '속도': 546,\n",
       " '크다': 547,\n",
       " '마련': 548,\n",
       " '햇살': 549,\n",
       " '대대손손': 550,\n",
       " '40%': 551,\n",
       " '발급': 552,\n",
       " '사기': 553,\n",
       " '친환': 554,\n",
       " '경차': 555,\n",
       " '경진': 556,\n",
       " '실행': 557,\n",
       " '나기': 558,\n",
       " '단지': 559,\n",
       " '5000억': 560,\n",
       " '경상북도': 561,\n",
       " '안녕': 562,\n",
       " '대우건설': 563,\n",
       " '시장': 564,\n",
       " '음식': 565,\n",
       " '열대야': 566,\n",
       " '맞추다': 567,\n",
       " '플로우': 568,\n",
       " '광주': 569,\n",
       " '참여': 570,\n",
       " '가다': 571,\n",
       " '금감원': 572,\n",
       " '대한민국': 573,\n",
       " '해결': 574,\n",
       " '안정': 575,\n",
       " '시공사': 576,\n",
       " '제휴': 577,\n",
       " '지다': 578,\n",
       " '점수': 579,\n",
       " '포토': 580,\n",
       " '자율': 581,\n",
       " '돕기': 582,\n",
       " 'ucc': 583,\n",
       " '대응': 584,\n",
       " '2788억': 585,\n",
       " '토론': 586,\n",
       " '오토': 587,\n",
       " '신도시': 588,\n",
       " '5천억원': 589,\n",
       " '상승': 590,\n",
       " '앞장': 591,\n",
       " '유치': 592,\n",
       " 'tbc': 593,\n",
       " '푸드': 594,\n",
       " '경산': 595,\n",
       " '효과': 596,\n",
       " '이다': 597,\n",
       " 'kb': 598,\n",
       " '먹다': 599,\n",
       " '대사관': 600,\n",
       " '따뜻하다': 601,\n",
       " '파트너': 602,\n",
       " '생수': 603,\n",
       " '매입': 604,\n",
       " '신규': 605,\n",
       " '보훈': 606,\n",
       " '내년': 607,\n",
       " '손실': 608,\n",
       " '특례': 609,\n",
       " '복지': 610,\n",
       " '공판': 611,\n",
       " '플라스틱': 612,\n",
       " '골든벨': 613,\n",
       " '입점': 614,\n",
       " '포용': 615,\n",
       " 'player': 616,\n",
       " '상주': 617,\n",
       " 'tbcdgb': 618,\n",
       " '시설': 619,\n",
       " '송금': 620,\n",
       " '우리': 621,\n",
       " '서기': 622,\n",
       " '공용': 623,\n",
       " '신분증': 624,\n",
       " '3월': 625,\n",
       " '제로': 626,\n",
       " 'biz': 627,\n",
       " '연장': 628,\n",
       " '1000억원': 629,\n",
       " '캐피탈': 630,\n",
       " '만들다': 631,\n",
       " '고고': 632,\n",
       " '씨티': 633,\n",
       " '아이스': 634,\n",
       " '머플러': 635,\n",
       " '애로': 636,\n",
       " '주다': 637,\n",
       " '소득': 638,\n",
       " '셀프': 639,\n",
       " '가상세계': 640,\n",
       " '침산': 641,\n",
       " '온도': 642,\n",
       " '어린이날': 643,\n",
       " '2년': 644,\n",
       " '갈라': 645,\n",
       " '콘서트': 646,\n",
       " '46': 647,\n",
       " '가속': 648,\n",
       " '31회': 649,\n",
       " '단식': 650,\n",
       " '봉투': 651,\n",
       " '주한': 652,\n",
       " '접수': 653,\n",
       " '돌보다': 654,\n",
       " '공무원': 655,\n",
       " '제안': 656,\n",
       " '손잡다': 657,\n",
       " '소외': 658,\n",
       " '똑똑': 659,\n",
       " '가계': 660,\n",
       " '폭염': 661,\n",
       " '웹케시': 662,\n",
       " '인수': 663,\n",
       " '서울': 664,\n",
       " '소리': 665,\n",
       " '택배': 666,\n",
       " '일수': 667,\n",
       " '전북': 668,\n",
       " '낮추다': 669,\n",
       " 'ib': 670,\n",
       " '하고': 671,\n",
       " '적십자': 672,\n",
       " '한가위': 673,\n",
       " '200': 674,\n",
       " '단독': 675,\n",
       " '이익': 676,\n",
       " '뉴스': 677,\n",
       " '홀로': 678,\n",
       " '발행': 679,\n",
       " '100%': 680,\n",
       " '경쟁력': 681,\n",
       " '향토': 682,\n",
       " '환경보호': 683,\n",
       " '스크린골프': 684,\n",
       " '남구': 685,\n",
       " '체크카드': 686,\n",
       " '회비': 687,\n",
       " '피다': 688,\n",
       " '지정': 689,\n",
       " '100만원': 690,\n",
       " '모두': 691,\n",
       " '자문': 692,\n",
       " '앞두다': 693,\n",
       " 'cu': 694,\n",
       " '교육': 695,\n",
       " '2000만원': 696,\n",
       " '북구청역': 697,\n",
       " '운동': 698,\n",
       " '위험': 699,\n",
       " '1%': 700,\n",
       " 'nd': 701,\n",
       " '공급': 702,\n",
       " '타운': 703,\n",
       " '에코': 704,\n",
       " '공사': 705,\n",
       " '손바닥': 706,\n",
       " '지급': 707,\n",
       " '우려': 708,\n",
       " '맛김치': 709,\n",
       " '통합': 710,\n",
       " '1622억원': 711,\n",
       " '설치': 712,\n",
       " '3회': 713,\n",
       " '미얀마': 714,\n",
       " '유망': 715,\n",
       " '전기차': 716,\n",
       " '체계': 717,\n",
       " '1억': 718,\n",
       " '코리아세븐': 719,\n",
       " '상권': 720,\n",
       " '대신': 721,\n",
       " '탐지': 722,\n",
       " '모던': 723,\n",
       " '경실련': 724,\n",
       " '76': 725,\n",
       " '금융위': 726,\n",
       " '수탁': 727,\n",
       " '10억원': 728,\n",
       " '방지': 729,\n",
       " '조성': 730,\n",
       " '차다': 731,\n",
       " '추가': 732,\n",
       " '아들': 733,\n",
       " '미래에셋': 734,\n",
       " '플로': 735,\n",
       " '유공': 736,\n",
       " '고등학생': 737,\n",
       " 'pd': 738,\n",
       " '아나운서': 739,\n",
       " '매출': 740,\n",
       " '두다': 741,\n",
       " '어디': 742,\n",
       " '리뷰': 743,\n",
       " '혜택': 744,\n",
       " '줄이다': 745,\n",
       " '어울림': 746,\n",
       " '소액': 747,\n",
       " 'withu': 748,\n",
       " '5억원': 749,\n",
       " '없이': 750,\n",
       " '도약': 751,\n",
       " '외보': 752,\n",
       " '주간': 753,\n",
       " '소망': 754,\n",
       " '사건': 755,\n",
       " '잇다': 756,\n",
       " 'it': 757,\n",
       " '위기': 758,\n",
       " '가을': 759,\n",
       " '업체': 760,\n",
       " '2788억원': 761,\n",
       " '갤러리': 762,\n",
       " '사퇴': 763,\n",
       " '2월': 764,\n",
       " '아이디어': 765,\n",
       " '적극': 766,\n",
       " '26일': 767,\n",
       " 'sr': 768,\n",
       " '주가': 769,\n",
       " '재판': 770,\n",
       " '우대': 771,\n",
       " '손글씨': 772,\n",
       " '신천': 773,\n",
       " '5031억원': 774,\n",
       " '성공': 775,\n",
       " '병원': 776,\n",
       " '32회': 777,\n",
       " '생존': 778,\n",
       " '회복': 779,\n",
       " '2천만원': 780,\n",
       " '전자': 781,\n",
       " '개사': 782,\n",
       " '특화': 783,\n",
       " '1조': 784,\n",
       " '50만': 785,\n",
       " 'bnkdgb': 786,\n",
       " 'bbs': 787,\n",
       " '피해자': 788,\n",
       " '오프라인': 789,\n",
       " '승격': 790,\n",
       " '복구': 791,\n",
       " '풀다': 792,\n",
       " '튜브': 793,\n",
       " '최저': 794,\n",
       " '원샷': 795,\n",
       " '공략': 796,\n",
       " '패밀리': 797,\n",
       " '안심': 798,\n",
       " '쓸다': 799,\n",
       " '8월': 800,\n",
       " '추다': 801,\n",
       " '공연예술': 802,\n",
       " '후불': 803,\n",
       " '반기': 804,\n",
       " '몰다': 805,\n",
       " '중단': 806,\n",
       " '생필품': 807,\n",
       " '예금': 808,\n",
       " '아프다': 809,\n",
       " '5천억': 810,\n",
       " '신한은행': 811,\n",
       " '사람': 812,\n",
       " '내달': 813,\n",
       " '개관': 814,\n",
       " '다시': 815,\n",
       " '타고': 816,\n",
       " '12월': 817,\n",
       " '국민': 818,\n",
       " '엄마': 819,\n",
       " '전년비': 820,\n",
       " '날다': 821,\n",
       " '기사': 822,\n",
       " '초복': 823,\n",
       " '케이크': 824,\n",
       " '쾌척': 825,\n",
       " 'nh': 826,\n",
       " '단계': 827,\n",
       " '호랑이': 828,\n",
       " 'plaza': 829,\n",
       " '김천': 830,\n",
       " '검사': 831,\n",
       " '세상': 832,\n",
       " '20만': 833,\n",
       " '4175억원': 834,\n",
       " '24시': 835,\n",
       " '시너지': 836,\n",
       " '바이오': 837,\n",
       " '2분': 838,\n",
       " '약정': 839,\n",
       " '업계': 840,\n",
       " '국내': 841,\n",
       " '비율': 842,\n",
       " '보험': 843,\n",
       " '문턱': 844,\n",
       " '이유': 845,\n",
       " '2천': 846,\n",
       " '아너스': 847,\n",
       " '도전': 848,\n",
       " '가상공간': 849,\n",
       " '전문직': 850,\n",
       " '중고': 851,\n",
       " '경주': 852,\n",
       " '농촌': 853,\n",
       " '365일': 854,\n",
       " '트럭': 855,\n",
       " '계명대': 856,\n",
       " '배당': 857,\n",
       " '구미시': 858,\n",
       " '편의': 859,\n",
       " '서다': 860,\n",
       " '본선': 861,\n",
       " '황금': 862,\n",
       " '이색': 863,\n",
       " '공군': 864,\n",
       " '스타': 865,\n",
       " '뜨다': 866,\n",
       " '네이버': 867,\n",
       " '종량제': 868,\n",
       " '17일': 869,\n",
       " '복지관': 870,\n",
       " '늘리다': 871,\n",
       " '분야': 872,\n",
       " '5억': 873,\n",
       " '베다': 874,\n",
       " '조직': 875,\n",
       " '도로공사': 876,\n",
       " '십만': 877,\n",
       " '퇴진': 878,\n",
       " '금융업': 879,\n",
       " '자본': 880,\n",
       " '순항': 881,\n",
       " '멘토': 882,\n",
       " '케이': 883,\n",
       " '24': 884,\n",
       " '경관': 885,\n",
       " '조명': 886,\n",
       " '11일': 887,\n",
       " '30만': 888,\n",
       " '송편': 889,\n",
       " '섹터': 890,\n",
       " '41억': 891,\n",
       " '돼다': 892,\n",
       " '급증': 893,\n",
       " '구속영장': 894,\n",
       " '안회': 895,\n",
       " '업종': 896,\n",
       " '빠르다': 897,\n",
       " '대처': 898,\n",
       " '정보': 899,\n",
       " '적십자사': 900,\n",
       " '주식': 901,\n",
       " '좋다': 902,\n",
       " '바람': 903,\n",
       " '무인': 904,\n",
       " '거기': 905,\n",
       " '1천': 906,\n",
       " '행보': 907,\n",
       " '인터넷': 908,\n",
       " '패셔': 909,\n",
       " '1월': 910,\n",
       " 'bnkdgbjb': 911,\n",
       " '새해': 912,\n",
       " '2만': 913,\n",
       " '구조': 914,\n",
       " '맞춤': 915,\n",
       " '현금': 916,\n",
       " '2회': 917,\n",
       " '일보': 918,\n",
       " '시상': 919,\n",
       " '드라이브스루': 920,\n",
       " '응원': 921,\n",
       " '초대': 922,\n",
       " '마다': 923,\n",
       " '선봬': 924,\n",
       " '더더': 925,\n",
       " '수출': 926,\n",
       " 'ok': 927,\n",
       " '영장': 928,\n",
       " '로비': 929,\n",
       " '상의': 930,\n",
       " '맺다': 931,\n",
       " '집중': 932,\n",
       " '발표': 933,\n",
       " '임원': 934,\n",
       " '토마토': 935,\n",
       " '정책': 936,\n",
       " '우리금융': 937,\n",
       " '열풍': 938,\n",
       " 'cdp': 939,\n",
       " '겨냥': 940,\n",
       " '3일': 941,\n",
       " '농산물': 942,\n",
       " '주도': 943,\n",
       " '파티마': 944,\n",
       " '김장': 945,\n",
       " '전개': 946,\n",
       " '예비': 947,\n",
       " '뱅킹': 948,\n",
       " '제도': 949,\n",
       " '담다': 950,\n",
       " '통한': 951,\n",
       " '군수사령부': 952,\n",
       " '페트병': 953,\n",
       " '7천만원': 954,\n",
       " '재사용': 955,\n",
       " '연봉': 956,\n",
       " '사실': 957,\n",
       " '제페토': 958,\n",
       " '칼럼': 959,\n",
       " '5만원': 960,\n",
       " '연내': 961,\n",
       " '동화책': 962,\n",
       " '한번': 963,\n",
       " '하라': 964,\n",
       " '기각': 965,\n",
       " '이용': 966,\n",
       " '만나다': 967,\n",
       " '결정': 968,\n",
       " '이자지': 969,\n",
       " '노인': 970,\n",
       " 'fds': 971,\n",
       " '리포터': 972,\n",
       " '촉구': 973,\n",
       " '대구대학교': 974,\n",
       " '생체': 975,\n",
       " '5천': 976,\n",
       " '나선': 977,\n",
       " '500원': 978,\n",
       " '재다': 979,\n",
       " '걸음': 980,\n",
       " '어스아워': 981,\n",
       " '기념일': 982,\n",
       " 'triangle': 983,\n",
       " 'korea': 984,\n",
       " '1일': 985,\n",
       " '체크': 986,\n",
       " '펼치다': 987,\n",
       " '내놓다': 988,\n",
       " '발굴': 989,\n",
       " '사태': 990,\n",
       " '다문화': 991,\n",
       " '명세서': 992,\n",
       " '허가': 993,\n",
       " '열리다': 994,\n",
       " '소비': 995,\n",
       " '건강하다': 996,\n",
       " 'go': 997,\n",
       " '작가': 998,\n",
       " 'a등급': 999,\n",
       " '균형': 1000,\n",
       " ...}"
      ]
     },
     "execution_count": 92,
     "metadata": {},
     "output_type": "execute_result"
    }
   ],
   "source": [
    "tokenizer.word_index"
   ]
  },
  {
   "cell_type": "code",
   "execution_count": 93,
   "id": "894a630f",
   "metadata": {
    "ExecuteTime": {
     "end_time": "2022-05-19T23:55:33.146652Z",
     "start_time": "2022-05-19T23:55:33.132691Z"
    }
   },
   "outputs": [
    {
     "data": {
      "text/plain": [
       "[0, 1, -1]"
      ]
     },
     "execution_count": 93,
     "metadata": {},
     "output_type": "execute_result"
    }
   ],
   "source": [
    "import numpy as np\n",
    "\n",
    "y_train = list()\n",
    "y_test = list()\n",
    "x_train['label'].unique().tolist()"
   ]
  },
  {
   "cell_type": "code",
   "execution_count": 94,
   "id": "dbeeeab1",
   "metadata": {
    "ExecuteTime": {
     "end_time": "2022-05-19T23:55:33.281320Z",
     "start_time": "2022-05-19T23:55:33.147651Z"
    }
   },
   "outputs": [],
   "source": [
    "# 1 / 0 / -1\n",
    "def one_hot_encoding(label):\n",
    "    one_hot_vector = [0] * len(x_train['label'].unique().tolist())\n",
    "    one_hot_vector[label+1] = 1\n",
    "    return one_hot_vector"
   ]
  },
  {
   "cell_type": "code",
   "execution_count": 95,
   "id": "d3cff011",
   "metadata": {
    "ExecuteTime": {
     "end_time": "2022-05-19T23:55:33.939559Z",
     "start_time": "2022-05-19T23:55:33.282291Z"
    }
   },
   "outputs": [],
   "source": [
    "def right_answer():\n",
    "    for tr in x_train['label']:\n",
    "        y_train.append(one_hot_encoding(tr))\n",
    "    for te in x_test['label']:\n",
    "        y_test.append(one_hot_encoding(te))\n",
    "\n",
    "right_answer()"
   ]
  },
  {
   "cell_type": "code",
   "execution_count": 96,
   "id": "c1148cd5",
   "metadata": {
    "ExecuteTime": {
     "end_time": "2022-05-19T23:55:33.954491Z",
     "start_time": "2022-05-19T23:55:33.940528Z"
    }
   },
   "outputs": [
    {
     "name": "stdout",
     "output_type": "stream",
     "text": [
      "정상\n"
     ]
    }
   ],
   "source": [
    "if (len(y_train) + len(y_test)) == len(df_news_copy['label']):\n",
    "    print('정상')\n",
    "else:\n",
    "    y_train = list()\n",
    "    y_test = list()\n",
    "    right_answer()\n",
    "    print('재확인 필요')"
   ]
  },
  {
   "cell_type": "code",
   "execution_count": 97,
   "id": "337cfe92",
   "metadata": {
    "ExecuteTime": {
     "end_time": "2022-05-19T23:55:33.969479Z",
     "start_time": "2022-05-19T23:55:33.955489Z"
    }
   },
   "outputs": [],
   "source": [
    "y_train = np.array(y_train)\n",
    "y_test = np.array(y_test)"
   ]
  },
  {
   "cell_type": "code",
   "execution_count": 98,
   "id": "28846041",
   "metadata": {
    "ExecuteTime": {
     "end_time": "2022-05-19T23:55:33.984412Z",
     "start_time": "2022-05-19T23:55:33.970448Z"
    }
   },
   "outputs": [
    {
     "data": {
      "text/plain": [
       "array([[0, 1, 0],\n",
       "       [0, 0, 1],\n",
       "       [0, 0, 1],\n",
       "       ...,\n",
       "       [0, 1, 0],\n",
       "       [0, 1, 0],\n",
       "       [0, 0, 1]])"
      ]
     },
     "execution_count": 98,
     "metadata": {},
     "output_type": "execute_result"
    }
   ],
   "source": [
    "y_train"
   ]
  },
  {
   "cell_type": "code",
   "execution_count": 99,
   "id": "051c7803",
   "metadata": {
    "ExecuteTime": {
     "end_time": "2022-05-19T23:55:33.999372Z",
     "start_time": "2022-05-19T23:55:33.985409Z"
    }
   },
   "outputs": [
    {
     "data": {
      "text/plain": [
       "array([[0, 0, 1],\n",
       "       [0, 0, 1],\n",
       "       [0, 1, 0],\n",
       "       ...,\n",
       "       [0, 0, 1],\n",
       "       [0, 0, 1],\n",
       "       [0, 0, 1]])"
      ]
     },
     "execution_count": 99,
     "metadata": {},
     "output_type": "execute_result"
    }
   ],
   "source": [
    "y_test"
   ]
  },
  {
   "cell_type": "code",
   "execution_count": 100,
   "id": "6861b3b2",
   "metadata": {
    "ExecuteTime": {
     "end_time": "2022-05-19T23:55:34.014331Z",
     "start_time": "2022-05-19T23:55:34.000369Z"
    }
   },
   "outputs": [
    {
     "data": {
      "text/plain": [
       "8948"
      ]
     },
     "execution_count": 100,
     "metadata": {},
     "output_type": "execute_result"
    }
   ],
   "source": [
    "len(y_test) + len(y_train)"
   ]
  },
  {
   "cell_type": "code",
   "execution_count": 101,
   "id": "bcdc7ecc",
   "metadata": {
    "ExecuteTime": {
     "end_time": "2022-05-19T23:55:34.029291Z",
     "start_time": "2022-05-19T23:55:34.015329Z"
    }
   },
   "outputs": [
    {
     "data": {
      "text/plain": [
       "8948"
      ]
     },
     "execution_count": 101,
     "metadata": {},
     "output_type": "execute_result"
    }
   ],
   "source": [
    "len(x_test_final) + len(x_train_final)"
   ]
  },
  {
   "cell_type": "markdown",
   "id": "ab67bb11",
   "metadata": {},
   "source": [
    "## 빈도 수가 낮은 단어 제거 --> 대기\n",
    "- 빈도수가 낮은 단어 --> 학습에 영향이 크지 않음.\n",
    "- 전처리를 통해 제거\n",
    "- 패딩 --> 학습 시간 단축 및 최적의 효율성\n",
    "\n",
    "**한두번 나온 단어가 그 문장의 감성을 표현할 수 있는 핵심단어 일수도?**"
   ]
  },
  {
   "cell_type": "code",
   "execution_count": 102,
   "id": "e745e488",
   "metadata": {
    "ExecuteTime": {
     "end_time": "2022-05-19T23:55:34.044251Z",
     "start_time": "2022-05-19T23:55:34.030289Z"
    }
   },
   "outputs": [
    {
     "data": {
      "text/plain": [
       "5289"
      ]
     },
     "execution_count": 102,
     "metadata": {},
     "output_type": "execute_result"
    }
   ],
   "source": [
    "len(tokenizer.word_counts)"
   ]
  },
  {
   "cell_type": "code",
   "execution_count": 103,
   "id": "379a7e3a",
   "metadata": {
    "ExecuteTime": {
     "end_time": "2022-05-19T23:55:34.059211Z",
     "start_time": "2022-05-19T23:55:34.045250Z"
    }
   },
   "outputs": [
    {
     "name": "stdout",
     "output_type": "stream",
     "text": [
      "단어 집합(vocabulary)의 종류 : 5289\n",
      "등장 빈도가 1번 이하인 희귀 단어의 수: 2274\n",
      "단어 집합에서 희귀 단어의 비율: 42.99\n",
      "전체 등장 빈도에서 희귀 단어 등장 빈도 비율: 2.7635992416508675\n"
     ]
    }
   ],
   "source": [
    "threshold = 2 # 임계치\n",
    "total_cnt = len(tokenizer.word_index)\n",
    "rare_cnt = 0\n",
    "words_freq = 0\n",
    "rare_freq = 0\n",
    "\n",
    "for key, value in tokenizer.word_counts.items():\n",
    "    words_freq += value\n",
    "    if value < threshold:\n",
    "        rare_cnt += 1\n",
    "        rare_freq += value\n",
    "print('단어 집합(vocabulary)의 종류 :', total_cnt)\n",
    "print('등장 빈도가 %s번 이하인 희귀 단어의 수: %s' % (threshold - 1, rare_cnt))\n",
    "print(\"단어 집합에서 희귀 단어의 비율: {:.2f}\".format((rare_cnt / total_cnt) * 100))\n",
    "print(\"전체 등장 빈도에서 희귀 단어 등장 빈도 비율:\", (rare_freq / words_freq) * 100)"
   ]
  },
  {
   "cell_type": "code",
   "execution_count": 104,
   "id": "41039010",
   "metadata": {
    "ExecuteTime": {
     "end_time": "2022-05-19T23:55:34.074171Z",
     "start_time": "2022-05-19T23:55:34.060209Z"
    }
   },
   "outputs": [
    {
     "name": "stdout",
     "output_type": "stream",
     "text": [
      "3015\n"
     ]
    }
   ],
   "source": [
    "vocab_size = total_cnt-rare_cnt\n",
    "print(vocab_size)"
   ]
  },
  {
   "cell_type": "code",
   "execution_count": 105,
   "id": "3538170c",
   "metadata": {
    "ExecuteTime": {
     "end_time": "2022-05-19T23:55:34.089131Z",
     "start_time": "2022-05-19T23:55:34.075169Z"
    }
   },
   "outputs": [],
   "source": [
    "# 대기"
   ]
  },
  {
   "cell_type": "code",
   "execution_count": 106,
   "id": "4e74f3d7",
   "metadata": {
    "ExecuteTime": {
     "end_time": "2022-05-19T23:55:34.104091Z",
     "start_time": "2022-05-19T23:55:34.090129Z"
    }
   },
   "outputs": [],
   "source": [
    "tokenizer = Tokenizer(vocab_size, oov_token='OOV')"
   ]
  },
  {
   "cell_type": "code",
   "execution_count": 107,
   "id": "95ea148f",
   "metadata": {
    "ExecuteTime": {
     "end_time": "2022-05-19T23:55:34.119051Z",
     "start_time": "2022-05-19T23:55:34.105089Z"
    }
   },
   "outputs": [
    {
     "data": {
      "text/plain": [
       "<keras_preprocessing.text.Tokenizer at 0x18c2bba8208>"
      ]
     },
     "execution_count": 107,
     "metadata": {},
     "output_type": "execute_result"
    }
   ],
   "source": [
    "tokenizer"
   ]
  },
  {
   "cell_type": "markdown",
   "id": "9f768254",
   "metadata": {},
   "source": [
    "# 모델링\n",
    "\n",
    "- 성능 높이기 + 시각화 해서 파일로 만들기"
   ]
  },
  {
   "cell_type": "markdown",
   "id": "9039e7af",
   "metadata": {},
   "source": [
    "## GPU 체크\n",
    "- NVIDIA GeForce RTX 2070 SUPER : 2개 (GPU index number : 0, 1)\n",
    "- CPU :1 개 ( CPU index number : 0)"
   ]
  },
  {
   "cell_type": "code",
   "execution_count": 108,
   "id": "7c081f52",
   "metadata": {
    "ExecuteTime": {
     "end_time": "2022-05-19T23:55:35.270970Z",
     "start_time": "2022-05-19T23:55:34.120048Z"
    }
   },
   "outputs": [
    {
     "name": "stdout",
     "output_type": "stream",
     "text": [
      "2 Physical GPUs, 2 Logical GPUs\n"
     ]
    }
   ],
   "source": [
    "import tensorflow as tf\n",
    "gpus = tf.config.experimental.list_physical_devices('GPU')\n",
    "if gpus:\n",
    "  # Restrict TensorFlow to only allocate 4GB of memory on the first GPU\n",
    "    try:\n",
    "        tf.config.experimental.set_virtual_device_configuration(\n",
    "            gpus[0],\n",
    "            [tf.config.experimental.VirtualDeviceConfiguration(memory_limit=1024)])\n",
    "        \n",
    "        logical_gpus = tf.config.experimental.list_logical_devices('GPU')\n",
    "        print(len(gpus), \"Physical GPUs,\", len(logical_gpus), \"Logical GPUs\")\n",
    "    except RuntimeError as e:\n",
    "        # Virtual devices must be set before GPUs have been initialized\n",
    "        print(e)"
   ]
  },
  {
   "cell_type": "code",
   "execution_count": 109,
   "id": "6f270f82",
   "metadata": {
    "ExecuteTime": {
     "end_time": "2022-05-19T23:55:35.285929Z",
     "start_time": "2022-05-19T23:55:35.271967Z"
    }
   },
   "outputs": [
    {
     "name": "stdout",
     "output_type": "stream",
     "text": [
      "Num GPUs Available:  2\n"
     ]
    }
   ],
   "source": [
    "print(\"Num GPUs Available: \", len(tf.config.list_physical_devices('GPU')))"
   ]
  },
  {
   "cell_type": "markdown",
   "id": "41fc66cb",
   "metadata": {},
   "source": [
    "## 데이터셋 확인"
   ]
  },
  {
   "cell_type": "code",
   "execution_count": 110,
   "id": "03d38738",
   "metadata": {
    "ExecuteTime": {
     "end_time": "2022-05-19T23:55:35.421566Z",
     "start_time": "2022-05-19T23:55:35.286928Z"
    }
   },
   "outputs": [],
   "source": [
    "from keras import models\n",
    "from tensorflow.python.client import device_lib\n",
    "from tensorflow.keras.layers import Embedding, Dense, GRU, Dropout, Input, LSTM, Activation\n",
    "from tensorflow.keras.models import Sequential, Model\n",
    "from tensorflow.keras.models import load_model\n",
    "\n",
    "%matplotlib inline\n",
    "# Function call stack:\n",
    "# train_function -> train_function -> train_function\n",
    "# 해당 줄로 오류 해결\n",
    "# 참고 : https://www.freesion.com/article/71721347190/\n",
    "tf.compat.v1.disable_eager_execution()"
   ]
  },
  {
   "cell_type": "code",
   "execution_count": 111,
   "id": "04472ba0",
   "metadata": {
    "ExecuteTime": {
     "end_time": "2022-05-19T23:55:35.436526Z",
     "start_time": "2022-05-19T23:55:35.422565Z"
    }
   },
   "outputs": [
    {
     "name": "stdout",
     "output_type": "stream",
     "text": [
      "x_train : (6263, 14)\n",
      "x_test : (2685, 14)\n",
      "y_train : (6263, 3)\n",
      "x_test : (2685, 3)\n"
     ]
    }
   ],
   "source": [
    "print('x_train :', x_train_final.shape)\n",
    "print('x_test :', x_test_final.shape)\n",
    "print('y_train :', y_train.shape)\n",
    "print('x_test :', y_test.shape)"
   ]
  },
  {
   "cell_type": "markdown",
   "id": "e4048063",
   "metadata": {},
   "source": [
    "## 데이터 학습 및 모델 구축\n",
    "\n",
    "- optimizers 정의 및 튜닝 ( Adam, SGD, RMSprop)\n",
    "- 하이퍼 파라미터 튜닝\n",
    "\n",
    "**val_loss 감소시키는 방법 : https://lsjsj92.tistory.com/353**"
   ]
  },
  {
   "cell_type": "code",
   "execution_count": 112,
   "id": "c2ec3657",
   "metadata": {
    "ExecuteTime": {
     "end_time": "2022-05-19T23:55:35.451487Z",
     "start_time": "2022-05-19T23:55:35.437524Z"
    }
   },
   "outputs": [],
   "source": [
    "from tensorflow.keras.optimizers import Adam, SGD, RMSprop\n",
    "from tensorflow.keras.callbacks import EarlyStopping, ModelCheckpoint\n",
    "\n",
    "adam = Adam(learning_rate=0.001, beta_1=0.9, beta_2=0.999, decay=0.001, epsilon=None, amsgrad=False)\n",
    "\n",
    "sgd = SGD(learning_rate=0.001, momentum=0.9, decay=0.0001, nesterov=False)\n",
    "\n",
    "rmsprop = RMSprop(learning_rate=0.001, rho=0.9, decay=0.0001, epsilon=None)"
   ]
  },
  {
   "cell_type": "markdown",
   "id": "e6111718",
   "metadata": {},
   "source": [
    "# LSTM 1 Layer"
   ]
  },
  {
   "cell_type": "code",
   "execution_count": 119,
   "id": "09f34e3a",
   "metadata": {
    "ExecuteTime": {
     "end_time": "2022-05-20T00:19:33.132331Z",
     "start_time": "2022-05-20T00:19:33.120363Z"
    }
   },
   "outputs": [],
   "source": [
    "model_01 = Sequential() # tensorflow.keras.models"
   ]
  },
  {
   "cell_type": "code",
   "execution_count": 120,
   "id": "0e3a9a54",
   "metadata": {
    "ExecuteTime": {
     "end_time": "2022-05-20T00:19:33.870058Z",
     "start_time": "2022-05-20T00:19:33.743398Z"
    }
   },
   "outputs": [
    {
     "name": "stdout",
     "output_type": "stream",
     "text": [
      "WARNING:tensorflow:Layer lstm_2 will not use cuDNN kernels since it doesn't meet the criteria. It will use a generic GPU kernel as fallback when running on GPU.\n",
      "Model: \"sequential_2\"\n",
      "_________________________________________________________________\n",
      "Layer (type)                 Output Shape              Param #   \n",
      "=================================================================\n",
      "embedding_2 (Embedding)      (None, None, 100)         528900    \n",
      "_________________________________________________________________\n",
      "lstm_2 (LSTM)                (None, 128)               117248    \n",
      "_________________________________________________________________\n",
      "dense_2 (Dense)              (None, 3)                 387       \n",
      "=================================================================\n",
      "Total params: 646,535\n",
      "Trainable params: 646,535\n",
      "Non-trainable params: 0\n",
      "_________________________________________________________________\n"
     ]
    }
   ],
   "source": [
    "# https://catwolf.org/qs?id=8ed4be3f-40bc-4351-829e-ad78e10aa3ad&x=y\n",
    "# https://stackoverflow.com/questions/56598749/input-shape-in-keras-this-loss-expects-targets-to-have-the-same-shape-as-the-ou\n",
    "\n",
    "model_01.add(Embedding(total_cnt, 100))\n",
    "model_01.add(LSTM(128, activation = 'tanh', return_sequences=False))\n",
    "# model_01.add(LSTM(128))\n",
    "model_01.add(Dense(3, activation='softmax'))\n",
    "model_01.summary()"
   ]
  },
  {
   "cell_type": "code",
   "execution_count": 124,
   "id": "85adbd08",
   "metadata": {
    "ExecuteTime": {
     "end_time": "2022-05-20T00:22:36.914452Z",
     "start_time": "2022-05-20T00:21:19.127176Z"
    }
   },
   "outputs": [
    {
     "name": "stdout",
     "output_type": "stream",
     "text": [
      "Train on 5636 samples, validate on 627 samples\n",
      "Epoch 1/10\n",
      "5632/5636 [============================>.] - ETA: 0s - loss: 0.6051 - accuracy: 0.7395WARNING:tensorflow:Can save best model only with val_acc available, skipping.\n",
      "5636/5636 [==============================] - 8s 1ms/sample - loss: 0.6056 - accuracy: 0.7392 - val_loss: 1.1529 - val_accuracy: 0.4880\n",
      "Epoch 2/10\n",
      "5632/5636 [============================>.] - ETA: 0s - loss: 0.5405 - accuracy: 0.7631WARNING:tensorflow:Can save best model only with val_acc available, skipping.\n",
      "5636/5636 [==============================] - 8s 1ms/sample - loss: 0.5411 - accuracy: 0.7628 - val_loss: 1.0920 - val_accuracy: 0.4960\n",
      "Epoch 3/10\n",
      "5636/5636 [==============================] - ETA: 0s - loss: 0.4956 - accuracy: 0.7821WARNING:tensorflow:Can save best model only with val_acc available, skipping.\n",
      "5636/5636 [==============================] - 8s 1ms/sample - loss: 0.4956 - accuracy: 0.7821 - val_loss: 1.2140 - val_accuracy: 0.5104\n",
      "Epoch 4/10\n",
      "5636/5636 [==============================] - ETA: 0s - loss: 0.4609 - accuracy: 0.7967WARNING:tensorflow:Can save best model only with val_acc available, skipping.\n",
      "5636/5636 [==============================] - 8s 1ms/sample - loss: 0.4609 - accuracy: 0.7967 - val_loss: 1.2608 - val_accuracy: 0.5040\n",
      "Epoch 5/10\n",
      "5636/5636 [==============================] - ETA: 0s - loss: 0.4376 - accuracy: 0.8041WARNING:tensorflow:Can save best model only with val_acc available, skipping.\n",
      "5636/5636 [==============================] - 8s 1ms/sample - loss: 0.4376 - accuracy: 0.8041 - val_loss: 1.2657 - val_accuracy: 0.5263\n",
      "Epoch 6/10\n",
      "5636/5636 [==============================] - ETA: 0s - loss: 0.4160 - accuracy: 0.8039WARNING:tensorflow:Can save best model only with val_acc available, skipping.\n",
      "5636/5636 [==============================] - 8s 1ms/sample - loss: 0.4160 - accuracy: 0.8039 - val_loss: 1.4833 - val_accuracy: 0.5072\n",
      "Epoch 7/10\n",
      "5636/5636 [==============================] - ETA: 0s - loss: 0.4000 - accuracy: 0.8164WARNING:tensorflow:Can save best model only with val_acc available, skipping.\n",
      "5636/5636 [==============================] - 8s 1ms/sample - loss: 0.4000 - accuracy: 0.8164 - val_loss: 1.6349 - val_accuracy: 0.5008\n",
      "Epoch 8/10\n",
      "5636/5636 [==============================] - ETA: 0s - loss: 0.3823 - accuracy: 0.8211WARNING:tensorflow:Can save best model only with val_acc available, skipping.\n",
      "5636/5636 [==============================] - 8s 1ms/sample - loss: 0.3823 - accuracy: 0.8211 - val_loss: 1.6095 - val_accuracy: 0.5024\n",
      "Epoch 9/10\n",
      "5636/5636 [==============================] - ETA: 0s - loss: 0.3751 - accuracy: 0.8258WARNING:tensorflow:Can save best model only with val_acc available, skipping.\n",
      "5636/5636 [==============================] - 8s 1ms/sample - loss: 0.3751 - accuracy: 0.8258 - val_loss: 1.8136 - val_accuracy: 0.4689\n",
      "Epoch 10/10\n",
      "5636/5636 [==============================] - ETA: 0s - loss: 0.3649 - accuracy: 0.8298WARNING:tensorflow:Can save best model only with val_acc available, skipping.\n",
      "5636/5636 [==============================] - 8s 1ms/sample - loss: 0.3649 - accuracy: 0.8298 - val_loss: 1.7465 - val_accuracy: 0.5104\n"
     ]
    }
   ],
   "source": [
    "es = EarlyStopping(monitor='val_loss', mode='min', verbose=5, patience=20)\n",
    "mc = ModelCheckpoint('bilstm.h5', monitor='val_acc', mode='max', verbose=5, save_best_only=True)\n",
    "\n",
    "model_01.compile(optimizer=adam, loss='categorical_crossentropy', metrics=['accuracy'])\n",
    "history = model_01.fit(x_train_final, y_train, epochs=10, callbacks=[es, mc], batch_size=32, validation_split=0.1)"
   ]
  },
  {
   "cell_type": "markdown",
   "id": "8165d2b1",
   "metadata": {},
   "source": [
    "## 모델 평가하기"
   ]
  },
  {
   "cell_type": "code",
   "execution_count": 146,
   "id": "b7f9872a",
   "metadata": {
    "ExecuteTime": {
     "end_time": "2022-05-20T00:29:54.277130Z",
     "start_time": "2022-05-20T00:29:53.527813Z"
    }
   },
   "outputs": [
    {
     "name": "stdout",
     "output_type": "stream",
     "text": [
      "예측률 : 51.25%\n"
     ]
    }
   ],
   "source": [
    "print('예측률 : {:.2f}%'.format(model_01.evaluate(x_test_final, y_test)[1] * 100))"
   ]
  },
  {
   "cell_type": "markdown",
   "id": "52acf65f",
   "metadata": {},
   "source": [
    "## 시각화 ( Train )"
   ]
  },
  {
   "cell_type": "code",
   "execution_count": 168,
   "id": "b097e8ea",
   "metadata": {
    "ExecuteTime": {
     "end_time": "2022-05-20T01:55:28.629334Z",
     "start_time": "2022-05-20T01:55:28.425145Z"
    },
    "collapsed": true
   },
   "outputs": [
    {
     "data": {
      "image/png": "[encoded data removed]",
      "text/plain": [
       "<Figure size 432x288 with 1 Axes>"
      ]
     },
     "metadata": {
      "needs_background": "light"
     },
     "output_type": "display_data"
    },
    {
     "data": {
      "image/png": "[encoded data removed]",
      "text/plain": [
       "<Figure size 432x288 with 1 Axes>"
      ]
     },
     "metadata": {
      "needs_background": "light"
     },
     "output_type": "display_data"
    }
   ],
   "source": [
    "hist_dict = history.history\n",
    "loss = hist_dict['loss']\n",
    "val_loss = hist_dict['val_loss']\n",
    "acc = hist_dict['accuracy']\n",
    "val_acc = hist_dict['val_accuracy']\n",
    "                \n",
    "plt.plot(loss, 'b--', label = 'training loss')\n",
    "plt.plot(val_loss, 'r:', label = 'validation loss')\n",
    "plt.legend()\n",
    "plt.grid()\n",
    "\n",
    "plt.figure()\n",
    "plt.plot(acc, 'b--', label='training accuracy')\n",
    "plt.plot(val_acc, 'r:', label='validation accuracy')\n",
    "plt.legend()\n",
    "plt.grid()"
   ]
  },
  {
   "cell_type": "code",
   "execution_count": 130,
   "id": "03b36699",
   "metadata": {
    "ExecuteTime": {
     "end_time": "2022-05-20T00:23:13.027430Z",
     "start_time": "2022-05-20T00:23:12.183655Z"
    }
   },
   "outputs": [],
   "source": [
    "predict = model_01.predict(x_test_final)"
   ]
  },
  {
   "cell_type": "code",
   "execution_count": 132,
   "id": "a58e3e52",
   "metadata": {
    "ExecuteTime": {
     "end_time": "2022-05-20T00:23:23.949756Z",
     "start_time": "2022-05-20T00:23:23.934766Z"
    }
   },
   "outputs": [],
   "source": [
    "predict_labels = np.argmax(predict, axis = 1)\n",
    "original_labels = np.argmax(y_test, axis = 1)"
   ]
  },
  {
   "cell_type": "code",
   "execution_count": 135,
   "id": "43e0161a",
   "metadata": {
    "ExecuteTime": {
     "end_time": "2022-05-20T00:23:59.432164Z",
     "start_time": "2022-05-20T00:23:59.423188Z"
    },
    "collapsed": true
   },
   "outputs": [
    {
     "name": "stdout",
     "output_type": "stream",
     "text": [
      "원래 라벨 : 2 /\t 예측한 라벨 : 1\n",
      "원래 라벨 : 2 /\t 예측한 라벨 : 0\n",
      "원래 라벨 : 1 /\t 예측한 라벨 : 2\n",
      "원래 라벨 : 2 /\t 예측한 라벨 : 2\n",
      "원래 라벨 : 2 /\t 예측한 라벨 : 1\n",
      "원래 라벨 : 1 /\t 예측한 라벨 : 1\n",
      "원래 라벨 : 2 /\t 예측한 라벨 : 2\n",
      "원래 라벨 : 2 /\t 예측한 라벨 : 2\n",
      "원래 라벨 : 2 /\t 예측한 라벨 : 2\n",
      "원래 라벨 : 1 /\t 예측한 라벨 : 1\n",
      "원래 라벨 : 1 /\t 예측한 라벨 : 1\n",
      "원래 라벨 : 1 /\t 예측한 라벨 : 2\n",
      "원래 라벨 : 2 /\t 예측한 라벨 : 2\n",
      "원래 라벨 : 2 /\t 예측한 라벨 : 0\n",
      "원래 라벨 : 2 /\t 예측한 라벨 : 2\n",
      "원래 라벨 : 2 /\t 예측한 라벨 : 1\n",
      "원래 라벨 : 0 /\t 예측한 라벨 : 2\n",
      "원래 라벨 : 2 /\t 예측한 라벨 : 1\n",
      "원래 라벨 : 2 /\t 예측한 라벨 : 2\n",
      "원래 라벨 : 2 /\t 예측한 라벨 : 2\n",
      "원래 라벨 : 2 /\t 예측한 라벨 : 2\n",
      "원래 라벨 : 1 /\t 예측한 라벨 : 2\n",
      "원래 라벨 : 1 /\t 예측한 라벨 : 1\n",
      "원래 라벨 : 0 /\t 예측한 라벨 : 1\n",
      "원래 라벨 : 2 /\t 예측한 라벨 : 2\n",
      "원래 라벨 : 2 /\t 예측한 라벨 : 2\n",
      "원래 라벨 : 2 /\t 예측한 라벨 : 2\n",
      "원래 라벨 : 2 /\t 예측한 라벨 : 2\n",
      "원래 라벨 : 2 /\t 예측한 라벨 : 2\n",
      "원래 라벨 : 1 /\t 예측한 라벨 : 2\n",
      "원래 라벨 : 1 /\t 예측한 라벨 : 2\n",
      "원래 라벨 : 1 /\t 예측한 라벨 : 2\n",
      "원래 라벨 : 1 /\t 예측한 라벨 : 2\n",
      "원래 라벨 : 1 /\t 예측한 라벨 : 1\n",
      "원래 라벨 : 1 /\t 예측한 라벨 : 1\n",
      "원래 라벨 : 1 /\t 예측한 라벨 : 0\n",
      "원래 라벨 : 1 /\t 예측한 라벨 : 2\n",
      "원래 라벨 : 1 /\t 예측한 라벨 : 1\n",
      "원래 라벨 : 2 /\t 예측한 라벨 : 2\n",
      "원래 라벨 : 2 /\t 예측한 라벨 : 1\n",
      "원래 라벨 : 2 /\t 예측한 라벨 : 2\n",
      "원래 라벨 : 1 /\t 예측한 라벨 : 2\n",
      "원래 라벨 : 2 /\t 예측한 라벨 : 2\n",
      "원래 라벨 : 1 /\t 예측한 라벨 : 1\n",
      "원래 라벨 : 1 /\t 예측한 라벨 : 1\n",
      "원래 라벨 : 2 /\t 예측한 라벨 : 2\n",
      "원래 라벨 : 2 /\t 예측한 라벨 : 2\n",
      "원래 라벨 : 2 /\t 예측한 라벨 : 2\n",
      "원래 라벨 : 2 /\t 예측한 라벨 : 1\n",
      "원래 라벨 : 2 /\t 예측한 라벨 : 1\n"
     ]
    }
   ],
   "source": [
    "for i in range(50):\n",
    "    # print('기사 제목  :', x_test['nouns_title'].iloc[i], '/\\t 원래 라벨 :', original_labels[i], '/\\t 예측한 라벨 :', predict_labels[i])\n",
    "    print('원래 라벨 :', original_labels[i], '/\\t 예측한 라벨 :', predict_labels[i])"
   ]
  },
  {
   "cell_type": "markdown",
   "id": "d87a06e6",
   "metadata": {},
   "source": [
    "## 긍정 / 부정 / 중립 시각화\n",
    "- model_01 사용 ( 기본 )\n",
    "- x_test_final 데이터에 대한 y_test 데이터로 평가한 결과 시각화"
   ]
  },
  {
   "cell_type": "code",
   "execution_count": 756,
   "id": "b3e326ed",
   "metadata": {
    "ExecuteTime": {
     "end_time": "2022-05-20T07:57:20.844964Z",
     "start_time": "2022-05-20T07:57:20.833026Z"
    }
   },
   "outputs": [],
   "source": [
    "# 시각화 글자 깨짐 방지\n",
    "import os\n",
    "\n",
    "if os.name == 'posix':\n",
    "    plt.rc(\"font\", family=\"AppleGothic\")\n",
    "else:\n",
    "    plt.rc(\"font\", family=\"Malgun Gothic\")"
   ]
  },
  {
   "cell_type": "code",
   "execution_count": 757,
   "id": "58226bde",
   "metadata": {
    "ExecuteTime": {
     "end_time": "2022-05-20T07:57:21.263874Z",
     "start_time": "2022-05-20T07:57:21.247918Z"
    }
   },
   "outputs": [],
   "source": [
    "def change_idx(labels):\n",
    "    idx_tmp = list()\n",
    "    value_tmp = list()\n",
    "    for i in pd.Series(labels).unique():\n",
    "        if i == 0:\n",
    "            idx_tmp.append('부정')\n",
    "        if i == 1:\n",
    "            idx_tmp.append('중립')\n",
    "        if i == 2:\n",
    "            idx_tmp.append('긍정')\n",
    "        value_tmp.append(list(labels).count(i))\n",
    "    return value_tmp, idx_tmp"
   ]
  },
  {
   "cell_type": "code",
   "execution_count": 758,
   "id": "b64b17a2",
   "metadata": {
    "ExecuteTime": {
     "end_time": "2022-05-20T07:57:21.742594Z",
     "start_time": "2022-05-20T07:57:21.736611Z"
    }
   },
   "outputs": [],
   "source": [
    "r_value_tmp, r_idx_tmp = change_idx(original_labels)\n",
    "ori_view = pd.Series(data = r_value_tmp, index = r_idx_tmp)\n",
    "ori_view.sort_index(ascending=True, inplace=True)\n",
    "\n",
    "x = list(ori_view.keys())\n",
    "y = ori_view.values"
   ]
  },
  {
   "cell_type": "code",
   "execution_count": 770,
   "id": "0678c712",
   "metadata": {
    "ExecuteTime": {
     "end_time": "2022-05-20T07:58:30.182175Z",
     "start_time": "2022-05-20T07:58:30.176218Z"
    }
   },
   "outputs": [
    {
     "name": "stdout",
     "output_type": "stream",
     "text": [
      " raw\n",
      " ['긍정', '중립', '부정'] \n",
      " [1664, 854, 167]\n"
     ]
    }
   ],
   "source": [
    "print(' raw\\n', r_idx_tmp, '\\n', r_value_tmp)"
   ]
  },
  {
   "cell_type": "code",
   "execution_count": 760,
   "id": "f6a5f46f",
   "metadata": {
    "ExecuteTime": {
     "end_time": "2022-05-20T07:57:24.017101Z",
     "start_time": "2022-05-20T07:57:24.000121Z"
    }
   },
   "outputs": [],
   "source": [
    "p_value_tmp, p_idx_tmp = change_idx(predict_labels)\n",
    "pre_view = pd.Series(data = p_value_tmp, index = p_idx_tmp)\n",
    "pre_view.sort_index(ascending=True, inplace=True)\n",
    "\n",
    "w = list(pre_view.keys())\n",
    "z = pre_view.values"
   ]
  },
  {
   "cell_type": "code",
   "execution_count": 769,
   "id": "98bc053f",
   "metadata": {
    "ExecuteTime": {
     "end_time": "2022-05-20T07:58:19.683777Z",
     "start_time": "2022-05-20T07:58:19.672807Z"
    }
   },
   "outputs": [
    {
     "name": "stdout",
     "output_type": "stream",
     "text": [
      " predict\n",
      " ['중립', '부정', '긍정'] \n",
      " [743, 135, 1807]\n"
     ]
    }
   ],
   "source": [
    "print(' predict\\n', p_idx_tmp, '\\n', p_value_tmp)"
   ]
  },
  {
   "cell_type": "code",
   "execution_count": 750,
   "id": "6ae0bb12",
   "metadata": {
    "ExecuteTime": {
     "end_time": "2022-05-20T07:56:47.587887Z",
     "start_time": "2022-05-20T07:56:47.577913Z"
    }
   },
   "outputs": [],
   "source": [
    "Visualization = pd.DataFrame({'raw_label' : 0,\n",
    "              'predict_label' : 0}, index = ['긍정', '부정', '중립'])"
   ]
  },
  {
   "cell_type": "code",
   "execution_count": 753,
   "id": "1d5a88d6",
   "metadata": {
    "ExecuteTime": {
     "end_time": "2022-05-20T07:56:48.579342Z",
     "start_time": "2022-05-20T07:56:48.570368Z"
    }
   },
   "outputs": [],
   "source": [
    "idx = 0\n",
    "for i, j in zip(Visualization['raw_label'].index, Visualization['predict_label'].index):\n",
    "    # print(p_value_tmp[p_idx_tmp.index(i)])\n",
    "    Visualization['raw_label'][i] = r_value_tmp[r_idx_tmp.index(i)]\n",
    "    Visualization['predict_label'][j] = p_value_tmp[p_idx_tmp.index(i)]"
   ]
  },
  {
   "cell_type": "code",
   "execution_count": 788,
   "id": "58a7994c",
   "metadata": {
    "ExecuteTime": {
     "end_time": "2022-05-20T08:08:13.650395Z",
     "start_time": "2022-05-20T08:08:13.640422Z"
    }
   },
   "outputs": [
    {
     "data": {
      "text/html": [
       "<div>\n",
       "<style scoped>\n",
       "    .dataframe tbody tr th:only-of-type {\n",
       "        vertical-align: middle;\n",
       "    }\n",
       "\n",
       "    .dataframe tbody tr th {\n",
       "        vertical-align: top;\n",
       "    }\n",
       "\n",
       "    .dataframe thead th {\n",
       "        text-align: right;\n",
       "    }\n",
       "</style>\n",
       "<table border=\"1\" class=\"dataframe\">\n",
       "  <thead>\n",
       "    <tr style=\"text-align: right;\">\n",
       "      <th></th>\n",
       "      <th>raw_label</th>\n",
       "      <th>predict_label</th>\n",
       "    </tr>\n",
       "  </thead>\n",
       "  <tbody>\n",
       "    <tr>\n",
       "      <th>긍정</th>\n",
       "      <td>1664</td>\n",
       "      <td>1807</td>\n",
       "    </tr>\n",
       "    <tr>\n",
       "      <th>부정</th>\n",
       "      <td>167</td>\n",
       "      <td>135</td>\n",
       "    </tr>\n",
       "    <tr>\n",
       "      <th>중립</th>\n",
       "      <td>854</td>\n",
       "      <td>743</td>\n",
       "    </tr>\n",
       "  </tbody>\n",
       "</table>\n",
       "</div>"
      ],
      "text/plain": [
       "    raw_label  predict_label\n",
       "긍정       1664           1807\n",
       "부정        167            135\n",
       "중립        854            743"
      ]
     },
     "execution_count": 788,
     "metadata": {},
     "output_type": "execute_result"
    }
   ],
   "source": [
    "Visualization"
   ]
  },
  {
   "cell_type": "code",
   "execution_count": 951,
   "id": "c774da09",
   "metadata": {
    "ExecuteTime": {
     "end_time": "2022-05-20T08:42:48.562570Z",
     "start_time": "2022-05-20T08:42:48.389035Z"
    }
   },
   "outputs": [
    {
     "data": {
      "image/png": "[encoded data removed]",
      "text/plain": [
       "<Figure size 864x576 with 1 Axes>"
      ]
     },
     "metadata": {
      "needs_background": "light"
     },
     "output_type": "display_data"
    }
   ],
   "source": [
    "ax = Visualization.plot(kind = 'bar', figsize = (12, 8), fontsize=16, rot=0)\n",
    "graph_value = list(Visualization['raw_label']) + list(Visualization['predict_label']) + list(['end'])\n",
    "\n",
    "jump = 0\n",
    "for p in ax.patches:\n",
    "    left, bottom, width, height = p.get_bbox().bounds\n",
    "    if jump < 3:\n",
    "        ax.annotate('{}'.format(graph_value.pop(0)), (left+width/2, height*1.01), ha='center', color = 'black', fontsize = 16)\n",
    "    else:\n",
    "        ax.annotate('{}'.format(graph_value.pop(0)), (left+width/2, height*1.01), ha='center', color = 'red', fontsize = 16)\n",
    "    jump += 1\n",
    "\n",
    "# plt.title(\"긍정 / 부정 / 중립 예측률\", size = 16)\n",
    "plt.ylim(0, max(max(y), max(z)) + 100)\n",
    "plt.rc('legend', fontsize=18)  # 범례 폰트 크기\n",
    "\n",
    "plt.legend()\n",
    "plt.title('긍정 / 부정 / 중립 예측률', size = 21)\n",
    "plt.savefig('savefig_default.jpg')\n",
    "plt.show()"
   ]
  },
  {
   "cell_type": "code",
   "execution_count": 708,
   "id": "fd4346f9",
   "metadata": {
    "ExecuteTime": {
     "end_time": "2022-05-20T07:29:50.294833Z",
     "start_time": "2022-05-20T07:29:50.139276Z"
    },
    "collapsed": true
   },
   "outputs": [
    {
     "ename": "ConversionError",
     "evalue": "Failed to convert value(s) to axis units: '긍정'",
     "output_type": "error",
     "traceback": [
      "\u001b[1;31m---------------------------------------------------------------------------\u001b[0m",
      "\u001b[1;31mValueError\u001b[0m                                Traceback (most recent call last)",
      "\u001b[1;32m~\\anaconda3\\envs\\Intern_Project\\lib\\site-packages\\matplotlib\\axis.py\u001b[0m in \u001b[0;36mconvert_units\u001b[1;34m(self, x)\u001b[0m\n\u001b[0;32m   1522\u001b[0m         \u001b[1;32mtry\u001b[0m\u001b[1;33m:\u001b[0m\u001b[1;33m\u001b[0m\u001b[1;33m\u001b[0m\u001b[0m\n\u001b[1;32m-> 1523\u001b[1;33m             \u001b[0mret\u001b[0m \u001b[1;33m=\u001b[0m \u001b[0mself\u001b[0m\u001b[1;33m.\u001b[0m\u001b[0mconverter\u001b[0m\u001b[1;33m.\u001b[0m\u001b[0mconvert\u001b[0m\u001b[1;33m(\u001b[0m\u001b[0mx\u001b[0m\u001b[1;33m,\u001b[0m \u001b[0mself\u001b[0m\u001b[1;33m.\u001b[0m\u001b[0munits\u001b[0m\u001b[1;33m,\u001b[0m \u001b[0mself\u001b[0m\u001b[1;33m)\u001b[0m\u001b[1;33m\u001b[0m\u001b[1;33m\u001b[0m\u001b[0m\n\u001b[0m\u001b[0;32m   1524\u001b[0m         \u001b[1;32mexcept\u001b[0m \u001b[0mException\u001b[0m \u001b[1;32mas\u001b[0m \u001b[0me\u001b[0m\u001b[1;33m:\u001b[0m\u001b[1;33m\u001b[0m\u001b[1;33m\u001b[0m\u001b[0m\n",
      "\u001b[1;32m~\\anaconda3\\envs\\Intern_Project\\lib\\site-packages\\matplotlib\\category.py\u001b[0m in \u001b[0;36mconvert\u001b[1;34m(value, unit, axis)\u001b[0m\n\u001b[0;32m     49\u001b[0m             raise ValueError(\n\u001b[1;32m---> 50\u001b[1;33m                 \u001b[1;34m'Missing category information for StrCategoryConverter; '\u001b[0m\u001b[1;33m\u001b[0m\u001b[1;33m\u001b[0m\u001b[0m\n\u001b[0m\u001b[0;32m     51\u001b[0m                 \u001b[1;34m'this might be caused by unintendedly mixing categorical and '\u001b[0m\u001b[1;33m\u001b[0m\u001b[1;33m\u001b[0m\u001b[0m\n",
      "\u001b[1;31mValueError\u001b[0m: Missing category information for StrCategoryConverter; this might be caused by unintendedly mixing categorical and numeric data",
      "\nThe above exception was the direct cause of the following exception:\n",
      "\u001b[1;31mConversionError\u001b[0m                           Traceback (most recent call last)",
      "\u001b[1;32m~\\anaconda3\\envs\\Intern_Project\\lib\\site-packages\\IPython\\core\\formatters.py\u001b[0m in \u001b[0;36m__call__\u001b[1;34m(self, obj)\u001b[0m\n\u001b[0;32m    339\u001b[0m                 \u001b[1;32mpass\u001b[0m\u001b[1;33m\u001b[0m\u001b[1;33m\u001b[0m\u001b[0m\n\u001b[0;32m    340\u001b[0m             \u001b[1;32melse\u001b[0m\u001b[1;33m:\u001b[0m\u001b[1;33m\u001b[0m\u001b[1;33m\u001b[0m\u001b[0m\n\u001b[1;32m--> 341\u001b[1;33m                 \u001b[1;32mreturn\u001b[0m \u001b[0mprinter\u001b[0m\u001b[1;33m(\u001b[0m\u001b[0mobj\u001b[0m\u001b[1;33m)\u001b[0m\u001b[1;33m\u001b[0m\u001b[1;33m\u001b[0m\u001b[0m\n\u001b[0m\u001b[0;32m    342\u001b[0m             \u001b[1;31m# Finally look for special method names\u001b[0m\u001b[1;33m\u001b[0m\u001b[1;33m\u001b[0m\u001b[1;33m\u001b[0m\u001b[0m\n\u001b[0;32m    343\u001b[0m             \u001b[0mmethod\u001b[0m \u001b[1;33m=\u001b[0m \u001b[0mget_real_method\u001b[0m\u001b[1;33m(\u001b[0m\u001b[0mobj\u001b[0m\u001b[1;33m,\u001b[0m \u001b[0mself\u001b[0m\u001b[1;33m.\u001b[0m\u001b[0mprint_method\u001b[0m\u001b[1;33m)\u001b[0m\u001b[1;33m\u001b[0m\u001b[1;33m\u001b[0m\u001b[0m\n",
      "\u001b[1;32m~\\anaconda3\\envs\\Intern_Project\\lib\\site-packages\\IPython\\core\\pylabtools.py\u001b[0m in \u001b[0;36m<lambda>\u001b[1;34m(fig)\u001b[0m\n\u001b[0;32m    246\u001b[0m \u001b[1;33m\u001b[0m\u001b[0m\n\u001b[0;32m    247\u001b[0m     \u001b[1;32mif\u001b[0m \u001b[1;34m'png'\u001b[0m \u001b[1;32min\u001b[0m \u001b[0mformats\u001b[0m\u001b[1;33m:\u001b[0m\u001b[1;33m\u001b[0m\u001b[1;33m\u001b[0m\u001b[0m\n\u001b[1;32m--> 248\u001b[1;33m         \u001b[0mpng_formatter\u001b[0m\u001b[1;33m.\u001b[0m\u001b[0mfor_type\u001b[0m\u001b[1;33m(\u001b[0m\u001b[0mFigure\u001b[0m\u001b[1;33m,\u001b[0m \u001b[1;32mlambda\u001b[0m \u001b[0mfig\u001b[0m\u001b[1;33m:\u001b[0m \u001b[0mprint_figure\u001b[0m\u001b[1;33m(\u001b[0m\u001b[0mfig\u001b[0m\u001b[1;33m,\u001b[0m \u001b[1;34m'png'\u001b[0m\u001b[1;33m,\u001b[0m \u001b[1;33m**\u001b[0m\u001b[0mkwargs\u001b[0m\u001b[1;33m)\u001b[0m\u001b[1;33m)\u001b[0m\u001b[1;33m\u001b[0m\u001b[1;33m\u001b[0m\u001b[0m\n\u001b[0m\u001b[0;32m    249\u001b[0m     \u001b[1;32mif\u001b[0m \u001b[1;34m'retina'\u001b[0m \u001b[1;32min\u001b[0m \u001b[0mformats\u001b[0m \u001b[1;32mor\u001b[0m \u001b[1;34m'png2x'\u001b[0m \u001b[1;32min\u001b[0m \u001b[0mformats\u001b[0m\u001b[1;33m:\u001b[0m\u001b[1;33m\u001b[0m\u001b[1;33m\u001b[0m\u001b[0m\n\u001b[0;32m    250\u001b[0m         \u001b[0mpng_formatter\u001b[0m\u001b[1;33m.\u001b[0m\u001b[0mfor_type\u001b[0m\u001b[1;33m(\u001b[0m\u001b[0mFigure\u001b[0m\u001b[1;33m,\u001b[0m \u001b[1;32mlambda\u001b[0m \u001b[0mfig\u001b[0m\u001b[1;33m:\u001b[0m \u001b[0mretina_figure\u001b[0m\u001b[1;33m(\u001b[0m\u001b[0mfig\u001b[0m\u001b[1;33m,\u001b[0m \u001b[1;33m**\u001b[0m\u001b[0mkwargs\u001b[0m\u001b[1;33m)\u001b[0m\u001b[1;33m)\u001b[0m\u001b[1;33m\u001b[0m\u001b[1;33m\u001b[0m\u001b[0m\n",
      "\u001b[1;32m~\\anaconda3\\envs\\Intern_Project\\lib\\site-packages\\IPython\\core\\pylabtools.py\u001b[0m in \u001b[0;36mprint_figure\u001b[1;34m(fig, fmt, bbox_inches, **kwargs)\u001b[0m\n\u001b[0;32m    130\u001b[0m         \u001b[0mFigureCanvasBase\u001b[0m\u001b[1;33m(\u001b[0m\u001b[0mfig\u001b[0m\u001b[1;33m)\u001b[0m\u001b[1;33m\u001b[0m\u001b[1;33m\u001b[0m\u001b[0m\n\u001b[0;32m    131\u001b[0m \u001b[1;33m\u001b[0m\u001b[0m\n\u001b[1;32m--> 132\u001b[1;33m     \u001b[0mfig\u001b[0m\u001b[1;33m.\u001b[0m\u001b[0mcanvas\u001b[0m\u001b[1;33m.\u001b[0m\u001b[0mprint_figure\u001b[0m\u001b[1;33m(\u001b[0m\u001b[0mbytes_io\u001b[0m\u001b[1;33m,\u001b[0m \u001b[1;33m**\u001b[0m\u001b[0mkw\u001b[0m\u001b[1;33m)\u001b[0m\u001b[1;33m\u001b[0m\u001b[1;33m\u001b[0m\u001b[0m\n\u001b[0m\u001b[0;32m    133\u001b[0m     \u001b[0mdata\u001b[0m \u001b[1;33m=\u001b[0m \u001b[0mbytes_io\u001b[0m\u001b[1;33m.\u001b[0m\u001b[0mgetvalue\u001b[0m\u001b[1;33m(\u001b[0m\u001b[1;33m)\u001b[0m\u001b[1;33m\u001b[0m\u001b[1;33m\u001b[0m\u001b[0m\n\u001b[0;32m    134\u001b[0m     \u001b[1;32mif\u001b[0m \u001b[0mfmt\u001b[0m \u001b[1;33m==\u001b[0m \u001b[1;34m'svg'\u001b[0m\u001b[1;33m:\u001b[0m\u001b[1;33m\u001b[0m\u001b[1;33m\u001b[0m\u001b[0m\n",
      "\u001b[1;32m~\\anaconda3\\envs\\Intern_Project\\lib\\site-packages\\matplotlib\\backend_bases.py\u001b[0m in \u001b[0;36mprint_figure\u001b[1;34m(self, filename, dpi, facecolor, edgecolor, orientation, format, bbox_inches, pad_inches, bbox_extra_artists, backend, **kwargs)\u001b[0m\n\u001b[0;32m   2191\u001b[0m                            else suppress())\n\u001b[0;32m   2192\u001b[0m                     \u001b[1;32mwith\u001b[0m \u001b[0mctx\u001b[0m\u001b[1;33m:\u001b[0m\u001b[1;33m\u001b[0m\u001b[1;33m\u001b[0m\u001b[0m\n\u001b[1;32m-> 2193\u001b[1;33m                         \u001b[0mself\u001b[0m\u001b[1;33m.\u001b[0m\u001b[0mfigure\u001b[0m\u001b[1;33m.\u001b[0m\u001b[0mdraw\u001b[0m\u001b[1;33m(\u001b[0m\u001b[0mrenderer\u001b[0m\u001b[1;33m)\u001b[0m\u001b[1;33m\u001b[0m\u001b[1;33m\u001b[0m\u001b[0m\n\u001b[0m\u001b[0;32m   2194\u001b[0m \u001b[1;33m\u001b[0m\u001b[0m\n\u001b[0;32m   2195\u001b[0m                     bbox_inches = self.figure.get_tightbbox(\n",
      "\u001b[1;32m~\\anaconda3\\envs\\Intern_Project\\lib\\site-packages\\matplotlib\\artist.py\u001b[0m in \u001b[0;36mdraw_wrapper\u001b[1;34m(artist, renderer, *args, **kwargs)\u001b[0m\n\u001b[0;32m     39\u001b[0m                 \u001b[0mrenderer\u001b[0m\u001b[1;33m.\u001b[0m\u001b[0mstart_filter\u001b[0m\u001b[1;33m(\u001b[0m\u001b[1;33m)\u001b[0m\u001b[1;33m\u001b[0m\u001b[1;33m\u001b[0m\u001b[0m\n\u001b[0;32m     40\u001b[0m \u001b[1;33m\u001b[0m\u001b[0m\n\u001b[1;32m---> 41\u001b[1;33m             \u001b[1;32mreturn\u001b[0m \u001b[0mdraw\u001b[0m\u001b[1;33m(\u001b[0m\u001b[0martist\u001b[0m\u001b[1;33m,\u001b[0m \u001b[0mrenderer\u001b[0m\u001b[1;33m,\u001b[0m \u001b[1;33m*\u001b[0m\u001b[0margs\u001b[0m\u001b[1;33m,\u001b[0m \u001b[1;33m**\u001b[0m\u001b[0mkwargs\u001b[0m\u001b[1;33m)\u001b[0m\u001b[1;33m\u001b[0m\u001b[1;33m\u001b[0m\u001b[0m\n\u001b[0m\u001b[0;32m     42\u001b[0m         \u001b[1;32mfinally\u001b[0m\u001b[1;33m:\u001b[0m\u001b[1;33m\u001b[0m\u001b[1;33m\u001b[0m\u001b[0m\n\u001b[0;32m     43\u001b[0m             \u001b[1;32mif\u001b[0m \u001b[0martist\u001b[0m\u001b[1;33m.\u001b[0m\u001b[0mget_agg_filter\u001b[0m\u001b[1;33m(\u001b[0m\u001b[1;33m)\u001b[0m \u001b[1;32mis\u001b[0m \u001b[1;32mnot\u001b[0m \u001b[1;32mNone\u001b[0m\u001b[1;33m:\u001b[0m\u001b[1;33m\u001b[0m\u001b[1;33m\u001b[0m\u001b[0m\n",
      "\u001b[1;32m~\\anaconda3\\envs\\Intern_Project\\lib\\site-packages\\matplotlib\\figure.py\u001b[0m in \u001b[0;36mdraw\u001b[1;34m(self, renderer)\u001b[0m\n\u001b[0;32m   1862\u001b[0m             \u001b[0mself\u001b[0m\u001b[1;33m.\u001b[0m\u001b[0mpatch\u001b[0m\u001b[1;33m.\u001b[0m\u001b[0mdraw\u001b[0m\u001b[1;33m(\u001b[0m\u001b[0mrenderer\u001b[0m\u001b[1;33m)\u001b[0m\u001b[1;33m\u001b[0m\u001b[1;33m\u001b[0m\u001b[0m\n\u001b[0;32m   1863\u001b[0m             mimage._draw_list_compositing_images(\n\u001b[1;32m-> 1864\u001b[1;33m                 renderer, self, artists, self.suppressComposite)\n\u001b[0m\u001b[0;32m   1865\u001b[0m \u001b[1;33m\u001b[0m\u001b[0m\n\u001b[0;32m   1866\u001b[0m             \u001b[0mrenderer\u001b[0m\u001b[1;33m.\u001b[0m\u001b[0mclose_group\u001b[0m\u001b[1;33m(\u001b[0m\u001b[1;34m'figure'\u001b[0m\u001b[1;33m)\u001b[0m\u001b[1;33m\u001b[0m\u001b[1;33m\u001b[0m\u001b[0m\n",
      "\u001b[1;32m~\\anaconda3\\envs\\Intern_Project\\lib\\site-packages\\matplotlib\\image.py\u001b[0m in \u001b[0;36m_draw_list_compositing_images\u001b[1;34m(renderer, parent, artists, suppress_composite)\u001b[0m\n\u001b[0;32m    129\u001b[0m     \u001b[1;32mif\u001b[0m \u001b[0mnot_composite\u001b[0m \u001b[1;32mor\u001b[0m \u001b[1;32mnot\u001b[0m \u001b[0mhas_images\u001b[0m\u001b[1;33m:\u001b[0m\u001b[1;33m\u001b[0m\u001b[1;33m\u001b[0m\u001b[0m\n\u001b[0;32m    130\u001b[0m         \u001b[1;32mfor\u001b[0m \u001b[0ma\u001b[0m \u001b[1;32min\u001b[0m \u001b[0martists\u001b[0m\u001b[1;33m:\u001b[0m\u001b[1;33m\u001b[0m\u001b[1;33m\u001b[0m\u001b[0m\n\u001b[1;32m--> 131\u001b[1;33m             \u001b[0ma\u001b[0m\u001b[1;33m.\u001b[0m\u001b[0mdraw\u001b[0m\u001b[1;33m(\u001b[0m\u001b[0mrenderer\u001b[0m\u001b[1;33m)\u001b[0m\u001b[1;33m\u001b[0m\u001b[1;33m\u001b[0m\u001b[0m\n\u001b[0m\u001b[0;32m    132\u001b[0m     \u001b[1;32melse\u001b[0m\u001b[1;33m:\u001b[0m\u001b[1;33m\u001b[0m\u001b[1;33m\u001b[0m\u001b[0m\n\u001b[0;32m    133\u001b[0m         \u001b[1;31m# Composite any adjacent images together\u001b[0m\u001b[1;33m\u001b[0m\u001b[1;33m\u001b[0m\u001b[1;33m\u001b[0m\u001b[0m\n",
      "\u001b[1;32m~\\anaconda3\\envs\\Intern_Project\\lib\\site-packages\\matplotlib\\artist.py\u001b[0m in \u001b[0;36mdraw_wrapper\u001b[1;34m(artist, renderer, *args, **kwargs)\u001b[0m\n\u001b[0;32m     39\u001b[0m                 \u001b[0mrenderer\u001b[0m\u001b[1;33m.\u001b[0m\u001b[0mstart_filter\u001b[0m\u001b[1;33m(\u001b[0m\u001b[1;33m)\u001b[0m\u001b[1;33m\u001b[0m\u001b[1;33m\u001b[0m\u001b[0m\n\u001b[0;32m     40\u001b[0m \u001b[1;33m\u001b[0m\u001b[0m\n\u001b[1;32m---> 41\u001b[1;33m             \u001b[1;32mreturn\u001b[0m \u001b[0mdraw\u001b[0m\u001b[1;33m(\u001b[0m\u001b[0martist\u001b[0m\u001b[1;33m,\u001b[0m \u001b[0mrenderer\u001b[0m\u001b[1;33m,\u001b[0m \u001b[1;33m*\u001b[0m\u001b[0margs\u001b[0m\u001b[1;33m,\u001b[0m \u001b[1;33m**\u001b[0m\u001b[0mkwargs\u001b[0m\u001b[1;33m)\u001b[0m\u001b[1;33m\u001b[0m\u001b[1;33m\u001b[0m\u001b[0m\n\u001b[0m\u001b[0;32m     42\u001b[0m         \u001b[1;32mfinally\u001b[0m\u001b[1;33m:\u001b[0m\u001b[1;33m\u001b[0m\u001b[1;33m\u001b[0m\u001b[0m\n\u001b[0;32m     43\u001b[0m             \u001b[1;32mif\u001b[0m \u001b[0martist\u001b[0m\u001b[1;33m.\u001b[0m\u001b[0mget_agg_filter\u001b[0m\u001b[1;33m(\u001b[0m\u001b[1;33m)\u001b[0m \u001b[1;32mis\u001b[0m \u001b[1;32mnot\u001b[0m \u001b[1;32mNone\u001b[0m\u001b[1;33m:\u001b[0m\u001b[1;33m\u001b[0m\u001b[1;33m\u001b[0m\u001b[0m\n",
      "\u001b[1;32m~\\anaconda3\\envs\\Intern_Project\\lib\\site-packages\\matplotlib\\cbook\\deprecation.py\u001b[0m in \u001b[0;36mwrapper\u001b[1;34m(*inner_args, **inner_kwargs)\u001b[0m\n\u001b[0;32m    409\u001b[0m                          \u001b[1;32melse\u001b[0m \u001b[0mdeprecation_addendum\u001b[0m\u001b[1;33m,\u001b[0m\u001b[1;33m\u001b[0m\u001b[1;33m\u001b[0m\u001b[0m\n\u001b[0;32m    410\u001b[0m                 **kwargs)\n\u001b[1;32m--> 411\u001b[1;33m         \u001b[1;32mreturn\u001b[0m \u001b[0mfunc\u001b[0m\u001b[1;33m(\u001b[0m\u001b[1;33m*\u001b[0m\u001b[0minner_args\u001b[0m\u001b[1;33m,\u001b[0m \u001b[1;33m**\u001b[0m\u001b[0minner_kwargs\u001b[0m\u001b[1;33m)\u001b[0m\u001b[1;33m\u001b[0m\u001b[1;33m\u001b[0m\u001b[0m\n\u001b[0m\u001b[0;32m    412\u001b[0m \u001b[1;33m\u001b[0m\u001b[0m\n\u001b[0;32m    413\u001b[0m     \u001b[1;32mreturn\u001b[0m \u001b[0mwrapper\u001b[0m\u001b[1;33m\u001b[0m\u001b[1;33m\u001b[0m\u001b[0m\n",
      "\u001b[1;32m~\\anaconda3\\envs\\Intern_Project\\lib\\site-packages\\matplotlib\\axes\\_base.py\u001b[0m in \u001b[0;36mdraw\u001b[1;34m(self, renderer, inframe)\u001b[0m\n\u001b[0;32m   2745\u001b[0m             \u001b[0mrenderer\u001b[0m\u001b[1;33m.\u001b[0m\u001b[0mstop_rasterizing\u001b[0m\u001b[1;33m(\u001b[0m\u001b[1;33m)\u001b[0m\u001b[1;33m\u001b[0m\u001b[1;33m\u001b[0m\u001b[0m\n\u001b[0;32m   2746\u001b[0m \u001b[1;33m\u001b[0m\u001b[0m\n\u001b[1;32m-> 2747\u001b[1;33m         \u001b[0mmimage\u001b[0m\u001b[1;33m.\u001b[0m\u001b[0m_draw_list_compositing_images\u001b[0m\u001b[1;33m(\u001b[0m\u001b[0mrenderer\u001b[0m\u001b[1;33m,\u001b[0m \u001b[0mself\u001b[0m\u001b[1;33m,\u001b[0m \u001b[0martists\u001b[0m\u001b[1;33m)\u001b[0m\u001b[1;33m\u001b[0m\u001b[1;33m\u001b[0m\u001b[0m\n\u001b[0m\u001b[0;32m   2748\u001b[0m \u001b[1;33m\u001b[0m\u001b[0m\n\u001b[0;32m   2749\u001b[0m         \u001b[0mrenderer\u001b[0m\u001b[1;33m.\u001b[0m\u001b[0mclose_group\u001b[0m\u001b[1;33m(\u001b[0m\u001b[1;34m'axes'\u001b[0m\u001b[1;33m)\u001b[0m\u001b[1;33m\u001b[0m\u001b[1;33m\u001b[0m\u001b[0m\n",
      "\u001b[1;32m~\\anaconda3\\envs\\Intern_Project\\lib\\site-packages\\matplotlib\\image.py\u001b[0m in \u001b[0;36m_draw_list_compositing_images\u001b[1;34m(renderer, parent, artists, suppress_composite)\u001b[0m\n\u001b[0;32m    129\u001b[0m     \u001b[1;32mif\u001b[0m \u001b[0mnot_composite\u001b[0m \u001b[1;32mor\u001b[0m \u001b[1;32mnot\u001b[0m \u001b[0mhas_images\u001b[0m\u001b[1;33m:\u001b[0m\u001b[1;33m\u001b[0m\u001b[1;33m\u001b[0m\u001b[0m\n\u001b[0;32m    130\u001b[0m         \u001b[1;32mfor\u001b[0m \u001b[0ma\u001b[0m \u001b[1;32min\u001b[0m \u001b[0martists\u001b[0m\u001b[1;33m:\u001b[0m\u001b[1;33m\u001b[0m\u001b[1;33m\u001b[0m\u001b[0m\n\u001b[1;32m--> 131\u001b[1;33m             \u001b[0ma\u001b[0m\u001b[1;33m.\u001b[0m\u001b[0mdraw\u001b[0m\u001b[1;33m(\u001b[0m\u001b[0mrenderer\u001b[0m\u001b[1;33m)\u001b[0m\u001b[1;33m\u001b[0m\u001b[1;33m\u001b[0m\u001b[0m\n\u001b[0m\u001b[0;32m    132\u001b[0m     \u001b[1;32melse\u001b[0m\u001b[1;33m:\u001b[0m\u001b[1;33m\u001b[0m\u001b[1;33m\u001b[0m\u001b[0m\n\u001b[0;32m    133\u001b[0m         \u001b[1;31m# Composite any adjacent images together\u001b[0m\u001b[1;33m\u001b[0m\u001b[1;33m\u001b[0m\u001b[1;33m\u001b[0m\u001b[0m\n",
      "\u001b[1;32m~\\anaconda3\\envs\\Intern_Project\\lib\\site-packages\\matplotlib\\artist.py\u001b[0m in \u001b[0;36mdraw_wrapper\u001b[1;34m(artist, renderer, *args, **kwargs)\u001b[0m\n\u001b[0;32m     39\u001b[0m                 \u001b[0mrenderer\u001b[0m\u001b[1;33m.\u001b[0m\u001b[0mstart_filter\u001b[0m\u001b[1;33m(\u001b[0m\u001b[1;33m)\u001b[0m\u001b[1;33m\u001b[0m\u001b[1;33m\u001b[0m\u001b[0m\n\u001b[0;32m     40\u001b[0m \u001b[1;33m\u001b[0m\u001b[0m\n\u001b[1;32m---> 41\u001b[1;33m             \u001b[1;32mreturn\u001b[0m \u001b[0mdraw\u001b[0m\u001b[1;33m(\u001b[0m\u001b[0martist\u001b[0m\u001b[1;33m,\u001b[0m \u001b[0mrenderer\u001b[0m\u001b[1;33m,\u001b[0m \u001b[1;33m*\u001b[0m\u001b[0margs\u001b[0m\u001b[1;33m,\u001b[0m \u001b[1;33m**\u001b[0m\u001b[0mkwargs\u001b[0m\u001b[1;33m)\u001b[0m\u001b[1;33m\u001b[0m\u001b[1;33m\u001b[0m\u001b[0m\n\u001b[0m\u001b[0;32m     42\u001b[0m         \u001b[1;32mfinally\u001b[0m\u001b[1;33m:\u001b[0m\u001b[1;33m\u001b[0m\u001b[1;33m\u001b[0m\u001b[0m\n\u001b[0;32m     43\u001b[0m             \u001b[1;32mif\u001b[0m \u001b[0martist\u001b[0m\u001b[1;33m.\u001b[0m\u001b[0mget_agg_filter\u001b[0m\u001b[1;33m(\u001b[0m\u001b[1;33m)\u001b[0m \u001b[1;32mis\u001b[0m \u001b[1;32mnot\u001b[0m \u001b[1;32mNone\u001b[0m\u001b[1;33m:\u001b[0m\u001b[1;33m\u001b[0m\u001b[1;33m\u001b[0m\u001b[0m\n",
      "\u001b[1;32m~\\anaconda3\\envs\\Intern_Project\\lib\\site-packages\\matplotlib\\text.py\u001b[0m in \u001b[0;36mdraw\u001b[1;34m(self, renderer)\u001b[0m\n\u001b[0;32m    679\u001b[0m \u001b[1;33m\u001b[0m\u001b[0m\n\u001b[0;32m    680\u001b[0m         \u001b[1;32mwith\u001b[0m \u001b[0m_wrap_text\u001b[0m\u001b[1;33m(\u001b[0m\u001b[0mself\u001b[0m\u001b[1;33m)\u001b[0m \u001b[1;32mas\u001b[0m \u001b[0mtextobj\u001b[0m\u001b[1;33m:\u001b[0m\u001b[1;33m\u001b[0m\u001b[1;33m\u001b[0m\u001b[0m\n\u001b[1;32m--> 681\u001b[1;33m             \u001b[0mbbox\u001b[0m\u001b[1;33m,\u001b[0m \u001b[0minfo\u001b[0m\u001b[1;33m,\u001b[0m \u001b[0mdescent\u001b[0m \u001b[1;33m=\u001b[0m \u001b[0mtextobj\u001b[0m\u001b[1;33m.\u001b[0m\u001b[0m_get_layout\u001b[0m\u001b[1;33m(\u001b[0m\u001b[0mrenderer\u001b[0m\u001b[1;33m)\u001b[0m\u001b[1;33m\u001b[0m\u001b[1;33m\u001b[0m\u001b[0m\n\u001b[0m\u001b[0;32m    682\u001b[0m             \u001b[0mtrans\u001b[0m \u001b[1;33m=\u001b[0m \u001b[0mtextobj\u001b[0m\u001b[1;33m.\u001b[0m\u001b[0mget_transform\u001b[0m\u001b[1;33m(\u001b[0m\u001b[1;33m)\u001b[0m\u001b[1;33m\u001b[0m\u001b[1;33m\u001b[0m\u001b[0m\n\u001b[0;32m    683\u001b[0m \u001b[1;33m\u001b[0m\u001b[0m\n",
      "\u001b[1;32m~\\anaconda3\\envs\\Intern_Project\\lib\\site-packages\\matplotlib\\text.py\u001b[0m in \u001b[0;36m_get_layout\u001b[1;34m(self, renderer)\u001b[0m\n\u001b[0;32m    272\u001b[0m         \u001b[0mof\u001b[0m \u001b[0ma\u001b[0m \u001b[0mrotated\u001b[0m \u001b[0mtext\u001b[0m \u001b[0mwhen\u001b[0m \u001b[0mnecessary\u001b[0m\u001b[1;33m.\u001b[0m\u001b[1;33m\u001b[0m\u001b[1;33m\u001b[0m\u001b[0m\n\u001b[0;32m    273\u001b[0m         \"\"\"\n\u001b[1;32m--> 274\u001b[1;33m         \u001b[0mkey\u001b[0m \u001b[1;33m=\u001b[0m \u001b[0mself\u001b[0m\u001b[1;33m.\u001b[0m\u001b[0mget_prop_tup\u001b[0m\u001b[1;33m(\u001b[0m\u001b[0mrenderer\u001b[0m\u001b[1;33m=\u001b[0m\u001b[0mrenderer\u001b[0m\u001b[1;33m)\u001b[0m\u001b[1;33m\u001b[0m\u001b[1;33m\u001b[0m\u001b[0m\n\u001b[0m\u001b[0;32m    275\u001b[0m         \u001b[1;32mif\u001b[0m \u001b[0mkey\u001b[0m \u001b[1;32min\u001b[0m \u001b[0mself\u001b[0m\u001b[1;33m.\u001b[0m\u001b[0m_cached\u001b[0m\u001b[1;33m:\u001b[0m\u001b[1;33m\u001b[0m\u001b[1;33m\u001b[0m\u001b[0m\n\u001b[0;32m    276\u001b[0m             \u001b[1;32mreturn\u001b[0m \u001b[0mself\u001b[0m\u001b[1;33m.\u001b[0m\u001b[0m_cached\u001b[0m\u001b[1;33m[\u001b[0m\u001b[0mkey\u001b[0m\u001b[1;33m]\u001b[0m\u001b[1;33m\u001b[0m\u001b[1;33m\u001b[0m\u001b[0m\n",
      "\u001b[1;32m~\\anaconda3\\envs\\Intern_Project\\lib\\site-packages\\matplotlib\\text.py\u001b[0m in \u001b[0;36mget_prop_tup\u001b[1;34m(self, renderer)\u001b[0m\n\u001b[0;32m    840\u001b[0m         \u001b[0mneed\u001b[0m \u001b[0mto\u001b[0m \u001b[0mknow\u001b[0m \u001b[1;32mif\u001b[0m \u001b[0mthe\u001b[0m \u001b[0mtext\u001b[0m \u001b[0mhas\u001b[0m \u001b[0mchanged\u001b[0m\u001b[1;33m.\u001b[0m\u001b[1;33m\u001b[0m\u001b[1;33m\u001b[0m\u001b[0m\n\u001b[0;32m    841\u001b[0m         \"\"\"\n\u001b[1;32m--> 842\u001b[1;33m         \u001b[0mx\u001b[0m\u001b[1;33m,\u001b[0m \u001b[0my\u001b[0m \u001b[1;33m=\u001b[0m \u001b[0mself\u001b[0m\u001b[1;33m.\u001b[0m\u001b[0mget_unitless_position\u001b[0m\u001b[1;33m(\u001b[0m\u001b[1;33m)\u001b[0m\u001b[1;33m\u001b[0m\u001b[1;33m\u001b[0m\u001b[0m\n\u001b[0m\u001b[0;32m    843\u001b[0m         \u001b[0mrenderer\u001b[0m \u001b[1;33m=\u001b[0m \u001b[0mrenderer\u001b[0m \u001b[1;32mor\u001b[0m \u001b[0mself\u001b[0m\u001b[1;33m.\u001b[0m\u001b[0m_renderer\u001b[0m\u001b[1;33m\u001b[0m\u001b[1;33m\u001b[0m\u001b[0m\n\u001b[0;32m    844\u001b[0m         return (x, y, self.get_text(), self._color,\n",
      "\u001b[1;32m~\\anaconda3\\envs\\Intern_Project\\lib\\site-packages\\matplotlib\\text.py\u001b[0m in \u001b[0;36mget_unitless_position\u001b[1;34m(self)\u001b[0m\n\u001b[0;32m    822\u001b[0m         \u001b[1;31m# This will get the position with all unit information stripped away.\u001b[0m\u001b[1;33m\u001b[0m\u001b[1;33m\u001b[0m\u001b[1;33m\u001b[0m\u001b[0m\n\u001b[0;32m    823\u001b[0m         \u001b[1;31m# This is here for convenience since it is done in several locations.\u001b[0m\u001b[1;33m\u001b[0m\u001b[1;33m\u001b[0m\u001b[1;33m\u001b[0m\u001b[0m\n\u001b[1;32m--> 824\u001b[1;33m         \u001b[0mx\u001b[0m \u001b[1;33m=\u001b[0m \u001b[0mfloat\u001b[0m\u001b[1;33m(\u001b[0m\u001b[0mself\u001b[0m\u001b[1;33m.\u001b[0m\u001b[0mconvert_xunits\u001b[0m\u001b[1;33m(\u001b[0m\u001b[0mself\u001b[0m\u001b[1;33m.\u001b[0m\u001b[0m_x\u001b[0m\u001b[1;33m)\u001b[0m\u001b[1;33m)\u001b[0m\u001b[1;33m\u001b[0m\u001b[1;33m\u001b[0m\u001b[0m\n\u001b[0m\u001b[0;32m    825\u001b[0m         \u001b[0my\u001b[0m \u001b[1;33m=\u001b[0m \u001b[0mfloat\u001b[0m\u001b[1;33m(\u001b[0m\u001b[0mself\u001b[0m\u001b[1;33m.\u001b[0m\u001b[0mconvert_yunits\u001b[0m\u001b[1;33m(\u001b[0m\u001b[0mself\u001b[0m\u001b[1;33m.\u001b[0m\u001b[0m_y\u001b[0m\u001b[1;33m)\u001b[0m\u001b[1;33m)\u001b[0m\u001b[1;33m\u001b[0m\u001b[1;33m\u001b[0m\u001b[0m\n\u001b[0;32m    826\u001b[0m         \u001b[1;32mreturn\u001b[0m \u001b[0mx\u001b[0m\u001b[1;33m,\u001b[0m \u001b[0my\u001b[0m\u001b[1;33m\u001b[0m\u001b[1;33m\u001b[0m\u001b[0m\n",
      "\u001b[1;32m~\\anaconda3\\envs\\Intern_Project\\lib\\site-packages\\matplotlib\\artist.py\u001b[0m in \u001b[0;36mconvert_xunits\u001b[1;34m(self, x)\u001b[0m\n\u001b[0;32m    173\u001b[0m         \u001b[1;32mif\u001b[0m \u001b[0max\u001b[0m \u001b[1;32mis\u001b[0m \u001b[1;32mNone\u001b[0m \u001b[1;32mor\u001b[0m \u001b[0max\u001b[0m\u001b[1;33m.\u001b[0m\u001b[0mxaxis\u001b[0m \u001b[1;32mis\u001b[0m \u001b[1;32mNone\u001b[0m\u001b[1;33m:\u001b[0m\u001b[1;33m\u001b[0m\u001b[1;33m\u001b[0m\u001b[0m\n\u001b[0;32m    174\u001b[0m             \u001b[1;32mreturn\u001b[0m \u001b[0mx\u001b[0m\u001b[1;33m\u001b[0m\u001b[1;33m\u001b[0m\u001b[0m\n\u001b[1;32m--> 175\u001b[1;33m         \u001b[1;32mreturn\u001b[0m \u001b[0max\u001b[0m\u001b[1;33m.\u001b[0m\u001b[0mxaxis\u001b[0m\u001b[1;33m.\u001b[0m\u001b[0mconvert_units\u001b[0m\u001b[1;33m(\u001b[0m\u001b[0mx\u001b[0m\u001b[1;33m)\u001b[0m\u001b[1;33m\u001b[0m\u001b[1;33m\u001b[0m\u001b[0m\n\u001b[0m\u001b[0;32m    176\u001b[0m \u001b[1;33m\u001b[0m\u001b[0m\n\u001b[0;32m    177\u001b[0m     \u001b[1;32mdef\u001b[0m \u001b[0mconvert_yunits\u001b[0m\u001b[1;33m(\u001b[0m\u001b[0mself\u001b[0m\u001b[1;33m,\u001b[0m \u001b[0my\u001b[0m\u001b[1;33m)\u001b[0m\u001b[1;33m:\u001b[0m\u001b[1;33m\u001b[0m\u001b[1;33m\u001b[0m\u001b[0m\n",
      "\u001b[1;32m~\\anaconda3\\envs\\Intern_Project\\lib\\site-packages\\matplotlib\\axis.py\u001b[0m in \u001b[0;36mconvert_units\u001b[1;34m(self, x)\u001b[0m\n\u001b[0;32m   1524\u001b[0m         \u001b[1;32mexcept\u001b[0m \u001b[0mException\u001b[0m \u001b[1;32mas\u001b[0m \u001b[0me\u001b[0m\u001b[1;33m:\u001b[0m\u001b[1;33m\u001b[0m\u001b[1;33m\u001b[0m\u001b[0m\n\u001b[0;32m   1525\u001b[0m             raise munits.ConversionError('Failed to convert value(s) to axis '\n\u001b[1;32m-> 1526\u001b[1;33m                                          f'units: {x!r}') from e\n\u001b[0m\u001b[0;32m   1527\u001b[0m         \u001b[1;32mreturn\u001b[0m \u001b[0mret\u001b[0m\u001b[1;33m\u001b[0m\u001b[1;33m\u001b[0m\u001b[0m\n\u001b[0;32m   1528\u001b[0m \u001b[1;33m\u001b[0m\u001b[0m\n",
      "\u001b[1;31mConversionError\u001b[0m: Failed to convert value(s) to axis units: '긍정'"
     ]
    },
    {
     "data": {
      "text/plain": [
       "<Figure size 504x504 with 1 Axes>"
      ]
     },
     "metadata": {
      "needs_background": "light"
     },
     "output_type": "display_data"
    },
    {
     "data": {
      "image/png": "[encoded data removed]",
      "text/plain": [
       "<Figure size 432x288 with 1 Axes>"
      ]
     },
     "metadata": {
      "needs_background": "light"
     },
     "output_type": "display_data"
    }
   ],
   "source": [
    "plt.figure(figsize = (7, 7))\n",
    "for i, v in enumerate(x):\n",
    "    plt.text(v, y[i], y[i],                 # 좌표 (x축 = v, y축 = y[0]..y[1], 표시 = y[0]..y[1])\n",
    "             fontsize = 12, \n",
    "             color='black',\n",
    "             horizontalalignment='center',  # horizontalalignment (left, center, right)\n",
    "             verticalalignment='bottom')    # verticalalignment (top, center, bottom)\n",
    "\n",
    "plt.title('original_predict_label', size = 15)\n",
    "plt.bar(x, y, width=0.25)\n",
    "test01.plot.bar(rot=0)\n",
    "plt.ylim(0, max(max(y), max(z)))\n",
    "plt.show()"
   ]
  },
  {
   "cell_type": "code",
   "execution_count": null,
   "id": "a840a998",
   "metadata": {},
   "outputs": [],
   "source": []
  },
  {
   "cell_type": "code",
   "execution_count": null,
   "id": "1f866668",
   "metadata": {
    "ExecuteTime": {
     "end_time": "2022-05-19T23:55:35.472430Z",
     "start_time": "2022-05-19T23:54:12.582Z"
    }
   },
   "outputs": [],
   "source": [
    "model = Sequential()\n",
    "model.add(Embedding(total_cnt, 100))\n",
    "model.add(LSTM(128, return_sequences = True))\n",
    "model.add(Dropout(0.5))\n",
    "model.add(GRU(128))\n",
    "model.add(Dropout(0.5))\n",
    "model.add(Dense(1, activation='sigmoid'))\n",
    "\n",
    "model.summary()\n",
    "\n",
    "es = EarlyStopping(monitor='val_loss', mode='min', verbose=1, patience=4)\n",
    "mc = ModelCheckpoint('bilstm.h5', monitor='val_acc', mode='max', verbose=1, save_best_only=True)\n",
    "\n",
    "model.compile(optimizer='adam', loss='mse', metrics=['acc'])\n",
    "history = model.fit(x_train_final, y_train, epochs=15, callbacks=[es, mc], batch_size=6000, validation_split=0.2)"
   ]
  },
  {
   "cell_type": "markdown",
   "id": "64b496b9",
   "metadata": {},
   "source": [
    "# 그래프 분석 (EDA)\n",
    "<br>\n",
    "\n",
    "**언론사별 / 월별 / 주중별기사 수량 확인**\n",
    "    \n",
    "    ▶ 언론사를 각 숫자로 표현 후 EDA 실시 Ex) 1 : 미디어펜, 2 : 아이뉴스24, 3 : 데일리안 ...\n",
    "    ▶ date : 등록된 기사별 날짜\n",
    "**아직 제대로 진행 안됨...**"
   ]
  },
  {
   "cell_type": "code",
   "execution_count": 493,
   "id": "3621e09b",
   "metadata": {
    "ExecuteTime": {
     "end_time": "2022-05-20T06:31:04.586032Z",
     "start_time": "2022-05-20T06:31:04.561099Z"
    }
   },
   "outputs": [
    {
     "data": {
      "text/html": [
       "<div>\n",
       "<style scoped>\n",
       "    .dataframe tbody tr th:only-of-type {\n",
       "        vertical-align: middle;\n",
       "    }\n",
       "\n",
       "    .dataframe tbody tr th {\n",
       "        vertical-align: top;\n",
       "    }\n",
       "\n",
       "    .dataframe thead th {\n",
       "        text-align: right;\n",
       "    }\n",
       "</style>\n",
       "<table border=\"1\" class=\"dataframe\">\n",
       "  <thead>\n",
       "    <tr style=\"text-align: right;\">\n",
       "      <th></th>\n",
       "      <th>year</th>\n",
       "      <th>month</th>\n",
       "      <th>day</th>\n",
       "      <th>title</th>\n",
       "      <th>nouns_title</th>\n",
       "      <th>press</th>\n",
       "      <th>contents</th>\n",
       "      <th>nouns_contents</th>\n",
       "      <th>label</th>\n",
       "    </tr>\n",
       "    <tr>\n",
       "      <th>date</th>\n",
       "      <th></th>\n",
       "      <th></th>\n",
       "      <th></th>\n",
       "      <th></th>\n",
       "      <th></th>\n",
       "      <th></th>\n",
       "      <th></th>\n",
       "      <th></th>\n",
       "      <th></th>\n",
       "    </tr>\n",
       "  </thead>\n",
       "  <tbody>\n",
       "    <tr>\n",
       "      <th>2021-05-01</th>\n",
       "      <td>7</td>\n",
       "      <td>7</td>\n",
       "      <td>7</td>\n",
       "      <td>7</td>\n",
       "      <td>7</td>\n",
       "      <td>7</td>\n",
       "      <td>7</td>\n",
       "      <td>7</td>\n",
       "      <td>7</td>\n",
       "    </tr>\n",
       "    <tr>\n",
       "      <th>2021-05-02</th>\n",
       "      <td>13</td>\n",
       "      <td>13</td>\n",
       "      <td>13</td>\n",
       "      <td>13</td>\n",
       "      <td>13</td>\n",
       "      <td>13</td>\n",
       "      <td>13</td>\n",
       "      <td>13</td>\n",
       "      <td>13</td>\n",
       "    </tr>\n",
       "    <tr>\n",
       "      <th>2021-05-03</th>\n",
       "      <td>22</td>\n",
       "      <td>22</td>\n",
       "      <td>22</td>\n",
       "      <td>22</td>\n",
       "      <td>22</td>\n",
       "      <td>22</td>\n",
       "      <td>22</td>\n",
       "      <td>22</td>\n",
       "      <td>22</td>\n",
       "    </tr>\n",
       "  </tbody>\n",
       "</table>\n",
       "</div>"
      ],
      "text/plain": [
       "            year  month  day  title  nouns_title  press  contents  \\\n",
       "date                                                                \n",
       "2021-05-01     7      7    7      7            7      7         7   \n",
       "2021-05-02    13     13   13     13           13     13        13   \n",
       "2021-05-03    22     22   22     22           22     22        22   \n",
       "\n",
       "            nouns_contents  label  \n",
       "date                               \n",
       "2021-05-01               7      7  \n",
       "2021-05-02              13     13  \n",
       "2021-05-03              22     22  "
      ]
     },
     "execution_count": 493,
     "metadata": {},
     "output_type": "execute_result"
    }
   ],
   "source": [
    "# 날짜별 데이터 갯수\n",
    "df_news_copy.groupby('date').count().head(3)"
   ]
  },
  {
   "cell_type": "markdown",
   "id": "803f39f5",
   "metadata": {},
   "source": [
    "## 월별 기사 갯수\n",
    "<br>\n",
    "\n",
    "**참고사이트 : https://zephyrus1111.tistory.com/9**"
   ]
  },
  {
   "cell_type": "code",
   "execution_count": 494,
   "id": "8083efc2",
   "metadata": {
    "ExecuteTime": {
     "end_time": "2022-05-20T06:31:04.885233Z",
     "start_time": "2022-05-20T06:31:04.808437Z"
    },
    "collapsed": true
   },
   "outputs": [
    {
     "name": "stderr",
     "output_type": "stream",
     "text": [
      "C:\\Users\\DGBDS\\anaconda3\\envs\\Intern_Project\\lib\\site-packages\\ipykernel_launcher.py:1: FutureWarning: Treating datetime data as categorical rather than numeric in `.describe` is deprecated and will be removed in a future version of pandas. Specify `datetime_is_numeric=True` to silence this warning and adopt the future behavior now.\n",
      "  \"\"\"Entry point for launching an IPython kernel.\n"
     ]
    },
    {
     "data": {
      "text/html": [
       "<div>\n",
       "<style scoped>\n",
       "    .dataframe tbody tr th:only-of-type {\n",
       "        vertical-align: middle;\n",
       "    }\n",
       "\n",
       "    .dataframe tbody tr th {\n",
       "        vertical-align: top;\n",
       "    }\n",
       "\n",
       "    .dataframe thead th {\n",
       "        text-align: right;\n",
       "    }\n",
       "</style>\n",
       "<table border=\"1\" class=\"dataframe\">\n",
       "  <thead>\n",
       "    <tr style=\"text-align: right;\">\n",
       "      <th></th>\n",
       "      <th>date</th>\n",
       "      <th>year</th>\n",
       "      <th>month</th>\n",
       "      <th>day</th>\n",
       "      <th>title</th>\n",
       "      <th>nouns_title</th>\n",
       "      <th>press</th>\n",
       "      <th>contents</th>\n",
       "      <th>nouns_contents</th>\n",
       "      <th>label</th>\n",
       "    </tr>\n",
       "  </thead>\n",
       "  <tbody>\n",
       "    <tr>\n",
       "      <th>count</th>\n",
       "      <td>8948</td>\n",
       "      <td>8948.000000</td>\n",
       "      <td>8948.000000</td>\n",
       "      <td>8948.000000</td>\n",
       "      <td>8948</td>\n",
       "      <td>8948</td>\n",
       "      <td>8948</td>\n",
       "      <td>8948</td>\n",
       "      <td>8948</td>\n",
       "      <td>8948.000000</td>\n",
       "    </tr>\n",
       "    <tr>\n",
       "      <th>unique</th>\n",
       "      <td>361</td>\n",
       "      <td>NaN</td>\n",
       "      <td>NaN</td>\n",
       "      <td>NaN</td>\n",
       "      <td>7735</td>\n",
       "      <td>7026</td>\n",
       "      <td>311</td>\n",
       "      <td>8289</td>\n",
       "      <td>8103</td>\n",
       "      <td>NaN</td>\n",
       "    </tr>\n",
       "    <tr>\n",
       "      <th>top</th>\n",
       "      <td>2022-04-28 00:00:00</td>\n",
       "      <td>NaN</td>\n",
       "      <td>NaN</td>\n",
       "      <td>NaN</td>\n",
       "      <td>[인사] DGB금융그룹</td>\n",
       "      <td>인사 DGB 금융 그룹</td>\n",
       "      <td>국제뉴스</td>\n",
       "      <td>김태오 회장과 임성훈 대구은행장, 김경규 하이투자증권 대표, 김성한 DGB생명 대표...</td>\n",
       "      <td>김태오 회장 임성훈 대다 구 은행 장 김경규 하이 투자 증권 대표 김성 DGB 생명...</td>\n",
       "      <td>NaN</td>\n",
       "    </tr>\n",
       "    <tr>\n",
       "      <th>freq</th>\n",
       "      <td>131</td>\n",
       "      <td>NaN</td>\n",
       "      <td>NaN</td>\n",
       "      <td>NaN</td>\n",
       "      <td>51</td>\n",
       "      <td>73</td>\n",
       "      <td>243</td>\n",
       "      <td>21</td>\n",
       "      <td>21</td>\n",
       "      <td>NaN</td>\n",
       "    </tr>\n",
       "    <tr>\n",
       "      <th>first</th>\n",
       "      <td>2021-05-01 00:00:00</td>\n",
       "      <td>NaN</td>\n",
       "      <td>NaN</td>\n",
       "      <td>NaN</td>\n",
       "      <td>NaN</td>\n",
       "      <td>NaN</td>\n",
       "      <td>NaN</td>\n",
       "      <td>NaN</td>\n",
       "      <td>NaN</td>\n",
       "      <td>NaN</td>\n",
       "    </tr>\n",
       "    <tr>\n",
       "      <th>last</th>\n",
       "      <td>2022-05-01 00:00:00</td>\n",
       "      <td>NaN</td>\n",
       "      <td>NaN</td>\n",
       "      <td>NaN</td>\n",
       "      <td>NaN</td>\n",
       "      <td>NaN</td>\n",
       "      <td>NaN</td>\n",
       "      <td>NaN</td>\n",
       "      <td>NaN</td>\n",
       "      <td>NaN</td>\n",
       "    </tr>\n",
       "    <tr>\n",
       "      <th>mean</th>\n",
       "      <td>NaN</td>\n",
       "      <td>2021.295820</td>\n",
       "      <td>6.763970</td>\n",
       "      <td>15.410371</td>\n",
       "      <td>NaN</td>\n",
       "      <td>NaN</td>\n",
       "      <td>NaN</td>\n",
       "      <td>NaN</td>\n",
       "      <td>NaN</td>\n",
       "      <td>0.558784</td>\n",
       "    </tr>\n",
       "    <tr>\n",
       "      <th>std</th>\n",
       "      <td>NaN</td>\n",
       "      <td>0.456436</td>\n",
       "      <td>3.341511</td>\n",
       "      <td>9.153126</td>\n",
       "      <td>NaN</td>\n",
       "      <td>NaN</td>\n",
       "      <td>NaN</td>\n",
       "      <td>NaN</td>\n",
       "      <td>NaN</td>\n",
       "      <td>0.610998</td>\n",
       "    </tr>\n",
       "    <tr>\n",
       "      <th>min</th>\n",
       "      <td>NaN</td>\n",
       "      <td>2021.000000</td>\n",
       "      <td>1.000000</td>\n",
       "      <td>1.000000</td>\n",
       "      <td>NaN</td>\n",
       "      <td>NaN</td>\n",
       "      <td>NaN</td>\n",
       "      <td>NaN</td>\n",
       "      <td>NaN</td>\n",
       "      <td>-1.000000</td>\n",
       "    </tr>\n",
       "    <tr>\n",
       "      <th>25%</th>\n",
       "      <td>NaN</td>\n",
       "      <td>2021.000000</td>\n",
       "      <td>4.000000</td>\n",
       "      <td>7.000000</td>\n",
       "      <td>NaN</td>\n",
       "      <td>NaN</td>\n",
       "      <td>NaN</td>\n",
       "      <td>NaN</td>\n",
       "      <td>NaN</td>\n",
       "      <td>0.000000</td>\n",
       "    </tr>\n",
       "    <tr>\n",
       "      <th>50%</th>\n",
       "      <td>NaN</td>\n",
       "      <td>2021.000000</td>\n",
       "      <td>7.000000</td>\n",
       "      <td>15.000000</td>\n",
       "      <td>NaN</td>\n",
       "      <td>NaN</td>\n",
       "      <td>NaN</td>\n",
       "      <td>NaN</td>\n",
       "      <td>NaN</td>\n",
       "      <td>1.000000</td>\n",
       "    </tr>\n",
       "    <tr>\n",
       "      <th>75%</th>\n",
       "      <td>NaN</td>\n",
       "      <td>2022.000000</td>\n",
       "      <td>10.000000</td>\n",
       "      <td>24.000000</td>\n",
       "      <td>NaN</td>\n",
       "      <td>NaN</td>\n",
       "      <td>NaN</td>\n",
       "      <td>NaN</td>\n",
       "      <td>NaN</td>\n",
       "      <td>1.000000</td>\n",
       "    </tr>\n",
       "    <tr>\n",
       "      <th>max</th>\n",
       "      <td>NaN</td>\n",
       "      <td>2022.000000</td>\n",
       "      <td>12.000000</td>\n",
       "      <td>31.000000</td>\n",
       "      <td>NaN</td>\n",
       "      <td>NaN</td>\n",
       "      <td>NaN</td>\n",
       "      <td>NaN</td>\n",
       "      <td>NaN</td>\n",
       "      <td>1.000000</td>\n",
       "    </tr>\n",
       "  </tbody>\n",
       "</table>\n",
       "</div>"
      ],
      "text/plain": [
       "                       date         year        month          day  \\\n",
       "count                  8948  8948.000000  8948.000000  8948.000000   \n",
       "unique                  361          NaN          NaN          NaN   \n",
       "top     2022-04-28 00:00:00          NaN          NaN          NaN   \n",
       "freq                    131          NaN          NaN          NaN   \n",
       "first   2021-05-01 00:00:00          NaN          NaN          NaN   \n",
       "last    2022-05-01 00:00:00          NaN          NaN          NaN   \n",
       "mean                    NaN  2021.295820     6.763970    15.410371   \n",
       "std                     NaN     0.456436     3.341511     9.153126   \n",
       "min                     NaN  2021.000000     1.000000     1.000000   \n",
       "25%                     NaN  2021.000000     4.000000     7.000000   \n",
       "50%                     NaN  2021.000000     7.000000    15.000000   \n",
       "75%                     NaN  2022.000000    10.000000    24.000000   \n",
       "max                     NaN  2022.000000    12.000000    31.000000   \n",
       "\n",
       "               title   nouns_title press  \\\n",
       "count           8948          8948  8948   \n",
       "unique          7735          7026   311   \n",
       "top     [인사] DGB금융그룹  인사 DGB 금융 그룹  국제뉴스   \n",
       "freq              51            73   243   \n",
       "first            NaN           NaN   NaN   \n",
       "last             NaN           NaN   NaN   \n",
       "mean             NaN           NaN   NaN   \n",
       "std              NaN           NaN   NaN   \n",
       "min              NaN           NaN   NaN   \n",
       "25%              NaN           NaN   NaN   \n",
       "50%              NaN           NaN   NaN   \n",
       "75%              NaN           NaN   NaN   \n",
       "max              NaN           NaN   NaN   \n",
       "\n",
       "                                                 contents  \\\n",
       "count                                                8948   \n",
       "unique                                               8289   \n",
       "top     김태오 회장과 임성훈 대구은행장, 김경규 하이투자증권 대표, 김성한 DGB생명 대표...   \n",
       "freq                                                   21   \n",
       "first                                                 NaN   \n",
       "last                                                  NaN   \n",
       "mean                                                  NaN   \n",
       "std                                                   NaN   \n",
       "min                                                   NaN   \n",
       "25%                                                   NaN   \n",
       "50%                                                   NaN   \n",
       "75%                                                   NaN   \n",
       "max                                                   NaN   \n",
       "\n",
       "                                           nouns_contents        label  \n",
       "count                                                8948  8948.000000  \n",
       "unique                                               8103          NaN  \n",
       "top     김태오 회장 임성훈 대다 구 은행 장 김경규 하이 투자 증권 대표 김성 DGB 생명...          NaN  \n",
       "freq                                                   21          NaN  \n",
       "first                                                 NaN          NaN  \n",
       "last                                                  NaN          NaN  \n",
       "mean                                                  NaN     0.558784  \n",
       "std                                                   NaN     0.610998  \n",
       "min                                                   NaN    -1.000000  \n",
       "25%                                                   NaN     0.000000  \n",
       "50%                                                   NaN     1.000000  \n",
       "75%                                                   NaN     1.000000  \n",
       "max                                                   NaN     1.000000  "
      ]
     },
     "execution_count": 494,
     "metadata": {},
     "output_type": "execute_result"
    }
   ],
   "source": [
    "df_news_copy.describe(include='all')"
   ]
  },
  {
   "cell_type": "code",
   "execution_count": 495,
   "id": "6b2b3437",
   "metadata": {
    "ExecuteTime": {
     "end_time": "2022-05-20T06:31:04.960032Z",
     "start_time": "2022-05-20T06:31:04.953051Z"
    }
   },
   "outputs": [],
   "source": [
    "# 시각화 글자 깨짐 방지\n",
    "import os\n",
    "\n",
    "if os.name == 'posix':\n",
    "    plt.rc(\"font\", family=\"AppleGothic\")\n",
    "else:\n",
    "    plt.rc(\"font\", family=\"Malgun Gothic\")"
   ]
  },
  {
   "cell_type": "code",
   "execution_count": 496,
   "id": "4568c29a",
   "metadata": {
    "ExecuteTime": {
     "end_time": "2022-05-20T06:31:05.109631Z",
     "start_time": "2022-05-20T06:31:05.088688Z"
    },
    "scrolled": false
   },
   "outputs": [
    {
     "data": {
      "text/html": [
       "<div>\n",
       "<style scoped>\n",
       "    .dataframe tbody tr th:only-of-type {\n",
       "        vertical-align: middle;\n",
       "    }\n",
       "\n",
       "    .dataframe tbody tr th {\n",
       "        vertical-align: top;\n",
       "    }\n",
       "\n",
       "    .dataframe thead th {\n",
       "        text-align: right;\n",
       "    }\n",
       "</style>\n",
       "<table border=\"1\" class=\"dataframe\">\n",
       "  <thead>\n",
       "    <tr style=\"text-align: right;\">\n",
       "      <th></th>\n",
       "      <th>date</th>\n",
       "      <th>year</th>\n",
       "      <th>month</th>\n",
       "      <th>day</th>\n",
       "      <th>title</th>\n",
       "      <th>press</th>\n",
       "      <th>contents</th>\n",
       "    </tr>\n",
       "  </thead>\n",
       "  <tbody>\n",
       "    <tr>\n",
       "      <th>0</th>\n",
       "      <td>2021-05-01</td>\n",
       "      <td>2021</td>\n",
       "      <td>5</td>\n",
       "      <td>1</td>\n",
       "      <td>DGB대구은행, 은행권 중금리대출 실적 1위</td>\n",
       "      <td>글로벌이코노믹</td>\n",
       "      <td>DGB대구은행의 중금리대출 실적이 지방은행뿐만 아니라 은행권 전체에서 가장 많은 것...</td>\n",
       "    </tr>\n",
       "    <tr>\n",
       "      <th>1</th>\n",
       "      <td>2021-05-01</td>\n",
       "      <td>2021</td>\n",
       "      <td>5</td>\n",
       "      <td>1</td>\n",
       "      <td>DGB대구은행, 어버이날 맞이 효(孝) 마스크 지원</td>\n",
       "      <td>경북신문</td>\n",
       "      <td>DGB대구은행(은행장 임성훈)은 다가오는 어버이날을 맞아 지역 내 방역취약계층 어르...</td>\n",
       "    </tr>\n",
       "    <tr>\n",
       "      <th>2</th>\n",
       "      <td>2021-05-01</td>\n",
       "      <td>2021</td>\n",
       "      <td>5</td>\n",
       "      <td>1</td>\n",
       "      <td>은행·비은행 동반성장…지방금융지주 1분기 '好好好'</td>\n",
       "      <td>미디어펜</td>\n",
       "      <td>DGB금융의 순이익은 지난해 1분기에 견줘 40% 급증했다. 핵심 계열사인 대구은행...</td>\n",
       "    </tr>\n",
       "    <tr>\n",
       "      <th>3</th>\n",
       "      <td>2021-05-01</td>\n",
       "      <td>2021</td>\n",
       "      <td>5</td>\n",
       "      <td>1</td>\n",
       "      <td>DGB대구銀, 코로나 대응 관련 ‘유공 행정안전부 장관표창’</td>\n",
       "      <td>더퍼블릭</td>\n",
       "      <td>DGB대구은행(이하 대구은행)은 코로나19 재난 방역 적극 참여 및 지역사회 지원활...</td>\n",
       "    </tr>\n",
       "    <tr>\n",
       "      <th>4</th>\n",
       "      <td>2021-05-01</td>\n",
       "      <td>2021</td>\n",
       "      <td>5</td>\n",
       "      <td>1</td>\n",
       "      <td>대구은행, 방역취약계층 어르신 대상 KF94 마스크 전달</td>\n",
       "      <td>일요신문</td>\n",
       "      <td>- DGB대구은행, 어버이날 맞아 효(孝) 마스크 지원 DGB대구은행(은행장 임성훈...</td>\n",
       "    </tr>\n",
       "  </tbody>\n",
       "</table>\n",
       "</div>"
      ],
      "text/plain": [
       "        date  year  month  day                              title    press  \\\n",
       "0 2021-05-01  2021      5    1           DGB대구은행, 은행권 중금리대출 실적 1위  글로벌이코노믹   \n",
       "1 2021-05-01  2021      5    1       DGB대구은행, 어버이날 맞이 효(孝) 마스크 지원     경북신문   \n",
       "2 2021-05-01  2021      5    1       은행·비은행 동반성장…지방금융지주 1분기 '好好好'     미디어펜   \n",
       "3 2021-05-01  2021      5    1  DGB대구銀, 코로나 대응 관련 ‘유공 행정안전부 장관표창’     더퍼블릭   \n",
       "4 2021-05-01  2021      5    1    대구은행, 방역취약계층 어르신 대상 KF94 마스크 전달     일요신문   \n",
       "\n",
       "                                            contents  \n",
       "0  DGB대구은행의 중금리대출 실적이 지방은행뿐만 아니라 은행권 전체에서 가장 많은 것...  \n",
       "1  DGB대구은행(은행장 임성훈)은 다가오는 어버이날을 맞아 지역 내 방역취약계층 어르...  \n",
       "2  DGB금융의 순이익은 지난해 1분기에 견줘 40% 급증했다. 핵심 계열사인 대구은행...  \n",
       "3  DGB대구은행(이하 대구은행)은 코로나19 재난 방역 적극 참여 및 지역사회 지원활...  \n",
       "4  - DGB대구은행, 어버이날 맞아 효(孝) 마스크 지원 DGB대구은행(은행장 임성훈...  "
      ]
     },
     "execution_count": 496,
     "metadata": {},
     "output_type": "execute_result"
    }
   ],
   "source": [
    "df_news.head()"
   ]
  },
  {
   "cell_type": "code",
   "execution_count": 497,
   "id": "dc7fa0a2",
   "metadata": {
    "ExecuteTime": {
     "end_time": "2022-05-20T06:31:05.710025Z",
     "start_time": "2022-05-20T06:31:05.227317Z"
    }
   },
   "outputs": [
    {
     "data": {
      "image/png": "[encoded data removed]",
      "text/plain": [
       "<Figure size 1152x864 with 4 Axes>"
      ]
     },
     "metadata": {
      "needs_background": "light"
     },
     "output_type": "display_data"
    }
   ],
   "source": [
    "df_news.hist(figsize = (16, 12))\n",
    "plt.show()"
   ]
  },
  {
   "cell_type": "code",
   "execution_count": 498,
   "id": "396f3d8d",
   "metadata": {
    "ExecuteTime": {
     "end_time": "2022-05-20T06:31:05.724986Z",
     "start_time": "2022-05-20T06:31:05.711024Z"
    }
   },
   "outputs": [
    {
     "name": "stdout",
     "output_type": "stream",
     "text": [
      "2021.05 ~ : ['21.05', '21.06', '21.07', '21.08', '21.09', '21.10', '21.11', '21.12', '22.01', '22.02', '22.03', '22.04']\n",
      "2021.05 ~ : [670, 798, 955, 944, 690, 760, 516, 978, 569, 588, 738, 742]\n"
     ]
    }
   ],
   "source": [
    "# 2021년도부터 시작\n",
    "def next_date_get(x):\n",
    "    year = 21\n",
    "    for i in range(len(x)):\n",
    "        if (x[i] % 12) != 0:\n",
    "            if x[i] < 10:\n",
    "                x.insert(i, '{}.0'.format(str(year)) + str(x.pop(i)))\n",
    "            else:\n",
    "                x.insert(i, '{}.'.format(str(year)) + str(x.pop(i)))\n",
    "        else:\n",
    "            x.insert(i, '{}.'.format(str(year)) + str(x.pop(i))) # 12월까지 카운트\n",
    "            year += 1 # 다음년도\n",
    "    return x\n",
    "\n",
    "# 월별로 정렬이 되어 있으므로 21 ~ 22년도 사이 지정 해주어야 함.\n",
    "x = next_date_get(df_news_copy['month'].unique().tolist()) \n",
    "\n",
    "tmp_a, tmp_b = df_news_copy.groupby('month')['date'].count().tolist()[4:], df_news_copy.groupby('month')['date'].count().tolist()[:4]\n",
    "y = tmp_a + tmp_b\n",
    "\n",
    "print('2021.05 ~ :', x) # 월\n",
    "print('2021.05 ~ :', y) # 값"
   ]
  },
  {
   "cell_type": "code",
   "execution_count": 499,
   "id": "d9bb2791",
   "metadata": {
    "ExecuteTime": {
     "end_time": "2022-05-20T06:31:06.055102Z",
     "start_time": "2022-05-20T06:31:05.725984Z"
    }
   },
   "outputs": [
    {
     "data": {
      "image/png": "[encoded data removed]",
      "text/plain": [
       "<Figure size 1152x576 with 1 Axes>"
      ]
     },
     "metadata": {
      "needs_background": "light"
     },
     "output_type": "display_data"
    }
   ],
   "source": [
    "plt.figure(figsize = (16, 8))\n",
    "\n",
    "for i, v in enumerate(x):\n",
    "    plt.text(v, y[i], y[i],                 # 좌표 (x축 = v, y축 = y[0]..y[1], 표시 = y[0]..y[1])\n",
    "             fontsize = 15, \n",
    "             color='green',\n",
    "             horizontalalignment='center',  # horizontalalignment (left, center, right)\n",
    "             verticalalignment='bottom')    # verticalalignment (top, center, bottom)\n",
    "\n",
    "plt.title('월별 뉴스 기사', size = 25)\n",
    "plt.bar(x, y, width=0.5, color='pink')\n",
    "plt.xlabel('월별', size = 20, labelpad=20) # x축 제목 설정\n",
    "plt.ylabel('갯수', size = 20, labelpad=20) #y축 제목 설정, 빨간 글씨\n",
    "plt.show()"
   ]
  },
  {
   "cell_type": "markdown",
   "id": "5f5f561b",
   "metadata": {},
   "source": [
    "## 언론사별 기사 갯수\n",
    "- 언론사별 범주형 데이터 --> 수치형으로 변환"
   ]
  },
  {
   "cell_type": "code",
   "execution_count": 500,
   "id": "2c5c3a01",
   "metadata": {
    "ExecuteTime": {
     "end_time": "2022-05-20T06:31:06.070062Z",
     "start_time": "2022-05-20T06:31:06.056099Z"
    },
    "scrolled": false
   },
   "outputs": [
    {
     "data": {
      "text/html": [
       "<div>\n",
       "<style scoped>\n",
       "    .dataframe tbody tr th:only-of-type {\n",
       "        vertical-align: middle;\n",
       "    }\n",
       "\n",
       "    .dataframe tbody tr th {\n",
       "        vertical-align: top;\n",
       "    }\n",
       "\n",
       "    .dataframe thead th {\n",
       "        text-align: right;\n",
       "    }\n",
       "</style>\n",
       "<table border=\"1\" class=\"dataframe\">\n",
       "  <thead>\n",
       "    <tr style=\"text-align: right;\">\n",
       "      <th></th>\n",
       "      <th>date</th>\n",
       "      <th>year</th>\n",
       "      <th>month</th>\n",
       "      <th>day</th>\n",
       "      <th>title</th>\n",
       "      <th>press</th>\n",
       "      <th>contents</th>\n",
       "    </tr>\n",
       "  </thead>\n",
       "  <tbody>\n",
       "    <tr>\n",
       "      <th>0</th>\n",
       "      <td>2021-05-01</td>\n",
       "      <td>2021</td>\n",
       "      <td>5</td>\n",
       "      <td>1</td>\n",
       "      <td>DGB대구은행, 은행권 중금리대출 실적 1위</td>\n",
       "      <td>글로벌이코노믹</td>\n",
       "      <td>DGB대구은행의 중금리대출 실적이 지방은행뿐만 아니라 은행권 전체에서 가장 많은 것...</td>\n",
       "    </tr>\n",
       "  </tbody>\n",
       "</table>\n",
       "</div>"
      ],
      "text/plain": [
       "        date  year  month  day                     title    press  \\\n",
       "0 2021-05-01  2021      5    1  DGB대구은행, 은행권 중금리대출 실적 1위  글로벌이코노믹   \n",
       "\n",
       "                                            contents  \n",
       "0  DGB대구은행의 중금리대출 실적이 지방은행뿐만 아니라 은행권 전체에서 가장 많은 것...  "
      ]
     },
     "execution_count": 500,
     "metadata": {},
     "output_type": "execute_result"
    }
   ],
   "source": [
    "df_news.head(1)"
   ]
  },
  {
   "cell_type": "code",
   "execution_count": 501,
   "id": "3b98bb0b",
   "metadata": {
    "ExecuteTime": {
     "end_time": "2022-05-20T06:31:06.085023Z",
     "start_time": "2022-05-20T06:31:06.071059Z"
    }
   },
   "outputs": [
    {
     "data": {
      "text/plain": [
       "array(['글로벌이코노믹', '경북신문', '미디어펜', '더퍼블릭', '일요신문'], dtype=object)"
      ]
     },
     "execution_count": 501,
     "metadata": {},
     "output_type": "execute_result"
    }
   ],
   "source": [
    "len(df_news['press'].unique())\n",
    "df_news['press'].unique()[:5]"
   ]
  },
  {
   "cell_type": "code",
   "execution_count": 502,
   "id": "a5e7883c",
   "metadata": {
    "ExecuteTime": {
     "end_time": "2022-05-20T06:31:06.099982Z",
     "start_time": "2022-05-20T06:31:06.086021Z"
    }
   },
   "outputs": [],
   "source": [
    "df_news_copy['press'].unique()\n",
    "x = df_news_copy['press'].value_counts().index.tolist()\n",
    "y = df_news_copy['press'].value_counts().values.tolist()"
   ]
  },
  {
   "cell_type": "code",
   "execution_count": 503,
   "id": "53bb94e5",
   "metadata": {
    "ExecuteTime": {
     "end_time": "2022-05-20T06:31:06.189742Z",
     "start_time": "2022-05-20T06:31:06.184756Z"
    }
   },
   "outputs": [],
   "source": [
    "# 기사 갯수가 85 이상인 것만\n",
    "limit = 0\n",
    "for idx, value  in enumerate(y):\n",
    "    if value < 85:\n",
    "        limit = idx\n",
    "        break\n",
    "\n",
    "x = x[:limit]\n",
    "y = y[:limit]"
   ]
  },
  {
   "cell_type": "code",
   "execution_count": 504,
   "id": "5d6a30e8",
   "metadata": {
    "ExecuteTime": {
     "end_time": "2022-05-20T06:31:06.339342Z",
     "start_time": "2022-05-20T06:31:06.320393Z"
    }
   },
   "outputs": [
    {
     "data": {
      "text/plain": [
       "내외경제tv        56\n",
       "팍스경제TV        55\n",
       "이뉴스투데이        55\n",
       "더퍼블릭          54\n",
       "노컷뉴스          53\n",
       "              ..\n",
       "중앙일보언론사 선정     1\n",
       "넥스트데일리         1\n",
       "대전일보           1\n",
       "국민일보언론사 선정     1\n",
       "뉴스1언론사 선정      1\n",
       "Name: press, Length: 261, dtype: int64"
      ]
     },
     "execution_count": 504,
     "metadata": {},
     "output_type": "execute_result"
    }
   ],
   "source": [
    "df_news_copy['press'].value_counts()[50:]"
   ]
  },
  {
   "cell_type": "code",
   "execution_count": 505,
   "id": "e27b4c24",
   "metadata": {
    "ExecuteTime": {
     "end_time": "2022-05-20T06:31:07.761642Z",
     "start_time": "2022-05-20T06:31:07.024616Z"
    },
    "scrolled": true
   },
   "outputs": [
    {
     "data": {
      "image/png": "[encoded data removed]",
      "text/plain": [
       "<Figure size 3312x864 with 1 Axes>"
      ]
     },
     "metadata": {
      "needs_background": "light"
     },
     "output_type": "display_data"
    }
   ],
   "source": [
    "plt.figure(figsize = (46, 12))\n",
    "\n",
    "for i, v in enumerate(x):\n",
    "    plt.text(v, y[i], y[i],                 # 좌표 (x축 = v, y축 = y[0]..y[1], 표시 = y[0]..y[1])\n",
    "             fontsize = 15, \n",
    "             color='green',\n",
    "             horizontalalignment='center',  # horizontalalignment (left, center, right)\n",
    "             verticalalignment='bottom')    # verticalalignment (top, center, bottom)\n",
    "\n",
    "plt.title('언론사별 기사 개수', fontsize = 20)\n",
    "plt.bar(x, y, width=0.5, color = 'pink')\n",
    "plt.xticks(rotation = -45)\n",
    "plt.xlabel('count', fontsize=20)\n",
    "plt.ylabel('press', fontsize=20)\n",
    "plt.show()"
   ]
  },
  {
   "cell_type": "markdown",
   "id": "cb4a0dc6",
   "metadata": {},
   "source": [
    "# 해야할 것들\n",
    "- 이슈분석지표 워드 클라우드는 이제 단어별 갯수 구한 후 표 그리면 완성\n",
    "- 감정분석 \n",
    "<br><br>\n",
    "- 1. 현재 사용중인 CSV파일이 아닌 1년치 데이터를 스크래핑\n",
    "<br><br>\n",
    "- 2. 스크래핑한 데이터의 갯수가 50000개의 데이터라면 / Train_set : 70% Test_set : 30%로 분할 (랜덤모듈이용)<br>\n",
    "※ 단, Test_set 분할시 2.5%로 12개월분할하면 제일 좋음 ( 매달마다 2.5%의 Test_set를 뽑아와서 총 30%로 만듬.) 1~12월 골고루 뽑아올 수 있음.\n",
    "<br><br>\n",
    "- 3. Train_set에 Labeling을 해주어야 함. (긍정 1, 부정 -1, 중립 0)\n",
    "<br>\n",
    "※ Labeling 할 때 어떤식으로 정답을 부여할지 생각해야 됨.\n",
    "<br>\n",
    "<br>\n",
    "- 4. 코로나 이전 1년치랑 이후 1년치 데이터 비교\n",
    "<br>\n",
    "1. 긍정 부정 단어사전 구축 후 레이블링 작업 진행\n"
   ]
  }
 ],
 "metadata": {
  "kernelspec": {
   "display_name": "Proj",
   "language": "python",
   "name": "intern_project"
  },
  "language_info": {
   "codemirror_mode": {
    "name": "ipython",
    "version": 3
   },
   "file_extension": ".py",
   "mimetype": "text/x-python",
   "name": "python",
   "nbconvert_exporter": "python",
   "pygments_lexer": "ipython3",
   "version": "3.6.13"
  },
  "toc": {
   "base_numbering": 1,
   "nav_menu": {},
   "number_sections": true,
   "sideBar": true,
   "skip_h1_title": false,
   "title_cell": "Table of Contents",
   "title_sidebar": "Contents",
   "toc_cell": false,
   "toc_position": {
    "height": "691.804px",
    "left": "46.9943px",
    "top": "111.051px",
    "width": "240px"
   },
   "toc_section_display": true,
   "toc_window_display": true
  }
 },
 "nbformat": 4,
 "nbformat_minor": 5
}
