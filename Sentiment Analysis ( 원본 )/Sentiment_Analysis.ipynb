{
 "cells": [
  {
   "cell_type": "markdown",
   "id": "9cff7e3a",
   "metadata": {},
   "source": [
    "\n",
    "**참고자료**\n",
    "<br>\n",
    "<br>\n",
    " * https://somjang.tistory.com/entry/Keras%EA%B8%B0%EC%82%AC-%EC%A0%9C%EB%AA%A9%EC%9D%84-%EA%B0%80%EC%A7%80%EA%B3%A0-%EA%B8%8D%EC%A0%95-%EB%B6%80%EC%A0%95-%EC%A4%91%EB%A6%BD-%EB%B6%84%EB%A5%98%ED%95%98%EB%8A%94-%EB%AA%A8%EB%8D%B8-%EB%A7%8C%EB%93%A4%EC%96%B4%EB%B3%B4%EA%B8%B0\n",
    "<br>\n",
    "<br>\n",
    " * https://sig413.tistory.com/5\n",
    "<br>\n",
    "<br>\n",
    " * https://www.youtube.com/watch?v=7GUoDHxN5NM"
   ]
  },
  {
   "cell_type": "markdown",
   "id": "746e088d",
   "metadata": {},
   "source": [
    "# 네이버 기사 감정 분석\n",
    "\n",
    "## 데이터 불러오기\n",
    "<br>\n",
    "\n",
    "**데이터 특성 정의( 각각의 데이터가 어떤 특성을 가지는지? )**\n",
    "\n",
    "    ▶ date : 등록된 기사별 날짜\n",
    "    ▶ title : 기사 제목\n",
    "    ▶ source : 언론사\n",
    "    ▶ contents : 기사 내용 요약본\n",
    "    ▶ link : 사이트 주소\n",
    "\n",
    "※ : 네이버 뉴스 기준으로 Test... ( 구글 뉴스데이터와 병합해서 전처리 실시 예정 )"
   ]
  },
  {
   "cell_type": "code",
   "execution_count": 1,
   "id": "a2be10e9",
   "metadata": {
    "ExecuteTime": {
     "end_time": "2022-05-19T08:10:46.955938Z",
     "start_time": "2022-05-19T08:10:45.249856Z"
    },
    "scrolled": true
   },
   "outputs": [],
   "source": [
    "import pandas as pd\n",
    "import numpy as np\n",
    "import matplotlib\n",
    "import datetime, time\n",
    "import re\n",
    "import timedelta\n",
    "import matplotlib.pyplot as plt\n",
    "import seaborn as sns"
   ]
  },
  {
   "cell_type": "code",
   "execution_count": 2,
   "id": "f441fef5",
   "metadata": {
    "ExecuteTime": {
     "end_time": "2022-05-19T08:10:46.970786Z",
     "start_time": "2022-05-19T08:10:46.956936Z"
    }
   },
   "outputs": [],
   "source": [
    "# 시각화 글자 깨짐 방지\n",
    "import os\n",
    "\n",
    "if os.name == 'posix':\n",
    "    plt.rc(\"font\", family=\"AppleGothic\")\n",
    "else:\n",
    "    plt.rc(\"font\", family=\"Malgun Gothic\")"
   ]
  },
  {
   "cell_type": "code",
   "execution_count": 3,
   "id": "f4ffc5a8",
   "metadata": {
    "ExecuteTime": {
     "end_time": "2022-05-19T08:10:47.105431Z",
     "start_time": "2022-05-19T08:10:46.972781Z"
    }
   },
   "outputs": [
    {
     "name": "stdout",
     "output_type": "stream",
     "text": [
      "(12867, 12)\n"
     ]
    },
    {
     "data": {
      "text/html": [
       "<div>\n",
       "<style scoped>\n",
       "    .dataframe tbody tr th:only-of-type {\n",
       "        vertical-align: middle;\n",
       "    }\n",
       "\n",
       "    .dataframe tbody tr th {\n",
       "        vertical-align: top;\n",
       "    }\n",
       "\n",
       "    .dataframe thead th {\n",
       "        text-align: right;\n",
       "    }\n",
       "</style>\n",
       "<table border=\"1\" class=\"dataframe\">\n",
       "  <thead>\n",
       "    <tr style=\"text-align: right;\">\n",
       "      <th></th>\n",
       "      <th>Unnamed: 0</th>\n",
       "      <th>date</th>\n",
       "      <th>title</th>\n",
       "      <th>source</th>\n",
       "      <th>contents</th>\n",
       "      <th>link</th>\n",
       "      <th>Unnamed: 6</th>\n",
       "      <th>Unnamed: 7</th>\n",
       "      <th>Unnamed: 8</th>\n",
       "      <th>Unnamed: 9</th>\n",
       "      <th>Unnamed: 10</th>\n",
       "      <th>Unnamed: 11</th>\n",
       "    </tr>\n",
       "  </thead>\n",
       "  <tbody>\n",
       "    <tr>\n",
       "      <th>0</th>\n",
       "      <td>0</td>\n",
       "      <td>2021.05.01.</td>\n",
       "      <td>DGB대구은행, 은행권 중금리대출 실적 1위</td>\n",
       "      <td>글로벌이코노믹</td>\n",
       "      <td>DGB대구은행의 중금리대출 실적이 지방은행뿐만 아니라 은행권 전체에서 가장 많은 것...</td>\n",
       "      <td>http://www.g-enews.com/ko-kr/news/article/news...</td>\n",
       "      <td>NaN</td>\n",
       "      <td>NaN</td>\n",
       "      <td>NaN</td>\n",
       "      <td>NaN</td>\n",
       "      <td>NaN</td>\n",
       "      <td>NaN</td>\n",
       "    </tr>\n",
       "  </tbody>\n",
       "</table>\n",
       "</div>"
      ],
      "text/plain": [
       "   Unnamed: 0         date                     title   source  \\\n",
       "0           0  2021.05.01.  DGB대구은행, 은행권 중금리대출 실적 1위  글로벌이코노믹   \n",
       "\n",
       "                                            contents  \\\n",
       "0  DGB대구은행의 중금리대출 실적이 지방은행뿐만 아니라 은행권 전체에서 가장 많은 것...   \n",
       "\n",
       "                                                link Unnamed: 6 Unnamed: 7  \\\n",
       "0  http://www.g-enews.com/ko-kr/news/article/news...        NaN        NaN   \n",
       "\n",
       "  Unnamed: 8 Unnamed: 9 Unnamed: 10 Unnamed: 11  \n",
       "0        NaN        NaN         NaN         NaN  "
      ]
     },
     "execution_count": 3,
     "metadata": {},
     "output_type": "execute_result"
    }
   ],
   "source": [
    "matplotlib.rc('font',family='NanumGothic')\n",
    "\n",
    "# 한글 폰트 적용\n",
    "matplotlib.rc('axes', unicode_minus = False) # True\n",
    "\n",
    "# 2022 / 04 / 21 일자 스크래핑 데이터\n",
    "# df_news = pd.read_csv('./news_data.csv', engine= 'python',encoding = 'utf-8')\n",
    "df_news = pd.read_csv('./news_data(Raw_Data 2021.05.01 ~ 2022.05.01 검색어-DGB대구은행).csv', engine= 'python',encoding = 'utf-8')\n",
    "\n",
    "# (행, 열)\n",
    "print(df_news.shape)\n",
    "df_news.head(1)"
   ]
  },
  {
   "cell_type": "code",
   "execution_count": 4,
   "id": "eb89b858",
   "metadata": {
    "ExecuteTime": {
     "end_time": "2022-05-19T08:10:47.135346Z",
     "start_time": "2022-05-19T08:10:47.107421Z"
    },
    "scrolled": true
   },
   "outputs": [
    {
     "name": "stdout",
     "output_type": "stream",
     "text": [
      "<class 'pandas.core.frame.DataFrame'>\n",
      "RangeIndex: 12867 entries, 0 to 12866\n",
      "Data columns (total 12 columns):\n",
      " #   Column       Non-Null Count  Dtype \n",
      "---  ------       --------------  ----- \n",
      " 0   Unnamed: 0   12867 non-null  int64 \n",
      " 1   date         12867 non-null  object\n",
      " 2   title        12867 non-null  object\n",
      " 3   source       12867 non-null  object\n",
      " 4   contents     12864 non-null  object\n",
      " 5   link         12867 non-null  object\n",
      " 6   Unnamed: 6   108 non-null    object\n",
      " 7   Unnamed: 7   65 non-null     object\n",
      " 8   Unnamed: 8   14 non-null     object\n",
      " 9   Unnamed: 9   14 non-null     object\n",
      " 10  Unnamed: 10  6 non-null      object\n",
      " 11  Unnamed: 11  5 non-null      object\n",
      "dtypes: int64(1), object(11)\n",
      "memory usage: 1.2+ MB\n"
     ]
    }
   ],
   "source": [
    "# 데이터 구조 파악시 용이\n",
    "df_news.info()"
   ]
  },
  {
   "cell_type": "markdown",
   "id": "88a27fb0",
   "metadata": {},
   "source": [
    "# 데이터 전처리"
   ]
  },
  {
   "cell_type": "markdown",
   "id": "580d9198",
   "metadata": {},
   "source": [
    "## 이상치와 결측치 제거 / 데이터 특성(구조) 확인\n",
    "    ▶ 필요없는 컬럼 제거\n",
    "    ▶ 컬럼명과 순서 변경 \n",
    "    ▶ 데이터 구조 파악 - info, head\n",
    "    \n",
    "    ▶ 우선 'DGB대구은행'과 필요없는 언론사는 버리고 인덱스번호도 초기화 시켜야 함.\n",
    "    예를 들면, 축구관련 기사\n",
    "\n",
    "    제목과 요약본 기준\n",
    "    '감독' / '신태용' / 'DGB대구은행파크' / '대표팀' / '경기' / '스포츠' / '축구'\n",
    "    참고 사이트 : https://jimmy-ai.tistory.com/92\n",
    "※ : 수치별 데이터가 아니므로 이상치는 굳이 확인할 필요가 없다고 판단"
   ]
  },
  {
   "cell_type": "code",
   "execution_count": 5,
   "id": "9372f5e9",
   "metadata": {
    "ExecuteTime": {
     "end_time": "2022-05-19T08:10:47.150305Z",
     "start_time": "2022-05-19T08:10:47.136343Z"
    }
   },
   "outputs": [],
   "source": [
    "# 필요한 데이터만 추출 / 컬럼명 변경\n",
    "df_news = df_news.loc[:,['date', 'title', 'source', 'contents']]\n",
    "df_news.rename(columns={'source' : 'press'}, inplace=True)"
   ]
  },
  {
   "cell_type": "code",
   "execution_count": 6,
   "id": "0f4202a2",
   "metadata": {
    "ExecuteTime": {
     "end_time": "2022-05-19T08:10:47.165266Z",
     "start_time": "2022-05-19T08:10:47.151303Z"
    }
   },
   "outputs": [
    {
     "name": "stdout",
     "output_type": "stream",
     "text": [
      "<class 'pandas.core.frame.DataFrame'>\n",
      "RangeIndex: 12867 entries, 0 to 12866\n",
      "Data columns (total 4 columns):\n",
      " #   Column    Non-Null Count  Dtype \n",
      "---  ------    --------------  ----- \n",
      " 0   date      12867 non-null  object\n",
      " 1   title     12867 non-null  object\n",
      " 2   press     12867 non-null  object\n",
      " 3   contents  12864 non-null  object\n",
      "dtypes: object(4)\n",
      "memory usage: 402.2+ KB\n"
     ]
    }
   ],
   "source": [
    "df_news.info()"
   ]
  },
  {
   "cell_type": "code",
   "execution_count": 7,
   "id": "92d67a0c",
   "metadata": {
    "ExecuteTime": {
     "end_time": "2022-05-19T08:10:47.180226Z",
     "start_time": "2022-05-19T08:10:47.166263Z"
    },
    "scrolled": true
   },
   "outputs": [
    {
     "data": {
      "text/html": [
       "<div>\n",
       "<style scoped>\n",
       "    .dataframe tbody tr th:only-of-type {\n",
       "        vertical-align: middle;\n",
       "    }\n",
       "\n",
       "    .dataframe tbody tr th {\n",
       "        vertical-align: top;\n",
       "    }\n",
       "\n",
       "    .dataframe thead th {\n",
       "        text-align: right;\n",
       "    }\n",
       "</style>\n",
       "<table border=\"1\" class=\"dataframe\">\n",
       "  <thead>\n",
       "    <tr style=\"text-align: right;\">\n",
       "      <th></th>\n",
       "      <th>date</th>\n",
       "      <th>title</th>\n",
       "      <th>press</th>\n",
       "      <th>contents</th>\n",
       "    </tr>\n",
       "  </thead>\n",
       "  <tbody>\n",
       "    <tr>\n",
       "      <th>0</th>\n",
       "      <td>2021.05.01.</td>\n",
       "      <td>DGB대구은행, 은행권 중금리대출 실적 1위</td>\n",
       "      <td>글로벌이코노믹</td>\n",
       "      <td>DGB대구은행의 중금리대출 실적이 지방은행뿐만 아니라 은행권 전체에서 가장 많은 것...</td>\n",
       "    </tr>\n",
       "  </tbody>\n",
       "</table>\n",
       "</div>"
      ],
      "text/plain": [
       "          date                     title    press  \\\n",
       "0  2021.05.01.  DGB대구은행, 은행권 중금리대출 실적 1위  글로벌이코노믹   \n",
       "\n",
       "                                            contents  \n",
       "0  DGB대구은행의 중금리대출 실적이 지방은행뿐만 아니라 은행권 전체에서 가장 많은 것...  "
      ]
     },
     "execution_count": 7,
     "metadata": {},
     "output_type": "execute_result"
    }
   ],
   "source": [
    "df_news.head(1)"
   ]
  },
  {
   "cell_type": "code",
   "execution_count": 8,
   "id": "c9c9c087",
   "metadata": {
    "ExecuteTime": {
     "end_time": "2022-05-19T08:10:47.195186Z",
     "start_time": "2022-05-19T08:10:47.182220Z"
    }
   },
   "outputs": [
    {
     "data": {
      "text/plain": [
       "date        0\n",
       "title       0\n",
       "press       0\n",
       "contents    3\n",
       "dtype: int64"
      ]
     },
     "execution_count": 8,
     "metadata": {},
     "output_type": "execute_result"
    }
   ],
   "source": [
    "# 행별로 null값 존재 유무 파악 --> 결측치 contents쪽에 3개 존재.\n",
    "df_news.isnull().sum(axis = 0)"
   ]
  },
  {
   "cell_type": "code",
   "execution_count": 9,
   "id": "12ba1ef7",
   "metadata": {
    "ExecuteTime": {
     "end_time": "2022-05-19T08:10:47.225106Z",
     "start_time": "2022-05-19T08:10:47.196183Z"
    }
   },
   "outputs": [
    {
     "data": {
      "text/html": [
       "<div>\n",
       "<style scoped>\n",
       "    .dataframe tbody tr th:only-of-type {\n",
       "        vertical-align: middle;\n",
       "    }\n",
       "\n",
       "    .dataframe tbody tr th {\n",
       "        vertical-align: top;\n",
       "    }\n",
       "\n",
       "    .dataframe thead th {\n",
       "        text-align: right;\n",
       "    }\n",
       "</style>\n",
       "<table border=\"1\" class=\"dataframe\">\n",
       "  <thead>\n",
       "    <tr style=\"text-align: right;\">\n",
       "      <th></th>\n",
       "      <th>date</th>\n",
       "      <th>title</th>\n",
       "      <th>press</th>\n",
       "      <th>contents</th>\n",
       "    </tr>\n",
       "  </thead>\n",
       "  <tbody>\n",
       "    <tr>\n",
       "      <th>3217</th>\n",
       "      <td>2021.08.04.</td>\n",
       "      <td>검찰 '캄보디아 부동산 계약 사고' 관련 대구은행 압수수색</td>\n",
       "      <td>뉴스1</td>\n",
       "      <td>오류:509</td>\n",
       "    </tr>\n",
       "    <tr>\n",
       "      <th>3218</th>\n",
       "      <td>2021.08.04.</td>\n",
       "      <td>검찰 '캄보디아 부동산 계약 사고' 관련 대구은행 압수수색</td>\n",
       "      <td>뉴스1</td>\n",
       "      <td>오류:509</td>\n",
       "    </tr>\n",
       "    <tr>\n",
       "      <th>3219</th>\n",
       "      <td>2021.08.04.</td>\n",
       "      <td>검찰 '캄보디아 부동산 계약 사고' 관련 대구은행 압수수색</td>\n",
       "      <td>뉴스1</td>\n",
       "      <td>오류:509</td>\n",
       "    </tr>\n",
       "    <tr>\n",
       "      <th>3226</th>\n",
       "      <td>2021.08.04.</td>\n",
       "      <td>검찰, 대구은행 압수수색..캄보디아 부동산 매입 손실 사건</td>\n",
       "      <td>뉴스1</td>\n",
       "      <td>오류:509</td>\n",
       "    </tr>\n",
       "    <tr>\n",
       "      <th>3227</th>\n",
       "      <td>2021.08.04.</td>\n",
       "      <td>검찰, 대구은행 압수수색..캄보디아 부동산 매입 손실 사건</td>\n",
       "      <td>뉴스1</td>\n",
       "      <td>오류:509</td>\n",
       "    </tr>\n",
       "  </tbody>\n",
       "</table>\n",
       "</div>"
      ],
      "text/plain": [
       "             date                             title press contents\n",
       "3217  2021.08.04.  검찰 '캄보디아 부동산 계약 사고' 관련 대구은행 압수수색   뉴스1   오류:509\n",
       "3218  2021.08.04.  검찰 '캄보디아 부동산 계약 사고' 관련 대구은행 압수수색   뉴스1   오류:509\n",
       "3219  2021.08.04.  검찰 '캄보디아 부동산 계약 사고' 관련 대구은행 압수수색   뉴스1   오류:509\n",
       "3226  2021.08.04.  검찰, 대구은행 압수수색..캄보디아 부동산 매입 손실 사건   뉴스1   오류:509\n",
       "3227  2021.08.04.  검찰, 대구은행 압수수색..캄보디아 부동산 매입 손실 사건   뉴스1   오류:509"
      ]
     },
     "execution_count": 9,
     "metadata": {},
     "output_type": "execute_result"
    }
   ],
   "source": [
    "df_news[df_news['contents'].str.contains('오류', na=False)][:5]"
   ]
  },
  {
   "cell_type": "code",
   "execution_count": 10,
   "id": "80cd9a9f",
   "metadata": {
    "ExecuteTime": {
     "end_time": "2022-05-19T08:10:47.314865Z",
     "start_time": "2022-05-19T08:10:47.227099Z"
    }
   },
   "outputs": [
    {
     "name": "stdout",
     "output_type": "stream",
     "text": [
      "이상치 제거 전: 51\n",
      "이상치 제거 후: 0\n"
     ]
    }
   ],
   "source": [
    "# 불필요한 내용 삭제 / contents의 길이가 20이하 또는 title의 길이가 10 이하인 데이터\n",
    "df_news.head()\n",
    "\n",
    "# 51개 스크래핑 오류\n",
    "\n",
    "print('이상치 제거 전:',len(df_news[df_news['contents'].str.contains('오류', na=False)]))\n",
    "\n",
    "for i in df_news[df_news['contents'].str.contains('오류', na=False)].index:\n",
    "    df_news.drop(i, axis=0, inplace=True)\n",
    "    \n",
    "print('이상치 제거 후:',len(df_news[df_news['contents'].str.contains('오류', na=False)]))"
   ]
  },
  {
   "cell_type": "code",
   "execution_count": 11,
   "id": "9020b119",
   "metadata": {
    "ExecuteTime": {
     "end_time": "2022-05-19T08:10:47.329825Z",
     "start_time": "2022-05-19T08:10:47.315862Z"
    }
   },
   "outputs": [
    {
     "data": {
      "text/html": [
       "<div>\n",
       "<style scoped>\n",
       "    .dataframe tbody tr th:only-of-type {\n",
       "        vertical-align: middle;\n",
       "    }\n",
       "\n",
       "    .dataframe tbody tr th {\n",
       "        vertical-align: top;\n",
       "    }\n",
       "\n",
       "    .dataframe thead th {\n",
       "        text-align: right;\n",
       "    }\n",
       "</style>\n",
       "<table border=\"1\" class=\"dataframe\">\n",
       "  <thead>\n",
       "    <tr style=\"text-align: right;\">\n",
       "      <th></th>\n",
       "      <th>date</th>\n",
       "      <th>title</th>\n",
       "      <th>press</th>\n",
       "      <th>contents</th>\n",
       "    </tr>\n",
       "  </thead>\n",
       "  <tbody>\n",
       "    <tr>\n",
       "      <th>0</th>\n",
       "      <td>2021.05.01.</td>\n",
       "      <td>DGB대구은행, 은행권 중금리대출 실적 1위</td>\n",
       "      <td>글로벌이코노믹</td>\n",
       "      <td>DGB대구은행의 중금리대출 실적이 지방은행뿐만 아니라 은행권 전체에서 가장 많은 것...</td>\n",
       "    </tr>\n",
       "  </tbody>\n",
       "</table>\n",
       "</div>"
      ],
      "text/plain": [
       "          date                     title    press  \\\n",
       "0  2021.05.01.  DGB대구은행, 은행권 중금리대출 실적 1위  글로벌이코노믹   \n",
       "\n",
       "                                            contents  \n",
       "0  DGB대구은행의 중금리대출 실적이 지방은행뿐만 아니라 은행권 전체에서 가장 많은 것...  "
      ]
     },
     "execution_count": 11,
     "metadata": {},
     "output_type": "execute_result"
    }
   ],
   "source": [
    "df_news.head(1)"
   ]
  },
  {
   "cell_type": "code",
   "execution_count": 12,
   "id": "065f6b41",
   "metadata": {
    "ExecuteTime": {
     "end_time": "2022-05-19T08:10:47.374705Z",
     "start_time": "2022-05-19T08:10:47.330823Z"
    }
   },
   "outputs": [
    {
     "name": "stdout",
     "output_type": "stream",
     "text": [
      "(12816, 4)\n",
      "중복행 제거 전 데이터 : 12816\n",
      "중복행 갯수 : 165개\n",
      "중복행 제거 후 데이터 : 10691\n"
     ]
    }
   ],
   "source": [
    "# 중복행 제거 --> 분석하는데 안 좋을 수도 있으니 신중한 고려가 필요함.\n",
    "# 참고 : https://sy-log.tistory.com/60\n",
    "\n",
    "print(df_news.shape)\n",
    "print('중복행 제거 전 데이터 :', len(df_news))\n",
    "# 중복행 살림.\n",
    "print('중복행 갯수 : %d개' % df_news.duplicated().sum())\n",
    "print('중복행 제거 후 데이터 :', len(df_news.drop_duplicates(['title'], keep = False)))"
   ]
  },
  {
   "cell_type": "code",
   "execution_count": 13,
   "id": "7fdcac53",
   "metadata": {
    "ExecuteTime": {
     "end_time": "2022-05-19T08:10:47.389667Z",
     "start_time": "2022-05-19T08:10:47.375703Z"
    }
   },
   "outputs": [
    {
     "data": {
      "text/plain": [
       "12816"
      ]
     },
     "execution_count": 13,
     "metadata": {},
     "output_type": "execute_result"
    }
   ],
   "source": [
    "# 중복 제거 일부러 하지 않음.\n",
    "len(df_news)"
   ]
  },
  {
   "cell_type": "code",
   "execution_count": 14,
   "id": "9c0f035f",
   "metadata": {
    "ExecuteTime": {
     "end_time": "2022-05-19T08:10:47.404625Z",
     "start_time": "2022-05-19T08:10:47.390662Z"
    }
   },
   "outputs": [],
   "source": [
    "# AND용\n",
    "# target_string = ['서울', '마포']\n",
    "# df[df['주소'].map(lambda x: all(string in x for string in target_string))]\n",
    "# df_news.head()"
   ]
  },
  {
   "cell_type": "code",
   "execution_count": 15,
   "id": "c7470143",
   "metadata": {
    "ExecuteTime": {
     "end_time": "2022-05-19T08:10:47.419584Z",
     "start_time": "2022-05-19T08:10:47.405622Z"
    }
   },
   "outputs": [
    {
     "data": {
      "text/plain": [
       "12816"
      ]
     },
     "execution_count": 15,
     "metadata": {},
     "output_type": "execute_result"
    }
   ],
   "source": [
    "len(df_news)"
   ]
  },
  {
   "cell_type": "code",
   "execution_count": 16,
   "id": "487c6a6e",
   "metadata": {
    "ExecuteTime": {
     "end_time": "2022-05-19T08:10:47.464465Z",
     "start_time": "2022-05-19T08:10:47.420583Z"
    }
   },
   "outputs": [],
   "source": [
    "# df.query('주소.str.contains(\"마포|은평\")', engine='python'\n",
    "# Series 내장함수 : str.contains() \n",
    "\n",
    "# 제목\n",
    "remove_title = list(df_news.query('title.str.contains(\"부상|선수|승점|구장|리그|DGB대구은행파크|FC|감독|신태용|연승|대표팀|친선경기|스포츠|축구|세징야\", na=False)', engine = 'python').index)\n",
    "df_news.drop(remove_title, axis=0, inplace = True)\n",
    "\n",
    "# 내용 요약본\n",
    "remove_contents = list(df_news.query('contents.str.contains(\"부상|선수|승점|구장|리그|DGB대구은행파크|FC|감독|신태용|연승|대표팀|친선경기|스포츠|축구|세징야\", na=False)', engine = 'python').index)\n",
    "df_news.drop(remove_contents, axis=0, inplace = True)\n"
   ]
  },
  {
   "cell_type": "markdown",
   "id": "6416dc58",
   "metadata": {},
   "source": [
    "### 결측치 처리 contents 컬럼에 3개 존재 --> 3개의 데이터 삭제"
   ]
  },
  {
   "cell_type": "code",
   "execution_count": 17,
   "id": "32175bd6",
   "metadata": {
    "ExecuteTime": {
     "end_time": "2022-05-19T08:10:47.479425Z",
     "start_time": "2022-05-19T08:10:47.465463Z"
    },
    "scrolled": true
   },
   "outputs": [
    {
     "data": {
      "text/plain": [
       "date        9000\n",
       "title       9000\n",
       "press       9000\n",
       "contents    8997\n",
       "dtype: int64"
      ]
     },
     "execution_count": 17,
     "metadata": {},
     "output_type": "execute_result"
    }
   ],
   "source": [
    "df_news.count()"
   ]
  },
  {
   "cell_type": "code",
   "execution_count": 18,
   "id": "02e5ee9a",
   "metadata": {
    "ExecuteTime": {
     "end_time": "2022-05-19T08:10:47.494385Z",
     "start_time": "2022-05-19T08:10:47.480423Z"
    }
   },
   "outputs": [
    {
     "name": "stdout",
     "output_type": "stream",
     "text": [
      "date        0\n",
      "title       0\n",
      "press       0\n",
      "contents    3\n",
      "dtype: int64\n"
     ]
    }
   ],
   "source": [
    "print(df_news.isnull().sum())\n",
    "df_news.dropna(axis=0, inplace = True)"
   ]
  },
  {
   "cell_type": "code",
   "execution_count": 19,
   "id": "c815e1cc",
   "metadata": {
    "ExecuteTime": {
     "end_time": "2022-05-19T08:10:47.509345Z",
     "start_time": "2022-05-19T08:10:47.495382Z"
    }
   },
   "outputs": [
    {
     "data": {
      "text/plain": [
       "(8997, 4)"
      ]
     },
     "execution_count": 19,
     "metadata": {},
     "output_type": "execute_result"
    }
   ],
   "source": [
    "df_news.shape"
   ]
  },
  {
   "cell_type": "code",
   "execution_count": 20,
   "id": "cb95bb2c",
   "metadata": {
    "ExecuteTime": {
     "end_time": "2022-05-19T08:10:47.524304Z",
     "start_time": "2022-05-19T08:10:47.510342Z"
    }
   },
   "outputs": [],
   "source": [
    "# 인덱스 번호 새로 부여.\n",
    "df_news.reset_index(inplace=True)\n",
    "df_news.drop(['index'], axis=1, inplace=True)"
   ]
  },
  {
   "cell_type": "code",
   "execution_count": 21,
   "id": "654d2399",
   "metadata": {
    "ExecuteTime": {
     "end_time": "2022-05-19T08:10:47.539265Z",
     "start_time": "2022-05-19T08:10:47.525303Z"
    }
   },
   "outputs": [
    {
     "data": {
      "text/html": [
       "<div>\n",
       "<style scoped>\n",
       "    .dataframe tbody tr th:only-of-type {\n",
       "        vertical-align: middle;\n",
       "    }\n",
       "\n",
       "    .dataframe tbody tr th {\n",
       "        vertical-align: top;\n",
       "    }\n",
       "\n",
       "    .dataframe thead th {\n",
       "        text-align: right;\n",
       "    }\n",
       "</style>\n",
       "<table border=\"1\" class=\"dataframe\">\n",
       "  <thead>\n",
       "    <tr style=\"text-align: right;\">\n",
       "      <th></th>\n",
       "      <th>date</th>\n",
       "      <th>title</th>\n",
       "      <th>press</th>\n",
       "      <th>contents</th>\n",
       "    </tr>\n",
       "  </thead>\n",
       "  <tbody>\n",
       "    <tr>\n",
       "      <th>0</th>\n",
       "      <td>2021.05.01.</td>\n",
       "      <td>DGB대구은행, 은행권 중금리대출 실적 1위</td>\n",
       "      <td>글로벌이코노믹</td>\n",
       "      <td>DGB대구은행의 중금리대출 실적이 지방은행뿐만 아니라 은행권 전체에서 가장 많은 것...</td>\n",
       "    </tr>\n",
       "    <tr>\n",
       "      <th>1</th>\n",
       "      <td>2021.05.01.</td>\n",
       "      <td>DGB대구은행, 어버이날 맞이 효(孝) 마스크 지원</td>\n",
       "      <td>경북신문</td>\n",
       "      <td>DGB대구은행(은행장 임성훈)은 다가오는 어버이날을 맞아 지역 내 방역취약계층 어르...</td>\n",
       "    </tr>\n",
       "    <tr>\n",
       "      <th>2</th>\n",
       "      <td>2021.05.01.</td>\n",
       "      <td>은행·비은행 동반성장…지방금융지주 1분기 '好好好'</td>\n",
       "      <td>미디어펜</td>\n",
       "      <td>DGB금융의 순이익은 지난해 1분기에 견줘 40% 급증했다. 핵심 계열사인 대구은행...</td>\n",
       "    </tr>\n",
       "    <tr>\n",
       "      <th>3</th>\n",
       "      <td>2021.05.01.</td>\n",
       "      <td>DGB대구銀, 코로나 대응 관련 ‘유공 행정안전부 장관표창’</td>\n",
       "      <td>더퍼블릭</td>\n",
       "      <td>DGB대구은행(이하 대구은행)은 코로나19 재난 방역 적극 참여 및 지역사회 지원활...</td>\n",
       "    </tr>\n",
       "    <tr>\n",
       "      <th>4</th>\n",
       "      <td>2021.05.01.</td>\n",
       "      <td>대구은행, 방역취약계층 어르신 대상 KF94 마스크 전달</td>\n",
       "      <td>일요신문</td>\n",
       "      <td>- DGB대구은행, 어버이날 맞아 효(孝) 마스크 지원 DGB대구은행(은행장 임성훈...</td>\n",
       "    </tr>\n",
       "  </tbody>\n",
       "</table>\n",
       "</div>"
      ],
      "text/plain": [
       "          date                              title    press  \\\n",
       "0  2021.05.01.           DGB대구은행, 은행권 중금리대출 실적 1위  글로벌이코노믹   \n",
       "1  2021.05.01.       DGB대구은행, 어버이날 맞이 효(孝) 마스크 지원     경북신문   \n",
       "2  2021.05.01.       은행·비은행 동반성장…지방금융지주 1분기 '好好好'     미디어펜   \n",
       "3  2021.05.01.  DGB대구銀, 코로나 대응 관련 ‘유공 행정안전부 장관표창’     더퍼블릭   \n",
       "4  2021.05.01.    대구은행, 방역취약계층 어르신 대상 KF94 마스크 전달     일요신문   \n",
       "\n",
       "                                            contents  \n",
       "0  DGB대구은행의 중금리대출 실적이 지방은행뿐만 아니라 은행권 전체에서 가장 많은 것...  \n",
       "1  DGB대구은행(은행장 임성훈)은 다가오는 어버이날을 맞아 지역 내 방역취약계층 어르...  \n",
       "2  DGB금융의 순이익은 지난해 1분기에 견줘 40% 급증했다. 핵심 계열사인 대구은행...  \n",
       "3  DGB대구은행(이하 대구은행)은 코로나19 재난 방역 적극 참여 및 지역사회 지원활...  \n",
       "4  - DGB대구은행, 어버이날 맞아 효(孝) 마스크 지원 DGB대구은행(은행장 임성훈...  "
      ]
     },
     "execution_count": 21,
     "metadata": {},
     "output_type": "execute_result"
    }
   ],
   "source": [
    "df_news.head()"
   ]
  },
  {
   "cell_type": "code",
   "execution_count": 22,
   "id": "2d953afc",
   "metadata": {
    "ExecuteTime": {
     "end_time": "2022-05-19T08:10:47.554225Z",
     "start_time": "2022-05-19T08:10:47.540261Z"
    }
   },
   "outputs": [
    {
     "data": {
      "text/plain": [
       "date        8997\n",
       "title       8997\n",
       "press       8997\n",
       "contents    8997\n",
       "dtype: int64"
      ]
     },
     "execution_count": 22,
     "metadata": {},
     "output_type": "execute_result"
    }
   ],
   "source": [
    "df_news.count()"
   ]
  },
  {
   "cell_type": "markdown",
   "id": "96032515",
   "metadata": {},
   "source": [
    "## 날짜 데이터 정제\n",
    "    ▶ 연월일로만 표현 ( 시간 제거 )\n",
    "    ▶ 연 / 월 / 일 3개의 파생변수 생성\n",
    "    ▶ 연 / 일 보다는 월별로 각 언론사의 'DGB대구은행'에 관련된 기사가 얼마나 많은지? 파악하기 위함. --> 긍정 / 부정 개수로 이어짐."
   ]
  },
  {
   "cell_type": "code",
   "execution_count": 23,
   "id": "cc4e5544",
   "metadata": {
    "ExecuteTime": {
     "end_time": "2022-05-19T08:10:47.569185Z",
     "start_time": "2022-05-19T08:10:47.557216Z"
    }
   },
   "outputs": [
    {
     "data": {
      "text/plain": [
       "0       2021.05.01.\n",
       "1       2021.05.01.\n",
       "2       2021.05.01.\n",
       "3       2021.05.01.\n",
       "4       2021.05.01.\n",
       "           ...     \n",
       "8992           4일 전\n",
       "8993           4일 전\n",
       "8994           4일 전\n",
       "8995           4일 전\n",
       "8996           4일 전\n",
       "Name: date, Length: 8997, dtype: object"
      ]
     },
     "execution_count": 23,
     "metadata": {},
     "output_type": "execute_result"
    }
   ],
   "source": [
    "# 연도별 월별 일별로 \n",
    "df_news['date']"
   ]
  },
  {
   "cell_type": "code",
   "execution_count": 24,
   "id": "6c74f7ae",
   "metadata": {
    "ExecuteTime": {
     "end_time": "2022-05-19T08:10:47.584144Z",
     "start_time": "2022-05-19T08:10:47.571179Z"
    }
   },
   "outputs": [
    {
     "name": "stdout",
     "output_type": "stream",
     "text": [
      "2022-05-19 17:10:47.572178\n",
      "2022년 5월 18일\n",
      "2021-04-25 00:00:00\n"
     ]
    }
   ],
   "source": [
    "now = time.localtime()\n",
    "\n",
    "# 테스트 용 / 참고 - https://wikidocs.net/104836\n",
    "print(datetime.datetime.now())\n",
    "print('{}년 {}월 {}일'.format(now.tm_year, now.tm_mon, now.tm_mday-1))\n",
    "print(pd.to_datetime(df_news['date'][0]) - datetime.timedelta(days = 6))"
   ]
  },
  {
   "cell_type": "code",
   "execution_count": 25,
   "id": "0aaa96ec",
   "metadata": {
    "ExecuteTime": {
     "end_time": "2022-05-19T08:10:47.673905Z",
     "start_time": "2022-05-19T08:10:47.585142Z"
    }
   },
   "outputs": [],
   "source": [
    "# 2022-04-21 17:45 일자 데이터 자료 ( 시각은 무시 )\n",
    "scrapping_date = datetime.date(2022, 5, 6)\n",
    "\n",
    "idx_list = list()\n",
    "\n",
    "for i in range(len(df_news['date'])):\n",
    "    if '일' in df_news['date'][i]:\n",
    "        idx_list.append(i)\n",
    "    elif '시간' in df_news['date'][i]:\n",
    "        idx_list.append(i)\n",
    "# df_news['date'][i]\n",
    "# 몇 일전 / 몇 시간전 인덱스 번호"
   ]
  },
  {
   "cell_type": "code",
   "execution_count": 26,
   "id": "ddb11f8c",
   "metadata": {
    "ExecuteTime": {
     "end_time": "2022-05-19T08:10:47.688865Z",
     "start_time": "2022-05-19T08:10:47.674903Z"
    }
   },
   "outputs": [
    {
     "data": {
      "text/html": [
       "<div>\n",
       "<style scoped>\n",
       "    .dataframe tbody tr th:only-of-type {\n",
       "        vertical-align: middle;\n",
       "    }\n",
       "\n",
       "    .dataframe tbody tr th {\n",
       "        vertical-align: top;\n",
       "    }\n",
       "\n",
       "    .dataframe thead th {\n",
       "        text-align: right;\n",
       "    }\n",
       "</style>\n",
       "<table border=\"1\" class=\"dataframe\">\n",
       "  <thead>\n",
       "    <tr style=\"text-align: right;\">\n",
       "      <th></th>\n",
       "      <th>date</th>\n",
       "    </tr>\n",
       "  </thead>\n",
       "  <tbody>\n",
       "    <tr>\n",
       "      <th>8872</th>\n",
       "      <td>7일 전</td>\n",
       "    </tr>\n",
       "    <tr>\n",
       "      <th>8873</th>\n",
       "      <td>7일 전</td>\n",
       "    </tr>\n",
       "    <tr>\n",
       "      <th>8874</th>\n",
       "      <td>7일 전</td>\n",
       "    </tr>\n",
       "  </tbody>\n",
       "</table>\n",
       "</div>"
      ],
      "text/plain": [
       "      date\n",
       "8872  7일 전\n",
       "8873  7일 전\n",
       "8874  7일 전"
      ]
     },
     "execution_count": 26,
     "metadata": {},
     "output_type": "execute_result"
    }
   ],
   "source": [
    "# 확인\n",
    "df_news.loc[idx_list, ['date']][:3]"
   ]
  },
  {
   "cell_type": "code",
   "execution_count": 27,
   "id": "a380839f",
   "metadata": {
    "ExecuteTime": {
     "end_time": "2022-05-19T08:10:47.718784Z",
     "start_time": "2022-05-19T08:10:47.689863Z"
    }
   },
   "outputs": [],
   "source": [
    "# 시간 전 / 몇일 전 --> 숫자로 변환\n",
    "\n",
    "for i in idx_list:\n",
    "    \n",
    "    trans_day = int(re.findall('\\d+', df_news['date'][i])[0]) \n",
    "\n",
    "    if '시간' in df_news['date'][i]:\n",
    "        df_news['date'][i] = scrapping_date - datetime.timedelta(days=1)\n",
    "    else:\n",
    "        df_news['date'][i] = scrapping_date - datetime.timedelta(days=trans_day+1)"
   ]
  },
  {
   "cell_type": "code",
   "execution_count": 28,
   "id": "26accde3",
   "metadata": {
    "ExecuteTime": {
     "end_time": "2022-05-19T08:10:47.748704Z",
     "start_time": "2022-05-19T08:10:47.719782Z"
    },
    "scrolled": true
   },
   "outputs": [],
   "source": [
    "df_news['date'] = pd.to_datetime(df_news['date'])"
   ]
  },
  {
   "cell_type": "code",
   "execution_count": 29,
   "id": "3cd2d330",
   "metadata": {
    "ExecuteTime": {
     "end_time": "2022-05-19T08:10:47.763664Z",
     "start_time": "2022-05-19T08:10:47.749703Z"
    }
   },
   "outputs": [],
   "source": [
    "df_news['year'] = df_news['date'].dt.year\n",
    "df_news['month'] = df_news['date'].dt.month\n",
    "df_news['day'] = df_news['date'].dt.day"
   ]
  },
  {
   "cell_type": "code",
   "execution_count": 30,
   "id": "1089fd7d",
   "metadata": {
    "ExecuteTime": {
     "end_time": "2022-05-19T08:10:47.778653Z",
     "start_time": "2022-05-19T08:10:47.764663Z"
    }
   },
   "outputs": [
    {
     "data": {
      "text/html": [
       "<div>\n",
       "<style scoped>\n",
       "    .dataframe tbody tr th:only-of-type {\n",
       "        vertical-align: middle;\n",
       "    }\n",
       "\n",
       "    .dataframe tbody tr th {\n",
       "        vertical-align: top;\n",
       "    }\n",
       "\n",
       "    .dataframe thead th {\n",
       "        text-align: right;\n",
       "    }\n",
       "</style>\n",
       "<table border=\"1\" class=\"dataframe\">\n",
       "  <thead>\n",
       "    <tr style=\"text-align: right;\">\n",
       "      <th></th>\n",
       "      <th>date</th>\n",
       "      <th>title</th>\n",
       "      <th>press</th>\n",
       "      <th>contents</th>\n",
       "      <th>year</th>\n",
       "      <th>month</th>\n",
       "      <th>day</th>\n",
       "    </tr>\n",
       "  </thead>\n",
       "  <tbody>\n",
       "    <tr>\n",
       "      <th>0</th>\n",
       "      <td>2021-05-01</td>\n",
       "      <td>DGB대구은행, 은행권 중금리대출 실적 1위</td>\n",
       "      <td>글로벌이코노믹</td>\n",
       "      <td>DGB대구은행의 중금리대출 실적이 지방은행뿐만 아니라 은행권 전체에서 가장 많은 것...</td>\n",
       "      <td>2021</td>\n",
       "      <td>5</td>\n",
       "      <td>1</td>\n",
       "    </tr>\n",
       "  </tbody>\n",
       "</table>\n",
       "</div>"
      ],
      "text/plain": [
       "        date                     title    press  \\\n",
       "0 2021-05-01  DGB대구은행, 은행권 중금리대출 실적 1위  글로벌이코노믹   \n",
       "\n",
       "                                            contents  year  month  day  \n",
       "0  DGB대구은행의 중금리대출 실적이 지방은행뿐만 아니라 은행권 전체에서 가장 많은 것...  2021      5    1  "
      ]
     },
     "execution_count": 30,
     "metadata": {},
     "output_type": "execute_result"
    }
   ],
   "source": [
    "df_news.head(1)"
   ]
  },
  {
   "cell_type": "code",
   "execution_count": 31,
   "id": "181c3b0b",
   "metadata": {
    "ExecuteTime": {
     "end_time": "2022-05-19T08:10:47.793588Z",
     "start_time": "2022-05-19T08:10:47.779650Z"
    }
   },
   "outputs": [],
   "source": [
    "# 데이터 자료 시간에서 마이너스해주면 날짜가 나옴.\n",
    "# 이것을 다시 대입해주면 날짜 데이터 정제 완료\n",
    "\n",
    "# 컬럼 제거 axis = 1 --> 열 / axis = 0 --> 행\n",
    "# df_news.drop(['date_day'], axis=1, inplace=True)"
   ]
  },
  {
   "cell_type": "code",
   "execution_count": 32,
   "id": "96590a4d",
   "metadata": {
    "ExecuteTime": {
     "end_time": "2022-05-19T08:10:47.808544Z",
     "start_time": "2022-05-19T08:10:47.794583Z"
    }
   },
   "outputs": [],
   "source": [
    "# 참고 : https://hogni.tistory.com/51\n",
    "# 컬럼 순서 정렬\n",
    "df_news = df_news[['date', 'year', 'month', 'day', 'title', 'press', 'contents']]"
   ]
  },
  {
   "cell_type": "code",
   "execution_count": 33,
   "id": "a7b76b28",
   "metadata": {
    "ExecuteTime": {
     "end_time": "2022-05-19T08:10:47.823505Z",
     "start_time": "2022-05-19T08:10:47.809544Z"
    }
   },
   "outputs": [
    {
     "data": {
      "text/html": [
       "<div>\n",
       "<style scoped>\n",
       "    .dataframe tbody tr th:only-of-type {\n",
       "        vertical-align: middle;\n",
       "    }\n",
       "\n",
       "    .dataframe tbody tr th {\n",
       "        vertical-align: top;\n",
       "    }\n",
       "\n",
       "    .dataframe thead th {\n",
       "        text-align: right;\n",
       "    }\n",
       "</style>\n",
       "<table border=\"1\" class=\"dataframe\">\n",
       "  <thead>\n",
       "    <tr style=\"text-align: right;\">\n",
       "      <th></th>\n",
       "      <th>date</th>\n",
       "      <th>year</th>\n",
       "      <th>month</th>\n",
       "      <th>day</th>\n",
       "      <th>title</th>\n",
       "      <th>press</th>\n",
       "      <th>contents</th>\n",
       "    </tr>\n",
       "  </thead>\n",
       "  <tbody>\n",
       "    <tr>\n",
       "      <th>0</th>\n",
       "      <td>2021-05-01</td>\n",
       "      <td>2021</td>\n",
       "      <td>5</td>\n",
       "      <td>1</td>\n",
       "      <td>DGB대구은행, 은행권 중금리대출 실적 1위</td>\n",
       "      <td>글로벌이코노믹</td>\n",
       "      <td>DGB대구은행의 중금리대출 실적이 지방은행뿐만 아니라 은행권 전체에서 가장 많은 것...</td>\n",
       "    </tr>\n",
       "    <tr>\n",
       "      <th>1</th>\n",
       "      <td>2021-05-01</td>\n",
       "      <td>2021</td>\n",
       "      <td>5</td>\n",
       "      <td>1</td>\n",
       "      <td>DGB대구은행, 어버이날 맞이 효(孝) 마스크 지원</td>\n",
       "      <td>경북신문</td>\n",
       "      <td>DGB대구은행(은행장 임성훈)은 다가오는 어버이날을 맞아 지역 내 방역취약계층 어르...</td>\n",
       "    </tr>\n",
       "    <tr>\n",
       "      <th>2</th>\n",
       "      <td>2021-05-01</td>\n",
       "      <td>2021</td>\n",
       "      <td>5</td>\n",
       "      <td>1</td>\n",
       "      <td>은행·비은행 동반성장…지방금융지주 1분기 '好好好'</td>\n",
       "      <td>미디어펜</td>\n",
       "      <td>DGB금융의 순이익은 지난해 1분기에 견줘 40% 급증했다. 핵심 계열사인 대구은행...</td>\n",
       "    </tr>\n",
       "  </tbody>\n",
       "</table>\n",
       "</div>"
      ],
      "text/plain": [
       "        date  year  month  day                         title    press  \\\n",
       "0 2021-05-01  2021      5    1      DGB대구은행, 은행권 중금리대출 실적 1위  글로벌이코노믹   \n",
       "1 2021-05-01  2021      5    1  DGB대구은행, 어버이날 맞이 효(孝) 마스크 지원     경북신문   \n",
       "2 2021-05-01  2021      5    1  은행·비은행 동반성장…지방금융지주 1분기 '好好好'     미디어펜   \n",
       "\n",
       "                                            contents  \n",
       "0  DGB대구은행의 중금리대출 실적이 지방은행뿐만 아니라 은행권 전체에서 가장 많은 것...  \n",
       "1  DGB대구은행(은행장 임성훈)은 다가오는 어버이날을 맞아 지역 내 방역취약계층 어르...  \n",
       "2  DGB금융의 순이익은 지난해 1분기에 견줘 40% 급증했다. 핵심 계열사인 대구은행...  "
      ]
     },
     "execution_count": 33,
     "metadata": {},
     "output_type": "execute_result"
    }
   ],
   "source": [
    "df_news.head(3)"
   ]
  },
  {
   "cell_type": "code",
   "execution_count": 34,
   "id": "19c3a6e8",
   "metadata": {
    "ExecuteTime": {
     "end_time": "2022-05-19T08:10:47.838464Z",
     "start_time": "2022-05-19T08:10:47.824502Z"
    }
   },
   "outputs": [
    {
     "data": {
      "text/html": [
       "<div>\n",
       "<style scoped>\n",
       "    .dataframe tbody tr th:only-of-type {\n",
       "        vertical-align: middle;\n",
       "    }\n",
       "\n",
       "    .dataframe tbody tr th {\n",
       "        vertical-align: top;\n",
       "    }\n",
       "\n",
       "    .dataframe thead th {\n",
       "        text-align: right;\n",
       "    }\n",
       "</style>\n",
       "<table border=\"1\" class=\"dataframe\">\n",
       "  <thead>\n",
       "    <tr style=\"text-align: right;\">\n",
       "      <th></th>\n",
       "      <th>date</th>\n",
       "    </tr>\n",
       "  </thead>\n",
       "  <tbody>\n",
       "    <tr>\n",
       "      <th>8994</th>\n",
       "      <td>2022-05-01</td>\n",
       "    </tr>\n",
       "    <tr>\n",
       "      <th>8995</th>\n",
       "      <td>2022-05-01</td>\n",
       "    </tr>\n",
       "    <tr>\n",
       "      <th>8996</th>\n",
       "      <td>2022-05-01</td>\n",
       "    </tr>\n",
       "  </tbody>\n",
       "</table>\n",
       "</div>"
      ],
      "text/plain": [
       "           date\n",
       "8994 2022-05-01\n",
       "8995 2022-05-01\n",
       "8996 2022-05-01"
      ]
     },
     "execution_count": 34,
     "metadata": {},
     "output_type": "execute_result"
    }
   ],
   "source": [
    "df_news.loc[:, ['date']].tail(3)"
   ]
  },
  {
   "cell_type": "markdown",
   "id": "e70714d4",
   "metadata": {},
   "source": [
    "## 정규식 표현 처리\n",
    "\n",
    "<br>\n",
    "\n",
    "'[-=+,#/\\?:^$.@*\\\"※%~&ㆍ\\‘\\’\\_, ②外∙·!』『\\(\\)\\[\\]\\[\\]\\<\\>\\'\\`<\\>\\銀…\\\"\\'…》]' 등을 기사제목에서 제거\n",
    "- tqdm --> 진행률 표시 모듈\n",
    "\n",
    "**※ 참고 : https://clolee.tistory.com/17, https://codingspooning.tistory.com/138**\n",
    "<br>"
   ]
  },
  {
   "cell_type": "markdown",
   "id": "0432c0d3",
   "metadata": {},
   "source": [
    "### 정규식 표현 ( 기사 제목 )"
   ]
  },
  {
   "cell_type": "code",
   "execution_count": 35,
   "id": "54f89188",
   "metadata": {
    "ExecuteTime": {
     "end_time": "2022-05-19T08:10:48.616383Z",
     "start_time": "2022-05-19T08:10:47.839470Z"
    }
   },
   "outputs": [
    {
     "data": {
      "text/html": [
       "<div>\n",
       "<style scoped>\n",
       "    .dataframe tbody tr th:only-of-type {\n",
       "        vertical-align: middle;\n",
       "    }\n",
       "\n",
       "    .dataframe tbody tr th {\n",
       "        vertical-align: top;\n",
       "    }\n",
       "\n",
       "    .dataframe thead th {\n",
       "        text-align: right;\n",
       "    }\n",
       "</style>\n",
       "<table border=\"1\" class=\"dataframe\">\n",
       "  <thead>\n",
       "    <tr style=\"text-align: right;\">\n",
       "      <th></th>\n",
       "      <th>title</th>\n",
       "      <th>nouns_title</th>\n",
       "    </tr>\n",
       "  </thead>\n",
       "  <tbody>\n",
       "    <tr>\n",
       "      <th>0</th>\n",
       "      <td>DGB대구은행, 은행권 중금리대출 실적 1위</td>\n",
       "      <td>DGB대구은행 은행권 중금리대출 실적 1위</td>\n",
       "    </tr>\n",
       "    <tr>\n",
       "      <th>1</th>\n",
       "      <td>DGB대구은행, 어버이날 맞이 효(孝) 마스크 지원</td>\n",
       "      <td>DGB대구은행 어버이날 맞이 효孝 마스크 지원</td>\n",
       "    </tr>\n",
       "    <tr>\n",
       "      <th>2</th>\n",
       "      <td>은행·비은행 동반성장…지방금융지주 1분기 '好好好'</td>\n",
       "      <td>은행비은행 동반성장지방금융지주 1분기 好好好</td>\n",
       "    </tr>\n",
       "    <tr>\n",
       "      <th>3</th>\n",
       "      <td>DGB대구銀, 코로나 대응 관련 ‘유공 행정안전부 장관표창’</td>\n",
       "      <td>DGB대구銀 코로나 대응 관련 유공 행정안전부 장관표창</td>\n",
       "    </tr>\n",
       "    <tr>\n",
       "      <th>4</th>\n",
       "      <td>대구은행, 방역취약계층 어르신 대상 KF94 마스크 전달</td>\n",
       "      <td>대구은행 방역취약계층 어르신 대상 KF94 마스크 전달</td>\n",
       "    </tr>\n",
       "    <tr>\n",
       "      <th>5</th>\n",
       "      <td>지방금융그룹도 1분기 사상최대 실적…비은행 계열 선전</td>\n",
       "      <td>지방금융그룹도 1분기 사상최대 실적비은행 계열 선전</td>\n",
       "    </tr>\n",
       "  </tbody>\n",
       "</table>\n",
       "</div>"
      ],
      "text/plain": [
       "                               title                     nouns_title\n",
       "0           DGB대구은행, 은행권 중금리대출 실적 1위         DGB대구은행 은행권 중금리대출 실적 1위\n",
       "1       DGB대구은행, 어버이날 맞이 효(孝) 마스크 지원       DGB대구은행 어버이날 맞이 효孝 마스크 지원\n",
       "2       은행·비은행 동반성장…지방금융지주 1분기 '好好好'        은행비은행 동반성장지방금융지주 1분기 好好好\n",
       "3  DGB대구銀, 코로나 대응 관련 ‘유공 행정안전부 장관표창’  DGB대구銀 코로나 대응 관련 유공 행정안전부 장관표창\n",
       "4    대구은행, 방역취약계층 어르신 대상 KF94 마스크 전달  대구은행 방역취약계층 어르신 대상 KF94 마스크 전달\n",
       "5      지방금융그룹도 1분기 사상최대 실적…비은행 계열 선전    지방금융그룹도 1분기 사상최대 실적비은행 계열 선전"
      ]
     },
     "execution_count": 35,
     "metadata": {},
     "output_type": "execute_result"
    }
   ],
   "source": [
    "from tqdm import tqdm\n",
    "import copy\n",
    "\n",
    "# 경고 off\n",
    "pd.set_option('mode.chained_assignment', None)\n",
    "\n",
    "# 원본 데이터프레임 복사하여 사용\n",
    "df_news_copy = copy.deepcopy(df_news)\n",
    "df_news_copy.insert(5, 'nouns_title', '0')\n",
    "title_data = df_news_copy['title'].tolist()\n",
    "\n",
    "# re.sub('[-=+,#/\\?:^$.@*\\\"※%~&ㆍ\\‘\\’\\_, ②外∙·!』『\\(\\)\\[\\]\\[\\]\\<\\>\\'\\`<\\>\\銀…\\\"\\'…》→p”“◇證‧]',\n",
    "for i in range(len(title_data)):\n",
    "    cleaner = re.sub('[-=+,#/\\?:^.@*\\\"※~ㆍ!』‘|\\(\\)\\[\\]`\\'…》\\”\\“\\’·◇②【】<>�→α&]', '', title_data[i])\n",
    "    df_news_copy['nouns_title'][i] = cleaner\n",
    "\n",
    "df_news_copy.loc[:5,['title', 'nouns_title']]"
   ]
  },
  {
   "cell_type": "markdown",
   "id": "cc9d2cc4",
   "metadata": {},
   "source": [
    "### 정규식 표현 ( 기사 내용 )"
   ]
  },
  {
   "cell_type": "code",
   "execution_count": 36,
   "id": "0cc4b248",
   "metadata": {
    "ExecuteTime": {
     "end_time": "2022-05-19T08:10:49.424222Z",
     "start_time": "2022-05-19T08:10:48.617381Z"
    }
   },
   "outputs": [
    {
     "data": {
      "text/html": [
       "<div>\n",
       "<style scoped>\n",
       "    .dataframe tbody tr th:only-of-type {\n",
       "        vertical-align: middle;\n",
       "    }\n",
       "\n",
       "    .dataframe tbody tr th {\n",
       "        vertical-align: top;\n",
       "    }\n",
       "\n",
       "    .dataframe thead th {\n",
       "        text-align: right;\n",
       "    }\n",
       "</style>\n",
       "<table border=\"1\" class=\"dataframe\">\n",
       "  <thead>\n",
       "    <tr style=\"text-align: right;\">\n",
       "      <th></th>\n",
       "      <th>contents</th>\n",
       "      <th>nouns_contents</th>\n",
       "    </tr>\n",
       "  </thead>\n",
       "  <tbody>\n",
       "    <tr>\n",
       "      <th>0</th>\n",
       "      <td>DGB대구은행의 중금리대출 실적이 지방은행뿐만 아니라 은행권 전체에서 가장 많은 것...</td>\n",
       "      <td>DGB대구은행의 중금리대출 실적이 지방은행뿐만 아니라 은행권 전체에서 가장 많은 것...</td>\n",
       "    </tr>\n",
       "    <tr>\n",
       "      <th>1</th>\n",
       "      <td>DGB대구은행(은행장 임성훈)은 다가오는 어버이날을 맞아 지역 내 방역취약계층 어르...</td>\n",
       "      <td>DGB대구은행은행장 임성훈은 다가오는 어버이날을 맞아 지역 내 방역취약계층 어르신들...</td>\n",
       "    </tr>\n",
       "    <tr>\n",
       "      <th>2</th>\n",
       "      <td>DGB금융의 순이익은 지난해 1분기에 견줘 40% 급증했다. 핵심 계열사인 대구은행...</td>\n",
       "      <td>DGB금융의 순이익은 지난해 1분기에 견줘 40% 급증했다 핵심 계열사인 대구은행은...</td>\n",
       "    </tr>\n",
       "    <tr>\n",
       "      <th>3</th>\n",
       "      <td>DGB대구은행(이하 대구은행)은 코로나19 재난 방역 적극 참여 및 지역사회 지원활...</td>\n",
       "      <td>DGB대구은행이하 대구은행은 코로나19 재난 방역 적극 참여 및 지역사회 지원활동을...</td>\n",
       "    </tr>\n",
       "    <tr>\n",
       "      <th>4</th>\n",
       "      <td>- DGB대구은행, 어버이날 맞아 효(孝) 마스크 지원 DGB대구은행(은행장 임성훈...</td>\n",
       "      <td>DGB대구은행 어버이날 맞아 효孝 마스크 지원 DGB대구은행은행장 임성훈이 어버이...</td>\n",
       "    </tr>\n",
       "    <tr>\n",
       "      <th>5</th>\n",
       "      <td>시장금리 상승세에 힘입어 대구은행의 순이자마진이 회복한 데 이어, 비은행 계열인 하...</td>\n",
       "      <td>시장금리 상승세에 힘입어 대구은행의 순이자마진이 회복한 데 이어 비은행 계열인 하이...</td>\n",
       "    </tr>\n",
       "  </tbody>\n",
       "</table>\n",
       "</div>"
      ],
      "text/plain": [
       "                                            contents  \\\n",
       "0  DGB대구은행의 중금리대출 실적이 지방은행뿐만 아니라 은행권 전체에서 가장 많은 것...   \n",
       "1  DGB대구은행(은행장 임성훈)은 다가오는 어버이날을 맞아 지역 내 방역취약계층 어르...   \n",
       "2  DGB금융의 순이익은 지난해 1분기에 견줘 40% 급증했다. 핵심 계열사인 대구은행...   \n",
       "3  DGB대구은행(이하 대구은행)은 코로나19 재난 방역 적극 참여 및 지역사회 지원활...   \n",
       "4  - DGB대구은행, 어버이날 맞아 효(孝) 마스크 지원 DGB대구은행(은행장 임성훈...   \n",
       "5  시장금리 상승세에 힘입어 대구은행의 순이자마진이 회복한 데 이어, 비은행 계열인 하...   \n",
       "\n",
       "                                      nouns_contents  \n",
       "0  DGB대구은행의 중금리대출 실적이 지방은행뿐만 아니라 은행권 전체에서 가장 많은 것...  \n",
       "1  DGB대구은행은행장 임성훈은 다가오는 어버이날을 맞아 지역 내 방역취약계층 어르신들...  \n",
       "2  DGB금융의 순이익은 지난해 1분기에 견줘 40% 급증했다 핵심 계열사인 대구은행은...  \n",
       "3  DGB대구은행이하 대구은행은 코로나19 재난 방역 적극 참여 및 지역사회 지원활동을...  \n",
       "4   DGB대구은행 어버이날 맞아 효孝 마스크 지원 DGB대구은행은행장 임성훈이 어버이...  \n",
       "5  시장금리 상승세에 힘입어 대구은행의 순이자마진이 회복한 데 이어 비은행 계열인 하이...  "
      ]
     },
     "execution_count": 36,
     "metadata": {},
     "output_type": "execute_result"
    }
   ],
   "source": [
    "from tqdm import tqdm\n",
    "import copy\n",
    "\n",
    "# 경고 off\n",
    "pd.set_option('mode.chained_assignment', None)\n",
    "\n",
    "# 원본 데이터프레임 복사하여 사용\n",
    "df_news_copy = copy.deepcopy(df_news_copy)\n",
    "df_news_copy.insert(8, 'nouns_contents', '0')\n",
    "contents_data = df_news_copy['contents'].tolist()\n",
    "\n",
    "# re.sub('[-=+,#/\\?:^$.@*\\\"※%~&ㆍ\\‘\\’\\_, ②外∙·!』『\\(\\)\\[\\]\\[\\]\\<\\>\\'\\`<\\>\\銀…\\\"\\'…》→p”“◇證‧]',\n",
    "for i in range(len(contents_data)):\n",
    "    cleaner = re.sub('[-=+,#/\\?:^.@*\\\"※~ㆍ!』‘|\\(\\)\\[\\]`\\'…》\\”\\“\\’·◇②【】<>�→α&]', '', contents_data[i])\n",
    "    df_news_copy['nouns_contents'][i] = cleaner\n",
    "\n",
    "df_news_copy.loc[:5,['contents', 'nouns_contents']]"
   ]
  },
  {
   "cell_type": "markdown",
   "id": "e2218193",
   "metadata": {},
   "source": [
    "## 토큰화 및 불용어 제거( 1차 )\n",
    "\n",
    "<br>\n",
    "\n",
    "**Hannanum / Kkma / Komoran / Mecab / Twitter(Okt, 사용?)**\n",
    "- 제목을 토큰화 시킴\n",
    "- Okt형태소 분석기 사용\n",
    "- norm = True --> 문장을 정규화 Ex) 늘린, 늘린 / 문장 그대로\n",
    "- stem = True --> 문장을 정규화 Ex) 늘린, 늘리다 / 줄인, 줄이다 / 예뻐서 예뻤다, 예쁘다 / 즉, stem을 사용해야 함. \n",
    "- (stem은 stemming 어간화라는 뜻)\n",
    "<br>\n",
    "\n",
    "**불용어 : 자연어 처리에 큰 영향을 주지 않는 중요하지 않은 단어들을 말합니다. 주로 조사나 접사 등이 불용어**"
   ]
  },
  {
   "cell_type": "code",
   "execution_count": 37,
   "id": "911a830f",
   "metadata": {
    "ExecuteTime": {
     "end_time": "2022-05-19T08:10:49.738381Z",
     "start_time": "2022-05-19T08:10:49.425220Z"
    }
   },
   "outputs": [],
   "source": [
    "import konlpy\n",
    "from konlpy.tag import Okt\n",
    "okt = Okt()"
   ]
  },
  {
   "cell_type": "code",
   "execution_count": 38,
   "id": "7f255d94",
   "metadata": {
    "ExecuteTime": {
     "end_time": "2022-05-19T08:10:52.856990Z",
     "start_time": "2022-05-19T08:10:49.739379Z"
    }
   },
   "outputs": [
    {
     "name": "stdout",
     "output_type": "stream",
     "text": [
      "['늘린', '결과', '이다', '줄인', '많아서', '예뻤다', '1', '위']\n",
      "['늘리다', '결과', '이다', '줄이다', '많다', '예쁘다', '1', '위']\n"
     ]
    }
   ],
   "source": [
    "# 테스트\n",
    "print(okt.morphs('늘린 결과이다 줄인 많아서 예뻤다 1위', norm=True))\n",
    "print(okt.morphs('늘린 결과이다 줄인 많아서 예뻐서 1위', stem=True))"
   ]
  },
  {
   "cell_type": "code",
   "execution_count": 39,
   "id": "d96db1ce",
   "metadata": {
    "ExecuteTime": {
     "end_time": "2022-05-19T08:10:52.871950Z",
     "start_time": "2022-05-19T08:10:52.857987Z"
    }
   },
   "outputs": [],
   "source": [
    "stopwords = ['의', '가', '이', '은', '는', '좀',\n",
    "             '잘', '걍', '과', '도', '를', '자',\n",
    "             '으로', '에', '와', '한', '하다']"
   ]
  },
  {
   "cell_type": "code",
   "execution_count": 40,
   "id": "54d8144b",
   "metadata": {
    "ExecuteTime": {
     "end_time": "2022-05-19T08:11:07.434146Z",
     "start_time": "2022-05-19T08:10:52.872949Z"
    }
   },
   "outputs": [],
   "source": [
    "import konlpy\n",
    "from konlpy.tag import Okt\n",
    "okt = Okt()\n",
    "for sentence in df_news_copy['nouns_title']:\n",
    "    tmp_X = okt.morphs(sentence, stem=True) # 토큰화\n",
    "    tmp_X = [word for word in tmp_X if not word in stopwords] # 불용어 제거  \n",
    "#     print('예외처리 전 :', tmp_X)\n",
    "\n",
    "    # ['1', '위'] --> ['1위'] 붙이기\n",
    "    if ('1' in tmp_X) and ('위' in tmp_X):\n",
    "        for i in range(len(tmp_X)):\n",
    "            if tmp_X[i] == '위' and tmp_X[i-1] == '1':\n",
    "                tmp_X[i-1] += tmp_X.pop(i)\n",
    "                break\n",
    "    copy_tmp = tmp_X.copy()\n",
    "    df_news_copy.replace({'nouns_title':sentence}, ' '.join(copy_tmp), inplace=True) # 공백 기준으로 단어 나누기."
   ]
  },
  {
   "cell_type": "code",
   "execution_count": 41,
   "id": "bd9b5be0",
   "metadata": {
    "ExecuteTime": {
     "end_time": "2022-05-19T08:11:07.449109Z",
     "start_time": "2022-05-19T08:11:07.435147Z"
    }
   },
   "outputs": [
    {
     "data": {
      "text/html": [
       "<div>\n",
       "<style scoped>\n",
       "    .dataframe tbody tr th:only-of-type {\n",
       "        vertical-align: middle;\n",
       "    }\n",
       "\n",
       "    .dataframe tbody tr th {\n",
       "        vertical-align: top;\n",
       "    }\n",
       "\n",
       "    .dataframe thead th {\n",
       "        text-align: right;\n",
       "    }\n",
       "</style>\n",
       "<table border=\"1\" class=\"dataframe\">\n",
       "  <thead>\n",
       "    <tr style=\"text-align: right;\">\n",
       "      <th></th>\n",
       "      <th>title</th>\n",
       "      <th>nouns_title</th>\n",
       "    </tr>\n",
       "  </thead>\n",
       "  <tbody>\n",
       "    <tr>\n",
       "      <th>0</th>\n",
       "      <td>DGB대구은행, 은행권 중금리대출 실적 1위</td>\n",
       "      <td>DGB 대구 은행 은행권 중 금리 대출 실적 1위</td>\n",
       "    </tr>\n",
       "    <tr>\n",
       "      <th>1</th>\n",
       "      <td>DGB대구은행, 어버이날 맞이 효(孝) 마스크 지원</td>\n",
       "      <td>DGB 대구 은행 어버이날 맞이 효 孝 마스크 지원</td>\n",
       "    </tr>\n",
       "    <tr>\n",
       "      <th>2</th>\n",
       "      <td>은행·비은행 동반성장…지방금융지주 1분기 '好好好'</td>\n",
       "      <td>은행 비 은행 동반성 장 지방 금융 지주 1분 기 好好好</td>\n",
       "    </tr>\n",
       "    <tr>\n",
       "      <th>3</th>\n",
       "      <td>DGB대구銀, 코로나 대응 관련 ‘유공 행정안전부 장관표창’</td>\n",
       "      <td>DGB 대구 銀 코로나 대응 관련 유공 행정안전부 장관 표창</td>\n",
       "    </tr>\n",
       "  </tbody>\n",
       "</table>\n",
       "</div>"
      ],
      "text/plain": [
       "                               title                        nouns_title\n",
       "0           DGB대구은행, 은행권 중금리대출 실적 1위        DGB 대구 은행 은행권 중 금리 대출 실적 1위\n",
       "1       DGB대구은행, 어버이날 맞이 효(孝) 마스크 지원       DGB 대구 은행 어버이날 맞이 효 孝 마스크 지원\n",
       "2       은행·비은행 동반성장…지방금융지주 1분기 '好好好'    은행 비 은행 동반성 장 지방 금융 지주 1분 기 好好好\n",
       "3  DGB대구銀, 코로나 대응 관련 ‘유공 행정안전부 장관표창’  DGB 대구 銀 코로나 대응 관련 유공 행정안전부 장관 표창"
      ]
     },
     "execution_count": 41,
     "metadata": {},
     "output_type": "execute_result"
    }
   ],
   "source": [
    "df_news_copy.loc[:3, ['title', 'nouns_title']]"
   ]
  },
  {
   "cell_type": "code",
   "execution_count": 42,
   "id": "eaa16922",
   "metadata": {
    "ExecuteTime": {
     "end_time": "2022-05-19T08:11:07.464068Z",
     "start_time": "2022-05-19T08:11:07.450107Z"
    }
   },
   "outputs": [],
   "source": [
    "# 테스트테스트"
   ]
  },
  {
   "cell_type": "code",
   "execution_count": 43,
   "id": "dcf4d4b4",
   "metadata": {
    "ExecuteTime": {
     "end_time": "2022-05-19T08:11:51.478190Z",
     "start_time": "2022-05-19T08:11:07.465068Z"
    }
   },
   "outputs": [],
   "source": [
    "import konlpy\n",
    "from konlpy.tag import Okt\n",
    "okt = Okt()\n",
    "for sentence in df_news_copy['nouns_contents']:\n",
    "    tmp_X = okt.morphs(sentence, stem=True) # 토큰화\n",
    "    tmp_X = [word for word in tmp_X if not word in stopwords] # 불용어 제거\n",
    "    \n",
    "    copy_tmp = tmp_X.copy()\n",
    "    df_news_copy.replace({'nouns_contents':sentence}, ' '.join(copy_tmp), inplace=True) # 공백 기준으로 단어 나누기."
   ]
  },
  {
   "cell_type": "code",
   "execution_count": 44,
   "id": "086db098",
   "metadata": {
    "ExecuteTime": {
     "end_time": "2022-05-19T08:11:51.493151Z",
     "start_time": "2022-05-19T08:11:51.479188Z"
    }
   },
   "outputs": [
    {
     "data": {
      "text/html": [
       "<div>\n",
       "<style scoped>\n",
       "    .dataframe tbody tr th:only-of-type {\n",
       "        vertical-align: middle;\n",
       "    }\n",
       "\n",
       "    .dataframe tbody tr th {\n",
       "        vertical-align: top;\n",
       "    }\n",
       "\n",
       "    .dataframe thead th {\n",
       "        text-align: right;\n",
       "    }\n",
       "</style>\n",
       "<table border=\"1\" class=\"dataframe\">\n",
       "  <thead>\n",
       "    <tr style=\"text-align: right;\">\n",
       "      <th></th>\n",
       "      <th>contents</th>\n",
       "      <th>nouns_contents</th>\n",
       "    </tr>\n",
       "  </thead>\n",
       "  <tbody>\n",
       "    <tr>\n",
       "      <th>0</th>\n",
       "      <td>DGB대구은행의 중금리대출 실적이 지방은행뿐만 아니라 은행권 전체에서 가장 많은 것...</td>\n",
       "      <td>DGB 대 구 은행 중 금리 대출 실적 지방 은행 뿐 만 아니다 은행권 전체 에서 ...</td>\n",
       "    </tr>\n",
       "    <tr>\n",
       "      <th>1</th>\n",
       "      <td>DGB대구은행(은행장 임성훈)은 다가오는 어버이날을 맞아 지역 내 방역취약계층 어르...</td>\n",
       "      <td>DGB 대 구 은행 은행 장 임성훈 다가오다 어버이날 을 맞다 지역 내 방역 취약 ...</td>\n",
       "    </tr>\n",
       "    <tr>\n",
       "      <th>2</th>\n",
       "      <td>DGB금융의 순이익은 지난해 1분기에 견줘 40% 급증했다. 핵심 계열사인 대구은행...</td>\n",
       "      <td>DGB 금융 순이익 지난해 1분 기에 견줘 40% 급증 핵심 계열 사인 대 구 은행...</td>\n",
       "    </tr>\n",
       "    <tr>\n",
       "      <th>3</th>\n",
       "      <td>DGB대구은행(이하 대구은행)은 코로나19 재난 방역 적극 참여 및 지역사회 지원활...</td>\n",
       "      <td>DGB 대구 은행 이하 대 구 은행 코로나 19 재난 방역 적극 참여 및 지역 사회...</td>\n",
       "    </tr>\n",
       "  </tbody>\n",
       "</table>\n",
       "</div>"
      ],
      "text/plain": [
       "                                            contents  \\\n",
       "0  DGB대구은행의 중금리대출 실적이 지방은행뿐만 아니라 은행권 전체에서 가장 많은 것...   \n",
       "1  DGB대구은행(은행장 임성훈)은 다가오는 어버이날을 맞아 지역 내 방역취약계층 어르...   \n",
       "2  DGB금융의 순이익은 지난해 1분기에 견줘 40% 급증했다. 핵심 계열사인 대구은행...   \n",
       "3  DGB대구은행(이하 대구은행)은 코로나19 재난 방역 적극 참여 및 지역사회 지원활...   \n",
       "\n",
       "                                      nouns_contents  \n",
       "0  DGB 대 구 은행 중 금리 대출 실적 지방 은행 뿐 만 아니다 은행권 전체 에서 ...  \n",
       "1  DGB 대 구 은행 은행 장 임성훈 다가오다 어버이날 을 맞다 지역 내 방역 취약 ...  \n",
       "2  DGB 금융 순이익 지난해 1분 기에 견줘 40% 급증 핵심 계열 사인 대 구 은행...  \n",
       "3  DGB 대구 은행 이하 대 구 은행 코로나 19 재난 방역 적극 참여 및 지역 사회...  "
      ]
     },
     "execution_count": 44,
     "metadata": {},
     "output_type": "execute_result"
    }
   ],
   "source": [
    "df_news_copy.loc[:3, ['contents', 'nouns_contents']]"
   ]
  },
  {
   "cell_type": "markdown",
   "id": "75f67cf9",
   "metadata": {},
   "source": [
    "## 파생변수 불필요데이터(이상치?) 처리 \n",
    "**nouns_contents 컬럼**\n",
    "- 외화 / 외화 Buyamp / It 해당 단어들이 들어가 있으면 --> 스크래핑 오류 또한, 요약본 기준 글자갯수가 40이하라면 이상치로 판단 --> 또한 의미없는 데이터가 주로 분표됨 90% 이상"
   ]
  },
  {
   "cell_type": "code",
   "execution_count": 45,
   "id": "d80d87d3",
   "metadata": {
    "ExecuteTime": {
     "end_time": "2022-05-19T08:11:51.553042Z",
     "start_time": "2022-05-19T08:11:51.495145Z"
    }
   },
   "outputs": [
    {
     "data": {
      "text/html": [
       "<div>\n",
       "<style scoped>\n",
       "    .dataframe tbody tr th:only-of-type {\n",
       "        vertical-align: middle;\n",
       "    }\n",
       "\n",
       "    .dataframe tbody tr th {\n",
       "        vertical-align: top;\n",
       "    }\n",
       "\n",
       "    .dataframe thead th {\n",
       "        text-align: right;\n",
       "    }\n",
       "</style>\n",
       "<table border=\"1\" class=\"dataframe\">\n",
       "  <thead>\n",
       "    <tr style=\"text-align: right;\">\n",
       "      <th></th>\n",
       "      <th>contents</th>\n",
       "      <th>nouns_contents</th>\n",
       "    </tr>\n",
       "  </thead>\n",
       "  <tbody>\n",
       "    <tr>\n",
       "      <th>34</th>\n",
       "      <td>'Buy&amp;amp</td>\n",
       "      <td>Buyamp</td>\n",
       "    </tr>\n",
       "    <tr>\n",
       "      <th>69</th>\n",
       "      <td>- 외화 Buy&amp;amp</td>\n",
       "      <td>외화 Buyamp</td>\n",
       "    </tr>\n",
       "    <tr>\n",
       "      <th>565</th>\n",
       "      <td>대구은행은 임성훈&amp;lt</td>\n",
       "      <td>대 구 은행 임성훈 lt</td>\n",
       "    </tr>\n",
       "  </tbody>\n",
       "</table>\n",
       "</div>"
      ],
      "text/plain": [
       "         contents nouns_contents\n",
       "34       'Buy&amp         Buyamp\n",
       "69   - 외화 Buy&amp      외화 Buyamp\n",
       "565  대구은행은 임성훈&lt  대 구 은행 임성훈 lt"
      ]
     },
     "execution_count": 45,
     "metadata": {},
     "output_type": "execute_result"
    }
   ],
   "source": [
    "r_idx = list()\n",
    "for i in range(len(df_news_copy)):\n",
    "    if len(df_news_copy['nouns_contents'][i]) <= 60:# or  '외화 Buyamp' in df_news_copy['nouns_contents'][i]:\n",
    "        r_idx.append(i)\n",
    "df_news_copy.loc[r_idx, ['contents', 'nouns_contents']][:3]"
   ]
  },
  {
   "cell_type": "code",
   "execution_count": 46,
   "id": "3c26d88d",
   "metadata": {
    "ExecuteTime": {
     "end_time": "2022-05-19T08:11:51.568002Z",
     "start_time": "2022-05-19T08:11:51.554039Z"
    }
   },
   "outputs": [],
   "source": [
    "df_news_copy.drop(index = r_idx, axis=0, inplace=True)"
   ]
  },
  {
   "cell_type": "code",
   "execution_count": 47,
   "id": "5345f375",
   "metadata": {
    "ExecuteTime": {
     "end_time": "2022-05-19T08:11:51.582984Z",
     "start_time": "2022-05-19T08:11:51.568999Z"
    }
   },
   "outputs": [],
   "source": [
    "# 인덱스 번호 새로 부여.\n",
    "df_news_copy.reset_index(inplace=True)\n",
    "df_news_copy.drop(['index'], axis=1, inplace=True)"
   ]
  },
  {
   "cell_type": "code",
   "execution_count": 48,
   "id": "6e30177f",
   "metadata": {
    "ExecuteTime": {
     "end_time": "2022-05-19T08:11:51.597979Z",
     "start_time": "2022-05-19T08:11:51.583982Z"
    }
   },
   "outputs": [
    {
     "name": "stdout",
     "output_type": "stream",
     "text": [
      "원본 : 8997  /  제거 후 : 8948\n"
     ]
    }
   ],
   "source": [
    "print('원본 :', len(df_news), ' /  제거 후 :', len(df_news_copy))"
   ]
  },
  {
   "cell_type": "markdown",
   "id": "6a316465",
   "metadata": {},
   "source": [
    "## 리스트 변환 --> 단어별로 긍정 부정 중립 판단"
   ]
  },
  {
   "cell_type": "code",
   "execution_count": 49,
   "id": "588f12f9",
   "metadata": {
    "ExecuteTime": {
     "end_time": "2022-05-19T08:11:51.612940Z",
     "start_time": "2022-05-19T08:11:51.598979Z"
    }
   },
   "outputs": [
    {
     "data": {
      "text/html": [
       "<div>\n",
       "<style scoped>\n",
       "    .dataframe tbody tr th:only-of-type {\n",
       "        vertical-align: middle;\n",
       "    }\n",
       "\n",
       "    .dataframe tbody tr th {\n",
       "        vertical-align: top;\n",
       "    }\n",
       "\n",
       "    .dataframe thead th {\n",
       "        text-align: right;\n",
       "    }\n",
       "</style>\n",
       "<table border=\"1\" class=\"dataframe\">\n",
       "  <thead>\n",
       "    <tr style=\"text-align: right;\">\n",
       "      <th></th>\n",
       "      <th>nouns_title</th>\n",
       "    </tr>\n",
       "  </thead>\n",
       "  <tbody>\n",
       "    <tr>\n",
       "      <th>0</th>\n",
       "      <td>DGB 대구 은행 은행권 중 금리 대출 실적 1위</td>\n",
       "    </tr>\n",
       "    <tr>\n",
       "      <th>1</th>\n",
       "      <td>DGB 대구 은행 어버이날 맞이 효 孝 마스크 지원</td>\n",
       "    </tr>\n",
       "    <tr>\n",
       "      <th>2</th>\n",
       "      <td>은행 비 은행 동반성 장 지방 금융 지주 1분 기 好好好</td>\n",
       "    </tr>\n",
       "    <tr>\n",
       "      <th>3</th>\n",
       "      <td>DGB 대구 銀 코로나 대응 관련 유공 행정안전부 장관 표창</td>\n",
       "    </tr>\n",
       "  </tbody>\n",
       "</table>\n",
       "</div>"
      ],
      "text/plain": [
       "                         nouns_title\n",
       "0        DGB 대구 은행 은행권 중 금리 대출 실적 1위\n",
       "1       DGB 대구 은행 어버이날 맞이 효 孝 마스크 지원\n",
       "2    은행 비 은행 동반성 장 지방 금융 지주 1분 기 好好好\n",
       "3  DGB 대구 銀 코로나 대응 관련 유공 행정안전부 장관 표창"
      ]
     },
     "execution_count": 49,
     "metadata": {},
     "output_type": "execute_result"
    }
   ],
   "source": [
    "df_news_copy.loc[:3, ['nouns_title']]"
   ]
  },
  {
   "cell_type": "code",
   "execution_count": 50,
   "id": "c77e23d8",
   "metadata": {
    "ExecuteTime": {
     "end_time": "2022-05-19T08:11:51.627899Z",
     "start_time": "2022-05-19T08:11:51.613936Z"
    },
    "scrolled": true
   },
   "outputs": [
    {
     "name": "stdout",
     "output_type": "stream",
     "text": [
      "['DGB', '대구', '은행', '은행권', '중', '금리', '대출', '실적', '1위']\n",
      "['DGB', '대구', '은행', '어버이날', '맞이', '효', '孝', '마스크', '지원']\n",
      "['은행', '비', '은행', '동반성', '장', '지방', '금융', '지주', '1분', '기', '好好好']\n",
      "['DGB', '대구', '銀', '코로나', '대응', '관련', '유공', '행정안전부', '장관', '표창']\n"
     ]
    }
   ],
   "source": [
    "df_news_copy.loc[:5, ['nouns_title']]\n",
    "# nouns 컬럼 --> 공백을 기준으로 나눠 리스트로 변환\n",
    "df_news_copy['nouns_title'][0].split(' ')\n",
    "for title_words in df_news_copy['nouns_title'][:4]:\n",
    "    print(list(title_words.split(' ')))"
   ]
  },
  {
   "cell_type": "markdown",
   "id": "129011aa",
   "metadata": {},
   "source": [
    "## 파일 저장"
   ]
  },
  {
   "cell_type": "code",
   "execution_count": 51,
   "id": "5e9b55d0",
   "metadata": {
    "ExecuteTime": {
     "end_time": "2022-05-19T08:11:51.642888Z",
     "start_time": "2022-05-19T08:11:51.628934Z"
    },
    "scrolled": true
   },
   "outputs": [
    {
     "name": "stdout",
     "output_type": "stream",
     "text": [
      "<class 'pandas.core.frame.DataFrame'>\n",
      "RangeIndex: 8948 entries, 0 to 8947\n",
      "Data columns (total 9 columns):\n",
      " #   Column          Non-Null Count  Dtype         \n",
      "---  ------          --------------  -----         \n",
      " 0   date            8948 non-null   datetime64[ns]\n",
      " 1   year            8948 non-null   int64         \n",
      " 2   month           8948 non-null   int64         \n",
      " 3   day             8948 non-null   int64         \n",
      " 4   title           8948 non-null   object        \n",
      " 5   nouns_title     8948 non-null   object        \n",
      " 6   press           8948 non-null   object        \n",
      " 7   contents        8948 non-null   object        \n",
      " 8   nouns_contents  8948 non-null   object        \n",
      "dtypes: datetime64[ns](1), int64(3), object(5)\n",
      "memory usage: 629.3+ KB\n"
     ]
    }
   ],
   "source": [
    "df_news_copy.info()"
   ]
  },
  {
   "cell_type": "code",
   "execution_count": 52,
   "id": "b701d314",
   "metadata": {
    "ExecuteTime": {
     "end_time": "2022-05-19T08:11:51.657856Z",
     "start_time": "2022-05-19T08:11:51.643886Z"
    }
   },
   "outputs": [],
   "source": [
    "# 저장전 날짜별 내림차순으로 정렬\n",
    "df_news_copy.sort_values(by = ['date'], inplace=True, ascending=True)"
   ]
  },
  {
   "cell_type": "code",
   "execution_count": 53,
   "id": "811be5a6",
   "metadata": {
    "ExecuteTime": {
     "end_time": "2022-05-19T08:11:51.672780Z",
     "start_time": "2022-05-19T08:11:51.658818Z"
    }
   },
   "outputs": [],
   "source": [
    "# 인덱스 번호 새로 부여.\n",
    "df_news_copy.reset_index(inplace=True)\n",
    "df_news_copy.drop(['index'], axis=1, inplace=True)"
   ]
  },
  {
   "cell_type": "code",
   "execution_count": 54,
   "id": "9f294866",
   "metadata": {
    "ExecuteTime": {
     "end_time": "2022-05-19T08:11:51.687740Z",
     "start_time": "2022-05-19T08:11:51.673776Z"
    }
   },
   "outputs": [],
   "source": [
    "# 기술 통계량 확인\n",
    "# df_news_copy.describe(include='all')"
   ]
  },
  {
   "cell_type": "code",
   "execution_count": 55,
   "id": "e247dd03",
   "metadata": {
    "ExecuteTime": {
     "end_time": "2022-05-19T08:11:51.837344Z",
     "start_time": "2022-05-19T08:11:51.688738Z"
    }
   },
   "outputs": [],
   "source": [
    "# r_title.to_csv('news_data_preprocessing.csv')\n",
    "df_news_copy.to_csv('news_data_preprocessing.csv')"
   ]
  },
  {
   "cell_type": "markdown",
   "id": "66c3f39b",
   "metadata": {},
   "source": [
    "# 레이블링 / 정수 인코딩 / 데이터 셋 분할\n",
    "\n",
    "- 긍정 부정 단어를 분류 기초 방식. 따라서 보충이 필요.\n",
    "\n",
    "**※논문 참고(계산법) : http://www.koreascience.kr/article/JAKO201719363360793.pdf**"
   ]
  },
  {
   "cell_type": "markdown",
   "id": "061f79ea",
   "metadata": {},
   "source": [
    "## 레이블링"
   ]
  },
  {
   "cell_type": "code",
   "execution_count": 56,
   "id": "185bf789",
   "metadata": {
    "ExecuteTime": {
     "end_time": "2022-05-19T08:11:51.852299Z",
     "start_time": "2022-05-19T08:11:51.838338Z"
    }
   },
   "outputs": [],
   "source": [
    "import sys\n",
    "pos_word = []\n",
    "neg_word = []\n",
    "pos_neg = []\n",
    "\n",
    "pos = open('./pos_neg_dictionary/positive_word.txt', 'r', encoding='UTF-8')\n",
    "\n",
    "while True:\n",
    "    line = pos.readline().rstrip()\n",
    "    pos_word.append(line)\n",
    "    \n",
    "    if not line:\n",
    "        break\n",
    "\n",
    "pos.close()\n",
    "\n",
    "neg = open('./pos_neg_dictionary/negative_word.txt', 'r', encoding='UTF-8')\n",
    "\n",
    "while True:\n",
    "    line = neg.readline().rstrip()\n",
    "    neg_word.append(line)\n",
    "    \n",
    "    if not line:\n",
    "        break\n",
    "\n",
    "neg.close()"
   ]
  },
  {
   "cell_type": "code",
   "execution_count": 57,
   "id": "a5278b12",
   "metadata": {
    "ExecuteTime": {
     "end_time": "2022-05-19T08:11:51.867258Z",
     "start_time": "2022-05-19T08:11:51.854294Z"
    }
   },
   "outputs": [],
   "source": [
    "# 마지막 인덱스 '' 제거\n",
    "pos_word = pos_word[:-1]\n",
    "neg_word = neg_word[:-1]\n",
    "pos_neg = pos_word + neg_word"
   ]
  },
  {
   "cell_type": "code",
   "execution_count": 58,
   "id": "3a5165e3",
   "metadata": {
    "ExecuteTime": {
     "end_time": "2022-05-19T08:11:52.645207Z",
     "start_time": "2022-05-19T08:11:51.868256Z"
    }
   },
   "outputs": [
    {
     "name": "stdout",
     "output_type": "stream",
     "text": [
      "부정:567   긍정:5567   중립:2814\n"
     ]
    }
   ],
   "source": [
    "state = list()\n",
    "\n",
    "for x in df_news_copy['nouns_title']:\n",
    "    words = x.split(' ')\n",
    "    total, p, n = 0, 0, 0\n",
    "    for i in words:\n",
    "        if i in pos_word:\n",
    "            p += 1\n",
    "        elif i in neg_word:\n",
    "            n += 1\n",
    "    \n",
    "    # 기사 제목당 긍정갯수 - 부정 갯수\n",
    "    total = p - n\n",
    "    if total > 0:\n",
    "        state.append(1)\n",
    "    elif total == 0:\n",
    "        state.append(0)\n",
    "    else:\n",
    "        state.append(-1)\n",
    "\n",
    "print('부정:%d   긍정:%d   중립:%d' % (state.count(-1), state.count(1), state.count(0)))\n",
    "\n",
    "# pd.set_option('mode.chained_assignment',  None) # 경고 off\n",
    "df_news_copy['label'] = 0\n",
    "for i in range(len(state)):\n",
    "    df_news_copy['label'][i] = state[i]"
   ]
  },
  {
   "cell_type": "code",
   "execution_count": 59,
   "id": "798e35d3",
   "metadata": {
    "ExecuteTime": {
     "end_time": "2022-05-19T08:11:52.660166Z",
     "start_time": "2022-05-19T08:11:52.646204Z"
    }
   },
   "outputs": [
    {
     "data": {
      "text/html": [
       "<div>\n",
       "<style scoped>\n",
       "    .dataframe tbody tr th:only-of-type {\n",
       "        vertical-align: middle;\n",
       "    }\n",
       "\n",
       "    .dataframe tbody tr th {\n",
       "        vertical-align: top;\n",
       "    }\n",
       "\n",
       "    .dataframe thead th {\n",
       "        text-align: right;\n",
       "    }\n",
       "</style>\n",
       "<table border=\"1\" class=\"dataframe\">\n",
       "  <thead>\n",
       "    <tr style=\"text-align: right;\">\n",
       "      <th></th>\n",
       "      <th>date</th>\n",
       "      <th>year</th>\n",
       "      <th>month</th>\n",
       "      <th>day</th>\n",
       "      <th>title</th>\n",
       "      <th>nouns_title</th>\n",
       "      <th>press</th>\n",
       "      <th>contents</th>\n",
       "      <th>nouns_contents</th>\n",
       "      <th>label</th>\n",
       "    </tr>\n",
       "  </thead>\n",
       "  <tbody>\n",
       "    <tr>\n",
       "      <th>0</th>\n",
       "      <td>2021-05-01</td>\n",
       "      <td>2021</td>\n",
       "      <td>5</td>\n",
       "      <td>1</td>\n",
       "      <td>DGB대구은행, 은행권 중금리대출 실적 1위</td>\n",
       "      <td>DGB 대구 은행 은행권 중 금리 대출 실적 1위</td>\n",
       "      <td>글로벌이코노믹</td>\n",
       "      <td>DGB대구은행의 중금리대출 실적이 지방은행뿐만 아니라 은행권 전체에서 가장 많은 것...</td>\n",
       "      <td>DGB 대 구 은행 중 금리 대출 실적 지방 은행 뿐 만 아니다 은행권 전체 에서 ...</td>\n",
       "      <td>1</td>\n",
       "    </tr>\n",
       "    <tr>\n",
       "      <th>1</th>\n",
       "      <td>2021-05-01</td>\n",
       "      <td>2021</td>\n",
       "      <td>5</td>\n",
       "      <td>1</td>\n",
       "      <td>DGB대구은행, 어버이날 맞이 효(孝) 마스크 지원</td>\n",
       "      <td>DGB 대구 은행 어버이날 맞이 효 孝 마스크 지원</td>\n",
       "      <td>경북신문</td>\n",
       "      <td>DGB대구은행(은행장 임성훈)은 다가오는 어버이날을 맞아 지역 내 방역취약계층 어르...</td>\n",
       "      <td>DGB 대 구 은행 은행 장 임성훈 다가오다 어버이날 을 맞다 지역 내 방역 취약 ...</td>\n",
       "      <td>1</td>\n",
       "    </tr>\n",
       "  </tbody>\n",
       "</table>\n",
       "</div>"
      ],
      "text/plain": [
       "        date  year  month  day                         title  \\\n",
       "0 2021-05-01  2021      5    1      DGB대구은행, 은행권 중금리대출 실적 1위   \n",
       "1 2021-05-01  2021      5    1  DGB대구은행, 어버이날 맞이 효(孝) 마스크 지원   \n",
       "\n",
       "                    nouns_title    press  \\\n",
       "0   DGB 대구 은행 은행권 중 금리 대출 실적 1위  글로벌이코노믹   \n",
       "1  DGB 대구 은행 어버이날 맞이 효 孝 마스크 지원     경북신문   \n",
       "\n",
       "                                            contents  \\\n",
       "0  DGB대구은행의 중금리대출 실적이 지방은행뿐만 아니라 은행권 전체에서 가장 많은 것...   \n",
       "1  DGB대구은행(은행장 임성훈)은 다가오는 어버이날을 맞아 지역 내 방역취약계층 어르...   \n",
       "\n",
       "                                      nouns_contents  label  \n",
       "0  DGB 대 구 은행 중 금리 대출 실적 지방 은행 뿐 만 아니다 은행권 전체 에서 ...      1  \n",
       "1  DGB 대 구 은행 은행 장 임성훈 다가오다 어버이날 을 맞다 지역 내 방역 취약 ...      1  "
      ]
     },
     "execution_count": 59,
     "metadata": {},
     "output_type": "execute_result"
    }
   ],
   "source": [
    "df_news_copy[:2]"
   ]
  },
  {
   "cell_type": "markdown",
   "id": "c605eef2",
   "metadata": {},
   "source": [
    "### 중립 개수가 너무 많음.\n",
    "- 제목별로 단어개수를 파악해서 긍정단어사전과 부정단어사전을 만들어서 레이블링 작업 진행해야 함. \n",
    "- 기사당 긍정단어개수 - 부정단어개수가 0보다 크면 긍정 작으면 부정 0이라면 중립으로 진행\n",
    "\n",
    "***nouns_title 컬럼에서 길이가 1 또는 한자가 있다면 제거***"
   ]
  },
  {
   "cell_type": "markdown",
   "id": "0472600e",
   "metadata": {},
   "source": [
    "#### 추가 불용어 제거 ( 2차 )"
   ]
  },
  {
   "cell_type": "code",
   "execution_count": 60,
   "id": "aaf54fab",
   "metadata": {
    "ExecuteTime": {
     "end_time": "2022-05-19T08:11:52.675098Z",
     "start_time": "2022-05-19T08:11:52.661136Z"
    }
   },
   "outputs": [
    {
     "name": "stdout",
     "output_type": "stream",
     "text": [
      "리스트 레이블링 정제 전\n",
      "['DGB', '대구', '은행', '은행권', '중', '금리', '대출', '실적', '1위']\n",
      "['DGB', '대구', '은행', '어버이날', '맞이', '효', '孝', '마스크', '지원']\n",
      "['은행', '비', '은행', '동반성', '장', '지방', '금융', '지주', '1분', '기', '好好好']\n",
      "['DGB', '대구', '銀', '코로나', '대응', '관련', '유공', '행정안전부', '장관', '표창']\n"
     ]
    }
   ],
   "source": [
    "# 리스트로 변환 후 체크 \n",
    "print('리스트 레이블링 정제 전')\n",
    "# nouns 컬럼 --> 공백을 기준으로 나눠 리스트로 변환\n",
    "df_news_copy['nouns_title'][0].split(' ')\n",
    "for title_words in df_news_copy['nouns_title'][:4]:\n",
    "    print(list(title_words.split(' ')))"
   ]
  },
  {
   "cell_type": "code",
   "execution_count": 61,
   "id": "cffca0d9",
   "metadata": {
    "ExecuteTime": {
     "end_time": "2022-05-19T08:11:52.690058Z",
     "start_time": "2022-05-19T08:11:52.676097Z"
    }
   },
   "outputs": [
    {
     "name": "stdout",
     "output_type": "stream",
     "text": [
      "It is an alphabet\n"
     ]
    }
   ],
   "source": [
    "# # [-=+,#/\\?:^.@*\\\"※~ㆍ!』‘|\\(\\)\\[\\]`\\'…》\\”\\“\\’·◇②【】<>�→α&]\n",
    "import re\n",
    "word=\"↑\" # 테스트 용\n",
    "# 한글 / 대소문자 / 숫자만 확인\n",
    "reg = re.compile(r'[가-힣a-zA-Z0-9↑]') \n",
    "\n",
    "if reg.match(word):\n",
    "    print(\"It is an alphabet\")\n",
    "else:\n",
    "    print(\"It is not an alphabet\")"
   ]
  },
  {
   "cell_type": "code",
   "execution_count": 62,
   "id": "1ef84b09",
   "metadata": {
    "ExecuteTime": {
     "end_time": "2022-05-19T08:11:59.347249Z",
     "start_time": "2022-05-19T08:11:52.691056Z"
    }
   },
   "outputs": [
    {
     "data": {
      "text/html": [
       "<div>\n",
       "<style scoped>\n",
       "    .dataframe tbody tr th:only-of-type {\n",
       "        vertical-align: middle;\n",
       "    }\n",
       "\n",
       "    .dataframe tbody tr th {\n",
       "        vertical-align: top;\n",
       "    }\n",
       "\n",
       "    .dataframe thead th {\n",
       "        text-align: right;\n",
       "    }\n",
       "</style>\n",
       "<table border=\"1\" class=\"dataframe\">\n",
       "  <thead>\n",
       "    <tr style=\"text-align: right;\">\n",
       "      <th></th>\n",
       "      <th>date</th>\n",
       "      <th>year</th>\n",
       "      <th>month</th>\n",
       "      <th>day</th>\n",
       "      <th>title</th>\n",
       "      <th>nouns_title</th>\n",
       "      <th>press</th>\n",
       "      <th>contents</th>\n",
       "      <th>nouns_contents</th>\n",
       "      <th>label</th>\n",
       "    </tr>\n",
       "  </thead>\n",
       "  <tbody>\n",
       "    <tr>\n",
       "      <th>0</th>\n",
       "      <td>2021-05-01</td>\n",
       "      <td>2021</td>\n",
       "      <td>5</td>\n",
       "      <td>1</td>\n",
       "      <td>DGB대구은행, 은행권 중금리대출 실적 1위</td>\n",
       "      <td>DGB 대구 은행 은행권 금리 대출 실적 1위</td>\n",
       "      <td>글로벌이코노믹</td>\n",
       "      <td>DGB대구은행의 중금리대출 실적이 지방은행뿐만 아니라 은행권 전체에서 가장 많은 것...</td>\n",
       "      <td>DGB 대 구 은행 중 금리 대출 실적 지방 은행 뿐 만 아니다 은행권 전체 에서 ...</td>\n",
       "      <td>1</td>\n",
       "    </tr>\n",
       "    <tr>\n",
       "      <th>1</th>\n",
       "      <td>2021-05-01</td>\n",
       "      <td>2021</td>\n",
       "      <td>5</td>\n",
       "      <td>1</td>\n",
       "      <td>DGB대구은행, 어버이날 맞이 효(孝) 마스크 지원</td>\n",
       "      <td>DGB 대구 은행 어버이날 맞이 마스크 지원</td>\n",
       "      <td>경북신문</td>\n",
       "      <td>DGB대구은행(은행장 임성훈)은 다가오는 어버이날을 맞아 지역 내 방역취약계층 어르...</td>\n",
       "      <td>DGB 대 구 은행 은행 장 임성훈 다가오다 어버이날 을 맞다 지역 내 방역 취약 ...</td>\n",
       "      <td>1</td>\n",
       "    </tr>\n",
       "  </tbody>\n",
       "</table>\n",
       "</div>"
      ],
      "text/plain": [
       "        date  year  month  day                         title  \\\n",
       "0 2021-05-01  2021      5    1      DGB대구은행, 은행권 중금리대출 실적 1위   \n",
       "1 2021-05-01  2021      5    1  DGB대구은행, 어버이날 맞이 효(孝) 마스크 지원   \n",
       "\n",
       "                 nouns_title    press  \\\n",
       "0  DGB 대구 은행 은행권 금리 대출 실적 1위  글로벌이코노믹   \n",
       "1   DGB 대구 은행 어버이날 맞이 마스크 지원     경북신문   \n",
       "\n",
       "                                            contents  \\\n",
       "0  DGB대구은행의 중금리대출 실적이 지방은행뿐만 아니라 은행권 전체에서 가장 많은 것...   \n",
       "1  DGB대구은행(은행장 임성훈)은 다가오는 어버이날을 맞아 지역 내 방역취약계층 어르...   \n",
       "\n",
       "                                      nouns_contents  label  \n",
       "0  DGB 대 구 은행 중 금리 대출 실적 지방 은행 뿐 만 아니다 은행권 전체 에서 ...      1  \n",
       "1  DGB 대 구 은행 은행 장 임성훈 다가오다 어버이날 을 맞다 지역 내 방역 취약 ...      1  "
      ]
     },
     "execution_count": 62,
     "metadata": {},
     "output_type": "execute_result"
    }
   ],
   "source": [
    "import re\n",
    "# 1글자짜리 한글 한자 제거\n",
    "reg = re.compile(r'[가-힣a-zA-Z0-9↑]')\n",
    "def Chinese_character(x):\n",
    "    if reg.match(x): # 한글 / 대소문자 / 숫자\n",
    "        return False\n",
    "    else: # 한자\n",
    "        return True\n",
    "    \n",
    "for title_words in df_news_copy['nouns_title']: # xxx --> df_news_copy\n",
    "    ch_list = list(title_words.split(' '))\n",
    "    change_value = ''\n",
    "    for i in range(len(ch_list)):\n",
    "        if ch_list[i] == '↑' or ch_list[i] == 'A':\n",
    "            change_value += ch_list[i]\n",
    "            continue\n",
    "            \n",
    "        if len(ch_list[i]) < 2 or Chinese_character(ch_list[i]): # 1글자 이하 또는 함수내에 있다면 제거\n",
    "            continue\n",
    "        else:\n",
    "            change_value += ch_list[i]\n",
    "        \n",
    "        # 리스트 마지막 '' 제거\n",
    "        change_value += ' '\n",
    "    df_news_copy.replace({'nouns_title' : title_words}, change_value[:-1], inplace=True)\n",
    "    \n",
    "df_news_copy.head(2)"
   ]
  },
  {
   "cell_type": "code",
   "execution_count": 63,
   "id": "eb3cd751",
   "metadata": {
    "ExecuteTime": {
     "end_time": "2022-05-19T08:11:59.496848Z",
     "start_time": "2022-05-19T08:11:59.349245Z"
    }
   },
   "outputs": [],
   "source": [
    "# r_title.to_csv('news_data_preprocessing.csv')\n",
    "df_news_copy.to_csv('news_data_preprocessing.csv')"
   ]
  },
  {
   "cell_type": "markdown",
   "id": "9b5c1930",
   "metadata": {},
   "source": [
    "## Train Set / Test Set 분할\n",
    "\n",
    "- Train Set과 Test Set으로 분류 ( 7:3 )\n",
    "- train_test_split() 함수에서 shuffle / default option : True.\n",
    "- stratify 옵션 중요 !!\n",
    "- Pos : 개선 / Neg : 불만\n",
    "\n",
    "**참고 https://sosoeasy.tistory.com/488 / https://teddylee777.github.io/scikit-learn/train-test-split**"
   ]
  },
  {
   "cell_type": "code",
   "execution_count": 64,
   "id": "65ec654b",
   "metadata": {
    "ExecuteTime": {
     "end_time": "2022-05-19T08:12:00.199995Z",
     "start_time": "2022-05-19T08:11:59.497846Z"
    }
   },
   "outputs": [],
   "source": [
    "from sklearn.model_selection import train_test_split"
   ]
  },
  {
   "cell_type": "code",
   "execution_count": 65,
   "id": "67f472ef",
   "metadata": {
    "ExecuteTime": {
     "end_time": "2022-05-19T08:12:00.214956Z",
     "start_time": "2022-05-19T08:12:00.201004Z"
    }
   },
   "outputs": [],
   "source": [
    "# 필요한 데이터만 추출 / 컬럼명 변경\n",
    "# 70% / 30% 으로 분할\n",
    "x_train, x_test = train_test_split(df_news_copy.loc[:,['nouns_title', 'label']], test_size = 0.3, shuffle = True, random_state = 1234)"
   ]
  },
  {
   "cell_type": "code",
   "execution_count": 66,
   "id": "208d2cc1",
   "metadata": {
    "ExecuteTime": {
     "end_time": "2022-05-19T08:12:00.229915Z",
     "start_time": "2022-05-19T08:12:00.215965Z"
    }
   },
   "outputs": [],
   "source": [
    "# 인덱스 번호 새로 부여.\n",
    "x_train.reset_index(inplace=True)\n",
    "x_train.drop(['index'], axis=1, inplace=True)\n",
    "\n",
    "x_test.reset_index(inplace=True)\n",
    "x_test.drop(['index'], axis=1, inplace=True)"
   ]
  },
  {
   "cell_type": "code",
   "execution_count": 67,
   "id": "44ed751a",
   "metadata": {
    "ExecuteTime": {
     "end_time": "2022-05-19T08:12:00.244876Z",
     "start_time": "2022-05-19T08:12:00.230915Z"
    }
   },
   "outputs": [
    {
     "name": "stdout",
     "output_type": "stream",
     "text": [
      "<class 'pandas.core.frame.DataFrame'> <class 'pandas.core.frame.DataFrame'>\n"
     ]
    }
   ],
   "source": [
    "# 2개의 데이터 프레임 생성\n",
    "print(type(x_train), type(x_test))"
   ]
  },
  {
   "cell_type": "markdown",
   "id": "5108e893",
   "metadata": {},
   "source": [
    "### Train Set / Test Set 시각화 및 레이블 현황\n",
    "\n",
    "**참고 : isin() 문법 참고 : https://rfriend.tistory.com/460**"
   ]
  },
  {
   "cell_type": "code",
   "execution_count": 68,
   "id": "e4de1bff",
   "metadata": {
    "ExecuteTime": {
     "end_time": "2022-05-19T08:12:00.364527Z",
     "start_time": "2022-05-19T08:12:00.248869Z"
    }
   },
   "outputs": [
    {
     "name": "stderr",
     "output_type": "stream",
     "text": [
      "findfont: Font family ['NanumGothic'] not found. Falling back to DejaVu Sans.\n",
      "findfont: Font family ['NanumGothic'] not found. Falling back to DejaVu Sans.\n"
     ]
    },
    {
     "data": {
      "image/png": "[encoded data removed]",
      "text/plain": [
       "<Figure size 432x288 with 1 Axes>"
      ]
     },
     "metadata": {
      "needs_background": "light"
     },
     "output_type": "display_data"
    }
   ],
   "source": [
    "x_train['label'].value_counts().plot(kind='bar')\n",
    "plt.title('Train Set Label', size = 15)\n",
    "plt.show()"
   ]
  },
  {
   "cell_type": "code",
   "execution_count": 69,
   "id": "1e1a9e62",
   "metadata": {
    "ExecuteTime": {
     "end_time": "2022-05-19T08:12:00.454286Z",
     "start_time": "2022-05-19T08:12:00.366522Z"
    }
   },
   "outputs": [
    {
     "data": {
      "image/png": "[encoded data removed]",
      "text/plain": [
       "<Figure size 432x288 with 1 Axes>"
      ]
     },
     "metadata": {
      "needs_background": "light"
     },
     "output_type": "display_data"
    }
   ],
   "source": [
    "x_test['label'].value_counts().plot(kind='bar')\n",
    "plt.title('Test Set Label', size = 15)\n",
    "plt.show()"
   ]
  },
  {
   "cell_type": "code",
   "execution_count": 70,
   "id": "27b354d4",
   "metadata": {
    "ExecuteTime": {
     "end_time": "2022-05-19T08:12:00.469246Z",
     "start_time": "2022-05-19T08:12:00.455284Z"
    }
   },
   "outputs": [
    {
     "name": "stdout",
     "output_type": "stream",
     "text": [
      "Train_Set  긍정(1) : 3903 \n",
      "\t   중립(0) : 1960 \n",
      "\t   부정(-1) : 400 \n",
      "\t   총 합계 : 6263\n",
      "\n",
      "Test_Set   긍정(1) : 1664 \n",
      "\t   중립(0) : 854 \n",
      "\t   부정(-1) : 167 \n",
      "\t   총 합계 : 2685\n"
     ]
    }
   ],
   "source": [
    "# Train_Set 레이블 현황 갯수\n",
    "print('Train_Set  긍정(1) : {} \\n\\t   중립(0) : {} \\n\\t   부정(-1) : {} \\n\\t   총 합계 : {}'.format(len(x_train[x_train['label'].isin([1])]), len(x_train[x_train['label'].isin([0])]), len(x_train[x_train['label'].isin([-1])]), len(x_train)))\n",
    "print()\n",
    "# Test_Set 레이블 현황 갯수\n",
    "print('Test_Set   긍정(1) : {} \\n\\t   중립(0) : {} \\n\\t   부정(-1) : {} \\n\\t   총 합계 : {}'.format(len(x_test[x_test['label'].isin([1])]), len(x_test[x_test['label'].isin([0])]), len(x_test[x_test['label'].isin([-1])]), len(x_test)))"
   ]
  },
  {
   "cell_type": "markdown",
   "id": "8deeddd2",
   "metadata": {},
   "source": [
    "## Convert to two_dimensional list"
   ]
  },
  {
   "cell_type": "code",
   "execution_count": 71,
   "id": "6b757394",
   "metadata": {
    "ExecuteTime": {
     "end_time": "2022-05-19T08:12:00.484206Z",
     "start_time": "2022-05-19T08:12:00.470244Z"
    }
   },
   "outputs": [
    {
     "name": "stdout",
     "output_type": "stream",
     "text": [
      "6263 2685\n"
     ]
    }
   ],
   "source": [
    "print(len(x_train), len(x_test))"
   ]
  },
  {
   "cell_type": "code",
   "execution_count": 72,
   "id": "efbfed0d",
   "metadata": {
    "ExecuteTime": {
     "end_time": "2022-05-19T08:12:00.499166Z",
     "start_time": "2022-05-19T08:12:00.485204Z"
    }
   },
   "outputs": [
    {
     "data": {
      "text/html": [
       "<div>\n",
       "<style scoped>\n",
       "    .dataframe tbody tr th:only-of-type {\n",
       "        vertical-align: middle;\n",
       "    }\n",
       "\n",
       "    .dataframe tbody tr th {\n",
       "        vertical-align: top;\n",
       "    }\n",
       "\n",
       "    .dataframe thead th {\n",
       "        text-align: right;\n",
       "    }\n",
       "</style>\n",
       "<table border=\"1\" class=\"dataframe\">\n",
       "  <thead>\n",
       "    <tr style=\"text-align: right;\">\n",
       "      <th></th>\n",
       "      <th>nouns_title</th>\n",
       "      <th>label</th>\n",
       "    </tr>\n",
       "  </thead>\n",
       "  <tbody>\n",
       "    <tr>\n",
       "      <th>0</th>\n",
       "      <td>열대야 일수 맞추다 우대금리 DGB 대구 은행 프리 적금</td>\n",
       "      <td>0</td>\n",
       "    </tr>\n",
       "    <tr>\n",
       "      <th>1</th>\n",
       "      <td>DGB 대구 은행 국가 고객 만족도 NCSI 지방 은행 1위 선정</td>\n",
       "      <td>1</td>\n",
       "    </tr>\n",
       "    <tr>\n",
       "      <th>2</th>\n",
       "      <td>금융 안전 비대 강화 포스 크다 코로나 에도 상품 개발 워드</td>\n",
       "      <td>1</td>\n",
       "    </tr>\n",
       "    <tr>\n",
       "      <th>3</th>\n",
       "      <td>DGB 캐피탈 협업 플로우 도입 목표 지향 업무 환경 강화</td>\n",
       "      <td>1</td>\n",
       "    </tr>\n",
       "    <tr>\n",
       "      <th>4</th>\n",
       "      <td>DGB 대구 은행 전세 대출 금리 인하 취급 제한 해제</td>\n",
       "      <td>1</td>\n",
       "    </tr>\n",
       "    <tr>\n",
       "      <th>...</th>\n",
       "      <td>...</td>\n",
       "      <td>...</td>\n",
       "    </tr>\n",
       "    <tr>\n",
       "      <th>6258</th>\n",
       "      <td>DGB 대구 은행 대구 미술관 지역 문화 발전 업무 협약 체결</td>\n",
       "      <td>1</td>\n",
       "    </tr>\n",
       "    <tr>\n",
       "      <th>6259</th>\n",
       "      <td>DGB 금융 그룹 봉사 통해 코로나 19 자가진단 키트 원금 전달</td>\n",
       "      <td>1</td>\n",
       "    </tr>\n",
       "    <tr>\n",
       "      <th>6260</th>\n",
       "      <td>DGB 대구 은행 우대금리 적용 DGB 삼일절 적금 판매</td>\n",
       "      <td>0</td>\n",
       "    </tr>\n",
       "    <tr>\n",
       "      <th>6261</th>\n",
       "      <td>상품 DGB 대구 은행 언택트 카드</td>\n",
       "      <td>0</td>\n",
       "    </tr>\n",
       "    <tr>\n",
       "      <th>6262</th>\n",
       "      <td>대구 은행 6월 1일 지방선거 앞두다 선거 자금 통장 출시</td>\n",
       "      <td>1</td>\n",
       "    </tr>\n",
       "  </tbody>\n",
       "</table>\n",
       "<p>6263 rows × 2 columns</p>\n",
       "</div>"
      ],
      "text/plain": [
       "                               nouns_title  label\n",
       "0          열대야 일수 맞추다 우대금리 DGB 대구 은행 프리 적금      0\n",
       "1     DGB 대구 은행 국가 고객 만족도 NCSI 지방 은행 1위 선정      1\n",
       "2        금융 안전 비대 강화 포스 크다 코로나 에도 상품 개발 워드      1\n",
       "3         DGB 캐피탈 협업 플로우 도입 목표 지향 업무 환경 강화      1\n",
       "4           DGB 대구 은행 전세 대출 금리 인하 취급 제한 해제      1\n",
       "...                                    ...    ...\n",
       "6258    DGB 대구 은행 대구 미술관 지역 문화 발전 업무 협약 체결      1\n",
       "6259  DGB 금융 그룹 봉사 통해 코로나 19 자가진단 키트 원금 전달      1\n",
       "6260       DGB 대구 은행 우대금리 적용 DGB 삼일절 적금 판매      0\n",
       "6261                   상품 DGB 대구 은행 언택트 카드      0\n",
       "6262      대구 은행 6월 1일 지방선거 앞두다 선거 자금 통장 출시      1\n",
       "\n",
       "[6263 rows x 2 columns]"
      ]
     },
     "execution_count": 72,
     "metadata": {},
     "output_type": "execute_result"
    }
   ],
   "source": [
    "x_train"
   ]
  },
  {
   "cell_type": "code",
   "execution_count": 73,
   "id": "5ee14dcb",
   "metadata": {
    "ExecuteTime": {
     "end_time": "2022-05-19T08:12:00.514127Z",
     "start_time": "2022-05-19T08:12:00.500165Z"
    }
   },
   "outputs": [
    {
     "data": {
      "text/html": [
       "<div>\n",
       "<style scoped>\n",
       "    .dataframe tbody tr th:only-of-type {\n",
       "        vertical-align: middle;\n",
       "    }\n",
       "\n",
       "    .dataframe tbody tr th {\n",
       "        vertical-align: top;\n",
       "    }\n",
       "\n",
       "    .dataframe thead th {\n",
       "        text-align: right;\n",
       "    }\n",
       "</style>\n",
       "<table border=\"1\" class=\"dataframe\">\n",
       "  <thead>\n",
       "    <tr style=\"text-align: right;\">\n",
       "      <th></th>\n",
       "      <th>nouns_title</th>\n",
       "      <th>label</th>\n",
       "    </tr>\n",
       "  </thead>\n",
       "  <tbody>\n",
       "    <tr>\n",
       "      <th>0</th>\n",
       "      <td>지방 은행 ESG DGB 금융 그룹 친환경 디지털로 ESG 경영 속도</td>\n",
       "      <td>1</td>\n",
       "    </tr>\n",
       "    <tr>\n",
       "      <th>1</th>\n",
       "      <td>경북 희망 2022 나눔 캠페인 출범 모금 목표 137억</td>\n",
       "      <td>1</td>\n",
       "    </tr>\n",
       "    <tr>\n",
       "      <th>2</th>\n",
       "      <td>더밸류 금융 신한은행 우리은행 DGB 대구 은행 AI 자산 관리 판교 금융 센터</td>\n",
       "      <td>0</td>\n",
       "    </tr>\n",
       "    <tr>\n",
       "      <th>3</th>\n",
       "      <td>DGB 금융 정보보호 실천 캠페인</td>\n",
       "      <td>1</td>\n",
       "    </tr>\n",
       "    <tr>\n",
       "      <th>4</th>\n",
       "      <td>DGB 대구 은행 캄보디아 현지 법인 상업 은행 공식 출범</td>\n",
       "      <td>1</td>\n",
       "    </tr>\n",
       "    <tr>\n",
       "      <th>...</th>\n",
       "      <td>...</td>\n",
       "      <td>...</td>\n",
       "    </tr>\n",
       "    <tr>\n",
       "      <th>2680</th>\n",
       "      <td>DGB 금융 ESG 경영 협의 열사 모이다 실천 방안 논의</td>\n",
       "      <td>1</td>\n",
       "    </tr>\n",
       "    <tr>\n",
       "      <th>2681</th>\n",
       "      <td>DGB 대구 은행 러시아 경제 제재 피해 기업 1000억원 금융 지원 상환 유예 제도</td>\n",
       "      <td>0</td>\n",
       "    </tr>\n",
       "    <tr>\n",
       "      <th>2682</th>\n",
       "      <td>대구 은행 BC 카드 온라인 간편 결제 할인 이벤트 3만원 결제 5000원 할인</td>\n",
       "      <td>1</td>\n",
       "    </tr>\n",
       "    <tr>\n",
       "      <th>2683</th>\n",
       "      <td>DGB 대구 은행 1090억 규모 중간배당 실시 모두 금융 지주 지급</td>\n",
       "      <td>1</td>\n",
       "    </tr>\n",
       "    <tr>\n",
       "      <th>2684</th>\n",
       "      <td>금융 초록색 물결 녹색 금융 재다 걸음 그린 스완 막다</td>\n",
       "      <td>1</td>\n",
       "    </tr>\n",
       "  </tbody>\n",
       "</table>\n",
       "<p>2685 rows × 2 columns</p>\n",
       "</div>"
      ],
      "text/plain": [
       "                                          nouns_title  label\n",
       "0              지방 은행 ESG DGB 금융 그룹 친환경 디지털로 ESG 경영 속도      1\n",
       "1                     경북 희망 2022 나눔 캠페인 출범 모금 목표 137억      1\n",
       "2        더밸류 금융 신한은행 우리은행 DGB 대구 은행 AI 자산 관리 판교 금융 센터      0\n",
       "3                                  DGB 금융 정보보호 실천 캠페인      1\n",
       "4                    DGB 대구 은행 캄보디아 현지 법인 상업 은행 공식 출범      1\n",
       "...                                               ...    ...\n",
       "2680                 DGB 금융 ESG 경영 협의 열사 모이다 실천 방안 논의      1\n",
       "2681  DGB 대구 은행 러시아 경제 제재 피해 기업 1000억원 금융 지원 상환 유예 제도      0\n",
       "2682     대구 은행 BC 카드 온라인 간편 결제 할인 이벤트 3만원 결제 5000원 할인      1\n",
       "2683           DGB 대구 은행 1090억 규모 중간배당 실시 모두 금융 지주 지급      1\n",
       "2684                   금융 초록색 물결 녹색 금융 재다 걸음 그린 스완 막다      1\n",
       "\n",
       "[2685 rows x 2 columns]"
      ]
     },
     "execution_count": 73,
     "metadata": {},
     "output_type": "execute_result"
    }
   ],
   "source": [
    "x_test"
   ]
  },
  {
   "cell_type": "code",
   "execution_count": 74,
   "id": "7c28a784",
   "metadata": {
    "ExecuteTime": {
     "end_time": "2022-05-19T08:12:00.529087Z",
     "start_time": "2022-05-19T08:12:00.515125Z"
    }
   },
   "outputs": [],
   "source": [
    "# 리스트로 변환 후 체크 \n",
    "# 6263\n",
    "x_train_words = list()\n",
    "for title_words in x_train['nouns_title']:\n",
    "    x_train_words.append(list(title_words.split(' ')))\n",
    "\n",
    "# 2685\n",
    "x_test_words = list()\n",
    "for title_words in x_test['nouns_title']:\n",
    "    x_test_words.append(list(title_words.split(' ')))"
   ]
  },
  {
   "cell_type": "code",
   "execution_count": 75,
   "id": "4e1edef7",
   "metadata": {
    "ExecuteTime": {
     "end_time": "2022-05-19T08:12:00.544047Z",
     "start_time": "2022-05-19T08:12:00.530084Z"
    }
   },
   "outputs": [
    {
     "name": "stdout",
     "output_type": "stream",
     "text": [
      "[['열대야', '일수', '맞추다', '우대금리', 'DGB', '대구', '은행', '프리', '적금'], ['DGB', '대구', '은행', '국가', '고객', '만족도', 'NCSI', '지방', '은행', '1위', '선정'], ['금융', '안전', '비대', '강화', '포스', '크다', '코로나', '에도', '상품', '개발', '워드']]\n"
     ]
    }
   ],
   "source": [
    "print(x_train_words[:3])"
   ]
  },
  {
   "cell_type": "code",
   "execution_count": 76,
   "id": "bb2ae334",
   "metadata": {
    "ExecuteTime": {
     "end_time": "2022-05-19T08:12:00.559006Z",
     "start_time": "2022-05-19T08:12:00.545044Z"
    }
   },
   "outputs": [
    {
     "name": "stdout",
     "output_type": "stream",
     "text": [
      "[['지방', '은행', 'ESG', 'DGB', '금융', '그룹', '친환경', '디지털로', 'ESG', '경영', '속도'], ['경북', '희망', '2022', '나눔', '캠페인', '출범', '모금', '목표', '137억'], ['더밸류', '금융', '신한은행', '우리은행', 'DGB', '대구', '은행', 'AI', '자산', '관리', '판교', '금융', '센터']]\n"
     ]
    }
   ],
   "source": [
    "print(x_test_words[:3])"
   ]
  },
  {
   "cell_type": "markdown",
   "id": "63a2d286",
   "metadata": {},
   "source": [
    "## Integer Encoding\n",
    "- 토큰화 한 단어를 컴퓨터가 인식하도록 정수 인코딩 수행"
   ]
  },
  {
   "cell_type": "code",
   "execution_count": 77,
   "id": "1ec75d4a",
   "metadata": {
    "ExecuteTime": {
     "end_time": "2022-05-19T08:12:08.670203Z",
     "start_time": "2022-05-19T08:12:00.560004Z"
    }
   },
   "outputs": [],
   "source": [
    "from keras.preprocessing.text import Tokenizer"
   ]
  },
  {
   "cell_type": "code",
   "execution_count": 78,
   "id": "900b495f",
   "metadata": {
    "ExecuteTime": {
     "end_time": "2022-05-19T08:12:08.730043Z",
     "start_time": "2022-05-19T08:12:08.671200Z"
    }
   },
   "outputs": [],
   "source": [
    "tokenizer = Tokenizer()\n",
    "tokenizer.fit_on_texts(x_train_words)\n",
    "tokenizer.fit_on_texts(x_test_words)"
   ]
  },
  {
   "cell_type": "code",
   "execution_count": 79,
   "id": "a0344a80",
   "metadata": {
    "ExecuteTime": {
     "end_time": "2022-05-19T08:12:08.759963Z",
     "start_time": "2022-05-19T08:12:08.731041Z"
    }
   },
   "outputs": [],
   "source": [
    "x_train_int = tokenizer.texts_to_sequences(x_train_words)"
   ]
  },
  {
   "cell_type": "code",
   "execution_count": 80,
   "id": "9361a354",
   "metadata": {
    "ExecuteTime": {
     "end_time": "2022-05-19T08:12:08.774924Z",
     "start_time": "2022-05-19T08:12:08.760961Z"
    }
   },
   "outputs": [],
   "source": [
    "x_test_int = tokenizer.texts_to_sequences(x_test_words)"
   ]
  },
  {
   "cell_type": "code",
   "execution_count": 81,
   "id": "dd01a020",
   "metadata": {
    "ExecuteTime": {
     "end_time": "2022-05-19T08:12:08.789883Z",
     "start_time": "2022-05-19T08:12:08.775921Z"
    }
   },
   "outputs": [
    {
     "name": "stdout",
     "output_type": "stream",
     "text": [
      "[[566, 667, 567, 219, 1, 3, 2, 337, 67], [1, 3, 2, 380, 24, 422, 1098, 11, 2, 226, 262], [4, 493, 20, 146, 3016, 547, 59, 478, 54, 108, 1465]]\n"
     ]
    }
   ],
   "source": [
    "print(x_train_int[:3])"
   ]
  },
  {
   "cell_type": "code",
   "execution_count": 82,
   "id": "5bd27ea7",
   "metadata": {
    "ExecuteTime": {
     "end_time": "2022-05-19T08:12:08.804844Z",
     "start_time": "2022-05-19T08:12:08.790882Z"
    }
   },
   "outputs": [
    {
     "name": "stdout",
     "output_type": "stream",
     "text": [
      "[[11, 2, 19, 1, 4, 5, 103, 1976, 19, 22, 546], [17, 141, 99, 40, 66, 104, 1512, 494, 1184], [1773, 4, 811, 403, 1, 3, 2, 228, 252, 60, 4601, 4, 23]]\n"
     ]
    }
   ],
   "source": [
    "print(x_test_int[:3])"
   ]
  },
  {
   "cell_type": "markdown",
   "id": "03c5a0f7",
   "metadata": {},
   "source": [
    "## 제목 길이 기준 분포 확인"
   ]
  },
  {
   "cell_type": "code",
   "execution_count": 83,
   "id": "dee97738",
   "metadata": {
    "ExecuteTime": {
     "end_time": "2022-05-19T08:12:08.969403Z",
     "start_time": "2022-05-19T08:12:08.805842Z"
    },
    "scrolled": true
   },
   "outputs": [
    {
     "name": "stdout",
     "output_type": "stream",
     "text": [
      "제목의 최대 길이(단어의 수) : 15\n",
      "제목의 평균 길이 : 9\n"
     ]
    },
    {
     "data": {
      "image/png": "[encoded data removed]",
      "text/plain": [
       "<Figure size 576x288 with 1 Axes>"
      ]
     },
     "metadata": {
      "needs_background": "light"
     },
     "output_type": "display_data"
    }
   ],
   "source": [
    "print('제목의 최대 길이(단어의 수) :', max([(len(i)) for i in x_train_int]))\n",
    "print('제목의 평균 길이 :', sum([len(i) for i in x_train_int]) // len(x_train_int))\n",
    "plt.figure(figsize = (8, 4))\n",
    "plt.hist([len(i) for i in x_train_int], bins=40)\n",
    "plt.xlabel('length fo Data')\n",
    "plt.ylabel('number fo Data')\n",
    "plt.show()"
   ]
  },
  {
   "cell_type": "code",
   "execution_count": 84,
   "id": "0f3e8d7f",
   "metadata": {
    "ExecuteTime": {
     "end_time": "2022-05-19T08:12:09.119002Z",
     "start_time": "2022-05-19T08:12:08.970402Z"
    }
   },
   "outputs": [
    {
     "name": "stdout",
     "output_type": "stream",
     "text": [
      "제목의 최대 길이(단어의 수) : 15\n",
      "제목의 평균 길이 : 9\n"
     ]
    },
    {
     "data": {
      "image/png": "[encoded data removed]",
      "text/plain": [
       "<Figure size 576x288 with 1 Axes>"
      ]
     },
     "metadata": {
      "needs_background": "light"
     },
     "output_type": "display_data"
    }
   ],
   "source": [
    "print('제목의 최대 길이(단어의 수) :', max([(len(i)) for i in x_test_int]))\n",
    "print('제목의 평균 길이 :', sum([len(i) for i in x_test_int]) // len(x_test_int))\n",
    "plt.figure(figsize = (8, 4))\n",
    "plt.hist([len(i) for i in x_test_int], bins=40)\n",
    "plt.xlabel('length fo Data')\n",
    "plt.ylabel('number fo Data')\n",
    "plt.show()"
   ]
  },
  {
   "cell_type": "markdown",
   "id": "f8dbcd86",
   "metadata": {},
   "source": [
    "## Padding\n",
    "\n",
    "- 길이를 길게 잡으면 학습 시간이 오래 걸림 --> 데이터 손실 최소화 + 효율성\n",
    "- 데이터가 비교적 적은 부분은 패딩으로 처리하는게 좋음.\n",
    "- maxlen의 인자로 정수를 주면, 해당 정수로 모든 문서의 길이를 동일\n",
    "\n",
    "**Ex) 길이가 5인 리스트가 있다면 5보다 작은 인덱스 값들은 0으로 패딩되고 5보다 큰 인덱스들은 즉, 6번째 인덱스부터는 데이터가 손실됨.**<br><br>\n",
    "**참고<br> https://wikidocs.net/83544 (2/5 지점)<br>http://www.nextobe.com/2020/05/14/%EA%B0%80%EB%B3%80-%EA%B8%B8%EC%9D%B4-%EC%9E%85%EB%A0%A5-%EC%8B%9C%ED%80%80%EC%8A%A4%EC%97%90-%EB%8C%80%ED%95%9C-%EB%8D%B0%EC%9D%B4%ED%84%B0-%EC%A4%80%EB%B9%84/<br>https://sig413.tistory.com/5**"
   ]
  },
  {
   "cell_type": "code",
   "execution_count": 85,
   "id": "1678809f",
   "metadata": {
    "ExecuteTime": {
     "end_time": "2022-05-19T08:12:09.298522Z",
     "start_time": "2022-05-19T08:12:09.120001Z"
    }
   },
   "outputs": [],
   "source": [
    "from tensorflow.keras.preprocessing.sequence import pad_sequences"
   ]
  },
  {
   "cell_type": "code",
   "execution_count": 86,
   "id": "4f951c81",
   "metadata": {
    "ExecuteTime": {
     "end_time": "2022-05-19T08:12:09.313482Z",
     "start_time": "2022-05-19T08:12:09.299519Z"
    }
   },
   "outputs": [],
   "source": [
    "# 각 인덱스 길이대로 정렬\n",
    "x_train_int.sort(key=lambda x:len(x),reverse = True)\n",
    "x_test_int.sort(key=lambda x:len(x),reverse = True)"
   ]
  },
  {
   "cell_type": "code",
   "execution_count": 87,
   "id": "1943429c",
   "metadata": {
    "ExecuteTime": {
     "end_time": "2022-05-19T08:12:09.328442Z",
     "start_time": "2022-05-19T08:12:09.314480Z"
    }
   },
   "outputs": [],
   "source": [
    "def limit_len(front, back, reset_list):\n",
    "    cnt = 0\n",
    "    for s in reset_list:\n",
    "        # if (front <= len(s) <= back):\n",
    "        if len(s) <= back:\n",
    "            cnt += 1\n",
    "    print('전체 학습 데이터 중 길이가 {} 이상 {} 이하인 비율 : {:.2f}%'.format(front, back,( cnt / len(x_train_int)) * 100))"
   ]
  },
  {
   "cell_type": "code",
   "execution_count": 88,
   "id": "ef2d71cd",
   "metadata": {
    "ExecuteTime": {
     "end_time": "2022-05-19T08:12:09.343402Z",
     "start_time": "2022-05-19T08:12:09.329441Z"
    }
   },
   "outputs": [
    {
     "name": "stdout",
     "output_type": "stream",
     "text": [
      "전체 학습 데이터 중 길이가 4 이상 14 이하인 비율 : 99.81%\n"
     ]
    }
   ],
   "source": [
    "# min_len = 4 / max_len = 14\n",
    "# 앞선 제목의 평균 길이 그래프를 보면 ( 4 <= idx_num <= 14 ) 범위를 벗어난 인덱스들은 데이터가 현저히 적음.\n",
    "limit_len(4, 14, x_train_int)"
   ]
  },
  {
   "cell_type": "markdown",
   "id": "9f34a4e2",
   "metadata": {},
   "source": [
    "**일단 14이하인 것만 패딩 --> 나중에 시간되면 4이상 14이하인 부분만 패딩하도록 전처리 필요**\n",
    "<br>\n",
    "**pad_sequences post / defalut로 각각 한번씩 해주면 됨.**"
   ]
  },
  {
   "cell_type": "code",
   "execution_count": 89,
   "id": "061d9fbc",
   "metadata": {
    "ExecuteTime": {
     "end_time": "2022-05-19T08:12:09.358363Z",
     "start_time": "2022-05-19T08:12:09.344400Z"
    }
   },
   "outputs": [],
   "source": [
    "max_len = 14"
   ]
  },
  {
   "cell_type": "code",
   "execution_count": 90,
   "id": "d51860a0",
   "metadata": {
    "ExecuteTime": {
     "end_time": "2022-05-19T08:12:09.388283Z",
     "start_time": "2022-05-19T08:12:09.359360Z"
    }
   },
   "outputs": [],
   "source": [
    "x_train_final = pad_sequences(x_train_int, maxlen = max_len)"
   ]
  },
  {
   "cell_type": "code",
   "execution_count": 91,
   "id": "d561fac2",
   "metadata": {
    "ExecuteTime": {
     "end_time": "2022-05-19T08:12:09.403242Z",
     "start_time": "2022-05-19T08:12:09.389280Z"
    }
   },
   "outputs": [],
   "source": [
    "x_test_final = pad_sequences(x_test_int, maxlen = max_len)"
   ]
  },
  {
   "cell_type": "markdown",
   "id": "67e48044",
   "metadata": {},
   "source": [
    "## One-Hot-Encoding\n",
    "\n",
    "- 단어 집합의 크기를 벡터로 변환하고, 표현하고 싶은 단어 인덱스에 1의 값 부여하고, 다른 인덱스는 0을 부여하는 단어의 벡터 표현 방식\n",
    "- 즉, 1개만 Hot(True)이고 나머지는 Cold(False)\n",
    "\n",
    "※ 벡터 (1차원)  /  행렬 (2차원)  /  배열 (3차원)  /  텐서 (3차원 이상)\n",
    "<br>\n",
    "<br>\n",
    "**참고 : https://godcode.tistory.com/9?category=908926**"
   ]
  },
  {
   "cell_type": "code",
   "execution_count": 92,
   "id": "984df717",
   "metadata": {
    "ExecuteTime": {
     "end_time": "2022-05-19T08:12:09.433162Z",
     "start_time": "2022-05-19T08:12:09.404241Z"
    }
   },
   "outputs": [
    {
     "data": {
      "text/plain": [
       "{'dgb': 1,\n",
       " '은행': 2,\n",
       " '대구': 3,\n",
       " '금융': 4,\n",
       " '그룹': 5,\n",
       " '대출': 6,\n",
       " '지원': 7,\n",
       " '지역': 8,\n",
       " '버스': 9,\n",
       " '메타': 10,\n",
       " '지방': 11,\n",
       " '실시': 12,\n",
       " '개최': 13,\n",
       " '전달': 14,\n",
       " '기업': 15,\n",
       " '사랑': 16,\n",
       " '경북': 17,\n",
       " '투자': 18,\n",
       " 'esg': 19,\n",
       " '비대': 20,\n",
       " '협약': 21,\n",
       " '경영': 22,\n",
       " '센터': 23,\n",
       " '고객': 24,\n",
       " '업무': 25,\n",
       " '서비스': 26,\n",
       " '김태오': 27,\n",
       " '최대': 28,\n",
       " '채용': 29,\n",
       " '증권': 30,\n",
       " '카드': 31,\n",
       " '디지털': 32,\n",
       " '회장': 33,\n",
       " '출시': 34,\n",
       " '모집': 35,\n",
       " '이벤트': 36,\n",
       " '전문': 37,\n",
       " '특별': 38,\n",
       " '캄보디아': 39,\n",
       " '나눔': 40,\n",
       " '신용': 41,\n",
       " '금리': 42,\n",
       " '역대': 43,\n",
       " '직원': 44,\n",
       " '점포': 45,\n",
       " '자금': 46,\n",
       " '실적': 47,\n",
       " '하이': 48,\n",
       " '피해': 49,\n",
       " '오픈': 50,\n",
       " '주년': 51,\n",
       " '기념': 52,\n",
       " '순이익': 53,\n",
       " '상품': 54,\n",
       " '지주': 55,\n",
       " '2021': 56,\n",
       " '임성훈': 57,\n",
       " '실천': 58,\n",
       " '코로나': 59,\n",
       " '관리': 60,\n",
       " '복합': 61,\n",
       " '공인': 62,\n",
       " '산업': 63,\n",
       " '상반기': 64,\n",
       " '은행권': 65,\n",
       " '캠페인': 66,\n",
       " '적금': 67,\n",
       " 'im': 68,\n",
       " '행사': 69,\n",
       " '맞다': 70,\n",
       " '확대': 71,\n",
       " '인사': 72,\n",
       " '창립': 73,\n",
       " '독도': 74,\n",
       " '체결': 75,\n",
       " '소상': 76,\n",
       " '전세': 77,\n",
       " '대다': 78,\n",
       " '주택': 79,\n",
       " '진행': 80,\n",
       " '계층': 81,\n",
       " '뱅크': 82,\n",
       " '종합': 83,\n",
       " '신입': 84,\n",
       " '할인': 85,\n",
       " '페이': 86,\n",
       " '까지': 87,\n",
       " '산불': 88,\n",
       " '플랫폼': 89,\n",
       " '전국': 90,\n",
       " '담보': 91,\n",
       " '활성화': 92,\n",
       " '취약': 93,\n",
       " '소식': 94,\n",
       " '뇌물': 95,\n",
       " '후원': 96,\n",
       " '보증': 97,\n",
       " '행복': 98,\n",
       " '2022': 99,\n",
       " '구매': 100,\n",
       " '성금': 101,\n",
       " 'bc': 102,\n",
       " '친환경': 103,\n",
       " '출범': 104,\n",
       " '재단': 105,\n",
       " '하반기': 106,\n",
       " '부동산': 107,\n",
       " '개발': 108,\n",
       " '영업': 109,\n",
       " '인증': 110,\n",
       " '모바일': 111,\n",
       " '부산': 112,\n",
       " '19': 113,\n",
       " '10': 114,\n",
       " '세대': 115,\n",
       " '사회': 116,\n",
       " '판매': 117,\n",
       " '사업': 118,\n",
       " '차량': 119,\n",
       " '혐의': 120,\n",
       " 'irp': 121,\n",
       " '돌파': 122,\n",
       " '대구시': 123,\n",
       " '3분': 124,\n",
       " 'dignity': 125,\n",
       " '맞이': 126,\n",
       " '혁신': 127,\n",
       " '대상': 128,\n",
       " 'mz': 129,\n",
       " '데이터': 130,\n",
       " '구미': 131,\n",
       " '문화': 132,\n",
       " '이웃': 133,\n",
       " '열사': 134,\n",
       " '2021년': 135,\n",
       " '추석': 136,\n",
       " 'ceo': 137,\n",
       " '카카오': 138,\n",
       " '원금': 139,\n",
       " '중소기업': 140,\n",
       " '희망': 141,\n",
       " '육성': 142,\n",
       " '대회': 143,\n",
       " '담비': 144,\n",
       " '지점': 145,\n",
       " '강화': 146,\n",
       " '소통': 147,\n",
       " '경제': 148,\n",
       " '신탁': 149,\n",
       " '계좌': 150,\n",
       " '검찰': 151,\n",
       " '에서': 152,\n",
       " '청구': 153,\n",
       " '공개': 154,\n",
       " '방문': 155,\n",
       " '기소': 156,\n",
       " '수수료': 157,\n",
       " '가입': 158,\n",
       " '1분': 159,\n",
       " '경품': 160,\n",
       " '결제': 161,\n",
       " '사고': 162,\n",
       " '54': 163,\n",
       " '최초': 164,\n",
       " '본점': 165,\n",
       " '캐시': 166,\n",
       " '공모전': 167,\n",
       " '활용': 168,\n",
       " '도시락': 169,\n",
       " '아동': 170,\n",
       " '상공': 171,\n",
       " '통장': 172,\n",
       " '나서다': 173,\n",
       " '얼굴': 174,\n",
       " '편의점': 175,\n",
       " '대학생': 176,\n",
       " '12': 177,\n",
       " '부터': 178,\n",
       " '발간': 179,\n",
       " '상생': 180,\n",
       " '활동': 181,\n",
       " '기획': 182,\n",
       " '특판': 183,\n",
       " '박람회': 184,\n",
       " '시행': 185,\n",
       " '포항': 186,\n",
       " '비교': 187,\n",
       " '올해': 188,\n",
       " '공식': 189,\n",
       " '장기': 190,\n",
       " '울진': 191,\n",
       " '사내변호사': 192,\n",
       " '동참': 193,\n",
       " '면제': 194,\n",
       " '누적': 195,\n",
       " '봉사': 196,\n",
       " '동시': 197,\n",
       " '휴가': 198,\n",
       " '어깨동무': 199,\n",
       " '되다': 200,\n",
       " '마이': 201,\n",
       " '개다': 202,\n",
       " '압수수색': 203,\n",
       " '달성': 204,\n",
       " '세미나': 205,\n",
       " '시스템': 206,\n",
       " '무료': 207,\n",
       " '마케팅': 208,\n",
       " '증권사': 209,\n",
       " '조회': 210,\n",
       " '관련': 211,\n",
       " '기술': 212,\n",
       " '현지': 213,\n",
       " '최고': 214,\n",
       " '은행가': 215,\n",
       " '유예': 216,\n",
       " '리스크': 217,\n",
       " '구축': 218,\n",
       " '우대금리': 219,\n",
       " '계약': 220,\n",
       " '증가': 221,\n",
       " '': 222,\n",
       " '규모': 223,\n",
       " '장학금': 224,\n",
       " '담대': 225,\n",
       " '1위': 226,\n",
       " '상담': 227,\n",
       " 'ai': 228,\n",
       " '위해': 229,\n",
       " '협의': 230,\n",
       " '확인': 231,\n",
       " '자동차': 232,\n",
       " '스타트업': 233,\n",
       " '수도권': 234,\n",
       " '열다': 235,\n",
       " '고도화': 236,\n",
       " '분석': 237,\n",
       " '정보보호': 238,\n",
       " '시중': 239,\n",
       " '노조': 240,\n",
       " '경력': 241,\n",
       " '받다': 242,\n",
       " '추진': 243,\n",
       " '전략': 244,\n",
       " '장애인': 245,\n",
       " '상업': 246,\n",
       " '실명': 247,\n",
       " '홍보': 248,\n",
       " '청년': 249,\n",
       " '개인': 250,\n",
       " '보다': 251,\n",
       " '자산': 252,\n",
       " '눈길': 253,\n",
       " '전망': 254,\n",
       " '피우다': 255,\n",
       " '이상': 256,\n",
       " '장학': 257,\n",
       " '여의도': 258,\n",
       " '삼계탕': 259,\n",
       " '테크': 260,\n",
       " '가능': 261,\n",
       " '선정': 262,\n",
       " '제공': 263,\n",
       " '지부': 264,\n",
       " '법인': 265,\n",
       " '개월': 266,\n",
       " '문화재단': 267,\n",
       " '평가': 268,\n",
       " '수시': 269,\n",
       " '개설': 270,\n",
       " '전액': 271,\n",
       " '배포': 272,\n",
       " '개선': 273,\n",
       " '세븐일레븐': 274,\n",
       " '도청': 275,\n",
       " '대사': 276,\n",
       " '확장': 277,\n",
       " '수익': 278,\n",
       " '공채': 279,\n",
       " '증정': 280,\n",
       " '찾다': 281,\n",
       " '함께': 282,\n",
       " '창업': 283,\n",
       " '회의': 284,\n",
       " '지난해': 285,\n",
       " '기반': 286,\n",
       " '채널': 287,\n",
       " '해외': 288,\n",
       " 'mou': 289,\n",
       " '온누리상품권': 290,\n",
       " '교체': 291,\n",
       " '도입': 292,\n",
       " '의료': 293,\n",
       " '기부': 294,\n",
       " '1조원': 295,\n",
       " '변호사': 296,\n",
       " '부방': 297,\n",
       " '대금': 298,\n",
       " '환전': 299,\n",
       " '취급': 300,\n",
       " '제한': 301,\n",
       " '들다': 302,\n",
       " 'bnk': 303,\n",
       " '이전': 304,\n",
       " '계단': 305,\n",
       " '포럼': 306,\n",
       " '브리핑': 307,\n",
       " '국제': 308,\n",
       " '인상': 309,\n",
       " '더벨': 310,\n",
       " '성악': 311,\n",
       " '빅데이터': 312,\n",
       " '글로벌': 313,\n",
       " '한도': 314,\n",
       " '달러': 315,\n",
       " '가족': 316,\n",
       " '안면': 317,\n",
       " '발대식': 318,\n",
       " '오다': 319,\n",
       " '농협': 320,\n",
       " '퇴직': 321,\n",
       " '생활': 322,\n",
       " '베스트': 323,\n",
       " '적용': 324,\n",
       " '콩쿠르': 325,\n",
       " '백년': 326,\n",
       " '플러스': 327,\n",
       " '전용': 328,\n",
       " '포항시': 329,\n",
       " '제재': 330,\n",
       " '프로모션': 331,\n",
       " '호점': 332,\n",
       " '오르다': 333,\n",
       " '연속': 334,\n",
       " '5031억': 335,\n",
       " '저축은행': 336,\n",
       " '프리': 337,\n",
       " '인하': 338,\n",
       " '해제': 339,\n",
       " '채다': 340,\n",
       " 'kt': 341,\n",
       " '있다': 342,\n",
       " '전시회': 343,\n",
       " '성장': 344,\n",
       " '전면': 345,\n",
       " '증시': 346,\n",
       " '거래': 347,\n",
       " '배달': 348,\n",
       " '비즈니스': 349,\n",
       " '린지': 350,\n",
       " '백신': 351,\n",
       " '맛집': 352,\n",
       " '통해': 353,\n",
       " '상공회의소': 354,\n",
       " '시즌': 355,\n",
       " '인식': 356,\n",
       " '컨설팅': 357,\n",
       " '남구청': 358,\n",
       " '없다': 359,\n",
       " '재테크': 360,\n",
       " '디그': 361,\n",
       " '서민': 362,\n",
       " '봉사활동': 363,\n",
       " '동행': 364,\n",
       " '비리': 365,\n",
       " '물품': 366,\n",
       " '한시': 367,\n",
       " '10월': 368,\n",
       " '분기': 369,\n",
       " '박스': 370,\n",
       " '키트': 371,\n",
       " '대비': 372,\n",
       " 'sns': 373,\n",
       " '온라인': 374,\n",
       " '환율': 375,\n",
       " '구제': 376,\n",
       " '전환': 377,\n",
       " '외화': 378,\n",
       " '4175억': 379,\n",
       " '국가': 380,\n",
       " '가상': 381,\n",
       " '챗봇': 382,\n",
       " '비상': 383,\n",
       " '홍보단': 384,\n",
       " '펀드': 385,\n",
       " '여름': 386,\n",
       " '획득': 387,\n",
       " '미래': 388,\n",
       " '미술관': 389,\n",
       " '마스크': 390,\n",
       " '미팅': 391,\n",
       " '인력': 392,\n",
       " '한국': 393,\n",
       " '5000억원': 394,\n",
       " '협력': 395,\n",
       " '추첨': 396,\n",
       " '부문': 397,\n",
       " '확산': 398,\n",
       " '저축': 399,\n",
       " '협업': 400,\n",
       " '간담': 401,\n",
       " '혜민': 402,\n",
       " '우리은행': 403,\n",
       " 'wm': 404,\n",
       " '광복절': 405,\n",
       " '내다': 406,\n",
       " '연탄': 407,\n",
       " '라이프': 408,\n",
       " '파킹': 409,\n",
       " '이자': 410,\n",
       " '청약': 411,\n",
       " '톡톡': 412,\n",
       " '노동조합': 413,\n",
       " '다운로드': 414,\n",
       " 'ict': 415,\n",
       " '착수': 416,\n",
       " '숨맛꼭질': 417,\n",
       " '러시아': 418,\n",
       " '20': 419,\n",
       " '수익률': 420,\n",
       " '남편': 421,\n",
       " '만족도': 422,\n",
       " '환경': 423,\n",
       " '연말': 424,\n",
       " '미거': 425,\n",
       " '하나': 426,\n",
       " '자영': 427,\n",
       " '업자': 428,\n",
       " '어버이날': 429,\n",
       " '에너지': 430,\n",
       " '시상식': 431,\n",
       " '창구': 432,\n",
       " '넘다': 433,\n",
       " '삼일절': 434,\n",
       " '보고서': 435,\n",
       " '잡다': 436,\n",
       " '시대': 437,\n",
       " '설명': 438,\n",
       " '위반': 439,\n",
       " '비용': 440,\n",
       " '푸르지오': 441,\n",
       " '에듀': 442,\n",
       " '포레': 443,\n",
       " '감정평가사': 444,\n",
       " '헌혈': 445,\n",
       " '앤디': 446,\n",
       " '일기': 447,\n",
       " '도곡': 448,\n",
       " '개점': 449,\n",
       " '삼척': 450,\n",
       " '사진전': 451,\n",
       " '뉴딜': 452,\n",
       " '음악회': 453,\n",
       " '지진': 454,\n",
       " '재건축': 455,\n",
       " '본격': 456,\n",
       " '예방': 457,\n",
       " '기프티콘': 458,\n",
       " '방지법': 459,\n",
       " '선거': 460,\n",
       " '번째': 461,\n",
       " '2022년': 462,\n",
       " '상품권': 463,\n",
       " '47%': 464,\n",
       " '100': 465,\n",
       " '기탁': 466,\n",
       " '52': 467,\n",
       " '생명': 468,\n",
       " 'uxui': 469,\n",
       " '가정': 470,\n",
       " '경남': 471,\n",
       " '작년': 472,\n",
       " '규제': 473,\n",
       " '성과': 474,\n",
       " '경쟁': 475,\n",
       " '지구': 476,\n",
       " '신혼부부': 477,\n",
       " '에도': 478,\n",
       " '13': 479,\n",
       " '접종': 480,\n",
       " '부점': 481,\n",
       " '멘토링': 482,\n",
       " '수상': 483,\n",
       " '참석': 484,\n",
       " '극복': 485,\n",
       " '운영': 486,\n",
       " '공동': 487,\n",
       " '가게': 488,\n",
       " '클라우드': 489,\n",
       " '빌라': 490,\n",
       " '대면': 491,\n",
       " '프로젝트': 492,\n",
       " '안전': 493,\n",
       " '목표': 494,\n",
       " '공헌': 495,\n",
       " '정기예금': 496,\n",
       " '브로커': 497,\n",
       " '제작': 498,\n",
       " '탄소': 499,\n",
       " '1622억': 500,\n",
       " '외식': 501,\n",
       " '횡령': 502,\n",
       " '간부': 503,\n",
       " 'nie': 504,\n",
       " '연금': 505,\n",
       " '인재': 506,\n",
       " '간편': 507,\n",
       " '유튜브': 508,\n",
       " '키우다': 509,\n",
       " '사이버': 510,\n",
       " '우수': 511,\n",
       " '호실': 512,\n",
       " '프로그램': 513,\n",
       " '당선': 514,\n",
       " 'growup': 515,\n",
       " '유언': 516,\n",
       " '대용': 517,\n",
       " '사상': 518,\n",
       " '다양하다': 519,\n",
       " '주요': 520,\n",
       " '본부': 521,\n",
       " '등록': 522,\n",
       " '공단': 523,\n",
       " '에게': 524,\n",
       " '대동': 525,\n",
       " '부인': 526,\n",
       " '분양': 527,\n",
       " '박차': 528,\n",
       " '발전': 529,\n",
       " '윤리경영': 530,\n",
       " '역량': 531,\n",
       " '6월': 532,\n",
       " '시작': 533,\n",
       " '리테일': 534,\n",
       " '설날': 535,\n",
       " '어르신': 536,\n",
       " '만에': 537,\n",
       " '이슈': 538,\n",
       " '오늘': 539,\n",
       " 'jb': 540,\n",
       " '지갑': 541,\n",
       " '지속': 542,\n",
       " '컨설턴트': 543,\n",
       " '얼음': 544,\n",
       " '진단': 545,\n",
       " '속도': 546,\n",
       " '크다': 547,\n",
       " '마련': 548,\n",
       " '햇살': 549,\n",
       " '대대손손': 550,\n",
       " '40%': 551,\n",
       " '발급': 552,\n",
       " '사기': 553,\n",
       " '친환': 554,\n",
       " '경차': 555,\n",
       " '경진': 556,\n",
       " '실행': 557,\n",
       " '나기': 558,\n",
       " '단지': 559,\n",
       " '5000억': 560,\n",
       " '경상북도': 561,\n",
       " '안녕': 562,\n",
       " '대우건설': 563,\n",
       " '시장': 564,\n",
       " '음식': 565,\n",
       " '열대야': 566,\n",
       " '맞추다': 567,\n",
       " '플로우': 568,\n",
       " '광주': 569,\n",
       " '참여': 570,\n",
       " '가다': 571,\n",
       " '금감원': 572,\n",
       " '대한민국': 573,\n",
       " '해결': 574,\n",
       " '안정': 575,\n",
       " '시공사': 576,\n",
       " '제휴': 577,\n",
       " '지다': 578,\n",
       " '점수': 579,\n",
       " '포토': 580,\n",
       " '자율': 581,\n",
       " '돕기': 582,\n",
       " 'ucc': 583,\n",
       " '대응': 584,\n",
       " '2788억': 585,\n",
       " '토론': 586,\n",
       " '오토': 587,\n",
       " '신도시': 588,\n",
       " '5천억원': 589,\n",
       " '상승': 590,\n",
       " '앞장': 591,\n",
       " '유치': 592,\n",
       " 'tbc': 593,\n",
       " '푸드': 594,\n",
       " '경산': 595,\n",
       " '효과': 596,\n",
       " '이다': 597,\n",
       " 'kb': 598,\n",
       " '먹다': 599,\n",
       " '대사관': 600,\n",
       " '따뜻하다': 601,\n",
       " '파트너': 602,\n",
       " '생수': 603,\n",
       " '매입': 604,\n",
       " '신규': 605,\n",
       " '보훈': 606,\n",
       " '내년': 607,\n",
       " '손실': 608,\n",
       " '특례': 609,\n",
       " '복지': 610,\n",
       " '공판': 611,\n",
       " '플라스틱': 612,\n",
       " '골든벨': 613,\n",
       " '입점': 614,\n",
       " '포용': 615,\n",
       " 'player': 616,\n",
       " '상주': 617,\n",
       " 'tbcdgb': 618,\n",
       " '시설': 619,\n",
       " '송금': 620,\n",
       " '우리': 621,\n",
       " '서기': 622,\n",
       " '공용': 623,\n",
       " '신분증': 624,\n",
       " '3월': 625,\n",
       " '제로': 626,\n",
       " 'biz': 627,\n",
       " '연장': 628,\n",
       " '1000억원': 629,\n",
       " '캐피탈': 630,\n",
       " '만들다': 631,\n",
       " '고고': 632,\n",
       " '씨티': 633,\n",
       " '아이스': 634,\n",
       " '머플러': 635,\n",
       " '애로': 636,\n",
       " '주다': 637,\n",
       " '소득': 638,\n",
       " '셀프': 639,\n",
       " '가상세계': 640,\n",
       " '침산': 641,\n",
       " '온도': 642,\n",
       " '어린이날': 643,\n",
       " '2년': 644,\n",
       " '갈라': 645,\n",
       " '콘서트': 646,\n",
       " '46': 647,\n",
       " '가속': 648,\n",
       " '31회': 649,\n",
       " '단식': 650,\n",
       " '봉투': 651,\n",
       " '주한': 652,\n",
       " '접수': 653,\n",
       " '돌보다': 654,\n",
       " '공무원': 655,\n",
       " '제안': 656,\n",
       " '손잡다': 657,\n",
       " '소외': 658,\n",
       " '똑똑': 659,\n",
       " '가계': 660,\n",
       " '폭염': 661,\n",
       " '웹케시': 662,\n",
       " '인수': 663,\n",
       " '서울': 664,\n",
       " '소리': 665,\n",
       " '택배': 666,\n",
       " '일수': 667,\n",
       " '전북': 668,\n",
       " '낮추다': 669,\n",
       " 'ib': 670,\n",
       " '하고': 671,\n",
       " '적십자': 672,\n",
       " '한가위': 673,\n",
       " '200': 674,\n",
       " '단독': 675,\n",
       " '이익': 676,\n",
       " '뉴스': 677,\n",
       " '홀로': 678,\n",
       " '발행': 679,\n",
       " '100%': 680,\n",
       " '경쟁력': 681,\n",
       " '향토': 682,\n",
       " '환경보호': 683,\n",
       " '스크린골프': 684,\n",
       " '남구': 685,\n",
       " '체크카드': 686,\n",
       " '회비': 687,\n",
       " '피다': 688,\n",
       " '지정': 689,\n",
       " '100만원': 690,\n",
       " '모두': 691,\n",
       " '자문': 692,\n",
       " '앞두다': 693,\n",
       " 'cu': 694,\n",
       " '교육': 695,\n",
       " '2000만원': 696,\n",
       " '북구청역': 697,\n",
       " '운동': 698,\n",
       " '위험': 699,\n",
       " '1%': 700,\n",
       " 'nd': 701,\n",
       " '공급': 702,\n",
       " '타운': 703,\n",
       " '에코': 704,\n",
       " '공사': 705,\n",
       " '손바닥': 706,\n",
       " '지급': 707,\n",
       " '우려': 708,\n",
       " '맛김치': 709,\n",
       " '통합': 710,\n",
       " '1622억원': 711,\n",
       " '설치': 712,\n",
       " '3회': 713,\n",
       " '미얀마': 714,\n",
       " '유망': 715,\n",
       " '전기차': 716,\n",
       " '체계': 717,\n",
       " '1억': 718,\n",
       " '코리아세븐': 719,\n",
       " '상권': 720,\n",
       " '대신': 721,\n",
       " '탐지': 722,\n",
       " '모던': 723,\n",
       " '경실련': 724,\n",
       " '76': 725,\n",
       " '금융위': 726,\n",
       " '수탁': 727,\n",
       " '10억원': 728,\n",
       " '방지': 729,\n",
       " '조성': 730,\n",
       " '차다': 731,\n",
       " '추가': 732,\n",
       " '아들': 733,\n",
       " '미래에셋': 734,\n",
       " '플로': 735,\n",
       " '유공': 736,\n",
       " '고등학생': 737,\n",
       " 'pd': 738,\n",
       " '아나운서': 739,\n",
       " '매출': 740,\n",
       " '두다': 741,\n",
       " '어디': 742,\n",
       " '리뷰': 743,\n",
       " '혜택': 744,\n",
       " '줄이다': 745,\n",
       " '어울림': 746,\n",
       " '소액': 747,\n",
       " 'withu': 748,\n",
       " '5억원': 749,\n",
       " '없이': 750,\n",
       " '도약': 751,\n",
       " '외보': 752,\n",
       " '주간': 753,\n",
       " '소망': 754,\n",
       " '사건': 755,\n",
       " '잇다': 756,\n",
       " 'it': 757,\n",
       " '위기': 758,\n",
       " '가을': 759,\n",
       " '업체': 760,\n",
       " '2788억원': 761,\n",
       " '갤러리': 762,\n",
       " '사퇴': 763,\n",
       " '2월': 764,\n",
       " '아이디어': 765,\n",
       " '적극': 766,\n",
       " '26일': 767,\n",
       " 'sr': 768,\n",
       " '주가': 769,\n",
       " '재판': 770,\n",
       " '우대': 771,\n",
       " '손글씨': 772,\n",
       " '신천': 773,\n",
       " '5031억원': 774,\n",
       " '성공': 775,\n",
       " '병원': 776,\n",
       " '32회': 777,\n",
       " '생존': 778,\n",
       " '회복': 779,\n",
       " '2천만원': 780,\n",
       " '전자': 781,\n",
       " '개사': 782,\n",
       " '특화': 783,\n",
       " '1조': 784,\n",
       " '50만': 785,\n",
       " 'bnkdgb': 786,\n",
       " 'bbs': 787,\n",
       " '피해자': 788,\n",
       " '오프라인': 789,\n",
       " '승격': 790,\n",
       " '복구': 791,\n",
       " '풀다': 792,\n",
       " '튜브': 793,\n",
       " '최저': 794,\n",
       " '원샷': 795,\n",
       " '공략': 796,\n",
       " '패밀리': 797,\n",
       " '안심': 798,\n",
       " '쓸다': 799,\n",
       " '8월': 800,\n",
       " '추다': 801,\n",
       " '공연예술': 802,\n",
       " '후불': 803,\n",
       " '반기': 804,\n",
       " '몰다': 805,\n",
       " '중단': 806,\n",
       " '생필품': 807,\n",
       " '예금': 808,\n",
       " '아프다': 809,\n",
       " '5천억': 810,\n",
       " '신한은행': 811,\n",
       " '사람': 812,\n",
       " '내달': 813,\n",
       " '개관': 814,\n",
       " '다시': 815,\n",
       " '타고': 816,\n",
       " '12월': 817,\n",
       " '국민': 818,\n",
       " '엄마': 819,\n",
       " '전년비': 820,\n",
       " '날다': 821,\n",
       " '기사': 822,\n",
       " '초복': 823,\n",
       " '케이크': 824,\n",
       " '쾌척': 825,\n",
       " 'nh': 826,\n",
       " '단계': 827,\n",
       " '호랑이': 828,\n",
       " 'plaza': 829,\n",
       " '김천': 830,\n",
       " '검사': 831,\n",
       " '세상': 832,\n",
       " '20만': 833,\n",
       " '4175억원': 834,\n",
       " '24시': 835,\n",
       " '시너지': 836,\n",
       " '바이오': 837,\n",
       " '2분': 838,\n",
       " '약정': 839,\n",
       " '업계': 840,\n",
       " '국내': 841,\n",
       " '비율': 842,\n",
       " '보험': 843,\n",
       " '문턱': 844,\n",
       " '이유': 845,\n",
       " '2천': 846,\n",
       " '아너스': 847,\n",
       " '도전': 848,\n",
       " '가상공간': 849,\n",
       " '전문직': 850,\n",
       " '중고': 851,\n",
       " '경주': 852,\n",
       " '농촌': 853,\n",
       " '365일': 854,\n",
       " '트럭': 855,\n",
       " '계명대': 856,\n",
       " '배당': 857,\n",
       " '구미시': 858,\n",
       " '편의': 859,\n",
       " '서다': 860,\n",
       " '본선': 861,\n",
       " '황금': 862,\n",
       " '이색': 863,\n",
       " '공군': 864,\n",
       " '스타': 865,\n",
       " '뜨다': 866,\n",
       " '네이버': 867,\n",
       " '종량제': 868,\n",
       " '17일': 869,\n",
       " '복지관': 870,\n",
       " '늘리다': 871,\n",
       " '분야': 872,\n",
       " '5억': 873,\n",
       " '베다': 874,\n",
       " '조직': 875,\n",
       " '도로공사': 876,\n",
       " '십만': 877,\n",
       " '퇴진': 878,\n",
       " '금융업': 879,\n",
       " '자본': 880,\n",
       " '순항': 881,\n",
       " '멘토': 882,\n",
       " '케이': 883,\n",
       " '24': 884,\n",
       " '경관': 885,\n",
       " '조명': 886,\n",
       " '11일': 887,\n",
       " '30만': 888,\n",
       " '송편': 889,\n",
       " '섹터': 890,\n",
       " '41억': 891,\n",
       " '돼다': 892,\n",
       " '급증': 893,\n",
       " '구속영장': 894,\n",
       " '안회': 895,\n",
       " '업종': 896,\n",
       " '빠르다': 897,\n",
       " '대처': 898,\n",
       " '정보': 899,\n",
       " '적십자사': 900,\n",
       " '주식': 901,\n",
       " '좋다': 902,\n",
       " '바람': 903,\n",
       " '무인': 904,\n",
       " '거기': 905,\n",
       " '1천': 906,\n",
       " '행보': 907,\n",
       " '인터넷': 908,\n",
       " '패셔': 909,\n",
       " '1월': 910,\n",
       " 'bnkdgbjb': 911,\n",
       " '새해': 912,\n",
       " '2만': 913,\n",
       " '구조': 914,\n",
       " '맞춤': 915,\n",
       " '현금': 916,\n",
       " '2회': 917,\n",
       " '일보': 918,\n",
       " '시상': 919,\n",
       " '드라이브스루': 920,\n",
       " '응원': 921,\n",
       " '초대': 922,\n",
       " '마다': 923,\n",
       " '선봬': 924,\n",
       " '더더': 925,\n",
       " '수출': 926,\n",
       " 'ok': 927,\n",
       " '영장': 928,\n",
       " '로비': 929,\n",
       " '상의': 930,\n",
       " '맺다': 931,\n",
       " '집중': 932,\n",
       " '발표': 933,\n",
       " '임원': 934,\n",
       " '토마토': 935,\n",
       " '정책': 936,\n",
       " '우리금융': 937,\n",
       " '열풍': 938,\n",
       " 'cdp': 939,\n",
       " '겨냥': 940,\n",
       " '3일': 941,\n",
       " '농산물': 942,\n",
       " '주도': 943,\n",
       " '파티마': 944,\n",
       " '김장': 945,\n",
       " '전개': 946,\n",
       " '예비': 947,\n",
       " '뱅킹': 948,\n",
       " '제도': 949,\n",
       " '담다': 950,\n",
       " '통한': 951,\n",
       " '군수사령부': 952,\n",
       " '페트병': 953,\n",
       " '7천만원': 954,\n",
       " '재사용': 955,\n",
       " '연봉': 956,\n",
       " '사실': 957,\n",
       " '제페토': 958,\n",
       " '칼럼': 959,\n",
       " '5만원': 960,\n",
       " '연내': 961,\n",
       " '동화책': 962,\n",
       " '한번': 963,\n",
       " '하라': 964,\n",
       " '기각': 965,\n",
       " '이용': 966,\n",
       " '만나다': 967,\n",
       " '결정': 968,\n",
       " '이자지': 969,\n",
       " '노인': 970,\n",
       " 'fds': 971,\n",
       " '리포터': 972,\n",
       " '촉구': 973,\n",
       " '대구대학교': 974,\n",
       " '생체': 975,\n",
       " '5천': 976,\n",
       " '나선': 977,\n",
       " '500원': 978,\n",
       " '재다': 979,\n",
       " '걸음': 980,\n",
       " '어스아워': 981,\n",
       " '기념일': 982,\n",
       " 'triangle': 983,\n",
       " 'korea': 984,\n",
       " '1일': 985,\n",
       " '체크': 986,\n",
       " '펼치다': 987,\n",
       " '내놓다': 988,\n",
       " '발굴': 989,\n",
       " '사태': 990,\n",
       " '다문화': 991,\n",
       " '명세서': 992,\n",
       " '허가': 993,\n",
       " '열리다': 994,\n",
       " '소비': 995,\n",
       " '건강하다': 996,\n",
       " 'go': 997,\n",
       " '작가': 998,\n",
       " 'a등급': 999,\n",
       " '균형': 1000,\n",
       " ...}"
      ]
     },
     "execution_count": 92,
     "metadata": {},
     "output_type": "execute_result"
    }
   ],
   "source": [
    "tokenizer.word_index"
   ]
  },
  {
   "cell_type": "code",
   "execution_count": 93,
   "id": "894a630f",
   "metadata": {
    "ExecuteTime": {
     "end_time": "2022-05-19T08:12:09.448122Z",
     "start_time": "2022-05-19T08:12:09.434161Z"
    }
   },
   "outputs": [
    {
     "data": {
      "text/plain": [
       "[0, 1, -1]"
      ]
     },
     "execution_count": 93,
     "metadata": {},
     "output_type": "execute_result"
    }
   ],
   "source": [
    "import numpy as np\n",
    "\n",
    "y_train = list()\n",
    "y_test = list()\n",
    "x_train['label'].unique().tolist()"
   ]
  },
  {
   "cell_type": "code",
   "execution_count": 94,
   "id": "dbeeeab1",
   "metadata": {
    "ExecuteTime": {
     "end_time": "2022-05-19T08:12:09.463082Z",
     "start_time": "2022-05-19T08:12:09.449122Z"
    }
   },
   "outputs": [],
   "source": [
    "# 1 / 0 / -1\n",
    "def one_hot_encoding(label):\n",
    "    one_hot_vector = [0] * len(x_train['label'].unique().tolist())\n",
    "    one_hot_vector[label+1] = 1\n",
    "    return one_hot_vector"
   ]
  },
  {
   "cell_type": "code",
   "execution_count": 95,
   "id": "d3cff011",
   "metadata": {
    "ExecuteTime": {
     "end_time": "2022-05-19T08:12:10.136281Z",
     "start_time": "2022-05-19T08:12:09.464079Z"
    }
   },
   "outputs": [],
   "source": [
    "def right_answer():\n",
    "    for tr in x_train['label']:\n",
    "        y_train.append(one_hot_encoding(tr))\n",
    "    for te in x_test['label']:\n",
    "        y_test.append(one_hot_encoding(te))\n",
    "\n",
    "right_answer()"
   ]
  },
  {
   "cell_type": "code",
   "execution_count": 96,
   "id": "c1148cd5",
   "metadata": {
    "ExecuteTime": {
     "end_time": "2022-05-19T08:12:10.151241Z",
     "start_time": "2022-05-19T08:12:10.137279Z"
    }
   },
   "outputs": [
    {
     "name": "stdout",
     "output_type": "stream",
     "text": [
      "정상\n"
     ]
    }
   ],
   "source": [
    "if (len(y_train) + len(y_test)) == len(df_news_copy['label']):\n",
    "    print('정상')\n",
    "else:\n",
    "    y_train = list()\n",
    "    y_test = list()\n",
    "    right_answer()\n",
    "    print('재확인 필요')"
   ]
  },
  {
   "cell_type": "code",
   "execution_count": 97,
   "id": "337cfe92",
   "metadata": {
    "ExecuteTime": {
     "end_time": "2022-05-19T08:12:10.166201Z",
     "start_time": "2022-05-19T08:12:10.152239Z"
    }
   },
   "outputs": [],
   "source": [
    "y_train = np.array(y_train)\n",
    "y_test = np.array(y_test)"
   ]
  },
  {
   "cell_type": "code",
   "execution_count": 98,
   "id": "28846041",
   "metadata": {
    "ExecuteTime": {
     "end_time": "2022-05-19T08:12:10.181161Z",
     "start_time": "2022-05-19T08:12:10.167199Z"
    }
   },
   "outputs": [
    {
     "data": {
      "text/plain": [
       "array([[0, 1, 0],\n",
       "       [0, 0, 1],\n",
       "       [0, 0, 1],\n",
       "       ...,\n",
       "       [0, 1, 0],\n",
       "       [0, 1, 0],\n",
       "       [0, 0, 1]])"
      ]
     },
     "execution_count": 98,
     "metadata": {},
     "output_type": "execute_result"
    }
   ],
   "source": [
    "y_train"
   ]
  },
  {
   "cell_type": "code",
   "execution_count": 99,
   "id": "051c7803",
   "metadata": {
    "ExecuteTime": {
     "end_time": "2022-05-19T08:12:10.196149Z",
     "start_time": "2022-05-19T08:12:10.182159Z"
    }
   },
   "outputs": [
    {
     "data": {
      "text/plain": [
       "array([[0, 0, 1],\n",
       "       [0, 0, 1],\n",
       "       [0, 1, 0],\n",
       "       ...,\n",
       "       [0, 0, 1],\n",
       "       [0, 0, 1],\n",
       "       [0, 0, 1]])"
      ]
     },
     "execution_count": 99,
     "metadata": {},
     "output_type": "execute_result"
    }
   ],
   "source": [
    "y_test"
   ]
  },
  {
   "cell_type": "code",
   "execution_count": 100,
   "id": "6861b3b2",
   "metadata": {
    "ExecuteTime": {
     "end_time": "2022-05-19T08:12:10.211080Z",
     "start_time": "2022-05-19T08:12:10.197118Z"
    }
   },
   "outputs": [
    {
     "data": {
      "text/plain": [
       "8948"
      ]
     },
     "execution_count": 100,
     "metadata": {},
     "output_type": "execute_result"
    }
   ],
   "source": [
    "len(y_test) + len(y_train)"
   ]
  },
  {
   "cell_type": "code",
   "execution_count": 101,
   "id": "bcdc7ecc",
   "metadata": {
    "ExecuteTime": {
     "end_time": "2022-05-19T08:12:10.226040Z",
     "start_time": "2022-05-19T08:12:10.212107Z"
    }
   },
   "outputs": [
    {
     "data": {
      "text/plain": [
       "8948"
      ]
     },
     "execution_count": 101,
     "metadata": {},
     "output_type": "execute_result"
    }
   ],
   "source": [
    "len(x_test_final) + len(x_train_final)"
   ]
  },
  {
   "cell_type": "markdown",
   "id": "ab67bb11",
   "metadata": {},
   "source": [
    "## 빈도 수가 낮은 단어 제거 --> 대기\n",
    "- 빈도수가 낮은 단어 --> 학습에 영향이 크지 않음.\n",
    "- 전처리를 통해 제거\n",
    "- 패딩 --> 학습 시간 단축 및 최적의 효율성\n",
    "\n",
    "**한두번 나온 단어가 그 문장의 감성을 표현할 수 있는 핵심단어 일수도?**"
   ]
  },
  {
   "cell_type": "code",
   "execution_count": 102,
   "id": "e745e488",
   "metadata": {
    "ExecuteTime": {
     "end_time": "2022-05-19T08:12:10.241001Z",
     "start_time": "2022-05-19T08:12:10.227038Z"
    }
   },
   "outputs": [
    {
     "data": {
      "text/plain": [
       "5289"
      ]
     },
     "execution_count": 102,
     "metadata": {},
     "output_type": "execute_result"
    }
   ],
   "source": [
    "len(tokenizer.word_counts)"
   ]
  },
  {
   "cell_type": "code",
   "execution_count": 103,
   "id": "379a7e3a",
   "metadata": {
    "ExecuteTime": {
     "end_time": "2022-05-19T08:12:10.255961Z",
     "start_time": "2022-05-19T08:12:10.241999Z"
    }
   },
   "outputs": [
    {
     "name": "stdout",
     "output_type": "stream",
     "text": [
      "단어 집합(vocabulary)의 종류 : 5289\n",
      "등장 빈도가 1번 이하인 희귀 단어의 수: 2274\n",
      "단어 집합에서 희귀 단어의 비율: 42.99\n",
      "전체 등장 빈도에서 희귀 단어 등장 빈도 비율: 2.7635992416508675\n"
     ]
    }
   ],
   "source": [
    "threshold = 2 # 임계치\n",
    "total_cnt = len(tokenizer.word_index)\n",
    "rare_cnt = 0\n",
    "words_freq = 0\n",
    "rare_freq = 0\n",
    "\n",
    "for key, value in tokenizer.word_counts.items():\n",
    "    words_freq += value\n",
    "    if value < threshold:\n",
    "        rare_cnt += 1\n",
    "        rare_freq += value\n",
    "print('단어 집합(vocabulary)의 종류 :', total_cnt)\n",
    "print('등장 빈도가 %s번 이하인 희귀 단어의 수: %s' % (threshold - 1, rare_cnt))\n",
    "print(\"단어 집합에서 희귀 단어의 비율: {:.2f}\".format((rare_cnt / total_cnt) * 100))\n",
    "print(\"전체 등장 빈도에서 희귀 단어 등장 빈도 비율:\", (rare_freq / words_freq) * 100)"
   ]
  },
  {
   "cell_type": "code",
   "execution_count": 104,
   "id": "41039010",
   "metadata": {
    "ExecuteTime": {
     "end_time": "2022-05-19T08:12:10.270921Z",
     "start_time": "2022-05-19T08:12:10.256958Z"
    }
   },
   "outputs": [
    {
     "name": "stdout",
     "output_type": "stream",
     "text": [
      "3015\n"
     ]
    }
   ],
   "source": [
    "vocab_size = total_cnt-rare_cnt\n",
    "print(vocab_size)"
   ]
  },
  {
   "cell_type": "code",
   "execution_count": 105,
   "id": "3538170c",
   "metadata": {
    "ExecuteTime": {
     "end_time": "2022-05-19T08:12:10.285881Z",
     "start_time": "2022-05-19T08:12:10.271919Z"
    }
   },
   "outputs": [],
   "source": [
    "# 대기"
   ]
  },
  {
   "cell_type": "code",
   "execution_count": 106,
   "id": "4e74f3d7",
   "metadata": {
    "ExecuteTime": {
     "end_time": "2022-05-19T08:12:10.300841Z",
     "start_time": "2022-05-19T08:12:10.286879Z"
    }
   },
   "outputs": [],
   "source": [
    "tokenizer = Tokenizer(vocab_size, oov_token='OOV')"
   ]
  },
  {
   "cell_type": "code",
   "execution_count": 107,
   "id": "95ea148f",
   "metadata": {
    "ExecuteTime": {
     "end_time": "2022-05-19T08:12:10.315801Z",
     "start_time": "2022-05-19T08:12:10.301839Z"
    }
   },
   "outputs": [
    {
     "data": {
      "text/plain": [
       "<keras_preprocessing.text.Tokenizer at 0x2c1b275cf60>"
      ]
     },
     "execution_count": 107,
     "metadata": {},
     "output_type": "execute_result"
    }
   ],
   "source": [
    "tokenizer"
   ]
  },
  {
   "cell_type": "markdown",
   "id": "9f768254",
   "metadata": {},
   "source": [
    "# 모델링\n",
    "\n",
    "- 성능 높이기 + 시각화 해서 파일로 만들기"
   ]
  },
  {
   "cell_type": "markdown",
   "id": "9039e7af",
   "metadata": {},
   "source": [
    "## GPU 체크\n",
    "- NVIDIA GeForce RTX 2070 SUPER : 2개 (GPU index number : 0, 1)\n",
    "- CPU :1 개 ( CPU index number : 0)"
   ]
  },
  {
   "cell_type": "code",
   "execution_count": 131,
   "id": "7c081f52",
   "metadata": {
    "ExecuteTime": {
     "end_time": "2022-05-19T08:16:58.390358Z",
     "start_time": "2022-05-19T08:16:58.381383Z"
    }
   },
   "outputs": [
    {
     "name": "stdout",
     "output_type": "stream",
     "text": [
      "2 Physical GPUs, 2 Logical GPUs\n"
     ]
    }
   ],
   "source": [
    "import tensorflow as tf\n",
    "gpus = tf.config.experimental.list_physical_devices('GPU')\n",
    "if gpus:\n",
    "  # Restrict TensorFlow to only allocate 4GB of memory on the first GPU\n",
    "    try:\n",
    "        tf.config.experimental.set_virtual_device_configuration(\n",
    "            gpus[0],\n",
    "            [tf.config.experimental.VirtualDeviceConfiguration(memory_limit=1024)])\n",
    "        \n",
    "        logical_gpus = tf.config.experimental.list_logical_devices('GPU')\n",
    "        print(len(gpus), \"Physical GPUs,\", len(logical_gpus), \"Logical GPUs\")\n",
    "    except RuntimeError as e:\n",
    "        # Virtual devices must be set before GPUs have been initialized\n",
    "        print(e)"
   ]
  },
  {
   "cell_type": "code",
   "execution_count": 132,
   "id": "6f270f82",
   "metadata": {
    "ExecuteTime": {
     "end_time": "2022-05-19T08:16:58.629694Z",
     "start_time": "2022-05-19T08:16:58.626702Z"
    }
   },
   "outputs": [
    {
     "name": "stdout",
     "output_type": "stream",
     "text": [
      "Num GPUs Available:  2\n"
     ]
    }
   ],
   "source": [
    "print(\"Num GPUs Available: \", len(tf.config.list_physical_devices('GPU')))"
   ]
  },
  {
   "cell_type": "markdown",
   "id": "41fc66cb",
   "metadata": {},
   "source": [
    "## 데이터셋 확인"
   ]
  },
  {
   "cell_type": "code",
   "execution_count": 133,
   "id": "03d38738",
   "metadata": {
    "ExecuteTime": {
     "end_time": "2022-05-19T08:16:59.129298Z",
     "start_time": "2022-05-19T08:16:59.114338Z"
    }
   },
   "outputs": [],
   "source": [
    "from keras import models\n",
    "from tensorflow.python.client import device_lib\n",
    "from tensorflow.keras.layers import Embedding, Dense, GRU, Dropout, Input, LSTM, Activation\n",
    "from tensorflow.keras.models import Sequential, Model\n",
    "from tensorflow.keras.models import load_model\n",
    "\n",
    "%matplotlib inline\n",
    "# Function call stack:\n",
    "# train_function -> train_function -> train_function\n",
    "# 해당 줄로 오류 해결\n",
    "# 참고 : https://www.freesion.com/article/71721347190/\n",
    "tf.compat.v1.disable_eager_execution()"
   ]
  },
  {
   "cell_type": "code",
   "execution_count": 134,
   "id": "04472ba0",
   "metadata": {
    "ExecuteTime": {
     "end_time": "2022-05-19T08:16:59.431704Z",
     "start_time": "2022-05-19T08:16:59.419736Z"
    }
   },
   "outputs": [
    {
     "name": "stdout",
     "output_type": "stream",
     "text": [
      "x_train : (6263, 14)\n",
      "x_test : (2685, 14)\n",
      "y_train : (6263, 3)\n",
      "x_test : (2685, 3)\n"
     ]
    }
   ],
   "source": [
    "print('x_train :', x_train_final.shape)\n",
    "print('x_test :', x_test_final.shape)\n",
    "print('y_train :', y_train.shape)\n",
    "print('x_test :', y_test.shape)"
   ]
  },
  {
   "cell_type": "markdown",
   "id": "e4048063",
   "metadata": {},
   "source": [
    "## optimizers 정의 및 튜닝 ( Adam, SGD, RMSprop)\n",
    "\n",
    "- 하이퍼 파라미터 튜닝\n",
    "\n",
    "**val_loss 감소시키는 방법 : https://lsjsj92.tistory.com/353**"
   ]
  },
  {
   "cell_type": "code",
   "execution_count": 172,
   "id": "c2ec3657",
   "metadata": {
    "ExecuteTime": {
     "end_time": "2022-05-19T08:35:15.864464Z",
     "start_time": "2022-05-19T08:35:15.848508Z"
    }
   },
   "outputs": [],
   "source": [
    "from tensorflow.keras.optimizers import Adam, SGD, RMSprop\n",
    "from tensorflow.keras.callbacks import EarlyStopping, ModelCheckpoint\n",
    "\n",
    "adam = Adam(learning_rate=0.001, beta_1=0.9, beta_2=0.999, decay=0.001, epsilon=None, amsgrad=False)\n",
    "\n",
    "sgd = SGD(learning_rate=0.001, momentum=0.9, decay=0.0001, nesterov=False)\n",
    "\n",
    "rmsprop = RMSprop(learning_rate=0.001, rho=0.9, decay=0.0001, epsilon=None)"
   ]
  },
  {
   "cell_type": "markdown",
   "id": "e6111718",
   "metadata": {},
   "source": [
    "### LSTM 1 Layer"
   ]
  },
  {
   "cell_type": "code",
   "execution_count": 147,
   "id": "09f34e3a",
   "metadata": {
    "ExecuteTime": {
     "end_time": "2022-05-19T08:19:13.842554Z",
     "start_time": "2022-05-19T08:19:13.825570Z"
    }
   },
   "outputs": [],
   "source": [
    "model_01 = Sequential() # tensorflow.keras.models"
   ]
  },
  {
   "cell_type": "code",
   "execution_count": 148,
   "id": "0e3a9a54",
   "metadata": {
    "ExecuteTime": {
     "end_time": "2022-05-19T08:19:14.385317Z",
     "start_time": "2022-05-19T08:19:14.241703Z"
    }
   },
   "outputs": [
    {
     "name": "stdout",
     "output_type": "stream",
     "text": [
      "WARNING:tensorflow:Layer lstm_14 will not use cuDNN kernels since it doesn't meet the criteria. It will use a generic GPU kernel as fallback when running on GPU.\n",
      "Model: \"sequential_10\"\n",
      "_________________________________________________________________\n",
      "Layer (type)                 Output Shape              Param #   \n",
      "=================================================================\n",
      "embedding_13 (Embedding)     (None, None, 100)         528900    \n",
      "_________________________________________________________________\n",
      "lstm_14 (LSTM)               (None, 128)               117248    \n",
      "_________________________________________________________________\n",
      "dropout_3 (Dropout)          (None, 128)               0         \n",
      "_________________________________________________________________\n",
      "dense_11 (Dense)             (None, 3)                 387       \n",
      "=================================================================\n",
      "Total params: 646,535\n",
      "Trainable params: 646,535\n",
      "Non-trainable params: 0\n",
      "_________________________________________________________________\n"
     ]
    }
   ],
   "source": [
    "# https://catwolf.org/qs?id=8ed4be3f-40bc-4351-829e-ad78e10aa3ad&x=y\n",
    "# https://stackoverflow.com/questions/56598749/input-shape-in-keras-this-loss-expects-targets-to-have-the-same-shape-as-the-ou\n",
    "\n",
    "model_01.add(Embedding(total_cnt, 100))\n",
    "# model_01.add(LSTM(128, activation = 'tanh', return_sequences=False))\n",
    "model_01.add(LSTM(128, return_sequences=False))\n",
    "model_01.add(Dropout(0.2))\n",
    "model_01.add(Dense(3, activation='softmax'))\n",
    "model_01.summary()"
   ]
  },
  {
   "cell_type": "code",
   "execution_count": 149,
   "id": "85adbd08",
   "metadata": {
    "ExecuteTime": {
     "end_time": "2022-05-19T08:19:38.940112Z",
     "start_time": "2022-05-19T08:19:18.361593Z"
    },
    "collapsed": true
   },
   "outputs": [
    {
     "name": "stdout",
     "output_type": "stream",
     "text": [
      "Train on 5010 samples, validate on 1253 samples\n",
      "Epoch 1/30\n",
      "5010/5010 [==============================] - 5s 1ms/sample - loss: 0.1716 - accuracy: 0.6250 - val_loss: 0.1781 - val_accuracy: 0.6073\n",
      "Epoch 2/30\n",
      "5010/5010 [==============================] - 5s 907us/sample - loss: 0.1660 - accuracy: 0.6281 - val_loss: 0.1804 - val_accuracy: 0.6073\n",
      "Epoch 3/30\n",
      "5010/5010 [==============================] - 5s 916us/sample - loss: 0.1578 - accuracy: 0.6433 - val_loss: 0.1839 - val_accuracy: 0.5714\n",
      "Epoch 4/30\n",
      "5010/5010 [==============================] - 5s 906us/sample - loss: 0.1490 - accuracy: 0.6629 - val_loss: 0.2012 - val_accuracy: 0.4733\n",
      "Epoch 5/30\n",
      " 480/5010 [=>............................] - ETA: 3s - loss: 0.1363 - accuracy: 0.6917"
     ]
    },
    {
     "ename": "KeyboardInterrupt",
     "evalue": "",
     "output_type": "error",
     "traceback": [
      "\u001b[1;31m---------------------------------------------------------------------------\u001b[0m",
      "\u001b[1;31mKeyboardInterrupt\u001b[0m                         Traceback (most recent call last)",
      "\u001b[1;32m<ipython-input-149-f46476a7cdc7>\u001b[0m in \u001b[0;36m<module>\u001b[1;34m\u001b[0m\n\u001b[0;32m      3\u001b[0m \u001b[1;33m\u001b[0m\u001b[0m\n\u001b[0;32m      4\u001b[0m \u001b[0mmodel_01\u001b[0m\u001b[1;33m.\u001b[0m\u001b[0mcompile\u001b[0m\u001b[1;33m(\u001b[0m\u001b[0moptimizer\u001b[0m\u001b[1;33m=\u001b[0m\u001b[0mrmsprop\u001b[0m\u001b[1;33m,\u001b[0m \u001b[0mloss\u001b[0m\u001b[1;33m=\u001b[0m\u001b[1;34m'mse'\u001b[0m\u001b[1;33m,\u001b[0m \u001b[0mmetrics\u001b[0m\u001b[1;33m=\u001b[0m\u001b[1;33m[\u001b[0m\u001b[1;34m'accuracy'\u001b[0m\u001b[1;33m]\u001b[0m\u001b[1;33m)\u001b[0m\u001b[1;33m\u001b[0m\u001b[1;33m\u001b[0m\u001b[0m\n\u001b[1;32m----> 5\u001b[1;33m \u001b[0mhistory\u001b[0m \u001b[1;33m=\u001b[0m \u001b[0mmodel_01\u001b[0m\u001b[1;33m.\u001b[0m\u001b[0mfit\u001b[0m\u001b[1;33m(\u001b[0m\u001b[0mx_train_final\u001b[0m\u001b[1;33m,\u001b[0m \u001b[0my_train\u001b[0m\u001b[1;33m,\u001b[0m \u001b[0mepochs\u001b[0m\u001b[1;33m=\u001b[0m\u001b[1;36m30\u001b[0m\u001b[1;33m,\u001b[0m \u001b[0mcallbacks\u001b[0m\u001b[1;33m=\u001b[0m\u001b[1;33m[\u001b[0m\u001b[0mes\u001b[0m\u001b[1;33m]\u001b[0m\u001b[1;33m,\u001b[0m \u001b[0mbatch_size\u001b[0m\u001b[1;33m=\u001b[0m\u001b[1;36m32\u001b[0m\u001b[1;33m,\u001b[0m \u001b[0mvalidation_split\u001b[0m\u001b[1;33m=\u001b[0m\u001b[1;36m0.2\u001b[0m\u001b[1;33m)\u001b[0m\u001b[1;33m\u001b[0m\u001b[1;33m\u001b[0m\u001b[0m\n\u001b[0m",
      "\u001b[1;32m~\\AppData\\Roaming\\Python\\Python36\\site-packages\\keras\\engine\\training_v1.py\u001b[0m in \u001b[0;36mfit\u001b[1;34m(self, x, y, batch_size, epochs, verbose, callbacks, validation_split, validation_data, shuffle, class_weight, sample_weight, initial_epoch, steps_per_epoch, validation_steps, validation_freq, max_queue_size, workers, use_multiprocessing, **kwargs)\u001b[0m\n\u001b[0;32m    794\u001b[0m         \u001b[0mmax_queue_size\u001b[0m\u001b[1;33m=\u001b[0m\u001b[0mmax_queue_size\u001b[0m\u001b[1;33m,\u001b[0m\u001b[1;33m\u001b[0m\u001b[1;33m\u001b[0m\u001b[0m\n\u001b[0;32m    795\u001b[0m         \u001b[0mworkers\u001b[0m\u001b[1;33m=\u001b[0m\u001b[0mworkers\u001b[0m\u001b[1;33m,\u001b[0m\u001b[1;33m\u001b[0m\u001b[1;33m\u001b[0m\u001b[0m\n\u001b[1;32m--> 796\u001b[1;33m         use_multiprocessing=use_multiprocessing)\n\u001b[0m\u001b[0;32m    797\u001b[0m \u001b[1;33m\u001b[0m\u001b[0m\n\u001b[0;32m    798\u001b[0m   def evaluate(self,\n",
      "\u001b[1;32m~\\AppData\\Roaming\\Python\\Python36\\site-packages\\keras\\engine\\training_arrays_v1.py\u001b[0m in \u001b[0;36mfit\u001b[1;34m(self, model, x, y, batch_size, epochs, verbose, callbacks, validation_split, validation_data, shuffle, class_weight, sample_weight, initial_epoch, steps_per_epoch, validation_steps, validation_freq, **kwargs)\u001b[0m\n\u001b[0;32m    655\u001b[0m         \u001b[0mvalidation_steps\u001b[0m\u001b[1;33m=\u001b[0m\u001b[0mvalidation_steps\u001b[0m\u001b[1;33m,\u001b[0m\u001b[1;33m\u001b[0m\u001b[1;33m\u001b[0m\u001b[0m\n\u001b[0;32m    656\u001b[0m         \u001b[0mvalidation_freq\u001b[0m\u001b[1;33m=\u001b[0m\u001b[0mvalidation_freq\u001b[0m\u001b[1;33m,\u001b[0m\u001b[1;33m\u001b[0m\u001b[1;33m\u001b[0m\u001b[0m\n\u001b[1;32m--> 657\u001b[1;33m         steps_name='steps_per_epoch')\n\u001b[0m\u001b[0;32m    658\u001b[0m \u001b[1;33m\u001b[0m\u001b[0m\n\u001b[0;32m    659\u001b[0m   def evaluate(self,\n",
      "\u001b[1;32m~\\AppData\\Roaming\\Python\\Python36\\site-packages\\keras\\engine\\training_arrays_v1.py\u001b[0m in \u001b[0;36mmodel_iteration\u001b[1;34m(model, inputs, targets, sample_weights, batch_size, epochs, verbose, callbacks, val_inputs, val_targets, val_sample_weights, shuffle, initial_epoch, steps_per_epoch, validation_steps, validation_freq, mode, validation_in_fit, prepared_feed_values_from_dataset, steps_name, **kwargs)\u001b[0m\n\u001b[0;32m    374\u001b[0m \u001b[1;33m\u001b[0m\u001b[0m\n\u001b[0;32m    375\u001b[0m         \u001b[1;31m# Get outputs.\u001b[0m\u001b[1;33m\u001b[0m\u001b[1;33m\u001b[0m\u001b[1;33m\u001b[0m\u001b[0m\n\u001b[1;32m--> 376\u001b[1;33m         \u001b[0mbatch_outs\u001b[0m \u001b[1;33m=\u001b[0m \u001b[0mf\u001b[0m\u001b[1;33m(\u001b[0m\u001b[0mins_batch\u001b[0m\u001b[1;33m)\u001b[0m\u001b[1;33m\u001b[0m\u001b[1;33m\u001b[0m\u001b[0m\n\u001b[0m\u001b[0;32m    377\u001b[0m         \u001b[1;32mif\u001b[0m \u001b[1;32mnot\u001b[0m \u001b[0misinstance\u001b[0m\u001b[1;33m(\u001b[0m\u001b[0mbatch_outs\u001b[0m\u001b[1;33m,\u001b[0m \u001b[0mlist\u001b[0m\u001b[1;33m)\u001b[0m\u001b[1;33m:\u001b[0m\u001b[1;33m\u001b[0m\u001b[1;33m\u001b[0m\u001b[0m\n\u001b[0;32m    378\u001b[0m           \u001b[0mbatch_outs\u001b[0m \u001b[1;33m=\u001b[0m \u001b[1;33m[\u001b[0m\u001b[0mbatch_outs\u001b[0m\u001b[1;33m]\u001b[0m\u001b[1;33m\u001b[0m\u001b[1;33m\u001b[0m\u001b[0m\n",
      "\u001b[1;32m~\\AppData\\Roaming\\Python\\Python36\\site-packages\\keras\\backend.py\u001b[0m in \u001b[0;36m__call__\u001b[1;34m(self, inputs)\u001b[0m\n\u001b[0;32m   4030\u001b[0m \u001b[1;33m\u001b[0m\u001b[0m\n\u001b[0;32m   4031\u001b[0m     fetched = self._callable_fn(*array_vals,\n\u001b[1;32m-> 4032\u001b[1;33m                                 run_metadata=self.run_metadata)\n\u001b[0m\u001b[0;32m   4033\u001b[0m     \u001b[0mself\u001b[0m\u001b[1;33m.\u001b[0m\u001b[0m_call_fetch_callbacks\u001b[0m\u001b[1;33m(\u001b[0m\u001b[0mfetched\u001b[0m\u001b[1;33m[\u001b[0m\u001b[1;33m-\u001b[0m\u001b[0mlen\u001b[0m\u001b[1;33m(\u001b[0m\u001b[0mself\u001b[0m\u001b[1;33m.\u001b[0m\u001b[0m_fetches\u001b[0m\u001b[1;33m)\u001b[0m\u001b[1;33m:\u001b[0m\u001b[1;33m]\u001b[0m\u001b[1;33m)\u001b[0m\u001b[1;33m\u001b[0m\u001b[1;33m\u001b[0m\u001b[0m\n\u001b[0;32m   4034\u001b[0m     output_structure = tf.nest.pack_sequence_as(\n",
      "\u001b[1;32m~\\AppData\\Roaming\\Python\\Python36\\site-packages\\tensorflow\\python\\client\\session.py\u001b[0m in \u001b[0;36m__call__\u001b[1;34m(self, *args, **kwargs)\u001b[0m\n\u001b[0;32m   1478\u001b[0m         ret = tf_session.TF_SessionRunCallable(self._session._session,\n\u001b[0;32m   1479\u001b[0m                                                \u001b[0mself\u001b[0m\u001b[1;33m.\u001b[0m\u001b[0m_handle\u001b[0m\u001b[1;33m,\u001b[0m \u001b[0margs\u001b[0m\u001b[1;33m,\u001b[0m\u001b[1;33m\u001b[0m\u001b[1;33m\u001b[0m\u001b[0m\n\u001b[1;32m-> 1480\u001b[1;33m                                                run_metadata_ptr)\n\u001b[0m\u001b[0;32m   1481\u001b[0m         \u001b[1;32mif\u001b[0m \u001b[0mrun_metadata\u001b[0m\u001b[1;33m:\u001b[0m\u001b[1;33m\u001b[0m\u001b[1;33m\u001b[0m\u001b[0m\n\u001b[0;32m   1482\u001b[0m           \u001b[0mproto_data\u001b[0m \u001b[1;33m=\u001b[0m \u001b[0mtf_session\u001b[0m\u001b[1;33m.\u001b[0m\u001b[0mTF_GetBuffer\u001b[0m\u001b[1;33m(\u001b[0m\u001b[0mrun_metadata_ptr\u001b[0m\u001b[1;33m)\u001b[0m\u001b[1;33m\u001b[0m\u001b[1;33m\u001b[0m\u001b[0m\n",
      "\u001b[1;31mKeyboardInterrupt\u001b[0m: "
     ]
    }
   ],
   "source": [
    "es = EarlyStopping(monitor='val_loss', mode='min', verbose=5, patience=30)\n",
    "mc = ModelCheckpoint('bilstm.h5', monitor='val_acc', mode='max', verbose=5, save_best_only=True)\n",
    "\n",
    "model_01.compile(optimizer=rmsprop, loss='categorical_crossentropy', metrics=['accuracy'])\n",
    "history = model_01.fit(x_train_final, y_train, epochs=60, callbacks=[es], batch_size=512, validation_split=0.2)"
   ]
  },
  {
   "cell_type": "markdown",
   "id": "8730815a",
   "metadata": {},
   "source": [
    "## LSTM / Dropout / GRU / Dropout 4 Layer"
   ]
  },
  {
   "cell_type": "code",
   "execution_count": 230,
   "id": "f91001cc",
   "metadata": {
    "ExecuteTime": {
     "end_time": "2022-05-19T09:01:29.033490Z",
     "start_time": "2022-05-19T09:01:29.021523Z"
    }
   },
   "outputs": [],
   "source": [
    "model_02 = Sequential() # tensorflow.keras.models"
   ]
  },
  {
   "cell_type": "code",
   "execution_count": 221,
   "id": "50c1813e",
   "metadata": {
    "ExecuteTime": {
     "end_time": "2022-05-19T08:54:38.345645Z",
     "start_time": "2022-05-19T08:54:38.334674Z"
    }
   },
   "outputs": [],
   "source": [
    "# model_02.add(Embedding(total_cnt, 100))\n",
    "# model_02.add(LSTM(128, return_sequences=True))\n",
    "# model_02.add(Dropout(0.5))\n",
    "# model_02.add(GRU(128))\n",
    "# model_02.add(Dropout(0.5))\n",
    "# model_02.add(Dense(3, activation='softmax'))"
   ]
  },
  {
   "cell_type": "code",
   "execution_count": 231,
   "id": "c43d8d38",
   "metadata": {
    "ExecuteTime": {
     "end_time": "2022-05-19T09:01:30.233599Z",
     "start_time": "2022-05-19T09:01:29.613193Z"
    }
   },
   "outputs": [
    {
     "name": "stdout",
     "output_type": "stream",
     "text": [
      "WARNING:tensorflow:Layer lstm_62 will not use cuDNN kernels since it doesn't meet the criteria. It will use a generic GPU kernel as fallback when running on GPU.\n",
      "WARNING:tensorflow:Layer lstm_63 will not use cuDNN kernels since it doesn't meet the criteria. It will use a generic GPU kernel as fallback when running on GPU.\n",
      "WARNING:tensorflow:Layer lstm_64 will not use cuDNN kernels since it doesn't meet the criteria. It will use a generic GPU kernel as fallback when running on GPU.\n",
      "WARNING:tensorflow:Layer lstm_65 will not use cuDNN kernels since it doesn't meet the criteria. It will use a generic GPU kernel as fallback when running on GPU.\n",
      "WARNING:tensorflow:Layer gru_14 will not use cuDNN kernels since it doesn't meet the criteria. It will use a generic GPU kernel as fallback when running on GPU.\n",
      "Model: \"sequential_30\"\n",
      "_________________________________________________________________\n",
      "Layer (type)                 Output Shape              Param #   \n",
      "=================================================================\n",
      "embedding_36 (Embedding)     (None, None, 100)         528900    \n",
      "_________________________________________________________________\n",
      "lstm_62 (LSTM)               (None, None, 32)          17024     \n",
      "_________________________________________________________________\n",
      "dropout_56 (Dropout)         (None, None, 32)          0         \n",
      "_________________________________________________________________\n",
      "lstm_63 (LSTM)               (None, None, 64)          24832     \n",
      "_________________________________________________________________\n",
      "dropout_57 (Dropout)         (None, None, 64)          0         \n",
      "_________________________________________________________________\n",
      "lstm_64 (LSTM)               (None, None, 128)         98816     \n",
      "_________________________________________________________________\n",
      "dropout_58 (Dropout)         (None, None, 128)         0         \n",
      "_________________________________________________________________\n",
      "lstm_65 (LSTM)               (None, None, 256)         394240    \n",
      "_________________________________________________________________\n",
      "dropout_59 (Dropout)         (None, None, 256)         0         \n",
      "_________________________________________________________________\n",
      "gru_14 (GRU)                 (None, 512)               1182720   \n",
      "_________________________________________________________________\n",
      "dense_36 (Dense)             (None, 3)                 1539      \n",
      "=================================================================\n",
      "Total params: 2,248,071\n",
      "Trainable params: 2,248,071\n",
      "Non-trainable params: 0\n",
      "_________________________________________________________________\n"
     ]
    }
   ],
   "source": [
    "# https://catwolf.org/qs?id=8ed4be3f-40bc-4351-829e-ad78e10aa3ad&x=y\n",
    "# https://stackoverflow.com/questions/56598749/input-shape-in-keras-this-loss-expects-targets-to-have-the-same-shape-as-the-ou\n",
    "\n",
    "model_02.add(Embedding(total_cnt, 100))\n",
    "\n",
    "model_02.add(LSTM(32, activation = 'tanh',return_sequences=True))\n",
    "model_02.add(Dropout(0.5))\n",
    "\n",
    "model_02.add(LSTM(64, return_sequences=True))\n",
    "model_02.add(Dropout(0.4))\n",
    "\n",
    "model_02.add(LSTM(128,return_sequences=True))\n",
    "model_02.add(Dropout(0.5))\n",
    "\n",
    "model_02.add(LSTM(256,return_sequences=True))\n",
    "model_02.add(Dropout(0.4))\n",
    "\n",
    "model_02.add(GRU(512))\n",
    "\n",
    "# model_02.add(Dense(1028, activation='relu'))\n",
    "model_02.add(Dense(3, activation='softmax'))\n",
    "         \n",
    "model_02.summary()"
   ]
  },
  {
   "cell_type": "code",
   "execution_count": 228,
   "id": "ed38c6cb",
   "metadata": {
    "ExecuteTime": {
     "end_time": "2022-05-19T09:00:28.735668Z",
     "start_time": "2022-05-19T09:00:28.718713Z"
    }
   },
   "outputs": [],
   "source": [
    "tf.config.set_soft_device_placement(True)"
   ]
  },
  {
   "cell_type": "code",
   "execution_count": 232,
   "id": "11c81c91",
   "metadata": {
    "ExecuteTime": {
     "end_time": "2022-05-19T09:07:02.195495Z",
     "start_time": "2022-05-19T09:01:42.845415Z"
    },
    "scrolled": true
   },
   "outputs": [
    {
     "name": "stdout",
     "output_type": "stream",
     "text": [
      "Train on 5010 samples, validate on 1253 samples\n",
      "Epoch 1/250\n",
      "5010/5010 [==============================] - ETA: 0s - loss: 0.1734 - accuracy: 0.6202WARNING:tensorflow:Can save best model only with val_acc available, skipping.\n",
      "5010/5010 [==============================] - 15s 3ms/sample - loss: 0.1734 - accuracy: 0.6202 - val_loss: 0.1762 - val_accuracy: 0.6073\n",
      "Epoch 2/250\n",
      "5010/5010 [==============================] - ETA: 0s - loss: 0.1691 - accuracy: 0.6271WARNING:tensorflow:Can save best model only with val_acc available, skipping.\n",
      "5010/5010 [==============================] - 10s 2ms/sample - loss: 0.1691 - accuracy: 0.6271 - val_loss: 0.1806 - val_accuracy: 0.6073\n",
      "Epoch 3/250\n",
      "5010/5010 [==============================] - ETA: 0s - loss: 0.1671 - accuracy: 0.6269WARNING:tensorflow:Can save best model only with val_acc available, skipping.\n",
      "5010/5010 [==============================] - 10s 2ms/sample - loss: 0.1671 - accuracy: 0.6269 - val_loss: 0.1779 - val_accuracy: 0.6073\n",
      "Epoch 4/250\n",
      "5010/5010 [==============================] - ETA: 0s - loss: 0.1571 - accuracy: 0.6471WARNING:tensorflow:Can save best model only with val_acc available, skipping.\n",
      "5010/5010 [==============================] - 10s 2ms/sample - loss: 0.1571 - accuracy: 0.6471 - val_loss: 0.1804 - val_accuracy: 0.6010\n",
      "Epoch 5/250\n",
      "5010/5010 [==============================] - ETA: 0s - loss: 0.1447 - accuracy: 0.6814WARNING:tensorflow:Can save best model only with val_acc available, skipping.\n",
      "5010/5010 [==============================] - 10s 2ms/sample - loss: 0.1447 - accuracy: 0.6814 - val_loss: 0.1836 - val_accuracy: 0.5954\n",
      "Epoch 6/250\n",
      "5010/5010 [==============================] - ETA: 0s - loss: 0.1374 - accuracy: 0.6986WARNING:tensorflow:Can save best model only with val_acc available, skipping.\n",
      "5010/5010 [==============================] - 10s 2ms/sample - loss: 0.1374 - accuracy: 0.6986 - val_loss: 0.1857 - val_accuracy: 0.5882\n",
      "Epoch 7/250\n",
      "5010/5010 [==============================] - ETA: 0s - loss: 0.1309 - accuracy: 0.7156WARNING:tensorflow:Can save best model only with val_acc available, skipping.\n",
      "5010/5010 [==============================] - 10s 2ms/sample - loss: 0.1309 - accuracy: 0.7156 - val_loss: 0.1926 - val_accuracy: 0.5674\n",
      "Epoch 8/250\n",
      "5010/5010 [==============================] - ETA: 0s - loss: 0.1258 - accuracy: 0.7238WARNING:tensorflow:Can save best model only with val_acc available, skipping.\n",
      "5010/5010 [==============================] - 10s 2ms/sample - loss: 0.1258 - accuracy: 0.7238 - val_loss: 0.1891 - val_accuracy: 0.5650\n",
      "Epoch 9/250\n",
      "5010/5010 [==============================] - ETA: 0s - loss: 0.1229 - accuracy: 0.7345WARNING:tensorflow:Can save best model only with val_acc available, skipping.\n",
      "5010/5010 [==============================] - 10s 2ms/sample - loss: 0.1229 - accuracy: 0.7345 - val_loss: 0.2001 - val_accuracy: 0.5347\n",
      "Epoch 10/250\n",
      "5010/5010 [==============================] - ETA: 0s - loss: 0.1191 - accuracy: 0.7429WARNING:tensorflow:Can save best model only with val_acc available, skipping.\n",
      "5010/5010 [==============================] - 10s 2ms/sample - loss: 0.1191 - accuracy: 0.7429 - val_loss: 0.1949 - val_accuracy: 0.5634\n",
      "Epoch 11/250\n",
      "5010/5010 [==============================] - ETA: 0s - loss: 0.1165 - accuracy: 0.7453WARNING:tensorflow:Can save best model only with val_acc available, skipping.\n",
      "5010/5010 [==============================] - 10s 2ms/sample - loss: 0.1165 - accuracy: 0.7453 - val_loss: 0.1976 - val_accuracy: 0.5650\n",
      "Epoch 12/250\n",
      "5010/5010 [==============================] - ETA: 0s - loss: 0.1147 - accuracy: 0.7513WARNING:tensorflow:Can save best model only with val_acc available, skipping.\n",
      "5010/5010 [==============================] - 10s 2ms/sample - loss: 0.1147 - accuracy: 0.7513 - val_loss: 0.2068 - val_accuracy: 0.5467\n",
      "Epoch 13/250\n",
      "5010/5010 [==============================] - ETA: 0s - loss: 0.1127 - accuracy: 0.7567WARNING:tensorflow:Can save best model only with val_acc available, skipping.\n",
      "5010/5010 [==============================] - 10s 2ms/sample - loss: 0.1127 - accuracy: 0.7567 - val_loss: 0.2046 - val_accuracy: 0.5331\n",
      "Epoch 14/250\n",
      "5010/5010 [==============================] - ETA: 0s - loss: 0.1108 - accuracy: 0.7593WARNING:tensorflow:Can save best model only with val_acc available, skipping.\n",
      "5010/5010 [==============================] - 10s 2ms/sample - loss: 0.1108 - accuracy: 0.7593 - val_loss: 0.2166 - val_accuracy: 0.5164\n",
      "Epoch 15/250\n",
      "5010/5010 [==============================] - ETA: 0s - loss: 0.1089 - accuracy: 0.7617WARNING:tensorflow:Can save best model only with val_acc available, skipping.\n",
      "5010/5010 [==============================] - 10s 2ms/sample - loss: 0.1089 - accuracy: 0.7617 - val_loss: 0.2074 - val_accuracy: 0.5658\n",
      "Epoch 16/250\n",
      "5010/5010 [==============================] - ETA: 0s - loss: 0.1064 - accuracy: 0.7695WARNING:tensorflow:Can save best model only with val_acc available, skipping.\n",
      "5010/5010 [==============================] - 10s 2ms/sample - loss: 0.1064 - accuracy: 0.7695 - val_loss: 0.2158 - val_accuracy: 0.5347\n",
      "Epoch 17/250\n",
      "5010/5010 [==============================] - ETA: 0s - loss: 0.1050 - accuracy: 0.7745WARNING:tensorflow:Can save best model only with val_acc available, skipping.\n",
      "5010/5010 [==============================] - 10s 2ms/sample - loss: 0.1050 - accuracy: 0.7745 - val_loss: 0.2202 - val_accuracy: 0.5092\n",
      "Epoch 18/250\n",
      "5010/5010 [==============================] - ETA: 0s - loss: 0.1027 - accuracy: 0.7784WARNING:tensorflow:Can save best model only with val_acc available, skipping.\n",
      "5010/5010 [==============================] - 10s 2ms/sample - loss: 0.1027 - accuracy: 0.7784 - val_loss: 0.2216 - val_accuracy: 0.5124\n",
      "Epoch 19/250\n",
      "5010/5010 [==============================] - ETA: 0s - loss: 0.1010 - accuracy: 0.7840WARNING:tensorflow:Can save best model only with val_acc available, skipping.\n",
      "5010/5010 [==============================] - 10s 2ms/sample - loss: 0.1010 - accuracy: 0.7840 - val_loss: 0.2136 - val_accuracy: 0.5523\n",
      "Epoch 20/250\n",
      "5010/5010 [==============================] - ETA: 0s - loss: 0.0991 - accuracy: 0.7884WARNING:tensorflow:Can save best model only with val_acc available, skipping.\n",
      "5010/5010 [==============================] - 10s 2ms/sample - loss: 0.0991 - accuracy: 0.7884 - val_loss: 0.2156 - val_accuracy: 0.5411\n",
      "Epoch 21/250\n",
      "5010/5010 [==============================] - ETA: 0s - loss: 0.0965 - accuracy: 0.7952WARNING:tensorflow:Can save best model only with val_acc available, skipping.\n",
      "5010/5010 [==============================] - 10s 2ms/sample - loss: 0.0965 - accuracy: 0.7952 - val_loss: 0.2201 - val_accuracy: 0.5196\n",
      "Epoch 22/250\n",
      "5010/5010 [==============================] - ETA: 0s - loss: 0.0975 - accuracy: 0.7946WARNING:tensorflow:Can save best model only with val_acc available, skipping.\n",
      "5010/5010 [==============================] - 10s 2ms/sample - loss: 0.0975 - accuracy: 0.7946 - val_loss: 0.2147 - val_accuracy: 0.5579\n",
      "Epoch 23/250\n",
      "5010/5010 [==============================] - ETA: 0s - loss: 0.0958 - accuracy: 0.7996WARNING:tensorflow:Can save best model only with val_acc available, skipping.\n",
      "5010/5010 [==============================] - 10s 2ms/sample - loss: 0.0958 - accuracy: 0.7996 - val_loss: 0.2211 - val_accuracy: 0.5371\n",
      "Epoch 24/250\n",
      "5010/5010 [==============================] - ETA: 0s - loss: 0.0944 - accuracy: 0.7984WARNING:tensorflow:Can save best model only with val_acc available, skipping.\n",
      "5010/5010 [==============================] - 10s 2ms/sample - loss: 0.0944 - accuracy: 0.7984 - val_loss: 0.2198 - val_accuracy: 0.5587\n",
      "Epoch 25/250\n",
      "5010/5010 [==============================] - ETA: 0s - loss: 0.0934 - accuracy: 0.8058WARNING:tensorflow:Can save best model only with val_acc available, skipping.\n",
      "5010/5010 [==============================] - 10s 2ms/sample - loss: 0.0934 - accuracy: 0.8058 - val_loss: 0.2242 - val_accuracy: 0.5467\n",
      "Epoch 26/250\n",
      "5010/5010 [==============================] - ETA: 0s - loss: 0.0924 - accuracy: 0.8054WARNING:tensorflow:Can save best model only with val_acc available, skipping.\n",
      "5010/5010 [==============================] - 10s 2ms/sample - loss: 0.0924 - accuracy: 0.8054 - val_loss: 0.2205 - val_accuracy: 0.5531\n",
      "Epoch 27/250\n"
     ]
    },
    {
     "name": "stdout",
     "output_type": "stream",
     "text": [
      "5010/5010 [==============================] - ETA: 0s - loss: 0.0914 - accuracy: 0.8070WARNING:tensorflow:Can save best model only with val_acc available, skipping.\n",
      "5010/5010 [==============================] - 10s 2ms/sample - loss: 0.0914 - accuracy: 0.8070 - val_loss: 0.2203 - val_accuracy: 0.5419\n",
      "Epoch 28/250\n",
      "5010/5010 [==============================] - ETA: 0s - loss: 0.0905 - accuracy: 0.8080WARNING:tensorflow:Can save best model only with val_acc available, skipping.\n",
      "5010/5010 [==============================] - 10s 2ms/sample - loss: 0.0905 - accuracy: 0.8080 - val_loss: 0.2221 - val_accuracy: 0.5411\n",
      "Epoch 29/250\n",
      "5010/5010 [==============================] - ETA: 0s - loss: 0.0896 - accuracy: 0.8122WARNING:tensorflow:Can save best model only with val_acc available, skipping.\n",
      "5010/5010 [==============================] - 10s 2ms/sample - loss: 0.0896 - accuracy: 0.8122 - val_loss: 0.2222 - val_accuracy: 0.5435\n",
      "Epoch 30/250\n",
      "5010/5010 [==============================] - ETA: 0s - loss: 0.0887 - accuracy: 0.8112WARNING:tensorflow:Can save best model only with val_acc available, skipping.\n",
      "5010/5010 [==============================] - 10s 2ms/sample - loss: 0.0887 - accuracy: 0.8112 - val_loss: 0.2325 - val_accuracy: 0.5156\n",
      "Epoch 31/250\n",
      "5010/5010 [==============================] - ETA: 0s - loss: 0.0886 - accuracy: 0.8134WARNING:tensorflow:Can save best model only with val_acc available, skipping.\n",
      "5010/5010 [==============================] - 10s 2ms/sample - loss: 0.0886 - accuracy: 0.8134 - val_loss: 0.2238 - val_accuracy: 0.5515\n",
      "Epoch 00031: early stopping\n"
     ]
    }
   ],
   "source": [
    "es = EarlyStopping(monitor='val_loss', mode='min', verbose=5, patience=30)\n",
    "mc = ModelCheckpoint('bilstm.h5', monitor='val_acc', mode='max', verbose=5, save_best_only=True)\n",
    "model_02.compile(optimizer= adam, loss='mse', metrics=['accuracy'])\n",
    "\n",
    "history = model_02.fit(x_train_final, y_train, epochs=250, callbacks=[es, mc], batch_size=64, validation_split=0.2)"
   ]
  },
  {
   "cell_type": "code",
   "execution_count": null,
   "id": "bb163c8d",
   "metadata": {},
   "outputs": [],
   "source": []
  },
  {
   "cell_type": "code",
   "execution_count": null,
   "id": "948f2cc5",
   "metadata": {},
   "outputs": [],
   "source": []
  },
  {
   "cell_type": "code",
   "execution_count": null,
   "id": "b7f9872a",
   "metadata": {
    "ExecuteTime": {
     "end_time": "2022-05-19T08:12:12.191782Z",
     "start_time": "2022-05-19T08:10:45.494Z"
    }
   },
   "outputs": [],
   "source": [
    "model.evaluate(x_test_final, y_test)[1] * 100"
   ]
  },
  {
   "cell_type": "code",
   "execution_count": null,
   "id": "03b36699",
   "metadata": {
    "ExecuteTime": {
     "end_time": "2022-05-19T08:12:12.192779Z",
     "start_time": "2022-05-19T08:10:45.497Z"
    }
   },
   "outputs": [],
   "source": [
    "predict = model.predict(x_test_final)"
   ]
  },
  {
   "cell_type": "code",
   "execution_count": null,
   "id": "a58e3e52",
   "metadata": {
    "ExecuteTime": {
     "end_time": "2022-05-19T08:12:12.193777Z",
     "start_time": "2022-05-19T08:10:45.501Z"
    }
   },
   "outputs": [],
   "source": [
    "predict_labels = np.argmax(predict, axis = 1)\n",
    "original_labels = np.argmax(y_test, axis = 1)"
   ]
  },
  {
   "cell_type": "code",
   "execution_count": null,
   "id": "d87dbf4c",
   "metadata": {
    "ExecuteTime": {
     "end_time": "2022-05-19T08:12:12.193777Z",
     "start_time": "2022-05-19T08:10:45.505Z"
    }
   },
   "outputs": [],
   "source": [
    "predict_labels[:5]"
   ]
  },
  {
   "cell_type": "code",
   "execution_count": null,
   "id": "43e0161a",
   "metadata": {
    "ExecuteTime": {
     "end_time": "2022-05-19T08:12:12.194774Z",
     "start_time": "2022-05-19T08:10:45.508Z"
    }
   },
   "outputs": [],
   "source": [
    "for i in range(50):\n",
    "    print('기사 제목  :', x_test['nouns_title'].iloc[i], '/\\t 원래 라벨 :', original_labels[i], '/\\t 예측한 라벨 :', predict_labels[i])"
   ]
  },
  {
   "cell_type": "code",
   "execution_count": null,
   "id": "be3118fb",
   "metadata": {
    "ExecuteTime": {
     "end_time": "2022-05-19T01:42:21.150932Z",
     "start_time": "2022-05-19T01:42:21.140958Z"
    }
   },
   "outputs": [],
   "source": []
  },
  {
   "cell_type": "code",
   "execution_count": null,
   "id": "5b41b2b6",
   "metadata": {},
   "outputs": [],
   "source": []
  },
  {
   "cell_type": "code",
   "execution_count": null,
   "id": "e8e14f9d",
   "metadata": {},
   "outputs": [],
   "source": []
  },
  {
   "cell_type": "code",
   "execution_count": null,
   "id": "1f866668",
   "metadata": {
    "ExecuteTime": {
     "end_time": "2022-05-19T08:12:12.194774Z",
     "start_time": "2022-05-19T08:10:45.514Z"
    }
   },
   "outputs": [],
   "source": [
    "model = Sequential()\n",
    "model.add(Embedding(total_cnt, 100))\n",
    "model.add(LSTM(128, return_sequences = True))\n",
    "model.add(Dropout(0.5))\n",
    "model.add(GRU(128))\n",
    "model.add(Dropout(0.5))\n",
    "model.add(Dense(1, activation='sigmoid'))\n",
    "\n",
    "model.summary()\n",
    "\n",
    "es = EarlyStopping(monitor='val_loss', mode='min', verbose=1, patience=4)\n",
    "mc = ModelCheckpoint('bilstm.h5', monitor='val_acc', mode='max', verbose=1, save_best_only=True)\n",
    "\n",
    "model.compile(optimizer='adam', loss='mse', metrics=['acc'])\n",
    "history = model.fit(x_train_final, y_train, epochs=15, callbacks=[es, mc], batch_size=6000, validation_split=0.2)"
   ]
  },
  {
   "cell_type": "code",
   "execution_count": null,
   "id": "633cea51",
   "metadata": {},
   "outputs": [],
   "source": []
  },
  {
   "cell_type": "code",
   "execution_count": null,
   "id": "34158500",
   "metadata": {},
   "outputs": [],
   "source": []
  },
  {
   "cell_type": "markdown",
   "id": "a52d1746",
   "metadata": {},
   "source": [
    "## 제목 길이 기준 분포 확인"
   ]
  },
  {
   "cell_type": "code",
   "execution_count": null,
   "id": "524536cc",
   "metadata": {},
   "outputs": [],
   "source": []
  },
  {
   "cell_type": "code",
   "execution_count": null,
   "id": "4e8959d0",
   "metadata": {},
   "outputs": [],
   "source": []
  },
  {
   "cell_type": "code",
   "execution_count": null,
   "id": "606cd172",
   "metadata": {},
   "outputs": [],
   "source": []
  },
  {
   "cell_type": "markdown",
   "id": "64b496b9",
   "metadata": {},
   "source": [
    "# 그래프 분석 (EDA)\n",
    "<br>\n",
    "\n",
    "**언론사별 / 월별 / 주중별기사 수량 확인**\n",
    "    \n",
    "    ▶ 언론사를 각 숫자로 표현 후 EDA 실시 Ex) 1 : 미디어펜, 2 : 아이뉴스24, 3 : 데일리안 ...\n",
    "    ▶ date : 등록된 기사별 날짜\n",
    "**아직 제대로 진행 안됨...**"
   ]
  },
  {
   "cell_type": "code",
   "execution_count": null,
   "id": "3621e09b",
   "metadata": {
    "ExecuteTime": {
     "end_time": "2022-05-19T08:12:12.195772Z",
     "start_time": "2022-05-19T08:10:45.523Z"
    }
   },
   "outputs": [],
   "source": [
    "# 날짜별 데이터 갯수\n",
    "df_news_copy.groupby('date').count().head(3)"
   ]
  },
  {
   "cell_type": "markdown",
   "id": "803f39f5",
   "metadata": {},
   "source": [
    "## 월별 기사 갯수\n",
    "<br>\n",
    "\n",
    "**참고사이트 : https://zephyrus1111.tistory.com/9**"
   ]
  },
  {
   "cell_type": "code",
   "execution_count": null,
   "id": "8083efc2",
   "metadata": {
    "ExecuteTime": {
     "end_time": "2022-05-19T08:12:12.196769Z",
     "start_time": "2022-05-19T08:10:45.526Z"
    }
   },
   "outputs": [],
   "source": [
    "df_news_copy.describe(include='all')"
   ]
  },
  {
   "cell_type": "code",
   "execution_count": null,
   "id": "6b2b3437",
   "metadata": {
    "ExecuteTime": {
     "end_time": "2022-05-19T08:12:12.196769Z",
     "start_time": "2022-05-19T08:10:45.528Z"
    }
   },
   "outputs": [],
   "source": [
    "# 시각화 글자 깨짐 방지\n",
    "import os\n",
    "\n",
    "if os.name == 'posix':\n",
    "    plt.rc(\"font\", family=\"AppleGothic\")\n",
    "else:\n",
    "    plt.rc(\"font\", family=\"Malgun Gothic\")"
   ]
  },
  {
   "cell_type": "code",
   "execution_count": null,
   "id": "4568c29a",
   "metadata": {
    "ExecuteTime": {
     "end_time": "2022-05-19T08:12:12.197767Z",
     "start_time": "2022-05-19T08:10:45.530Z"
    },
    "scrolled": false
   },
   "outputs": [],
   "source": [
    "df_news.head()"
   ]
  },
  {
   "cell_type": "code",
   "execution_count": null,
   "id": "dc7fa0a2",
   "metadata": {
    "ExecuteTime": {
     "end_time": "2022-05-19T08:12:12.197767Z",
     "start_time": "2022-05-19T08:10:45.532Z"
    }
   },
   "outputs": [],
   "source": [
    "df_news.hist(figsize = (16, 12))\n",
    "plt.show()"
   ]
  },
  {
   "cell_type": "code",
   "execution_count": null,
   "id": "396f3d8d",
   "metadata": {
    "ExecuteTime": {
     "end_time": "2022-05-19T08:12:12.198764Z",
     "start_time": "2022-05-19T08:10:45.535Z"
    }
   },
   "outputs": [],
   "source": [
    "# 2021년도부터 시작\n",
    "def next_date_get(x):\n",
    "    year = 21\n",
    "    for i in range(len(x)):\n",
    "        if (x[i] % 12) != 0:\n",
    "            if x[i] < 10:\n",
    "                x.insert(i, '{}.0'.format(str(year)) + str(x.pop(i)))\n",
    "            else:\n",
    "                x.insert(i, '{}.'.format(str(year)) + str(x.pop(i)))\n",
    "        else:\n",
    "            x.insert(i, '{}.'.format(str(year)) + str(x.pop(i))) # 12월까지 카운트\n",
    "            year += 1 # 다음년도\n",
    "    return x\n",
    "\n",
    "# 월별로 정렬이 되어 있으므로 21 ~ 22년도 사이 지정 해주어야 함.\n",
    "x = next_date_get(df_news_copy['month'].unique().tolist()) \n",
    "\n",
    "tmp_a, tmp_b = df_news_copy.groupby('month')['date'].count().tolist()[4:], df_news_copy.groupby('month')['date'].count().tolist()[:4]\n",
    "y = tmp_a + tmp_b\n",
    "\n",
    "print('2021.05 ~ :', x) # 월\n",
    "print('2021.05 ~ :', y) # 값"
   ]
  },
  {
   "cell_type": "code",
   "execution_count": null,
   "id": "d9bb2791",
   "metadata": {
    "ExecuteTime": {
     "end_time": "2022-05-19T08:12:12.198764Z",
     "start_time": "2022-05-19T08:10:45.537Z"
    }
   },
   "outputs": [],
   "source": [
    "plt.figure(figsize = (16, 8))\n",
    "\n",
    "for i, v in enumerate(x):\n",
    "    plt.text(v, y[i], y[i],                 # 좌표 (x축 = v, y축 = y[0]..y[1], 표시 = y[0]..y[1])\n",
    "             fontsize = 15, \n",
    "             color='green',\n",
    "             horizontalalignment='center',  # horizontalalignment (left, center, right)\n",
    "             verticalalignment='bottom')    # verticalalignment (top, center, bottom)\n",
    "\n",
    "plt.title('월별 뉴스 기사', size = 25)\n",
    "plt.bar(x, y, width=0.5, color='pink')\n",
    "plt.xlabel('월별', size = 20, labelpad=20) # x축 제목 설정\n",
    "plt.ylabel('갯수', size = 20, labelpad=20) #y축 제목 설정, 빨간 글씨\n",
    "plt.show()"
   ]
  },
  {
   "cell_type": "markdown",
   "id": "5f5f561b",
   "metadata": {},
   "source": [
    "## 언론사별 기사 갯수\n",
    "- 언론사별 범주형 데이터 --> 수치형으로 변환"
   ]
  },
  {
   "cell_type": "code",
   "execution_count": null,
   "id": "2c5c3a01",
   "metadata": {
    "ExecuteTime": {
     "end_time": "2022-05-19T08:12:12.199761Z",
     "start_time": "2022-05-19T08:10:45.540Z"
    },
    "scrolled": false
   },
   "outputs": [],
   "source": [
    "df_news.head(1)"
   ]
  },
  {
   "cell_type": "code",
   "execution_count": null,
   "id": "3b98bb0b",
   "metadata": {
    "ExecuteTime": {
     "end_time": "2022-05-19T08:12:12.199761Z",
     "start_time": "2022-05-19T08:10:45.542Z"
    }
   },
   "outputs": [],
   "source": [
    "len(df_news['press'].unique())\n",
    "df_news['press'].unique()[:5]"
   ]
  },
  {
   "cell_type": "code",
   "execution_count": null,
   "id": "a5e7883c",
   "metadata": {
    "ExecuteTime": {
     "end_time": "2022-05-19T08:12:12.200758Z",
     "start_time": "2022-05-19T08:10:45.545Z"
    }
   },
   "outputs": [],
   "source": [
    "df_news_copy['press'].unique()\n",
    "x = df_news_copy['press'].value_counts().index.tolist()\n",
    "y = df_news_copy['press'].value_counts().values.tolist()"
   ]
  },
  {
   "cell_type": "code",
   "execution_count": null,
   "id": "53bb94e5",
   "metadata": {
    "ExecuteTime": {
     "end_time": "2022-05-19T08:12:12.201756Z",
     "start_time": "2022-05-19T08:10:45.547Z"
    }
   },
   "outputs": [],
   "source": [
    "# 기사 갯수가 85 이상인 것만\n",
    "limit = 0\n",
    "for idx, value  in enumerate(y):\n",
    "    if value < 85:\n",
    "        limit = idx\n",
    "        break\n",
    "\n",
    "x = x[:limit]\n",
    "y = y[:limit]"
   ]
  },
  {
   "cell_type": "code",
   "execution_count": null,
   "id": "5d6a30e8",
   "metadata": {
    "ExecuteTime": {
     "end_time": "2022-05-19T08:12:12.202753Z",
     "start_time": "2022-05-19T08:10:45.549Z"
    }
   },
   "outputs": [],
   "source": [
    "df_news_copy['press'].value_counts()[50:]"
   ]
  },
  {
   "cell_type": "code",
   "execution_count": null,
   "id": "e27b4c24",
   "metadata": {
    "ExecuteTime": {
     "end_time": "2022-05-19T08:12:12.202753Z",
     "start_time": "2022-05-19T08:10:45.551Z"
    },
    "scrolled": true
   },
   "outputs": [],
   "source": [
    "plt.figure(figsize = (46, 12))\n",
    "\n",
    "for i, v in enumerate(x):\n",
    "    plt.text(v, y[i], y[i],                 # 좌표 (x축 = v, y축 = y[0]..y[1], 표시 = y[0]..y[1])\n",
    "             fontsize = 15, \n",
    "             color='green',\n",
    "             horizontalalignment='center',  # horizontalalignment (left, center, right)\n",
    "             verticalalignment='bottom')    # verticalalignment (top, center, bottom)\n",
    "\n",
    "plt.title('언론사별 기사 개수', fontsize = 20)\n",
    "plt.bar(x, y, width=0.5, color = 'pink')\n",
    "plt.xticks(rotation = -45)\n",
    "plt.xlabel('count', fontsize=20)\n",
    "plt.ylabel('press', fontsize=20)\n",
    "plt.show()"
   ]
  },
  {
   "cell_type": "markdown",
   "id": "cb4a0dc6",
   "metadata": {},
   "source": [
    "# 해야할 것들\n",
    "- 이슈분석지표 워드 클라우드는 이제 단어별 갯수 구한 후 표 그리면 완성\n",
    "- 감정분석 \n",
    "<br><br>\n",
    "- 1. 현재 사용중인 CSV파일이 아닌 1년치 데이터를 스크래핑\n",
    "<br><br>\n",
    "- 2. 스크래핑한 데이터의 갯수가 50000개의 데이터라면 / Train_set : 70% Test_set : 30%로 분할 (랜덤모듈이용)<br>\n",
    "※ 단, Test_set 분할시 2.5%로 12개월분할하면 제일 좋음 ( 매달마다 2.5%의 Test_set를 뽑아와서 총 30%로 만듬.) 1~12월 골고루 뽑아올 수 있음.\n",
    "<br><br>\n",
    "- 3. Train_set에 Labeling을 해주어야 함. (긍정 1, 부정 -1, 중립 0)\n",
    "<br>\n",
    "※ Labeling 할 때 어떤식으로 정답을 부여할지 생각해야 됨.\n",
    "<br>\n",
    "<br>\n",
    "- 4. 코로나 이전 1년치랑 이후 1년치 데이터 비교\n",
    "<br>\n",
    "1. 긍정 부정 단어사전 구축 후 레이블링 작업 진행\n"
   ]
  }
 ],
 "metadata": {
  "kernelspec": {
   "display_name": "Proj",
   "language": "python",
   "name": "intern_project"
  },
  "language_info": {
   "codemirror_mode": {
    "name": "ipython",
    "version": 3
   },
   "file_extension": ".py",
   "mimetype": "text/x-python",
   "name": "python",
   "nbconvert_exporter": "python",
   "pygments_lexer": "ipython3",
   "version": "3.6.13"
  },
  "toc": {
   "base_numbering": 1,
   "nav_menu": {},
   "number_sections": true,
   "sideBar": true,
   "skip_h1_title": false,
   "title_cell": "Table of Contents",
   "title_sidebar": "Contents",
   "toc_cell": false,
   "toc_position": {
    "height": "691.804px",
    "left": "46.9943px",
    "top": "111.051px",
    "width": "323px"
   },
   "toc_section_display": true,
   "toc_window_display": true
  }
 },
 "nbformat": 4,
 "nbformat_minor": 5
}
