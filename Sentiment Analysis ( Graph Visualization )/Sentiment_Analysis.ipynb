{
 "cells": [
  {
   "cell_type": "markdown",
   "id": "9cff7e3a",
   "metadata": {},
   "source": [
    "\n",
    "**참고자료**\n",
    "<br>\n",
    "<br>\n",
    " * https://somjang.tistory.com/entry/Keras%EA%B8%B0%EC%82%AC-%EC%A0%9C%EB%AA%A9%EC%9D%84-%EA%B0%80%EC%A7%80%EA%B3%A0-%EA%B8%8D%EC%A0%95-%EB%B6%80%EC%A0%95-%EC%A4%91%EB%A6%BD-%EB%B6%84%EB%A5%98%ED%95%98%EB%8A%94-%EB%AA%A8%EB%8D%B8-%EB%A7%8C%EB%93%A4%EC%96%B4%EB%B3%B4%EA%B8%B0\n",
    "<br>\n",
    "<br>\n",
    " * https://github.com/sbomhoo/naver_news_crawling/blob/master/README.md"
   ]
  },
  {
   "cell_type": "markdown",
   "id": "746e088d",
   "metadata": {},
   "source": [
    "# 네이버 기사 감정 분석\n",
    "\n",
    "## 데이터 불러오기\n",
    "<br>\n",
    "\n",
    "**데이터 특성 정의( 각각의 데이터가 어떤 특성을 가지는지? )**\n",
    "\n",
    "    ▶ date : 등록된 기사별 날짜\n",
    "    ▶ title : 기사 제목\n",
    "    ▶ source : 언론사\n",
    "    ▶ contents : 기사 내용 요약본\n",
    "    ▶ link : 사이트 주소\n",
    "\n",
    "※ : 네이버 뉴스 기준으로 Test... ( 구글 뉴스데이터와 병합해서 전처리 실시 예정 )"
   ]
  },
  {
   "cell_type": "code",
   "execution_count": 231,
   "id": "a2be10e9",
   "metadata": {
    "ExecuteTime": {
     "end_time": "2022-05-16T02:20:26.570401Z",
     "start_time": "2022-05-16T02:20:26.560401Z"
    },
    "scrolled": true
   },
   "outputs": [],
   "source": [
    "import pandas as pd\n",
    "import numpy as np\n",
    "import matplotlib\n",
    "import datetime, time\n",
    "import re\n",
    "import timedelta\n",
    "import matplotlib.pyplot as plt\n",
    "import seaborn as sns"
   ]
  },
  {
   "cell_type": "code",
   "execution_count": 232,
   "id": "f441fef5",
   "metadata": {
    "ExecuteTime": {
     "end_time": "2022-05-16T02:20:26.767960Z",
     "start_time": "2022-05-16T02:20:26.753001Z"
    }
   },
   "outputs": [],
   "source": [
    "# 시각화 글자 깨짐 방지\n",
    "import os\n",
    "\n",
    "if os.name == 'posix':\n",
    "    plt.rc(\"font\", family=\"AppleGothic\")\n",
    "else:\n",
    "    plt.rc(\"font\", family=\"Malgun Gothic\")"
   ]
  },
  {
   "cell_type": "code",
   "execution_count": 233,
   "id": "f4ffc5a8",
   "metadata": {
    "ExecuteTime": {
     "end_time": "2022-05-16T02:20:27.056121Z",
     "start_time": "2022-05-16T02:20:26.939434Z"
    }
   },
   "outputs": [
    {
     "name": "stdout",
     "output_type": "stream",
     "text": [
      "(12867, 12)\n"
     ]
    },
    {
     "data": {
      "text/html": [
       "<div>\n",
       "<style scoped>\n",
       "    .dataframe tbody tr th:only-of-type {\n",
       "        vertical-align: middle;\n",
       "    }\n",
       "\n",
       "    .dataframe tbody tr th {\n",
       "        vertical-align: top;\n",
       "    }\n",
       "\n",
       "    .dataframe thead th {\n",
       "        text-align: right;\n",
       "    }\n",
       "</style>\n",
       "<table border=\"1\" class=\"dataframe\">\n",
       "  <thead>\n",
       "    <tr style=\"text-align: right;\">\n",
       "      <th></th>\n",
       "      <th>Unnamed: 0</th>\n",
       "      <th>date</th>\n",
       "      <th>title</th>\n",
       "      <th>source</th>\n",
       "      <th>contents</th>\n",
       "      <th>link</th>\n",
       "      <th>Unnamed: 6</th>\n",
       "      <th>Unnamed: 7</th>\n",
       "      <th>Unnamed: 8</th>\n",
       "      <th>Unnamed: 9</th>\n",
       "      <th>Unnamed: 10</th>\n",
       "      <th>Unnamed: 11</th>\n",
       "    </tr>\n",
       "  </thead>\n",
       "  <tbody>\n",
       "    <tr>\n",
       "      <th>0</th>\n",
       "      <td>0</td>\n",
       "      <td>2021.05.01.</td>\n",
       "      <td>DGB대구은행, 은행권 중금리대출 실적 1위</td>\n",
       "      <td>글로벌이코노믹</td>\n",
       "      <td>DGB대구은행의 중금리대출 실적이 지방은행뿐만 아니라 은행권 전체에서 가장 많은 것...</td>\n",
       "      <td>http://www.g-enews.com/ko-kr/news/article/news...</td>\n",
       "      <td>NaN</td>\n",
       "      <td>NaN</td>\n",
       "      <td>NaN</td>\n",
       "      <td>NaN</td>\n",
       "      <td>NaN</td>\n",
       "      <td>NaN</td>\n",
       "    </tr>\n",
       "  </tbody>\n",
       "</table>\n",
       "</div>"
      ],
      "text/plain": [
       "   Unnamed: 0         date                     title   source  \\\n",
       "0           0  2021.05.01.  DGB대구은행, 은행권 중금리대출 실적 1위  글로벌이코노믹   \n",
       "\n",
       "                                            contents  \\\n",
       "0  DGB대구은행의 중금리대출 실적이 지방은행뿐만 아니라 은행권 전체에서 가장 많은 것...   \n",
       "\n",
       "                                                link Unnamed: 6 Unnamed: 7  \\\n",
       "0  http://www.g-enews.com/ko-kr/news/article/news...        NaN        NaN   \n",
       "\n",
       "  Unnamed: 8 Unnamed: 9 Unnamed: 10 Unnamed: 11  \n",
       "0        NaN        NaN         NaN         NaN  "
      ]
     },
     "execution_count": 233,
     "metadata": {},
     "output_type": "execute_result"
    }
   ],
   "source": [
    "matplotlib.rc('font',family='NanumGothic')\n",
    "\n",
    "# 한글 폰트 적용\n",
    "matplotlib.rc('axes', unicode_minus = False) # True\n",
    "\n",
    "# 2022 / 04 / 21 일자 스크래핑 데이터\n",
    "# df_news = pd.read_csv('./news_data.csv', engine= 'python',encoding = 'utf-8')\n",
    "df_news = pd.read_csv('./news_data(Raw_Data 2021.05.01 ~ 2022.05.01 검색어-DGB대구은행).csv', engine= 'python',encoding = 'utf-8')\n",
    "\n",
    "# (행, 열)\n",
    "print(df_news.shape)\n",
    "df_news.head(1)"
   ]
  },
  {
   "cell_type": "code",
   "execution_count": 234,
   "id": "eb89b858",
   "metadata": {
    "ExecuteTime": {
     "end_time": "2022-05-16T02:20:27.146132Z",
     "start_time": "2022-05-16T02:20:27.128181Z"
    },
    "scrolled": true
   },
   "outputs": [
    {
     "name": "stdout",
     "output_type": "stream",
     "text": [
      "<class 'pandas.core.frame.DataFrame'>\n",
      "RangeIndex: 12867 entries, 0 to 12866\n",
      "Data columns (total 12 columns):\n",
      " #   Column       Non-Null Count  Dtype \n",
      "---  ------       --------------  ----- \n",
      " 0   Unnamed: 0   12867 non-null  int64 \n",
      " 1   date         12867 non-null  object\n",
      " 2   title        12867 non-null  object\n",
      " 3   source       12867 non-null  object\n",
      " 4   contents     12864 non-null  object\n",
      " 5   link         12867 non-null  object\n",
      " 6   Unnamed: 6   108 non-null    object\n",
      " 7   Unnamed: 7   65 non-null     object\n",
      " 8   Unnamed: 8   14 non-null     object\n",
      " 9   Unnamed: 9   14 non-null     object\n",
      " 10  Unnamed: 10  6 non-null      object\n",
      " 11  Unnamed: 11  5 non-null      object\n",
      "dtypes: int64(1), object(11)\n",
      "memory usage: 1.2+ MB\n"
     ]
    }
   ],
   "source": [
    "# 데이터 구조 파악시 용이\n",
    "df_news.info()"
   ]
  },
  {
   "cell_type": "markdown",
   "id": "88a27fb0",
   "metadata": {},
   "source": [
    "# 데이터 전처리"
   ]
  },
  {
   "cell_type": "markdown",
   "id": "580d9198",
   "metadata": {},
   "source": [
    "## 이상치와 결측치 제거 / 데이터 특성(구조) 확인\n",
    "    ▶ 필요없는 컬럼 제거\n",
    "    ▶ 컬럼명과 순서 변경 \n",
    "    ▶ 데이터 구조 파악 - info, head\n",
    "    \n",
    "    ▶ 우선 'DGB대구은행'과 필요없는 언론사는 버리고 인덱스번호도 초기화 시켜야 함.\n",
    "    예를 들면, 축구관련 기사\n",
    "\n",
    "    제목과 요약본 기준\n",
    "    '감독' / '신태용' / 'DGB대구은행파크' / '대표팀' / '경기' / '스포츠' / '축구'\n",
    "    참고 사이트 : https://jimmy-ai.tistory.com/92\n",
    "※ : 수치별 데이터가 아니므로 이상치는 굳이 확인할 필요가 없다고 판단"
   ]
  },
  {
   "cell_type": "code",
   "execution_count": 235,
   "id": "9372f5e9",
   "metadata": {
    "ExecuteTime": {
     "end_time": "2022-05-16T02:20:27.737188Z",
     "start_time": "2022-05-16T02:20:27.728212Z"
    }
   },
   "outputs": [],
   "source": [
    "# 필요한 데이터만 추출 / 컬럼명 변경\n",
    "df_news = df_news.loc[:,['date', 'title', 'source', 'contents']]\n",
    "df_news.rename(columns={'source' : 'press'}, inplace=True)"
   ]
  },
  {
   "cell_type": "code",
   "execution_count": 236,
   "id": "0f4202a2",
   "metadata": {
    "ExecuteTime": {
     "end_time": "2022-05-16T02:20:27.934270Z",
     "start_time": "2022-05-16T02:20:27.912329Z"
    }
   },
   "outputs": [
    {
     "name": "stdout",
     "output_type": "stream",
     "text": [
      "<class 'pandas.core.frame.DataFrame'>\n",
      "RangeIndex: 12867 entries, 0 to 12866\n",
      "Data columns (total 4 columns):\n",
      " #   Column    Non-Null Count  Dtype \n",
      "---  ------    --------------  ----- \n",
      " 0   date      12867 non-null  object\n",
      " 1   title     12867 non-null  object\n",
      " 2   press     12867 non-null  object\n",
      " 3   contents  12864 non-null  object\n",
      "dtypes: object(4)\n",
      "memory usage: 402.2+ KB\n"
     ]
    }
   ],
   "source": [
    "df_news.info()"
   ]
  },
  {
   "cell_type": "code",
   "execution_count": 237,
   "id": "92d67a0c",
   "metadata": {
    "ExecuteTime": {
     "end_time": "2022-05-16T02:20:28.128752Z",
     "start_time": "2022-05-16T02:20:28.120772Z"
    },
    "scrolled": true
   },
   "outputs": [
    {
     "data": {
      "text/html": [
       "<div>\n",
       "<style scoped>\n",
       "    .dataframe tbody tr th:only-of-type {\n",
       "        vertical-align: middle;\n",
       "    }\n",
       "\n",
       "    .dataframe tbody tr th {\n",
       "        vertical-align: top;\n",
       "    }\n",
       "\n",
       "    .dataframe thead th {\n",
       "        text-align: right;\n",
       "    }\n",
       "</style>\n",
       "<table border=\"1\" class=\"dataframe\">\n",
       "  <thead>\n",
       "    <tr style=\"text-align: right;\">\n",
       "      <th></th>\n",
       "      <th>date</th>\n",
       "      <th>title</th>\n",
       "      <th>press</th>\n",
       "      <th>contents</th>\n",
       "    </tr>\n",
       "  </thead>\n",
       "  <tbody>\n",
       "    <tr>\n",
       "      <th>0</th>\n",
       "      <td>2021.05.01.</td>\n",
       "      <td>DGB대구은행, 은행권 중금리대출 실적 1위</td>\n",
       "      <td>글로벌이코노믹</td>\n",
       "      <td>DGB대구은행의 중금리대출 실적이 지방은행뿐만 아니라 은행권 전체에서 가장 많은 것...</td>\n",
       "    </tr>\n",
       "  </tbody>\n",
       "</table>\n",
       "</div>"
      ],
      "text/plain": [
       "          date                     title    press  \\\n",
       "0  2021.05.01.  DGB대구은행, 은행권 중금리대출 실적 1위  글로벌이코노믹   \n",
       "\n",
       "                                            contents  \n",
       "0  DGB대구은행의 중금리대출 실적이 지방은행뿐만 아니라 은행권 전체에서 가장 많은 것...  "
      ]
     },
     "execution_count": 237,
     "metadata": {},
     "output_type": "execute_result"
    }
   ],
   "source": [
    "df_news.head(1)"
   ]
  },
  {
   "cell_type": "code",
   "execution_count": 238,
   "id": "c9c9c087",
   "metadata": {
    "ExecuteTime": {
     "end_time": "2022-05-16T02:20:28.355373Z",
     "start_time": "2022-05-16T02:20:28.344401Z"
    }
   },
   "outputs": [
    {
     "data": {
      "text/plain": [
       "date        0\n",
       "title       0\n",
       "press       0\n",
       "contents    3\n",
       "dtype: int64"
      ]
     },
     "execution_count": 238,
     "metadata": {},
     "output_type": "execute_result"
    }
   ],
   "source": [
    "# 행별로 null값 존재 유무 파악 --> 결측치 contents쪽에 3개 존재.\n",
    "df_news.isnull().sum(axis = 0)"
   ]
  },
  {
   "cell_type": "code",
   "execution_count": 239,
   "id": "12ba1ef7",
   "metadata": {
    "ExecuteTime": {
     "end_time": "2022-05-16T02:20:28.552324Z",
     "start_time": "2022-05-16T02:20:28.535950Z"
    }
   },
   "outputs": [
    {
     "data": {
      "text/html": [
       "<div>\n",
       "<style scoped>\n",
       "    .dataframe tbody tr th:only-of-type {\n",
       "        vertical-align: middle;\n",
       "    }\n",
       "\n",
       "    .dataframe tbody tr th {\n",
       "        vertical-align: top;\n",
       "    }\n",
       "\n",
       "    .dataframe thead th {\n",
       "        text-align: right;\n",
       "    }\n",
       "</style>\n",
       "<table border=\"1\" class=\"dataframe\">\n",
       "  <thead>\n",
       "    <tr style=\"text-align: right;\">\n",
       "      <th></th>\n",
       "      <th>date</th>\n",
       "      <th>title</th>\n",
       "      <th>press</th>\n",
       "      <th>contents</th>\n",
       "    </tr>\n",
       "  </thead>\n",
       "  <tbody>\n",
       "    <tr>\n",
       "      <th>3217</th>\n",
       "      <td>2021.08.04.</td>\n",
       "      <td>검찰 '캄보디아 부동산 계약 사고' 관련 대구은행 압수수색</td>\n",
       "      <td>뉴스1</td>\n",
       "      <td>오류:509</td>\n",
       "    </tr>\n",
       "    <tr>\n",
       "      <th>3218</th>\n",
       "      <td>2021.08.04.</td>\n",
       "      <td>검찰 '캄보디아 부동산 계약 사고' 관련 대구은행 압수수색</td>\n",
       "      <td>뉴스1</td>\n",
       "      <td>오류:509</td>\n",
       "    </tr>\n",
       "    <tr>\n",
       "      <th>3219</th>\n",
       "      <td>2021.08.04.</td>\n",
       "      <td>검찰 '캄보디아 부동산 계약 사고' 관련 대구은행 압수수색</td>\n",
       "      <td>뉴스1</td>\n",
       "      <td>오류:509</td>\n",
       "    </tr>\n",
       "    <tr>\n",
       "      <th>3226</th>\n",
       "      <td>2021.08.04.</td>\n",
       "      <td>검찰, 대구은행 압수수색..캄보디아 부동산 매입 손실 사건</td>\n",
       "      <td>뉴스1</td>\n",
       "      <td>오류:509</td>\n",
       "    </tr>\n",
       "    <tr>\n",
       "      <th>3227</th>\n",
       "      <td>2021.08.04.</td>\n",
       "      <td>검찰, 대구은행 압수수색..캄보디아 부동산 매입 손실 사건</td>\n",
       "      <td>뉴스1</td>\n",
       "      <td>오류:509</td>\n",
       "    </tr>\n",
       "  </tbody>\n",
       "</table>\n",
       "</div>"
      ],
      "text/plain": [
       "             date                             title press contents\n",
       "3217  2021.08.04.  검찰 '캄보디아 부동산 계약 사고' 관련 대구은행 압수수색   뉴스1   오류:509\n",
       "3218  2021.08.04.  검찰 '캄보디아 부동산 계약 사고' 관련 대구은행 압수수색   뉴스1   오류:509\n",
       "3219  2021.08.04.  검찰 '캄보디아 부동산 계약 사고' 관련 대구은행 압수수색   뉴스1   오류:509\n",
       "3226  2021.08.04.  검찰, 대구은행 압수수색..캄보디아 부동산 매입 손실 사건   뉴스1   오류:509\n",
       "3227  2021.08.04.  검찰, 대구은행 압수수색..캄보디아 부동산 매입 손실 사건   뉴스1   오류:509"
      ]
     },
     "execution_count": 239,
     "metadata": {},
     "output_type": "execute_result"
    }
   ],
   "source": [
    "df_news[df_news['contents'].str.contains('오류', na=False)][:5]"
   ]
  },
  {
   "cell_type": "code",
   "execution_count": 240,
   "id": "80cd9a9f",
   "metadata": {
    "ExecuteTime": {
     "end_time": "2022-05-16T02:20:28.853196Z",
     "start_time": "2022-05-16T02:20:28.769419Z"
    }
   },
   "outputs": [
    {
     "name": "stdout",
     "output_type": "stream",
     "text": [
      "이상치 제거 전: 51\n",
      "이상치 제거 후: 0\n"
     ]
    }
   ],
   "source": [
    "# 불필요한 내용 삭제 / contents의 길이가 20이하 또는 title의 길이가 10 이하인 데이터\n",
    "df_news.head()\n",
    "\n",
    "# 51개 스크래핑 오류\n",
    "\n",
    "print('이상치 제거 전:',len(df_news[df_news['contents'].str.contains('오류', na=False)]))\n",
    "\n",
    "for i in df_news[df_news['contents'].str.contains('오류', na=False)].index:\n",
    "    df_news.drop(i, axis=0, inplace=True)\n",
    "    \n",
    "print('이상치 제거 후:',len(df_news[df_news['contents'].str.contains('오류', na=False)]))"
   ]
  },
  {
   "cell_type": "code",
   "execution_count": 241,
   "id": "9020b119",
   "metadata": {
    "ExecuteTime": {
     "end_time": "2022-05-16T02:20:28.972877Z",
     "start_time": "2022-05-16T02:20:28.960907Z"
    }
   },
   "outputs": [
    {
     "data": {
      "text/html": [
       "<div>\n",
       "<style scoped>\n",
       "    .dataframe tbody tr th:only-of-type {\n",
       "        vertical-align: middle;\n",
       "    }\n",
       "\n",
       "    .dataframe tbody tr th {\n",
       "        vertical-align: top;\n",
       "    }\n",
       "\n",
       "    .dataframe thead th {\n",
       "        text-align: right;\n",
       "    }\n",
       "</style>\n",
       "<table border=\"1\" class=\"dataframe\">\n",
       "  <thead>\n",
       "    <tr style=\"text-align: right;\">\n",
       "      <th></th>\n",
       "      <th>date</th>\n",
       "      <th>title</th>\n",
       "      <th>press</th>\n",
       "      <th>contents</th>\n",
       "    </tr>\n",
       "  </thead>\n",
       "  <tbody>\n",
       "    <tr>\n",
       "      <th>0</th>\n",
       "      <td>2021.05.01.</td>\n",
       "      <td>DGB대구은행, 은행권 중금리대출 실적 1위</td>\n",
       "      <td>글로벌이코노믹</td>\n",
       "      <td>DGB대구은행의 중금리대출 실적이 지방은행뿐만 아니라 은행권 전체에서 가장 많은 것...</td>\n",
       "    </tr>\n",
       "  </tbody>\n",
       "</table>\n",
       "</div>"
      ],
      "text/plain": [
       "          date                     title    press  \\\n",
       "0  2021.05.01.  DGB대구은행, 은행권 중금리대출 실적 1위  글로벌이코노믹   \n",
       "\n",
       "                                            contents  \n",
       "0  DGB대구은행의 중금리대출 실적이 지방은행뿐만 아니라 은행권 전체에서 가장 많은 것...  "
      ]
     },
     "execution_count": 241,
     "metadata": {},
     "output_type": "execute_result"
    }
   ],
   "source": [
    "df_news.head(1)"
   ]
  },
  {
   "cell_type": "code",
   "execution_count": 242,
   "id": "065f6b41",
   "metadata": {
    "ExecuteTime": {
     "end_time": "2022-05-16T02:20:29.183038Z",
     "start_time": "2022-05-16T02:20:29.160100Z"
    }
   },
   "outputs": [
    {
     "name": "stdout",
     "output_type": "stream",
     "text": [
      "(12816, 4)\n",
      "중복행 제거 전 데이터 : 12816\n",
      "중복행 갯수 : 165개\n",
      "중복행 제거 후 데이터 : 10691\n"
     ]
    }
   ],
   "source": [
    "# 중복행 제거 --> 분석하는데 안 좋을 수도 있으니 신중한 고려가 필요함.\n",
    "# 참고 : https://sy-log.tistory.com/60\n",
    "\n",
    "print(df_news.shape)\n",
    "print('중복행 제거 전 데이터 :', len(df_news))\n",
    "# 중복행 살림.\n",
    "print('중복행 갯수 : %d개' % df_news.duplicated().sum())\n",
    "print('중복행 제거 후 데이터 :', len(df_news.drop_duplicates(['title'], keep = False)))"
   ]
  },
  {
   "cell_type": "code",
   "execution_count": 243,
   "id": "7fdcac53",
   "metadata": {
    "ExecuteTime": {
     "end_time": "2022-05-16T02:20:29.393687Z",
     "start_time": "2022-05-16T02:20:29.383742Z"
    }
   },
   "outputs": [
    {
     "data": {
      "text/plain": [
       "12816"
      ]
     },
     "execution_count": 243,
     "metadata": {},
     "output_type": "execute_result"
    }
   ],
   "source": [
    "# 중복 제거 일부러 하지 않음.\n",
    "len(df_news)"
   ]
  },
  {
   "cell_type": "code",
   "execution_count": 244,
   "id": "9c0f035f",
   "metadata": {
    "ExecuteTime": {
     "end_time": "2022-05-16T02:20:29.606290Z",
     "start_time": "2022-05-16T02:20:29.600306Z"
    }
   },
   "outputs": [],
   "source": [
    "# AND용\n",
    "# target_string = ['서울', '마포']\n",
    "# df[df['주소'].map(lambda x: all(string in x for string in target_string))]\n",
    "# df_news.head()"
   ]
  },
  {
   "cell_type": "code",
   "execution_count": 245,
   "id": "c7470143",
   "metadata": {
    "ExecuteTime": {
     "end_time": "2022-05-16T02:20:29.832237Z",
     "start_time": "2022-05-16T02:20:29.816267Z"
    }
   },
   "outputs": [
    {
     "data": {
      "text/plain": [
       "12816"
      ]
     },
     "execution_count": 245,
     "metadata": {},
     "output_type": "execute_result"
    }
   ],
   "source": [
    "len(df_news)"
   ]
  },
  {
   "cell_type": "code",
   "execution_count": 246,
   "id": "487c6a6e",
   "metadata": {
    "ExecuteTime": {
     "end_time": "2022-05-16T02:20:30.076765Z",
     "start_time": "2022-05-16T02:20:30.031906Z"
    }
   },
   "outputs": [],
   "source": [
    "# df.query('주소.str.contains(\"마포|은평\")', engine='python'\n",
    "# Series 내장함수 : str.contains() \n",
    "\n",
    "# 제목\n",
    "remove_title = list(df_news.query('title.str.contains(\"부상|선수|승점|구장|리그|DGB대구은행파크|FC|감독|신태용|연승|대표팀|친선경기|스포츠|축구|세징야\", na=False)', engine = 'python').index)\n",
    "df_news.drop(remove_title, axis=0, inplace = True)\n",
    "\n",
    "# 내용 요약본\n",
    "remove_contents = list(df_news.query('contents.str.contains(\"부상|선수|승점|구장|리그|DGB대구은행파크|FC|감독|신태용|연승|대표팀|친선경기|스포츠|축구|세징야\", na=False)', engine = 'python').index)\n",
    "df_news.drop(remove_contents, axis=0, inplace = True)\n"
   ]
  },
  {
   "cell_type": "markdown",
   "id": "6416dc58",
   "metadata": {},
   "source": [
    "### 결측치 처리 contents 컬럼에 3개 존재 --> 3개의 데이터 삭제"
   ]
  },
  {
   "cell_type": "code",
   "execution_count": 247,
   "id": "32175bd6",
   "metadata": {
    "ExecuteTime": {
     "end_time": "2022-05-16T02:20:30.424534Z",
     "start_time": "2022-05-16T02:20:30.408579Z"
    },
    "scrolled": true
   },
   "outputs": [
    {
     "data": {
      "text/plain": [
       "date        9000\n",
       "title       9000\n",
       "press       9000\n",
       "contents    8997\n",
       "dtype: int64"
      ]
     },
     "execution_count": 247,
     "metadata": {},
     "output_type": "execute_result"
    }
   ],
   "source": [
    "df_news.count()"
   ]
  },
  {
   "cell_type": "code",
   "execution_count": 248,
   "id": "02e5ee9a",
   "metadata": {
    "ExecuteTime": {
     "end_time": "2022-05-16T02:20:31.348292Z",
     "start_time": "2022-05-16T02:20:31.328345Z"
    }
   },
   "outputs": [
    {
     "name": "stdout",
     "output_type": "stream",
     "text": [
      "date        0\n",
      "title       0\n",
      "press       0\n",
      "contents    3\n",
      "dtype: int64\n"
     ]
    }
   ],
   "source": [
    "print(df_news.isnull().sum())\n",
    "df_news.dropna(axis=0, inplace = True)"
   ]
  },
  {
   "cell_type": "code",
   "execution_count": 249,
   "id": "c815e1cc",
   "metadata": {
    "ExecuteTime": {
     "end_time": "2022-05-16T02:20:31.559575Z",
     "start_time": "2022-05-16T02:20:31.553589Z"
    }
   },
   "outputs": [
    {
     "data": {
      "text/plain": [
       "(8997, 4)"
      ]
     },
     "execution_count": 249,
     "metadata": {},
     "output_type": "execute_result"
    }
   ],
   "source": [
    "df_news.shape"
   ]
  },
  {
   "cell_type": "code",
   "execution_count": 250,
   "id": "cb95bb2c",
   "metadata": {
    "ExecuteTime": {
     "end_time": "2022-05-16T02:20:32.030331Z",
     "start_time": "2022-05-16T02:20:32.024347Z"
    }
   },
   "outputs": [],
   "source": [
    "# 인덱스 번호 새로 부여.\n",
    "df_news.reset_index(inplace=True)\n",
    "df_news.drop(['index'], axis=1, inplace=True)"
   ]
  },
  {
   "cell_type": "code",
   "execution_count": 251,
   "id": "654d2399",
   "metadata": {
    "ExecuteTime": {
     "end_time": "2022-05-16T02:20:32.333246Z",
     "start_time": "2022-05-16T02:20:32.322277Z"
    }
   },
   "outputs": [
    {
     "data": {
      "text/html": [
       "<div>\n",
       "<style scoped>\n",
       "    .dataframe tbody tr th:only-of-type {\n",
       "        vertical-align: middle;\n",
       "    }\n",
       "\n",
       "    .dataframe tbody tr th {\n",
       "        vertical-align: top;\n",
       "    }\n",
       "\n",
       "    .dataframe thead th {\n",
       "        text-align: right;\n",
       "    }\n",
       "</style>\n",
       "<table border=\"1\" class=\"dataframe\">\n",
       "  <thead>\n",
       "    <tr style=\"text-align: right;\">\n",
       "      <th></th>\n",
       "      <th>date</th>\n",
       "      <th>title</th>\n",
       "      <th>press</th>\n",
       "      <th>contents</th>\n",
       "    </tr>\n",
       "  </thead>\n",
       "  <tbody>\n",
       "    <tr>\n",
       "      <th>0</th>\n",
       "      <td>2021.05.01.</td>\n",
       "      <td>DGB대구은행, 은행권 중금리대출 실적 1위</td>\n",
       "      <td>글로벌이코노믹</td>\n",
       "      <td>DGB대구은행의 중금리대출 실적이 지방은행뿐만 아니라 은행권 전체에서 가장 많은 것...</td>\n",
       "    </tr>\n",
       "    <tr>\n",
       "      <th>1</th>\n",
       "      <td>2021.05.01.</td>\n",
       "      <td>DGB대구은행, 어버이날 맞이 효(孝) 마스크 지원</td>\n",
       "      <td>경북신문</td>\n",
       "      <td>DGB대구은행(은행장 임성훈)은 다가오는 어버이날을 맞아 지역 내 방역취약계층 어르...</td>\n",
       "    </tr>\n",
       "    <tr>\n",
       "      <th>2</th>\n",
       "      <td>2021.05.01.</td>\n",
       "      <td>은행·비은행 동반성장…지방금융지주 1분기 '好好好'</td>\n",
       "      <td>미디어펜</td>\n",
       "      <td>DGB금융의 순이익은 지난해 1분기에 견줘 40% 급증했다. 핵심 계열사인 대구은행...</td>\n",
       "    </tr>\n",
       "    <tr>\n",
       "      <th>3</th>\n",
       "      <td>2021.05.01.</td>\n",
       "      <td>DGB대구銀, 코로나 대응 관련 ‘유공 행정안전부 장관표창’</td>\n",
       "      <td>더퍼블릭</td>\n",
       "      <td>DGB대구은행(이하 대구은행)은 코로나19 재난 방역 적극 참여 및 지역사회 지원활...</td>\n",
       "    </tr>\n",
       "    <tr>\n",
       "      <th>4</th>\n",
       "      <td>2021.05.01.</td>\n",
       "      <td>대구은행, 방역취약계층 어르신 대상 KF94 마스크 전달</td>\n",
       "      <td>일요신문</td>\n",
       "      <td>- DGB대구은행, 어버이날 맞아 효(孝) 마스크 지원 DGB대구은행(은행장 임성훈...</td>\n",
       "    </tr>\n",
       "  </tbody>\n",
       "</table>\n",
       "</div>"
      ],
      "text/plain": [
       "          date                              title    press  \\\n",
       "0  2021.05.01.           DGB대구은행, 은행권 중금리대출 실적 1위  글로벌이코노믹   \n",
       "1  2021.05.01.       DGB대구은행, 어버이날 맞이 효(孝) 마스크 지원     경북신문   \n",
       "2  2021.05.01.       은행·비은행 동반성장…지방금융지주 1분기 '好好好'     미디어펜   \n",
       "3  2021.05.01.  DGB대구銀, 코로나 대응 관련 ‘유공 행정안전부 장관표창’     더퍼블릭   \n",
       "4  2021.05.01.    대구은행, 방역취약계층 어르신 대상 KF94 마스크 전달     일요신문   \n",
       "\n",
       "                                            contents  \n",
       "0  DGB대구은행의 중금리대출 실적이 지방은행뿐만 아니라 은행권 전체에서 가장 많은 것...  \n",
       "1  DGB대구은행(은행장 임성훈)은 다가오는 어버이날을 맞아 지역 내 방역취약계층 어르...  \n",
       "2  DGB금융의 순이익은 지난해 1분기에 견줘 40% 급증했다. 핵심 계열사인 대구은행...  \n",
       "3  DGB대구은행(이하 대구은행)은 코로나19 재난 방역 적극 참여 및 지역사회 지원활...  \n",
       "4  - DGB대구은행, 어버이날 맞아 효(孝) 마스크 지원 DGB대구은행(은행장 임성훈...  "
      ]
     },
     "execution_count": 251,
     "metadata": {},
     "output_type": "execute_result"
    }
   ],
   "source": [
    "df_news.head()"
   ]
  },
  {
   "cell_type": "code",
   "execution_count": 252,
   "id": "2d953afc",
   "metadata": {
    "ExecuteTime": {
     "end_time": "2022-05-16T02:20:32.816708Z",
     "start_time": "2022-05-16T02:20:32.799755Z"
    }
   },
   "outputs": [
    {
     "data": {
      "text/plain": [
       "date        8997\n",
       "title       8997\n",
       "press       8997\n",
       "contents    8997\n",
       "dtype: int64"
      ]
     },
     "execution_count": 252,
     "metadata": {},
     "output_type": "execute_result"
    }
   ],
   "source": [
    "df_news.count()"
   ]
  },
  {
   "cell_type": "markdown",
   "id": "96032515",
   "metadata": {},
   "source": [
    "## 날짜 데이터 정제\n",
    "    ▶ 연월일로만 표현 ( 시간 제거 )\n",
    "    ▶ 연 / 월 / 일 3개의 파생변수 생성\n",
    "    ▶ 연 / 일 보다는 월별로 각 언론사의 'DGB대구은행'에 관련된 기사가 얼마나 많은지? 파악하기 위함. --> 긍정 / 부정 개수로 이어짐."
   ]
  },
  {
   "cell_type": "code",
   "execution_count": 253,
   "id": "cc4e5544",
   "metadata": {
    "ExecuteTime": {
     "end_time": "2022-05-16T02:20:34.694616Z",
     "start_time": "2022-05-16T02:20:34.679655Z"
    }
   },
   "outputs": [
    {
     "data": {
      "text/plain": [
       "0       2021.05.01.\n",
       "1       2021.05.01.\n",
       "2       2021.05.01.\n",
       "3       2021.05.01.\n",
       "4       2021.05.01.\n",
       "           ...     \n",
       "8992           4일 전\n",
       "8993           4일 전\n",
       "8994           4일 전\n",
       "8995           4일 전\n",
       "8996           4일 전\n",
       "Name: date, Length: 8997, dtype: object"
      ]
     },
     "execution_count": 253,
     "metadata": {},
     "output_type": "execute_result"
    }
   ],
   "source": [
    "# 연도별 월별 일별로 \n",
    "df_news['date']"
   ]
  },
  {
   "cell_type": "code",
   "execution_count": 254,
   "id": "6c74f7ae",
   "metadata": {
    "ExecuteTime": {
     "end_time": "2022-05-16T02:22:51.018983Z",
     "start_time": "2022-05-16T02:22:51.003056Z"
    }
   },
   "outputs": [
    {
     "name": "stdout",
     "output_type": "stream",
     "text": [
      "2022-05-16 11:22:51.005022\n",
      "2022년 5월 15일\n",
      "2021-04-25 00:00:00\n"
     ]
    }
   ],
   "source": [
    "now = time.localtime()\n",
    "\n",
    "# 테스트 용 / 참고 - https://wikidocs.net/104836\n",
    "print(datetime.datetime.now())\n",
    "print('{}년 {}월 {}일'.format(now.tm_year, now.tm_mon, now.tm_mday-1))\n",
    "print(pd.to_datetime(df_news['date'][0]) - datetime.timedelta(days = 6))"
   ]
  },
  {
   "cell_type": "code",
   "execution_count": 260,
   "id": "0aaa96ec",
   "metadata": {
    "ExecuteTime": {
     "end_time": "2022-05-16T02:25:10.022731Z",
     "start_time": "2022-05-16T02:25:09.942856Z"
    }
   },
   "outputs": [],
   "source": [
    "# 2022-04-21 17:45 일자 데이터 자료 ( 시각은 무시 )\n",
    "scrapping_date = datetime.date(2022, 5, 6)\n",
    "\n",
    "idx_list = list()\n",
    "\n",
    "for i in range(len(df_news['date'])):\n",
    "    if '일' in df_news['date'][i]:\n",
    "        idx_list.append(i)\n",
    "    elif '시간' in df_news['date'][i]:\n",
    "        idx_list.append(i)\n",
    "# df_news['date'][i]\n",
    "# 몇 일전 / 몇 시간전 인덱스 번호"
   ]
  },
  {
   "cell_type": "code",
   "execution_count": 261,
   "id": "ddb11f8c",
   "metadata": {
    "ExecuteTime": {
     "end_time": "2022-05-16T02:25:11.184408Z",
     "start_time": "2022-05-16T02:25:11.167453Z"
    }
   },
   "outputs": [
    {
     "data": {
      "text/html": [
       "<div>\n",
       "<style scoped>\n",
       "    .dataframe tbody tr th:only-of-type {\n",
       "        vertical-align: middle;\n",
       "    }\n",
       "\n",
       "    .dataframe tbody tr th {\n",
       "        vertical-align: top;\n",
       "    }\n",
       "\n",
       "    .dataframe thead th {\n",
       "        text-align: right;\n",
       "    }\n",
       "</style>\n",
       "<table border=\"1\" class=\"dataframe\">\n",
       "  <thead>\n",
       "    <tr style=\"text-align: right;\">\n",
       "      <th></th>\n",
       "      <th>date</th>\n",
       "    </tr>\n",
       "  </thead>\n",
       "  <tbody>\n",
       "    <tr>\n",
       "      <th>8872</th>\n",
       "      <td>7일 전</td>\n",
       "    </tr>\n",
       "    <tr>\n",
       "      <th>8873</th>\n",
       "      <td>7일 전</td>\n",
       "    </tr>\n",
       "    <tr>\n",
       "      <th>8874</th>\n",
       "      <td>7일 전</td>\n",
       "    </tr>\n",
       "  </tbody>\n",
       "</table>\n",
       "</div>"
      ],
      "text/plain": [
       "      date\n",
       "8872  7일 전\n",
       "8873  7일 전\n",
       "8874  7일 전"
      ]
     },
     "execution_count": 261,
     "metadata": {},
     "output_type": "execute_result"
    }
   ],
   "source": [
    "# 확인\n",
    "df_news.loc[idx_list, ['date']][:3]"
   ]
  },
  {
   "cell_type": "code",
   "execution_count": 269,
   "id": "a380839f",
   "metadata": {
    "ExecuteTime": {
     "end_time": "2022-05-16T02:27:40.267750Z",
     "start_time": "2022-05-16T02:27:40.245809Z"
    }
   },
   "outputs": [],
   "source": [
    "# 시간 전 / 몇일 전 --> 숫자로 변환\n",
    "\n",
    "for i in idx_list:\n",
    "    \n",
    "    trans_day = int(re.findall('\\d+', df_news['date'][i])[0]) \n",
    "\n",
    "    if '시간' in df_news['date'][i]:\n",
    "        df_news['date'][i] = scrapping_date - datetime.timedelta(days=1)\n",
    "    else:\n",
    "        df_news['date'][i] = scrapping_date - datetime.timedelta(days=trans_day+1)"
   ]
  },
  {
   "cell_type": "code",
   "execution_count": 271,
   "id": "26accde3",
   "metadata": {
    "ExecuteTime": {
     "end_time": "2022-05-16T02:27:54.260895Z",
     "start_time": "2022-05-16T02:27:54.224027Z"
    },
    "scrolled": true
   },
   "outputs": [],
   "source": [
    "df_news['date'] = pd.to_datetime(df_news['date'])"
   ]
  },
  {
   "cell_type": "code",
   "execution_count": 274,
   "id": "3cd2d330",
   "metadata": {
    "ExecuteTime": {
     "end_time": "2022-05-16T02:28:00.890030Z",
     "start_time": "2022-05-16T02:28:00.871521Z"
    }
   },
   "outputs": [],
   "source": [
    "df_news['year'] = df_news['date'].dt.year\n",
    "df_news['month'] = df_news['date'].dt.month\n",
    "df_news['day'] = df_news['date'].dt.day"
   ]
  },
  {
   "cell_type": "code",
   "execution_count": 276,
   "id": "1089fd7d",
   "metadata": {
    "ExecuteTime": {
     "end_time": "2022-05-16T02:28:08.742648Z",
     "start_time": "2022-05-16T02:28:08.734697Z"
    }
   },
   "outputs": [
    {
     "data": {
      "text/html": [
       "<div>\n",
       "<style scoped>\n",
       "    .dataframe tbody tr th:only-of-type {\n",
       "        vertical-align: middle;\n",
       "    }\n",
       "\n",
       "    .dataframe tbody tr th {\n",
       "        vertical-align: top;\n",
       "    }\n",
       "\n",
       "    .dataframe thead th {\n",
       "        text-align: right;\n",
       "    }\n",
       "</style>\n",
       "<table border=\"1\" class=\"dataframe\">\n",
       "  <thead>\n",
       "    <tr style=\"text-align: right;\">\n",
       "      <th></th>\n",
       "      <th>date</th>\n",
       "      <th>title</th>\n",
       "      <th>press</th>\n",
       "      <th>contents</th>\n",
       "      <th>year</th>\n",
       "      <th>month</th>\n",
       "      <th>day</th>\n",
       "    </tr>\n",
       "  </thead>\n",
       "  <tbody>\n",
       "    <tr>\n",
       "      <th>0</th>\n",
       "      <td>2021-05-01</td>\n",
       "      <td>DGB대구은행, 은행권 중금리대출 실적 1위</td>\n",
       "      <td>글로벌이코노믹</td>\n",
       "      <td>DGB대구은행의 중금리대출 실적이 지방은행뿐만 아니라 은행권 전체에서 가장 많은 것...</td>\n",
       "      <td>2021</td>\n",
       "      <td>5</td>\n",
       "      <td>1</td>\n",
       "    </tr>\n",
       "  </tbody>\n",
       "</table>\n",
       "</div>"
      ],
      "text/plain": [
       "        date                     title    press  \\\n",
       "0 2021-05-01  DGB대구은행, 은행권 중금리대출 실적 1위  글로벌이코노믹   \n",
       "\n",
       "                                            contents  year  month  day  \n",
       "0  DGB대구은행의 중금리대출 실적이 지방은행뿐만 아니라 은행권 전체에서 가장 많은 것...  2021      5    1  "
      ]
     },
     "execution_count": 276,
     "metadata": {},
     "output_type": "execute_result"
    }
   ],
   "source": [
    "df_news.head(1)"
   ]
  },
  {
   "cell_type": "code",
   "execution_count": 67,
   "id": "181c3b0b",
   "metadata": {
    "ExecuteTime": {
     "end_time": "2022-05-16T01:45:32.038542Z",
     "start_time": "2022-05-16T01:45:32.026604Z"
    }
   },
   "outputs": [],
   "source": [
    "# 데이터 자료 시간에서 마이너스해주면 날짜가 나옴.\n",
    "# 이것을 다시 대입해주면 날짜 데이터 정제 완료\n",
    "\n",
    "# 컬럼 제거 axis = 1 --> 열 / axis = 0 --> 행\n",
    "# df_news.drop(['date_day'], axis=1, inplace=True)"
   ]
  },
  {
   "cell_type": "code",
   "execution_count": 277,
   "id": "96590a4d",
   "metadata": {
    "ExecuteTime": {
     "end_time": "2022-05-16T02:28:10.435678Z",
     "start_time": "2022-05-16T02:28:10.422713Z"
    }
   },
   "outputs": [],
   "source": [
    "# 참고 : https://hogni.tistory.com/51\n",
    "# 컬럼 순서 정렬\n",
    "df_news = df_news[['date', 'year', 'month', 'day', 'title', 'press', 'contents']]"
   ]
  },
  {
   "cell_type": "code",
   "execution_count": 278,
   "id": "a7b76b28",
   "metadata": {
    "ExecuteTime": {
     "end_time": "2022-05-16T02:28:10.839628Z",
     "start_time": "2022-05-16T02:28:10.830651Z"
    }
   },
   "outputs": [
    {
     "data": {
      "text/html": [
       "<div>\n",
       "<style scoped>\n",
       "    .dataframe tbody tr th:only-of-type {\n",
       "        vertical-align: middle;\n",
       "    }\n",
       "\n",
       "    .dataframe tbody tr th {\n",
       "        vertical-align: top;\n",
       "    }\n",
       "\n",
       "    .dataframe thead th {\n",
       "        text-align: right;\n",
       "    }\n",
       "</style>\n",
       "<table border=\"1\" class=\"dataframe\">\n",
       "  <thead>\n",
       "    <tr style=\"text-align: right;\">\n",
       "      <th></th>\n",
       "      <th>date</th>\n",
       "      <th>year</th>\n",
       "      <th>month</th>\n",
       "      <th>day</th>\n",
       "      <th>title</th>\n",
       "      <th>press</th>\n",
       "      <th>contents</th>\n",
       "    </tr>\n",
       "  </thead>\n",
       "  <tbody>\n",
       "    <tr>\n",
       "      <th>0</th>\n",
       "      <td>2021-05-01</td>\n",
       "      <td>2021</td>\n",
       "      <td>5</td>\n",
       "      <td>1</td>\n",
       "      <td>DGB대구은행, 은행권 중금리대출 실적 1위</td>\n",
       "      <td>글로벌이코노믹</td>\n",
       "      <td>DGB대구은행의 중금리대출 실적이 지방은행뿐만 아니라 은행권 전체에서 가장 많은 것...</td>\n",
       "    </tr>\n",
       "    <tr>\n",
       "      <th>1</th>\n",
       "      <td>2021-05-01</td>\n",
       "      <td>2021</td>\n",
       "      <td>5</td>\n",
       "      <td>1</td>\n",
       "      <td>DGB대구은행, 어버이날 맞이 효(孝) 마스크 지원</td>\n",
       "      <td>경북신문</td>\n",
       "      <td>DGB대구은행(은행장 임성훈)은 다가오는 어버이날을 맞아 지역 내 방역취약계층 어르...</td>\n",
       "    </tr>\n",
       "    <tr>\n",
       "      <th>2</th>\n",
       "      <td>2021-05-01</td>\n",
       "      <td>2021</td>\n",
       "      <td>5</td>\n",
       "      <td>1</td>\n",
       "      <td>은행·비은행 동반성장…지방금융지주 1분기 '好好好'</td>\n",
       "      <td>미디어펜</td>\n",
       "      <td>DGB금융의 순이익은 지난해 1분기에 견줘 40% 급증했다. 핵심 계열사인 대구은행...</td>\n",
       "    </tr>\n",
       "  </tbody>\n",
       "</table>\n",
       "</div>"
      ],
      "text/plain": [
       "        date  year  month  day                         title    press  \\\n",
       "0 2021-05-01  2021      5    1      DGB대구은행, 은행권 중금리대출 실적 1위  글로벌이코노믹   \n",
       "1 2021-05-01  2021      5    1  DGB대구은행, 어버이날 맞이 효(孝) 마스크 지원     경북신문   \n",
       "2 2021-05-01  2021      5    1  은행·비은행 동반성장…지방금융지주 1분기 '好好好'     미디어펜   \n",
       "\n",
       "                                            contents  \n",
       "0  DGB대구은행의 중금리대출 실적이 지방은행뿐만 아니라 은행권 전체에서 가장 많은 것...  \n",
       "1  DGB대구은행(은행장 임성훈)은 다가오는 어버이날을 맞아 지역 내 방역취약계층 어르...  \n",
       "2  DGB금융의 순이익은 지난해 1분기에 견줘 40% 급증했다. 핵심 계열사인 대구은행...  "
      ]
     },
     "execution_count": 278,
     "metadata": {},
     "output_type": "execute_result"
    }
   ],
   "source": [
    "df_news.head(3)"
   ]
  },
  {
   "cell_type": "code",
   "execution_count": 305,
   "id": "19c3a6e8",
   "metadata": {
    "ExecuteTime": {
     "end_time": "2022-05-16T02:31:49.526194Z",
     "start_time": "2022-05-16T02:31:49.511234Z"
    }
   },
   "outputs": [
    {
     "data": {
      "text/html": [
       "<div>\n",
       "<style scoped>\n",
       "    .dataframe tbody tr th:only-of-type {\n",
       "        vertical-align: middle;\n",
       "    }\n",
       "\n",
       "    .dataframe tbody tr th {\n",
       "        vertical-align: top;\n",
       "    }\n",
       "\n",
       "    .dataframe thead th {\n",
       "        text-align: right;\n",
       "    }\n",
       "</style>\n",
       "<table border=\"1\" class=\"dataframe\">\n",
       "  <thead>\n",
       "    <tr style=\"text-align: right;\">\n",
       "      <th></th>\n",
       "      <th>date</th>\n",
       "    </tr>\n",
       "  </thead>\n",
       "  <tbody>\n",
       "    <tr>\n",
       "      <th>8994</th>\n",
       "      <td>2022-05-01</td>\n",
       "    </tr>\n",
       "    <tr>\n",
       "      <th>8995</th>\n",
       "      <td>2022-05-01</td>\n",
       "    </tr>\n",
       "    <tr>\n",
       "      <th>8996</th>\n",
       "      <td>2022-05-01</td>\n",
       "    </tr>\n",
       "  </tbody>\n",
       "</table>\n",
       "</div>"
      ],
      "text/plain": [
       "           date\n",
       "8994 2022-05-01\n",
       "8995 2022-05-01\n",
       "8996 2022-05-01"
      ]
     },
     "execution_count": 305,
     "metadata": {},
     "output_type": "execute_result"
    }
   ],
   "source": [
    "df_news.loc[:, ['date']].tail(3)"
   ]
  },
  {
   "cell_type": "markdown",
   "id": "e70714d4",
   "metadata": {},
   "source": [
    "## 정규식 표현 처리\n",
    "\n",
    "<br>\n",
    "\n",
    "'[-=+,#/\\?:^$.@*\\\"※%~&ㆍ\\‘\\’\\_, ②外∙·!』『\\(\\)\\[\\]\\[\\]\\<\\>\\'\\`<\\>\\銀…\\\"\\'…》]' 등을 기사제목에서 제거\n",
    "- tqdm --> 진행률 표시 모듈\n",
    "\n",
    "**※ 참고 : https://clolee.tistory.com/17, https://codingspooning.tistory.com/138**\n",
    "<br>"
   ]
  },
  {
   "cell_type": "markdown",
   "id": "0432c0d3",
   "metadata": {},
   "source": [
    "### 정규식 표현 ( 기사 제목 )"
   ]
  },
  {
   "cell_type": "code",
   "execution_count": 306,
   "id": "54f89188",
   "metadata": {
    "ExecuteTime": {
     "end_time": "2022-05-16T02:31:55.070692Z",
     "start_time": "2022-05-16T02:31:54.343636Z"
    }
   },
   "outputs": [
    {
     "data": {
      "text/html": [
       "<div>\n",
       "<style scoped>\n",
       "    .dataframe tbody tr th:only-of-type {\n",
       "        vertical-align: middle;\n",
       "    }\n",
       "\n",
       "    .dataframe tbody tr th {\n",
       "        vertical-align: top;\n",
       "    }\n",
       "\n",
       "    .dataframe thead th {\n",
       "        text-align: right;\n",
       "    }\n",
       "</style>\n",
       "<table border=\"1\" class=\"dataframe\">\n",
       "  <thead>\n",
       "    <tr style=\"text-align: right;\">\n",
       "      <th></th>\n",
       "      <th>title</th>\n",
       "      <th>nouns_title</th>\n",
       "    </tr>\n",
       "  </thead>\n",
       "  <tbody>\n",
       "    <tr>\n",
       "      <th>0</th>\n",
       "      <td>DGB대구은행, 은행권 중금리대출 실적 1위</td>\n",
       "      <td>DGB대구은행 은행권 중금리대출 실적 1위</td>\n",
       "    </tr>\n",
       "    <tr>\n",
       "      <th>1</th>\n",
       "      <td>DGB대구은행, 어버이날 맞이 효(孝) 마스크 지원</td>\n",
       "      <td>DGB대구은행 어버이날 맞이 효孝 마스크 지원</td>\n",
       "    </tr>\n",
       "    <tr>\n",
       "      <th>2</th>\n",
       "      <td>은행·비은행 동반성장…지방금융지주 1분기 '好好好'</td>\n",
       "      <td>은행비은행 동반성장지방금융지주 1분기 好好好</td>\n",
       "    </tr>\n",
       "    <tr>\n",
       "      <th>3</th>\n",
       "      <td>DGB대구銀, 코로나 대응 관련 ‘유공 행정안전부 장관표창’</td>\n",
       "      <td>DGB대구銀 코로나 대응 관련 유공 행정안전부 장관표창</td>\n",
       "    </tr>\n",
       "    <tr>\n",
       "      <th>4</th>\n",
       "      <td>대구은행, 방역취약계층 어르신 대상 KF94 마스크 전달</td>\n",
       "      <td>대구은행 방역취약계층 어르신 대상 KF94 마스크 전달</td>\n",
       "    </tr>\n",
       "    <tr>\n",
       "      <th>5</th>\n",
       "      <td>지방금융그룹도 1분기 사상최대 실적…비은행 계열 선전</td>\n",
       "      <td>지방금융그룹도 1분기 사상최대 실적비은행 계열 선전</td>\n",
       "    </tr>\n",
       "  </tbody>\n",
       "</table>\n",
       "</div>"
      ],
      "text/plain": [
       "                               title                     nouns_title\n",
       "0           DGB대구은행, 은행권 중금리대출 실적 1위         DGB대구은행 은행권 중금리대출 실적 1위\n",
       "1       DGB대구은행, 어버이날 맞이 효(孝) 마스크 지원       DGB대구은행 어버이날 맞이 효孝 마스크 지원\n",
       "2       은행·비은행 동반성장…지방금융지주 1분기 '好好好'        은행비은행 동반성장지방금융지주 1분기 好好好\n",
       "3  DGB대구銀, 코로나 대응 관련 ‘유공 행정안전부 장관표창’  DGB대구銀 코로나 대응 관련 유공 행정안전부 장관표창\n",
       "4    대구은행, 방역취약계층 어르신 대상 KF94 마스크 전달  대구은행 방역취약계층 어르신 대상 KF94 마스크 전달\n",
       "5      지방금융그룹도 1분기 사상최대 실적…비은행 계열 선전    지방금융그룹도 1분기 사상최대 실적비은행 계열 선전"
      ]
     },
     "execution_count": 306,
     "metadata": {},
     "output_type": "execute_result"
    }
   ],
   "source": [
    "from tqdm import tqdm\n",
    "import copy\n",
    "\n",
    "# 경고 off\n",
    "pd.set_option('mode.chained_assignment', None)\n",
    "\n",
    "# 원본 데이터프레임 복사하여 사용\n",
    "df_news_copy = copy.deepcopy(df_news)\n",
    "df_news_copy.insert(5, 'nouns_title', '0')\n",
    "title_data = df_news_copy['title'].tolist()\n",
    "\n",
    "# re.sub('[-=+,#/\\?:^$.@*\\\"※%~&ㆍ\\‘\\’\\_, ②外∙·!』『\\(\\)\\[\\]\\[\\]\\<\\>\\'\\`<\\>\\銀…\\\"\\'…》→p”“◇證‧]',\n",
    "for i in range(len(title_data)):\n",
    "    cleaner = re.sub('[-=+,#/\\?:^.@*\\\"※~ㆍ!』‘|\\(\\)\\[\\]`\\'…》\\”\\“\\’·◇②【】<>�→α&]', '', title_data[i])\n",
    "    df_news_copy['nouns_title'][i] = cleaner\n",
    "\n",
    "df_news_copy.loc[:5,['title', 'nouns_title']]"
   ]
  },
  {
   "cell_type": "markdown",
   "id": "cc9d2cc4",
   "metadata": {},
   "source": [
    "### 정규식 표현 ( 기사 내용 )"
   ]
  },
  {
   "cell_type": "code",
   "execution_count": 307,
   "id": "0cc4b248",
   "metadata": {
    "ExecuteTime": {
     "end_time": "2022-05-16T02:31:57.358599Z",
     "start_time": "2022-05-16T02:31:56.583533Z"
    }
   },
   "outputs": [
    {
     "data": {
      "text/html": [
       "<div>\n",
       "<style scoped>\n",
       "    .dataframe tbody tr th:only-of-type {\n",
       "        vertical-align: middle;\n",
       "    }\n",
       "\n",
       "    .dataframe tbody tr th {\n",
       "        vertical-align: top;\n",
       "    }\n",
       "\n",
       "    .dataframe thead th {\n",
       "        text-align: right;\n",
       "    }\n",
       "</style>\n",
       "<table border=\"1\" class=\"dataframe\">\n",
       "  <thead>\n",
       "    <tr style=\"text-align: right;\">\n",
       "      <th></th>\n",
       "      <th>contents</th>\n",
       "      <th>nouns_contents</th>\n",
       "    </tr>\n",
       "  </thead>\n",
       "  <tbody>\n",
       "    <tr>\n",
       "      <th>0</th>\n",
       "      <td>DGB대구은행의 중금리대출 실적이 지방은행뿐만 아니라 은행권 전체에서 가장 많은 것...</td>\n",
       "      <td>DGB대구은행의 중금리대출 실적이 지방은행뿐만 아니라 은행권 전체에서 가장 많은 것...</td>\n",
       "    </tr>\n",
       "    <tr>\n",
       "      <th>1</th>\n",
       "      <td>DGB대구은행(은행장 임성훈)은 다가오는 어버이날을 맞아 지역 내 방역취약계층 어르...</td>\n",
       "      <td>DGB대구은행은행장 임성훈은 다가오는 어버이날을 맞아 지역 내 방역취약계층 어르신들...</td>\n",
       "    </tr>\n",
       "    <tr>\n",
       "      <th>2</th>\n",
       "      <td>DGB금융의 순이익은 지난해 1분기에 견줘 40% 급증했다. 핵심 계열사인 대구은행...</td>\n",
       "      <td>DGB금융의 순이익은 지난해 1분기에 견줘 40% 급증했다 핵심 계열사인 대구은행은...</td>\n",
       "    </tr>\n",
       "    <tr>\n",
       "      <th>3</th>\n",
       "      <td>DGB대구은행(이하 대구은행)은 코로나19 재난 방역 적극 참여 및 지역사회 지원활...</td>\n",
       "      <td>DGB대구은행이하 대구은행은 코로나19 재난 방역 적극 참여 및 지역사회 지원활동을...</td>\n",
       "    </tr>\n",
       "    <tr>\n",
       "      <th>4</th>\n",
       "      <td>- DGB대구은행, 어버이날 맞아 효(孝) 마스크 지원 DGB대구은행(은행장 임성훈...</td>\n",
       "      <td>DGB대구은행 어버이날 맞아 효孝 마스크 지원 DGB대구은행은행장 임성훈이 어버이...</td>\n",
       "    </tr>\n",
       "    <tr>\n",
       "      <th>5</th>\n",
       "      <td>시장금리 상승세에 힘입어 대구은행의 순이자마진이 회복한 데 이어, 비은행 계열인 하...</td>\n",
       "      <td>시장금리 상승세에 힘입어 대구은행의 순이자마진이 회복한 데 이어 비은행 계열인 하이...</td>\n",
       "    </tr>\n",
       "  </tbody>\n",
       "</table>\n",
       "</div>"
      ],
      "text/plain": [
       "                                            contents  \\\n",
       "0  DGB대구은행의 중금리대출 실적이 지방은행뿐만 아니라 은행권 전체에서 가장 많은 것...   \n",
       "1  DGB대구은행(은행장 임성훈)은 다가오는 어버이날을 맞아 지역 내 방역취약계층 어르...   \n",
       "2  DGB금융의 순이익은 지난해 1분기에 견줘 40% 급증했다. 핵심 계열사인 대구은행...   \n",
       "3  DGB대구은행(이하 대구은행)은 코로나19 재난 방역 적극 참여 및 지역사회 지원활...   \n",
       "4  - DGB대구은행, 어버이날 맞아 효(孝) 마스크 지원 DGB대구은행(은행장 임성훈...   \n",
       "5  시장금리 상승세에 힘입어 대구은행의 순이자마진이 회복한 데 이어, 비은행 계열인 하...   \n",
       "\n",
       "                                      nouns_contents  \n",
       "0  DGB대구은행의 중금리대출 실적이 지방은행뿐만 아니라 은행권 전체에서 가장 많은 것...  \n",
       "1  DGB대구은행은행장 임성훈은 다가오는 어버이날을 맞아 지역 내 방역취약계층 어르신들...  \n",
       "2  DGB금융의 순이익은 지난해 1분기에 견줘 40% 급증했다 핵심 계열사인 대구은행은...  \n",
       "3  DGB대구은행이하 대구은행은 코로나19 재난 방역 적극 참여 및 지역사회 지원활동을...  \n",
       "4   DGB대구은행 어버이날 맞아 효孝 마스크 지원 DGB대구은행은행장 임성훈이 어버이...  \n",
       "5  시장금리 상승세에 힘입어 대구은행의 순이자마진이 회복한 데 이어 비은행 계열인 하이...  "
      ]
     },
     "execution_count": 307,
     "metadata": {},
     "output_type": "execute_result"
    }
   ],
   "source": [
    "from tqdm import tqdm\n",
    "import copy\n",
    "\n",
    "# 경고 off\n",
    "pd.set_option('mode.chained_assignment', None)\n",
    "\n",
    "# 원본 데이터프레임 복사하여 사용\n",
    "df_news_copy = copy.deepcopy(df_news_copy)\n",
    "df_news_copy.insert(8, 'nouns_contents', '0')\n",
    "contents_data = df_news_copy['contents'].tolist()\n",
    "\n",
    "# re.sub('[-=+,#/\\?:^$.@*\\\"※%~&ㆍ\\‘\\’\\_, ②外∙·!』『\\(\\)\\[\\]\\[\\]\\<\\>\\'\\`<\\>\\銀…\\\"\\'…》→p”“◇證‧]',\n",
    "for i in range(len(contents_data)):\n",
    "    cleaner = re.sub('[-=+,#/\\?:^.@*\\\"※~ㆍ!』‘|\\(\\)\\[\\]`\\'…》\\”\\“\\’·◇②【】<>�→α&]', '', contents_data[i])\n",
    "    df_news_copy['nouns_contents'][i] = cleaner\n",
    "\n",
    "df_news_copy.loc[:5,['contents', 'nouns_contents']]"
   ]
  },
  {
   "cell_type": "markdown",
   "id": "e2218193",
   "metadata": {},
   "source": [
    "## 토큰화 및 불용어 제거\n",
    "\n",
    "<br>\n",
    "\n",
    "**Hannanum / Kkma / Komoran / Mecab / Twitter(Okt, 사용?)**\n",
    "- 제목을 토큰화 시킴\n",
    "- Okt형태소 분석기 사용\n",
    "- norm = True --> 문장을 정규화 Ex) 늘린, 늘린 / 문장 그대로\n",
    "- stem = True --> 문장을 정규화 Ex) 늘린, 늘리다 / 줄인, 줄이다 / 예뻐서 예뻤다, 예쁘다 / 즉, stem을 사용해야 함. \n",
    "- (stem은 stemming 어간화라는 뜻)\n",
    "<br>\n",
    "\n",
    "**참고사이트 : **"
   ]
  },
  {
   "cell_type": "code",
   "execution_count": 308,
   "id": "911a830f",
   "metadata": {
    "ExecuteTime": {
     "end_time": "2022-05-16T02:32:00.116432Z",
     "start_time": "2022-05-16T02:32:00.102470Z"
    }
   },
   "outputs": [],
   "source": [
    "import konlpy\n",
    "from konlpy.tag import Okt\n",
    "okt = Okt()"
   ]
  },
  {
   "cell_type": "code",
   "execution_count": 309,
   "id": "7f255d94",
   "metadata": {
    "ExecuteTime": {
     "end_time": "2022-05-16T02:32:00.902908Z",
     "start_time": "2022-05-16T02:32:00.894928Z"
    }
   },
   "outputs": [
    {
     "name": "stdout",
     "output_type": "stream",
     "text": [
      "['늘린', '결과', '이다', '줄인', '많아서', '예뻤다', '1', '위']\n",
      "['늘리다', '결과', '이다', '줄이다', '많다', '예쁘다', '1', '위']\n"
     ]
    }
   ],
   "source": [
    "# 테스트\n",
    "print(okt.morphs('늘린 결과이다 줄인 많아서 예뻤다 1위', norm=True))\n",
    "print(okt.morphs('늘린 결과이다 줄인 많아서 예뻐서 1위', stem=True))"
   ]
  },
  {
   "cell_type": "code",
   "execution_count": 310,
   "id": "d96db1ce",
   "metadata": {
    "ExecuteTime": {
     "end_time": "2022-05-16T02:32:02.006522Z",
     "start_time": "2022-05-16T02:32:01.992141Z"
    }
   },
   "outputs": [],
   "source": [
    "stopwords = ['의', '가', '이', '은', '는', '좀',\n",
    "             '잘', '걍', '과', '도', '를', '자',\n",
    "             '으로', '에', '와', '한', '하다']"
   ]
  },
  {
   "cell_type": "code",
   "execution_count": 311,
   "id": "54d8144b",
   "metadata": {
    "ExecuteTime": {
     "end_time": "2022-05-16T02:32:21.918048Z",
     "start_time": "2022-05-16T02:32:04.373593Z"
    }
   },
   "outputs": [],
   "source": [
    "import konlpy\n",
    "from konlpy.tag import Okt\n",
    "okt = Okt()\n",
    "X_train = []\n",
    "for sentence in df_news_copy['nouns_title']:\n",
    "    tmp_X = okt.morphs(sentence, stem=True) # 토큰화\n",
    "    tmp_X = [word for word in tmp_X if not word in stopwords] # 불용어 제거  \n",
    "#     print('예외처리 전 :', tmp_X)\n",
    "\n",
    "    # ['1', '위'] --> ['1위'] 붙이기\n",
    "    if ('1' in tmp_X) and ('위' in tmp_X):\n",
    "        for i in range(len(tmp_X)):\n",
    "            if tmp_X[i] == '위' and tmp_X[i-1] == '1':\n",
    "                tmp_X[i-1] += tmp_X.pop(i)\n",
    "                break\n",
    "    copy_tmp = tmp_X.copy()\n",
    "#     print('예외처리 후 :', tmp_X)\n",
    "#     break\n",
    "\n",
    "# 단어 길이가 2이상만 추출 --> 1위 '↑'기호가 없어지므로 생략\n",
    "#     for i in range(len(tmp_X)):\n",
    "#         if len(tmp_X[i]) < 2:\n",
    "#             copy_tmp.remove(tmp_X[i])\n",
    "    # 대기\n",
    "    X_train.append(tmp_X)\n",
    "    df_news_copy.replace({'nouns_title':sentence}, ' '.join(copy_tmp), inplace=True) # 공백 기준으로 단어 나누기."
   ]
  },
  {
   "cell_type": "code",
   "execution_count": 312,
   "id": "bd9b5be0",
   "metadata": {
    "ExecuteTime": {
     "end_time": "2022-05-16T02:32:21.933009Z",
     "start_time": "2022-05-16T02:32:21.919048Z"
    }
   },
   "outputs": [
    {
     "data": {
      "text/html": [
       "<div>\n",
       "<style scoped>\n",
       "    .dataframe tbody tr th:only-of-type {\n",
       "        vertical-align: middle;\n",
       "    }\n",
       "\n",
       "    .dataframe tbody tr th {\n",
       "        vertical-align: top;\n",
       "    }\n",
       "\n",
       "    .dataframe thead th {\n",
       "        text-align: right;\n",
       "    }\n",
       "</style>\n",
       "<table border=\"1\" class=\"dataframe\">\n",
       "  <thead>\n",
       "    <tr style=\"text-align: right;\">\n",
       "      <th></th>\n",
       "      <th>title</th>\n",
       "      <th>nouns_title</th>\n",
       "    </tr>\n",
       "  </thead>\n",
       "  <tbody>\n",
       "    <tr>\n",
       "      <th>0</th>\n",
       "      <td>DGB대구은행, 은행권 중금리대출 실적 1위</td>\n",
       "      <td>DGB 대구 은행 은행권 중 금리 대출 실적 1위</td>\n",
       "    </tr>\n",
       "    <tr>\n",
       "      <th>1</th>\n",
       "      <td>DGB대구은행, 어버이날 맞이 효(孝) 마스크 지원</td>\n",
       "      <td>DGB 대구 은행 어버이날 맞이 효 孝 마스크 지원</td>\n",
       "    </tr>\n",
       "    <tr>\n",
       "      <th>2</th>\n",
       "      <td>은행·비은행 동반성장…지방금융지주 1분기 '好好好'</td>\n",
       "      <td>은행 비 은행 동반성 장 지방 금융 지주 1분 기 好好好</td>\n",
       "    </tr>\n",
       "    <tr>\n",
       "      <th>3</th>\n",
       "      <td>DGB대구銀, 코로나 대응 관련 ‘유공 행정안전부 장관표창’</td>\n",
       "      <td>DGB 대구 銀 코로나 대응 관련 유공 행정안전부 장관 표창</td>\n",
       "    </tr>\n",
       "  </tbody>\n",
       "</table>\n",
       "</div>"
      ],
      "text/plain": [
       "                               title                        nouns_title\n",
       "0           DGB대구은행, 은행권 중금리대출 실적 1위        DGB 대구 은행 은행권 중 금리 대출 실적 1위\n",
       "1       DGB대구은행, 어버이날 맞이 효(孝) 마스크 지원       DGB 대구 은행 어버이날 맞이 효 孝 마스크 지원\n",
       "2       은행·비은행 동반성장…지방금융지주 1분기 '好好好'    은행 비 은행 동반성 장 지방 금융 지주 1분 기 好好好\n",
       "3  DGB대구銀, 코로나 대응 관련 ‘유공 행정안전부 장관표창’  DGB 대구 銀 코로나 대응 관련 유공 행정안전부 장관 표창"
      ]
     },
     "execution_count": 312,
     "metadata": {},
     "output_type": "execute_result"
    }
   ],
   "source": [
    "df_news_copy.loc[:3, ['title', 'nouns_title']]"
   ]
  },
  {
   "cell_type": "code",
   "execution_count": 313,
   "id": "eaa16922",
   "metadata": {
    "ExecuteTime": {
     "end_time": "2022-05-16T02:32:21.947970Z",
     "start_time": "2022-05-16T02:32:21.934007Z"
    }
   },
   "outputs": [],
   "source": [
    "# 테스트테스트"
   ]
  },
  {
   "cell_type": "code",
   "execution_count": 314,
   "id": "dcf4d4b4",
   "metadata": {
    "ExecuteTime": {
     "end_time": "2022-05-16T02:33:14.792998Z",
     "start_time": "2022-05-16T02:32:21.948967Z"
    }
   },
   "outputs": [],
   "source": [
    "import konlpy\n",
    "from konlpy.tag import Okt\n",
    "okt = Okt()\n",
    "X_train = []\n",
    "for sentence in df_news_copy['nouns_contents']:\n",
    "    tmp_X = okt.morphs(sentence, stem=True) # 토큰화\n",
    "    tmp_X = [word for word in tmp_X if not word in stopwords] # 불용어 제거\n",
    "    \n",
    "    # 1위 붙이기\n",
    "    if ('1' in tmp_X) and ('위' in tmp_X):\n",
    "        for i in range(len(tmp_X)):\n",
    "            if tmp_X[i] == '위' and tmp_X[i-1] == '1':\n",
    "                tmp_X[i-1] += tmp_X.pop(i)\n",
    "                break\n",
    "    copy_tmp = tmp_X.copy()\n",
    "\n",
    "# 단어 길이가 2이상만 추출 --> 1위 '↑'기호가 없어지므로 생략\n",
    "#     for i in range(len(tmp_X)):\n",
    "#         if len(tmp_X[i]) < 2:\n",
    "#             copy_tmp.remove(tmp_X[i])\n",
    "    # 대기\n",
    "    X_train.append(tmp_X)\n",
    "    df_news_copy.replace({'nouns_contents':sentence}, ' '.join(copy_tmp), inplace=True) # 공백 기준으로 단어 나누기."
   ]
  },
  {
   "cell_type": "code",
   "execution_count": 315,
   "id": "086db098",
   "metadata": {
    "ExecuteTime": {
     "end_time": "2022-05-16T02:33:14.807666Z",
     "start_time": "2022-05-16T02:33:14.793675Z"
    }
   },
   "outputs": [
    {
     "data": {
      "text/html": [
       "<div>\n",
       "<style scoped>\n",
       "    .dataframe tbody tr th:only-of-type {\n",
       "        vertical-align: middle;\n",
       "    }\n",
       "\n",
       "    .dataframe tbody tr th {\n",
       "        vertical-align: top;\n",
       "    }\n",
       "\n",
       "    .dataframe thead th {\n",
       "        text-align: right;\n",
       "    }\n",
       "</style>\n",
       "<table border=\"1\" class=\"dataframe\">\n",
       "  <thead>\n",
       "    <tr style=\"text-align: right;\">\n",
       "      <th></th>\n",
       "      <th>contents</th>\n",
       "      <th>nouns_contents</th>\n",
       "    </tr>\n",
       "  </thead>\n",
       "  <tbody>\n",
       "    <tr>\n",
       "      <th>0</th>\n",
       "      <td>DGB대구은행의 중금리대출 실적이 지방은행뿐만 아니라 은행권 전체에서 가장 많은 것...</td>\n",
       "      <td>DGB 대 구 은행 중 금리 대출 실적 지방 은행 뿐 만 아니다 은행권 전체 에서 ...</td>\n",
       "    </tr>\n",
       "    <tr>\n",
       "      <th>1</th>\n",
       "      <td>DGB대구은행(은행장 임성훈)은 다가오는 어버이날을 맞아 지역 내 방역취약계층 어르...</td>\n",
       "      <td>DGB 대 구 은행 은행 장 임성훈 다가오다 어버이날 을 맞다 지역 내 방역 취약 ...</td>\n",
       "    </tr>\n",
       "    <tr>\n",
       "      <th>2</th>\n",
       "      <td>DGB금융의 순이익은 지난해 1분기에 견줘 40% 급증했다. 핵심 계열사인 대구은행...</td>\n",
       "      <td>DGB 금융 순이익 지난해 1분 기에 견줘 40% 급증 핵심 계열 사인 대 구 은행...</td>\n",
       "    </tr>\n",
       "    <tr>\n",
       "      <th>3</th>\n",
       "      <td>DGB대구은행(이하 대구은행)은 코로나19 재난 방역 적극 참여 및 지역사회 지원활...</td>\n",
       "      <td>DGB 대구 은행 이하 대 구 은행 코로나 19 재난 방역 적극 참여 및 지역 사회...</td>\n",
       "    </tr>\n",
       "  </tbody>\n",
       "</table>\n",
       "</div>"
      ],
      "text/plain": [
       "                                            contents  \\\n",
       "0  DGB대구은행의 중금리대출 실적이 지방은행뿐만 아니라 은행권 전체에서 가장 많은 것...   \n",
       "1  DGB대구은행(은행장 임성훈)은 다가오는 어버이날을 맞아 지역 내 방역취약계층 어르...   \n",
       "2  DGB금융의 순이익은 지난해 1분기에 견줘 40% 급증했다. 핵심 계열사인 대구은행...   \n",
       "3  DGB대구은행(이하 대구은행)은 코로나19 재난 방역 적극 참여 및 지역사회 지원활...   \n",
       "\n",
       "                                      nouns_contents  \n",
       "0  DGB 대 구 은행 중 금리 대출 실적 지방 은행 뿐 만 아니다 은행권 전체 에서 ...  \n",
       "1  DGB 대 구 은행 은행 장 임성훈 다가오다 어버이날 을 맞다 지역 내 방역 취약 ...  \n",
       "2  DGB 금융 순이익 지난해 1분 기에 견줘 40% 급증 핵심 계열 사인 대 구 은행...  \n",
       "3  DGB 대구 은행 이하 대 구 은행 코로나 19 재난 방역 적극 참여 및 지역 사회...  "
      ]
     },
     "execution_count": 315,
     "metadata": {},
     "output_type": "execute_result"
    }
   ],
   "source": [
    "df_news_copy.loc[:3, ['contents', 'nouns_contents']]"
   ]
  },
  {
   "cell_type": "markdown",
   "id": "75f67cf9",
   "metadata": {},
   "source": [
    "## 파생변수 불필요데이터(이상치?) 처리 \n",
    "**nouns_contents 컬럼**\n",
    "- 외화 / 외화 Buyamp / It 해당 단어들이 들어가 있으면 --> 스크래핑 오류 또한, 요약본 기준 글자갯수가 40이하라면 이상치로 판단 --> 또한 의미없는 데이터가 주로 분표됨 90% 이상"
   ]
  },
  {
   "cell_type": "code",
   "execution_count": 326,
   "id": "d80d87d3",
   "metadata": {
    "ExecuteTime": {
     "end_time": "2022-05-16T02:34:09.628040Z",
     "start_time": "2022-05-16T02:34:09.575146Z"
    }
   },
   "outputs": [
    {
     "data": {
      "text/html": [
       "<div>\n",
       "<style scoped>\n",
       "    .dataframe tbody tr th:only-of-type {\n",
       "        vertical-align: middle;\n",
       "    }\n",
       "\n",
       "    .dataframe tbody tr th {\n",
       "        vertical-align: top;\n",
       "    }\n",
       "\n",
       "    .dataframe thead th {\n",
       "        text-align: right;\n",
       "    }\n",
       "</style>\n",
       "<table border=\"1\" class=\"dataframe\">\n",
       "  <thead>\n",
       "    <tr style=\"text-align: right;\">\n",
       "      <th></th>\n",
       "      <th>contents</th>\n",
       "      <th>nouns_contents</th>\n",
       "    </tr>\n",
       "  </thead>\n",
       "  <tbody>\n",
       "    <tr>\n",
       "      <th>34</th>\n",
       "      <td>'Buy&amp;amp</td>\n",
       "      <td>Buyamp</td>\n",
       "    </tr>\n",
       "    <tr>\n",
       "      <th>69</th>\n",
       "      <td>- 외화 Buy&amp;amp</td>\n",
       "      <td>외화 Buyamp</td>\n",
       "    </tr>\n",
       "    <tr>\n",
       "      <th>565</th>\n",
       "      <td>대구은행은 임성훈&amp;lt</td>\n",
       "      <td>대 구 은행 임성훈 lt</td>\n",
       "    </tr>\n",
       "  </tbody>\n",
       "</table>\n",
       "</div>"
      ],
      "text/plain": [
       "         contents nouns_contents\n",
       "34       'Buy&amp         Buyamp\n",
       "69   - 외화 Buy&amp      외화 Buyamp\n",
       "565  대구은행은 임성훈&lt  대 구 은행 임성훈 lt"
      ]
     },
     "execution_count": 326,
     "metadata": {},
     "output_type": "execute_result"
    }
   ],
   "source": [
    "r_idx = list()\n",
    "for i in range(len(df_news_copy)):\n",
    "    if len(df_news_copy['nouns_contents'][i]) <= 60:# or  '외화 Buyamp' in df_news_copy['nouns_contents'][i]:\n",
    "        r_idx.append(i)\n",
    "df_news_copy.loc[r_idx, ['contents', 'nouns_contents']][:3]"
   ]
  },
  {
   "cell_type": "code",
   "execution_count": 327,
   "id": "3c26d88d",
   "metadata": {
    "ExecuteTime": {
     "end_time": "2022-05-16T02:34:10.248799Z",
     "start_time": "2022-05-16T02:34:10.229849Z"
    }
   },
   "outputs": [],
   "source": [
    "df_news_copy.drop(index = r_idx, axis=0, inplace=True)"
   ]
  },
  {
   "cell_type": "code",
   "execution_count": 328,
   "id": "5345f375",
   "metadata": {
    "ExecuteTime": {
     "end_time": "2022-05-16T02:34:10.700675Z",
     "start_time": "2022-05-16T02:34:10.686712Z"
    }
   },
   "outputs": [],
   "source": [
    "# 인덱스 번호 새로 부여.\n",
    "df_news_copy.reset_index(inplace=True)\n",
    "df_news_copy.drop(['index'], axis=1, inplace=True)"
   ]
  },
  {
   "cell_type": "code",
   "execution_count": 329,
   "id": "6e30177f",
   "metadata": {
    "ExecuteTime": {
     "end_time": "2022-05-16T02:34:11.213541Z",
     "start_time": "2022-05-16T02:34:11.205563Z"
    }
   },
   "outputs": [
    {
     "data": {
      "text/plain": [
       "8948"
      ]
     },
     "execution_count": 329,
     "metadata": {},
     "output_type": "execute_result"
    }
   ],
   "source": [
    "len(df_news_copy)"
   ]
  },
  {
   "cell_type": "markdown",
   "id": "6a316465",
   "metadata": {},
   "source": [
    "## 리스트 변환 --> 단어별로 긍정 부정 중립 판단"
   ]
  },
  {
   "cell_type": "code",
   "execution_count": 335,
   "id": "588f12f9",
   "metadata": {
    "ExecuteTime": {
     "end_time": "2022-05-16T02:36:36.999317Z",
     "start_time": "2022-05-16T02:36:36.990342Z"
    }
   },
   "outputs": [
    {
     "data": {
      "text/html": [
       "<div>\n",
       "<style scoped>\n",
       "    .dataframe tbody tr th:only-of-type {\n",
       "        vertical-align: middle;\n",
       "    }\n",
       "\n",
       "    .dataframe tbody tr th {\n",
       "        vertical-align: top;\n",
       "    }\n",
       "\n",
       "    .dataframe thead th {\n",
       "        text-align: right;\n",
       "    }\n",
       "</style>\n",
       "<table border=\"1\" class=\"dataframe\">\n",
       "  <thead>\n",
       "    <tr style=\"text-align: right;\">\n",
       "      <th></th>\n",
       "      <th>nouns_title</th>\n",
       "    </tr>\n",
       "  </thead>\n",
       "  <tbody>\n",
       "    <tr>\n",
       "      <th>0</th>\n",
       "      <td>DGB 대구 은행 은행권 중 금리 대출 실적 1위</td>\n",
       "    </tr>\n",
       "    <tr>\n",
       "      <th>1</th>\n",
       "      <td>DGB 대구 은행 어버이날 맞이 효 孝 마스크 지원</td>\n",
       "    </tr>\n",
       "    <tr>\n",
       "      <th>2</th>\n",
       "      <td>은행 비 은행 동반성 장 지방 금융 지주 1분 기 好好好</td>\n",
       "    </tr>\n",
       "    <tr>\n",
       "      <th>3</th>\n",
       "      <td>DGB 대구 銀 코로나 대응 관련 유공 행정안전부 장관 표창</td>\n",
       "    </tr>\n",
       "  </tbody>\n",
       "</table>\n",
       "</div>"
      ],
      "text/plain": [
       "                         nouns_title\n",
       "0        DGB 대구 은행 은행권 중 금리 대출 실적 1위\n",
       "1       DGB 대구 은행 어버이날 맞이 효 孝 마스크 지원\n",
       "2    은행 비 은행 동반성 장 지방 금융 지주 1분 기 好好好\n",
       "3  DGB 대구 銀 코로나 대응 관련 유공 행정안전부 장관 표창"
      ]
     },
     "execution_count": 335,
     "metadata": {},
     "output_type": "execute_result"
    }
   ],
   "source": [
    "df_news_copy.loc[:3, ['nouns_title']]"
   ]
  },
  {
   "cell_type": "code",
   "execution_count": 336,
   "id": "c77e23d8",
   "metadata": {
    "ExecuteTime": {
     "end_time": "2022-05-16T02:36:38.526811Z",
     "start_time": "2022-05-16T02:36:38.517836Z"
    },
    "scrolled": true
   },
   "outputs": [
    {
     "name": "stdout",
     "output_type": "stream",
     "text": [
      "['DGB', '대구', '은행', '은행권', '중', '금리', '대출', '실적', '1위']\n",
      "['DGB', '대구', '은행', '어버이날', '맞이', '효', '孝', '마스크', '지원']\n",
      "['은행', '비', '은행', '동반성', '장', '지방', '금융', '지주', '1분', '기', '好好好']\n",
      "['DGB', '대구', '銀', '코로나', '대응', '관련', '유공', '행정안전부', '장관', '표창']\n"
     ]
    }
   ],
   "source": [
    "df_news_copy.loc[:5, ['nouns_title']]\n",
    "# nouns 컬럼 --> 공백을 기준으로 나눠 리스트로 변환\n",
    "df_news_copy['nouns_title'][0].split(' ')\n",
    "for title_words in df_news_copy['nouns_title'][:4]:\n",
    "    print(list(title_words.split(' ')))"
   ]
  },
  {
   "cell_type": "markdown",
   "id": "129011aa",
   "metadata": {},
   "source": [
    "## 파일 저장"
   ]
  },
  {
   "cell_type": "code",
   "execution_count": 337,
   "id": "5e9b55d0",
   "metadata": {
    "ExecuteTime": {
     "end_time": "2022-05-16T02:36:41.329030Z",
     "start_time": "2022-05-16T02:36:41.310081Z"
    },
    "scrolled": true
   },
   "outputs": [
    {
     "name": "stdout",
     "output_type": "stream",
     "text": [
      "<class 'pandas.core.frame.DataFrame'>\n",
      "RangeIndex: 8948 entries, 0 to 8947\n",
      "Data columns (total 9 columns):\n",
      " #   Column          Non-Null Count  Dtype         \n",
      "---  ------          --------------  -----         \n",
      " 0   date            8948 non-null   datetime64[ns]\n",
      " 1   year            8948 non-null   int64         \n",
      " 2   month           8948 non-null   int64         \n",
      " 3   day             8948 non-null   int64         \n",
      " 4   title           8948 non-null   object        \n",
      " 5   nouns_title     8948 non-null   object        \n",
      " 6   press           8948 non-null   object        \n",
      " 7   contents        8948 non-null   object        \n",
      " 8   nouns_contents  8948 non-null   object        \n",
      "dtypes: datetime64[ns](1), int64(3), object(5)\n",
      "memory usage: 629.3+ KB\n"
     ]
    }
   ],
   "source": [
    "df_news_copy.info()"
   ]
  },
  {
   "cell_type": "code",
   "execution_count": 339,
   "id": "b701d314",
   "metadata": {
    "ExecuteTime": {
     "end_time": "2022-05-16T02:37:03.377170Z",
     "start_time": "2022-05-16T02:37:03.367197Z"
    }
   },
   "outputs": [],
   "source": [
    "# 저장전 날짜별 내림차순으로 정렬\n",
    "df_news_copy.sort_values(by = ['date'], inplace=True, ascending=True)"
   ]
  },
  {
   "cell_type": "code",
   "execution_count": 341,
   "id": "811be5a6",
   "metadata": {
    "ExecuteTime": {
     "end_time": "2022-05-16T02:37:17.469816Z",
     "start_time": "2022-05-16T02:37:17.460810Z"
    }
   },
   "outputs": [],
   "source": [
    "# 인덱스 번호 새로 부여.\n",
    "df_news_copy.reset_index(inplace=True)\n",
    "df_news_copy.drop(['index'], axis=1, inplace=True)"
   ]
  },
  {
   "cell_type": "code",
   "execution_count": 343,
   "id": "9f294866",
   "metadata": {
    "ExecuteTime": {
     "end_time": "2022-05-16T02:37:24.250468Z",
     "start_time": "2022-05-16T02:37:24.207553Z"
    },
    "collapsed": true
   },
   "outputs": [
    {
     "name": "stderr",
     "output_type": "stream",
     "text": [
      "C:\\Users\\DGBDS\\anaconda3\\envs\\Intern_Project\\lib\\site-packages\\ipykernel_launcher.py:2: FutureWarning: Treating datetime data as categorical rather than numeric in `.describe` is deprecated and will be removed in a future version of pandas. Specify `datetime_is_numeric=True` to silence this warning and adopt the future behavior now.\n",
      "  \n"
     ]
    },
    {
     "data": {
      "text/html": [
       "<div>\n",
       "<style scoped>\n",
       "    .dataframe tbody tr th:only-of-type {\n",
       "        vertical-align: middle;\n",
       "    }\n",
       "\n",
       "    .dataframe tbody tr th {\n",
       "        vertical-align: top;\n",
       "    }\n",
       "\n",
       "    .dataframe thead th {\n",
       "        text-align: right;\n",
       "    }\n",
       "</style>\n",
       "<table border=\"1\" class=\"dataframe\">\n",
       "  <thead>\n",
       "    <tr style=\"text-align: right;\">\n",
       "      <th></th>\n",
       "      <th>date</th>\n",
       "      <th>year</th>\n",
       "      <th>month</th>\n",
       "      <th>day</th>\n",
       "      <th>title</th>\n",
       "      <th>nouns_title</th>\n",
       "      <th>press</th>\n",
       "      <th>contents</th>\n",
       "      <th>nouns_contents</th>\n",
       "    </tr>\n",
       "  </thead>\n",
       "  <tbody>\n",
       "    <tr>\n",
       "      <th>count</th>\n",
       "      <td>8948</td>\n",
       "      <td>8948.000000</td>\n",
       "      <td>8948.000000</td>\n",
       "      <td>8948.000000</td>\n",
       "      <td>8948</td>\n",
       "      <td>8948</td>\n",
       "      <td>8948</td>\n",
       "      <td>8948</td>\n",
       "      <td>8948</td>\n",
       "    </tr>\n",
       "    <tr>\n",
       "      <th>unique</th>\n",
       "      <td>361</td>\n",
       "      <td>NaN</td>\n",
       "      <td>NaN</td>\n",
       "      <td>NaN</td>\n",
       "      <td>7735</td>\n",
       "      <td>7154</td>\n",
       "      <td>311</td>\n",
       "      <td>8289</td>\n",
       "      <td>8103</td>\n",
       "    </tr>\n",
       "    <tr>\n",
       "      <th>top</th>\n",
       "      <td>2022-04-28 00:00:00</td>\n",
       "      <td>NaN</td>\n",
       "      <td>NaN</td>\n",
       "      <td>NaN</td>\n",
       "      <td>[인사] DGB금융그룹</td>\n",
       "      <td>인사 DGB 금융 그룹</td>\n",
       "      <td>국제뉴스</td>\n",
       "      <td>김태오 회장과 임성훈 대구은행장, 김경규 하이투자증권 대표, 김성한 DGB생명 대표...</td>\n",
       "      <td>김태오 회장 임성훈 대다 구 은행 장 김경규 하이 투자 증권 대표 김성 DGB 생명...</td>\n",
       "    </tr>\n",
       "    <tr>\n",
       "      <th>freq</th>\n",
       "      <td>131</td>\n",
       "      <td>NaN</td>\n",
       "      <td>NaN</td>\n",
       "      <td>NaN</td>\n",
       "      <td>51</td>\n",
       "      <td>73</td>\n",
       "      <td>243</td>\n",
       "      <td>21</td>\n",
       "      <td>21</td>\n",
       "    </tr>\n",
       "    <tr>\n",
       "      <th>first</th>\n",
       "      <td>2021-05-01 00:00:00</td>\n",
       "      <td>NaN</td>\n",
       "      <td>NaN</td>\n",
       "      <td>NaN</td>\n",
       "      <td>NaN</td>\n",
       "      <td>NaN</td>\n",
       "      <td>NaN</td>\n",
       "      <td>NaN</td>\n",
       "      <td>NaN</td>\n",
       "    </tr>\n",
       "    <tr>\n",
       "      <th>last</th>\n",
       "      <td>2022-05-01 00:00:00</td>\n",
       "      <td>NaN</td>\n",
       "      <td>NaN</td>\n",
       "      <td>NaN</td>\n",
       "      <td>NaN</td>\n",
       "      <td>NaN</td>\n",
       "      <td>NaN</td>\n",
       "      <td>NaN</td>\n",
       "      <td>NaN</td>\n",
       "    </tr>\n",
       "    <tr>\n",
       "      <th>mean</th>\n",
       "      <td>NaN</td>\n",
       "      <td>2021.295820</td>\n",
       "      <td>6.763970</td>\n",
       "      <td>15.410371</td>\n",
       "      <td>NaN</td>\n",
       "      <td>NaN</td>\n",
       "      <td>NaN</td>\n",
       "      <td>NaN</td>\n",
       "      <td>NaN</td>\n",
       "    </tr>\n",
       "    <tr>\n",
       "      <th>std</th>\n",
       "      <td>NaN</td>\n",
       "      <td>0.456436</td>\n",
       "      <td>3.341511</td>\n",
       "      <td>9.153126</td>\n",
       "      <td>NaN</td>\n",
       "      <td>NaN</td>\n",
       "      <td>NaN</td>\n",
       "      <td>NaN</td>\n",
       "      <td>NaN</td>\n",
       "    </tr>\n",
       "    <tr>\n",
       "      <th>min</th>\n",
       "      <td>NaN</td>\n",
       "      <td>2021.000000</td>\n",
       "      <td>1.000000</td>\n",
       "      <td>1.000000</td>\n",
       "      <td>NaN</td>\n",
       "      <td>NaN</td>\n",
       "      <td>NaN</td>\n",
       "      <td>NaN</td>\n",
       "      <td>NaN</td>\n",
       "    </tr>\n",
       "    <tr>\n",
       "      <th>25%</th>\n",
       "      <td>NaN</td>\n",
       "      <td>2021.000000</td>\n",
       "      <td>4.000000</td>\n",
       "      <td>7.000000</td>\n",
       "      <td>NaN</td>\n",
       "      <td>NaN</td>\n",
       "      <td>NaN</td>\n",
       "      <td>NaN</td>\n",
       "      <td>NaN</td>\n",
       "    </tr>\n",
       "    <tr>\n",
       "      <th>50%</th>\n",
       "      <td>NaN</td>\n",
       "      <td>2021.000000</td>\n",
       "      <td>7.000000</td>\n",
       "      <td>15.000000</td>\n",
       "      <td>NaN</td>\n",
       "      <td>NaN</td>\n",
       "      <td>NaN</td>\n",
       "      <td>NaN</td>\n",
       "      <td>NaN</td>\n",
       "    </tr>\n",
       "    <tr>\n",
       "      <th>75%</th>\n",
       "      <td>NaN</td>\n",
       "      <td>2022.000000</td>\n",
       "      <td>10.000000</td>\n",
       "      <td>24.000000</td>\n",
       "      <td>NaN</td>\n",
       "      <td>NaN</td>\n",
       "      <td>NaN</td>\n",
       "      <td>NaN</td>\n",
       "      <td>NaN</td>\n",
       "    </tr>\n",
       "    <tr>\n",
       "      <th>max</th>\n",
       "      <td>NaN</td>\n",
       "      <td>2022.000000</td>\n",
       "      <td>12.000000</td>\n",
       "      <td>31.000000</td>\n",
       "      <td>NaN</td>\n",
       "      <td>NaN</td>\n",
       "      <td>NaN</td>\n",
       "      <td>NaN</td>\n",
       "      <td>NaN</td>\n",
       "    </tr>\n",
       "  </tbody>\n",
       "</table>\n",
       "</div>"
      ],
      "text/plain": [
       "                       date         year        month          day  \\\n",
       "count                  8948  8948.000000  8948.000000  8948.000000   \n",
       "unique                  361          NaN          NaN          NaN   \n",
       "top     2022-04-28 00:00:00          NaN          NaN          NaN   \n",
       "freq                    131          NaN          NaN          NaN   \n",
       "first   2021-05-01 00:00:00          NaN          NaN          NaN   \n",
       "last    2022-05-01 00:00:00          NaN          NaN          NaN   \n",
       "mean                    NaN  2021.295820     6.763970    15.410371   \n",
       "std                     NaN     0.456436     3.341511     9.153126   \n",
       "min                     NaN  2021.000000     1.000000     1.000000   \n",
       "25%                     NaN  2021.000000     4.000000     7.000000   \n",
       "50%                     NaN  2021.000000     7.000000    15.000000   \n",
       "75%                     NaN  2022.000000    10.000000    24.000000   \n",
       "max                     NaN  2022.000000    12.000000    31.000000   \n",
       "\n",
       "               title   nouns_title press  \\\n",
       "count           8948          8948  8948   \n",
       "unique          7735          7154   311   \n",
       "top     [인사] DGB금융그룹  인사 DGB 금융 그룹  국제뉴스   \n",
       "freq              51            73   243   \n",
       "first            NaN           NaN   NaN   \n",
       "last             NaN           NaN   NaN   \n",
       "mean             NaN           NaN   NaN   \n",
       "std              NaN           NaN   NaN   \n",
       "min              NaN           NaN   NaN   \n",
       "25%              NaN           NaN   NaN   \n",
       "50%              NaN           NaN   NaN   \n",
       "75%              NaN           NaN   NaN   \n",
       "max              NaN           NaN   NaN   \n",
       "\n",
       "                                                 contents  \\\n",
       "count                                                8948   \n",
       "unique                                               8289   \n",
       "top     김태오 회장과 임성훈 대구은행장, 김경규 하이투자증권 대표, 김성한 DGB생명 대표...   \n",
       "freq                                                   21   \n",
       "first                                                 NaN   \n",
       "last                                                  NaN   \n",
       "mean                                                  NaN   \n",
       "std                                                   NaN   \n",
       "min                                                   NaN   \n",
       "25%                                                   NaN   \n",
       "50%                                                   NaN   \n",
       "75%                                                   NaN   \n",
       "max                                                   NaN   \n",
       "\n",
       "                                           nouns_contents  \n",
       "count                                                8948  \n",
       "unique                                               8103  \n",
       "top     김태오 회장 임성훈 대다 구 은행 장 김경규 하이 투자 증권 대표 김성 DGB 생명...  \n",
       "freq                                                   21  \n",
       "first                                                 NaN  \n",
       "last                                                  NaN  \n",
       "mean                                                  NaN  \n",
       "std                                                   NaN  \n",
       "min                                                   NaN  \n",
       "25%                                                   NaN  \n",
       "50%                                                   NaN  \n",
       "75%                                                   NaN  \n",
       "max                                                   NaN  "
      ]
     },
     "execution_count": 343,
     "metadata": {},
     "output_type": "execute_result"
    }
   ],
   "source": [
    "# 기술 통계량 확인\n",
    "df_news_copy.describe(include='all')"
   ]
  },
  {
   "cell_type": "code",
   "execution_count": 344,
   "id": "4c2dfeb0",
   "metadata": {
    "ExecuteTime": {
     "end_time": "2022-05-16T02:37:27.366365Z",
     "start_time": "2022-05-16T02:37:27.357391Z"
    }
   },
   "outputs": [
    {
     "data": {
      "text/plain": [
       "8997"
      ]
     },
     "execution_count": 344,
     "metadata": {},
     "output_type": "execute_result"
    }
   ],
   "source": [
    "len(df_news)"
   ]
  },
  {
   "cell_type": "code",
   "execution_count": 345,
   "id": "900a98e4",
   "metadata": {
    "ExecuteTime": {
     "end_time": "2022-05-16T02:37:29.244490Z",
     "start_time": "2022-05-16T02:37:29.231526Z"
    }
   },
   "outputs": [
    {
     "data": {
      "text/plain": [
       "8948"
      ]
     },
     "execution_count": 345,
     "metadata": {},
     "output_type": "execute_result"
    }
   ],
   "source": [
    "len(df_news_copy)"
   ]
  },
  {
   "cell_type": "code",
   "execution_count": 346,
   "id": "e247dd03",
   "metadata": {
    "ExecuteTime": {
     "end_time": "2022-05-16T02:37:30.822527Z",
     "start_time": "2022-05-16T02:37:30.677465Z"
    }
   },
   "outputs": [],
   "source": [
    "# r_title.to_csv('news_data_preprocessing.csv')\n",
    "df_news_copy.to_csv('news_data_preprocessing.csv')"
   ]
  },
  {
   "cell_type": "code",
   "execution_count": null,
   "id": "3e33cf8b",
   "metadata": {},
   "outputs": [],
   "source": []
  },
  {
   "cell_type": "code",
   "execution_count": null,
   "id": "a96d258f",
   "metadata": {},
   "outputs": [],
   "source": []
  },
  {
   "cell_type": "markdown",
   "id": "f5cd409e",
   "metadata": {},
   "source": [
    "## 엑셀 파일 보고 긍정 사전 부정 사전 만들기 \n",
    "## 전처리는 끝"
   ]
  },
  {
   "cell_type": "code",
   "execution_count": null,
   "id": "61631fbf",
   "metadata": {},
   "outputs": [],
   "source": []
  },
  {
   "cell_type": "code",
   "execution_count": null,
   "id": "43de6484",
   "metadata": {},
   "outputs": [],
   "source": []
  },
  {
   "cell_type": "markdown",
   "id": "66c3f39b",
   "metadata": {},
   "source": [
    "## 뉴스 제목 레이블링\n",
    "\n",
    "- 긍정 부정 단어를 분류 기초 방식. 따라서 보충이 필요.\n",
    "\n",
    "※논문 참고(계산법) : http://www.koreascience.kr/article/JAKO201719363360793.pdf"
   ]
  },
  {
   "cell_type": "code",
   "execution_count": 347,
   "id": "185bf789",
   "metadata": {
    "ExecuteTime": {
     "end_time": "2022-05-16T02:41:25.416006Z",
     "start_time": "2022-05-16T02:41:25.406034Z"
    }
   },
   "outputs": [],
   "source": [
    "import sys\n",
    "pos_word = []\n",
    "neg_word = []\n",
    "pos_neg = []\n",
    "\n",
    "pos = open('./positive_word.txt', 'r', encoding='UTF-8')\n",
    "\n",
    "while True:\n",
    "    line = pos.readline().rstrip()\n",
    "    pos_word.append(line)\n",
    "    \n",
    "    if not line:\n",
    "        break\n",
    "\n",
    "pos.close()\n",
    "\n",
    "neg = open('./negative_word.txt', 'r', encoding='UTF-8')\n",
    "\n",
    "while True:\n",
    "    line = neg.readline().rstrip()\n",
    "    neg_word.append(line)\n",
    "    \n",
    "    if not line:\n",
    "        break\n",
    "\n",
    "neg.close()"
   ]
  },
  {
   "cell_type": "code",
   "execution_count": 348,
   "id": "a5278b12",
   "metadata": {
    "ExecuteTime": {
     "end_time": "2022-05-16T02:41:25.704337Z",
     "start_time": "2022-05-16T02:41:25.686323Z"
    }
   },
   "outputs": [],
   "source": [
    "# 마지막 인덱스 '' 제거\n",
    "pos_word = pos_word[:-1]\n",
    "neg_word = neg_word[:-1]\n",
    "pos_neg = pos_word + neg_word"
   ]
  },
  {
   "cell_type": "code",
   "execution_count": 349,
   "id": "91769539",
   "metadata": {
    "ExecuteTime": {
     "end_time": "2022-05-16T02:41:25.931122Z",
     "start_time": "2022-05-16T02:41:25.918158Z"
    }
   },
   "outputs": [
    {
     "name": "stdout",
     "output_type": "stream",
     "text": [
      "부정:0   긍정:1   중립:0\n"
     ]
    }
   ],
   "source": [
    "state = list()\n",
    "\n",
    "for x in df_news_copy['nouns_title']:\n",
    "    words = x.split(' ')\n",
    "    total, p, n = 0, 0, 0\n",
    "    for i in words:\n",
    "        if i in pos_word:\n",
    "            p += 1\n",
    "        elif i in neg_word:\n",
    "            n += 1\n",
    "    \n",
    "    # 기사 제목당 긍정갯수 - 부정 갯수\n",
    "    total = p - n\n",
    "    if total > 0:\n",
    "        state.append(1)\n",
    "    elif total == 0:\n",
    "        state.append(0)\n",
    "    else:\n",
    "        state.append(-1)\n",
    "    break\n",
    "print('부정:%d   긍정:%d   중립:%d' % (state.count(-1), state.count(1), state.count(0)))\n",
    "\n",
    "# pd.set_option('mode.chained_assignment',  None) # 경고 off\n",
    "df_news_copy['label'] = 0\n",
    "for i in range(len(state)):\n",
    "    df_news_copy['label'][i] = state[i]"
   ]
  },
  {
   "cell_type": "code",
   "execution_count": 350,
   "id": "798e35d3",
   "metadata": {
    "ExecuteTime": {
     "end_time": "2022-05-16T02:41:26.230012Z",
     "start_time": "2022-05-16T02:41:26.198098Z"
    }
   },
   "outputs": [
    {
     "data": {
      "text/html": [
       "<div>\n",
       "<style scoped>\n",
       "    .dataframe tbody tr th:only-of-type {\n",
       "        vertical-align: middle;\n",
       "    }\n",
       "\n",
       "    .dataframe tbody tr th {\n",
       "        vertical-align: top;\n",
       "    }\n",
       "\n",
       "    .dataframe thead th {\n",
       "        text-align: right;\n",
       "    }\n",
       "</style>\n",
       "<table border=\"1\" class=\"dataframe\">\n",
       "  <thead>\n",
       "    <tr style=\"text-align: right;\">\n",
       "      <th></th>\n",
       "      <th>date</th>\n",
       "      <th>year</th>\n",
       "      <th>month</th>\n",
       "      <th>day</th>\n",
       "      <th>title</th>\n",
       "      <th>nouns_title</th>\n",
       "      <th>press</th>\n",
       "      <th>contents</th>\n",
       "      <th>nouns_contents</th>\n",
       "      <th>label</th>\n",
       "    </tr>\n",
       "  </thead>\n",
       "  <tbody>\n",
       "    <tr>\n",
       "      <th>0</th>\n",
       "      <td>2021-05-01</td>\n",
       "      <td>2021</td>\n",
       "      <td>5</td>\n",
       "      <td>1</td>\n",
       "      <td>DGB대구은행, 은행권 중금리대출 실적 1위</td>\n",
       "      <td>DGB 대구 은행 은행권 중 금리 대출 실적 1위</td>\n",
       "      <td>글로벌이코노믹</td>\n",
       "      <td>DGB대구은행의 중금리대출 실적이 지방은행뿐만 아니라 은행권 전체에서 가장 많은 것...</td>\n",
       "      <td>DGB 대 구 은행 중 금리 대출 실적 지방 은행 뿐 만 아니다 은행권 전체 에서 ...</td>\n",
       "      <td>1</td>\n",
       "    </tr>\n",
       "    <tr>\n",
       "      <th>1</th>\n",
       "      <td>2021-05-01</td>\n",
       "      <td>2021</td>\n",
       "      <td>5</td>\n",
       "      <td>1</td>\n",
       "      <td>DGB대구은행, 어버이날 맞이 효(孝) 마스크 지원</td>\n",
       "      <td>DGB 대구 은행 어버이날 맞이 효 孝 마스크 지원</td>\n",
       "      <td>경북신문</td>\n",
       "      <td>DGB대구은행(은행장 임성훈)은 다가오는 어버이날을 맞아 지역 내 방역취약계층 어르...</td>\n",
       "      <td>DGB 대 구 은행 은행 장 임성훈 다가오다 어버이날 을 맞다 지역 내 방역 취약 ...</td>\n",
       "      <td>0</td>\n",
       "    </tr>\n",
       "    <tr>\n",
       "      <th>2</th>\n",
       "      <td>2021-05-01</td>\n",
       "      <td>2021</td>\n",
       "      <td>5</td>\n",
       "      <td>1</td>\n",
       "      <td>은행·비은행 동반성장…지방금융지주 1분기 '好好好'</td>\n",
       "      <td>은행 비 은행 동반성 장 지방 금융 지주 1분 기 好好好</td>\n",
       "      <td>미디어펜</td>\n",
       "      <td>DGB금융의 순이익은 지난해 1분기에 견줘 40% 급증했다. 핵심 계열사인 대구은행...</td>\n",
       "      <td>DGB 금융 순이익 지난해 1분 기에 견줘 40% 급증 핵심 계열 사인 대 구 은행...</td>\n",
       "      <td>0</td>\n",
       "    </tr>\n",
       "    <tr>\n",
       "      <th>3</th>\n",
       "      <td>2021-05-01</td>\n",
       "      <td>2021</td>\n",
       "      <td>5</td>\n",
       "      <td>1</td>\n",
       "      <td>DGB대구銀, 코로나 대응 관련 ‘유공 행정안전부 장관표창’</td>\n",
       "      <td>DGB 대구 銀 코로나 대응 관련 유공 행정안전부 장관 표창</td>\n",
       "      <td>더퍼블릭</td>\n",
       "      <td>DGB대구은행(이하 대구은행)은 코로나19 재난 방역 적극 참여 및 지역사회 지원활...</td>\n",
       "      <td>DGB 대구 은행 이하 대 구 은행 코로나 19 재난 방역 적극 참여 및 지역 사회...</td>\n",
       "      <td>0</td>\n",
       "    </tr>\n",
       "    <tr>\n",
       "      <th>4</th>\n",
       "      <td>2021-05-01</td>\n",
       "      <td>2021</td>\n",
       "      <td>5</td>\n",
       "      <td>1</td>\n",
       "      <td>대구은행, 방역취약계층 어르신 대상 KF94 마스크 전달</td>\n",
       "      <td>대구 은행 방역 취약 계층 어르신 대상 KF 94 마스크 전달</td>\n",
       "      <td>일요신문</td>\n",
       "      <td>- DGB대구은행, 어버이날 맞아 효(孝) 마스크 지원 DGB대구은행(은행장 임성훈...</td>\n",
       "      <td>DGB 대구 은행 어버이날 맞다   효 孝 마스크 지원 DGB 대 구 은행 은행 장...</td>\n",
       "      <td>0</td>\n",
       "    </tr>\n",
       "    <tr>\n",
       "      <th>5</th>\n",
       "      <td>2021-05-01</td>\n",
       "      <td>2021</td>\n",
       "      <td>5</td>\n",
       "      <td>1</td>\n",
       "      <td>지방금융그룹도 1분기 사상최대 실적…비은행 계열 선전</td>\n",
       "      <td>지방 금융 그룹 1분 기 사상 최대 실적 비 은행 계열 선전</td>\n",
       "      <td>e대한경제</td>\n",
       "      <td>시장금리 상승세에 힘입어 대구은행의 순이자마진이 회복한 데 이어, 비은행 계열인 하...</td>\n",
       "      <td>시장 금리 상승세 힘 입다 대 구 은행 순 이자 마진 회복하다 데 이다 비 은행 계...</td>\n",
       "      <td>0</td>\n",
       "    </tr>\n",
       "    <tr>\n",
       "      <th>6</th>\n",
       "      <td>2021-05-01</td>\n",
       "      <td>2021</td>\n",
       "      <td>5</td>\n",
       "      <td>1</td>\n",
       "      <td>DGB대구은행, 어버이날 맞이 효(孝) 마스크 지원</td>\n",
       "      <td>DGB 대구 은행 어버이날 맞이 효 孝 마스크 지원</td>\n",
       "      <td>국제뉴스</td>\n",
       "      <td>▲사진 좌: 서문선 DGB대구은행 경영기획본부장, 송준기 대한적십자사 대구지사 회장...</td>\n",
       "      <td>▲ 사진 좌 서 문선 DGB 대구 은행 경 영기획 본부장 송준기 대 적십자사 대구 ...</td>\n",
       "      <td>0</td>\n",
       "    </tr>\n",
       "    <tr>\n",
       "      <th>7</th>\n",
       "      <td>2021-05-02</td>\n",
       "      <td>2021</td>\n",
       "      <td>5</td>\n",
       "      <td>2</td>\n",
       "      <td>DGB대구은행, 방역취약 어르신에 마스크 지원</td>\n",
       "      <td>DGB 대구 은행 방역 취약 어르신 마스크 지원</td>\n",
       "      <td>경상매일신문</td>\n",
       "      <td>DGB대구은행은 다가오는 어버이날을 맞아 지역 내 방역취약계층 어르신들의 코로나19...</td>\n",
       "      <td>DGB 대 구 은행 다가오다 어버이날 을 맞다 지역 내 방역 취약 계층 어르신 들 ...</td>\n",
       "      <td>0</td>\n",
       "    </tr>\n",
       "    <tr>\n",
       "      <th>8</th>\n",
       "      <td>2021-05-02</td>\n",
       "      <td>2021</td>\n",
       "      <td>5</td>\n",
       "      <td>2</td>\n",
       "      <td>DGB대구은행, 코로나19 대응 유공 행정안전부 장관표창</td>\n",
       "      <td>DGB 대구 은행 코로나 19 대응 유공 행정안전부 장관 표창</td>\n",
       "      <td>경상매일신문</td>\n",
       "      <td>DGB대구은행은 코로나19 재난 방역 적극 참여 및 지역사회 지원활동을 통한 사회적...</td>\n",
       "      <td>DGB 대 구 은행 코로나 19 재난 방역 적극 참여 및 지역 사회 지 원 활동 을...</td>\n",
       "      <td>0</td>\n",
       "    </tr>\n",
       "    <tr>\n",
       "      <th>9</th>\n",
       "      <td>2021-05-02</td>\n",
       "      <td>2021</td>\n",
       "      <td>5</td>\n",
       "      <td>2</td>\n",
       "      <td>코로나19 확산 초기 선제 대응 앞장</td>\n",
       "      <td>코로나 19 확산 초기 선제 대응 앞장</td>\n",
       "      <td>경북도민일보</td>\n",
       "      <td>임성훈 DGB대구은행장이 행정안전부장관상 표창을 수상한 뒤 기념촬영을 하고 있다. ...</td>\n",
       "      <td>임성훈 DGB 대 구 은행 장이 행정안전부 장관 상 표창 을 수상한 뒤 기념 촬영 ...</td>\n",
       "      <td>0</td>\n",
       "    </tr>\n",
       "    <tr>\n",
       "      <th>10</th>\n",
       "      <td>2021-05-02</td>\n",
       "      <td>2021</td>\n",
       "      <td>5</td>\n",
       "      <td>2</td>\n",
       "      <td>지방금융지주도 1분기 ‘실적잔치’… 내부등급법 승인땐 몸값 더 오른다</td>\n",
       "      <td>지방 금융 지 주도 1분 기 실적 잔치 내부 등급 법 승인 땐 몸값 더 오르다</td>\n",
       "      <td>파이낸셜뉴스</td>\n",
       "      <td>같은 기간 DGB금융지주의 순이익도 882억원에서 1235억원으로 40% 늘었다. ...</td>\n",
       "      <td>같다 기간 DGB 금융 지다 주의 순이익 882억원 에서 1235억원 40% 늘다 ...</td>\n",
       "      <td>0</td>\n",
       "    </tr>\n",
       "    <tr>\n",
       "      <th>11</th>\n",
       "      <td>2021-05-02</td>\n",
       "      <td>2021</td>\n",
       "      <td>5</td>\n",
       "      <td>2</td>\n",
       "      <td>[SR경제&amp;라이프] 지방금융지주, 주가 30%↑…\"깜짝 실적, 주가 추가 상승\"</td>\n",
       "      <td>SR 경제 라이프 지방 금융 지주 주가 30% ↑ 깜짝 실적 주가 추가 상승</td>\n",
       "      <td>SR타임스</td>\n",
       "      <td>DGB금융지주의 순이익도 882억원에서 1,235억원으로 40%나 늘었다. 시장금리...</td>\n",
       "      <td>DGB 금융 지 주의 순이익 882억원 에서 1235억원 40% 나 늘다 시장 금리...</td>\n",
       "      <td>0</td>\n",
       "    </tr>\n",
       "    <tr>\n",
       "      <th>12</th>\n",
       "      <td>2021-05-02</td>\n",
       "      <td>2021</td>\n",
       "      <td>5</td>\n",
       "      <td>2</td>\n",
       "      <td>1분기 호실적에 내부등급법 승인 기대감까지 … 지방금융지주 주가 더 오르나</td>\n",
       "      <td>1분 기 호실 적 내부 등급 법 승인 기 대감 까지 지방 금융 지주 주가 더 오르다</td>\n",
       "      <td>파이낸셜뉴스</td>\n",
       "      <td>같은 기간 DGB금융지주의 순이익도 882억원에서 1235억원으로 40% 늘었다. ...</td>\n",
       "      <td>같다 기간 DGB 금융 지다 주의 순이익 882억원 에서 1235억원 40% 늘다 ...</td>\n",
       "      <td>0</td>\n",
       "    </tr>\n",
       "    <tr>\n",
       "      <th>13</th>\n",
       "      <td>2021-05-02</td>\n",
       "      <td>2021</td>\n",
       "      <td>5</td>\n",
       "      <td>2</td>\n",
       "      <td>지방금융지주 1분기 역대급 순이익 ...비은행 '깜짝\" 실적</td>\n",
       "      <td>지방 금융 지주 1분 기 역대 급 순이익 비 은행 깜짝 실적</td>\n",
       "      <td>브릿지경제</td>\n",
       "      <td>대구은행의 이자이익이 회복했고, 비은행 계열사인 하이투자증권, DGB캐피탈 등의 이...</td>\n",
       "      <td>대 구 은행 이자 이익 회복하다 비 은행 계열 사인 하이 투자 증권 DGB 캐피탈 ...</td>\n",
       "      <td>0</td>\n",
       "    </tr>\n",
       "    <tr>\n",
       "      <th>14</th>\n",
       "      <td>2021-05-02</td>\n",
       "      <td>2021</td>\n",
       "      <td>5</td>\n",
       "      <td>2</td>\n",
       "      <td>DGB대구은행, ‘코로나19 적극대응’ 공로 행정안전부 장관 표창</td>\n",
       "      <td>DGB 대구 은행 코로나 19 적극 대응 공로 행정안전부 장관 표창</td>\n",
       "      <td>뉴데일리</td>\n",
       "      <td>뉴데일리 강승탁 기자 = DGB대구은행(이하 대구은행)은 코로나19 재난 방역 적극...</td>\n",
       "      <td>뉴데일리 강승탁 기자 DGB 대구 은행 이하 대 구 은행 코로나 19 재난 방역 적...</td>\n",
       "      <td>0</td>\n",
       "    </tr>\n",
       "    <tr>\n",
       "      <th>15</th>\n",
       "      <td>2021-05-02</td>\n",
       "      <td>2021</td>\n",
       "      <td>5</td>\n",
       "      <td>2</td>\n",
       "      <td>'한 숨 돌린' BNK·JB·DGB금융 순익 39% 급등…날개 단 비은행</td>\n",
       "      <td>숨 돌리다 BNKJBDGB 금융 순 익 39% 급등 날개 단 비 은행</td>\n",
       "      <td>에너지경제</td>\n",
       "      <td>DGB대구은행 1분기 순이익은 915억원으로, 1년 전에 비해 16.3% 상승했다....</td>\n",
       "      <td>DGB 대구 은행 1분 기 순이익 915억원 1년 전 비다 163% 상승 지방 금융...</td>\n",
       "      <td>0</td>\n",
       "    </tr>\n",
       "    <tr>\n",
       "      <th>16</th>\n",
       "      <td>2021-05-02</td>\n",
       "      <td>2021</td>\n",
       "      <td>5</td>\n",
       "      <td>2</td>\n",
       "      <td>대구시, 지역 빅데이터 역량 집결을 위해 머리 맞댄다</td>\n",
       "      <td>대구시 지역 빅데이터 역량 집결 을 위해 머리 맞대다</td>\n",
       "      <td>아시아투데이</td>\n",
       "      <td>2일 대구시에 따르면 이날 회의에는 동북지방통계청, 한국지능정보사회진흥원을 비롯해 ...</td>\n",
       "      <td>2일 대구시 따르다 날 회의 에는 동북지방통계청 한국 지능 정보사회 진흥 원 을 비...</td>\n",
       "      <td>0</td>\n",
       "    </tr>\n",
       "    <tr>\n",
       "      <th>17</th>\n",
       "      <td>2021-05-02</td>\n",
       "      <td>2021</td>\n",
       "      <td>5</td>\n",
       "      <td>2</td>\n",
       "      <td>DGB대구銀, 어버이날 맞이 ‘孝’ 마스크 지원</td>\n",
       "      <td>DGB 대구 銀 어버이날 맞이 孝 마스크 지원</td>\n",
       "      <td>더퍼블릭</td>\n",
       "      <td>DGB대구은행(은행장 임성훈)은 다가오는 어버이날을 맞아 지역 내 방역취약계층 어르...</td>\n",
       "      <td>DGB 대 구 은행 은행 장 임성훈 다가오다 어버이날 을 맞다 지역 내 방역 취약 ...</td>\n",
       "      <td>0</td>\n",
       "    </tr>\n",
       "    <tr>\n",
       "      <th>18</th>\n",
       "      <td>2021-05-02</td>\n",
       "      <td>2021</td>\n",
       "      <td>5</td>\n",
       "      <td>2</td>\n",
       "      <td>'호실적' 금융지주계열 캐피탈·저축銀…충당금적립 먹구름</td>\n",
       "      <td>호실 적 금융 지 주계열 캐피탈 저축 銀 충당금 적립 먹구름</td>\n",
       "      <td>이코노믹리뷰</td>\n",
       "      <td>대구은행 이자이익이 회복되고 비은행 계열사인 DGB캐피탈과 하이투자증권의 이익이 증...</td>\n",
       "      <td>대구 은행 이자 이익 회복 되다 비 은행 계열 사인 DGB 캐피탈 하이 투자 증권 ...</td>\n",
       "      <td>0</td>\n",
       "    </tr>\n",
       "    <tr>\n",
       "      <th>19</th>\n",
       "      <td>2021-05-02</td>\n",
       "      <td>2021</td>\n",
       "      <td>5</td>\n",
       "      <td>2</td>\n",
       "      <td>DGB대구은행, 어버이날 맞아 방역취약계층 효 마스크 지원</td>\n",
       "      <td>DGB 대구 은행 어버이날 맞다 방역 취약 계층 효 마스크 지원</td>\n",
       "      <td>뉴데일리</td>\n",
       "      <td>뉴데일리 강승탁 기자 = DGB대구은행(은행장 임성훈)은 어버이날을 맞아 지역 내 ...</td>\n",
       "      <td>뉴데일리 강승탁 기자 DGB 대 구 은행 은행 장 임성훈 어버이날 을 맞다 지역 내...</td>\n",
       "      <td>0</td>\n",
       "    </tr>\n",
       "    <tr>\n",
       "      <th>20</th>\n",
       "      <td>2021-05-03</td>\n",
       "      <td>2021</td>\n",
       "      <td>5</td>\n",
       "      <td>3</td>\n",
       "      <td>대구은행, 비대면 채널 환전 및 외화 적금 가입 고객 경품 이벤트</td>\n",
       "      <td>대구 은행 비대 면 채널 환전 및 외화 적금 가입 고객 경품 이벤트</td>\n",
       "      <td>신아일보</td>\n",
       "      <td>DGB대구은행은 3일부터 오는 6월 30일까지 비대면 환전서비스 이용 및 상품 가입...</td>\n",
       "      <td>DGB 대 구 은행 3일 부터 오다 6월 30일 까지 비대 면 환전 서비스 이용 및...</td>\n",
       "      <td>0</td>\n",
       "    </tr>\n",
       "    <tr>\n",
       "      <th>21</th>\n",
       "      <td>2021-05-03</td>\n",
       "      <td>2021</td>\n",
       "      <td>5</td>\n",
       "      <td>3</td>\n",
       "      <td>DGB대구은행, 비대면채널 환전ㆍ외화적금 가입 고객 경품 이벤트 실시</td>\n",
       "      <td>DGB 대구 은행 비대 면 채널 환전 외화 적금 가입 고객 경품 이벤트 실시</td>\n",
       "      <td>경상매일신문</td>\n",
       "      <td>DGB대구은행은 3일부터 오는 6월30일까지 비대면 환전서비스 이용 및 상품 가입 ...</td>\n",
       "      <td>DGB 대 구 은행 3일 부터 오다 6월 30일 까지 비대 면 환전 서비스 이용 및...</td>\n",
       "      <td>0</td>\n",
       "    </tr>\n",
       "    <tr>\n",
       "      <th>22</th>\n",
       "      <td>2021-05-03</td>\n",
       "      <td>2021</td>\n",
       "      <td>5</td>\n",
       "      <td>3</td>\n",
       "      <td>대구은행 'IM외환딜러 이벤트' 실시</td>\n",
       "      <td>대구 은행 IM 외환 딜러 이벤트 실시</td>\n",
       "      <td>대구신문</td>\n",
       "      <td>DGB대구은행은 3일부터 다음 달 30일까지 비대면 환전서비스 이용 및 상품 가입 ...</td>\n",
       "      <td>DGB 대 구 은행 3일 부터 다음 달 30일 까지 비대 면 환전 서비스 이용 및 ...</td>\n",
       "      <td>0</td>\n",
       "    </tr>\n",
       "    <tr>\n",
       "      <th>23</th>\n",
       "      <td>2021-05-03</td>\n",
       "      <td>2021</td>\n",
       "      <td>5</td>\n",
       "      <td>3</td>\n",
       "      <td>DGB대구은행, 비대면 환전서비스 등 고객 경품이벤트</td>\n",
       "      <td>DGB 대구 은행 비대 면 환전 서비스 등 고객 경품 이벤트</td>\n",
       "      <td>경북매일신문</td>\n",
       "      <td>DGB대구은행(은행장 임성훈)이 오는 6월 30일까지 비대면 환전서비스 이용 및 상...</td>\n",
       "      <td>DGB 대 구 은행 은행 장 임성훈 오다 6월 30일 까지 비대 면 환전 서비스 이...</td>\n",
       "      <td>0</td>\n",
       "    </tr>\n",
       "    <tr>\n",
       "      <th>24</th>\n",
       "      <td>2021-05-03</td>\n",
       "      <td>2021</td>\n",
       "      <td>5</td>\n",
       "      <td>3</td>\n",
       "      <td>DGB대구은행, 비대면 채널 환전 및 외화 적금 가입 고객 경품 이벤트</td>\n",
       "      <td>DGB 대구 은행 비대 면 채널 환전 및 외화 적금 가입 고객 경품 이벤트</td>\n",
       "      <td>국제뉴스</td>\n",
       "      <td>DGB대구은행(은행장 임성훈)은 3일(월)부터 오는 6월30일까지 비대면 환전서비스...</td>\n",
       "      <td>DGB 대다 구 은행 은행 장 임성훈 3일 월 부터 오다 6월 30일 까지 비대 면...</td>\n",
       "      <td>0</td>\n",
       "    </tr>\n",
       "    <tr>\n",
       "      <th>25</th>\n",
       "      <td>2021-05-03</td>\n",
       "      <td>2021</td>\n",
       "      <td>5</td>\n",
       "      <td>3</td>\n",
       "      <td>DGB대구은행 거점은행 없는 대전충청 본다, 임성훈 지역한계 넘기</td>\n",
       "      <td>DGB 대구 은행 거점 은행 없다 대전 충청 보다 임성훈 지역 한계 넘기다</td>\n",
       "      <td>비즈니스포스트</td>\n",
       "      <td>임성훈 DGB대구은행 은행장이 수도권은 물론 대전·충청지역까지 영업망을 확대하기 위...</td>\n",
       "      <td>임성훈 DGB 대구 은행 은행 장이 수도권 물론 대 전 충청 지역 까지 영업 망 을...</td>\n",
       "      <td>0</td>\n",
       "    </tr>\n",
       "    <tr>\n",
       "      <th>26</th>\n",
       "      <td>2021-05-03</td>\n",
       "      <td>2021</td>\n",
       "      <td>5</td>\n",
       "      <td>3</td>\n",
       "      <td>DGB대구은행, 비대면으로 상품과 서비스 이용하면 경품 주는 행사</td>\n",
       "      <td>DGB 대구 은행 비 대면 상품 서비스 이용 경품 주다 행사</td>\n",
       "      <td>비즈니스포스트</td>\n",
       "      <td>DGB대구은행은 6월30일까지 비대면으로 외화 환전서비스를 이용하거나 외화 적금상품...</td>\n",
       "      <td>DGB 대 구 은행 6월 30일 까지 비 대면 외화 환전 서비스 이용 하 거나 외화...</td>\n",
       "      <td>0</td>\n",
       "    </tr>\n",
       "    <tr>\n",
       "      <th>27</th>\n",
       "      <td>2021-05-03</td>\n",
       "      <td>2021</td>\n",
       "      <td>5</td>\n",
       "      <td>3</td>\n",
       "      <td>대구은행 \"비대면으로 환전·외화 적금 들면 경품이 와르르\"</td>\n",
       "      <td>대구 은행 비 대면 환전 외화 적금 들다 경품 와르르</td>\n",
       "      <td>경북도민일보</td>\n",
       "      <td>DGB대구은행은 3일부터 오는 6월30일까지 비대면 환전서비스 이용 및 상품 가입 ...</td>\n",
       "      <td>DGB 대 구 은행 3일 부터 오다 6월 30일 까지 비대 면 환전 서비스 이용 및...</td>\n",
       "      <td>0</td>\n",
       "    </tr>\n",
       "    <tr>\n",
       "      <th>28</th>\n",
       "      <td>2021-05-03</td>\n",
       "      <td>2021</td>\n",
       "      <td>5</td>\n",
       "      <td>3</td>\n",
       "      <td>DGB대구은행, ‘IM외환딜러’ 이벤트 진행</td>\n",
       "      <td>DGB 대구 은행 IM 외환 딜러 이벤트 진행</td>\n",
       "      <td>쿠키뉴스</td>\n",
       "      <td>DGB대구은행이 오는 6월30일까지 ‘IM외환딜러’ 이벤트를 실시한다. (DGB대구...</td>\n",
       "      <td>DGB 대 구 은행 오다 6월 30일 까지 IM 외환 딜러 이벤트 실시 DGB 대구...</td>\n",
       "      <td>0</td>\n",
       "    </tr>\n",
       "    <tr>\n",
       "      <th>29</th>\n",
       "      <td>2021-05-03</td>\n",
       "      <td>2021</td>\n",
       "      <td>5</td>\n",
       "      <td>3</td>\n",
       "      <td>DGB대구은행, 비대면 환전·외화 적금 가입 고객 경품 이벤트 실시</td>\n",
       "      <td>DGB 대구 은행 비대 면 환전 외화 적금 가입 고객 경품 이벤트 실시</td>\n",
       "      <td>NSP통신</td>\n",
       "      <td>외화 Buy&amp;amp;Sell 실시간 거래 시 이벤트 기간 특별 환율우대 90% 최병...</td>\n",
       "      <td>외화 Buyamp ; Sell 실시간 거래 시 이벤트 기간 특별 환율 우대 90% ...</td>\n",
       "      <td>0</td>\n",
       "    </tr>\n",
       "    <tr>\n",
       "      <th>30</th>\n",
       "      <td>2021-05-03</td>\n",
       "      <td>2021</td>\n",
       "      <td>5</td>\n",
       "      <td>3</td>\n",
       "      <td>DGB대구銀, 비대면 환전‧외화적금 가입 대상 ‘경품’ 이벤트</td>\n",
       "      <td>DGB 대구 銀 비대 면 환전 ‧ 외화 적금 가입 대상 경품 이벤트</td>\n",
       "      <td>더퍼블릭</td>\n",
       "      <td>DGB대구은행(은행장 임성훈)은 3일부터 오는 6월30일까지 비대면 환전서비스 이용...</td>\n",
       "      <td>DGB 대 구 은행 은행 장 임성훈 3일 부터 오다 6월 30일 까지 비대 면 환전...</td>\n",
       "      <td>0</td>\n",
       "    </tr>\n",
       "    <tr>\n",
       "      <th>31</th>\n",
       "      <td>2021-05-03</td>\n",
       "      <td>2021</td>\n",
       "      <td>5</td>\n",
       "      <td>3</td>\n",
       "      <td>DGB대구은행, 비대면 채널 환전 및 외화 적금 가입 이벤트</td>\n",
       "      <td>DGB 대구 은행 비대 면 채널 환전 및 외화 적금 가입 이벤트</td>\n",
       "      <td>조세일보</td>\n",
       "      <td>DGB대구은행은 3일부터 오는 6월30일까지 비대면 환전서비스 이용 및 상품 가입 ...</td>\n",
       "      <td>DGB 대 구 은행 3일 부터 오다 6월 30일 까지 비대 면 환전 서비스 이용 및...</td>\n",
       "      <td>0</td>\n",
       "    </tr>\n",
       "    <tr>\n",
       "      <th>32</th>\n",
       "      <td>2021-05-03</td>\n",
       "      <td>2021</td>\n",
       "      <td>5</td>\n",
       "      <td>3</td>\n",
       "      <td>대구銀, 비대면 환전·외화적금 경품행사</td>\n",
       "      <td>대구 銀 비대 면 환전 외화 적금 경품 행사</td>\n",
       "      <td>헤럴드경제</td>\n",
       "      <td>DGB대구은행은 3일부터 오는 6월 30일까지 비대면 환전서비스 이용 및 상품 가입...</td>\n",
       "      <td>DGB 대 구 은행 3일 부터 오다 6월 30일 까지 비대 면 환전 서비스 이용 및...</td>\n",
       "      <td>0</td>\n",
       "    </tr>\n",
       "    <tr>\n",
       "      <th>33</th>\n",
       "      <td>2021-05-03</td>\n",
       "      <td>2021</td>\n",
       "      <td>5</td>\n",
       "      <td>3</td>\n",
       "      <td>DGB대구은행, 6월 말까지 'IM외환딜러' 이벤트 진행</td>\n",
       "      <td>DGB 대구 은행 6월 말 까지 IM 외환 딜러 이벤트 진행</td>\n",
       "      <td>데일리한국</td>\n",
       "      <td>비대면 환전서비스 이용하거나 적금상품 가입시 경품 증정 DGB대구은행이 오는 6월 ...</td>\n",
       "      <td>비대 면 환전 서비스 이용 하 거나 적금 상품 가입 시 경품 증정 DGB 대 구 은...</td>\n",
       "      <td>0</td>\n",
       "    </tr>\n",
       "    <tr>\n",
       "      <th>34</th>\n",
       "      <td>2021-05-03</td>\n",
       "      <td>2021</td>\n",
       "      <td>5</td>\n",
       "      <td>3</td>\n",
       "      <td>DGB대구은행, 비대면 채널 환전·외화적금 경품 이벤트</td>\n",
       "      <td>DGB 대구 은행 비대 면 채널 환전 외화 적금 경품 이벤트</td>\n",
       "      <td>뉴시스</td>\n",
       "      <td>DGB대구은행은 3일부터 오는 6월30일까지 비대면 환전서비스 이용 및 상품 가입 ...</td>\n",
       "      <td>DGB 대 구 은행 3일 부터 오다 6월 30일 까지 비대 면 환전 서비스 이용 및...</td>\n",
       "      <td>0</td>\n",
       "    </tr>\n",
       "    <tr>\n",
       "      <th>35</th>\n",
       "      <td>2021-05-03</td>\n",
       "      <td>2021</td>\n",
       "      <td>5</td>\n",
       "      <td>3</td>\n",
       "      <td>DGB금융그룹, 제13회 전국 초·중·고 NIE 에너지일기 공모전 개최</td>\n",
       "      <td>DGB 금융 그룹 제 13회 전국 초 중고 NIE 에너지 일기 공모전 개최</td>\n",
       "      <td>브레이크뉴스</td>\n",
       "      <td>참여를 원하는 학생은 DGB금융지주 홈페이지에서 일기장을 다운로드 받아, 신문기사를...</td>\n",
       "      <td>참여 원하다 학생 DGB 금융 지주 홈페이지 에서 일기장 을 다운로드 받다 신 문 ...</td>\n",
       "      <td>0</td>\n",
       "    </tr>\n",
       "    <tr>\n",
       "      <th>36</th>\n",
       "      <td>2021-05-03</td>\n",
       "      <td>2021</td>\n",
       "      <td>5</td>\n",
       "      <td>3</td>\n",
       "      <td>DGB대구은행 - 한국장학재단, 우편전용 법인카드 발급 업무협약</td>\n",
       "      <td>DGB 대구 은행 한국 장학재단 우편 전용 법인 카드 발급 업무 협약</td>\n",
       "      <td>브레이크뉴스</td>\n",
       "      <td>DGB대구은행(은행장 임성훈)과 한국장학재단(이사장 이정우)은 법인카드의 효율적 운...</td>\n",
       "      <td>DGB 대 구 은행 은행 장 임성훈 한국 장학재단 이사장 이정우 법인 카드 효율 적...</td>\n",
       "      <td>0</td>\n",
       "    </tr>\n",
       "    <tr>\n",
       "      <th>37</th>\n",
       "      <td>2021-05-03</td>\n",
       "      <td>2021</td>\n",
       "      <td>5</td>\n",
       "      <td>3</td>\n",
       "      <td>시중銀 넘어선 지방銀 수익성…어떻게?</td>\n",
       "      <td>시중 銀 넘어서다 지방 銀 수익 성 어떻 게</td>\n",
       "      <td>헤럴드경제</td>\n",
       "      <td>금융권의 ‘어닝 서프라이스’에 지방은행(DGB대구·BNK부산·BNK경남·JB전북·J...</td>\n",
       "      <td>금융 권 어닝 서 프라 이스 지방 은행 DGB 대구 BNK 부산 BNK 경남 JB ...</td>\n",
       "      <td>0</td>\n",
       "    </tr>\n",
       "    <tr>\n",
       "      <th>38</th>\n",
       "      <td>2021-05-03</td>\n",
       "      <td>2021</td>\n",
       "      <td>5</td>\n",
       "      <td>3</td>\n",
       "      <td>[성금내역] 아들 백혈병 투병 중임에도 도박 손대고 연락두절 된 남편으로 힘...</td>\n",
       "      <td>성금 내 역 아들 백혈병 투병 중임 에도 도박 손대다 연락 두절 되다 남편 힘</td>\n",
       "      <td>매일신문</td>\n",
       "      <td>이 성금에는 ▷DGB대구은행 100만원 ▷구미현대병원 25만원 ▷봉산성결교회 10만...</td>\n",
       "      <td>성금 에는 ▷ DGB 대구 은행 100만원 ▷ 구미 현대 병원 25만원 ▷ 봉산 성...</td>\n",
       "      <td>0</td>\n",
       "    </tr>\n",
       "    <tr>\n",
       "      <th>39</th>\n",
       "      <td>2021-05-03</td>\n",
       "      <td>2021</td>\n",
       "      <td>5</td>\n",
       "      <td>3</td>\n",
       "      <td>은행권 가정의 달 이벤트 '풍성'</td>\n",
       "      <td>은행권 가정 달 이벤트 풍 성</td>\n",
       "      <td>FETV</td>\n",
       "      <td>허인 국민은행장, 김지완 BNK금융 회장, 김태오 DGB금융 회장, 송종욱 광주은행...</td>\n",
       "      <td>허다 국민은행 장 김지 완 BNK 금융 회장 김태오 DGB 금융 회장 송종욱 광주 ...</td>\n",
       "      <td>0</td>\n",
       "    </tr>\n",
       "    <tr>\n",
       "      <th>40</th>\n",
       "      <td>2021-05-03</td>\n",
       "      <td>2021</td>\n",
       "      <td>5</td>\n",
       "      <td>3</td>\n",
       "      <td>DGB대구은행, 어버이날 맞이 효(孝) 마스크 지원</td>\n",
       "      <td>DGB 대구 은행 어버이날 맞이 효 孝 마스크 지원</td>\n",
       "      <td>시장경제신문</td>\n",
       "      <td>방역취약계층에 KF94 5만7000장 전달 [시장경제=양일국 기자] 전광채 DGB대...</td>\n",
       "      <td>방역 취약 계층 KF 94 5만 7000 장 전달 시장경제 양일 국 기자 전 광채 ...</td>\n",
       "      <td>0</td>\n",
       "    </tr>\n",
       "    <tr>\n",
       "      <th>41</th>\n",
       "      <td>2021-05-03</td>\n",
       "      <td>2021</td>\n",
       "      <td>5</td>\n",
       "      <td>3</td>\n",
       "      <td>DGB대구은행, 비대면 채널 환전 및 외화 적금 가입 고객 경품 이벤트</td>\n",
       "      <td>DGB 대구 은행 비대 면 채널 환전 및 외화 적금 가입 고객 경품 이벤트</td>\n",
       "      <td>대한금융신문</td>\n",
       "      <td>DGB대구은행(은행장 임성훈)은 3일(월)부터 오는 6월30일까지 비대면 환전서비스...</td>\n",
       "      <td>DGB 대다 구 은행 은행 장 임성훈 3일 월 부터 오다 6월 30일 까지 비대 면...</td>\n",
       "      <td>0</td>\n",
       "    </tr>\n",
       "    <tr>\n",
       "      <th>42</th>\n",
       "      <td>2021-05-04</td>\n",
       "      <td>2021</td>\n",
       "      <td>5</td>\n",
       "      <td>4</td>\n",
       "      <td>DGB대구은행, 어린이날 맞이 지역 아동 사랑의 빵나눔</td>\n",
       "      <td>DGB 대구 은행 어린이날 맞이 지역 아동 사랑 빵 나눔</td>\n",
       "      <td>조세일보</td>\n",
       "      <td>DGB대구은행은 어린이날을 맞아 4일 사랑의 빵 나눔터에서 지역 아동들을 위한 사랑...</td>\n",
       "      <td>DGB 대다 구 은행 어린이날 을 맞다 4일 사랑 빵 나눔 터 에서 지역 아동 들다...</td>\n",
       "      <td>0</td>\n",
       "    </tr>\n",
       "    <tr>\n",
       "      <th>43</th>\n",
       "      <td>2021-05-04</td>\n",
       "      <td>2021</td>\n",
       "      <td>5</td>\n",
       "      <td>4</td>\n",
       "      <td>DGB대구은행, 어린이날 맞아 지역 아동에게 사랑의 빵나눔</td>\n",
       "      <td>DGB 대구 은행 어린이날 맞다 지역 아동 에게 사랑 빵 나눔</td>\n",
       "      <td>메트로신문</td>\n",
       "      <td>DGB대구은행 사랑의 빵 나눔 행사에 참석한 전광채 DGB사회공헌홍보부장(왼쪽), ...</td>\n",
       "      <td>DGB 대구 은행 사랑 빵 나눔 행사 참석 전 광채 DGB 사회 공 헌 홍보 부장 ...</td>\n",
       "      <td>0</td>\n",
       "    </tr>\n",
       "    <tr>\n",
       "      <th>44</th>\n",
       "      <td>2021-05-04</td>\n",
       "      <td>2021</td>\n",
       "      <td>5</td>\n",
       "      <td>4</td>\n",
       "      <td>DGB대구은행, 어린이날 맞아 지역아동 '사랑의 빵' 나눔 행사</td>\n",
       "      <td>DGB 대구 은행 어린이날 맞다 지역 아동 사랑 빵 나눔 행사</td>\n",
       "      <td>아시아투데이</td>\n",
       "      <td>DGB대구은행은 어린이날을 맞아 4일 사단법인 사랑의연탄나눔운동의 ‘사랑의 빵’ 나...</td>\n",
       "      <td>DGB 대 구 은행 어린이날 을 맞다 4일 사단법인 사랑 연탄 나눔 운동 사랑 빵 ...</td>\n",
       "      <td>0</td>\n",
       "    </tr>\n",
       "    <tr>\n",
       "      <th>45</th>\n",
       "      <td>2021-05-04</td>\n",
       "      <td>2021</td>\n",
       "      <td>5</td>\n",
       "      <td>4</td>\n",
       "      <td>DGB대구은행, 어린이날 아동센터 33곳 '사랑의 빵 나눔'</td>\n",
       "      <td>DGB 대구 은행 어린이날 아동 센터 33 곳 사랑 빵 나눔</td>\n",
       "      <td>뉴시스</td>\n",
       "      <td>DGB대구은행은 어린이날을 앞두고 4일 사랑의빵 나눔터에서 지역 아동들을 위한 '사...</td>\n",
       "      <td>DGB 대 구 은행 어린이날 을 앞두다 4일 사랑 빵 나눔 터 에서 지역 아동 들 ...</td>\n",
       "      <td>0</td>\n",
       "    </tr>\n",
       "    <tr>\n",
       "      <th>46</th>\n",
       "      <td>2021-05-04</td>\n",
       "      <td>2021</td>\n",
       "      <td>5</td>\n",
       "      <td>4</td>\n",
       "      <td>‘대구창업캠퍼스’를 아시나요? “창업지원의 산실”</td>\n",
       "      <td>대 구 창업 캠퍼스 알다 창업 지원 산실</td>\n",
       "      <td>매일신문</td>\n",
       "      <td>대구창업캠퍼스는 연구개발특구진흥재단이 주관하고 DGB 대구은행이 후원하고 있으며, ...</td>\n",
       "      <td>대 구 창업 캠퍼스 연구개발 특 구 진흥 재단 주관 하고 DGB 대 구 은행 후원 ...</td>\n",
       "      <td>0</td>\n",
       "    </tr>\n",
       "    <tr>\n",
       "      <th>47</th>\n",
       "      <td>2021-05-04</td>\n",
       "      <td>2021</td>\n",
       "      <td>5</td>\n",
       "      <td>4</td>\n",
       "      <td>DGB대구은행, 어린이날 맞이 지역 아동 '사랑의 빵' 나눔</td>\n",
       "      <td>DGB 대구 은행 어린이날 맞이 지역 아동 사랑 빵 나눔</td>\n",
       "      <td>스트레이트뉴스</td>\n",
       "      <td>DGB대구은행은 어린이날을 맞아 사랑의 빵 나눔터에서 '지역 아동들을 위한 사랑의 ...</td>\n",
       "      <td>DGB 대 구 은행 어린이날 을 맞다   사랑 빵 나눔 터 에서 지역 아동 들 을 ...</td>\n",
       "      <td>0</td>\n",
       "    </tr>\n",
       "    <tr>\n",
       "      <th>48</th>\n",
       "      <td>2021-05-04</td>\n",
       "      <td>2021</td>\n",
       "      <td>5</td>\n",
       "      <td>4</td>\n",
       "      <td>[BBS PLAZA]DGB대구은행, 어린이날 맞이 지역 아동 사랑의 빵나눔</td>\n",
       "      <td>BBS PLAZADGB 대구 은행 어린이날 맞이 지역 아동 사랑 빵 나눔</td>\n",
       "      <td>BBS NEWS</td>\n",
       "      <td>DGB대구은행 사랑의 빵 나눔, (왼쪽)전광채 DGB사회공헌홍보부장, (오른쪽))서...</td>\n",
       "      <td>DGB 대구 은행 사랑 빵 나눔 왼쪽 전 광채 DGB 사회 공 헌 홍보 부장 오른쪽...</td>\n",
       "      <td>0</td>\n",
       "    </tr>\n",
       "    <tr>\n",
       "      <th>49</th>\n",
       "      <td>2021-05-04</td>\n",
       "      <td>2021</td>\n",
       "      <td>5</td>\n",
       "      <td>4</td>\n",
       "      <td>DGB대구은행, 어린이날 맞이 지역 아동 빵나눔</td>\n",
       "      <td>DGB 대구 은행 어린이날 맞이 지역 아동 빵 나눔</td>\n",
       "      <td>뉴스클레임</td>\n",
       "      <td>뉴스클레임 조현지 기­자 DGB대구은행은 어린이날을 맞아 4일 사랑의 빵 나눔터(이...</td>\n",
       "      <td>뉴스 클레 임 조현지 기 ­ DGB 대 구 은행 어린이날 을 맞다 4일 사랑 빵 나...</td>\n",
       "      <td>0</td>\n",
       "    </tr>\n",
       "  </tbody>\n",
       "</table>\n",
       "</div>"
      ],
      "text/plain": [
       "         date  year  month  day  \\\n",
       "0  2021-05-01  2021      5    1   \n",
       "1  2021-05-01  2021      5    1   \n",
       "2  2021-05-01  2021      5    1   \n",
       "3  2021-05-01  2021      5    1   \n",
       "4  2021-05-01  2021      5    1   \n",
       "5  2021-05-01  2021      5    1   \n",
       "6  2021-05-01  2021      5    1   \n",
       "7  2021-05-02  2021      5    2   \n",
       "8  2021-05-02  2021      5    2   \n",
       "9  2021-05-02  2021      5    2   \n",
       "10 2021-05-02  2021      5    2   \n",
       "11 2021-05-02  2021      5    2   \n",
       "12 2021-05-02  2021      5    2   \n",
       "13 2021-05-02  2021      5    2   \n",
       "14 2021-05-02  2021      5    2   \n",
       "15 2021-05-02  2021      5    2   \n",
       "16 2021-05-02  2021      5    2   \n",
       "17 2021-05-02  2021      5    2   \n",
       "18 2021-05-02  2021      5    2   \n",
       "19 2021-05-02  2021      5    2   \n",
       "20 2021-05-03  2021      5    3   \n",
       "21 2021-05-03  2021      5    3   \n",
       "22 2021-05-03  2021      5    3   \n",
       "23 2021-05-03  2021      5    3   \n",
       "24 2021-05-03  2021      5    3   \n",
       "25 2021-05-03  2021      5    3   \n",
       "26 2021-05-03  2021      5    3   \n",
       "27 2021-05-03  2021      5    3   \n",
       "28 2021-05-03  2021      5    3   \n",
       "29 2021-05-03  2021      5    3   \n",
       "30 2021-05-03  2021      5    3   \n",
       "31 2021-05-03  2021      5    3   \n",
       "32 2021-05-03  2021      5    3   \n",
       "33 2021-05-03  2021      5    3   \n",
       "34 2021-05-03  2021      5    3   \n",
       "35 2021-05-03  2021      5    3   \n",
       "36 2021-05-03  2021      5    3   \n",
       "37 2021-05-03  2021      5    3   \n",
       "38 2021-05-03  2021      5    3   \n",
       "39 2021-05-03  2021      5    3   \n",
       "40 2021-05-03  2021      5    3   \n",
       "41 2021-05-03  2021      5    3   \n",
       "42 2021-05-04  2021      5    4   \n",
       "43 2021-05-04  2021      5    4   \n",
       "44 2021-05-04  2021      5    4   \n",
       "45 2021-05-04  2021      5    4   \n",
       "46 2021-05-04  2021      5    4   \n",
       "47 2021-05-04  2021      5    4   \n",
       "48 2021-05-04  2021      5    4   \n",
       "49 2021-05-04  2021      5    4   \n",
       "\n",
       "                                            title  \\\n",
       "0                        DGB대구은행, 은행권 중금리대출 실적 1위   \n",
       "1                    DGB대구은행, 어버이날 맞이 효(孝) 마스크 지원   \n",
       "2                    은행·비은행 동반성장…지방금융지주 1분기 '好好好'   \n",
       "3               DGB대구銀, 코로나 대응 관련 ‘유공 행정안전부 장관표창’   \n",
       "4                 대구은행, 방역취약계층 어르신 대상 KF94 마스크 전달   \n",
       "5                   지방금융그룹도 1분기 사상최대 실적…비은행 계열 선전   \n",
       "6                    DGB대구은행, 어버이날 맞이 효(孝) 마스크 지원   \n",
       "7                       DGB대구은행, 방역취약 어르신에 마스크 지원   \n",
       "8                 DGB대구은행, 코로나19 대응 유공 행정안전부 장관표창   \n",
       "9                            코로나19 확산 초기 선제 대응 앞장   \n",
       "10         지방금융지주도 1분기 ‘실적잔치’… 내부등급법 승인땐 몸값 더 오른다   \n",
       "11   [SR경제&라이프] 지방금융지주, 주가 30%↑…\"깜짝 실적, 주가 추가 상승\"   \n",
       "12      1분기 호실적에 내부등급법 승인 기대감까지 … 지방금융지주 주가 더 오르나   \n",
       "13              지방금융지주 1분기 역대급 순이익 ...비은행 '깜짝\" 실적   \n",
       "14           DGB대구은행, ‘코로나19 적극대응’ 공로 행정안전부 장관 표창   \n",
       "15       '한 숨 돌린' BNK·JB·DGB금융 순익 39% 급등…날개 단 비은행   \n",
       "16                  대구시, 지역 빅데이터 역량 집결을 위해 머리 맞댄다   \n",
       "17                     DGB대구銀, 어버이날 맞이 ‘孝’ 마스크 지원   \n",
       "18                 '호실적' 금융지주계열 캐피탈·저축銀…충당금적립 먹구름   \n",
       "19               DGB대구은행, 어버이날 맞아 방역취약계층 효 마스크 지원   \n",
       "20           대구은행, 비대면 채널 환전 및 외화 적금 가입 고객 경품 이벤트   \n",
       "21         DGB대구은행, 비대면채널 환전ㆍ외화적금 가입 고객 경품 이벤트 실시   \n",
       "22                           대구은행 'IM외환딜러 이벤트' 실시   \n",
       "23                  DGB대구은행, 비대면 환전서비스 등 고객 경품이벤트   \n",
       "24        DGB대구은행, 비대면 채널 환전 및 외화 적금 가입 고객 경품 이벤트   \n",
       "25           DGB대구은행 거점은행 없는 대전충청 본다, 임성훈 지역한계 넘기   \n",
       "26           DGB대구은행, 비대면으로 상품과 서비스 이용하면 경품 주는 행사   \n",
       "27               대구은행 \"비대면으로 환전·외화 적금 들면 경품이 와르르\"   \n",
       "28                       DGB대구은행, ‘IM외환딜러’ 이벤트 진행   \n",
       "29          DGB대구은행, 비대면 환전·외화 적금 가입 고객 경품 이벤트 실시   \n",
       "30             DGB대구銀, 비대면 환전‧외화적금 가입 대상 ‘경품’ 이벤트   \n",
       "31              DGB대구은행, 비대면 채널 환전 및 외화 적금 가입 이벤트   \n",
       "32                          대구銀, 비대면 환전·외화적금 경품행사   \n",
       "33                DGB대구은행, 6월 말까지 'IM외환딜러' 이벤트 진행   \n",
       "34                 DGB대구은행, 비대면 채널 환전·외화적금 경품 이벤트   \n",
       "35        DGB금융그룹, 제13회 전국 초·중·고 NIE 에너지일기 공모전 개최   \n",
       "36            DGB대구은행 - 한국장학재단, 우편전용 법인카드 발급 업무협약   \n",
       "37                           시중銀 넘어선 지방銀 수익성…어떻게?   \n",
       "38  [성금내역] 아들 백혈병 투병 중임에도 도박 손대고 연락두절 된 남편으로 힘...   \n",
       "39                             은행권 가정의 달 이벤트 '풍성'   \n",
       "40                   DGB대구은행, 어버이날 맞이 효(孝) 마스크 지원   \n",
       "41        DGB대구은행, 비대면 채널 환전 및 외화 적금 가입 고객 경품 이벤트   \n",
       "42                 DGB대구은행, 어린이날 맞이 지역 아동 사랑의 빵나눔   \n",
       "43               DGB대구은행, 어린이날 맞아 지역 아동에게 사랑의 빵나눔   \n",
       "44            DGB대구은행, 어린이날 맞아 지역아동 '사랑의 빵' 나눔 행사   \n",
       "45              DGB대구은행, 어린이날 아동센터 33곳 '사랑의 빵 나눔'   \n",
       "46                    ‘대구창업캠퍼스’를 아시나요? “창업지원의 산실”   \n",
       "47              DGB대구은행, 어린이날 맞이 지역 아동 '사랑의 빵' 나눔   \n",
       "48      [BBS PLAZA]DGB대구은행, 어린이날 맞이 지역 아동 사랑의 빵나눔   \n",
       "49                     DGB대구은행, 어린이날 맞이 지역 아동 빵나눔   \n",
       "\n",
       "                                       nouns_title     press  \\\n",
       "0                      DGB 대구 은행 은행권 중 금리 대출 실적 1위   글로벌이코노믹   \n",
       "1                     DGB 대구 은행 어버이날 맞이 효 孝 마스크 지원      경북신문   \n",
       "2                  은행 비 은행 동반성 장 지방 금융 지주 1분 기 好好好      미디어펜   \n",
       "3                DGB 대구 銀 코로나 대응 관련 유공 행정안전부 장관 표창      더퍼블릭   \n",
       "4               대구 은행 방역 취약 계층 어르신 대상 KF 94 마스크 전달      일요신문   \n",
       "5                지방 금융 그룹 1분 기 사상 최대 실적 비 은행 계열 선전     e대한경제   \n",
       "6                     DGB 대구 은행 어버이날 맞이 효 孝 마스크 지원      국제뉴스   \n",
       "7                       DGB 대구 은행 방역 취약 어르신 마스크 지원    경상매일신문   \n",
       "8               DGB 대구 은행 코로나 19 대응 유공 행정안전부 장관 표창    경상매일신문   \n",
       "9                            코로나 19 확산 초기 선제 대응 앞장    경북도민일보   \n",
       "10     지방 금융 지 주도 1분 기 실적 잔치 내부 등급 법 승인 땐 몸값 더 오르다    파이낸셜뉴스   \n",
       "11      SR 경제 라이프 지방 금융 지주 주가 30% ↑ 깜짝 실적 주가 추가 상승     SR타임스   \n",
       "12  1분 기 호실 적 내부 등급 법 승인 기 대감 까지 지방 금융 지주 주가 더 오르다    파이낸셜뉴스   \n",
       "13               지방 금융 지주 1분 기 역대 급 순이익 비 은행 깜짝 실적     브릿지경제   \n",
       "14           DGB 대구 은행 코로나 19 적극 대응 공로 행정안전부 장관 표창      뉴데일리   \n",
       "15          숨 돌리다 BNKJBDGB 금융 순 익 39% 급등 날개 단 비 은행     에너지경제   \n",
       "16                   대구시 지역 빅데이터 역량 집결 을 위해 머리 맞대다    아시아투데이   \n",
       "17                       DGB 대구 銀 어버이날 맞이 孝 마스크 지원      더퍼블릭   \n",
       "18               호실 적 금융 지 주계열 캐피탈 저축 銀 충당금 적립 먹구름    이코노믹리뷰   \n",
       "19             DGB 대구 은행 어버이날 맞다 방역 취약 계층 효 마스크 지원      뉴데일리   \n",
       "20           대구 은행 비대 면 채널 환전 및 외화 적금 가입 고객 경품 이벤트      신아일보   \n",
       "21      DGB 대구 은행 비대 면 채널 환전 외화 적금 가입 고객 경품 이벤트 실시    경상매일신문   \n",
       "22                           대구 은행 IM 외환 딜러 이벤트 실시      대구신문   \n",
       "23               DGB 대구 은행 비대 면 환전 서비스 등 고객 경품 이벤트    경북매일신문   \n",
       "24       DGB 대구 은행 비대 면 채널 환전 및 외화 적금 가입 고객 경품 이벤트      국제뉴스   \n",
       "25       DGB 대구 은행 거점 은행 없다 대전 충청 보다 임성훈 지역 한계 넘기다   비즈니스포스트   \n",
       "26               DGB 대구 은행 비 대면 상품 서비스 이용 경품 주다 행사   비즈니스포스트   \n",
       "27                   대구 은행 비 대면 환전 외화 적금 들다 경품 와르르    경북도민일보   \n",
       "28                       DGB 대구 은행 IM 외환 딜러 이벤트 진행      쿠키뉴스   \n",
       "29         DGB 대구 은행 비대 면 환전 외화 적금 가입 고객 경품 이벤트 실시     NSP통신   \n",
       "30           DGB 대구 銀 비대 면 환전 ‧ 외화 적금 가입 대상 경품 이벤트      더퍼블릭   \n",
       "31             DGB 대구 은행 비대 면 채널 환전 및 외화 적금 가입 이벤트      조세일보   \n",
       "32                        대구 銀 비대 면 환전 외화 적금 경품 행사     헤럴드경제   \n",
       "33               DGB 대구 은행 6월 말 까지 IM 외환 딜러 이벤트 진행     데일리한국   \n",
       "34               DGB 대구 은행 비대 면 채널 환전 외화 적금 경품 이벤트       뉴시스   \n",
       "35       DGB 금융 그룹 제 13회 전국 초 중고 NIE 에너지 일기 공모전 개최    브레이크뉴스   \n",
       "36          DGB 대구 은행 한국 장학재단 우편 전용 법인 카드 발급 업무 협약    브레이크뉴스   \n",
       "37                        시중 銀 넘어서다 지방 銀 수익 성 어떻 게     헤럴드경제   \n",
       "38     성금 내 역 아들 백혈병 투병 중임 에도 도박 손대다 연락 두절 되다 남편 힘      매일신문   \n",
       "39                                은행권 가정 달 이벤트 풍 성      FETV   \n",
       "40                    DGB 대구 은행 어버이날 맞이 효 孝 마스크 지원    시장경제신문   \n",
       "41       DGB 대구 은행 비대 면 채널 환전 및 외화 적금 가입 고객 경품 이벤트    대한금융신문   \n",
       "42                 DGB 대구 은행 어린이날 맞이 지역 아동 사랑 빵 나눔      조세일보   \n",
       "43              DGB 대구 은행 어린이날 맞다 지역 아동 에게 사랑 빵 나눔     메트로신문   \n",
       "44              DGB 대구 은행 어린이날 맞다 지역 아동 사랑 빵 나눔 행사    아시아투데이   \n",
       "45               DGB 대구 은행 어린이날 아동 센터 33 곳 사랑 빵 나눔       뉴시스   \n",
       "46                          대 구 창업 캠퍼스 알다 창업 지원 산실      매일신문   \n",
       "47                 DGB 대구 은행 어린이날 맞이 지역 아동 사랑 빵 나눔   스트레이트뉴스   \n",
       "48        BBS PLAZADGB 대구 은행 어린이날 맞이 지역 아동 사랑 빵 나눔  BBS NEWS   \n",
       "49                    DGB 대구 은행 어린이날 맞이 지역 아동 빵 나눔     뉴스클레임   \n",
       "\n",
       "                                             contents  \\\n",
       "0   DGB대구은행의 중금리대출 실적이 지방은행뿐만 아니라 은행권 전체에서 가장 많은 것...   \n",
       "1   DGB대구은행(은행장 임성훈)은 다가오는 어버이날을 맞아 지역 내 방역취약계층 어르...   \n",
       "2   DGB금융의 순이익은 지난해 1분기에 견줘 40% 급증했다. 핵심 계열사인 대구은행...   \n",
       "3   DGB대구은행(이하 대구은행)은 코로나19 재난 방역 적극 참여 및 지역사회 지원활...   \n",
       "4   - DGB대구은행, 어버이날 맞아 효(孝) 마스크 지원 DGB대구은행(은행장 임성훈...   \n",
       "5   시장금리 상승세에 힘입어 대구은행의 순이자마진이 회복한 데 이어, 비은행 계열인 하...   \n",
       "6   ▲사진 좌: 서문선 DGB대구은행 경영기획본부장, 송준기 대한적십자사 대구지사 회장...   \n",
       "7   DGB대구은행은 다가오는 어버이날을 맞아 지역 내 방역취약계층 어르신들의 코로나19...   \n",
       "8   DGB대구은행은 코로나19 재난 방역 적극 참여 및 지역사회 지원활동을 통한 사회적...   \n",
       "9   임성훈 DGB대구은행장이 행정안전부장관상 표창을 수상한 뒤 기념촬영을 하고 있다. ...   \n",
       "10  같은 기간 DGB금융지주의 순이익도 882억원에서 1235억원으로 40% 늘었다. ...   \n",
       "11  DGB금융지주의 순이익도 882억원에서 1,235억원으로 40%나 늘었다. 시장금리...   \n",
       "12  같은 기간 DGB금융지주의 순이익도 882억원에서 1235억원으로 40% 늘었다. ...   \n",
       "13  대구은행의 이자이익이 회복했고, 비은행 계열사인 하이투자증권, DGB캐피탈 등의 이...   \n",
       "14  뉴데일리 강승탁 기자 = DGB대구은행(이하 대구은행)은 코로나19 재난 방역 적극...   \n",
       "15  DGB대구은행 1분기 순이익은 915억원으로, 1년 전에 비해 16.3% 상승했다....   \n",
       "16  2일 대구시에 따르면 이날 회의에는 동북지방통계청, 한국지능정보사회진흥원을 비롯해 ...   \n",
       "17  DGB대구은행(은행장 임성훈)은 다가오는 어버이날을 맞아 지역 내 방역취약계층 어르...   \n",
       "18  대구은행 이자이익이 회복되고 비은행 계열사인 DGB캐피탈과 하이투자증권의 이익이 증...   \n",
       "19  뉴데일리 강승탁 기자 = DGB대구은행(은행장 임성훈)은 어버이날을 맞아 지역 내 ...   \n",
       "20  DGB대구은행은 3일부터 오는 6월 30일까지 비대면 환전서비스 이용 및 상품 가입...   \n",
       "21  DGB대구은행은 3일부터 오는 6월30일까지 비대면 환전서비스 이용 및 상품 가입 ...   \n",
       "22  DGB대구은행은 3일부터 다음 달 30일까지 비대면 환전서비스 이용 및 상품 가입 ...   \n",
       "23  DGB대구은행(은행장 임성훈)이 오는 6월 30일까지 비대면 환전서비스 이용 및 상...   \n",
       "24  DGB대구은행(은행장 임성훈)은 3일(월)부터 오는 6월30일까지 비대면 환전서비스...   \n",
       "25  임성훈 DGB대구은행 은행장이 수도권은 물론 대전·충청지역까지 영업망을 확대하기 위...   \n",
       "26  DGB대구은행은 6월30일까지 비대면으로 외화 환전서비스를 이용하거나 외화 적금상품...   \n",
       "27  DGB대구은행은 3일부터 오는 6월30일까지 비대면 환전서비스 이용 및 상품 가입 ...   \n",
       "28  DGB대구은행이 오는 6월30일까지 ‘IM외환딜러’ 이벤트를 실시한다. (DGB대구...   \n",
       "29  외화 Buy&amp;Sell 실시간 거래 시 이벤트 기간 특별 환율우대 90% 최병...   \n",
       "30  DGB대구은행(은행장 임성훈)은 3일부터 오는 6월30일까지 비대면 환전서비스 이용...   \n",
       "31  DGB대구은행은 3일부터 오는 6월30일까지 비대면 환전서비스 이용 및 상품 가입 ...   \n",
       "32  DGB대구은행은 3일부터 오는 6월 30일까지 비대면 환전서비스 이용 및 상품 가입...   \n",
       "33  비대면 환전서비스 이용하거나 적금상품 가입시 경품 증정 DGB대구은행이 오는 6월 ...   \n",
       "34  DGB대구은행은 3일부터 오는 6월30일까지 비대면 환전서비스 이용 및 상품 가입 ...   \n",
       "35  참여를 원하는 학생은 DGB금융지주 홈페이지에서 일기장을 다운로드 받아, 신문기사를...   \n",
       "36  DGB대구은행(은행장 임성훈)과 한국장학재단(이사장 이정우)은 법인카드의 효율적 운...   \n",
       "37  금융권의 ‘어닝 서프라이스’에 지방은행(DGB대구·BNK부산·BNK경남·JB전북·J...   \n",
       "38  이 성금에는 ▷DGB대구은행 100만원 ▷구미현대병원 25만원 ▷봉산성결교회 10만...   \n",
       "39  허인 국민은행장, 김지완 BNK금융 회장, 김태오 DGB금융 회장, 송종욱 광주은행...   \n",
       "40  방역취약계층에 KF94 5만7000장 전달 [시장경제=양일국 기자] 전광채 DGB대...   \n",
       "41  DGB대구은행(은행장 임성훈)은 3일(월)부터 오는 6월30일까지 비대면 환전서비스...   \n",
       "42  DGB대구은행은 어린이날을 맞아 4일 사랑의 빵 나눔터에서 지역 아동들을 위한 사랑...   \n",
       "43  DGB대구은행 사랑의 빵 나눔 행사에 참석한 전광채 DGB사회공헌홍보부장(왼쪽), ...   \n",
       "44  DGB대구은행은 어린이날을 맞아 4일 사단법인 사랑의연탄나눔운동의 ‘사랑의 빵’ 나...   \n",
       "45  DGB대구은행은 어린이날을 앞두고 4일 사랑의빵 나눔터에서 지역 아동들을 위한 '사...   \n",
       "46  대구창업캠퍼스는 연구개발특구진흥재단이 주관하고 DGB 대구은행이 후원하고 있으며, ...   \n",
       "47  DGB대구은행은 어린이날을 맞아 사랑의 빵 나눔터에서 '지역 아동들을 위한 사랑의 ...   \n",
       "48  DGB대구은행 사랑의 빵 나눔, (왼쪽)전광채 DGB사회공헌홍보부장, (오른쪽))서...   \n",
       "49  뉴스클레임 조현지 기­자 DGB대구은행은 어린이날을 맞아 4일 사랑의 빵 나눔터(이...   \n",
       "\n",
       "                                       nouns_contents  label  \n",
       "0   DGB 대 구 은행 중 금리 대출 실적 지방 은행 뿐 만 아니다 은행권 전체 에서 ...      1  \n",
       "1   DGB 대 구 은행 은행 장 임성훈 다가오다 어버이날 을 맞다 지역 내 방역 취약 ...      0  \n",
       "2   DGB 금융 순이익 지난해 1분 기에 견줘 40% 급증 핵심 계열 사인 대 구 은행...      0  \n",
       "3   DGB 대구 은행 이하 대 구 은행 코로나 19 재난 방역 적극 참여 및 지역 사회...      0  \n",
       "4   DGB 대구 은행 어버이날 맞다   효 孝 마스크 지원 DGB 대 구 은행 은행 장...      0  \n",
       "5   시장 금리 상승세 힘 입다 대 구 은행 순 이자 마진 회복하다 데 이다 비 은행 계...      0  \n",
       "6   ▲ 사진 좌 서 문선 DGB 대구 은행 경 영기획 본부장 송준기 대 적십자사 대구 ...      0  \n",
       "7   DGB 대 구 은행 다가오다 어버이날 을 맞다 지역 내 방역 취약 계층 어르신 들 ...      0  \n",
       "8   DGB 대 구 은행 코로나 19 재난 방역 적극 참여 및 지역 사회 지 원 활동 을...      0  \n",
       "9   임성훈 DGB 대 구 은행 장이 행정안전부 장관 상 표창 을 수상한 뒤 기념 촬영 ...      0  \n",
       "10  같다 기간 DGB 금융 지다 주의 순이익 882억원 에서 1235억원 40% 늘다 ...      0  \n",
       "11  DGB 금융 지 주의 순이익 882억원 에서 1235억원 40% 나 늘다 시장 금리...      0  \n",
       "12  같다 기간 DGB 금융 지다 주의 순이익 882억원 에서 1235억원 40% 늘다 ...      0  \n",
       "13  대 구 은행 이자 이익 회복하다 비 은행 계열 사인 하이 투자 증권 DGB 캐피탈 ...      0  \n",
       "14  뉴데일리 강승탁 기자 DGB 대구 은행 이하 대 구 은행 코로나 19 재난 방역 적...      0  \n",
       "15  DGB 대구 은행 1분 기 순이익 915억원 1년 전 비다 163% 상승 지방 금융...      0  \n",
       "16  2일 대구시 따르다 날 회의 에는 동북지방통계청 한국 지능 정보사회 진흥 원 을 비...      0  \n",
       "17  DGB 대 구 은행 은행 장 임성훈 다가오다 어버이날 을 맞다 지역 내 방역 취약 ...      0  \n",
       "18  대구 은행 이자 이익 회복 되다 비 은행 계열 사인 DGB 캐피탈 하이 투자 증권 ...      0  \n",
       "19  뉴데일리 강승탁 기자 DGB 대 구 은행 은행 장 임성훈 어버이날 을 맞다 지역 내...      0  \n",
       "20  DGB 대 구 은행 3일 부터 오다 6월 30일 까지 비대 면 환전 서비스 이용 및...      0  \n",
       "21  DGB 대 구 은행 3일 부터 오다 6월 30일 까지 비대 면 환전 서비스 이용 및...      0  \n",
       "22  DGB 대 구 은행 3일 부터 다음 달 30일 까지 비대 면 환전 서비스 이용 및 ...      0  \n",
       "23  DGB 대 구 은행 은행 장 임성훈 오다 6월 30일 까지 비대 면 환전 서비스 이...      0  \n",
       "24  DGB 대다 구 은행 은행 장 임성훈 3일 월 부터 오다 6월 30일 까지 비대 면...      0  \n",
       "25  임성훈 DGB 대구 은행 은행 장이 수도권 물론 대 전 충청 지역 까지 영업 망 을...      0  \n",
       "26  DGB 대 구 은행 6월 30일 까지 비 대면 외화 환전 서비스 이용 하 거나 외화...      0  \n",
       "27  DGB 대 구 은행 3일 부터 오다 6월 30일 까지 비대 면 환전 서비스 이용 및...      0  \n",
       "28  DGB 대 구 은행 오다 6월 30일 까지 IM 외환 딜러 이벤트 실시 DGB 대구...      0  \n",
       "29  외화 Buyamp ; Sell 실시간 거래 시 이벤트 기간 특별 환율 우대 90% ...      0  \n",
       "30  DGB 대 구 은행 은행 장 임성훈 3일 부터 오다 6월 30일 까지 비대 면 환전...      0  \n",
       "31  DGB 대 구 은행 3일 부터 오다 6월 30일 까지 비대 면 환전 서비스 이용 및...      0  \n",
       "32  DGB 대 구 은행 3일 부터 오다 6월 30일 까지 비대 면 환전 서비스 이용 및...      0  \n",
       "33  비대 면 환전 서비스 이용 하 거나 적금 상품 가입 시 경품 증정 DGB 대 구 은...      0  \n",
       "34  DGB 대 구 은행 3일 부터 오다 6월 30일 까지 비대 면 환전 서비스 이용 및...      0  \n",
       "35  참여 원하다 학생 DGB 금융 지주 홈페이지 에서 일기장 을 다운로드 받다 신 문 ...      0  \n",
       "36  DGB 대 구 은행 은행 장 임성훈 한국 장학재단 이사장 이정우 법인 카드 효율 적...      0  \n",
       "37  금융 권 어닝 서 프라 이스 지방 은행 DGB 대구 BNK 부산 BNK 경남 JB ...      0  \n",
       "38  성금 에는 ▷ DGB 대구 은행 100만원 ▷ 구미 현대 병원 25만원 ▷ 봉산 성...      0  \n",
       "39  허다 국민은행 장 김지 완 BNK 금융 회장 김태오 DGB 금융 회장 송종욱 광주 ...      0  \n",
       "40  방역 취약 계층 KF 94 5만 7000 장 전달 시장경제 양일 국 기자 전 광채 ...      0  \n",
       "41  DGB 대다 구 은행 은행 장 임성훈 3일 월 부터 오다 6월 30일 까지 비대 면...      0  \n",
       "42  DGB 대다 구 은행 어린이날 을 맞다 4일 사랑 빵 나눔 터 에서 지역 아동 들다...      0  \n",
       "43  DGB 대구 은행 사랑 빵 나눔 행사 참석 전 광채 DGB 사회 공 헌 홍보 부장 ...      0  \n",
       "44  DGB 대 구 은행 어린이날 을 맞다 4일 사단법인 사랑 연탄 나눔 운동 사랑 빵 ...      0  \n",
       "45  DGB 대 구 은행 어린이날 을 앞두다 4일 사랑 빵 나눔 터 에서 지역 아동 들 ...      0  \n",
       "46  대 구 창업 캠퍼스 연구개발 특 구 진흥 재단 주관 하고 DGB 대 구 은행 후원 ...      0  \n",
       "47  DGB 대 구 은행 어린이날 을 맞다   사랑 빵 나눔 터 에서 지역 아동 들 을 ...      0  \n",
       "48  DGB 대구 은행 사랑 빵 나눔 왼쪽 전 광채 DGB 사회 공 헌 홍보 부장 오른쪽...      0  \n",
       "49  뉴스 클레 임 조현지 기 ­ DGB 대 구 은행 어린이날 을 맞다 4일 사랑 빵 나...      0  "
      ]
     },
     "execution_count": 350,
     "metadata": {},
     "output_type": "execute_result"
    }
   ],
   "source": [
    "df_news_copy[:50]"
   ]
  },
  {
   "cell_type": "markdown",
   "id": "c605eef2",
   "metadata": {},
   "source": [
    "## 중립 개수가 너무 많음.\n",
    "- 제목별로 단어개수를 파악해서 긍정단어사전과 부정단어사전을 만들어서 레이블링 작업 진행해야 함. \n",
    "- 기사당 긍정단어개수 - 부정단어개수가 0보다 크면 긍정 작으면 부정 0이라면 중립으로 진행"
   ]
  },
  {
   "cell_type": "code",
   "execution_count": null,
   "id": "969f1284",
   "metadata": {},
   "outputs": [],
   "source": []
  },
  {
   "cell_type": "code",
   "execution_count": null,
   "id": "f1b47f02",
   "metadata": {},
   "outputs": [],
   "source": []
  },
  {
   "cell_type": "code",
   "execution_count": null,
   "id": "15e61984",
   "metadata": {},
   "outputs": [],
   "source": []
  },
  {
   "cell_type": "code",
   "execution_count": null,
   "id": "5bd27ea7",
   "metadata": {},
   "outputs": [],
   "source": []
  },
  {
   "cell_type": "code",
   "execution_count": null,
   "id": "354d4498",
   "metadata": {},
   "outputs": [],
   "source": []
  },
  {
   "cell_type": "markdown",
   "id": "f385851c",
   "metadata": {},
   "source": [
    "### 현재까지 나온 데이터 프레임을 통해 Train Set과 Test Set으로 분류 ( 7:3 정도 ) / 분류할 때 데이터를 적절하게 분배해야 함. Ex) 1~12월이 있다면  30퍼를 12로 나눠야 함."
   ]
  },
  {
   "cell_type": "code",
   "execution_count": null,
   "id": "524536cc",
   "metadata": {},
   "outputs": [],
   "source": []
  },
  {
   "cell_type": "code",
   "execution_count": null,
   "id": "4e8959d0",
   "metadata": {},
   "outputs": [],
   "source": []
  },
  {
   "cell_type": "code",
   "execution_count": null,
   "id": "606cd172",
   "metadata": {},
   "outputs": [],
   "source": []
  },
  {
   "cell_type": "markdown",
   "id": "64b496b9",
   "metadata": {},
   "source": [
    "# 그래프 분석 (EDA)\n",
    "<br>\n",
    "\n",
    "**언론사별 / 월별 / 주중별기사 수량 확인**\n",
    "    \n",
    "    ▶ 언론사를 각 숫자로 표현 후 EDA 실시 Ex) 1 : 미디어펜, 2 : 아이뉴스24, 3 : 데일리안 ...\n",
    "    ▶ date : 등록된 기사별 날짜\n",
    "**아직 제대로 진행 안됨...**"
   ]
  },
  {
   "cell_type": "code",
   "execution_count": 351,
   "id": "3621e09b",
   "metadata": {
    "ExecuteTime": {
     "end_time": "2022-05-16T02:41:31.846979Z",
     "start_time": "2022-05-16T02:41:31.822727Z"
    }
   },
   "outputs": [
    {
     "data": {
      "text/html": [
       "<div>\n",
       "<style scoped>\n",
       "    .dataframe tbody tr th:only-of-type {\n",
       "        vertical-align: middle;\n",
       "    }\n",
       "\n",
       "    .dataframe tbody tr th {\n",
       "        vertical-align: top;\n",
       "    }\n",
       "\n",
       "    .dataframe thead th {\n",
       "        text-align: right;\n",
       "    }\n",
       "</style>\n",
       "<table border=\"1\" class=\"dataframe\">\n",
       "  <thead>\n",
       "    <tr style=\"text-align: right;\">\n",
       "      <th></th>\n",
       "      <th>year</th>\n",
       "      <th>month</th>\n",
       "      <th>day</th>\n",
       "      <th>title</th>\n",
       "      <th>nouns_title</th>\n",
       "      <th>press</th>\n",
       "      <th>contents</th>\n",
       "      <th>nouns_contents</th>\n",
       "      <th>label</th>\n",
       "    </tr>\n",
       "    <tr>\n",
       "      <th>date</th>\n",
       "      <th></th>\n",
       "      <th></th>\n",
       "      <th></th>\n",
       "      <th></th>\n",
       "      <th></th>\n",
       "      <th></th>\n",
       "      <th></th>\n",
       "      <th></th>\n",
       "      <th></th>\n",
       "    </tr>\n",
       "  </thead>\n",
       "  <tbody>\n",
       "    <tr>\n",
       "      <th>2021-05-01</th>\n",
       "      <td>7</td>\n",
       "      <td>7</td>\n",
       "      <td>7</td>\n",
       "      <td>7</td>\n",
       "      <td>7</td>\n",
       "      <td>7</td>\n",
       "      <td>7</td>\n",
       "      <td>7</td>\n",
       "      <td>7</td>\n",
       "    </tr>\n",
       "    <tr>\n",
       "      <th>2021-05-02</th>\n",
       "      <td>13</td>\n",
       "      <td>13</td>\n",
       "      <td>13</td>\n",
       "      <td>13</td>\n",
       "      <td>13</td>\n",
       "      <td>13</td>\n",
       "      <td>13</td>\n",
       "      <td>13</td>\n",
       "      <td>13</td>\n",
       "    </tr>\n",
       "    <tr>\n",
       "      <th>2021-05-03</th>\n",
       "      <td>22</td>\n",
       "      <td>22</td>\n",
       "      <td>22</td>\n",
       "      <td>22</td>\n",
       "      <td>22</td>\n",
       "      <td>22</td>\n",
       "      <td>22</td>\n",
       "      <td>22</td>\n",
       "      <td>22</td>\n",
       "    </tr>\n",
       "  </tbody>\n",
       "</table>\n",
       "</div>"
      ],
      "text/plain": [
       "            year  month  day  title  nouns_title  press  contents  \\\n",
       "date                                                                \n",
       "2021-05-01     7      7    7      7            7      7         7   \n",
       "2021-05-02    13     13   13     13           13     13        13   \n",
       "2021-05-03    22     22   22     22           22     22        22   \n",
       "\n",
       "            nouns_contents  label  \n",
       "date                               \n",
       "2021-05-01               7      7  \n",
       "2021-05-02              13     13  \n",
       "2021-05-03              22     22  "
      ]
     },
     "execution_count": 351,
     "metadata": {},
     "output_type": "execute_result"
    }
   ],
   "source": [
    "# 날짜별 데이터 갯수\n",
    "df_news_copy.groupby('date').count().head(3)"
   ]
  },
  {
   "cell_type": "markdown",
   "id": "803f39f5",
   "metadata": {},
   "source": [
    "## 월별 기사 갯수\n",
    "<br>\n",
    "\n",
    "**참고사이트 : https://zephyrus1111.tistory.com/9**"
   ]
  },
  {
   "cell_type": "code",
   "execution_count": 352,
   "id": "8083efc2",
   "metadata": {
    "ExecuteTime": {
     "end_time": "2022-05-16T02:41:32.719436Z",
     "start_time": "2022-05-16T02:41:32.680540Z"
    }
   },
   "outputs": [
    {
     "name": "stderr",
     "output_type": "stream",
     "text": [
      "C:\\Users\\DGBDS\\anaconda3\\envs\\Intern_Project\\lib\\site-packages\\ipykernel_launcher.py:1: FutureWarning: Treating datetime data as categorical rather than numeric in `.describe` is deprecated and will be removed in a future version of pandas. Specify `datetime_is_numeric=True` to silence this warning and adopt the future behavior now.\n",
      "  \"\"\"Entry point for launching an IPython kernel.\n"
     ]
    },
    {
     "data": {
      "text/html": [
       "<div>\n",
       "<style scoped>\n",
       "    .dataframe tbody tr th:only-of-type {\n",
       "        vertical-align: middle;\n",
       "    }\n",
       "\n",
       "    .dataframe tbody tr th {\n",
       "        vertical-align: top;\n",
       "    }\n",
       "\n",
       "    .dataframe thead th {\n",
       "        text-align: right;\n",
       "    }\n",
       "</style>\n",
       "<table border=\"1\" class=\"dataframe\">\n",
       "  <thead>\n",
       "    <tr style=\"text-align: right;\">\n",
       "      <th></th>\n",
       "      <th>date</th>\n",
       "      <th>year</th>\n",
       "      <th>month</th>\n",
       "      <th>day</th>\n",
       "      <th>title</th>\n",
       "      <th>nouns_title</th>\n",
       "      <th>press</th>\n",
       "      <th>contents</th>\n",
       "      <th>nouns_contents</th>\n",
       "      <th>label</th>\n",
       "    </tr>\n",
       "  </thead>\n",
       "  <tbody>\n",
       "    <tr>\n",
       "      <th>count</th>\n",
       "      <td>8948</td>\n",
       "      <td>8948.000000</td>\n",
       "      <td>8948.000000</td>\n",
       "      <td>8948.000000</td>\n",
       "      <td>8948</td>\n",
       "      <td>8948</td>\n",
       "      <td>8948</td>\n",
       "      <td>8948</td>\n",
       "      <td>8948</td>\n",
       "      <td>8948.000000</td>\n",
       "    </tr>\n",
       "    <tr>\n",
       "      <th>unique</th>\n",
       "      <td>361</td>\n",
       "      <td>NaN</td>\n",
       "      <td>NaN</td>\n",
       "      <td>NaN</td>\n",
       "      <td>7735</td>\n",
       "      <td>7154</td>\n",
       "      <td>311</td>\n",
       "      <td>8289</td>\n",
       "      <td>8103</td>\n",
       "      <td>NaN</td>\n",
       "    </tr>\n",
       "    <tr>\n",
       "      <th>top</th>\n",
       "      <td>2022-04-28 00:00:00</td>\n",
       "      <td>NaN</td>\n",
       "      <td>NaN</td>\n",
       "      <td>NaN</td>\n",
       "      <td>[인사] DGB금융그룹</td>\n",
       "      <td>인사 DGB 금융 그룹</td>\n",
       "      <td>국제뉴스</td>\n",
       "      <td>김태오 회장과 임성훈 대구은행장, 김경규 하이투자증권 대표, 김성한 DGB생명 대표...</td>\n",
       "      <td>김태오 회장 임성훈 대다 구 은행 장 김경규 하이 투자 증권 대표 김성 DGB 생명...</td>\n",
       "      <td>NaN</td>\n",
       "    </tr>\n",
       "    <tr>\n",
       "      <th>freq</th>\n",
       "      <td>131</td>\n",
       "      <td>NaN</td>\n",
       "      <td>NaN</td>\n",
       "      <td>NaN</td>\n",
       "      <td>51</td>\n",
       "      <td>73</td>\n",
       "      <td>243</td>\n",
       "      <td>21</td>\n",
       "      <td>21</td>\n",
       "      <td>NaN</td>\n",
       "    </tr>\n",
       "    <tr>\n",
       "      <th>first</th>\n",
       "      <td>2021-05-01 00:00:00</td>\n",
       "      <td>NaN</td>\n",
       "      <td>NaN</td>\n",
       "      <td>NaN</td>\n",
       "      <td>NaN</td>\n",
       "      <td>NaN</td>\n",
       "      <td>NaN</td>\n",
       "      <td>NaN</td>\n",
       "      <td>NaN</td>\n",
       "      <td>NaN</td>\n",
       "    </tr>\n",
       "    <tr>\n",
       "      <th>last</th>\n",
       "      <td>2022-05-01 00:00:00</td>\n",
       "      <td>NaN</td>\n",
       "      <td>NaN</td>\n",
       "      <td>NaN</td>\n",
       "      <td>NaN</td>\n",
       "      <td>NaN</td>\n",
       "      <td>NaN</td>\n",
       "      <td>NaN</td>\n",
       "      <td>NaN</td>\n",
       "      <td>NaN</td>\n",
       "    </tr>\n",
       "    <tr>\n",
       "      <th>mean</th>\n",
       "      <td>NaN</td>\n",
       "      <td>2021.295820</td>\n",
       "      <td>6.763970</td>\n",
       "      <td>15.410371</td>\n",
       "      <td>NaN</td>\n",
       "      <td>NaN</td>\n",
       "      <td>NaN</td>\n",
       "      <td>NaN</td>\n",
       "      <td>NaN</td>\n",
       "      <td>0.000112</td>\n",
       "    </tr>\n",
       "    <tr>\n",
       "      <th>std</th>\n",
       "      <td>NaN</td>\n",
       "      <td>0.456436</td>\n",
       "      <td>3.341511</td>\n",
       "      <td>9.153126</td>\n",
       "      <td>NaN</td>\n",
       "      <td>NaN</td>\n",
       "      <td>NaN</td>\n",
       "      <td>NaN</td>\n",
       "      <td>NaN</td>\n",
       "      <td>0.010572</td>\n",
       "    </tr>\n",
       "    <tr>\n",
       "      <th>min</th>\n",
       "      <td>NaN</td>\n",
       "      <td>2021.000000</td>\n",
       "      <td>1.000000</td>\n",
       "      <td>1.000000</td>\n",
       "      <td>NaN</td>\n",
       "      <td>NaN</td>\n",
       "      <td>NaN</td>\n",
       "      <td>NaN</td>\n",
       "      <td>NaN</td>\n",
       "      <td>0.000000</td>\n",
       "    </tr>\n",
       "    <tr>\n",
       "      <th>25%</th>\n",
       "      <td>NaN</td>\n",
       "      <td>2021.000000</td>\n",
       "      <td>4.000000</td>\n",
       "      <td>7.000000</td>\n",
       "      <td>NaN</td>\n",
       "      <td>NaN</td>\n",
       "      <td>NaN</td>\n",
       "      <td>NaN</td>\n",
       "      <td>NaN</td>\n",
       "      <td>0.000000</td>\n",
       "    </tr>\n",
       "    <tr>\n",
       "      <th>50%</th>\n",
       "      <td>NaN</td>\n",
       "      <td>2021.000000</td>\n",
       "      <td>7.000000</td>\n",
       "      <td>15.000000</td>\n",
       "      <td>NaN</td>\n",
       "      <td>NaN</td>\n",
       "      <td>NaN</td>\n",
       "      <td>NaN</td>\n",
       "      <td>NaN</td>\n",
       "      <td>0.000000</td>\n",
       "    </tr>\n",
       "    <tr>\n",
       "      <th>75%</th>\n",
       "      <td>NaN</td>\n",
       "      <td>2022.000000</td>\n",
       "      <td>10.000000</td>\n",
       "      <td>24.000000</td>\n",
       "      <td>NaN</td>\n",
       "      <td>NaN</td>\n",
       "      <td>NaN</td>\n",
       "      <td>NaN</td>\n",
       "      <td>NaN</td>\n",
       "      <td>0.000000</td>\n",
       "    </tr>\n",
       "    <tr>\n",
       "      <th>max</th>\n",
       "      <td>NaN</td>\n",
       "      <td>2022.000000</td>\n",
       "      <td>12.000000</td>\n",
       "      <td>31.000000</td>\n",
       "      <td>NaN</td>\n",
       "      <td>NaN</td>\n",
       "      <td>NaN</td>\n",
       "      <td>NaN</td>\n",
       "      <td>NaN</td>\n",
       "      <td>1.000000</td>\n",
       "    </tr>\n",
       "  </tbody>\n",
       "</table>\n",
       "</div>"
      ],
      "text/plain": [
       "                       date         year        month          day  \\\n",
       "count                  8948  8948.000000  8948.000000  8948.000000   \n",
       "unique                  361          NaN          NaN          NaN   \n",
       "top     2022-04-28 00:00:00          NaN          NaN          NaN   \n",
       "freq                    131          NaN          NaN          NaN   \n",
       "first   2021-05-01 00:00:00          NaN          NaN          NaN   \n",
       "last    2022-05-01 00:00:00          NaN          NaN          NaN   \n",
       "mean                    NaN  2021.295820     6.763970    15.410371   \n",
       "std                     NaN     0.456436     3.341511     9.153126   \n",
       "min                     NaN  2021.000000     1.000000     1.000000   \n",
       "25%                     NaN  2021.000000     4.000000     7.000000   \n",
       "50%                     NaN  2021.000000     7.000000    15.000000   \n",
       "75%                     NaN  2022.000000    10.000000    24.000000   \n",
       "max                     NaN  2022.000000    12.000000    31.000000   \n",
       "\n",
       "               title   nouns_title press  \\\n",
       "count           8948          8948  8948   \n",
       "unique          7735          7154   311   \n",
       "top     [인사] DGB금융그룹  인사 DGB 금융 그룹  국제뉴스   \n",
       "freq              51            73   243   \n",
       "first            NaN           NaN   NaN   \n",
       "last             NaN           NaN   NaN   \n",
       "mean             NaN           NaN   NaN   \n",
       "std              NaN           NaN   NaN   \n",
       "min              NaN           NaN   NaN   \n",
       "25%              NaN           NaN   NaN   \n",
       "50%              NaN           NaN   NaN   \n",
       "75%              NaN           NaN   NaN   \n",
       "max              NaN           NaN   NaN   \n",
       "\n",
       "                                                 contents  \\\n",
       "count                                                8948   \n",
       "unique                                               8289   \n",
       "top     김태오 회장과 임성훈 대구은행장, 김경규 하이투자증권 대표, 김성한 DGB생명 대표...   \n",
       "freq                                                   21   \n",
       "first                                                 NaN   \n",
       "last                                                  NaN   \n",
       "mean                                                  NaN   \n",
       "std                                                   NaN   \n",
       "min                                                   NaN   \n",
       "25%                                                   NaN   \n",
       "50%                                                   NaN   \n",
       "75%                                                   NaN   \n",
       "max                                                   NaN   \n",
       "\n",
       "                                           nouns_contents        label  \n",
       "count                                                8948  8948.000000  \n",
       "unique                                               8103          NaN  \n",
       "top     김태오 회장 임성훈 대다 구 은행 장 김경규 하이 투자 증권 대표 김성 DGB 생명...          NaN  \n",
       "freq                                                   21          NaN  \n",
       "first                                                 NaN          NaN  \n",
       "last                                                  NaN          NaN  \n",
       "mean                                                  NaN     0.000112  \n",
       "std                                                   NaN     0.010572  \n",
       "min                                                   NaN     0.000000  \n",
       "25%                                                   NaN     0.000000  \n",
       "50%                                                   NaN     0.000000  \n",
       "75%                                                   NaN     0.000000  \n",
       "max                                                   NaN     1.000000  "
      ]
     },
     "execution_count": 352,
     "metadata": {},
     "output_type": "execute_result"
    }
   ],
   "source": [
    "df_news_copy.describe(include='all')"
   ]
  },
  {
   "cell_type": "code",
   "execution_count": 353,
   "id": "6b2b3437",
   "metadata": {
    "ExecuteTime": {
     "end_time": "2022-05-16T02:41:32.870528Z",
     "start_time": "2022-05-16T02:41:32.862549Z"
    }
   },
   "outputs": [],
   "source": [
    "# 시각화 글자 깨짐 방지\n",
    "import os\n",
    "\n",
    "if os.name == 'posix':\n",
    "    plt.rc(\"font\", family=\"AppleGothic\")\n",
    "else:\n",
    "    plt.rc(\"font\", family=\"Malgun Gothic\")"
   ]
  },
  {
   "cell_type": "code",
   "execution_count": 354,
   "id": "4568c29a",
   "metadata": {
    "ExecuteTime": {
     "end_time": "2022-05-16T02:41:33.368974Z",
     "start_time": "2022-05-16T02:41:33.359965Z"
    },
    "scrolled": false
   },
   "outputs": [
    {
     "data": {
      "text/html": [
       "<div>\n",
       "<style scoped>\n",
       "    .dataframe tbody tr th:only-of-type {\n",
       "        vertical-align: middle;\n",
       "    }\n",
       "\n",
       "    .dataframe tbody tr th {\n",
       "        vertical-align: top;\n",
       "    }\n",
       "\n",
       "    .dataframe thead th {\n",
       "        text-align: right;\n",
       "    }\n",
       "</style>\n",
       "<table border=\"1\" class=\"dataframe\">\n",
       "  <thead>\n",
       "    <tr style=\"text-align: right;\">\n",
       "      <th></th>\n",
       "      <th>date</th>\n",
       "      <th>year</th>\n",
       "      <th>month</th>\n",
       "      <th>day</th>\n",
       "      <th>title</th>\n",
       "      <th>press</th>\n",
       "      <th>contents</th>\n",
       "    </tr>\n",
       "  </thead>\n",
       "  <tbody>\n",
       "    <tr>\n",
       "      <th>0</th>\n",
       "      <td>2021-05-01</td>\n",
       "      <td>2021</td>\n",
       "      <td>5</td>\n",
       "      <td>1</td>\n",
       "      <td>DGB대구은행, 은행권 중금리대출 실적 1위</td>\n",
       "      <td>글로벌이코노믹</td>\n",
       "      <td>DGB대구은행의 중금리대출 실적이 지방은행뿐만 아니라 은행권 전체에서 가장 많은 것...</td>\n",
       "    </tr>\n",
       "    <tr>\n",
       "      <th>1</th>\n",
       "      <td>2021-05-01</td>\n",
       "      <td>2021</td>\n",
       "      <td>5</td>\n",
       "      <td>1</td>\n",
       "      <td>DGB대구은행, 어버이날 맞이 효(孝) 마스크 지원</td>\n",
       "      <td>경북신문</td>\n",
       "      <td>DGB대구은행(은행장 임성훈)은 다가오는 어버이날을 맞아 지역 내 방역취약계층 어르...</td>\n",
       "    </tr>\n",
       "    <tr>\n",
       "      <th>2</th>\n",
       "      <td>2021-05-01</td>\n",
       "      <td>2021</td>\n",
       "      <td>5</td>\n",
       "      <td>1</td>\n",
       "      <td>은행·비은행 동반성장…지방금융지주 1분기 '好好好'</td>\n",
       "      <td>미디어펜</td>\n",
       "      <td>DGB금융의 순이익은 지난해 1분기에 견줘 40% 급증했다. 핵심 계열사인 대구은행...</td>\n",
       "    </tr>\n",
       "    <tr>\n",
       "      <th>3</th>\n",
       "      <td>2021-05-01</td>\n",
       "      <td>2021</td>\n",
       "      <td>5</td>\n",
       "      <td>1</td>\n",
       "      <td>DGB대구銀, 코로나 대응 관련 ‘유공 행정안전부 장관표창’</td>\n",
       "      <td>더퍼블릭</td>\n",
       "      <td>DGB대구은행(이하 대구은행)은 코로나19 재난 방역 적극 참여 및 지역사회 지원활...</td>\n",
       "    </tr>\n",
       "    <tr>\n",
       "      <th>4</th>\n",
       "      <td>2021-05-01</td>\n",
       "      <td>2021</td>\n",
       "      <td>5</td>\n",
       "      <td>1</td>\n",
       "      <td>대구은행, 방역취약계층 어르신 대상 KF94 마스크 전달</td>\n",
       "      <td>일요신문</td>\n",
       "      <td>- DGB대구은행, 어버이날 맞아 효(孝) 마스크 지원 DGB대구은행(은행장 임성훈...</td>\n",
       "    </tr>\n",
       "  </tbody>\n",
       "</table>\n",
       "</div>"
      ],
      "text/plain": [
       "        date  year  month  day                              title    press  \\\n",
       "0 2021-05-01  2021      5    1           DGB대구은행, 은행권 중금리대출 실적 1위  글로벌이코노믹   \n",
       "1 2021-05-01  2021      5    1       DGB대구은행, 어버이날 맞이 효(孝) 마스크 지원     경북신문   \n",
       "2 2021-05-01  2021      5    1       은행·비은행 동반성장…지방금융지주 1분기 '好好好'     미디어펜   \n",
       "3 2021-05-01  2021      5    1  DGB대구銀, 코로나 대응 관련 ‘유공 행정안전부 장관표창’     더퍼블릭   \n",
       "4 2021-05-01  2021      5    1    대구은행, 방역취약계층 어르신 대상 KF94 마스크 전달     일요신문   \n",
       "\n",
       "                                            contents  \n",
       "0  DGB대구은행의 중금리대출 실적이 지방은행뿐만 아니라 은행권 전체에서 가장 많은 것...  \n",
       "1  DGB대구은행(은행장 임성훈)은 다가오는 어버이날을 맞아 지역 내 방역취약계층 어르...  \n",
       "2  DGB금융의 순이익은 지난해 1분기에 견줘 40% 급증했다. 핵심 계열사인 대구은행...  \n",
       "3  DGB대구은행(이하 대구은행)은 코로나19 재난 방역 적극 참여 및 지역사회 지원활...  \n",
       "4  - DGB대구은행, 어버이날 맞아 효(孝) 마스크 지원 DGB대구은행(은행장 임성훈...  "
      ]
     },
     "execution_count": 354,
     "metadata": {},
     "output_type": "execute_result"
    }
   ],
   "source": [
    "df_news.head()"
   ]
  },
  {
   "cell_type": "code",
   "execution_count": 355,
   "id": "dc7fa0a2",
   "metadata": {
    "ExecuteTime": {
     "end_time": "2022-05-16T02:41:34.411378Z",
     "start_time": "2022-05-16T02:41:34.030643Z"
    }
   },
   "outputs": [
    {
     "data": {
      "image/png": "[encoded data removed]",
      "text/plain": [
       "<Figure size 1152x864 with 4 Axes>"
      ]
     },
     "metadata": {
      "needs_background": "light"
     },
     "output_type": "display_data"
    }
   ],
   "source": [
    "df_news.hist(figsize = (16, 12))\n",
    "plt.show()"
   ]
  },
  {
   "cell_type": "code",
   "execution_count": 356,
   "id": "396f3d8d",
   "metadata": {
    "ExecuteTime": {
     "end_time": "2022-05-16T02:41:34.969184Z",
     "start_time": "2022-05-16T02:41:34.961177Z"
    }
   },
   "outputs": [
    {
     "name": "stdout",
     "output_type": "stream",
     "text": [
      "2021.05 ~ : ['21.05', '21.06', '21.07', '21.08', '21.09', '21.10', '21.11', '21.12', '22.01', '22.02', '22.03', '22.04']\n",
      "2021.05 ~ : [670, 798, 955, 944, 690, 760, 516, 978, 569, 588, 738, 742]\n"
     ]
    }
   ],
   "source": [
    "# 2021년도부터 시작\n",
    "def next_date_get(x):\n",
    "    year = 21\n",
    "    for i in range(len(x)):\n",
    "        if (x[i] % 12) != 0:\n",
    "            if x[i] < 10:\n",
    "                x.insert(i, '{}.0'.format(str(year)) + str(x.pop(i)))\n",
    "            else:\n",
    "                x.insert(i, '{}.'.format(str(year)) + str(x.pop(i)))\n",
    "        else:\n",
    "            x.insert(i, '{}.'.format(str(year)) + str(x.pop(i))) # 12월까지 카운트\n",
    "            year += 1 # 다음년도\n",
    "    return x\n",
    "\n",
    "# 월별로 정렬이 되어 있으므로 21 ~ 22년도 사이 지정 해주어야 함.\n",
    "x = next_date_get(df_news_copy['month'].unique().tolist()) \n",
    "\n",
    "tmp_a, tmp_b = df_news_copy.groupby('month')['date'].count().tolist()[4:], df_news_copy.groupby('month')['date'].count().tolist()[:4]\n",
    "y = tmp_a + tmp_b\n",
    "\n",
    "print('2021.05 ~ :', x) # 월\n",
    "print('2021.05 ~ :', y) # 값"
   ]
  },
  {
   "cell_type": "code",
   "execution_count": 357,
   "id": "d9bb2791",
   "metadata": {
    "ExecuteTime": {
     "end_time": "2022-05-16T02:41:35.586771Z",
     "start_time": "2022-05-16T02:41:35.430320Z"
    }
   },
   "outputs": [
    {
     "data": {
      "image/png": "[encoded data removed]",
      "text/plain": [
       "<Figure size 1152x576 with 1 Axes>"
      ]
     },
     "metadata": {
      "needs_background": "light"
     },
     "output_type": "display_data"
    }
   ],
   "source": [
    "plt.figure(figsize = (16, 8))\n",
    "\n",
    "for i, v in enumerate(x):\n",
    "    plt.text(v, y[i], y[i],                 # 좌표 (x축 = v, y축 = y[0]..y[1], 표시 = y[0]..y[1])\n",
    "             fontsize = 15, \n",
    "             color='green',\n",
    "             horizontalalignment='center',  # horizontalalignment (left, center, right)\n",
    "             verticalalignment='bottom')    # verticalalignment (top, center, bottom)\n",
    "\n",
    "plt.title('월별 뉴스 기사', size = 25)\n",
    "plt.bar(x, y, width=0.5, color='pink')\n",
    "plt.xlabel('월별', size = 20, labelpad=20) # x축 제목 설정\n",
    "plt.ylabel('갯수', size = 20, labelpad=20) #y축 제목 설정, 빨간 글씨\n",
    "plt.show()"
   ]
  },
  {
   "cell_type": "markdown",
   "id": "5f5f561b",
   "metadata": {},
   "source": [
    "## 언론사별 기사 갯수\n",
    "- 언론사별 범주형 데이터 --> 수치형으로 변환"
   ]
  },
  {
   "cell_type": "code",
   "execution_count": 358,
   "id": "2c5c3a01",
   "metadata": {
    "ExecuteTime": {
     "end_time": "2022-05-16T02:41:41.280756Z",
     "start_time": "2022-05-16T02:41:41.270782Z"
    },
    "scrolled": false
   },
   "outputs": [
    {
     "data": {
      "text/html": [
       "<div>\n",
       "<style scoped>\n",
       "    .dataframe tbody tr th:only-of-type {\n",
       "        vertical-align: middle;\n",
       "    }\n",
       "\n",
       "    .dataframe tbody tr th {\n",
       "        vertical-align: top;\n",
       "    }\n",
       "\n",
       "    .dataframe thead th {\n",
       "        text-align: right;\n",
       "    }\n",
       "</style>\n",
       "<table border=\"1\" class=\"dataframe\">\n",
       "  <thead>\n",
       "    <tr style=\"text-align: right;\">\n",
       "      <th></th>\n",
       "      <th>date</th>\n",
       "      <th>year</th>\n",
       "      <th>month</th>\n",
       "      <th>day</th>\n",
       "      <th>title</th>\n",
       "      <th>press</th>\n",
       "      <th>contents</th>\n",
       "    </tr>\n",
       "  </thead>\n",
       "  <tbody>\n",
       "    <tr>\n",
       "      <th>0</th>\n",
       "      <td>2021-05-01</td>\n",
       "      <td>2021</td>\n",
       "      <td>5</td>\n",
       "      <td>1</td>\n",
       "      <td>DGB대구은행, 은행권 중금리대출 실적 1위</td>\n",
       "      <td>글로벌이코노믹</td>\n",
       "      <td>DGB대구은행의 중금리대출 실적이 지방은행뿐만 아니라 은행권 전체에서 가장 많은 것...</td>\n",
       "    </tr>\n",
       "  </tbody>\n",
       "</table>\n",
       "</div>"
      ],
      "text/plain": [
       "        date  year  month  day                     title    press  \\\n",
       "0 2021-05-01  2021      5    1  DGB대구은행, 은행권 중금리대출 실적 1위  글로벌이코노믹   \n",
       "\n",
       "                                            contents  \n",
       "0  DGB대구은행의 중금리대출 실적이 지방은행뿐만 아니라 은행권 전체에서 가장 많은 것...  "
      ]
     },
     "execution_count": 358,
     "metadata": {},
     "output_type": "execute_result"
    }
   ],
   "source": [
    "df_news.head(1)"
   ]
  },
  {
   "cell_type": "code",
   "execution_count": 359,
   "id": "3b98bb0b",
   "metadata": {
    "ExecuteTime": {
     "end_time": "2022-05-16T02:41:41.550034Z",
     "start_time": "2022-05-16T02:41:41.534077Z"
    }
   },
   "outputs": [
    {
     "data": {
      "text/plain": [
       "array(['글로벌이코노믹', '경북신문', '미디어펜', '더퍼블릭', '일요신문'], dtype=object)"
      ]
     },
     "execution_count": 359,
     "metadata": {},
     "output_type": "execute_result"
    }
   ],
   "source": [
    "len(df_news['press'].unique())\n",
    "df_news['press'].unique()[:5]"
   ]
  },
  {
   "cell_type": "code",
   "execution_count": 360,
   "id": "a5e7883c",
   "metadata": {
    "ExecuteTime": {
     "end_time": "2022-05-16T02:41:42.000796Z",
     "start_time": "2022-05-16T02:41:41.992817Z"
    }
   },
   "outputs": [],
   "source": [
    "df_news_copy['press'].unique()\n",
    "x = df_news_copy['press'].value_counts().index.tolist()\n",
    "y = df_news_copy['press'].value_counts().values.tolist()"
   ]
  },
  {
   "cell_type": "code",
   "execution_count": 361,
   "id": "53bb94e5",
   "metadata": {
    "ExecuteTime": {
     "end_time": "2022-05-16T02:41:42.376943Z",
     "start_time": "2022-05-16T02:41:42.358995Z"
    }
   },
   "outputs": [],
   "source": [
    "# 기사 갯수가 85 이상인 것만\n",
    "limit = 0\n",
    "for idx, value  in enumerate(y):\n",
    "    if value < 85:\n",
    "        limit = idx\n",
    "        break\n",
    "\n",
    "x = x[:limit]\n",
    "y = y[:limit]"
   ]
  },
  {
   "cell_type": "code",
   "execution_count": 362,
   "id": "5d6a30e8",
   "metadata": {
    "ExecuteTime": {
     "end_time": "2022-05-16T02:41:42.526502Z",
     "start_time": "2022-05-16T02:41:42.511584Z"
    }
   },
   "outputs": [
    {
     "data": {
      "text/plain": [
       "내외경제tv      56\n",
       "팍스경제TV      55\n",
       "이뉴스투데이      55\n",
       "더퍼블릭        54\n",
       "노컷뉴스        53\n",
       "            ..\n",
       "디아이투데이       1\n",
       "중앙SUNDAY     1\n",
       "에너지데일리       1\n",
       "더구루          1\n",
       "인천in         1\n",
       "Name: press, Length: 261, dtype: int64"
      ]
     },
     "execution_count": 362,
     "metadata": {},
     "output_type": "execute_result"
    }
   ],
   "source": [
    "df_news_copy['press'].value_counts()[50:]"
   ]
  },
  {
   "cell_type": "code",
   "execution_count": 363,
   "id": "e27b4c24",
   "metadata": {
    "ExecuteTime": {
     "end_time": "2022-05-16T02:41:43.263184Z",
     "start_time": "2022-05-16T02:41:42.822905Z"
    },
    "scrolled": true
   },
   "outputs": [
    {
     "data": {
      "image/png": "[encoded data removed]",
      "text/plain": [
       "<Figure size 3312x864 with 1 Axes>"
      ]
     },
     "metadata": {
      "needs_background": "light"
     },
     "output_type": "display_data"
    }
   ],
   "source": [
    "plt.figure(figsize = (46, 12))\n",
    "\n",
    "for i, v in enumerate(x):\n",
    "    plt.text(v, y[i], y[i],                 # 좌표 (x축 = v, y축 = y[0]..y[1], 표시 = y[0]..y[1])\n",
    "             fontsize = 15, \n",
    "             color='green',\n",
    "             horizontalalignment='center',  # horizontalalignment (left, center, right)\n",
    "             verticalalignment='bottom')    # verticalalignment (top, center, bottom)\n",
    "\n",
    "plt.title('언론사별 기사 개수', fontsize = 20)\n",
    "plt.bar(x, y, width=0.5, color = 'pink')\n",
    "plt.xticks(rotation = -45)\n",
    "plt.xlabel('count', fontsize=20)\n",
    "plt.ylabel('press', fontsize=20)\n",
    "plt.show()"
   ]
  },
  {
   "cell_type": "markdown",
   "id": "cb4a0dc6",
   "metadata": {},
   "source": [
    "# 해야할 것들\n",
    "- 이슈분석지표 워드 클라우드는 이제 단어별 갯수 구한 후 표 그리면 완성\n",
    "- 감정분석 \n",
    "<br><br>\n",
    "- 1. 현재 사용중인 CSV파일이 아닌 1년치 데이터를 스크래핑\n",
    "<br><br>\n",
    "- 2. 스크래핑한 데이터의 갯수가 50000개의 데이터라면 / Train_set : 70% Test_set : 30%로 분할 (랜덤모듈이용)<br>\n",
    "※ 단, Test_set 분할시 2.5%로 12개월분할하면 제일 좋음 ( 매달마다 2.5%의 Test_set를 뽑아와서 총 30%로 만듬.) 1~12월 골고루 뽑아올 수 있음.\n",
    "<br><br>\n",
    "- 3. Train_set에 Labeling을 해주어야 함. (긍정 1, 부정 -1, 중립 0)\n",
    "<br>\n",
    "※ Labeling 할 때 어떤식으로 정답을 부여할지 생각해야 됨."
   ]
  }
 ],
 "metadata": {
  "kernelspec": {
   "display_name": "Proj",
   "language": "python",
   "name": "intern_project"
  },
  "language_info": {
   "codemirror_mode": {
    "name": "ipython",
    "version": 3
   },
   "file_extension": ".py",
   "mimetype": "text/x-python",
   "name": "python",
   "nbconvert_exporter": "python",
   "pygments_lexer": "ipython3",
   "version": "3.6.13"
  },
  "toc": {
   "base_numbering": 1,
   "nav_menu": {},
   "number_sections": true,
   "sideBar": true,
   "skip_h1_title": false,
   "title_cell": "Table of Contents",
   "title_sidebar": "Contents",
   "toc_cell": false,
   "toc_position": {
    "height": "691.804px",
    "left": "46.9943px",
    "top": "111.051px",
    "width": "165px"
   },
   "toc_section_display": true,
   "toc_window_display": true
  }
 },
 "nbformat": 4,
 "nbformat_minor": 5
}
