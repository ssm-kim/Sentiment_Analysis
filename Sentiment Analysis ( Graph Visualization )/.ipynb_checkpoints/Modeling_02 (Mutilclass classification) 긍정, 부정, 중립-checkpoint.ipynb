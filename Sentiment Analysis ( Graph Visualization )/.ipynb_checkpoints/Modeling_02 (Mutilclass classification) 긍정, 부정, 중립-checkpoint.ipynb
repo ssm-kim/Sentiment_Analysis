{
 "cells": [
  {
   "cell_type": "code",
   "execution_count": 257,
   "id": "4fecea14",
   "metadata": {
    "ExecuteTime": {
     "end_time": "2022-06-10T00:19:04.484395Z",
     "start_time": "2022-06-10T00:19:04.471430Z"
    }
   },
   "outputs": [],
   "source": [
    "import tensorflow as tf\n",
    "from tensorflow.keras import datasets, layers, models\n",
    "\n",
    "gpus = tf.config.experimental.list_physical_devices('GPU')\n",
    "if gpus:\n",
    "    try:\n",
    "        # Currently, memory growth needs to be the same across GPUs\n",
    "        for gpu in gpus:\n",
    "            tf.config.experimental.set_memory_growth(gpu, True)\n",
    "    except RuntimeError as e:\n",
    "        # Memory growth must be set before GPUs have been initialized\n",
    "        print(e)"
   ]
  },
  {
   "cell_type": "markdown",
   "id": "7ca98403",
   "metadata": {},
   "source": [
    "# 전처리된 데이터 셋 불러오기"
   ]
  },
  {
   "cell_type": "code",
   "execution_count": 258,
   "id": "dcec0d9e",
   "metadata": {
    "ExecuteTime": {
     "end_time": "2022-06-10T00:19:04.753675Z",
     "start_time": "2022-06-10T00:19:04.750684Z"
    }
   },
   "outputs": [],
   "source": [
    "# 주피터노트북 단축키\n",
    "# https://nittaku.tistory.com/428"
   ]
  },
  {
   "cell_type": "code",
   "execution_count": 259,
   "id": "469c65d8",
   "metadata": {
    "ExecuteTime": {
     "end_time": "2022-06-10T00:19:04.903274Z",
     "start_time": "2022-06-10T00:19:04.895325Z"
    }
   },
   "outputs": [],
   "source": [
    "import pandas as pd\n",
    "import numpy as np\n",
    "import matplotlib\n",
    "import datetime, time\n",
    "import re\n",
    "import timedelta\n",
    "import matplotlib.pyplot as plt\n",
    "import seaborn as sns\n",
    "import os\n",
    "import sys"
   ]
  },
  {
   "cell_type": "markdown",
   "id": "e555b5e6",
   "metadata": {},
   "source": [
    "## DataFrame 2가지 존재 ( 원본, 중복제거 )\n",
    "\n",
    "- 중복제거 데이터가 성능이 뛰어남."
   ]
  },
  {
   "cell_type": "code",
   "execution_count": 260,
   "id": "27c6e02f",
   "metadata": {
    "ExecuteTime": {
     "end_time": "2022-06-10T00:19:05.770955Z",
     "start_time": "2022-06-10T00:19:05.334123Z"
    }
   },
   "outputs": [],
   "source": [
    "# 중복 제거 X\n",
    "df_news = pd.read_csv('./Data_Set/news_data_preprocessing.csv', engine= 'python',encoding = 'utf-8')\n",
    "# 중복 제거 O\n",
    "df_news_overlap = pd.read_csv('./Data_Set/news_data_preprocessing_duplicate.csv', engine= 'python',encoding = 'utf-8')"
   ]
  },
  {
   "cell_type": "code",
   "execution_count": 261,
   "id": "3422f7ca",
   "metadata": {
    "ExecuteTime": {
     "end_time": "2022-06-10T00:19:05.785913Z",
     "start_time": "2022-06-10T00:19:05.771952Z"
    }
   },
   "outputs": [
    {
     "data": {
      "text/plain": [
       "Index(['Unnamed: 0', 'date', 'year', 'month', 'day', 'title', 'nouns_title',\n",
       "       'press', 'contents', 'nouns_contents'],\n",
       "      dtype='object')"
      ]
     },
     "execution_count": 261,
     "metadata": {},
     "output_type": "execute_result"
    }
   ],
   "source": [
    "df_news.columns"
   ]
  },
  {
   "cell_type": "code",
   "execution_count": 262,
   "id": "79f65515",
   "metadata": {
    "ExecuteTime": {
     "end_time": "2022-06-10T00:19:05.800874Z",
     "start_time": "2022-06-10T00:19:05.786912Z"
    }
   },
   "outputs": [],
   "source": [
    "df_news = df_news.loc[:,['date', 'year', 'month', 'day', 'title', 'nouns_title',\n",
    "       'press', 'contents', 'nouns_contents']]\n",
    "df_news_overlap = df_news_overlap.loc[:,['date', 'year', 'month', 'day', 'title', 'nouns_title',\n",
    "       'press', 'contents', 'nouns_contents']]"
   ]
  },
  {
   "cell_type": "code",
   "execution_count": 263,
   "id": "755189cb",
   "metadata": {
    "ExecuteTime": {
     "end_time": "2022-06-10T00:19:06.623672Z",
     "start_time": "2022-06-10T00:19:06.615693Z"
    }
   },
   "outputs": [],
   "source": [
    "# 시각화 글자 깨짐 방지\n",
    "if os.name == 'posix':\n",
    "    plt.rc(\"font\", family=\"Malgun Gothic\")\n",
    "else:\n",
    "    plt.rc(\"font\", family=\"Malgun Gothic\")"
   ]
  },
  {
   "cell_type": "markdown",
   "id": "65e8365a",
   "metadata": {},
   "source": [
    "# 레이블링 / 데이터 셋 분할 / 정수 인코딩\n",
    "\n",
    "- 긍정 부정 단어를 분류 기초 방식. 따라서 보충이 필요.\n",
    "\n",
    "**※논문 참고(계산법) : http://www.koreascience.kr/article/JAKO201719363360793.pdf**"
   ]
  },
  {
   "cell_type": "markdown",
   "id": "2d8b990d",
   "metadata": {},
   "source": [
    "## 레이블링"
   ]
  },
  {
   "cell_type": "code",
   "execution_count": 264,
   "id": "1c287975",
   "metadata": {
    "ExecuteTime": {
     "end_time": "2022-06-10T00:19:07.536231Z",
     "start_time": "2022-06-10T00:19:07.527255Z"
    }
   },
   "outputs": [],
   "source": [
    "pos_word = []\n",
    "neg_word = []\n",
    "pos_neg = []\n",
    "\n",
    "pos = open('./pos_neg_dictionary/positive_word.txt', 'r', encoding='UTF-8')\n",
    "\n",
    "while True:\n",
    "    line = pos.readline().rstrip()\n",
    "    pos_word.append(line)\n",
    "    \n",
    "    if not line:\n",
    "        break\n",
    "\n",
    "pos.close()\n",
    "\n",
    "neg = open('./pos_neg_dictionary/negative_word.txt', 'r', encoding='UTF-8')\n",
    "\n",
    "while True:\n",
    "    line = neg.readline().rstrip()\n",
    "    neg_word.append(line)\n",
    "    \n",
    "    if not line:\n",
    "        break\n",
    "\n",
    "neg.close()"
   ]
  },
  {
   "cell_type": "code",
   "execution_count": 265,
   "id": "5235133a",
   "metadata": {
    "ExecuteTime": {
     "end_time": "2022-06-10T00:19:07.700791Z",
     "start_time": "2022-06-10T00:19:07.694807Z"
    }
   },
   "outputs": [],
   "source": [
    "# 마지막 인덱스 '' 제거\n",
    "pos_word = pos_word[:-1]\n",
    "neg_word = neg_word[:-1]\n",
    "pos_neg = pos_word + neg_word"
   ]
  },
  {
   "cell_type": "code",
   "execution_count": 266,
   "id": "35309836",
   "metadata": {
    "ExecuteTime": {
     "end_time": "2022-06-10T00:19:11.081750Z",
     "start_time": "2022-06-10T00:19:07.846401Z"
    }
   },
   "outputs": [
    {
     "name": "stdout",
     "output_type": "stream",
     "text": [
      "부정:1432   긍정:13720   중립:4151\n"
     ]
    }
   ],
   "source": [
    "pd.set_option('mode.chained_assignment',  None) # 경고 off\n",
    "state = list()\n",
    "\n",
    "for x in df_news_overlap['nouns_contents']:\n",
    "    words = x.split(' ')\n",
    "    total, p, n = 0, 0, 0\n",
    "    for i in words:\n",
    "        if i in pos_word:\n",
    "            p += 1\n",
    "        elif i in neg_word:\n",
    "            n += 1\n",
    "    \n",
    "    # 기사 제목당 긍정갯수 - 부정 갯수\n",
    "    total = p - n\n",
    "    if total > 0:\n",
    "        state.append(1)\n",
    "    elif total == 0:\n",
    "        state.append(0)\n",
    "    else:\n",
    "        state.append(-1)\n",
    "\n",
    "print('부정:%d   긍정:%d   중립:%d' % (state.count(-1), state.count(1), state.count(0)))\n",
    "df_news_overlap['label'] = 0\n",
    "for i in range(len(state)):\n",
    "    df_news_overlap['label'][i] = state[i]"
   ]
  },
  {
   "cell_type": "markdown",
   "id": "fc533a27",
   "metadata": {},
   "source": [
    "## Train Set / Test Set 분할\n",
    "\n",
    "- Train Set과 Test Set으로 분류 ( 7:3 )\n",
    "- train_test_split() 함수에서 shuffle / default option : True.\n",
    "- stratify 옵션 중요 !!\n",
    "- Pos : 개선 / Neg : 불만\n",
    "\n",
    "**참고 https://sosoeasy.tistory.com/488 / https://teddylee777.github.io/scikit-learn/train-test-split**"
   ]
  },
  {
   "cell_type": "code",
   "execution_count": 267,
   "id": "d6d780a3",
   "metadata": {
    "ExecuteTime": {
     "end_time": "2022-06-10T00:19:11.096736Z",
     "start_time": "2022-06-10T00:19:11.082743Z"
    }
   },
   "outputs": [],
   "source": [
    "from sklearn.model_selection import train_test_split"
   ]
  },
  {
   "cell_type": "markdown",
   "id": "9a4dbafb",
   "metadata": {},
   "source": [
    "### 데이터 분할 시 테이블 변경 가능"
   ]
  },
  {
   "cell_type": "code",
   "execution_count": 268,
   "id": "addd6707",
   "metadata": {
    "ExecuteTime": {
     "end_time": "2022-06-10T00:19:11.111666Z",
     "start_time": "2022-06-10T00:19:11.097703Z"
    }
   },
   "outputs": [],
   "source": [
    "# 필요한 데이터만 추출 / 컬럼명 변경\n",
    "# 80% / 20% 으로 분할\n",
    "x_train, x_test = train_test_split(df_news_overlap.loc[:,['date', 'year', 'month', 'day','nouns_contents', 'label']], test_size = 0.3, shuffle = True, random_state = 1234)"
   ]
  },
  {
   "cell_type": "code",
   "execution_count": 269,
   "id": "f81de87d",
   "metadata": {
    "ExecuteTime": {
     "end_time": "2022-06-10T00:19:11.126626Z",
     "start_time": "2022-06-10T00:19:11.112663Z"
    }
   },
   "outputs": [],
   "source": [
    "# 인덱스 번호 새로 부여.\n",
    "x_train.reset_index(inplace=True)\n",
    "x_train.drop(['index'], axis=1, inplace=True)\n",
    "\n",
    "x_test.reset_index(inplace=True)\n",
    "x_test.drop(['index'], axis=1, inplace=True)"
   ]
  },
  {
   "cell_type": "code",
   "execution_count": 270,
   "id": "7e31a712",
   "metadata": {
    "ExecuteTime": {
     "end_time": "2022-06-10T00:19:11.141586Z",
     "start_time": "2022-06-10T00:19:11.127625Z"
    }
   },
   "outputs": [
    {
     "name": "stdout",
     "output_type": "stream",
     "text": [
      "<class 'pandas.core.frame.DataFrame'> <class 'pandas.core.frame.DataFrame'>\n"
     ]
    }
   ],
   "source": [
    "# 2개의 데이터 프레임 생성\n",
    "print(type(x_train), type(x_test))"
   ]
  },
  {
   "cell_type": "markdown",
   "id": "e42e4ccd",
   "metadata": {},
   "source": [
    "### Train Set / Test Set 시각화 및 레이블 현황\n",
    "\n",
    "**참고 : isin() 문법 참고 : https://rfriend.tistory.com/460**"
   ]
  },
  {
   "cell_type": "code",
   "execution_count": 271,
   "id": "f08b6c33",
   "metadata": {
    "ExecuteTime": {
     "end_time": "2022-06-10T00:19:11.216386Z",
     "start_time": "2022-06-10T00:19:11.142583Z"
    }
   },
   "outputs": [
    {
     "data": {
      "image/png": "[encoded data removed]",
      "text/plain": [
       "<Figure size 432x288 with 1 Axes>"
      ]
     },
     "metadata": {
      "needs_background": "light"
     },
     "output_type": "display_data"
    }
   ],
   "source": [
    "x_train['label'].value_counts().plot(kind='bar')\n",
    "plt.title('Train Set Label', size = 15)\n",
    "plt.show()"
   ]
  },
  {
   "cell_type": "code",
   "execution_count": 272,
   "id": "7a059c74",
   "metadata": {
    "ExecuteTime": {
     "end_time": "2022-06-10T00:19:11.306146Z",
     "start_time": "2022-06-10T00:19:11.217383Z"
    }
   },
   "outputs": [
    {
     "data": {
      "image/png": "[encoded data removed]",
      "text/plain": [
       "<Figure size 432x288 with 1 Axes>"
      ]
     },
     "metadata": {
      "needs_background": "light"
     },
     "output_type": "display_data"
    }
   ],
   "source": [
    "x_test['label'].value_counts().plot(kind='bar')\n",
    "plt.title('Test Set Label', size = 15)\n",
    "plt.show()"
   ]
  },
  {
   "cell_type": "code",
   "execution_count": 273,
   "id": "c35661f1",
   "metadata": {
    "ExecuteTime": {
     "end_time": "2022-06-10T00:19:11.321105Z",
     "start_time": "2022-06-10T00:19:11.308140Z"
    }
   },
   "outputs": [
    {
     "name": "stdout",
     "output_type": "stream",
     "text": [
      "Train_Set  긍정(1) : 9581 \n",
      "\t   중립(0) : 2920 \n",
      "\t   부정(-1) : 1011 \n",
      "\t   총 합계 : 13512\n",
      "\n",
      "Test_Set   긍정(1) : 4139 \n",
      "\t   중립(0) : 1231 \n",
      "\t   부정(-1) : 421 \n",
      "\t   총 합계 : 5791\n"
     ]
    }
   ],
   "source": [
    "# Train_Set 레이블 현황 갯수\n",
    "print('Train_Set  긍정(1) : {} \\n\\t   중립(0) : {} \\n\\t   부정(-1) : {} \\n\\t   총 합계 : {}'.format(len(x_train[x_train['label'].isin([1])]), len(x_train[x_train['label'].isin([0])]), len(x_train[x_train['label'].isin([-1])]), len(x_train)))\n",
    "print()\n",
    "# Test_Set 레이블 현황 갯수\n",
    "print('Test_Set   긍정(1) : {} \\n\\t   중립(0) : {} \\n\\t   부정(-1) : {} \\n\\t   총 합계 : {}'.format(len(x_test[x_test['label'].isin([1])]), len(x_test[x_test['label'].isin([0])]), len(x_test[x_test['label'].isin([-1])]), len(x_test)))"
   ]
  },
  {
   "cell_type": "markdown",
   "id": "314541bc",
   "metadata": {},
   "source": [
    "## Convert to two_dimensional list"
   ]
  },
  {
   "cell_type": "code",
   "execution_count": 274,
   "id": "1509c960",
   "metadata": {
    "ExecuteTime": {
     "end_time": "2022-06-10T00:19:11.739985Z",
     "start_time": "2022-06-10T00:19:11.719041Z"
    }
   },
   "outputs": [
    {
     "data": {
      "text/html": [
       "<div>\n",
       "<style scoped>\n",
       "    .dataframe tbody tr th:only-of-type {\n",
       "        vertical-align: middle;\n",
       "    }\n",
       "\n",
       "    .dataframe tbody tr th {\n",
       "        vertical-align: top;\n",
       "    }\n",
       "\n",
       "    .dataframe thead th {\n",
       "        text-align: right;\n",
       "    }\n",
       "</style>\n",
       "<table border=\"1\" class=\"dataframe\">\n",
       "  <thead>\n",
       "    <tr style=\"text-align: right;\">\n",
       "      <th></th>\n",
       "      <th>date</th>\n",
       "      <th>year</th>\n",
       "      <th>month</th>\n",
       "      <th>day</th>\n",
       "      <th>nouns_contents</th>\n",
       "      <th>label</th>\n",
       "    </tr>\n",
       "  </thead>\n",
       "  <tbody>\n",
       "    <tr>\n",
       "      <th>0</th>\n",
       "      <td>2020-05-07</td>\n",
       "      <td>2020</td>\n",
       "      <td>5</td>\n",
       "      <td>7</td>\n",
       "      <td>대 구 은행 DGB 금융 전체 에서 차지 순이익 기여 723% 로 코로나 19 파장...</td>\n",
       "      <td>-1</td>\n",
       "    </tr>\n",
       "    <tr>\n",
       "      <th>1</th>\n",
       "      <td>2019-12-02</td>\n",
       "      <td>2019</td>\n",
       "      <td>12</td>\n",
       "      <td>2</td>\n",
       "      <td>DGB 대 구 은행 2일 본점 에서 ㈔ 중소기업 융합 대구 경북 연합 회 지역 중소...</td>\n",
       "      <td>1</td>\n",
       "    </tr>\n",
       "  </tbody>\n",
       "</table>\n",
       "</div>"
      ],
      "text/plain": [
       "         date  year  month  day  \\\n",
       "0  2020-05-07  2020      5    7   \n",
       "1  2019-12-02  2019     12    2   \n",
       "\n",
       "                                      nouns_contents  label  \n",
       "0  대 구 은행 DGB 금융 전체 에서 차지 순이익 기여 723% 로 코로나 19 파장...     -1  \n",
       "1  DGB 대 구 은행 2일 본점 에서 ㈔ 중소기업 융합 대구 경북 연합 회 지역 중소...      1  "
      ]
     },
     "execution_count": 274,
     "metadata": {},
     "output_type": "execute_result"
    }
   ],
   "source": [
    "x_train.head(2)"
   ]
  },
  {
   "cell_type": "code",
   "execution_count": 275,
   "id": "0da262a4",
   "metadata": {
    "ExecuteTime": {
     "end_time": "2022-06-10T00:19:11.874625Z",
     "start_time": "2022-06-10T00:19:11.863654Z"
    }
   },
   "outputs": [
    {
     "data": {
      "text/html": [
       "<div>\n",
       "<style scoped>\n",
       "    .dataframe tbody tr th:only-of-type {\n",
       "        vertical-align: middle;\n",
       "    }\n",
       "\n",
       "    .dataframe tbody tr th {\n",
       "        vertical-align: top;\n",
       "    }\n",
       "\n",
       "    .dataframe thead th {\n",
       "        text-align: right;\n",
       "    }\n",
       "</style>\n",
       "<table border=\"1\" class=\"dataframe\">\n",
       "  <thead>\n",
       "    <tr style=\"text-align: right;\">\n",
       "      <th></th>\n",
       "      <th>date</th>\n",
       "      <th>year</th>\n",
       "      <th>month</th>\n",
       "      <th>day</th>\n",
       "      <th>nouns_contents</th>\n",
       "      <th>label</th>\n",
       "    </tr>\n",
       "  </thead>\n",
       "  <tbody>\n",
       "    <tr>\n",
       "      <th>0</th>\n",
       "      <td>2020-07-16</td>\n",
       "      <td>2020</td>\n",
       "      <td>7</td>\n",
       "      <td>16</td>\n",
       "      <td>구미시 16일 구미 종합 사회 복지관 에서 대 적십자사 경상북도지사 회장 류 시문 ...</td>\n",
       "      <td>1</td>\n",
       "    </tr>\n",
       "    <tr>\n",
       "      <th>1</th>\n",
       "      <td>2020-05-28</td>\n",
       "      <td>2020</td>\n",
       "      <td>5</td>\n",
       "      <td>28</td>\n",
       "      <td>이번 지정 되다 서비스 SK 텔레콤 디지털 실명 확인 증표 기반 비대 실명 확인 서...</td>\n",
       "      <td>1</td>\n",
       "    </tr>\n",
       "  </tbody>\n",
       "</table>\n",
       "</div>"
      ],
      "text/plain": [
       "         date  year  month  day  \\\n",
       "0  2020-07-16  2020      7   16   \n",
       "1  2020-05-28  2020      5   28   \n",
       "\n",
       "                                      nouns_contents  label  \n",
       "0  구미시 16일 구미 종합 사회 복지관 에서 대 적십자사 경상북도지사 회장 류 시문 ...      1  \n",
       "1  이번 지정 되다 서비스 SK 텔레콤 디지털 실명 확인 증표 기반 비대 실명 확인 서...      1  "
      ]
     },
     "execution_count": 275,
     "metadata": {},
     "output_type": "execute_result"
    }
   ],
   "source": [
    "x_test.head(2)"
   ]
  },
  {
   "cell_type": "code",
   "execution_count": 276,
   "id": "66dab8f5",
   "metadata": {
    "ExecuteTime": {
     "end_time": "2022-06-10T00:19:12.248678Z",
     "start_time": "2022-06-10T00:19:12.023281Z"
    }
   },
   "outputs": [],
   "source": [
    "# 리스트로 변환 후 체크 \n",
    "# 6263\n",
    "x_train_words = list()\n",
    "for title_words in x_train['nouns_contents']:\n",
    "    x_train_words.append(list(title_words.split(' ')))\n",
    "\n",
    "# 2685\n",
    "x_test_words = list()\n",
    "for title_words in x_test['nouns_contents']:\n",
    "    x_test_words.append(list(title_words.split(' ')))"
   ]
  },
  {
   "cell_type": "code",
   "execution_count": 277,
   "id": "fcd7a03b",
   "metadata": {
    "ExecuteTime": {
     "end_time": "2022-06-10T00:19:12.532996Z",
     "start_time": "2022-06-10T00:19:12.524019Z"
    }
   },
   "outputs": [
    {
     "name": "stdout",
     "output_type": "stream",
     "text": [
      "[['대', '구', '은행', 'DGB', '금융', '전체', '에서', '차지', '순이익', '기여', '723%', '로', '코로나', '19', '파장', '인하다', '시장', '금리', '하락', '영향', '을', '받다', '이자', '이익', '감소', '다만', '대', '구', '은행', '원화', '대출', '금은', '전', '년', '대비', '50%', '증가', '건전성'], ['DGB', '대', '구', '은행', '2일', '본점', '에서', '㈔', '중소기업', '융합', '대구', '경북', '연합', '회', '지역', '중소기업', '지원', '을', '통한', '경제', '활성화', '위해', '경영', '컨설팅', '및', '교육', '지원', '사업', '등', '을', '위', '포괄', '적', '업무', '협약', 'MOU', '을', '체결', '1993년', '설립', '되다']]\n"
     ]
    }
   ],
   "source": [
    "print(x_train_words[:2])"
   ]
  },
  {
   "cell_type": "code",
   "execution_count": 278,
   "id": "dcb5111c",
   "metadata": {
    "ExecuteTime": {
     "end_time": "2022-06-10T00:19:12.577877Z",
     "start_time": "2022-06-10T00:19:12.571891Z"
    }
   },
   "outputs": [
    {
     "name": "stdout",
     "output_type": "stream",
     "text": [
      "[['구미시', '16일', '구미', '종합', '사회', '복지관', '에서', '대', '적십자사', '경상북도지사', '회장', '류', '시문', 'DGB', '대구', '은행', '경북', '본부', '대표', '김윤국', '도움', '준비', '삼계탕', '600', '그릇', '을', '어르신', '에게', '전달', '찾아가다', '들다', '도시락', '행사'], ['이번', '지정', '되다', '서비스', 'SK', '텔레콤', '디지털', '실명', '확인', '증표', '기반', '비대', '실명', '확인', '서비스', '저축은행', '중앙회', '저축은행', '공동', '전산', '망', '기반', '신원', '증명', '간소화', '플랫폼', 'DGB', '대', '구', '은행', '안면', '인식', '기술', '활용', '비대', '실명', '확인', '서비스']]\n"
     ]
    }
   ],
   "source": [
    "print(x_test_words[:2])"
   ]
  },
  {
   "cell_type": "markdown",
   "id": "fe42f20b",
   "metadata": {},
   "source": [
    "## Integer Encoding\n",
    "- 토큰화 한 단어를 컴퓨터가 인식하도록 정수 인코딩 수행"
   ]
  },
  {
   "cell_type": "code",
   "execution_count": 279,
   "id": "ee4bb459",
   "metadata": {
    "ExecuteTime": {
     "end_time": "2022-06-10T00:19:12.652675Z",
     "start_time": "2022-06-10T00:19:12.639710Z"
    }
   },
   "outputs": [],
   "source": [
    "from keras.preprocessing.text import Tokenizer"
   ]
  },
  {
   "cell_type": "code",
   "execution_count": 280,
   "id": "7fca19e4",
   "metadata": {
    "ExecuteTime": {
     "end_time": "2022-06-10T00:19:13.101474Z",
     "start_time": "2022-06-10T00:19:12.669629Z"
    }
   },
   "outputs": [],
   "source": [
    "tokenizer = Tokenizer()\n",
    "tokenizer.fit_on_texts(x_train_words)\n",
    "tokenizer.fit_on_texts(x_test_words)"
   ]
  },
  {
   "cell_type": "code",
   "execution_count": 281,
   "id": "56243ea5",
   "metadata": {
    "ExecuteTime": {
     "end_time": "2022-06-10T00:19:13.280994Z",
     "start_time": "2022-06-10T00:19:13.102472Z"
    }
   },
   "outputs": [],
   "source": [
    "x_train_int = tokenizer.texts_to_sequences(x_train_words)"
   ]
  },
  {
   "cell_type": "code",
   "execution_count": 282,
   "id": "a0a70394",
   "metadata": {
    "ExecuteTime": {
     "end_time": "2022-06-10T00:19:13.370754Z",
     "start_time": "2022-06-10T00:19:13.281992Z"
    }
   },
   "outputs": [],
   "source": [
    "x_test_int = tokenizer.texts_to_sequences(x_test_words)"
   ]
  },
  {
   "cell_type": "code",
   "execution_count": 283,
   "id": "3fccb72e",
   "metadata": {
    "ExecuteTime": {
     "end_time": "2022-06-10T00:19:13.385714Z",
     "start_time": "2022-06-10T00:19:13.371752Z"
    }
   },
   "outputs": [
    {
     "name": "stdout",
     "output_type": "stream",
     "text": [
      "[[4, 5, 1, 2, 7, 601, 8, 1083, 80, 803, 8375, 13, 25, 26, 8376, 388, 187, 59, 413, 703, 3, 86, 377, 141, 206, 1220, 4, 5, 1, 1074, 18, 673, 32, 113, 94, 1206, 119, 1084], [2, 4, 5, 1, 398, 22, 8, 5237, 121, 1869, 6, 35, 894, 230, 10, 121, 24, 3, 152, 123, 102, 19, 108, 495, 23, 315, 24, 88, 12, 3, 36, 2034, 40, 54, 47, 1240, 3, 107, 4263, 631, 16]]\n"
     ]
    }
   ],
   "source": [
    "print(x_train_int[:2])"
   ]
  },
  {
   "cell_type": "code",
   "execution_count": 284,
   "id": "4408ae0a",
   "metadata": {
    "ExecuteTime": {
     "end_time": "2022-06-10T00:19:13.400674Z",
     "start_time": "2022-06-10T00:19:13.386711Z"
    }
   },
   "outputs": [
    {
     "name": "stdout",
     "output_type": "stream",
     "text": [
      "[[721, 361, 337, 287, 78, 591, 8, 4, 215, 4801, 34, 1590, 3640, 2, 6, 1, 35, 268, 132, 1050, 1060, 1191, 1108, 3508, 7703, 3, 1014, 125, 61, 1463, 664, 785, 73], [49, 700, 16, 31, 155, 180, 82, 547, 276, 2878, 209, 84, 547, 276, 31, 634, 1377, 634, 390, 3196, 1961, 209, 2424, 2325, 2754, 169, 2, 4, 5, 1, 800, 611, 117, 212, 84, 547, 276, 31]]\n"
     ]
    }
   ],
   "source": [
    "print(x_test_int[:2])"
   ]
  },
  {
   "cell_type": "markdown",
   "id": "b6788568",
   "metadata": {},
   "source": [
    "## 제목 길이 기준 분포 확인"
   ]
  },
  {
   "cell_type": "code",
   "execution_count": 285,
   "id": "f73d37af",
   "metadata": {
    "ExecuteTime": {
     "end_time": "2022-06-10T00:19:13.415634Z",
     "start_time": "2022-06-10T00:19:13.401671Z"
    },
    "scrolled": true
   },
   "outputs": [],
   "source": [
    "# print('최대 길이(단어의 수) :', max([(len(i)) for i in x_train_int]))\n",
    "# print('평균 길이 :', sum([len(i) for i in x_train_int]) // len(x_train_int))\n",
    "# plt.figure(figsize = (12, 8))\n",
    "# plt.hist([len(i) for i in x_train_int], bins=90)\n",
    "# plt.xlabel('length fo Data')\n",
    "# plt.ylabel('number fo Data')\n",
    "# plt.show()"
   ]
  },
  {
   "cell_type": "code",
   "execution_count": 286,
   "id": "bcb9213e",
   "metadata": {
    "ExecuteTime": {
     "end_time": "2022-06-10T00:19:13.430595Z",
     "start_time": "2022-06-10T00:19:13.416631Z"
    }
   },
   "outputs": [],
   "source": [
    "# print('최대 길이(단어의 수) :', max([(len(i)) for i in x_test_int]))\n",
    "# print('평균 길이 :', sum([len(i) for i in x_test_int]) // len(x_test_int))\n",
    "# plt.figure(figsize = (12, 8))\n",
    "# plt.hist([len(i) for i in x_test_int], bins=90)\n",
    "# plt.xlabel('length fo Data')\n",
    "# plt.ylabel('number fo Data')\n",
    "# plt.show()"
   ]
  },
  {
   "cell_type": "markdown",
   "id": "4a6e0cc9",
   "metadata": {},
   "source": [
    "## Padding\n",
    "\n",
    "- 길이를 길게 잡으면 학습 시간이 오래 걸림 --> 데이터 손실 최소화 + 효율성\n",
    "- 데이터가 비교적 적은 부분은 패딩으로 처리하는게 좋음.\n",
    "- maxlen의 인자로 정수를 주면, 해당 정수로 모든 문서의 길이를 동일\n",
    "\n",
    "**Ex) 길이가 5인 리스트가 있다면 5보다 작은 인덱스 값들은 0으로 패딩되고 5보다 큰 인덱스들은 즉, 6번째 인덱스부터는 데이터가 손실됨.**<br><br>\n",
    "**참고<br> https://wikidocs.net/83544 (2/5 지점)<br>http://www.nextobe.com/2020/05/14/%EA%B0%80%EB%B3%80-%EA%B8%B8%EC%9D%B4-%EC%9E%85%EB%A0%A5-%EC%8B%9C%ED%80%80%EC%8A%A4%EC%97%90-%EB%8C%80%ED%95%9C-%EB%8D%B0%EC%9D%B4%ED%84%B0-%EC%A4%80%EB%B9%84/<br>https://sig413.tistory.com/5**"
   ]
  },
  {
   "cell_type": "code",
   "execution_count": 287,
   "id": "66ad7f3b",
   "metadata": {
    "ExecuteTime": {
     "end_time": "2022-06-10T00:19:13.445555Z",
     "start_time": "2022-06-10T00:19:13.432588Z"
    }
   },
   "outputs": [],
   "source": [
    "from tensorflow.keras.preprocessing.sequence import pad_sequences"
   ]
  },
  {
   "cell_type": "code",
   "execution_count": 288,
   "id": "24f2198f",
   "metadata": {
    "ExecuteTime": {
     "end_time": "2022-06-10T00:19:13.460514Z",
     "start_time": "2022-06-10T00:19:13.446552Z"
    }
   },
   "outputs": [],
   "source": [
    "# 각 인덱스 길이대로 정렬\n",
    "x_train_int.sort(key=lambda x:len(x),reverse = True)\n",
    "x_test_int.sort(key=lambda x:len(x),reverse = True)"
   ]
  },
  {
   "cell_type": "code",
   "execution_count": 289,
   "id": "080f73ef",
   "metadata": {
    "ExecuteTime": {
     "end_time": "2022-06-10T00:19:13.475474Z",
     "start_time": "2022-06-10T00:19:13.461513Z"
    }
   },
   "outputs": [],
   "source": [
    "def limit_len(front, back, reset_list):\n",
    "    cnt = 0\n",
    "    for s in reset_list:\n",
    "        # if (front <= len(s) <= back):\n",
    "        if len(s) <= back:\n",
    "            cnt += 1\n",
    "    print('전체 학습 데이터 중 길이가 {} 이상 {} 이하인 비율 : {:.2f}%'.format(front, back,( cnt / len(x_train_int)) * 100))"
   ]
  },
  {
   "cell_type": "code",
   "execution_count": 290,
   "id": "42411a71",
   "metadata": {
    "ExecuteTime": {
     "end_time": "2022-06-10T00:19:13.490434Z",
     "start_time": "2022-06-10T00:19:13.476472Z"
    }
   },
   "outputs": [
    {
     "name": "stdout",
     "output_type": "stream",
     "text": [
      "전체 학습 데이터 중 길이가 0 이상 40 이하인 비율 : 55.85%\n",
      "전체 학습 데이터 중 길이가 0 이상 55 이하인 비율 : 99.47%\n"
     ]
    }
   ],
   "source": [
    "# min_len = 4 / max_len = 14\n",
    "# 앞선 제목의 평균 길이 그래프를 보면 ( 4 <= idx_num <= 14 ) 범위를 벗어난 인덱스들은 데이터가 현저히 적음.\n",
    "limit_len(0, 40, x_train_int)\n",
    "limit_len(0, 55, x_train_int)"
   ]
  },
  {
   "cell_type": "markdown",
   "id": "d6851263",
   "metadata": {},
   "source": [
    "**일단 14이하인 것만 패딩 --> 나중에 시간되면 4이상 14이하인 부분만 패딩하도록 전처리 필요**\n",
    "<br>\n",
    "**pad_sequences post / defalut로 각각 한번씩 해주면 됨.**"
   ]
  },
  {
   "cell_type": "code",
   "execution_count": 291,
   "id": "0717e7d5",
   "metadata": {
    "ExecuteTime": {
     "end_time": "2022-06-10T00:19:13.505394Z",
     "start_time": "2022-06-10T00:19:13.491435Z"
    }
   },
   "outputs": [],
   "source": [
    "max_len = 55"
   ]
  },
  {
   "cell_type": "code",
   "execution_count": 292,
   "id": "a5ab129c",
   "metadata": {
    "ExecuteTime": {
     "end_time": "2022-06-10T00:19:13.580195Z",
     "start_time": "2022-06-10T00:19:13.506393Z"
    }
   },
   "outputs": [],
   "source": [
    "# 대문자 X_train\n",
    "X_train = pad_sequences(x_train_int, maxlen = max_len)"
   ]
  },
  {
   "cell_type": "code",
   "execution_count": 293,
   "id": "27ec65dd",
   "metadata": {
    "ExecuteTime": {
     "end_time": "2022-06-10T00:19:13.625078Z",
     "start_time": "2022-06-10T00:19:13.582190Z"
    }
   },
   "outputs": [],
   "source": [
    "# 대문자 X_test\n",
    "X_test = pad_sequences(x_test_int, maxlen = max_len)"
   ]
  },
  {
   "cell_type": "markdown",
   "id": "c5a13aa1",
   "metadata": {},
   "source": [
    "## One-Hot-Encoding\n",
    "\n",
    "- 단어 집합의 크기를 벡터로 변환하고, 표현하고 싶은 단어 인덱스에 1의 값 부여하고, 다른 인덱스는 0을 부여하는 단어의 벡터 표현 방식\n",
    "- 즉, 1개만 Hot(True)이고 나머지는 Cold(False)\n",
    "\n",
    "※ 벡터 (1차원)  /  행렬 (2차원)  /  배열 (3차원)  /  텐서 (3차원 이상)\n",
    "<br>\n",
    "<br>\n",
    "**참고 : https://godcode.tistory.com/9?category=908926**"
   ]
  },
  {
   "cell_type": "code",
   "execution_count": 294,
   "id": "7efedd89",
   "metadata": {
    "ExecuteTime": {
     "end_time": "2022-06-10T00:19:13.819554Z",
     "start_time": "2022-06-10T00:19:13.798609Z"
    }
   },
   "outputs": [
    {
     "data": {
      "text/plain": [
       "{'은행': 1,\n",
       " 'dgb': 2,\n",
       " '을': 3,\n",
       " '대': 4,\n",
       " '구': 5,\n",
       " '대구': 6,\n",
       " '금융': 7,\n",
       " '에서': 8,\n",
       " '장': 9,\n",
       " '지역': 10,\n",
       " '밝히다': 11,\n",
       " '등': 12,\n",
       " '로': 13,\n",
       " '있다': 14,\n",
       " '\\xa0': 15,\n",
       " '되다': 16,\n",
       " '그룹': 17,\n",
       " '대출': 18,\n",
       " '위해': 19,\n",
       " '제': 20,\n",
       " '하고': 21,\n",
       " '본점': 22,\n",
       " '및': 23,\n",
       " '지원': 24,\n",
       " '코로나': 25,\n",
       " '19': 26,\n",
       " '이다': 27,\n",
       " '고객': 28,\n",
       " '지난': 29,\n",
       " '제공': 30,\n",
       " '서비스': 31,\n",
       " '전': 32,\n",
       " '기업': 33,\n",
       " '회장': 34,\n",
       " '경북': 35,\n",
       " '위': 36,\n",
       " '임성훈': 37,\n",
       " '김태오': 38,\n",
       " '2': 39,\n",
       " '적': 40,\n",
       " '진행': 41,\n",
       " '따르다': 42,\n",
       " '실시': 43,\n",
       " '지주': 44,\n",
       " '투자': 45,\n",
       " '부터': 46,\n",
       " '협약': 47,\n",
       " '사진': 48,\n",
       " '이번': 49,\n",
       " '증권': 50,\n",
       " '영업': 51,\n",
       " '원': 52,\n",
       " '수': 53,\n",
       " '업무': 54,\n",
       " '상품': 55,\n",
       " '기': 56,\n",
       " '까지': 57,\n",
       " 'im': 58,\n",
       " '금리': 59,\n",
       " '직원': 60,\n",
       " '전달': 61,\n",
       " '적금': 62,\n",
       " '하이': 63,\n",
       " '센터': 64,\n",
       " '1': 65,\n",
       " '오다': 66,\n",
       " '통해': 67,\n",
       " '개': 68,\n",
       " '함께': 69,\n",
       " '뱅크': 70,\n",
       " '명': 71,\n",
       " '사랑': 72,\n",
       " '행사': 73,\n",
       " '지점': 74,\n",
       " '계열': 75,\n",
       " '대상': 76,\n",
       " '돼다': 77,\n",
       " '사회': 78,\n",
       " 'bnk': 79,\n",
       " '순이익': 80,\n",
       " '식': 81,\n",
       " '디지털': 82,\n",
       " '부산': 83,\n",
       " '비대': 84,\n",
       " '카드': 85,\n",
       " '받다': 86,\n",
       " '기자': 87,\n",
       " '사업': 88,\n",
       " '경': 89,\n",
       " '지난해': 90,\n",
       " '신용': 91,\n",
       " '출시': 92,\n",
       " '▲': 93,\n",
       " '대비': 94,\n",
       " '모바일': 95,\n",
       " '자금': 96,\n",
       " '채용': 97,\n",
       " '5': 98,\n",
       " '기념': 99,\n",
       " '날': 100,\n",
       " '크다': 101,\n",
       " '활성화': 102,\n",
       " '산업': 103,\n",
       " '앱': 104,\n",
       " '연': 105,\n",
       " '△': 106,\n",
       " '체결': 107,\n",
       " '경영': 108,\n",
       " '이벤트': 109,\n",
       " '올해': 110,\n",
       " '대구시': 111,\n",
       " '핀': 112,\n",
       " '년': 113,\n",
       " '달': 114,\n",
       " '것': 115,\n",
       " '에는': 116,\n",
       " '기술': 117,\n",
       " '성': 118,\n",
       " '증가': 119,\n",
       " '지방': 120,\n",
       " '중소기업': 121,\n",
       " '중': 122,\n",
       " '경제': 123,\n",
       " '주': 124,\n",
       " '에게': 125,\n",
       " '캐피탈': 126,\n",
       " '비': 127,\n",
       " '계': 128,\n",
       " '점포': 129,\n",
       " '▷': 130,\n",
       " '사': 131,\n",
       " '대표': 132,\n",
       " '한국': 133,\n",
       " '소': 134,\n",
       " '농협': 135,\n",
       " '사인': 136,\n",
       " '재단': 137,\n",
       " '참여': 138,\n",
       " '내': 139,\n",
       " '다양하다': 140,\n",
       " '이익': 141,\n",
       " '맞다': 142,\n",
       " '권': 143,\n",
       " '개최': 144,\n",
       " '점': 145,\n",
       " '나눔': 146,\n",
       " '경남': 147,\n",
       " '판매': 148,\n",
       " '3': 149,\n",
       " '보다': 150,\n",
       " '피해': 151,\n",
       " '통한': 152,\n",
       " '공': 153,\n",
       " '가입': 154,\n",
       " 'sk': 155,\n",
       " '운영': 156,\n",
       " '신': 157,\n",
       " '당': 158,\n",
       " '보증': 159,\n",
       " '특별': 160,\n",
       " '이용': 161,\n",
       " '규모': 162,\n",
       " '관련': 163,\n",
       " '행': 164,\n",
       " 'bc': 165,\n",
       " '공인': 166,\n",
       " '시': 167,\n",
       " '세': 168,\n",
       " '플랫폼': 169,\n",
       " '화': 170,\n",
       " '성금': 171,\n",
       " '일': 172,\n",
       " '이상': 173,\n",
       " '후': 174,\n",
       " '늘다': 175,\n",
       " '실적': 176,\n",
       " '주년': 177,\n",
       " '광주': 178,\n",
       " '후보': 179,\n",
       " '텔레콤': 180,\n",
       " 'nh': 181,\n",
       " '대다': 182,\n",
       " '총': 183,\n",
       " '말': 184,\n",
       " '관리': 185,\n",
       " '뱅킹': 186,\n",
       " '시장': 187,\n",
       " '장이': 188,\n",
       " '최대': 189,\n",
       " '계층': 190,\n",
       " '캄보디아': 191,\n",
       " '최초': 192,\n",
       " '주력': 193,\n",
       " '생명': 194,\n",
       " '프로그램': 195,\n",
       " '4': 196,\n",
       " '할인': 197,\n",
       " '활동': 198,\n",
       " '곳': 199,\n",
       " '수성동': 200,\n",
       " '문': 201,\n",
       " '혁신': 202,\n",
       " '겪다': 203,\n",
       " '예정': 204,\n",
       " '방문': 205,\n",
       " '감소': 206,\n",
       " 'kb': 207,\n",
       " '소상': 208,\n",
       " '기반': 209,\n",
       " '인증': 210,\n",
       " '동기': 211,\n",
       " '활용': 212,\n",
       " '28일': 213,\n",
       " '서': 214,\n",
       " '적십자사': 215,\n",
       " '확대': 216,\n",
       " '영': 217,\n",
       " '형': 218,\n",
       " '7일': 219,\n",
       " '간': 220,\n",
       " '어려움': 221,\n",
       " '예': 222,\n",
       " '주택': 223,\n",
       " '뉴스': 224,\n",
       " '최근': 225,\n",
       " '대한': 226,\n",
       " '전북': 227,\n",
       " '창립': 228,\n",
       " '페이': 229,\n",
       " '회': 230,\n",
       " '1일': 231,\n",
       " '협력': 232,\n",
       " '단': 233,\n",
       " '선정': 234,\n",
       " '10': 235,\n",
       " '27일': 236,\n",
       " '행복': 237,\n",
       " '6일': 238,\n",
       " '6': 239,\n",
       " '독도': 240,\n",
       " '8일': 241,\n",
       " '환경': 242,\n",
       " '열리다': 243,\n",
       " 'ibk': 244,\n",
       " '기록': 245,\n",
       " '분야': 246,\n",
       " '최종': 247,\n",
       " '30일': 248,\n",
       " '개인': 249,\n",
       " '관계자': 250,\n",
       " 'esg': 251,\n",
       " '부행': 252,\n",
       " '봉사': 253,\n",
       " '거래': 254,\n",
       " '각각': 255,\n",
       " '확산': 256,\n",
       " '하나은행': 257,\n",
       " '강화': 258,\n",
       " '구축': 259,\n",
       " '열사': 260,\n",
       " '기업은행': 261,\n",
       " '부': 262,\n",
       " '상공': 263,\n",
       " '한도': 264,\n",
       " '선보이다': 265,\n",
       " '층': 266,\n",
       " '차기': 267,\n",
       " '본부': 268,\n",
       " '임원': 269,\n",
       " '개선': 270,\n",
       " '가능하다': 271,\n",
       " '복합': 272,\n",
       " '적용': 273,\n",
       " 't': 274,\n",
       " '신청': 275,\n",
       " '확인': 276,\n",
       " '담보': 277,\n",
       " '기간': 278,\n",
       " '급': 279,\n",
       " '평가': 280,\n",
       " '위원회': 281,\n",
       " '시작': 282,\n",
       " '가운데': 283,\n",
       " '21일': 284,\n",
       " '마케팅': 285,\n",
       " '전국': 286,\n",
       " '종합': 287,\n",
       " '신한은행': 288,\n",
       " '장기': 289,\n",
       " '법인': 290,\n",
       " '공개': 291,\n",
       " '계좌': 292,\n",
       " '역': 293,\n",
       " '본부장': 294,\n",
       " '문화': 295,\n",
       " '시스템': 296,\n",
       " '우리은행': 297,\n",
       " '열다': 298,\n",
       " '4일': 299,\n",
       " '29일': 300,\n",
       " '첫': 301,\n",
       " '회복': 302,\n",
       " '상반기': 303,\n",
       " '여': 304,\n",
       " '편의': 305,\n",
       " '현': 306,\n",
       " '실천': 307,\n",
       " '캠페인': 308,\n",
       " '대구광역시': 309,\n",
       " '취약': 310,\n",
       " '전문': 311,\n",
       " '18일': 312,\n",
       " '참석': 313,\n",
       " '10일': 314,\n",
       " '교육': 315,\n",
       " '홍보': 316,\n",
       " '26일': 317,\n",
       " '10월': 318,\n",
       " '테크': 319,\n",
       " '비롯': 320,\n",
       " '나서다': 321,\n",
       " '다음': 322,\n",
       " '기부': 323,\n",
       " '이후': 324,\n",
       " '9월': 325,\n",
       " 'high': 326,\n",
       " 'ceo': 327,\n",
       " '현지': 328,\n",
       " '대표이사': 329,\n",
       " '추진': 330,\n",
       " '기존': 331,\n",
       " '이하': 332,\n",
       " '신종': 333,\n",
       " '약': 334,\n",
       " '버스': 335,\n",
       " '펀드': 336,\n",
       " '구미': 337,\n",
       " '부동산': 338,\n",
       " '주요': 339,\n",
       " '김': 340,\n",
       " '혜택': 341,\n",
       " 'sc': 342,\n",
       " '신규': 343,\n",
       " '예금': 344,\n",
       " '개발': 345,\n",
       " '오후': 346,\n",
       " '17일': 347,\n",
       " '지사': 348,\n",
       " ';': 349,\n",
       " '오픈': 350,\n",
       " '메타': 351,\n",
       " '24일': 352,\n",
       " '14일': 353,\n",
       " '상생': 354,\n",
       " '이웃': 355,\n",
       " '모집': 356,\n",
       " '두': 357,\n",
       " '3일': 358,\n",
       " '극복': 359,\n",
       " '나': 360,\n",
       " '16일': 361,\n",
       " '부문': 362,\n",
       " '성장': 363,\n",
       " '25일': 364,\n",
       " '5월': 365,\n",
       " '후원': 366,\n",
       " '결제': 367,\n",
       " '발표': 368,\n",
       " '희망': 369,\n",
       " '같다': 370,\n",
       " '왼쪽': 371,\n",
       " '글로벌': 372,\n",
       " '국민은행': 373,\n",
       " '기준': 374,\n",
       " 'it': 375,\n",
       " '동': 376,\n",
       " '이자': 377,\n",
       " '9일': 378,\n",
       " '조성': 379,\n",
       " '데이터': 380,\n",
       " '3분': 381,\n",
       " '기관': 382,\n",
       " '추천': 383,\n",
       " '보안': 384,\n",
       " '23일': 385,\n",
       " 'dignity': 386,\n",
       " '부장': 387,\n",
       " '인하다': 388,\n",
       " '공사': 389,\n",
       " '공동': 390,\n",
       " '채널': 391,\n",
       " '사용': 392,\n",
       " '19일': 393,\n",
       " '오전': 394,\n",
       " '1년': 395,\n",
       " '에서는': 396,\n",
       " 'jb': 397,\n",
       " '2일': 398,\n",
       " '복지': 399,\n",
       " '저': 400,\n",
       " '육성': 401,\n",
       " '전용': 402,\n",
       " '지속': 403,\n",
       " '앞두다': 404,\n",
       " '외화': 405,\n",
       " '업체': 406,\n",
       " '자산': 407,\n",
       " '20일': 408,\n",
       " '금': 409,\n",
       " '12일': 410,\n",
       " '헌': 411,\n",
       " '은행권': 412,\n",
       " '하락': 413,\n",
       " '개점': 414,\n",
       " '경상북도': 415,\n",
       " '5일': 416,\n",
       " '추석': 417,\n",
       " '초': 418,\n",
       " '경우': 419,\n",
       " '또': 420,\n",
       " '코로나바이러스': 421,\n",
       " '의료': 422,\n",
       " '1분': 423,\n",
       " '대회': 424,\n",
       " '우대': 425,\n",
       " '원금': 426,\n",
       " '지난달': 427,\n",
       " '6월': 428,\n",
       " '13일': 429,\n",
       " '상': 430,\n",
       " '이사장': 431,\n",
       " '간편': 432,\n",
       " '2019년': 433,\n",
       " '자회사': 434,\n",
       " '개월': 435,\n",
       " '시행': 436,\n",
       " '아동': 437,\n",
       " '2020년': 438,\n",
       " '샵': 439,\n",
       " '사태': 440,\n",
       " '대해': 441,\n",
       " '감염증': 442,\n",
       " '북구': 443,\n",
       " '차': 444,\n",
       " '현재': 445,\n",
       " '◆': 446,\n",
       " '마련': 447,\n",
       " '새롭다': 448,\n",
       " '협업': 449,\n",
       " '일환': 450,\n",
       " '누적': 451,\n",
       " '손잡다': 452,\n",
       " '계획': 453,\n",
       " '에도': 454,\n",
       " '추다': 455,\n",
       " '139130': 456,\n",
       " '촬영': 457,\n",
       " '침체': 458,\n",
       " '위치': 459,\n",
       " 'kdb': 460,\n",
       " '15일': 461,\n",
       " '달성': 462,\n",
       " '22일': 463,\n",
       " '창업': 464,\n",
       " '동참': 465,\n",
       " '상황': 466,\n",
       " '기금': 467,\n",
       " '11일': 468,\n",
       " '선임': 469,\n",
       " '씨': 470,\n",
       " '없다': 471,\n",
       " '모두': 472,\n",
       " '생활': 473,\n",
       " '명절': 474,\n",
       " '2021': 475,\n",
       " '발급': 476,\n",
       " '않다': 477,\n",
       " '퇴직': 478,\n",
       " '연말': 479,\n",
       " '환전': 480,\n",
       " '각': 481,\n",
       " '순': 482,\n",
       " '안정': 483,\n",
       " '7': 484,\n",
       " '특히': 485,\n",
       " '경기': 486,\n",
       " '높다': 487,\n",
       " '매입': 488,\n",
       " '민': 489,\n",
       " '티': 490,\n",
       " '2021년': 491,\n",
       " '겸': 492,\n",
       " '100만원': 493,\n",
       " '가장': 494,\n",
       " '컨설팅': 495,\n",
       " '봉사활동': 496,\n",
       " '소비자': 497,\n",
       " '제휴': 498,\n",
       " '근무': 499,\n",
       " '시대': 500,\n",
       " '내다': 501,\n",
       " '국내': 502,\n",
       " '여명': 503,\n",
       " '전세': 504,\n",
       " '베트남': 505,\n",
       " '세대': 506,\n",
       " '8': 507,\n",
       " '예방': 508,\n",
       " '앞서': 509,\n",
       " '서울': 510,\n",
       " '역시': 511,\n",
       " '군': 512,\n",
       " '최고': 513,\n",
       " '조회': 514,\n",
       " '해당': 515,\n",
       " '추가': 516,\n",
       " '하나': 517,\n",
       " '통합': 518,\n",
       " '상무': 519,\n",
       " '결합': 520,\n",
       " '수도권': 521,\n",
       " '미래': 522,\n",
       " '운동': 523,\n",
       " '증정': 524,\n",
       " '온라인': 525,\n",
       " '상품권': 526,\n",
       " '구매': 527,\n",
       " '분석': 528,\n",
       " '일자리': 529,\n",
       " '31일': 530,\n",
       " '크게': 531,\n",
       " '하반기': 532,\n",
       " '방역': 533,\n",
       " '사의': 534,\n",
       " '포인트': 535,\n",
       " '수협': 536,\n",
       " '속': 537,\n",
       " '회의': 538,\n",
       " '소외': 539,\n",
       " '가지다': 540,\n",
       " '경쟁력': 541,\n",
       " '랩': 542,\n",
       " '수성구': 543,\n",
       " '소재': 544,\n",
       " '언택트': 545,\n",
       " '호': 546,\n",
       " '실명': 547,\n",
       " '우대금리': 548,\n",
       " '▷㈜': 549,\n",
       " '번째': 550,\n",
       " '발생': 551,\n",
       " '위기': 552,\n",
       " '양자': 553,\n",
       " '경력': 554,\n",
       " '건물': 555,\n",
       " '씨티': 556,\n",
       " '누구': 557,\n",
       " '인터넷': 558,\n",
       " '회사': 559,\n",
       " '내년': 560,\n",
       " '자산운용': 561,\n",
       " '없이': 562,\n",
       " '접수': 563,\n",
       " '결정': 564,\n",
       " '모': 565,\n",
       " '포함': 566,\n",
       " '수준': 567,\n",
       " '시중': 568,\n",
       " '무': 569,\n",
       " '비상': 570,\n",
       " '창': 571,\n",
       " '대학생': 572,\n",
       " '13': 573,\n",
       " '취임': 574,\n",
       " '뉴데일리': 575,\n",
       " '12월': 576,\n",
       " '적극': 577,\n",
       " '공모전': 578,\n",
       " '상담': 579,\n",
       " '㈜': 580,\n",
       " '특판': 581,\n",
       " '사가': 582,\n",
       " '대면': 583,\n",
       " '2019': 584,\n",
       " '우리카드': 585,\n",
       " '포항': 586,\n",
       " '규제': 587,\n",
       " '역량': 588,\n",
       " '확진': 589,\n",
       " '3월': 590,\n",
       " '복지관': 591,\n",
       " '결과': 592,\n",
       " '장보': 593,\n",
       " '이르다': 594,\n",
       " '니': 595,\n",
       " '인재': 596,\n",
       " '보내다': 597,\n",
       " '그': 598,\n",
       " '최병수': 599,\n",
       " '청소년': 600,\n",
       " '전체': 601,\n",
       " '목표': 602,\n",
       " '2020': 603,\n",
       " '매년': 604,\n",
       " '만들다': 605,\n",
       " '도입': 606,\n",
       " '8월': 607,\n",
       " '장학금': 608,\n",
       " '비교': 609,\n",
       " '소통': 610,\n",
       " '인식': 611,\n",
       " '과정': 612,\n",
       " '책임': 613,\n",
       " '50만원': 614,\n",
       " '동안': 615,\n",
       " '만에': 616,\n",
       " '발전': 617,\n",
       " '설': 618,\n",
       " '5%': 619,\n",
       " '협회': 620,\n",
       " '상공회의소': 621,\n",
       " '경품': 622,\n",
       " '안전': 623,\n",
       " '한편': 624,\n",
       " '가다': 625,\n",
       " '우리': 626,\n",
       " '설명': 627,\n",
       " '주다': 628,\n",
       " '위원장': 629,\n",
       " '제한': 630,\n",
       " '설립': 631,\n",
       " '가스': 632,\n",
       " '가족': 633,\n",
       " '저축은행': 634,\n",
       " '4월': 635,\n",
       " '1월': 636,\n",
       " '액': 637,\n",
       " '병원': 638,\n",
       " '시청': 639,\n",
       " '시설': 640,\n",
       " '보유': 641,\n",
       " '광복절': 642,\n",
       " '빅데이터': 643,\n",
       " '월': 644,\n",
       " '기획': 645,\n",
       " '조': 646,\n",
       " '청년': 647,\n",
       " '7월': 648,\n",
       " '새해': 649,\n",
       " '급여': 650,\n",
       " '업계': 651,\n",
       " '기탁': 652,\n",
       " '시즌': 653,\n",
       " '돕기': 654,\n",
       " '무료': 655,\n",
       " '9': 656,\n",
       " '신입': 657,\n",
       " '특수은행': 658,\n",
       " '칠성동': 659,\n",
       " '플': 660,\n",
       " '스타트업': 661,\n",
       " '창구': 662,\n",
       " '양사': 663,\n",
       " '들다': 664,\n",
       " '상호': 665,\n",
       " '전략': 666,\n",
       " '분': 667,\n",
       " 'cu': 668,\n",
       " '디그': 669,\n",
       " '서민': 670,\n",
       " '본인': 671,\n",
       " '인사': 672,\n",
       " '금은': 673,\n",
       " '방식': 674,\n",
       " '직장인': 675,\n",
       " '출범': 676,\n",
       " '중심': 677,\n",
       " '발행': 678,\n",
       " '개설': 679,\n",
       " '연금': 680,\n",
       " '직접': 681,\n",
       " '스마트': 682,\n",
       " '이라고': 683,\n",
       " '피우다': 684,\n",
       " '20': 685,\n",
       " '편의점': 686,\n",
       " '지부': 687,\n",
       " '지능': 688,\n",
       " '1000억원': 689,\n",
       " '백': 690,\n",
       " 'pb': 691,\n",
       " '해외': 692,\n",
       " '차량': 693,\n",
       " '데': 694,\n",
       " 'sh': 695,\n",
       " '별': 696,\n",
       " '물품': 697,\n",
       " '절차': 698,\n",
       " '수익': 699,\n",
       " '지정': 700,\n",
       " '아니다': 701,\n",
       " '모으다': 702,\n",
       " '영향': 703,\n",
       " '회원': 704,\n",
       " 'p': 705,\n",
       " '■': 706,\n",
       " '수수료': 707,\n",
       " '특화': 708,\n",
       " '하나카드': 709,\n",
       " '중인': 710,\n",
       " '쓰다': 711,\n",
       " '많다': 712,\n",
       " '설치': 713,\n",
       " '여의도': 714,\n",
       " '현장': 715,\n",
       " '보험': 716,\n",
       " '구입': 717,\n",
       " '방안': 718,\n",
       " '건': 719,\n",
       " '2018년': 720,\n",
       " '구미시': 721,\n",
       " '통장': 722,\n",
       " '협의': 723,\n",
       " '일시': 724,\n",
       " '금액': 725,\n",
       " '전경': 726,\n",
       " '찾다': 727,\n",
       " '대응': 728,\n",
       " '상업': 729,\n",
       " '스': 730,\n",
       " '구성': 731,\n",
       " '2월': 732,\n",
       " '새': 733,\n",
       " '체험': 734,\n",
       " '충전': 735,\n",
       " '핵심': 736,\n",
       " '뒤': 737,\n",
       " '율': 738,\n",
       " '반': 739,\n",
       " '홈페이지': 740,\n",
       " '인공': 741,\n",
       " '재': 742,\n",
       " '당기다': 743,\n",
       " '맞추다': 744,\n",
       " '차원': 745,\n",
       " '앞': 746,\n",
       " '이나': 747,\n",
       " '맺다': 748,\n",
       " '국': 749,\n",
       " '담다': 750,\n",
       " '진흥': 751,\n",
       " '주가': 752,\n",
       " '취급': 753,\n",
       " '늘어나다': 754,\n",
       " '여신': 755,\n",
       " '추첨': 756,\n",
       " '본격': 757,\n",
       " '가능': 758,\n",
       " '10억원': 759,\n",
       " '자금난': 760,\n",
       " '청구': 761,\n",
       " '로부터': 762,\n",
       " '신탁': 763,\n",
       " '맞이': 764,\n",
       " '설날': 765,\n",
       " 'cnb': 766,\n",
       " '삼성': 767,\n",
       " 'mz': 768,\n",
       " '돌파': 769,\n",
       " '시간': 770,\n",
       " '2년': 771,\n",
       " '사주': 772,\n",
       " '영상': 773,\n",
       " '국제': 774,\n",
       " '정책': 775,\n",
       " '당시': 776,\n",
       " '인수': 777,\n",
       " '추위': 778,\n",
       " '전통': 779,\n",
       " '선': 780,\n",
       " '공단': 781,\n",
       " '시상식': 782,\n",
       " '팀': 783,\n",
       " '더': 784,\n",
       " '도시락': 785,\n",
       " '카카오': 786,\n",
       " '얼굴': 787,\n",
       " '우수': 788,\n",
       " '관심': 789,\n",
       " '확보': 790,\n",
       " '인하': 791,\n",
       " '정보': 792,\n",
       " 'g': 793,\n",
       " '먼저': 794,\n",
       " '진': 795,\n",
       " '대사': 796,\n",
       " '또한': 797,\n",
       " '공헌': 798,\n",
       " '명의': 799,\n",
       " '안면': 800,\n",
       " '도청': 801,\n",
       " '시민': 802,\n",
       " '기여': 803,\n",
       " '동행': 804,\n",
       " '세븐': 805,\n",
       " '프로젝트': 806,\n",
       " '수출': 807,\n",
       " '웹': 808,\n",
       " '금융기관': 809,\n",
       " '가상': 810,\n",
       " '유': 811,\n",
       " '정보보호': 812,\n",
       " '키코': 813,\n",
       " '어렵다': 814,\n",
       " '정기예금': 815,\n",
       " '1억원': 816,\n",
       " '긴급': 817,\n",
       " '친환경': 818,\n",
       " '힘': 819,\n",
       " '학생': 820,\n",
       " '이렇다': 821,\n",
       " '제주': 822,\n",
       " 'wm': 823,\n",
       " '5000억원': 824,\n",
       " '1%': 825,\n",
       " '내달': 826,\n",
       " '경산': 827,\n",
       " '연탄': 828,\n",
       " '인력': 829,\n",
       " '특': 830,\n",
       " '계약': 831,\n",
       " '중이': 832,\n",
       " '업자': 833,\n",
       " '호치민': 834,\n",
       " '승인': 835,\n",
       " '시장경제': 836,\n",
       " '고도화': 837,\n",
       " '일부': 838,\n",
       " '의회': 839,\n",
       " '정부': 840,\n",
       " '강승탁': 841,\n",
       " '과의': 842,\n",
       " '11월': 843,\n",
       " '자영': 844,\n",
       " '디': 845,\n",
       " '또는': 846,\n",
       " '본사': 847,\n",
       " '대강': 848,\n",
       " '론': 849,\n",
       " '54': 850,\n",
       " '네이버': 851,\n",
       " '▶': 852,\n",
       " '네트워크': 853,\n",
       " '여름': 854,\n",
       " '월간': 855,\n",
       " '북도': 856,\n",
       " '리테일': 857,\n",
       " '본': 858,\n",
       " 'lt': 859,\n",
       " '소득': 860,\n",
       " '해': 861,\n",
       " '유예': 862,\n",
       " '우체국': 863,\n",
       " '캐시': 864,\n",
       " '마이': 865,\n",
       " '12': 866,\n",
       " '입다': 867,\n",
       " '주의': 868,\n",
       " '시키다': 869,\n",
       " '검찰': 870,\n",
       " 'ict': 871,\n",
       " '피다': 872,\n",
       " '오늘': 873,\n",
       " '상당': 874,\n",
       " '효과': 875,\n",
       " 'keb': 876,\n",
       " '지급': 877,\n",
       " '간편하다': 878,\n",
       " '금감원': 879,\n",
       " '박': 880,\n",
       " '때문': 881,\n",
       " '애로': 882,\n",
       " '수익률': 883,\n",
       " '에서도': 884,\n",
       " '장학': 885,\n",
       " '50': 886,\n",
       " '핫': 887,\n",
       " '혐의': 888,\n",
       " '성과': 889,\n",
       " '노동조합': 890,\n",
       " '일본': 891,\n",
       " '상승': 892,\n",
       " '장애인': 893,\n",
       " '연합': 894,\n",
       " '사장': 895,\n",
       " '때': 896,\n",
       " 'm': 897,\n",
       " '소비': 898,\n",
       " '개소식': 899,\n",
       " '꽃': 900,\n",
       " '금회': 901,\n",
       " '겸직': 902,\n",
       " '뿐': 903,\n",
       " '보이다': 904,\n",
       " '주민': 905,\n",
       " '비중': 906,\n",
       " '시너지': 907,\n",
       " '자리': 908,\n",
       " '양': 909,\n",
       " '진출': 910,\n",
       " '파크': 911,\n",
       " '보호': 912,\n",
       " '평균': 913,\n",
       " '권영진': 914,\n",
       " 'ai': 915,\n",
       " '조정': 916,\n",
       " '단계': 917,\n",
       " '번': 918,\n",
       " '마스크': 919,\n",
       " '심사': 920,\n",
       " '완료': 921,\n",
       " '문화재단': 922,\n",
       " '호점': 923,\n",
       " '양일': 924,\n",
       " '내용': 925,\n",
       " '가계': 926,\n",
       " '익': 927,\n",
       " '단체': 928,\n",
       " '자동차': 929,\n",
       " '대금': 930,\n",
       " '만족도': 931,\n",
       " '가지': 932,\n",
       " '세계': 933,\n",
       " '외': 934,\n",
       " '온': 935,\n",
       " '따뜻하다': 936,\n",
       " '증대': 937,\n",
       " '사고': 938,\n",
       " '비리': 939,\n",
       " '지배구조': 940,\n",
       " '확': 941,\n",
       " '뜻': 942,\n",
       " '미얀마': 943,\n",
       " '작년': 944,\n",
       " '지구': 945,\n",
       " '국민': 946,\n",
       " '전면': 947,\n",
       " '직': 948,\n",
       " '케이': 949,\n",
       " '중소': 950,\n",
       " '주최': 951,\n",
       " '아이디어': 952,\n",
       " '지표': 953,\n",
       " '나가다': 954,\n",
       " '전기차': 955,\n",
       " '노력': 956,\n",
       " '어린이': 957,\n",
       " '개편': 958,\n",
       " '폐쇄': 959,\n",
       " '매일신문': 960,\n",
       " '바': 961,\n",
       " '판정': 962,\n",
       " '온누리상품권': 963,\n",
       " '국가': 964,\n",
       " '관': 965,\n",
       " '꾸준하다': 966,\n",
       " '체크카드': 967,\n",
       " '헌혈': 968,\n",
       " '용': 969,\n",
       " '중앙': 970,\n",
       " '제외': 971,\n",
       " '채다': 972,\n",
       " '당국': 973,\n",
       " '담비': 974,\n",
       " '필요하다': 975,\n",
       " '비다': 976,\n",
       " '1만': 977,\n",
       " '린지': 978,\n",
       " '측은': 979,\n",
       " '진자': 980,\n",
       " '쉬다': 981,\n",
       " '적립': 982,\n",
       " '못': 983,\n",
       " '세븐일레븐': 984,\n",
       " '지주사': 985,\n",
       " '중구': 986,\n",
       " '이면': 987,\n",
       " '부점': 988,\n",
       " '소액': 989,\n",
       " '5억원': 990,\n",
       " '공간': 991,\n",
       " '마음': 992,\n",
       " '휴가': 993,\n",
       " '나타나다': 994,\n",
       " '노조': 995,\n",
       " '화로': 996,\n",
       " '사기': 997,\n",
       " '두다': 998,\n",
       " 'sns': 999,\n",
       " '‧': 1000,\n",
       " ...}"
      ]
     },
     "execution_count": 294,
     "metadata": {},
     "output_type": "execute_result"
    }
   ],
   "source": [
    "tokenizer.word_index"
   ]
  },
  {
   "cell_type": "code",
   "execution_count": 295,
   "id": "2a267aaf",
   "metadata": {
    "ExecuteTime": {
     "end_time": "2022-06-10T00:19:13.984113Z",
     "start_time": "2022-06-10T00:19:13.976135Z"
    }
   },
   "outputs": [
    {
     "data": {
      "text/plain": [
       "15668"
      ]
     },
     "execution_count": 295,
     "metadata": {},
     "output_type": "execute_result"
    }
   ],
   "source": [
    "len(tokenizer.word_index)"
   ]
  },
  {
   "cell_type": "markdown",
   "id": "049c2703",
   "metadata": {},
   "source": [
    "## get dummies --> 원핫인코딩"
   ]
  },
  {
   "cell_type": "code",
   "execution_count": 296,
   "id": "6454b1db",
   "metadata": {
    "ExecuteTime": {
     "end_time": "2022-06-10T00:19:14.283480Z",
     "start_time": "2022-06-10T00:19:14.270516Z"
    }
   },
   "outputs": [],
   "source": [
    "# pd.get_dummies()로 쉽게 원핫인코딩 가능.\n",
    "\n",
    "y_train = pd.get_dummies(x_train['label']).to_numpy()\n",
    "y_test = pd.get_dummies(x_test['label']).to_numpy()"
   ]
  },
  {
   "cell_type": "code",
   "execution_count": 297,
   "id": "82437426",
   "metadata": {
    "ExecuteTime": {
     "end_time": "2022-06-10T00:19:14.418168Z",
     "start_time": "2022-06-10T00:19:14.407198Z"
    }
   },
   "outputs": [],
   "source": [
    "# y_train = list()\n",
    "# y_test = list()\n",
    "# X_train['label'].unique().tolist()"
   ]
  },
  {
   "cell_type": "code",
   "execution_count": 298,
   "id": "a6b115f7",
   "metadata": {
    "ExecuteTime": {
     "end_time": "2022-06-10T00:19:14.582751Z",
     "start_time": "2022-06-10T00:19:14.566794Z"
    }
   },
   "outputs": [],
   "source": [
    "# # 1 / 0 / -1\n",
    "# def one_hot_encoding(label):\n",
    "#     one_hot_vector = [0] * len(X_train['label'].unique().tolist())\n",
    "#     one_hot_vector[label+1] = 1\n",
    "#     return one_hot_vector\n",
    "\n",
    "# def right_answer():\n",
    "#     for tr in X_train['label']:\n",
    "#         y_train.append(one_hot_encoding(tr))\n",
    "#     for te in X_test['label']:\n",
    "#         y_test.append(one_hot_encoding(te))\n",
    "\n",
    "# right_answer()"
   ]
  },
  {
   "cell_type": "code",
   "execution_count": 299,
   "id": "14ee52a4",
   "metadata": {
    "ExecuteTime": {
     "end_time": "2022-06-10T00:19:14.702430Z",
     "start_time": "2022-06-10T00:19:14.686474Z"
    }
   },
   "outputs": [],
   "source": [
    "# if (len(y_train) + len(y_test)) == len(df_news_overlap['label']):\n",
    "#     print('정상')\n",
    "# else:\n",
    "#     y_train = list()\n",
    "#     y_test = list()\n",
    "#     right_answer()\n",
    "#     print('재확인 필요')\n",
    "\n",
    "# y_train = np.array(y_train)\n",
    "# y_test = np.array(y_test)"
   ]
  },
  {
   "cell_type": "markdown",
   "id": "429b03b2",
   "metadata": {},
   "source": [
    "## 빈도 수가 낮은 단어 제거 --> 대기\n",
    "- 빈도수가 낮은 단어 --> 학습에 영향이 크지 않음.\n",
    "- 전처리를 통해 제거\n",
    "- 패딩 --> 학습 시간 단축 및 최적의 효율성\n",
    "\n",
    "**한두번 나온 단어가 그 문장의 감성을 표현할 수 있는 핵심단어 일수도?**"
   ]
  },
  {
   "cell_type": "code",
   "execution_count": 300,
   "id": "dd0345b1",
   "metadata": {
    "ExecuteTime": {
     "end_time": "2022-06-10T00:19:16.542509Z",
     "start_time": "2022-06-10T00:19:16.532536Z"
    }
   },
   "outputs": [
    {
     "name": "stdout",
     "output_type": "stream",
     "text": [
      "단어 집합(vocabulary)의 종류 : 15668\n",
      "등장 빈도가 1번 이하인 희귀 단어의 수: 5403\n",
      "단어 집합에서 희귀 단어의 비율: 34.48\n",
      "전체 등장 빈도에서 희귀 단어 등장 빈도 비율: 0.6988809884451159\n"
     ]
    }
   ],
   "source": [
    "threshold = 2 # 임계치\n",
    "total_cnt = len(tokenizer.word_index)\n",
    "rare_cnt = 0\n",
    "words_freq = 0\n",
    "rare_freq = 0\n",
    "\n",
    "for key, value in tokenizer.word_counts.items():\n",
    "    words_freq += value\n",
    "    if value < threshold:\n",
    "        rare_cnt += 1\n",
    "        rare_freq += value\n",
    "print('단어 집합(vocabulary)의 종류 :', total_cnt)\n",
    "print('등장 빈도가 %s번 이하인 희귀 단어의 수: %s' % (threshold - 1, rare_cnt))\n",
    "print(\"단어 집합에서 희귀 단어의 비율: {:.2f}\".format((rare_cnt / total_cnt) * 100))\n",
    "print(\"전체 등장 빈도에서 희귀 단어 등장 빈도 비율:\", (rare_freq / words_freq) * 100)"
   ]
  },
  {
   "cell_type": "code",
   "execution_count": 301,
   "id": "92192459",
   "metadata": {
    "ExecuteTime": {
     "end_time": "2022-06-10T00:19:16.677176Z",
     "start_time": "2022-06-10T00:19:16.670166Z"
    }
   },
   "outputs": [
    {
     "name": "stdout",
     "output_type": "stream",
     "text": [
      "10265\n"
     ]
    }
   ],
   "source": [
    "vocab_size = total_cnt-rare_cnt\n",
    "print(vocab_size)"
   ]
  },
  {
   "cell_type": "code",
   "execution_count": 302,
   "id": "4d0caed6",
   "metadata": {
    "ExecuteTime": {
     "end_time": "2022-06-10T00:19:16.811789Z",
     "start_time": "2022-06-10T00:19:16.803809Z"
    }
   },
   "outputs": [],
   "source": [
    "tokenizer = Tokenizer(vocab_size, oov_token='OOV')"
   ]
  },
  {
   "cell_type": "code",
   "execution_count": 303,
   "id": "f3e62caa",
   "metadata": {
    "ExecuteTime": {
     "end_time": "2022-06-10T00:19:16.946428Z",
     "start_time": "2022-06-10T00:19:16.926481Z"
    }
   },
   "outputs": [
    {
     "data": {
      "text/html": [
       "<div>\n",
       "<style scoped>\n",
       "    .dataframe tbody tr th:only-of-type {\n",
       "        vertical-align: middle;\n",
       "    }\n",
       "\n",
       "    .dataframe tbody tr th {\n",
       "        vertical-align: top;\n",
       "    }\n",
       "\n",
       "    .dataframe thead th {\n",
       "        text-align: right;\n",
       "    }\n",
       "</style>\n",
       "<table border=\"1\" class=\"dataframe\">\n",
       "  <thead>\n",
       "    <tr style=\"text-align: right;\">\n",
       "      <th></th>\n",
       "      <th>date</th>\n",
       "      <th>year</th>\n",
       "      <th>month</th>\n",
       "      <th>day</th>\n",
       "      <th>nouns_contents</th>\n",
       "      <th>label</th>\n",
       "    </tr>\n",
       "  </thead>\n",
       "  <tbody>\n",
       "    <tr>\n",
       "      <th>0</th>\n",
       "      <td>2020-05-07</td>\n",
       "      <td>2020</td>\n",
       "      <td>5</td>\n",
       "      <td>7</td>\n",
       "      <td>대 구 은행 DGB 금융 전체 에서 차지 순이익 기여 723% 로 코로나 19 파장...</td>\n",
       "      <td>-1</td>\n",
       "    </tr>\n",
       "    <tr>\n",
       "      <th>1</th>\n",
       "      <td>2019-12-02</td>\n",
       "      <td>2019</td>\n",
       "      <td>12</td>\n",
       "      <td>2</td>\n",
       "      <td>DGB 대 구 은행 2일 본점 에서 ㈔ 중소기업 융합 대구 경북 연합 회 지역 중소...</td>\n",
       "      <td>1</td>\n",
       "    </tr>\n",
       "  </tbody>\n",
       "</table>\n",
       "</div>"
      ],
      "text/plain": [
       "         date  year  month  day  \\\n",
       "0  2020-05-07  2020      5    7   \n",
       "1  2019-12-02  2019     12    2   \n",
       "\n",
       "                                      nouns_contents  label  \n",
       "0  대 구 은행 DGB 금융 전체 에서 차지 순이익 기여 723% 로 코로나 19 파장...     -1  \n",
       "1  DGB 대 구 은행 2일 본점 에서 ㈔ 중소기업 융합 대구 경북 연합 회 지역 중소...      1  "
      ]
     },
     "execution_count": 303,
     "metadata": {},
     "output_type": "execute_result"
    }
   ],
   "source": [
    "x_train.head(2)"
   ]
  },
  {
   "cell_type": "code",
   "execution_count": 304,
   "id": "c21e8572",
   "metadata": {
    "ExecuteTime": {
     "end_time": "2022-06-10T00:19:17.096027Z",
     "start_time": "2022-06-10T00:19:17.079073Z"
    }
   },
   "outputs": [
    {
     "data": {
      "text/html": [
       "<div>\n",
       "<style scoped>\n",
       "    .dataframe tbody tr th:only-of-type {\n",
       "        vertical-align: middle;\n",
       "    }\n",
       "\n",
       "    .dataframe tbody tr th {\n",
       "        vertical-align: top;\n",
       "    }\n",
       "\n",
       "    .dataframe thead th {\n",
       "        text-align: right;\n",
       "    }\n",
       "</style>\n",
       "<table border=\"1\" class=\"dataframe\">\n",
       "  <thead>\n",
       "    <tr style=\"text-align: right;\">\n",
       "      <th></th>\n",
       "      <th>date</th>\n",
       "      <th>year</th>\n",
       "      <th>month</th>\n",
       "      <th>day</th>\n",
       "      <th>nouns_contents</th>\n",
       "      <th>label</th>\n",
       "    </tr>\n",
       "  </thead>\n",
       "  <tbody>\n",
       "    <tr>\n",
       "      <th>0</th>\n",
       "      <td>2020-07-16</td>\n",
       "      <td>2020</td>\n",
       "      <td>7</td>\n",
       "      <td>16</td>\n",
       "      <td>구미시 16일 구미 종합 사회 복지관 에서 대 적십자사 경상북도지사 회장 류 시문 ...</td>\n",
       "      <td>1</td>\n",
       "    </tr>\n",
       "    <tr>\n",
       "      <th>1</th>\n",
       "      <td>2020-05-28</td>\n",
       "      <td>2020</td>\n",
       "      <td>5</td>\n",
       "      <td>28</td>\n",
       "      <td>이번 지정 되다 서비스 SK 텔레콤 디지털 실명 확인 증표 기반 비대 실명 확인 서...</td>\n",
       "      <td>1</td>\n",
       "    </tr>\n",
       "  </tbody>\n",
       "</table>\n",
       "</div>"
      ],
      "text/plain": [
       "         date  year  month  day  \\\n",
       "0  2020-07-16  2020      7   16   \n",
       "1  2020-05-28  2020      5   28   \n",
       "\n",
       "                                      nouns_contents  label  \n",
       "0  구미시 16일 구미 종합 사회 복지관 에서 대 적십자사 경상북도지사 회장 류 시문 ...      1  \n",
       "1  이번 지정 되다 서비스 SK 텔레콤 디지털 실명 확인 증표 기반 비대 실명 확인 서...      1  "
      ]
     },
     "execution_count": 304,
     "metadata": {},
     "output_type": "execute_result"
    }
   ],
   "source": [
    "x_test.head(2)"
   ]
  },
  {
   "cell_type": "code",
   "execution_count": 305,
   "id": "20a60e93",
   "metadata": {
    "ExecuteTime": {
     "end_time": "2022-06-10T00:19:17.320427Z",
     "start_time": "2022-06-10T00:19:17.214710Z"
    }
   },
   "outputs": [],
   "source": [
    "x_train.to_csv('./Data_Set/X_train.csv')\n",
    "x_test.to_csv('./Data_Set/X_test.csv')"
   ]
  },
  {
   "cell_type": "markdown",
   "id": "b1598e8e",
   "metadata": {},
   "source": [
    "# 모델링\n",
    "\n",
    "- 성능 높이기 + 시각화 해서 파일로 만들기\n",
    "\n",
    "**https://sieon-dev.tistory.com/15**"
   ]
  },
  {
   "cell_type": "markdown",
   "id": "49171dfa",
   "metadata": {},
   "source": [
    "## GPU 체크\n",
    "- NVIDIA GeForce RTX 2070 SUPER : 2개 (GPU index number : 0, 1)\n",
    "- CPU :1 개 ( CPU index number : 0)"
   ]
  },
  {
   "cell_type": "code",
   "execution_count": 306,
   "id": "f9f48e4f",
   "metadata": {
    "ExecuteTime": {
     "end_time": "2022-06-10T00:19:17.634586Z",
     "start_time": "2022-06-10T00:19:17.629600Z"
    }
   },
   "outputs": [
    {
     "name": "stdout",
     "output_type": "stream",
     "text": [
      "2 Physical GPUs, 2 Logical GPUs\n"
     ]
    }
   ],
   "source": [
    "import tensorflow as tf\n",
    "gpus = tf.config.experimental.list_physical_devices('GPU')\n",
    "if gpus:\n",
    "    try:\n",
    "        # Currently, memory growth needs to be the same across GPUs\n",
    "        for gpu in gpus:\n",
    "            tf.config.experimental.set_memory_growth(gpu, True)\n",
    "        logical_gpus = tf.config.experimental.list_logical_devices('GPU')\n",
    "        print(len(gpus), \"Physical GPUs,\", len(logical_gpus), \"Logical GPUs\")\n",
    "    except RuntimeError as e:\n",
    "        # Memory growth must be set before GPUs have been initialized\n",
    "        print(e)"
   ]
  },
  {
   "cell_type": "code",
   "execution_count": 307,
   "id": "727d9656",
   "metadata": {
    "ExecuteTime": {
     "end_time": "2022-06-10T00:19:17.769226Z",
     "start_time": "2022-06-10T00:19:17.758255Z"
    }
   },
   "outputs": [
    {
     "name": "stdout",
     "output_type": "stream",
     "text": [
      "Num GPUs Available:  2\n"
     ]
    }
   ],
   "source": [
    "print(\"Num GPUs Available: \", len(tf.config.list_physical_devices('GPU')))"
   ]
  },
  {
   "cell_type": "code",
   "execution_count": 308,
   "id": "aa89b0c5",
   "metadata": {
    "ExecuteTime": {
     "end_time": "2022-06-10T00:19:17.918826Z",
     "start_time": "2022-06-10T00:19:17.910848Z"
    }
   },
   "outputs": [],
   "source": [
    "%matplotlib inline\n",
    "# Function call stack:\n",
    "# train_function -> train_function -> train_function\n",
    "# 해당 줄로 오류 해결\n",
    "# 참고 : https://www.freesion.com/article/71721347190/\n",
    "tf.compat.v1.disable_eager_execution()"
   ]
  },
  {
   "cell_type": "markdown",
   "id": "2e5f35f9",
   "metadata": {},
   "source": [
    "## 데이터셋 확인"
   ]
  },
  {
   "cell_type": "code",
   "execution_count": 309,
   "id": "e53d9ac2",
   "metadata": {
    "ExecuteTime": {
     "end_time": "2022-06-10T00:19:18.203066Z",
     "start_time": "2022-06-10T00:19:18.198079Z"
    }
   },
   "outputs": [],
   "source": [
    "from keras import models\n",
    "from tensorflow.python.client import device_lib\n",
    "from tensorflow.keras.layers import Embedding, Dense, GRU, Dropout, Input, LSTM, Activation, Bidirectional, Conv1D, MaxPooling1D, GlobalMaxPooling1D, Flatten, SpatialDropout1D, TimeDistributed, Flatten\n",
    "from tensorflow.keras.models import Sequential, Model\n",
    "from tensorflow.keras.models import load_model"
   ]
  },
  {
   "cell_type": "code",
   "execution_count": 310,
   "id": "4f66fd40",
   "metadata": {
    "ExecuteTime": {
     "end_time": "2022-06-10T00:19:18.367626Z",
     "start_time": "2022-06-10T00:19:18.353665Z"
    }
   },
   "outputs": [
    {
     "name": "stdout",
     "output_type": "stream",
     "text": [
      "X_train : (13512, 55)\n",
      "X_test : (5791, 55)\n",
      "y_train : (13512, 3)\n",
      "X_test : (5791, 3)\n"
     ]
    }
   ],
   "source": [
    "print('X_train :', X_train.shape)\n",
    "print('X_test :', X_test.shape)\n",
    "print('y_train :', y_train.shape)\n",
    "print('X_test :', y_test.shape)"
   ]
  },
  {
   "cell_type": "markdown",
   "id": "fd5096a9",
   "metadata": {},
   "source": [
    "## 옵티마이저 튜닝\n",
    "\n",
    "- optimizers 정의 및 튜닝 ( Adam, SGD, RMSprop)\n",
    "- 하이퍼 파라미터 튜닝\n",
    "\n",
    "**val_loss 감소시키는 방법 : https://lsjsj92.tistory.com/353**"
   ]
  },
  {
   "cell_type": "code",
   "execution_count": 311,
   "id": "b461f53d",
   "metadata": {
    "ExecuteTime": {
     "end_time": "2022-06-10T00:19:18.801465Z",
     "start_time": "2022-06-10T00:19:18.790495Z"
    }
   },
   "outputs": [],
   "source": [
    "from tensorflow.keras.optimizers import Adam, SGD, RMSprop\n",
    "from tensorflow.keras.callbacks import EarlyStopping, ModelCheckpoint\n",
    "\n",
    "adam = Adam(learning_rate=0.001, beta_1=0.9, beta_2=0.999, decay=0.0001, clipnorm=1., epsilon=None, amsgrad=False)\n",
    "\n",
    "sgd = SGD(learning_rate=0.01, momentum=0.9, decay=0.0001, nesterov=False)\n",
    "\n",
    "rmsprop = RMSprop(learning_rate=0.001, rho=0.9, decay=0.0001, epsilon=None)"
   ]
  },
  {
   "cell_type": "markdown",
   "id": "642296ad",
   "metadata": {},
   "source": [
    "## 모델 구축 및 데이터 학습\n",
    "\n",
    "- val_accuracy도 점점 떨어지고 있는 것으로 봐서 네트워크가 과적합되는 것으로 보입니다. 과적합의 이유는 임베딩 레이어를 랜덤한 값에서부터 시작해서 학습시키기 때문에 각 단어를 나타내는 벡터의 품질\n",
    "\n",
    "**모델 샘플 : https://www.kaggle.com/code/nafisur/keras-models-lstm-cnn-gru-bidirectional-glove/notebook**\n",
    "<br><br>\n",
    "**성능 개선 : https://wikidocs.net/142041**\n",
    "<br><br>\n",
    "**loss 함수 설명 : https://velog.io/@rcchun/%EB%A8%B8%EC%8B%A0%EB%9F%AC%EB%8B%9D-%EC%86%90%EC%8B%A4%ED%95%A8%EC%88%98%EC%9D%98-%EC%A2%85%EB%A5%98#msemean-squared-error**\n",
    "<br><br>\n",
    "**LSTM / RNN / GRU 개념 : https://velog.io/@dong970827/RNN-LSTM-GRU-%EA%B0%9C%EB%85%90**\n",
    "\n",
    "- 과적합 뜨는 이유\n",
    "- 1. 긍정 80% / 부정 5% / 중립 15% (총 331개 Test Data) 데이터 갯수와 비율 때문이라고 판단.\n",
    "- 2. 학습진행시 전체데이터에서 부정갯수가 가장 작은 편이므로, 긍정데이터에 대해서는 과적합"
   ]
  },
  {
   "cell_type": "markdown",
   "id": "88f3e524",
   "metadata": {},
   "source": [
    "### LSTM ( 73 ~ 77% / 요약본 / 오차 작음)"
   ]
  },
  {
   "cell_type": "code",
   "execution_count": 312,
   "id": "555a35f1",
   "metadata": {
    "ExecuteTime": {
     "end_time": "2022-06-10T00:19:19.384904Z",
     "start_time": "2022-06-10T00:19:19.246275Z"
    }
   },
   "outputs": [
    {
     "name": "stdout",
     "output_type": "stream",
     "text": [
      "WARNING:tensorflow:Layer lstm_4 will not use cuDNN kernels since it doesn't meet the criteria. It will use a generic GPU kernel as fallback when running on GPU.\n",
      "Model: \"sequential_7\"\n",
      "_________________________________________________________________\n",
      "Layer (type)                 Output Shape              Param #   \n",
      "=================================================================\n",
      "embedding_5 (Embedding)      (None, 55, 100)           1566800   \n",
      "_________________________________________________________________\n",
      "lstm_4 (LSTM)                (None, 128)               117248    \n",
      "_________________________________________________________________\n",
      "dense_7 (Dense)              (None, 3)                 387       \n",
      "=================================================================\n",
      "Total params: 1,684,435\n",
      "Trainable params: 1,684,435\n",
      "Non-trainable params: 0\n",
      "_________________________________________________________________\n"
     ]
    }
   ],
   "source": [
    "# 하이퍼파라미터 : rmsprop / binary_crossentropy / 50 / 256 / 0.2\n",
    "model_01 = Sequential()\n",
    "\n",
    "model_01 = Sequential() # tensorflow.keras.models\n",
    "model_01.add(Embedding(total_cnt, 100, input_length=max_len))\n",
    "model_01.add(LSTM(128))\n",
    "model_01.add(Dense(3, activation='softmax'))\n",
    "model_01.summary()"
   ]
  },
  {
   "cell_type": "markdown",
   "id": "8601c622",
   "metadata": {},
   "source": [
    "### LSTM 2 Layer + Dropout (64 ~ 66 % / 요약본 / 오차 큼)\n",
    "- 의미 없음. 제일 성능 떨어짐"
   ]
  },
  {
   "cell_type": "code",
   "execution_count": 313,
   "id": "3f7f1df5",
   "metadata": {
    "ExecuteTime": {
     "end_time": "2022-06-10T00:19:20.656502Z",
     "start_time": "2022-06-10T00:19:19.574424Z"
    }
   },
   "outputs": [
    {
     "name": "stdout",
     "output_type": "stream",
     "text": [
      "WARNING:tensorflow:Layer lstm_5 will not use cuDNN kernels since it doesn't meet the criteria. It will use a generic GPU kernel as fallback when running on GPU.\n",
      "WARNING:tensorflow:Layer lstm_6 will not use cuDNN kernels since it doesn't meet the criteria. It will use a generic GPU kernel as fallback when running on GPU.\n",
      "Model: \"sequential_8\"\n",
      "_________________________________________________________________\n",
      "Layer (type)                 Output Shape              Param #   \n",
      "=================================================================\n",
      "embedding_6 (Embedding)      (None, None, 100)         1566800   \n",
      "_________________________________________________________________\n",
      "lstm_5 (LSTM)                (None, None, 64)          42240     \n",
      "_________________________________________________________________\n",
      "lstm_6 (LSTM)                (None, 32)                12416     \n",
      "_________________________________________________________________\n",
      "dense_8 (Dense)              (None, 3)                 99        \n",
      "=================================================================\n",
      "Total params: 1,621,555\n",
      "Trainable params: 1,621,555\n",
      "Non-trainable params: 0\n",
      "_________________________________________________________________\n"
     ]
    }
   ],
   "source": [
    "# 하이퍼파라미터 : adam / categorical_crossentropy / 50 / 512 / 0.2\n",
    "model_02 = Sequential()\n",
    "\n",
    "model_02.add(Embedding(total_cnt,100, mask_zero=True))\n",
    "model_02.add(LSTM(64,dropout=0.7, recurrent_dropout=0.7,return_sequences=True))\n",
    "model_02.add(LSTM(32,dropout=0.6, recurrent_dropout=0.6,return_sequences=False))\n",
    "model_02.add(Dense(3, activation='softmax'))\n",
    "model_02.summary()"
   ]
  },
  {
   "cell_type": "markdown",
   "id": "866ad957",
   "metadata": {},
   "source": [
    "### CNN + Dropout ( 77 ~ 79 % / 요약본 / 오차 큼)"
   ]
  },
  {
   "cell_type": "code",
   "execution_count": 314,
   "id": "2f174a9c",
   "metadata": {
    "ExecuteTime": {
     "end_time": "2022-06-10T00:19:20.716344Z",
     "start_time": "2022-06-10T00:19:20.657501Z"
    }
   },
   "outputs": [
    {
     "name": "stdout",
     "output_type": "stream",
     "text": [
      "Model: \"sequential_9\"\n",
      "_________________________________________________________________\n",
      "Layer (type)                 Output Shape              Param #   \n",
      "=================================================================\n",
      "embedding_7 (Embedding)      (None, 55, 100)           1566800   \n",
      "_________________________________________________________________\n",
      "conv1d_1 (Conv1D)            (None, 55, 64)            19264     \n",
      "_________________________________________________________________\n",
      "global_max_pooling1d_1 (Glob (None, 64)                0         \n",
      "_________________________________________________________________\n",
      "dense_9 (Dense)              (None, 128)               8320      \n",
      "_________________________________________________________________\n",
      "dropout_3 (Dropout)          (None, 128)               0         \n",
      "_________________________________________________________________\n",
      "dense_10 (Dense)             (None, 3)                 387       \n",
      "=================================================================\n",
      "Total params: 1,594,771\n",
      "Trainable params: 1,594,771\n",
      "Non-trainable params: 0\n",
      "_________________________________________________________________\n"
     ]
    }
   ],
   "source": [
    "# 하이퍼파라미터 : adam / categorical_crossentropy / 100 / 128 / 0.2\n",
    "model_03= Sequential()\n",
    "\n",
    "model_03.add(Embedding(total_cnt, 100, input_length=max_len))\n",
    "model_03.add(Conv1D(64, kernel_size=3, padding='same', activation='relu', strides=1))\n",
    "model_03.add(GlobalMaxPooling1D())\n",
    "model_03.add(Dense(128, activation='relu'))\n",
    "model_03.add(Dropout(0.8))\n",
    "model_03.add(Dense(3, activation='softmax'))\n",
    "model_03.summary()"
   ]
  },
  {
   "cell_type": "markdown",
   "id": "40e828e1",
   "metadata": {},
   "source": [
    "### Bi GRU + Dropout ( 75 ~ 77% / 요약본 / 오차 매우 작음)"
   ]
  },
  {
   "cell_type": "code",
   "execution_count": 315,
   "id": "b8eb6461",
   "metadata": {
    "ExecuteTime": {
     "end_time": "2022-06-10T00:19:21.015569Z",
     "start_time": "2022-06-10T00:19:20.717339Z"
    }
   },
   "outputs": [
    {
     "name": "stdout",
     "output_type": "stream",
     "text": [
      "WARNING:tensorflow:Layer gru_2 will not use cuDNN kernels since it doesn't meet the criteria. It will use a generic GPU kernel as fallback when running on GPU.\n",
      "WARNING:tensorflow:Layer gru_2 will not use cuDNN kernels since it doesn't meet the criteria. It will use a generic GPU kernel as fallback when running on GPU.\n",
      "WARNING:tensorflow:Layer gru_2 will not use cuDNN kernels since it doesn't meet the criteria. It will use a generic GPU kernel as fallback when running on GPU.\n",
      "Model: \"sequential_10\"\n",
      "_________________________________________________________________\n",
      "Layer (type)                 Output Shape              Param #   \n",
      "=================================================================\n",
      "embedding_8 (Embedding)      (None, 55, 100)           1566800   \n",
      "_________________________________________________________________\n",
      "spatial_dropout1d_1 (Spatial (None, 55, 100)           0         \n",
      "_________________________________________________________________\n",
      "bidirectional_2 (Bidirection (None, 256)               176640    \n",
      "_________________________________________________________________\n",
      "dropout_4 (Dropout)          (None, 256)               0         \n",
      "_________________________________________________________________\n",
      "dense_11 (Dense)             (None, 3)                 771       \n",
      "=================================================================\n",
      "Total params: 1,744,211\n",
      "Trainable params: 1,744,211\n",
      "Non-trainable params: 0\n",
      "_________________________________________________________________\n"
     ]
    }
   ],
   "source": [
    "model_04 = Sequential()\n",
    "\n",
    "model_04.add(Embedding(total_cnt, 100, input_length=max_len))\n",
    "model_04.add(SpatialDropout1D(0.25))\n",
    "model_04.add(Bidirectional(GRU(128)))\n",
    "model_04.add(Dropout(0.5))\n",
    "\n",
    "model_04.add(Dense(3, activation='softmax'))\n",
    "model_04.summary()"
   ]
  },
  {
   "cell_type": "markdown",
   "id": "2c521534",
   "metadata": {},
   "source": [
    "### Bi LSTM (  )"
   ]
  },
  {
   "cell_type": "code",
   "execution_count": 316,
   "id": "b375b66e",
   "metadata": {
    "ExecuteTime": {
     "end_time": "2022-06-10T00:19:22.122580Z",
     "start_time": "2022-06-10T00:19:21.016539Z"
    }
   },
   "outputs": [
    {
     "name": "stdout",
     "output_type": "stream",
     "text": [
      "WARNING:tensorflow:Layer lstm_7 will not use cuDNN kernels since it doesn't meet the criteria. It will use a generic GPU kernel as fallback when running on GPU.\n",
      "WARNING:tensorflow:Layer lstm_7 will not use cuDNN kernels since it doesn't meet the criteria. It will use a generic GPU kernel as fallback when running on GPU.\n",
      "WARNING:tensorflow:Layer lstm_7 will not use cuDNN kernels since it doesn't meet the criteria. It will use a generic GPU kernel as fallback when running on GPU.\n",
      "WARNING:tensorflow:Layer gru_3 will not use cuDNN kernels since it doesn't meet the criteria. It will use a generic GPU kernel as fallback when running on GPU.\n",
      "Model: \"sequential_11\"\n",
      "_________________________________________________________________\n",
      "Layer (type)                 Output Shape              Param #   \n",
      "=================================================================\n",
      "embedding_9 (Embedding)      (None, 55, 100)           1566800   \n",
      "_________________________________________________________________\n",
      "bidirectional_3 (Bidirection (None, 55, 256)           234496    \n",
      "_________________________________________________________________\n",
      "gru_3 (GRU)                  (None, 64)                61824     \n",
      "_________________________________________________________________\n",
      "dense_12 (Dense)             (None, 64)                4160      \n",
      "_________________________________________________________________\n",
      "dropout_5 (Dropout)          (None, 64)                0         \n",
      "_________________________________________________________________\n",
      "dense_13 (Dense)             (None, 3)                 195       \n",
      "=================================================================\n",
      "Total params: 1,867,475\n",
      "Trainable params: 1,867,475\n",
      "Non-trainable params: 0\n",
      "_________________________________________________________________\n"
     ]
    }
   ],
   "source": [
    "model_05 = Sequential()\n",
    "\n",
    "model_05.add(Embedding(total_cnt, 100, input_length=max_len))\n",
    "model_05.add(Bidirectional(LSTM(128, dropout= 0.5, recurrent_dropout=0.5, return_sequences=True)))\n",
    "\n",
    "# model_05.add(Bidirectional(LSTM(128, dropout= 0.7, recurrent_dropout=0.7)))\n",
    "model_05.add(GRU(64))\n",
    "model_05.add(Dense(64, activation='relu'))\n",
    "model_05.add(Dropout(0.2))\n",
    "model_05.add(Dense(3, activation='softmax'))\n",
    "model_05.summary()"
   ]
  },
  {
   "cell_type": "code",
   "execution_count": 317,
   "id": "db7ab656",
   "metadata": {
    "ExecuteTime": {
     "end_time": "2022-06-10T00:19:22.137540Z",
     "start_time": "2022-06-10T00:19:22.123577Z"
    }
   },
   "outputs": [],
   "source": [
    "def learning(model):\n",
    "    es = EarlyStopping(monitor='val_loss', mode='min', verbose=1, patience=30)\n",
    "    mc = ModelCheckpoint('bilstm.h5', monitor='val_acc', mode='max', verbose=1, save_best_only=True)\n",
    "\n",
    "    # categorical_crossentropy / binary_crossentropy / mse / sparse_categorical_crossentropy\n",
    "    # softmax / sigmoid\n",
    "    model.compile(optimizer=rmsprop, loss='categorical_crossentropy', metrics=['accuracy'])# 0.002 학습률\n",
    "    history = model.fit(X_train, y_train, epochs=30, callbacks=[es, mc], batch_size=1024, validation_split = 0.2)\n",
    "    return history"
   ]
  },
  {
   "cell_type": "markdown",
   "id": "45ffcc5f",
   "metadata": {},
   "source": [
    "## 모델 성능 평가 및 저장\n",
    "\n",
    "- 과적합 : https://stackoverflow.com/questions/50615396/validation-loss-increasing\n",
    "- https://stackoverflow.com/questions/61342448/train-accuracy-increases-train-loss-is-stable-validation-loss-increases-valid"
   ]
  },
  {
   "cell_type": "code",
   "execution_count": null,
   "id": "02f0291b",
   "metadata": {
    "ExecuteTime": {
     "end_time": "2022-06-08T06:12:54.389878Z",
     "start_time": "2022-06-08T06:12:38.899Z"
    }
   },
   "outputs": [],
   "source": [
    "# model_num = model_05\n",
    "# history = learning(model_num)"
   ]
  },
  {
   "cell_type": "code",
   "execution_count": null,
   "id": "28e3d5c2",
   "metadata": {
    "ExecuteTime": {
     "end_time": "2022-06-08T06:12:54.390876Z",
     "start_time": "2022-06-08T06:12:38.902Z"
    }
   },
   "outputs": [],
   "source": [
    "# print('예측률 : {:.2f}%'.format(model_num.evaluate(X_test, y_test)[1] * 100))"
   ]
  },
  {
   "cell_type": "code",
   "execution_count": null,
   "id": "e20338d6",
   "metadata": {
    "ExecuteTime": {
     "end_time": "2022-06-08T06:12:54.390876Z",
     "start_time": "2022-06-08T06:12:38.905Z"
    }
   },
   "outputs": [],
   "source": [
    "# 모델 저장\n",
    "# model_num.save('./Model_Evaluation/Multiclass_model_01.h5')"
   ]
  },
  {
   "cell_type": "code",
   "execution_count": null,
   "id": "d6a2e47d",
   "metadata": {
    "ExecuteTime": {
     "end_time": "2022-06-08T06:12:54.391874Z",
     "start_time": "2022-06-08T06:12:38.908Z"
    }
   },
   "outputs": [],
   "source": [
    "# from keras.models import load_model\n",
    "# loaded_model = load_model('./HyperParameter_ModelLayer/LSTM_Sigmoid.h5')\n",
    "# print(\"\\n 테스트 정확도 : {:.2f}%%\".format(loaded_model.evaluate(X_test, y_test)[1] * 100))"
   ]
  },
  {
   "cell_type": "markdown",
   "id": "5f2e069c",
   "metadata": {},
   "source": [
    "## 데이터 학습 시각화\n",
    "\n",
    "- 오버피팅 : https://untitledtblog.tistory.com/158"
   ]
  },
  {
   "cell_type": "code",
   "execution_count": null,
   "id": "bdfd518c",
   "metadata": {
    "ExecuteTime": {
     "end_time": "2022-06-08T06:12:54.392871Z",
     "start_time": "2022-06-08T06:12:38.912Z"
    }
   },
   "outputs": [],
   "source": [
    "# hist_dict = history.history\n",
    "# loss = hist_dict['loss']\n",
    "# val_loss = hist_dict['val_loss']\n",
    "# acc = hist_dict['accuracy']\n",
    "# val_acc = hist_dict['val_accuracy']\n",
    "                \n",
    "# plt.plot(loss, 'b--', label = 'training loss')\n",
    "# plt.plot(val_loss, 'r:', label = 'validation loss')\n",
    "# plt.legend()\n",
    "# plt.grid()\n",
    "\n",
    "# plt.figure()\n",
    "# plt.plot(acc, 'b--', label='training accuracy')\n",
    "# plt.plot(val_acc, 'r:', label='validation accuracy')\n",
    "# plt.legend()\n",
    "# plt.grid()"
   ]
  },
  {
   "cell_type": "code",
   "execution_count": null,
   "id": "37934eda",
   "metadata": {
    "ExecuteTime": {
     "end_time": "2022-06-08T06:12:54.392871Z",
     "start_time": "2022-06-08T06:12:38.915Z"
    }
   },
   "outputs": [],
   "source": [
    "# predict = model_num.predict(X_test)"
   ]
  },
  {
   "cell_type": "code",
   "execution_count": null,
   "id": "2e6b1c41",
   "metadata": {
    "ExecuteTime": {
     "end_time": "2022-06-08T06:12:54.393869Z",
     "start_time": "2022-06-08T06:12:38.918Z"
    }
   },
   "outputs": [],
   "source": [
    "# predict_labels = np.argmax(predict, axis = 1)\n",
    "# original_labels = np.argmax(y_test, axis = 1)"
   ]
  },
  {
   "cell_type": "markdown",
   "id": "bff72e78",
   "metadata": {},
   "source": [
    "# 그래프 시각화"
   ]
  },
  {
   "cell_type": "markdown",
   "id": "d373af20",
   "metadata": {},
   "source": [
    "## 저장된 모델 불러오기 ( 다중 분류 3개이상 )"
   ]
  },
  {
   "cell_type": "code",
   "execution_count": 318,
   "id": "22b5ea81",
   "metadata": {
    "ExecuteTime": {
     "end_time": "2022-06-10T00:20:04.967960Z",
     "start_time": "2022-06-10T00:19:28.206304Z"
    }
   },
   "outputs": [
    {
     "name": "stdout",
     "output_type": "stream",
     "text": [
      "WARNING:tensorflow:Layer lstm_3 will not use cuDNN kernels since it doesn't meet the criteria. It will use a generic GPU kernel as fallback when running on GPU.\n",
      "WARNING:tensorflow:Layer lstm_3 will not use cuDNN kernels since it doesn't meet the criteria. It will use a generic GPU kernel as fallback when running on GPU.\n",
      "WARNING:tensorflow:Layer lstm_3 will not use cuDNN kernels since it doesn't meet the criteria. It will use a generic GPU kernel as fallback when running on GPU.\n",
      "WARNING:tensorflow:Layer gru_1 will not use cuDNN kernels since it doesn't meet the criteria. It will use a generic GPU kernel as fallback when running on GPU.\n"
     ]
    },
    {
     "name": "stderr",
     "output_type": "stream",
     "text": [
      "C:\\Users\\DGBDS\\AppData\\Roaming\\Python\\Python36\\site-packages\\keras\\engine\\training.py:2470: UserWarning: `Model.state_updates` will be removed in a future version. This property should not be used in TensorFlow 2.0, as `updates` are applied automatically.\n",
      "  warnings.warn('`Model.state_updates` will be removed in a future version. '\n"
     ]
    },
    {
     "name": "stdout",
     "output_type": "stream",
     "text": [
      "예측률 : 61.84%\n"
     ]
    }
   ],
   "source": [
    "from keras.models import load_model\n",
    "\n",
    "model_num = load_model('./Model_Evaluation/Multiclass_model_05_(61.84%).h5')\n",
    "print('예측률 : {:.2f}%'.format(model_num.evaluate(X_test, y_test)[1] * 100))"
   ]
  },
  {
   "cell_type": "code",
   "execution_count": 319,
   "id": "e30234be",
   "metadata": {
    "ExecuteTime": {
     "end_time": "2022-06-10T00:20:33.137600Z",
     "start_time": "2022-06-10T00:20:06.742214Z"
    }
   },
   "outputs": [],
   "source": [
    "predict = model_num.predict(X_test)\n",
    "predict_labels = np.argmax(predict, axis = 1)\n",
    "original_labels = np.argmax(y_test, axis = 1)"
   ]
  },
  {
   "cell_type": "markdown",
   "id": "c093888f",
   "metadata": {},
   "source": [
    "## 모델이 예측한 긍정 / 부정 / 중립 시각화\n",
    "\n",
    "- X_test 데이터에 대한 y_test 데이터로 평가한 결과 시각화\n",
    "- 시각화 전용 : df_Visualization 생성"
   ]
  },
  {
   "cell_type": "code",
   "execution_count": 320,
   "id": "77220d73",
   "metadata": {
    "ExecuteTime": {
     "end_time": "2022-06-10T00:20:37.640715Z",
     "start_time": "2022-06-10T00:20:37.630742Z"
    }
   },
   "outputs": [],
   "source": [
    "y_train = pd.get_dummies(x_train['label']).to_numpy()\n",
    "y_test = pd.get_dummies(x_test['label']).to_numpy()"
   ]
  },
  {
   "cell_type": "code",
   "execution_count": 321,
   "id": "f648775d",
   "metadata": {
    "ExecuteTime": {
     "end_time": "2022-06-10T00:20:37.791312Z",
     "start_time": "2022-06-10T00:20:37.783334Z"
    }
   },
   "outputs": [],
   "source": [
    "def change_idx(labels):\n",
    "    value_tmp = list()\n",
    "    for i in labels:\n",
    "        if i == 0:\n",
    "            value_tmp.append('부정')\n",
    "        if i == 1:\n",
    "            value_tmp.append('중립')\n",
    "        if i == 2:\n",
    "            value_tmp.append('긍정')\n",
    "    # idx_tmp = list(set(value_tmp))\n",
    "    return value_tmp # , idx_tmp"
   ]
  },
  {
   "cell_type": "code",
   "execution_count": 322,
   "id": "624bb3cb",
   "metadata": {
    "ExecuteTime": {
     "end_time": "2022-06-10T00:20:38.255622Z",
     "start_time": "2022-06-10T00:20:38.238667Z"
    }
   },
   "outputs": [],
   "source": [
    "# 0 -> 부정 / 1 -> 중립 / 2 -> 긍정으로 다시 변환 ( 시각화 )\n",
    "# original_labels.tolist().replace(0, '부정')"
   ]
  },
  {
   "cell_type": "code",
   "execution_count": 323,
   "id": "a4397750",
   "metadata": {
    "ExecuteTime": {
     "end_time": "2022-06-10T00:20:38.674506Z",
     "start_time": "2022-06-10T00:20:38.654560Z"
    }
   },
   "outputs": [],
   "source": [
    "r_value_tmp = change_idx(original_labels)\n",
    "\n",
    "ori_view = pd.Series(data = r_value_tmp)\n",
    "ori_view.sort_index(ascending=True, inplace=True)\n",
    "\n",
    "x = list(ori_view.keys())\n",
    "y = ori_view.values"
   ]
  },
  {
   "cell_type": "code",
   "execution_count": 324,
   "id": "7fda4648",
   "metadata": {
    "ExecuteTime": {
     "end_time": "2022-06-10T00:20:38.958745Z",
     "start_time": "2022-06-10T00:20:38.942788Z"
    }
   },
   "outputs": [],
   "source": [
    "p_value_tmp= change_idx(predict_labels)\n",
    "\n",
    "pre_view = pd.Series(data = p_value_tmp)\n",
    "pre_view.sort_index(ascending=True, inplace=True)\n",
    "\n",
    "w = list(pre_view.keys())\n",
    "z = pre_view.values"
   ]
  },
  {
   "cell_type": "code",
   "execution_count": 325,
   "id": "693e558d",
   "metadata": {
    "ExecuteTime": {
     "end_time": "2022-06-10T00:20:39.257945Z",
     "start_time": "2022-06-10T00:20:39.246974Z"
    }
   },
   "outputs": [],
   "source": [
    "df_Visualization = pd.DataFrame({'raw_label' : [0],\n",
    "                              'predict_label' : [0]}, index = range(len(predict_labels)))"
   ]
  },
  {
   "cell_type": "code",
   "execution_count": 326,
   "id": "728aa0b4",
   "metadata": {
    "ExecuteTime": {
     "end_time": "2022-06-10T00:20:39.587064Z",
     "start_time": "2022-06-10T00:20:39.567118Z"
    }
   },
   "outputs": [
    {
     "data": {
      "text/html": [
       "<div>\n",
       "<style scoped>\n",
       "    .dataframe tbody tr th:only-of-type {\n",
       "        vertical-align: middle;\n",
       "    }\n",
       "\n",
       "    .dataframe tbody tr th {\n",
       "        vertical-align: top;\n",
       "    }\n",
       "\n",
       "    .dataframe thead th {\n",
       "        text-align: right;\n",
       "    }\n",
       "</style>\n",
       "<table border=\"1\" class=\"dataframe\">\n",
       "  <thead>\n",
       "    <tr style=\"text-align: right;\">\n",
       "      <th></th>\n",
       "      <th>date</th>\n",
       "      <th>year</th>\n",
       "      <th>month</th>\n",
       "      <th>day</th>\n",
       "      <th>nouns_contents</th>\n",
       "      <th>label</th>\n",
       "    </tr>\n",
       "  </thead>\n",
       "  <tbody>\n",
       "    <tr>\n",
       "      <th>0</th>\n",
       "      <td>2020-07-16</td>\n",
       "      <td>2020</td>\n",
       "      <td>7</td>\n",
       "      <td>16</td>\n",
       "      <td>구미시 16일 구미 종합 사회 복지관 에서 대 적십자사 경상북도지사 회장 류 시문 ...</td>\n",
       "      <td>1</td>\n",
       "    </tr>\n",
       "    <tr>\n",
       "      <th>1</th>\n",
       "      <td>2020-05-28</td>\n",
       "      <td>2020</td>\n",
       "      <td>5</td>\n",
       "      <td>28</td>\n",
       "      <td>이번 지정 되다 서비스 SK 텔레콤 디지털 실명 확인 증표 기반 비대 실명 확인 서...</td>\n",
       "      <td>1</td>\n",
       "    </tr>\n",
       "    <tr>\n",
       "      <th>2</th>\n",
       "      <td>2019-08-29</td>\n",
       "      <td>2019</td>\n",
       "      <td>8</td>\n",
       "      <td>29</td>\n",
       "      <td>DGB 대 구 은행 종합 금융 그룹 을 향 100년 은행 지향 전문 분야 특화 위해...</td>\n",
       "      <td>0</td>\n",
       "    </tr>\n",
       "  </tbody>\n",
       "</table>\n",
       "</div>"
      ],
      "text/plain": [
       "         date  year  month  day  \\\n",
       "0  2020-07-16  2020      7   16   \n",
       "1  2020-05-28  2020      5   28   \n",
       "2  2019-08-29  2019      8   29   \n",
       "\n",
       "                                      nouns_contents  label  \n",
       "0  구미시 16일 구미 종합 사회 복지관 에서 대 적십자사 경상북도지사 회장 류 시문 ...      1  \n",
       "1  이번 지정 되다 서비스 SK 텔레콤 디지털 실명 확인 증표 기반 비대 실명 확인 서...      1  \n",
       "2  DGB 대 구 은행 종합 금융 그룹 을 향 100년 은행 지향 전문 분야 특화 위해...      0  "
      ]
     },
     "execution_count": 326,
     "metadata": {},
     "output_type": "execute_result"
    }
   ],
   "source": [
    "x_test.head(3)"
   ]
  },
  {
   "cell_type": "code",
   "execution_count": 327,
   "id": "438e7b89",
   "metadata": {
    "ExecuteTime": {
     "end_time": "2022-06-10T00:20:39.961065Z",
     "start_time": "2022-06-10T00:20:39.951091Z"
    }
   },
   "outputs": [],
   "source": [
    "df_Visualization.insert(0, 'date', x_test['date'], True)\n",
    "df_Visualization.insert(1, 'year', x_test['year'], True)\n",
    "df_Visualization.insert(2, 'month', x_test['month'], True)\n",
    "df_Visualization.insert(3, 'day', x_test['day'], True)\n",
    "df_Visualization.insert(4, 'nouns_contents', x_test['nouns_contents'], True)"
   ]
  },
  {
   "cell_type": "code",
   "execution_count": 328,
   "id": "d62210a3",
   "metadata": {
    "ExecuteTime": {
     "end_time": "2022-06-10T00:20:40.963383Z",
     "start_time": "2022-06-10T00:20:40.215385Z"
    }
   },
   "outputs": [],
   "source": [
    "idx = 0\n",
    "for i, j in zip(df_Visualization['raw_label'].index, df_Visualization['predict_label'].index):\n",
    "    # print(p_value_tmp[p_idx_tmp.index(i)])\n",
    "    df_Visualization['raw_label'][i] = r_value_tmp[i]\n",
    "    df_Visualization['predict_label'][j] = p_value_tmp[i]"
   ]
  },
  {
   "cell_type": "code",
   "execution_count": 329,
   "id": "8d1faf23",
   "metadata": {
    "ExecuteTime": {
     "end_time": "2022-06-10T00:20:40.978343Z",
     "start_time": "2022-06-10T00:20:40.964381Z"
    }
   },
   "outputs": [],
   "source": [
    "df_Visualization.sort_values('date', inplace = True)\n",
    "df_Visualization.reset_index(inplace=True)\n",
    "df_Visualization.drop(['index'], axis=1, inplace=True)"
   ]
  },
  {
   "cell_type": "markdown",
   "id": "b15237af",
   "metadata": {},
   "source": [
    "### [꺽은선 그래프] 월별 기사에 대한 예측 시각화 (테스트데이터 / 전체)\n",
    "\n",
    "- raw_data만 생성 /predict_data도 시각화\n",
    "- 추가적인 데이터가 들어올시 데이터 통합을 한 후 예측하면 됨."
   ]
  },
  {
   "cell_type": "code",
   "execution_count": 330,
   "id": "fc583639",
   "metadata": {
    "ExecuteTime": {
     "end_time": "2022-06-10T00:20:41.891103Z",
     "start_time": "2022-06-10T00:20:41.863148Z"
    }
   },
   "outputs": [
    {
     "name": "stdout",
     "output_type": "stream",
     "text": [
      "137 107 160 157 143 194 129 150 131 219 193 115 153 199 157 186 144 178 125 230 145 127 164 182 131 192 188 213 166 179 99 220 106 126 160 184 2 "
     ]
    },
    {
     "data": {
      "text/html": [
       "<div>\n",
       "<style scoped>\n",
       "    .dataframe tbody tr th:only-of-type {\n",
       "        vertical-align: middle;\n",
       "    }\n",
       "\n",
       "    .dataframe tbody tr th {\n",
       "        vertical-align: top;\n",
       "    }\n",
       "\n",
       "    .dataframe thead th {\n",
       "        text-align: right;\n",
       "    }\n",
       "</style>\n",
       "<table border=\"1\" class=\"dataframe\">\n",
       "  <thead>\n",
       "    <tr style=\"text-align: right;\">\n",
       "      <th></th>\n",
       "    </tr>\n",
       "  </thead>\n",
       "  <tbody>\n",
       "  </tbody>\n",
       "</table>\n",
       "</div>"
      ],
      "text/plain": [
       "Empty DataFrame\n",
       "Columns: []\n",
       "Index: []"
      ]
     },
     "execution_count": 330,
     "metadata": {},
     "output_type": "execute_result"
    }
   ],
   "source": [
    "from collections import defaultdict\n",
    "\n",
    "def func(x):\n",
    "    print(x.groupby('month')['raw_label'].count().tolist()[0],  end=' ')\n",
    "    return\n",
    "df_Visualization.groupby(['year', 'month']).apply(func)"
   ]
  },
  {
   "cell_type": "code",
   "execution_count": 331,
   "id": "6ea9c3b9",
   "metadata": {
    "ExecuteTime": {
     "end_time": "2022-06-10T00:20:42.265125Z",
     "start_time": "2022-06-10T00:20:42.255151Z"
    }
   },
   "outputs": [],
   "source": [
    "def decision(state_label):\n",
    "    global r_cnt1, r_cnt2, r_cnt3\n",
    "    \n",
    "    if state_label == '긍정':\n",
    "        r_cnt1 += 1\n",
    "    if state_label == '중립':\n",
    "        r_cnt2 += 1\n",
    "    if state_label == '부정':\n",
    "        r_cnt3 += 1\n",
    "\n",
    "def add_value(x, y, z):\n",
    "    global r_cnt1, r_cnt2, r_cnt3\n",
    "    x.append(r_cnt1)\n",
    "    y.append(r_cnt2)\n",
    "    z.append(r_cnt3)\n",
    "    r_cnt1, r_cnt2, r_cnt3 = 0, 0, 0"
   ]
  },
  {
   "cell_type": "code",
   "execution_count": 332,
   "id": "5316c87d",
   "metadata": {
    "ExecuteTime": {
     "end_time": "2022-06-10T00:20:42.968244Z",
     "start_time": "2022-06-10T00:20:42.951289Z"
    }
   },
   "outputs": [
    {
     "data": {
      "text/plain": [
       "0       긍정\n",
       "1       긍정\n",
       "2       긍정\n",
       "3       긍정\n",
       "4       긍정\n",
       "        ..\n",
       "5786    긍정\n",
       "5787    긍정\n",
       "5788    긍정\n",
       "5789    중립\n",
       "5790    중립\n",
       "Name: predict_label, Length: 5791, dtype: object"
      ]
     },
     "execution_count": 332,
     "metadata": {},
     "output_type": "execute_result"
    }
   ],
   "source": [
    "df_Visualization['predict_label']"
   ]
  },
  {
   "cell_type": "markdown",
   "id": "61e094b2",
   "metadata": {},
   "source": [
    "#### Predict Data 리스트"
   ]
  },
  {
   "cell_type": "code",
   "execution_count": 333,
   "id": "fad03c3b",
   "metadata": {
    "ExecuteTime": {
     "end_time": "2022-06-10T00:20:43.820963Z",
     "start_time": "2022-06-10T00:20:43.726216Z"
    }
   },
   "outputs": [
    {
     "name": "stdout",
     "output_type": "stream",
     "text": [
      "36 36 36\n"
     ]
    }
   ],
   "source": [
    "start_year = df_Visualization['year'][0]\n",
    "start_month = df_Visualization['month'][0]\n",
    "pos_pre, neg_pre, mid_pre = [], [], []\n",
    "r_cnt1, r_cnt2, r_cnt3 = 0, 0, 0\n",
    "# print('연도 : {}, 달 : {}'.format(start_year, start_month))\n",
    "for i in range(len(df_Visualization)):\n",
    "    if (df_Visualization['year'][i] == start_year):\n",
    "        if start_month == df_Visualization['month'][i]:\n",
    "            decision(df_Visualization['predict_label'][i])\n",
    "        else:\n",
    "            decision(df_Visualization['predict_label'][i])  # 하나의 데이터 누락 추가\n",
    "            start_month += 1\n",
    "            add_value(pos_pre, mid_pre, neg_pre)\n",
    "#             print('긍정 : {} 중립 : {} 부정 : {}'.format(pos_pre, mid_pre, neg_pre))\n",
    "#             print('달 : {}'.format(start_month))\n",
    "            \n",
    "    else: # 하나의 데이터 누락\n",
    "        if (r_cnt1 >= 0) and (r_cnt2 >= 0) and (r_cnt3 >= 0): # 전년도 12월 긍부정 갯수\n",
    "            add_value(pos_pre, mid_pre, neg_pre)\n",
    "            # print('긍정 : {} 중립 : {} 부정 : {}'.format(pos_pre, mid_pre, neg_pre))\n",
    "#         print()\n",
    "        start_year += 1\n",
    "        start_month = 1 # 1월로 초기화\n",
    "#         print('연도 : {}, 달 : {}'.format(start_year, start_month))\n",
    "\n",
    "print(len(pos_pre), len(mid_pre), len(neg_pre)) # 36개가 떠야함."
   ]
  },
  {
   "cell_type": "code",
   "execution_count": 334,
   "id": "66b08fbd",
   "metadata": {
    "ExecuteTime": {
     "end_time": "2022-06-10T00:20:44.494162Z",
     "start_time": "2022-06-10T00:20:44.479202Z"
    }
   },
   "outputs": [
    {
     "data": {
      "text/plain": [
       "[114, 94, 143, 115, 119]"
      ]
     },
     "execution_count": 334,
     "metadata": {},
     "output_type": "execute_result"
    }
   ],
   "source": [
    "pos_pre[:5]"
   ]
  },
  {
   "cell_type": "markdown",
   "id": "71a2a94d",
   "metadata": {},
   "source": [
    "#### Raw Data 리스트"
   ]
  },
  {
   "cell_type": "code",
   "execution_count": 335,
   "id": "d4e96c26",
   "metadata": {
    "ExecuteTime": {
     "end_time": "2022-06-10T00:20:45.242164Z",
     "start_time": "2022-06-10T00:20:45.150406Z"
    },
    "scrolled": true
   },
   "outputs": [
    {
     "name": "stdout",
     "output_type": "stream",
     "text": [
      "36 36 36\n"
     ]
    }
   ],
   "source": [
    "start_year = df_Visualization['year'][0]\n",
    "start_month = df_Visualization['month'][0]\n",
    "pos_raw, neg_raw, mid_raw = [], [], []\n",
    "r_cnt1, r_cnt2, r_cnt3 = 0, 0, 0\n",
    "# print('연도 : {}, 달 : {}'.format(start_year, start_month))\n",
    "for i in range(len(df_Visualization)):\n",
    "    if (df_Visualization['year'][i] == start_year):\n",
    "        if start_month == df_Visualization['month'][i]:\n",
    "            decision(df_Visualization['raw_label'][i])\n",
    "        else:\n",
    "            decision(df_Visualization['raw_label'][i])  # 하나의 데이터 누락 추가\n",
    "            start_month += 1\n",
    "            add_value(pos_raw, mid_raw, neg_raw)\n",
    "#             print('긍정 : {} 중립 : {} 부정 : {}'.format(pos_raw, mid_raw, neg_raw))\n",
    "#             print('달 : {}'.format(start_month))\n",
    "            \n",
    "    else: # 하나의 데이터 누락\n",
    "        if (r_cnt1 >= 0) and (r_cnt2 >= 0) and (r_cnt3 >= 0): # 전년도 12월 긍부정 갯수\n",
    "            add_value(pos_raw, mid_raw, neg_raw)\n",
    "            # print('긍정 : {} 중립 : {} 부정 : {}'.format(pos_raw, mid_raw, neg_raw))\n",
    "#         print()\n",
    "        start_year += 1\n",
    "        start_month = 1 # 1월로 초기화\n",
    "#         print('연도 : {}, 달 : {}'.format(start_year, start_month))\n",
    "\n",
    "print(len(pos_raw), len(mid_raw), len(neg_raw)) # 36개가 떠야함."
   ]
  },
  {
   "cell_type": "code",
   "execution_count": 336,
   "id": "4148f0dc",
   "metadata": {
    "ExecuteTime": {
     "end_time": "2022-06-10T00:20:45.601226Z",
     "start_time": "2022-06-10T00:20:45.582251Z"
    }
   },
   "outputs": [
    {
     "name": "stdout",
     "output_type": "stream",
     "text": [
      "['2019.05', '2019.06', '2019.07', '2019.08', '2019.09']\n",
      "['19.05', '19.06', '19.07', '19.08', '19.09']\n"
     ]
    }
   ],
   "source": [
    "last_year, last_month = map(int, df_Visualization['date'].tail(1).tolist()[0][:7].split('-'))\n",
    "# 2021년도부터 시작\n",
    "def next_date_get(y, x):\n",
    "    global last_date\n",
    "    year = y\n",
    "    for i in range(len(x)):\n",
    "        if (year == last_year) and (x[i] == last_month + 1):\n",
    "            return\n",
    "        if (x[i] % 12) != 0:\n",
    "            if x[i] < 10:\n",
    "                x.insert(i, '{}.0'.format(str(year)) + str(x.pop(i)))\n",
    "            else:\n",
    "                x.insert(i, '{}.'.format(str(year)) + str(x.pop(i)))\n",
    "        else:\n",
    "            x.insert(i, '{}.'.format(str(year)) + str(x.pop(i))) # 12월까지 카운트\n",
    "            year += 1 # 다음년도\n",
    "    return x\n",
    "\n",
    "x = []\n",
    "# 월별로 정렬이 되어 있으므로 21 ~ 22년도 사이 지정 해주어야 함.\n",
    "check_year = [False] * len(df_Visualization['year'].unique().tolist())\n",
    "\n",
    "y_unique = df_Visualization['year'].unique().tolist()\n",
    "for i in range(len(check_year)):\n",
    "    try: \n",
    "        x += next_date_get(y_unique[i], df_Visualization['month'].unique().tolist())\n",
    "    except TypeError:\n",
    "        break\n",
    "        \n",
    "tmp_a, tmp_b = df_Visualization.groupby('month')['date'].count().tolist()[4:], df_Visualization.groupby('month')['date'].count().tolist()[:4]\n",
    "y = tmp_a + tmp_b\n",
    "\n",
    "print(x[:5]) # 월\n",
    "# print('2021.05 ~ :', y) # 값\n",
    "for i in range(len(x)):\n",
    "    x[i] = x[i][2:] \n",
    "print(x[:5])\n",
    "date_range = x"
   ]
  },
  {
   "cell_type": "code",
   "execution_count": 339,
   "id": "b6423794",
   "metadata": {
    "ExecuteTime": {
     "end_time": "2022-06-10T00:23:40.720393Z",
     "start_time": "2022-06-10T00:23:14.168391Z"
    }
   },
   "outputs": [],
   "source": [
    "_eval = model_num.evaluate(X_test, y_test)[1] * 100"
   ]
  },
  {
   "cell_type": "markdown",
   "id": "bb42857b",
   "metadata": {},
   "source": [
    "#### 19.05 ~ 20.05"
   ]
  },
  {
   "cell_type": "code",
   "execution_count": 388,
   "id": "3fe13cab",
   "metadata": {
    "ExecuteTime": {
     "end_time": "2022-06-10T05:45:46.598031Z",
     "start_time": "2022-06-10T05:45:46.147236Z"
    }
   },
   "outputs": [
    {
     "data": {
      "image/png": "[encoded data removed]",
      "text/plain": [
       "<Figure size 1440x612 with 1 Axes>"
      ]
     },
     "metadata": {
      "needs_background": "light"
     },
     "output_type": "display_data"
    }
   ],
   "source": [
    "plt.figure(figsize=(20, 8.5))\n",
    "for i, v in enumerate(x[:13]):\n",
    "    plt.text(v, pos_raw[i], pos_raw[i],                 # 좌표 (x축 = v, y축 = y[0]..y[1], 표시 = y[0]..y[1])\n",
    "             fontsize = 12, color='blue',\n",
    "             horizontalalignment='center', verticalalignment='bottom')\n",
    "    \n",
    "    plt.text(v, neg_raw[i], neg_raw[i],                 # 좌표 (x축 = v, y축 = y[0]..y[1], 표시 = y[0]..y[1])\n",
    "             fontsize = 12, color='red', # orange\n",
    "             horizontalalignment='center', verticalalignment='bottom')\n",
    "    \n",
    "#     plt.text(v, mid_raw[i], mid_raw[i],\n",
    "#              fontsize = 12, color='green',\n",
    "#              horizontalalignment='center', verticalalignment='bottom')\n",
    "    \n",
    "    plt.text(v, pos_pre[i], pos_pre[i],\n",
    "             fontsize = 18, color='blue', # green\n",
    "             horizontalalignment='center', verticalalignment='bottom', fontweight= 'heavy')\n",
    "    \n",
    "    plt.text(v, neg_pre[i], neg_pre[i],\n",
    "             fontsize = 18, color='red',\n",
    "             horizontalalignment='center', verticalalignment='bottom', fontweight= 'heavy')\n",
    "    \n",
    "#     plt.text(v, mid_pre[i], mid_pre[i],\n",
    "#              fontsize = 18, color='green',\n",
    "#              horizontalalignment='center', verticalalignment='bottom', fontweight= 'heavy')\n",
    "\n",
    "plt.plot(date_range[:13], pos_raw[:13], label = '긍정')\n",
    "plt.plot(date_range[:13], neg_raw[:13], label = '부정')# , color='gray')\n",
    "# plt.plot(date_range, mid_raw, label = '중립')\n",
    "plt.plot(date_range[:13], pos_pre[:13], label = '긍정(예측)')\n",
    "plt.plot(date_range[:13], neg_pre[:13], label = '부정(예측)')\n",
    "# plt.plot(date_range, mid_pre, label = '중립(예측)')\n",
    "\n",
    "plt.title('MultiClass Classification (다중 분류 / 월별)', size = 25)\n",
    "plt.xticks(rotation = 0, fontsize = 17.5)\n",
    "plt.yticks(fontsize = 17.5)\n",
    "plt.xlabel('기간 : 2019.05.01 ~ 2022.04.30   /   전체 데이터 갯수 : {}개   /   모델 성능 : {:.2f}%'.format(len(df_Visualization), _eval), fontsize=20)\n",
    "plt.ylabel('Count', fontsize=20)\n",
    "# plt.legend(fontsize = 18, shadow=True, loc = 'best')\n",
    "\n",
    "# 이미지 저장\n",
    "plt.savefig('./최종산출물/Mutilclass_All_month_graph_19.05~20.05.jpg')\n",
    "plt.show()"
   ]
  },
  {
   "cell_type": "code",
   "execution_count": 376,
   "id": "973e4325",
   "metadata": {
    "ExecuteTime": {
     "end_time": "2022-06-10T04:07:01.322418Z",
     "start_time": "2022-06-10T04:07:00.260260Z"
    }
   },
   "outputs": [
    {
     "data": {
      "image/png": "[encoded data removed]",
      "text/plain": [
       "<Figure size 1872x1008 with 1 Axes>"
      ]
     },
     "metadata": {
      "needs_background": "light"
     },
     "output_type": "display_data"
    }
   ],
   "source": [
    "plt.figure(figsize=(26, 14))\n",
    "for i, v in enumerate(x):\n",
    "    plt.text(v, pos_raw[i], pos_raw[i],                 # 좌표 (x축 = v, y축 = y[0]..y[1], 표시 = y[0]..y[1])\n",
    "             fontsize = 12, color='blue',\n",
    "             horizontalalignment='center', verticalalignment='bottom')\n",
    "    \n",
    "    plt.text(v, neg_raw[i], neg_raw[i],                 # 좌표 (x축 = v, y축 = y[0]..y[1], 표시 = y[0]..y[1])\n",
    "             fontsize = 12, color='red', # orange\n",
    "             horizontalalignment='center', verticalalignment='bottom')\n",
    "    \n",
    "#     plt.text(v, mid_raw[i], mid_raw[i],\n",
    "#              fontsize = 12, color='green',\n",
    "#              horizontalalignment='center', verticalalignment='bottom')\n",
    "    \n",
    "    plt.text(v, pos_pre[i], pos_pre[i],\n",
    "             fontsize = 18, color='blue', # green\n",
    "             horizontalalignment='center', verticalalignment='bottom', fontweight= 'heavy')\n",
    "    \n",
    "    plt.text(v, neg_pre[i], neg_pre[i],\n",
    "             fontsize = 18, color='red',\n",
    "             horizontalalignment='center', verticalalignment='bottom', fontweight= 'heavy')\n",
    "    \n",
    "#     plt.text(v, mid_pre[i], mid_pre[i],\n",
    "#              fontsize = 18, color='green',\n",
    "#              horizontalalignment='center', verticalalignment='bottom', fontweight= 'heavy')\n",
    "\n",
    "plt.plot(date_range, pos_raw, label = '긍정')\n",
    "plt.plot(date_range, neg_raw, label = '부정')# , color='gray')\n",
    "# plt.plot(date_range, mid_raw, label = '중립')\n",
    "plt.plot(date_range, pos_pre, label = '긍정(예측)')\n",
    "plt.plot(date_range, neg_pre, label = '부정(예측)')\n",
    "# plt.plot(date_range, mid_pre, label = '중립(예측)')\n",
    "\n",
    "plt.title('월별 긍부정 추이 예측 시각화', size = 25)\n",
    "plt.xticks(rotation = 45, fontsize = 15)\n",
    "plt.yticks(fontsize = 15)\n",
    "plt.xlabel('기간 : 2019.05.01 ~ 2022.04.30   /   전체 데이터 갯수 : {}개   /   모델 성능 : {:.2f}%'.format(len(df_Visualization), _eval), fontsize=20)\n",
    "plt.ylabel('Count', fontsize=20)\n",
    "plt.legend(fontsize = 20, shadow=True, loc = 'best')\n",
    "\n",
    "# 이미지 저장\n",
    "plt.savefig('./최종산출물/Mutilclass_All_month_graph.jpg')\n",
    "plt.show()"
   ]
  },
  {
   "cell_type": "code",
   "execution_count": 341,
   "id": "290c99dd",
   "metadata": {
    "ExecuteTime": {
     "end_time": "2022-06-10T00:23:51.147866Z",
     "start_time": "2022-06-10T00:23:51.100992Z"
    }
   },
   "outputs": [],
   "source": [
    "df_Visualization.to_csv('./최종산출물/Final_DataSet(Mutilclass).csv')"
   ]
  },
  {
   "cell_type": "markdown",
   "id": "7813c9b2",
   "metadata": {},
   "source": [
    "## 주간별 그래프 ( 특정 월 선택 )\n",
    "\n",
    "- 선택날짜 기준 긍정 부정 중립 갯수 시각화"
   ]
  },
  {
   "cell_type": "code",
   "execution_count": 359,
   "id": "be81f8b3",
   "metadata": {
    "ExecuteTime": {
     "end_time": "2022-06-10T00:36:27.533192Z",
     "start_time": "2022-06-10T00:36:27.501251Z"
    }
   },
   "outputs": [
    {
     "name": "stdout",
     "output_type": "stream",
     "text": [
      "02-16 04-29 389\n"
     ]
    }
   ],
   "source": [
    "import datetime, timedelta\n",
    "\n",
    "# start = datetime.datetime.strptime(input(), '%Y-%m-%d')\n",
    "input_date = '2022-04-29'\n",
    "start = datetime.datetime.strptime(input_date, '%Y-%m-%d') # 시작 날짜\n",
    "\n",
    "date_list = [] #날짜 배열\n",
    "pos_org_list = [] #긍정 배열(원본)\n",
    "neg_org_list = [] #부정 배열(원본)\n",
    "mid_org_list = [] #중립 배열(원본)\n",
    "\n",
    "pos_list = [] #긍정 배열(예측)\n",
    "neg_list = [] #부정 배열(예측)\n",
    "mid_list = [] #중립 배열(예측)\n",
    "\n",
    "total = 0 #데이터 개수\n",
    "week_cnt = 10 # 몇주 뽑을건지\n",
    "\n",
    "for k in range(week_cnt): \n",
    "    before_one_week = start - datetime.timedelta(weeks=1)\n",
    "    df_select_month = df_Visualization[('{}'.format(before_one_week) <= df_Visualization['date']) & (df_Visualization['date'] <= '{}'.format(start))]\n",
    "\n",
    "    pos_org_week = 0 #긍정 개수(원본)\n",
    "    neg_org_week = 0 #부정 개수(원본)\n",
    "    mid_org_week = 0 #중립 개수(원본)\n",
    "    \n",
    "    pos_week = 0 #긍정 개수(예측)\n",
    "    neg_week = 0 #부정 개수(예측)\n",
    "    mid_week = 0 #중립 개수(예측)\n",
    "\n",
    "    for i in df_select_month['predict_label']:\n",
    "        if i == '긍정':\n",
    "            pos_week += 1\n",
    "        elif i == '부정':\n",
    "            neg_week += 1\n",
    "        else :    \n",
    "            mid_week += 1\n",
    "            \n",
    "    for i in df_select_month['raw_label']:\n",
    "        if i == '긍정':\n",
    "            pos_org_week += 1\n",
    "        elif i == '부정':\n",
    "            neg_org_week += 1\n",
    "        else :    \n",
    "            mid_org_week += 1        \n",
    "    \n",
    "    date_str = str(start)[5:10]\n",
    "    start = before_one_week - datetime.timedelta(days=1)\n",
    "\n",
    "    pos_org_list.insert(0, pos_org_week)\n",
    "    neg_org_list.insert(0, neg_org_week)\n",
    "    mid_org_list.insert(0, mid_org_week)\n",
    "    \n",
    "    date_list.insert(0, date_str)\n",
    "    pos_list.insert(0, pos_week)\n",
    "    neg_list.insert(0, neg_week)\n",
    "    mid_list.insert(0, mid_week)\n",
    "    \n",
    "    total = total + len(df_select_month)\n",
    "print(date_list[0], date_list[-1], total)"
   ]
  },
  {
   "cell_type": "code",
   "execution_count": 361,
   "id": "b8f2f571",
   "metadata": {
    "ExecuteTime": {
     "end_time": "2022-06-10T00:36:32.082197Z",
     "start_time": "2022-06-10T00:36:31.876747Z"
    }
   },
   "outputs": [
    {
     "data": {
      "image/png": "[encoded data removed]",
      "text/plain": [
       "<Figure size 1296x432 with 1 Axes>"
      ]
     },
     "metadata": {
      "needs_background": "light"
     },
     "output_type": "display_data"
    }
   ],
   "source": [
    "plt.figure(figsize=(18, 6))\n",
    "plt.title('주별 긍부정 추이 예측 시각화', size = 15)\n",
    "plt.plot(date_list, pos_list, label = '긍정(예측)')\n",
    "plt.plot(date_list, neg_list, label = '부정(예측)')\n",
    "#plt.plot(date_list, mid_list, label = '중립(예측)')\n",
    "\n",
    "plt.plot(date_list, pos_org_list, label = '긍정(원본)')\n",
    "plt.plot(date_list, neg_org_list, label = '부정(원본)')\n",
    "#plt.plot(date_list, mid_org_list, label = '중립(원본)')\n",
    "\n",
    "plt.xticks(rotation = 0, fontsize = 15)\n",
    "plt.yticks(fontsize = 15)\n",
    "plt.xlabel('기간 : 2022-{} ~ 2022-{}   /   전체 데이터 갯수 : {}   /   모델 성능 : {:.2f} % '.format(date_list[0], date_list[-1], total, _eval), fontsize = 20)\n",
    "plt.ylabel('Count', fontsize=20)\n",
    "plt.legend(fontsize = 12, shadow=True, loc = 'best')\n",
    "\n",
    "plt.savefig('./최종산출물/Mutilclass_week_graph.jpg')\n",
    "plt.show()"
   ]
  },
  {
   "cell_type": "markdown",
   "id": "5ad1566f",
   "metadata": {},
   "source": [
    "## [막대 그래프] 전체 데이터에 대한 예측 시각화 (테스트데이터)"
   ]
  },
  {
   "cell_type": "code",
   "execution_count": 219,
   "id": "ddd5e6d2",
   "metadata": {
    "ExecuteTime": {
     "end_time": "2022-06-08T07:38:44.280369Z",
     "start_time": "2022-06-08T07:38:44.267404Z"
    }
   },
   "outputs": [],
   "source": [
    "df_Visualization_Total = df_Visualization.copy()"
   ]
  },
  {
   "cell_type": "code",
   "execution_count": 220,
   "id": "acbeda53",
   "metadata": {
    "ExecuteTime": {
     "end_time": "2022-06-08T07:38:44.295332Z",
     "start_time": "2022-06-08T07:38:44.282365Z"
    }
   },
   "outputs": [],
   "source": [
    "def change_idx(labels):\n",
    "    idx_tmp = list()\n",
    "    value_tmp = list()\n",
    "    for i in pd.Series(labels).unique():\n",
    "        if i == 0:\n",
    "            idx_tmp.append('부정')\n",
    "        if i == 1:\n",
    "            idx_tmp.append('중립')\n",
    "        if i == 2:\n",
    "            idx_tmp.append('긍정')\n",
    "        value_tmp.append(list(labels).count(i))\n",
    "    return value_tmp, idx_tmp"
   ]
  },
  {
   "cell_type": "code",
   "execution_count": 221,
   "id": "d1031599",
   "metadata": {
    "ExecuteTime": {
     "end_time": "2022-06-08T07:38:44.310289Z",
     "start_time": "2022-06-08T07:38:44.297325Z"
    }
   },
   "outputs": [],
   "source": [
    "r_value_tmp, r_idx_tmp = change_idx(original_labels)\n",
    "ori_view = pd.Series(data = r_value_tmp, index = r_idx_tmp)\n",
    "ori_view.sort_index(ascending=True, inplace=True)\n",
    "\n",
    "x = list(ori_view.keys())\n",
    "y = ori_view.values"
   ]
  },
  {
   "cell_type": "code",
   "execution_count": 222,
   "id": "3bcea8cd",
   "metadata": {
    "ExecuteTime": {
     "end_time": "2022-06-08T07:38:44.325253Z",
     "start_time": "2022-06-08T07:38:44.311287Z"
    }
   },
   "outputs": [],
   "source": [
    "p_value_tmp, p_idx_tmp = change_idx(predict_labels)\n",
    "pre_view = pd.Series(data = p_value_tmp, index = p_idx_tmp)\n",
    "pre_view.sort_index(ascending=True, inplace=True)\n",
    "\n",
    "w = list(pre_view.keys())\n",
    "z = pre_view.values"
   ]
  },
  {
   "cell_type": "code",
   "execution_count": 223,
   "id": "952a2625",
   "metadata": {
    "ExecuteTime": {
     "end_time": "2022-06-08T07:38:44.340213Z",
     "start_time": "2022-06-08T07:38:44.326247Z"
    }
   },
   "outputs": [],
   "source": [
    "df_Visualization_Total = pd.DataFrame({'raw_label' : 0,\n",
    "              'predict_label' : 0}, index = ['긍정', '부정', '중립'])"
   ]
  },
  {
   "cell_type": "code",
   "execution_count": 224,
   "id": "222e5b59",
   "metadata": {
    "ExecuteTime": {
     "end_time": "2022-06-08T07:38:44.355173Z",
     "start_time": "2022-06-08T07:38:44.341206Z"
    }
   },
   "outputs": [],
   "source": [
    "idx = 0\n",
    "for i, j in zip(df_Visualization_Total['raw_label'].index, df_Visualization_Total['predict_label'].index):\n",
    "    # print(p_value_tmp[p_idx_tmp.index(i)])\n",
    "    df_Visualization_Total['raw_label'][i] = r_value_tmp[r_idx_tmp.index(i)]\n",
    "    df_Visualization_Total['predict_label'][j] = p_value_tmp[p_idx_tmp.index(i)]\n",
    "\n",
    "# df_Visualization_Total['raw_label']['전체'] = len(df_Visualization['raw_label'])\n",
    "# df_Visualization_Total['predict_label']['전체'] = len(df_Visualization['predict_label'])"
   ]
  },
  {
   "cell_type": "code",
   "execution_count": 225,
   "id": "40eb7bc6",
   "metadata": {
    "ExecuteTime": {
     "end_time": "2022-06-08T07:38:44.370129Z",
     "start_time": "2022-06-08T07:38:44.356167Z"
    }
   },
   "outputs": [
    {
     "data": {
      "text/html": [
       "<div>\n",
       "<style scoped>\n",
       "    .dataframe tbody tr th:only-of-type {\n",
       "        vertical-align: middle;\n",
       "    }\n",
       "\n",
       "    .dataframe tbody tr th {\n",
       "        vertical-align: top;\n",
       "    }\n",
       "\n",
       "    .dataframe thead th {\n",
       "        text-align: right;\n",
       "    }\n",
       "</style>\n",
       "<table border=\"1\" class=\"dataframe\">\n",
       "  <thead>\n",
       "    <tr style=\"text-align: right;\">\n",
       "      <th></th>\n",
       "      <th>raw_label</th>\n",
       "      <th>predict_label</th>\n",
       "    </tr>\n",
       "  </thead>\n",
       "  <tbody>\n",
       "    <tr>\n",
       "      <th>긍정</th>\n",
       "      <td>4139</td>\n",
       "      <td>4734</td>\n",
       "    </tr>\n",
       "    <tr>\n",
       "      <th>부정</th>\n",
       "      <td>421</td>\n",
       "      <td>276</td>\n",
       "    </tr>\n",
       "    <tr>\n",
       "      <th>중립</th>\n",
       "      <td>1231</td>\n",
       "      <td>781</td>\n",
       "    </tr>\n",
       "  </tbody>\n",
       "</table>\n",
       "</div>"
      ],
      "text/plain": [
       "    raw_label  predict_label\n",
       "긍정       4139           4734\n",
       "부정        421            276\n",
       "중립       1231            781"
      ]
     },
     "execution_count": 225,
     "metadata": {},
     "output_type": "execute_result"
    }
   ],
   "source": [
    "df_Visualization_Total"
   ]
  },
  {
   "cell_type": "code",
   "execution_count": 344,
   "id": "376e96e4",
   "metadata": {
    "ExecuteTime": {
     "end_time": "2022-06-10T00:25:57.871851Z",
     "start_time": "2022-06-10T00:25:57.854894Z"
    },
    "scrolled": true
   },
   "outputs": [
    {
     "name": "stdout",
     "output_type": "stream",
     "text": [
      "테스트 데이터 셋 예측\n",
      "긍정 : 85.62 %\n",
      "부정 : 65.56 %\n",
      "중립 : 63.44 %\n"
     ]
    }
   ],
   "source": [
    "print('테스트 데이터 셋 예측')\n",
    "Calculation = list(df_Visualization_Total['predict_label'] / df_Visualization_Total['raw_label'])\n",
    "res = list()\n",
    "row = list(df_Visualization_Total.index)\n",
    "for idx in range(len(Calculation)):\n",
    "    print('{} :'.format(row[idx]), end=' ')\n",
    "    if Calculation[idx] > 1:\n",
    "        print('{:.2f} %'.format((2 - Calculation[idx]) * 100))\n",
    "        res.append((2 - Calculation[idx]) * 100)\n",
    "    else:\n",
    "        print('{:.2f} %'.format(Calculation[idx] * 100))\n",
    "        res.append(Calculation[idx] * 100)"
   ]
  },
  {
   "cell_type": "code",
   "execution_count": 372,
   "id": "b20efe4c",
   "metadata": {
    "ExecuteTime": {
     "end_time": "2022-06-10T01:52:43.861920Z",
     "start_time": "2022-06-10T01:52:43.687387Z"
    },
    "scrolled": false
   },
   "outputs": [
    {
     "data": {
      "image/png": "[encoded data removed]",
      "text/plain": [
       "<Figure size 720x576 with 1 Axes>"
      ]
     },
     "metadata": {
      "needs_background": "light"
     },
     "output_type": "display_data"
    }
   ],
   "source": [
    "ax = df_Visualization_Total.plot(kind = 'bar', figsize = (10, 8), fontsize=14, rot=0)\n",
    "graph_value = list(df_Visualization_Total['raw_label']) + list(df_Visualization_Total['predict_label']) + list(['end'])\n",
    "jump = 0\n",
    "for p in ax.patches:\n",
    "    left, bottom, width, height = p.get_bbox().bounds\n",
    "    if jump < 3:\n",
    "        ax.annotate('{}'.format(graph_value.pop(0)), (left+width/2, height*1.01), ha='center', color = 'black', fontsize = 16)\n",
    "    else:\n",
    "        ax.annotate('{}'.format(graph_value.pop(0)), (left+width/2, height*1.01), ha='center', color = 'red', fontsize = 16)\n",
    "    jump += 1\n",
    "\n",
    "# plt.title(\"긍정 / 부정 / 중립 예측률\", size = 16)\n",
    "# plt.ylim(0, max(max(y), max(z)) + 100)\n",
    "plt.xlabel('{:.2f}%    /    {:.2f}%    /    {:.2f}%'.format(res[0], res[1], res[2]), fontsize = 20)\n",
    "plt.rc('legend', fontsize=16)  # 범례 폰트 크기\n",
    "plt.xticks(rotation = 0, fontsize = 20)\n",
    "plt.yticks(fontsize = 20)\n",
    "plt.legend(fontsize = 20, shadow=True, loc = 'best')\n",
    "plt.title('MultiClass Classification (다중 분류)', size = 22)\n",
    "plt.savefig('./최종산출물/Mutilclass_AllData.jpg')\n",
    "plt.show()"
   ]
  }
 ],
 "metadata": {
  "kernelspec": {
   "display_name": "Proj",
   "language": "python",
   "name": "intern_project"
  },
  "language_info": {
   "codemirror_mode": {
    "name": "ipython",
    "version": 3
   },
   "file_extension": ".py",
   "mimetype": "text/x-python",
   "name": "python",
   "nbconvert_exporter": "python",
   "pygments_lexer": "ipython3",
   "version": "3.6.13"
  },
  "toc": {
   "base_numbering": 1,
   "nav_menu": {},
   "number_sections": true,
   "sideBar": true,
   "skip_h1_title": false,
   "title_cell": "Table of Contents",
   "title_sidebar": "Contents",
   "toc_cell": false,
   "toc_position": {
    "height": "calc(100% - 180px)",
    "left": "10px",
    "top": "150px",
    "width": "233.2px"
   },
   "toc_section_display": true,
   "toc_window_display": true
  }
 },
 "nbformat": 4,
 "nbformat_minor": 5
}
