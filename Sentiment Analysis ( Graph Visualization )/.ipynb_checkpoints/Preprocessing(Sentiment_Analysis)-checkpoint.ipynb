{
 "cells": [
  {
   "cell_type": "markdown",
   "id": "9cff7e3a",
   "metadata": {},
   "source": [
    "\n",
    "**참고자료**\n",
    "<br>\n",
    "<br>\n",
    " * https://somjang.tistory.com/entry/Keras%EA%B8%B0%EC%82%AC-%EC%A0%9C%EB%AA%A9%EC%9D%84-%EA%B0%80%EC%A7%80%EA%B3%A0-%EA%B8%8D%EC%A0%95-%EB%B6%80%EC%A0%95-%EC%A4%91%EB%A6%BD-%EB%B6%84%EB%A5%98%ED%95%98%EB%8A%94-%EB%AA%A8%EB%8D%B8-%EB%A7%8C%EB%93%A4%EC%96%B4%EB%B3%B4%EA%B8%B0\n",
    "<br>\n",
    "<br>\n",
    " * https://sig413.tistory.com/5\n",
    "<br>\n",
    "<br>\n",
    " * https://www.youtube.com/watch?v=7GUoDHxN5NM"
   ]
  },
  {
   "cell_type": "markdown",
   "id": "746e088d",
   "metadata": {},
   "source": [
    "# 네이버 기사 감정 분석\n",
    "\n",
    "## 데이터 불러오기\n",
    "<br>\n",
    "\n",
    "**데이터 특성 정의( 각각의 데이터가 어떤 특성을 가지는지? )**\n",
    "\n",
    "    ▶ date : 등록된 기사별 날짜\n",
    "    ▶ title : 기사 제목\n",
    "    ▶ source : 언론사\n",
    "    ▶ contents : 기사 내용 요약본\n",
    "    ▶ link : 사이트 주소\n",
    "\n",
    "※ : 네이버 뉴스 기준으로 Test... ( 구글 뉴스데이터와 병합해서 전처리 실시 예정 )"
   ]
  },
  {
   "cell_type": "code",
   "execution_count": 1,
   "id": "a2be10e9",
   "metadata": {
    "ExecuteTime": {
     "end_time": "2022-06-03T01:37:49.179086Z",
     "start_time": "2022-06-03T01:37:47.890504Z"
    },
    "scrolled": true
   },
   "outputs": [],
   "source": [
    "import pandas as pd\n",
    "import numpy as np\n",
    "import matplotlib\n",
    "import datetime, time\n",
    "import re\n",
    "import timedelta\n",
    "import matplotlib.pyplot as plt\n",
    "import seaborn as sns"
   ]
  },
  {
   "cell_type": "code",
   "execution_count": 2,
   "id": "f441fef5",
   "metadata": {
    "ExecuteTime": {
     "end_time": "2022-06-03T01:37:49.194047Z",
     "start_time": "2022-06-03T01:37:49.180056Z"
    }
   },
   "outputs": [],
   "source": [
    "# 시각화 글자 깨짐 방지\n",
    "import os\n",
    "\n",
    "if os.name == 'posix':\n",
    "    plt.rc(\"font\", family=\"Malgun Gothic\")\n",
    "else:\n",
    "    plt.rc(\"font\", family=\"Malgun Gothic\")"
   ]
  },
  {
   "cell_type": "code",
   "execution_count": 3,
   "id": "f4ffc5a8",
   "metadata": {
    "ExecuteTime": {
     "end_time": "2022-06-03T01:37:49.343618Z",
     "start_time": "2022-06-03T01:37:49.195016Z"
    }
   },
   "outputs": [
    {
     "name": "stdout",
     "output_type": "stream",
     "text": [
      "(24010, 5)\n"
     ]
    },
    {
     "data": {
      "text/html": [
       "<div>\n",
       "<style scoped>\n",
       "    .dataframe tbody tr th:only-of-type {\n",
       "        vertical-align: middle;\n",
       "    }\n",
       "\n",
       "    .dataframe tbody tr th {\n",
       "        vertical-align: top;\n",
       "    }\n",
       "\n",
       "    .dataframe thead th {\n",
       "        text-align: right;\n",
       "    }\n",
       "</style>\n",
       "<table border=\"1\" class=\"dataframe\">\n",
       "  <thead>\n",
       "    <tr style=\"text-align: right;\">\n",
       "      <th></th>\n",
       "      <th>Unnamed: 0</th>\n",
       "      <th>date</th>\n",
       "      <th>title</th>\n",
       "      <th>press</th>\n",
       "      <th>contents</th>\n",
       "    </tr>\n",
       "  </thead>\n",
       "  <tbody>\n",
       "    <tr>\n",
       "      <th>0</th>\n",
       "      <td>0</td>\n",
       "      <td>2019.05.01.</td>\n",
       "      <td>DGB 대구은행파크 건설에 뒷돈?…경찰, 대구 건설본부 압색</td>\n",
       "      <td>노컷뉴스</td>\n",
       "      <td>프로축구 대구 FC 전용구장인 DGB 대구은행파크를 건설하는 과정에 금품이 오갔다는...</td>\n",
       "    </tr>\n",
       "  </tbody>\n",
       "</table>\n",
       "</div>"
      ],
      "text/plain": [
       "   Unnamed: 0         date                              title press  \\\n",
       "0           0  2019.05.01.  DGB 대구은행파크 건설에 뒷돈?…경찰, 대구 건설본부 압색  노컷뉴스   \n",
       "\n",
       "                                            contents  \n",
       "0  프로축구 대구 FC 전용구장인 DGB 대구은행파크를 건설하는 과정에 금품이 오갔다는...  "
      ]
     },
     "execution_count": 3,
     "metadata": {},
     "output_type": "execute_result"
    }
   ],
   "source": [
    "matplotlib.rc('font',family='NanumGothic')\n",
    "\n",
    "# 한글 폰트 적용\n",
    "matplotlib.rc('axes', unicode_minus = False) # True\n",
    "\n",
    "# 2022 / 04 / 21 일자 스크래핑 데이터\n",
    "# df_news = pd.read_csv('./news_data.csv', engine= 'python',encoding = 'utf-8')\n",
    "df_news = pd.read_csv('./Data_Set/2019.05.01~2022.05.01_DGB대구은행.csv', engine= 'python',encoding = 'utf-8')\n",
    "\n",
    "# (행, 열)\n",
    "print(df_news.shape)\n",
    "df_news.head(1)"
   ]
  },
  {
   "cell_type": "code",
   "execution_count": 4,
   "id": "eb89b858",
   "metadata": {
    "ExecuteTime": {
     "end_time": "2022-06-03T01:37:49.358578Z",
     "start_time": "2022-06-03T01:37:49.344615Z"
    },
    "scrolled": true
   },
   "outputs": [
    {
     "name": "stdout",
     "output_type": "stream",
     "text": [
      "<class 'pandas.core.frame.DataFrame'>\n",
      "RangeIndex: 24010 entries, 0 to 24009\n",
      "Data columns (total 5 columns):\n",
      " #   Column      Non-Null Count  Dtype \n",
      "---  ------      --------------  ----- \n",
      " 0   Unnamed: 0  24010 non-null  int64 \n",
      " 1   date        24010 non-null  object\n",
      " 2   title       24010 non-null  object\n",
      " 3   press       24010 non-null  object\n",
      " 4   contents    24010 non-null  object\n",
      "dtypes: int64(1), object(4)\n",
      "memory usage: 938.0+ KB\n"
     ]
    }
   ],
   "source": [
    "# 데이터 구조 파악시 용이\n",
    "df_news.info()"
   ]
  },
  {
   "cell_type": "markdown",
   "id": "88a27fb0",
   "metadata": {},
   "source": [
    "# 데이터 전처리"
   ]
  },
  {
   "cell_type": "markdown",
   "id": "580d9198",
   "metadata": {},
   "source": [
    "## 이상치와 결측치 제거 / 데이터 특성(구조) 확인\n",
    "    ▶ 필요없는 컬럼 제거\n",
    "    ▶ 컬럼명과 순서 변경 \n",
    "    ▶ 데이터 구조 파악 - info, head\n",
    "    \n",
    "    ▶ 우선 'DGB대구은행'과 필요없는 언론사는 버리고 인덱스번호도 초기화 시켜야 함.\n",
    "    예를 들면, 축구관련 기사\n",
    "\n",
    "    제목과 요약본 기준\n",
    "    '감독' / '신태용' / 'DGB대구은행파크' / '대표팀' / '경기' / '스포츠' / '축구'\n",
    "    참고 사이트 : https://jimmy-ai.tistory.com/92\n",
    "※ : 수치별 데이터가 아니므로 이상치는 굳이 확인할 필요가 없다고 판단"
   ]
  },
  {
   "cell_type": "code",
   "execution_count": 5,
   "id": "9372f5e9",
   "metadata": {
    "ExecuteTime": {
     "end_time": "2022-06-03T01:37:49.373537Z",
     "start_time": "2022-06-03T01:37:49.359576Z"
    }
   },
   "outputs": [],
   "source": [
    "# 필요한 데이터만 추출 / 컬럼명 변경\n",
    "\n",
    "df_news = df_news.loc[:,['date', 'title', 'press', 'contents']]\n",
    "df_news.rename(columns={'source' : 'press'}, inplace=True)"
   ]
  },
  {
   "cell_type": "code",
   "execution_count": 6,
   "id": "0f4202a2",
   "metadata": {
    "ExecuteTime": {
     "end_time": "2022-06-03T01:37:49.388533Z",
     "start_time": "2022-06-03T01:37:49.374536Z"
    }
   },
   "outputs": [
    {
     "name": "stdout",
     "output_type": "stream",
     "text": [
      "<class 'pandas.core.frame.DataFrame'>\n",
      "RangeIndex: 24010 entries, 0 to 24009\n",
      "Data columns (total 4 columns):\n",
      " #   Column    Non-Null Count  Dtype \n",
      "---  ------    --------------  ----- \n",
      " 0   date      24010 non-null  object\n",
      " 1   title     24010 non-null  object\n",
      " 2   press     24010 non-null  object\n",
      " 3   contents  24010 non-null  object\n",
      "dtypes: object(4)\n",
      "memory usage: 750.4+ KB\n"
     ]
    }
   ],
   "source": [
    "df_news.info()"
   ]
  },
  {
   "cell_type": "code",
   "execution_count": 7,
   "id": "92d67a0c",
   "metadata": {
    "ExecuteTime": {
     "end_time": "2022-06-03T01:37:49.403457Z",
     "start_time": "2022-06-03T01:37:49.389496Z"
    },
    "scrolled": true
   },
   "outputs": [
    {
     "data": {
      "text/html": [
       "<div>\n",
       "<style scoped>\n",
       "    .dataframe tbody tr th:only-of-type {\n",
       "        vertical-align: middle;\n",
       "    }\n",
       "\n",
       "    .dataframe tbody tr th {\n",
       "        vertical-align: top;\n",
       "    }\n",
       "\n",
       "    .dataframe thead th {\n",
       "        text-align: right;\n",
       "    }\n",
       "</style>\n",
       "<table border=\"1\" class=\"dataframe\">\n",
       "  <thead>\n",
       "    <tr style=\"text-align: right;\">\n",
       "      <th></th>\n",
       "      <th>date</th>\n",
       "      <th>title</th>\n",
       "      <th>press</th>\n",
       "      <th>contents</th>\n",
       "    </tr>\n",
       "  </thead>\n",
       "  <tbody>\n",
       "    <tr>\n",
       "      <th>0</th>\n",
       "      <td>2019.05.01.</td>\n",
       "      <td>DGB 대구은행파크 건설에 뒷돈?…경찰, 대구 건설본부 압색</td>\n",
       "      <td>노컷뉴스</td>\n",
       "      <td>프로축구 대구 FC 전용구장인 DGB 대구은행파크를 건설하는 과정에 금품이 오갔다는...</td>\n",
       "    </tr>\n",
       "  </tbody>\n",
       "</table>\n",
       "</div>"
      ],
      "text/plain": [
       "          date                              title press  \\\n",
       "0  2019.05.01.  DGB 대구은행파크 건설에 뒷돈?…경찰, 대구 건설본부 압색  노컷뉴스   \n",
       "\n",
       "                                            contents  \n",
       "0  프로축구 대구 FC 전용구장인 DGB 대구은행파크를 건설하는 과정에 금품이 오갔다는...  "
      ]
     },
     "execution_count": 7,
     "metadata": {},
     "output_type": "execute_result"
    }
   ],
   "source": [
    "df_news.head(1)"
   ]
  },
  {
   "cell_type": "code",
   "execution_count": 8,
   "id": "c9c9c087",
   "metadata": {
    "ExecuteTime": {
     "end_time": "2022-06-03T01:37:49.418417Z",
     "start_time": "2022-06-03T01:37:49.405452Z"
    }
   },
   "outputs": [
    {
     "data": {
      "text/plain": [
       "date        0\n",
       "title       0\n",
       "press       0\n",
       "contents    0\n",
       "dtype: int64"
      ]
     },
     "execution_count": 8,
     "metadata": {},
     "output_type": "execute_result"
    }
   ],
   "source": [
    "# 행별로 null값 존재 유무 파악 --> 결측치 contents쪽에 3개 존재.\n",
    "df_news.isnull().sum(axis = 0)"
   ]
  },
  {
   "cell_type": "code",
   "execution_count": 9,
   "id": "12ba1ef7",
   "metadata": {
    "ExecuteTime": {
     "end_time": "2022-06-03T01:37:49.448338Z",
     "start_time": "2022-06-03T01:37:49.419414Z"
    }
   },
   "outputs": [
    {
     "data": {
      "text/html": [
       "<div>\n",
       "<style scoped>\n",
       "    .dataframe tbody tr th:only-of-type {\n",
       "        vertical-align: middle;\n",
       "    }\n",
       "\n",
       "    .dataframe tbody tr th {\n",
       "        vertical-align: top;\n",
       "    }\n",
       "\n",
       "    .dataframe thead th {\n",
       "        text-align: right;\n",
       "    }\n",
       "</style>\n",
       "<table border=\"1\" class=\"dataframe\">\n",
       "  <thead>\n",
       "    <tr style=\"text-align: right;\">\n",
       "      <th></th>\n",
       "      <th>date</th>\n",
       "      <th>title</th>\n",
       "      <th>press</th>\n",
       "      <th>contents</th>\n",
       "    </tr>\n",
       "  </thead>\n",
       "  <tbody>\n",
       "  </tbody>\n",
       "</table>\n",
       "</div>"
      ],
      "text/plain": [
       "Empty DataFrame\n",
       "Columns: [date, title, press, contents]\n",
       "Index: []"
      ]
     },
     "execution_count": 9,
     "metadata": {},
     "output_type": "execute_result"
    }
   ],
   "source": [
    "df_news[df_news['contents'].str.contains('오류', na=False)][:5]"
   ]
  },
  {
   "cell_type": "code",
   "execution_count": 10,
   "id": "80cd9a9f",
   "metadata": {
    "ExecuteTime": {
     "end_time": "2022-06-03T01:37:49.493217Z",
     "start_time": "2022-06-03T01:37:49.449335Z"
    }
   },
   "outputs": [
    {
     "name": "stdout",
     "output_type": "stream",
     "text": [
      "이상치 제거 전: 0\n",
      "이상치 제거 후: 0\n"
     ]
    }
   ],
   "source": [
    "# 불필요한 내용 삭제 / contents의 길이가 20이하 또는 title의 길이가 10 이하인 데이터\n",
    "df_news.head()\n",
    "\n",
    "# 51개 스크래핑 오류\n",
    "\n",
    "print('이상치 제거 전:',len(df_news[df_news['contents'].str.contains('오류', na=False)]))\n",
    "\n",
    "for i in df_news[df_news['contents'].str.contains('오류', na=False)].index:\n",
    "    df_news.drop(i, axis=0, inplace=True)\n",
    "    \n",
    "print('이상치 제거 후:',len(df_news[df_news['contents'].str.contains('오류', na=False)]))"
   ]
  },
  {
   "cell_type": "code",
   "execution_count": 11,
   "id": "9020b119",
   "metadata": {
    "ExecuteTime": {
     "end_time": "2022-06-03T01:37:49.508177Z",
     "start_time": "2022-06-03T01:37:49.494214Z"
    }
   },
   "outputs": [
    {
     "data": {
      "text/html": [
       "<div>\n",
       "<style scoped>\n",
       "    .dataframe tbody tr th:only-of-type {\n",
       "        vertical-align: middle;\n",
       "    }\n",
       "\n",
       "    .dataframe tbody tr th {\n",
       "        vertical-align: top;\n",
       "    }\n",
       "\n",
       "    .dataframe thead th {\n",
       "        text-align: right;\n",
       "    }\n",
       "</style>\n",
       "<table border=\"1\" class=\"dataframe\">\n",
       "  <thead>\n",
       "    <tr style=\"text-align: right;\">\n",
       "      <th></th>\n",
       "      <th>date</th>\n",
       "      <th>title</th>\n",
       "      <th>press</th>\n",
       "      <th>contents</th>\n",
       "    </tr>\n",
       "  </thead>\n",
       "  <tbody>\n",
       "    <tr>\n",
       "      <th>0</th>\n",
       "      <td>2019.05.01.</td>\n",
       "      <td>DGB 대구은행파크 건설에 뒷돈?…경찰, 대구 건설본부 압색</td>\n",
       "      <td>노컷뉴스</td>\n",
       "      <td>프로축구 대구 FC 전용구장인 DGB 대구은행파크를 건설하는 과정에 금품이 오갔다는...</td>\n",
       "    </tr>\n",
       "  </tbody>\n",
       "</table>\n",
       "</div>"
      ],
      "text/plain": [
       "          date                              title press  \\\n",
       "0  2019.05.01.  DGB 대구은행파크 건설에 뒷돈?…경찰, 대구 건설본부 압색  노컷뉴스   \n",
       "\n",
       "                                            contents  \n",
       "0  프로축구 대구 FC 전용구장인 DGB 대구은행파크를 건설하는 과정에 금품이 오갔다는...  "
      ]
     },
     "execution_count": 11,
     "metadata": {},
     "output_type": "execute_result"
    }
   ],
   "source": [
    "df_news.head(1)"
   ]
  },
  {
   "cell_type": "code",
   "execution_count": 12,
   "id": "697c0a45",
   "metadata": {
    "ExecuteTime": {
     "end_time": "2022-06-03T01:37:49.523138Z",
     "start_time": "2022-06-03T01:37:49.509175Z"
    }
   },
   "outputs": [
    {
     "data": {
      "text/plain": [
       "24010"
      ]
     },
     "execution_count": 12,
     "metadata": {},
     "output_type": "execute_result"
    }
   ],
   "source": [
    "len(df_news)"
   ]
  },
  {
   "cell_type": "markdown",
   "id": "53e08d46",
   "metadata": {},
   "source": [
    "# 학습 --> 중복 제거 해봄.\n",
    "\n",
    "- df_news_overlap --> 제목 기사 중복 제거 O\n",
    "- df_news_overlap --> 제목 기사 중복 제거 X"
   ]
  },
  {
   "cell_type": "code",
   "execution_count": 13,
   "id": "4e4cdeaf",
   "metadata": {
    "ExecuteTime": {
     "end_time": "2022-06-03T01:37:49.538099Z",
     "start_time": "2022-06-03T01:37:49.524135Z"
    }
   },
   "outputs": [
    {
     "data": {
      "text/html": [
       "<div>\n",
       "<style scoped>\n",
       "    .dataframe tbody tr th:only-of-type {\n",
       "        vertical-align: middle;\n",
       "    }\n",
       "\n",
       "    .dataframe tbody tr th {\n",
       "        vertical-align: top;\n",
       "    }\n",
       "\n",
       "    .dataframe thead th {\n",
       "        text-align: right;\n",
       "    }\n",
       "</style>\n",
       "<table border=\"1\" class=\"dataframe\">\n",
       "  <thead>\n",
       "    <tr style=\"text-align: right;\">\n",
       "      <th></th>\n",
       "      <th>date</th>\n",
       "      <th>title</th>\n",
       "      <th>press</th>\n",
       "      <th>contents</th>\n",
       "    </tr>\n",
       "  </thead>\n",
       "  <tbody>\n",
       "    <tr>\n",
       "      <th>0</th>\n",
       "      <td>2019.05.01.</td>\n",
       "      <td>DGB 대구은행파크 건설에 뒷돈?…경찰, 대구 건설본부 압색</td>\n",
       "      <td>노컷뉴스</td>\n",
       "      <td>프로축구 대구 FC 전용구장인 DGB 대구은행파크를 건설하는 과정에 금품이 오갔다는...</td>\n",
       "    </tr>\n",
       "    <tr>\n",
       "      <th>1</th>\n",
       "      <td>2019.05.01.</td>\n",
       "      <td>대구FC, 3일 상주전 홈경기 대세존 운영</td>\n",
       "      <td>뉴스웨이</td>\n",
       "      <td>대구FC가 오는 3일 오후 7시 30분 DGB대구은행파크에서 열리는 하나원큐 K리그...</td>\n",
       "    </tr>\n",
       "    <tr>\n",
       "      <th>2</th>\n",
       "      <td>2019.05.01.</td>\n",
       "      <td>&lt;우측 상단 박스&gt;DGB 대구은행파크 공사 과정에서 뒷돈 의혹...대구시 압수수...</td>\n",
       "      <td>대경일보</td>\n",
       "      <td>DGB대구은행파크 공사에 부정 청탁이 오갔다는 의혹이 제기돼 경찰이 수사에 나섰다....</td>\n",
       "    </tr>\n",
       "    <tr>\n",
       "      <th>3</th>\n",
       "      <td>2019.05.01.</td>\n",
       "      <td>충청권이 타 지역 지방은행 각축장이 된 까닭</td>\n",
       "      <td>충청투데이</td>\n",
       "      <td>DGB대구은행이 엊그제 둔산동에 대전지역 1호 점포를 개설하고 충청권 영업에 본격 ...</td>\n",
       "    </tr>\n",
       "    <tr>\n",
       "      <th>4</th>\n",
       "      <td>2019.05.01.</td>\n",
       "      <td>대전에 문 연 대구은행…지역 반응은 '글쎄'</td>\n",
       "      <td>충청투데이</td>\n",
       "      <td>DGB대구은행이 대전지역 진출을 본격화한 가운데 다소 냉담한 반응이 흘러나오고 있다...</td>\n",
       "    </tr>\n",
       "    <tr>\n",
       "      <th>...</th>\n",
       "      <td>...</td>\n",
       "      <td>...</td>\n",
       "      <td>...</td>\n",
       "      <td>...</td>\n",
       "    </tr>\n",
       "    <tr>\n",
       "      <th>24005</th>\n",
       "      <td>7일 전</td>\n",
       "      <td>DGB금융그룹, 1Q 순이익 1622억…역대 분기 최대</td>\n",
       "      <td>CEO스코어데일리</td>\n",
       "      <td>주력 계열사인 DGB대구은행은 1분기 순이익으로 전년 동기 대비 29.7% 증가한 ...</td>\n",
       "    </tr>\n",
       "    <tr>\n",
       "      <th>24006</th>\n",
       "      <td>7일 전</td>\n",
       "      <td>BNK·DGB·JB 등 지방금융 실적도 날았다…1분기 순익 35%↑</td>\n",
       "      <td>글로벌경제</td>\n",
       "      <td>주력 계열사인 DGB대구은행의 올해 1분기 순이익은 1187억원으로, 전년 동기 대...</td>\n",
       "    </tr>\n",
       "    <tr>\n",
       "      <th>24007</th>\n",
       "      <td>7일 전</td>\n",
       "      <td>DGB금융그룹 1분기 순이익 1622억…역대 최대</td>\n",
       "      <td>노컷뉴스</td>\n",
       "      <td>주력 계열사인 DGB대구은행의 1분기 순이익은 전년 동기 대비 29.7% 증가한 1...</td>\n",
       "    </tr>\n",
       "    <tr>\n",
       "      <th>24008</th>\n",
       "      <td>7일 전</td>\n",
       "      <td>DGB금융그룹, 1Q 순익 1741억…전년비 27.9%↑</td>\n",
       "      <td>더밸류뉴스</td>\n",
       "      <td>[사진=DGB금융그룹] 주력 계열사인 DGB대구은행의 1분기 당기순이익은 전년 동기...</td>\n",
       "    </tr>\n",
       "    <tr>\n",
       "      <th>24009</th>\n",
       "      <td>7일 전</td>\n",
       "      <td>지방금융지주도 실적 훨훨 날았다... BNK금융 순이익 43.4% 급증</td>\n",
       "      <td>소비자가 만드는 신문</td>\n",
       "      <td>DGB금융의 1분기 당기순이익은 전년 대비 31.3% 증가한 1622억 원으로 역대...</td>\n",
       "    </tr>\n",
       "  </tbody>\n",
       "</table>\n",
       "<p>24010 rows × 4 columns</p>\n",
       "</div>"
      ],
      "text/plain": [
       "              date                                            title  \\\n",
       "0      2019.05.01.                DGB 대구은행파크 건설에 뒷돈?…경찰, 대구 건설본부 압색   \n",
       "1      2019.05.01.                          대구FC, 3일 상주전 홈경기 대세존 운영   \n",
       "2      2019.05.01.  <우측 상단 박스>DGB 대구은행파크 공사 과정에서 뒷돈 의혹...대구시 압수수...   \n",
       "3      2019.05.01.                         충청권이 타 지역 지방은행 각축장이 된 까닭   \n",
       "4      2019.05.01.                         대전에 문 연 대구은행…지역 반응은 '글쎄'   \n",
       "...            ...                                              ...   \n",
       "24005         7일 전                   DGB금융그룹, 1Q 순이익 1622억…역대 분기 최대   \n",
       "24006         7일 전            BNK·DGB·JB 등 지방금융 실적도 날았다…1분기 순익 35%↑   \n",
       "24007         7일 전                      DGB금융그룹 1분기 순이익 1622억…역대 최대   \n",
       "24008         7일 전                  DGB금융그룹, 1Q 순익 1741억…전년비 27.9%↑   \n",
       "24009         7일 전          지방금융지주도 실적 훨훨 날았다... BNK금융 순이익 43.4% 급증   \n",
       "\n",
       "             press                                           contents  \n",
       "0             노컷뉴스  프로축구 대구 FC 전용구장인 DGB 대구은행파크를 건설하는 과정에 금품이 오갔다는...  \n",
       "1             뉴스웨이  대구FC가 오는 3일 오후 7시 30분 DGB대구은행파크에서 열리는 하나원큐 K리그...  \n",
       "2             대경일보  DGB대구은행파크 공사에 부정 청탁이 오갔다는 의혹이 제기돼 경찰이 수사에 나섰다....  \n",
       "3            충청투데이  DGB대구은행이 엊그제 둔산동에 대전지역 1호 점포를 개설하고 충청권 영업에 본격 ...  \n",
       "4            충청투데이  DGB대구은행이 대전지역 진출을 본격화한 가운데 다소 냉담한 반응이 흘러나오고 있다...  \n",
       "...            ...                                                ...  \n",
       "24005    CEO스코어데일리  주력 계열사인 DGB대구은행은 1분기 순이익으로 전년 동기 대비 29.7% 증가한 ...  \n",
       "24006        글로벌경제  주력 계열사인 DGB대구은행의 올해 1분기 순이익은 1187억원으로, 전년 동기 대...  \n",
       "24007         노컷뉴스  주력 계열사인 DGB대구은행의 1분기 순이익은 전년 동기 대비 29.7% 증가한 1...  \n",
       "24008        더밸류뉴스  [사진=DGB금융그룹] 주력 계열사인 DGB대구은행의 1분기 당기순이익은 전년 동기...  \n",
       "24009  소비자가 만드는 신문  DGB금융의 1분기 당기순이익은 전년 대비 31.3% 증가한 1622억 원으로 역대...  \n",
       "\n",
       "[24010 rows x 4 columns]"
      ]
     },
     "execution_count": 13,
     "metadata": {},
     "output_type": "execute_result"
    }
   ],
   "source": [
    "df_news"
   ]
  },
  {
   "cell_type": "code",
   "execution_count": 14,
   "id": "39ca54d5",
   "metadata": {
    "ExecuteTime": {
     "end_time": "2022-06-03T01:37:49.597937Z",
     "start_time": "2022-06-03T01:37:49.539096Z"
    }
   },
   "outputs": [],
   "source": [
    "df_news_overlap = df_news.copy()\n",
    "df_news_overlap.drop_duplicates(['contents'], keep = False, inplace=True)\n",
    "df_news_overlap.drop_duplicates(['title'], keep = False, inplace=True)"
   ]
  },
  {
   "cell_type": "code",
   "execution_count": 15,
   "id": "065f6b41",
   "metadata": {
    "ExecuteTime": {
     "end_time": "2022-06-03T01:37:49.642817Z",
     "start_time": "2022-06-03T01:37:49.599933Z"
    }
   },
   "outputs": [
    {
     "name": "stdout",
     "output_type": "stream",
     "text": [
      "(24010, 4)\n",
      "중복행 제거 전 데이터 : 24010\n",
      "중복행 갯수 : 0개\n",
      "중복행 제거 후 데이터 : 24010\n"
     ]
    }
   ],
   "source": [
    "# 중복행 제거 --> 분석하는데 안 좋을 수도 있으니 신중한 고려가 필요함.\n",
    "# 참고 : https://sy-log.tistory.com/60\n",
    "\n",
    "print(df_news.shape)\n",
    "print('중복행 제거 전 데이터 :', len(df_news))\n",
    "# 중복행 살림.\n",
    "print('중복행 갯수 : %d개' % df_news.duplicated().sum())\n",
    "print('중복행 제거 후 데이터 :', len(df_news.drop_duplicates(['title'], keep = False)))"
   ]
  },
  {
   "cell_type": "code",
   "execution_count": 16,
   "id": "487c6a6e",
   "metadata": {
    "ExecuteTime": {
     "end_time": "2022-06-03T01:37:49.717617Z",
     "start_time": "2022-06-03T01:37:49.643815Z"
    }
   },
   "outputs": [],
   "source": [
    "# df.query('주소.str.contains(\"마포|은평\")', engine='python'\n",
    "# Series 내장함수 : str.contains() \n",
    "\n",
    "# 제목\n",
    "remove_title = list(df_news.query('title.str.contains(\"부상|선수|승점|구장|리그|DGB대구은행파크|FC|감독|신태용|연승|대표팀|친선경기|스포츠|축구|세징야\", na=False)', engine = 'python').index)\n",
    "df_news.drop(remove_title, axis=0, inplace = True)\n",
    "\n",
    "# 내용 요약본\n",
    "remove_contents = list(df_news.query('contents.str.contains(\"부상|선수|승점|구장|리그|DGB대구은행파크|FC|감독|신태용|연승|대표팀|친선경기|스포츠|축구|세징야\", na=False)', engine = 'python').index)\n",
    "df_news.drop(remove_contents, axis=0, inplace = True)\n"
   ]
  },
  {
   "cell_type": "markdown",
   "id": "6416dc58",
   "metadata": {},
   "source": [
    "### 결측치 처리 contents 컬럼에 3개 존재 --> 3개의 데이터 삭제\n",
    "\n",
    "- 2021.05.01 ~ 2022.05.01 결측치 존재\n",
    "- 2019.05.01 ~ 2022.05.01 결측치 없음"
   ]
  },
  {
   "cell_type": "code",
   "execution_count": 17,
   "id": "32175bd6",
   "metadata": {
    "ExecuteTime": {
     "end_time": "2022-06-03T01:37:49.732578Z",
     "start_time": "2022-06-03T01:37:49.718614Z"
    },
    "scrolled": false
   },
   "outputs": [
    {
     "data": {
      "text/plain": [
       "date        16626\n",
       "title       16626\n",
       "press       16626\n",
       "contents    16626\n",
       "dtype: int64"
      ]
     },
     "execution_count": 17,
     "metadata": {},
     "output_type": "execute_result"
    }
   ],
   "source": [
    "df_news.count()"
   ]
  },
  {
   "cell_type": "code",
   "execution_count": 18,
   "id": "02e5ee9a",
   "metadata": {
    "ExecuteTime": {
     "end_time": "2022-06-03T01:37:49.747537Z",
     "start_time": "2022-06-03T01:37:49.733574Z"
    }
   },
   "outputs": [
    {
     "name": "stdout",
     "output_type": "stream",
     "text": [
      "date        0\n",
      "title       0\n",
      "press       0\n",
      "contents    0\n",
      "dtype: int64\n"
     ]
    }
   ],
   "source": [
    "print(df_news.isnull().sum())\n",
    "df_news.dropna(axis=0, inplace = True)"
   ]
  },
  {
   "cell_type": "code",
   "execution_count": 19,
   "id": "c815e1cc",
   "metadata": {
    "ExecuteTime": {
     "end_time": "2022-06-03T01:37:49.762497Z",
     "start_time": "2022-06-03T01:37:49.748535Z"
    }
   },
   "outputs": [
    {
     "data": {
      "text/plain": [
       "(16626, 4)"
      ]
     },
     "execution_count": 19,
     "metadata": {},
     "output_type": "execute_result"
    }
   ],
   "source": [
    "df_news.shape"
   ]
  },
  {
   "cell_type": "code",
   "execution_count": 20,
   "id": "cb95bb2c",
   "metadata": {
    "ExecuteTime": {
     "end_time": "2022-06-03T01:37:49.777457Z",
     "start_time": "2022-06-03T01:37:49.763495Z"
    }
   },
   "outputs": [],
   "source": [
    "# 인덱스 번호 새로 부여.\n",
    "df_news.reset_index(inplace=True)\n",
    "df_news.drop(['index'], axis=1, inplace=True)"
   ]
  },
  {
   "cell_type": "code",
   "execution_count": 21,
   "id": "654d2399",
   "metadata": {
    "ExecuteTime": {
     "end_time": "2022-06-03T01:37:49.792417Z",
     "start_time": "2022-06-03T01:37:49.778455Z"
    }
   },
   "outputs": [
    {
     "data": {
      "text/html": [
       "<div>\n",
       "<style scoped>\n",
       "    .dataframe tbody tr th:only-of-type {\n",
       "        vertical-align: middle;\n",
       "    }\n",
       "\n",
       "    .dataframe tbody tr th {\n",
       "        vertical-align: top;\n",
       "    }\n",
       "\n",
       "    .dataframe thead th {\n",
       "        text-align: right;\n",
       "    }\n",
       "</style>\n",
       "<table border=\"1\" class=\"dataframe\">\n",
       "  <thead>\n",
       "    <tr style=\"text-align: right;\">\n",
       "      <th></th>\n",
       "      <th>date</th>\n",
       "      <th>title</th>\n",
       "      <th>press</th>\n",
       "      <th>contents</th>\n",
       "    </tr>\n",
       "  </thead>\n",
       "  <tbody>\n",
       "    <tr>\n",
       "      <th>0</th>\n",
       "      <td>2019.05.01.</td>\n",
       "      <td>충청권이 타 지역 지방은행 각축장이 된 까닭</td>\n",
       "      <td>충청투데이</td>\n",
       "      <td>DGB대구은행이 엊그제 둔산동에 대전지역 1호 점포를 개설하고 충청권 영업에 본격 ...</td>\n",
       "    </tr>\n",
       "    <tr>\n",
       "      <th>1</th>\n",
       "      <td>2019.05.01.</td>\n",
       "      <td>대전에 문 연 대구은행…지역 반응은 '글쎄'</td>\n",
       "      <td>충청투데이</td>\n",
       "      <td>DGB대구은행이 대전지역 진출을 본격화한 가운데 다소 냉담한 반응이 흘러나오고 있다...</td>\n",
       "    </tr>\n",
       "    <tr>\n",
       "      <th>2</th>\n",
       "      <td>2019.05.01.</td>\n",
       "      <td>\"민원 없는 그 날까지\" 은행권, 민원 줄이기에 총력</td>\n",
       "      <td>한스경제</td>\n",
       "      <td>DGB대구은행 5.9건, SC제일은행 5.4건, KB국민은행 4.8건, 우리은행 4...</td>\n",
       "    </tr>\n",
       "    <tr>\n",
       "      <th>3</th>\n",
       "      <td>2019.05.01.</td>\n",
       "      <td>DGB대구은행, 대전지점 개점.. 충청도 진출</td>\n",
       "      <td>베타뉴스</td>\n",
       "      <td>DGB대구은행이 지난달 30일 대전지점을 개점하고, 국토 및 교통의 중심지인 충청지...</td>\n",
       "    </tr>\n",
       "    <tr>\n",
       "      <th>4</th>\n",
       "      <td>2019.05.01.</td>\n",
       "      <td>DGB대구은행 대전 1호 점포 개점...전국 확대</td>\n",
       "      <td>대구MBC</td>\n",
       "      <td>DGB대구은행이 대전에 점포를 열었습니다. DGB대구은행은 어제 대전시 서구 문예로...</td>\n",
       "    </tr>\n",
       "  </tbody>\n",
       "</table>\n",
       "</div>"
      ],
      "text/plain": [
       "          date                          title  press  \\\n",
       "0  2019.05.01.       충청권이 타 지역 지방은행 각축장이 된 까닭  충청투데이   \n",
       "1  2019.05.01.       대전에 문 연 대구은행…지역 반응은 '글쎄'  충청투데이   \n",
       "2  2019.05.01.  \"민원 없는 그 날까지\" 은행권, 민원 줄이기에 총력   한스경제   \n",
       "3  2019.05.01.      DGB대구은행, 대전지점 개점.. 충청도 진출   베타뉴스   \n",
       "4  2019.05.01.    DGB대구은행 대전 1호 점포 개점...전국 확대  대구MBC   \n",
       "\n",
       "                                            contents  \n",
       "0  DGB대구은행이 엊그제 둔산동에 대전지역 1호 점포를 개설하고 충청권 영업에 본격 ...  \n",
       "1  DGB대구은행이 대전지역 진출을 본격화한 가운데 다소 냉담한 반응이 흘러나오고 있다...  \n",
       "2  DGB대구은행 5.9건, SC제일은행 5.4건, KB국민은행 4.8건, 우리은행 4...  \n",
       "3  DGB대구은행이 지난달 30일 대전지점을 개점하고, 국토 및 교통의 중심지인 충청지...  \n",
       "4  DGB대구은행이 대전에 점포를 열었습니다. DGB대구은행은 어제 대전시 서구 문예로...  "
      ]
     },
     "execution_count": 21,
     "metadata": {},
     "output_type": "execute_result"
    }
   ],
   "source": [
    "df_news.head()"
   ]
  },
  {
   "cell_type": "code",
   "execution_count": 22,
   "id": "2d953afc",
   "metadata": {
    "ExecuteTime": {
     "end_time": "2022-06-03T01:37:49.807378Z",
     "start_time": "2022-06-03T01:37:49.793416Z"
    }
   },
   "outputs": [
    {
     "data": {
      "text/plain": [
       "date        16626\n",
       "title       16626\n",
       "press       16626\n",
       "contents    16626\n",
       "dtype: int64"
      ]
     },
     "execution_count": 22,
     "metadata": {},
     "output_type": "execute_result"
    }
   ],
   "source": [
    "df_news.count()"
   ]
  },
  {
   "cell_type": "markdown",
   "id": "96032515",
   "metadata": {},
   "source": [
    "## 날짜 데이터 정제\n",
    "    ▶ 연월일로만 표현 ( 시간 제거 )\n",
    "    ▶ 연 / 월 / 일 3개의 파생변수 생성\n",
    "    ▶ 연 / 일 보다는 월별로 각 언론사의 'DGB대구은행'에 관련된 기사가 얼마나 많은지? 파악하기 위함. --> 긍정 / 부정 개수로 이어짐."
   ]
  },
  {
   "cell_type": "code",
   "execution_count": 23,
   "id": "cc4e5544",
   "metadata": {
    "ExecuteTime": {
     "end_time": "2022-06-03T01:37:49.822337Z",
     "start_time": "2022-06-03T01:37:49.811366Z"
    }
   },
   "outputs": [
    {
     "data": {
      "text/plain": [
       "0        2019.05.01.\n",
       "1        2019.05.01.\n",
       "2        2019.05.01.\n",
       "3        2019.05.01.\n",
       "4        2019.05.01.\n",
       "            ...     \n",
       "16621           7일 전\n",
       "16622           7일 전\n",
       "16623           7일 전\n",
       "16624           7일 전\n",
       "16625           7일 전\n",
       "Name: date, Length: 16626, dtype: object"
      ]
     },
     "execution_count": 23,
     "metadata": {},
     "output_type": "execute_result"
    }
   ],
   "source": [
    "# 연도별 월별 일별로 \n",
    "df_news['date']"
   ]
  },
  {
   "cell_type": "code",
   "execution_count": 24,
   "id": "6c74f7ae",
   "metadata": {
    "ExecuteTime": {
     "end_time": "2022-06-03T01:37:49.837296Z",
     "start_time": "2022-06-03T01:37:49.823336Z"
    }
   },
   "outputs": [
    {
     "name": "stdout",
     "output_type": "stream",
     "text": [
      "2022-06-03 10:37:49.825329\n",
      "2022년 6월 2일\n",
      "2019-04-25 00:00:00\n"
     ]
    }
   ],
   "source": [
    "now = time.localtime()\n",
    "\n",
    "# 테스트 용 / 참고 - https://wikidocs.net/104836\n",
    "print(datetime.datetime.now())\n",
    "print('{}년 {}월 {}일'.format(now.tm_year, now.tm_mon, now.tm_mday-1))\n",
    "print(pd.to_datetime(df_news['date'][0]) - datetime.timedelta(days = 6))"
   ]
  },
  {
   "cell_type": "code",
   "execution_count": 25,
   "id": "0aaa96ec",
   "metadata": {
    "ExecuteTime": {
     "end_time": "2022-06-03T01:37:50.001857Z",
     "start_time": "2022-06-03T01:37:49.838295Z"
    }
   },
   "outputs": [],
   "source": [
    "# 2022-04-21 17:45 일자 데이터 자료 ( 시각은 무시 )\n",
    "scrapping_date = datetime.date(2022, 5, 6)\n",
    "\n",
    "idx_list = list()\n",
    "\n",
    "for i in range(len(df_news['date'])):\n",
    "    if '일' in df_news['date'][i]:\n",
    "        idx_list.append(i)\n",
    "    elif '시간' in df_news['date'][i]:\n",
    "        idx_list.append(i)\n",
    "# df_news['date'][i]\n",
    "# 몇 일전 / 몇 시간전 인덱스 번호"
   ]
  },
  {
   "cell_type": "code",
   "execution_count": 26,
   "id": "ddb11f8c",
   "metadata": {
    "ExecuteTime": {
     "end_time": "2022-06-03T01:37:50.016817Z",
     "start_time": "2022-06-03T01:37:50.002855Z"
    }
   },
   "outputs": [
    {
     "data": {
      "text/html": [
       "<div>\n",
       "<style scoped>\n",
       "    .dataframe tbody tr th:only-of-type {\n",
       "        vertical-align: middle;\n",
       "    }\n",
       "\n",
       "    .dataframe tbody tr th {\n",
       "        vertical-align: top;\n",
       "    }\n",
       "\n",
       "    .dataframe thead th {\n",
       "        text-align: right;\n",
       "    }\n",
       "</style>\n",
       "<table border=\"1\" class=\"dataframe\">\n",
       "  <thead>\n",
       "    <tr style=\"text-align: right;\">\n",
       "      <th></th>\n",
       "      <th>date</th>\n",
       "    </tr>\n",
       "  </thead>\n",
       "  <tbody>\n",
       "    <tr>\n",
       "      <th>16528</th>\n",
       "      <td>4일 전</td>\n",
       "    </tr>\n",
       "    <tr>\n",
       "      <th>16529</th>\n",
       "      <td>4일 전</td>\n",
       "    </tr>\n",
       "    <tr>\n",
       "      <th>16530</th>\n",
       "      <td>4일 전</td>\n",
       "    </tr>\n",
       "  </tbody>\n",
       "</table>\n",
       "</div>"
      ],
      "text/plain": [
       "       date\n",
       "16528  4일 전\n",
       "16529  4일 전\n",
       "16530  4일 전"
      ]
     },
     "execution_count": 26,
     "metadata": {},
     "output_type": "execute_result"
    }
   ],
   "source": [
    "# 확인\n",
    "df_news.loc[idx_list, ['date']][:3]"
   ]
  },
  {
   "cell_type": "code",
   "execution_count": 27,
   "id": "a380839f",
   "metadata": {
    "ExecuteTime": {
     "end_time": "2022-06-03T01:37:50.046737Z",
     "start_time": "2022-06-03T01:37:50.017815Z"
    }
   },
   "outputs": [],
   "source": [
    "# 시간 전 / 몇일 전 --> 숫자로 변환\n",
    "\n",
    "for i in idx_list:\n",
    "    \n",
    "    trans_day = int(re.findall('\\d+', df_news['date'][i])[0]) \n",
    "\n",
    "    if '시간' in df_news['date'][i]:\n",
    "        df_news['date'][i] = scrapping_date - datetime.timedelta(days=1)\n",
    "    else:\n",
    "        df_news['date'][i] = scrapping_date - datetime.timedelta(days=trans_day+1)"
   ]
  },
  {
   "cell_type": "code",
   "execution_count": 28,
   "id": "26accde3",
   "metadata": {
    "ExecuteTime": {
     "end_time": "2022-06-03T01:37:50.121536Z",
     "start_time": "2022-06-03T01:37:50.047735Z"
    },
    "scrolled": true
   },
   "outputs": [],
   "source": [
    "df_news['date'] = pd.to_datetime(df_news['date'])"
   ]
  },
  {
   "cell_type": "code",
   "execution_count": 29,
   "id": "3cd2d330",
   "metadata": {
    "ExecuteTime": {
     "end_time": "2022-06-03T01:37:50.136497Z",
     "start_time": "2022-06-03T01:37:50.122534Z"
    }
   },
   "outputs": [],
   "source": [
    "df_news['year'] = df_news['date'].dt.year\n",
    "df_news['month'] = df_news['date'].dt.month\n",
    "df_news['day'] = df_news['date'].dt.day"
   ]
  },
  {
   "cell_type": "code",
   "execution_count": 30,
   "id": "1089fd7d",
   "metadata": {
    "ExecuteTime": {
     "end_time": "2022-06-03T01:37:50.151457Z",
     "start_time": "2022-06-03T01:37:50.137495Z"
    }
   },
   "outputs": [
    {
     "data": {
      "text/html": [
       "<div>\n",
       "<style scoped>\n",
       "    .dataframe tbody tr th:only-of-type {\n",
       "        vertical-align: middle;\n",
       "    }\n",
       "\n",
       "    .dataframe tbody tr th {\n",
       "        vertical-align: top;\n",
       "    }\n",
       "\n",
       "    .dataframe thead th {\n",
       "        text-align: right;\n",
       "    }\n",
       "</style>\n",
       "<table border=\"1\" class=\"dataframe\">\n",
       "  <thead>\n",
       "    <tr style=\"text-align: right;\">\n",
       "      <th></th>\n",
       "      <th>date</th>\n",
       "      <th>title</th>\n",
       "      <th>press</th>\n",
       "      <th>contents</th>\n",
       "      <th>year</th>\n",
       "      <th>month</th>\n",
       "      <th>day</th>\n",
       "    </tr>\n",
       "  </thead>\n",
       "  <tbody>\n",
       "    <tr>\n",
       "      <th>0</th>\n",
       "      <td>2019-05-01</td>\n",
       "      <td>충청권이 타 지역 지방은행 각축장이 된 까닭</td>\n",
       "      <td>충청투데이</td>\n",
       "      <td>DGB대구은행이 엊그제 둔산동에 대전지역 1호 점포를 개설하고 충청권 영업에 본격 ...</td>\n",
       "      <td>2019</td>\n",
       "      <td>5</td>\n",
       "      <td>1</td>\n",
       "    </tr>\n",
       "  </tbody>\n",
       "</table>\n",
       "</div>"
      ],
      "text/plain": [
       "        date                     title  press  \\\n",
       "0 2019-05-01  충청권이 타 지역 지방은행 각축장이 된 까닭  충청투데이   \n",
       "\n",
       "                                            contents  year  month  day  \n",
       "0  DGB대구은행이 엊그제 둔산동에 대전지역 1호 점포를 개설하고 충청권 영업에 본격 ...  2019      5    1  "
      ]
     },
     "execution_count": 30,
     "metadata": {},
     "output_type": "execute_result"
    }
   ],
   "source": [
    "df_news.head(1)"
   ]
  },
  {
   "cell_type": "code",
   "execution_count": 31,
   "id": "181c3b0b",
   "metadata": {
    "ExecuteTime": {
     "end_time": "2022-06-03T01:37:50.166419Z",
     "start_time": "2022-06-03T01:37:50.152455Z"
    }
   },
   "outputs": [],
   "source": [
    "# 데이터 자료 시간에서 마이너스해주면 날짜가 나옴.\n",
    "# 이것을 다시 대입해주면 날짜 데이터 정제 완료\n",
    "\n",
    "# 컬럼 제거 axis = 1 --> 열 / axis = 0 --> 행\n",
    "# df_news.drop(['date_day'], axis=1, inplace=True)"
   ]
  },
  {
   "cell_type": "code",
   "execution_count": 32,
   "id": "96590a4d",
   "metadata": {
    "ExecuteTime": {
     "end_time": "2022-06-03T01:37:50.181377Z",
     "start_time": "2022-06-03T01:37:50.168412Z"
    }
   },
   "outputs": [],
   "source": [
    "# 참고 : https://hogni.tistory.com/51\n",
    "# 컬럼 순서 정렬\n",
    "df_news = df_news[['date', 'year', 'month', 'day', 'title', 'press', 'contents']]"
   ]
  },
  {
   "cell_type": "code",
   "execution_count": 33,
   "id": "a7b76b28",
   "metadata": {
    "ExecuteTime": {
     "end_time": "2022-06-03T01:37:50.196336Z",
     "start_time": "2022-06-03T01:37:50.183375Z"
    }
   },
   "outputs": [
    {
     "data": {
      "text/html": [
       "<div>\n",
       "<style scoped>\n",
       "    .dataframe tbody tr th:only-of-type {\n",
       "        vertical-align: middle;\n",
       "    }\n",
       "\n",
       "    .dataframe tbody tr th {\n",
       "        vertical-align: top;\n",
       "    }\n",
       "\n",
       "    .dataframe thead th {\n",
       "        text-align: right;\n",
       "    }\n",
       "</style>\n",
       "<table border=\"1\" class=\"dataframe\">\n",
       "  <thead>\n",
       "    <tr style=\"text-align: right;\">\n",
       "      <th></th>\n",
       "      <th>date</th>\n",
       "      <th>year</th>\n",
       "      <th>month</th>\n",
       "      <th>day</th>\n",
       "      <th>title</th>\n",
       "      <th>press</th>\n",
       "      <th>contents</th>\n",
       "    </tr>\n",
       "  </thead>\n",
       "  <tbody>\n",
       "    <tr>\n",
       "      <th>0</th>\n",
       "      <td>2019-05-01</td>\n",
       "      <td>2019</td>\n",
       "      <td>5</td>\n",
       "      <td>1</td>\n",
       "      <td>충청권이 타 지역 지방은행 각축장이 된 까닭</td>\n",
       "      <td>충청투데이</td>\n",
       "      <td>DGB대구은행이 엊그제 둔산동에 대전지역 1호 점포를 개설하고 충청권 영업에 본격 ...</td>\n",
       "    </tr>\n",
       "    <tr>\n",
       "      <th>1</th>\n",
       "      <td>2019-05-01</td>\n",
       "      <td>2019</td>\n",
       "      <td>5</td>\n",
       "      <td>1</td>\n",
       "      <td>대전에 문 연 대구은행…지역 반응은 '글쎄'</td>\n",
       "      <td>충청투데이</td>\n",
       "      <td>DGB대구은행이 대전지역 진출을 본격화한 가운데 다소 냉담한 반응이 흘러나오고 있다...</td>\n",
       "    </tr>\n",
       "    <tr>\n",
       "      <th>2</th>\n",
       "      <td>2019-05-01</td>\n",
       "      <td>2019</td>\n",
       "      <td>5</td>\n",
       "      <td>1</td>\n",
       "      <td>\"민원 없는 그 날까지\" 은행권, 민원 줄이기에 총력</td>\n",
       "      <td>한스경제</td>\n",
       "      <td>DGB대구은행 5.9건, SC제일은행 5.4건, KB국민은행 4.8건, 우리은행 4...</td>\n",
       "    </tr>\n",
       "  </tbody>\n",
       "</table>\n",
       "</div>"
      ],
      "text/plain": [
       "        date  year  month  day                          title  press  \\\n",
       "0 2019-05-01  2019      5    1       충청권이 타 지역 지방은행 각축장이 된 까닭  충청투데이   \n",
       "1 2019-05-01  2019      5    1       대전에 문 연 대구은행…지역 반응은 '글쎄'  충청투데이   \n",
       "2 2019-05-01  2019      5    1  \"민원 없는 그 날까지\" 은행권, 민원 줄이기에 총력   한스경제   \n",
       "\n",
       "                                            contents  \n",
       "0  DGB대구은행이 엊그제 둔산동에 대전지역 1호 점포를 개설하고 충청권 영업에 본격 ...  \n",
       "1  DGB대구은행이 대전지역 진출을 본격화한 가운데 다소 냉담한 반응이 흘러나오고 있다...  \n",
       "2  DGB대구은행 5.9건, SC제일은행 5.4건, KB국민은행 4.8건, 우리은행 4...  "
      ]
     },
     "execution_count": 33,
     "metadata": {},
     "output_type": "execute_result"
    }
   ],
   "source": [
    "df_news.head(3)"
   ]
  },
  {
   "cell_type": "code",
   "execution_count": 34,
   "id": "19c3a6e8",
   "metadata": {
    "ExecuteTime": {
     "end_time": "2022-06-03T01:37:50.211296Z",
     "start_time": "2022-06-03T01:37:50.197333Z"
    }
   },
   "outputs": [
    {
     "data": {
      "text/html": [
       "<div>\n",
       "<style scoped>\n",
       "    .dataframe tbody tr th:only-of-type {\n",
       "        vertical-align: middle;\n",
       "    }\n",
       "\n",
       "    .dataframe tbody tr th {\n",
       "        vertical-align: top;\n",
       "    }\n",
       "\n",
       "    .dataframe thead th {\n",
       "        text-align: right;\n",
       "    }\n",
       "</style>\n",
       "<table border=\"1\" class=\"dataframe\">\n",
       "  <thead>\n",
       "    <tr style=\"text-align: right;\">\n",
       "      <th></th>\n",
       "      <th>date</th>\n",
       "    </tr>\n",
       "  </thead>\n",
       "  <tbody>\n",
       "    <tr>\n",
       "      <th>0</th>\n",
       "      <td>2019-05-01</td>\n",
       "    </tr>\n",
       "    <tr>\n",
       "      <th>1</th>\n",
       "      <td>2019-05-01</td>\n",
       "    </tr>\n",
       "    <tr>\n",
       "      <th>2</th>\n",
       "      <td>2019-05-01</td>\n",
       "    </tr>\n",
       "  </tbody>\n",
       "</table>\n",
       "</div>"
      ],
      "text/plain": [
       "        date\n",
       "0 2019-05-01\n",
       "1 2019-05-01\n",
       "2 2019-05-01"
      ]
     },
     "execution_count": 34,
     "metadata": {},
     "output_type": "execute_result"
    }
   ],
   "source": [
    "df_news.loc[:, ['date']].head(3)"
   ]
  },
  {
   "cell_type": "markdown",
   "id": "e70714d4",
   "metadata": {},
   "source": [
    "## 정규식 표현 처리\n",
    "\n",
    "<br>\n",
    "\n",
    "'[-=+,#/\\?:^$.@*\\\"※%~&ㆍ\\‘\\’\\_, ②外∙·!』『\\(\\)\\[\\]\\[\\]\\<\\>\\'\\`<\\>\\銀…\\\"\\'…》]' 등을 기사제목에서 제거\n",
    "- tqdm --> 진행률 표시 모듈\n",
    "\n",
    "**※ 참고 : https://clolee.tistory.com/17, https://codingspooning.tistory.com/138**\n",
    "<br>"
   ]
  },
  {
   "cell_type": "markdown",
   "id": "0432c0d3",
   "metadata": {},
   "source": [
    "### 정규식 표현 ( 기사 제목 )"
   ]
  },
  {
   "cell_type": "code",
   "execution_count": 35,
   "id": "54f89188",
   "metadata": {
    "ExecuteTime": {
     "end_time": "2022-06-03T01:37:51.841934Z",
     "start_time": "2022-06-03T01:37:50.212294Z"
    }
   },
   "outputs": [
    {
     "data": {
      "text/html": [
       "<div>\n",
       "<style scoped>\n",
       "    .dataframe tbody tr th:only-of-type {\n",
       "        vertical-align: middle;\n",
       "    }\n",
       "\n",
       "    .dataframe tbody tr th {\n",
       "        vertical-align: top;\n",
       "    }\n",
       "\n",
       "    .dataframe thead th {\n",
       "        text-align: right;\n",
       "    }\n",
       "</style>\n",
       "<table border=\"1\" class=\"dataframe\">\n",
       "  <thead>\n",
       "    <tr style=\"text-align: right;\">\n",
       "      <th></th>\n",
       "      <th>title</th>\n",
       "      <th>nouns_title</th>\n",
       "    </tr>\n",
       "  </thead>\n",
       "  <tbody>\n",
       "    <tr>\n",
       "      <th>0</th>\n",
       "      <td>충청권이 타 지역 지방은행 각축장이 된 까닭</td>\n",
       "      <td>충청권이 타 지역 지방은행 각축장이 된 까닭</td>\n",
       "    </tr>\n",
       "    <tr>\n",
       "      <th>1</th>\n",
       "      <td>대전에 문 연 대구은행…지역 반응은 '글쎄'</td>\n",
       "      <td>대전에 문 연 대구은행지역 반응은 글쎄</td>\n",
       "    </tr>\n",
       "    <tr>\n",
       "      <th>2</th>\n",
       "      <td>\"민원 없는 그 날까지\" 은행권, 민원 줄이기에 총력</td>\n",
       "      <td>민원 없는 그 날까지 은행권 민원 줄이기에 총력</td>\n",
       "    </tr>\n",
       "    <tr>\n",
       "      <th>3</th>\n",
       "      <td>DGB대구은행, 대전지점 개점.. 충청도 진출</td>\n",
       "      <td>DGB대구은행 대전지점 개점 충청도 진출</td>\n",
       "    </tr>\n",
       "    <tr>\n",
       "      <th>4</th>\n",
       "      <td>DGB대구은행 대전 1호 점포 개점...전국 확대</td>\n",
       "      <td>DGB대구은행 대전 1호 점포 개점전국 확대</td>\n",
       "    </tr>\n",
       "    <tr>\n",
       "      <th>5</th>\n",
       "      <td>DGB대구은행, 대전지점 개점</td>\n",
       "      <td>DGB대구은행 대전지점 개점</td>\n",
       "    </tr>\n",
       "  </tbody>\n",
       "</table>\n",
       "</div>"
      ],
      "text/plain": [
       "                           title                 nouns_title\n",
       "0       충청권이 타 지역 지방은행 각축장이 된 까닭    충청권이 타 지역 지방은행 각축장이 된 까닭\n",
       "1       대전에 문 연 대구은행…지역 반응은 '글쎄'       대전에 문 연 대구은행지역 반응은 글쎄\n",
       "2  \"민원 없는 그 날까지\" 은행권, 민원 줄이기에 총력  민원 없는 그 날까지 은행권 민원 줄이기에 총력\n",
       "3      DGB대구은행, 대전지점 개점.. 충청도 진출      DGB대구은행 대전지점 개점 충청도 진출\n",
       "4    DGB대구은행 대전 1호 점포 개점...전국 확대    DGB대구은행 대전 1호 점포 개점전국 확대\n",
       "5               DGB대구은행, 대전지점 개점             DGB대구은행 대전지점 개점"
      ]
     },
     "execution_count": 35,
     "metadata": {},
     "output_type": "execute_result"
    }
   ],
   "source": [
    "from tqdm import tqdm\n",
    "import copy\n",
    "\n",
    "# 경고 off\n",
    "pd.set_option('mode.chained_assignment', None)\n",
    "\n",
    "# 원본 데이터프레임 복사하여 사용\n",
    "df_news = copy.deepcopy(df_news)\n",
    "df_news.insert(5, 'nouns_title', '0')\n",
    "title_data = df_news['title'].tolist()\n",
    "\n",
    "# re.sub('[-=+,#/\\?:^$.@*\\\"※%~&ㆍ\\‘\\’\\_, ②外∙·!』『\\(\\)\\[\\]\\[\\]\\<\\>\\'\\`<\\>\\銀…\\\"\\'…》→p”“◇證‧]',\n",
    "for i in range(len(title_data)):\n",
    "    cleaner = re.sub('[-=+,#/\\?:^.@*\\\"※~ㆍ!』‘|\\(\\)\\[\\]`\\'…》\\”\\“\\’·◇②【】<>�→α&]', '', title_data[i])\n",
    "    df_news['nouns_title'][i] = cleaner\n",
    "\n",
    "df_news.loc[:5,['title', 'nouns_title']]"
   ]
  },
  {
   "cell_type": "markdown",
   "id": "cc9d2cc4",
   "metadata": {},
   "source": [
    "### 정규식 표현 ( 기사 내용 )"
   ]
  },
  {
   "cell_type": "code",
   "execution_count": 36,
   "id": "0cc4b248",
   "metadata": {
    "ExecuteTime": {
     "end_time": "2022-06-03T01:37:53.547371Z",
     "start_time": "2022-06-03T01:37:51.842931Z"
    }
   },
   "outputs": [
    {
     "data": {
      "text/html": [
       "<div>\n",
       "<style scoped>\n",
       "    .dataframe tbody tr th:only-of-type {\n",
       "        vertical-align: middle;\n",
       "    }\n",
       "\n",
       "    .dataframe tbody tr th {\n",
       "        vertical-align: top;\n",
       "    }\n",
       "\n",
       "    .dataframe thead th {\n",
       "        text-align: right;\n",
       "    }\n",
       "</style>\n",
       "<table border=\"1\" class=\"dataframe\">\n",
       "  <thead>\n",
       "    <tr style=\"text-align: right;\">\n",
       "      <th></th>\n",
       "      <th>contents</th>\n",
       "      <th>nouns_contents</th>\n",
       "    </tr>\n",
       "  </thead>\n",
       "  <tbody>\n",
       "    <tr>\n",
       "      <th>0</th>\n",
       "      <td>DGB대구은행이 엊그제 둔산동에 대전지역 1호 점포를 개설하고 충청권 영업에 본격 ...</td>\n",
       "      <td>DGB대구은행이 엊그제 둔산동에 대전지역 1호 점포를 개설하고 충청권 영업에 본격 ...</td>\n",
       "    </tr>\n",
       "    <tr>\n",
       "      <th>1</th>\n",
       "      <td>DGB대구은행이 대전지역 진출을 본격화한 가운데 다소 냉담한 반응이 흘러나오고 있다...</td>\n",
       "      <td>DGB대구은행이 대전지역 진출을 본격화한 가운데 다소 냉담한 반응이 흘러나오고 있다...</td>\n",
       "    </tr>\n",
       "    <tr>\n",
       "      <th>2</th>\n",
       "      <td>DGB대구은행 5.9건, SC제일은행 5.4건, KB국민은행 4.8건, 우리은행 4...</td>\n",
       "      <td>DGB대구은행 59건 SC제일은행 54건 KB국민은행 48건 우리은행 44건으로 뒤...</td>\n",
       "    </tr>\n",
       "    <tr>\n",
       "      <th>3</th>\n",
       "      <td>DGB대구은행이 지난달 30일 대전지점을 개점하고, 국토 및 교통의 중심지인 충청지...</td>\n",
       "      <td>DGB대구은행이 지난달 30일 대전지점을 개점하고 국토 및 교통의 중심지인 충청지역...</td>\n",
       "    </tr>\n",
       "    <tr>\n",
       "      <th>4</th>\n",
       "      <td>DGB대구은행이 대전에 점포를 열었습니다. DGB대구은행은 어제 대전시 서구 문예로...</td>\n",
       "      <td>DGB대구은행이 대전에 점포를 열었습니다 DGB대구은행은 어제 대전시 서구 문예로에...</td>\n",
       "    </tr>\n",
       "    <tr>\n",
       "      <th>5</th>\n",
       "      <td>DGB대구은행이 30일 대전지점(대전광역시 서구 문예로 65)을 개점하고, 국토 및...</td>\n",
       "      <td>DGB대구은행이 30일 대전지점대전광역시 서구 문예로 65을 개점하고 국토 및 교통...</td>\n",
       "    </tr>\n",
       "  </tbody>\n",
       "</table>\n",
       "</div>"
      ],
      "text/plain": [
       "                                            contents  \\\n",
       "0  DGB대구은행이 엊그제 둔산동에 대전지역 1호 점포를 개설하고 충청권 영업에 본격 ...   \n",
       "1  DGB대구은행이 대전지역 진출을 본격화한 가운데 다소 냉담한 반응이 흘러나오고 있다...   \n",
       "2  DGB대구은행 5.9건, SC제일은행 5.4건, KB국민은행 4.8건, 우리은행 4...   \n",
       "3  DGB대구은행이 지난달 30일 대전지점을 개점하고, 국토 및 교통의 중심지인 충청지...   \n",
       "4  DGB대구은행이 대전에 점포를 열었습니다. DGB대구은행은 어제 대전시 서구 문예로...   \n",
       "5  DGB대구은행이 30일 대전지점(대전광역시 서구 문예로 65)을 개점하고, 국토 및...   \n",
       "\n",
       "                                      nouns_contents  \n",
       "0  DGB대구은행이 엊그제 둔산동에 대전지역 1호 점포를 개설하고 충청권 영업에 본격 ...  \n",
       "1  DGB대구은행이 대전지역 진출을 본격화한 가운데 다소 냉담한 반응이 흘러나오고 있다...  \n",
       "2  DGB대구은행 59건 SC제일은행 54건 KB국민은행 48건 우리은행 44건으로 뒤...  \n",
       "3  DGB대구은행이 지난달 30일 대전지점을 개점하고 국토 및 교통의 중심지인 충청지역...  \n",
       "4  DGB대구은행이 대전에 점포를 열었습니다 DGB대구은행은 어제 대전시 서구 문예로에...  \n",
       "5  DGB대구은행이 30일 대전지점대전광역시 서구 문예로 65을 개점하고 국토 및 교통...  "
      ]
     },
     "execution_count": 36,
     "metadata": {},
     "output_type": "execute_result"
    }
   ],
   "source": [
    "from tqdm import tqdm\n",
    "import copy\n",
    "\n",
    "# 경고 off\n",
    "pd.set_option('mode.chained_assignment', None)\n",
    "\n",
    "# 원본 데이터프레임 복사하여 사용\n",
    "df_news = copy.deepcopy(df_news)\n",
    "df_news.insert(8, 'nouns_contents', '0')\n",
    "contents_data = df_news['contents'].tolist()\n",
    "\n",
    "# re.sub('[-=+,#/\\?:^$.@*\\\"※%~&ㆍ\\‘\\’\\_, ②外∙·!』『\\(\\)\\[\\]\\[\\]\\<\\>\\'\\`<\\>\\銀…\\\"\\'…》→p”“◇證‧]',\n",
    "for i in range(len(contents_data)):\n",
    "    cleaner = re.sub('[-=+,#/\\?:^.@*\\\"※~ㆍ!』‘|\\(\\)\\[\\]`\\'…》\\”\\“\\’·◇②【】<>�→α&]', '', contents_data[i])\n",
    "    df_news['nouns_contents'][i] = cleaner\n",
    "\n",
    "df_news.loc[:5,['contents', 'nouns_contents']]"
   ]
  },
  {
   "cell_type": "markdown",
   "id": "e2218193",
   "metadata": {},
   "source": [
    "## 토큰화 및 불용어 제거( 1차 )\n",
    "\n",
    "<br>\n",
    "\n",
    "**Hannanum / Kkma / Komoran / Mecab / Twitter(Okt, 사용?)**\n",
    "- 제목을 토큰화 시킴\n",
    "- Okt형태소 분석기 사용\n",
    "- norm = True --> 문장을 정규화 Ex) 늘린, 늘린 / 문장 그대로\n",
    "- stem = True --> 문장을 정규화 Ex) 늘린, 늘리다 / 줄인, 줄이다 / 예뻐서 예뻤다, 예쁘다 / 즉, stem을 사용해야 함. \n",
    "- (stem은 stemming 어간화라는 뜻)\n",
    "<br>\n",
    "\n",
    "**불용어 : 자연어 처리에 큰 영향을 주지 않는 중요하지 않은 단어들을 말합니다. 주로 조사나 접사 등이 불용어**"
   ]
  },
  {
   "cell_type": "code",
   "execution_count": 37,
   "id": "911a830f",
   "metadata": {
    "ExecuteTime": {
     "end_time": "2022-06-03T01:37:54.085931Z",
     "start_time": "2022-06-03T01:37:53.548369Z"
    }
   },
   "outputs": [],
   "source": [
    "import konlpy\n",
    "from konlpy.tag import Okt\n",
    "okt = Okt()"
   ]
  },
  {
   "cell_type": "code",
   "execution_count": 38,
   "id": "7f255d94",
   "metadata": {
    "ExecuteTime": {
     "end_time": "2022-06-03T01:37:57.298337Z",
     "start_time": "2022-06-03T01:37:54.086928Z"
    }
   },
   "outputs": [
    {
     "name": "stdout",
     "output_type": "stream",
     "text": [
      "['늘린', '결과', '이다', '줄인', '많아서', '예뻤다', '1', '위']\n",
      "['늘리다', '결과', '이다', '줄이다', '많다', '예쁘다', '1', '위']\n"
     ]
    }
   ],
   "source": [
    "# 테스트\n",
    "print(okt.morphs('늘린 결과이다 줄인 많아서 예뻤다 1위', norm=True))\n",
    "print(okt.morphs('늘린 결과이다 줄인 많아서 예뻐서 1위', stem=True))"
   ]
  },
  {
   "cell_type": "code",
   "execution_count": 39,
   "id": "d96db1ce",
   "metadata": {
    "ExecuteTime": {
     "end_time": "2022-06-03T01:37:57.313297Z",
     "start_time": "2022-06-03T01:37:57.299334Z"
    }
   },
   "outputs": [],
   "source": [
    "stopwords = ['게', '다', '가', '과', '인', '듯', '지', '으로', '게임', '는', '되',\n",
    "             '겜', '를', '걍', '한', '에', '은', '좀', '임', '음', '자', '의', '을'\n",
    "             '잘', '도', '하', '만', '하다', '고', '네', '면', '와', '이', '들']\n"
   ]
  },
  {
   "cell_type": "code",
   "execution_count": 40,
   "id": "54d8144b",
   "metadata": {
    "ExecuteTime": {
     "end_time": "2022-06-03T01:38:27.533484Z",
     "start_time": "2022-06-03T01:37:57.314295Z"
    }
   },
   "outputs": [],
   "source": [
    "import konlpy\n",
    "from konlpy.tag import Okt\n",
    "okt = Okt()\n",
    "for sentence in df_news['nouns_title']:\n",
    "    tmp_X = okt.morphs(sentence, stem=True) # 토큰화\n",
    "    tmp_X = [word for word in tmp_X if not word in stopwords] # 불용어 제거  \n",
    "    # print('예외처리 전 :', tmp_X)\n",
    "\n",
    "    # ['1', '위'] --> ['1위'] 붙이기\n",
    "    if ('1' in tmp_X) and ('위' in tmp_X):\n",
    "        for i in range(len(tmp_X)):\n",
    "            if tmp_X[i] == '위' and tmp_X[i-1] == '1':\n",
    "                tmp_X[i-1] += tmp_X.pop(i)\n",
    "                break\n",
    "    copy_tmp = tmp_X.copy()\n",
    "    df_news.replace({'nouns_title':sentence}, ' '.join(copy_tmp), inplace=True) # 공백 기준으로 단어 나누기."
   ]
  },
  {
   "cell_type": "code",
   "execution_count": 41,
   "id": "bd9b5be0",
   "metadata": {
    "ExecuteTime": {
     "end_time": "2022-06-03T01:38:27.548417Z",
     "start_time": "2022-06-03T01:38:27.534454Z"
    }
   },
   "outputs": [
    {
     "data": {
      "text/html": [
       "<div>\n",
       "<style scoped>\n",
       "    .dataframe tbody tr th:only-of-type {\n",
       "        vertical-align: middle;\n",
       "    }\n",
       "\n",
       "    .dataframe tbody tr th {\n",
       "        vertical-align: top;\n",
       "    }\n",
       "\n",
       "    .dataframe thead th {\n",
       "        text-align: right;\n",
       "    }\n",
       "</style>\n",
       "<table border=\"1\" class=\"dataframe\">\n",
       "  <thead>\n",
       "    <tr style=\"text-align: right;\">\n",
       "      <th></th>\n",
       "      <th>title</th>\n",
       "      <th>nouns_title</th>\n",
       "    </tr>\n",
       "  </thead>\n",
       "  <tbody>\n",
       "    <tr>\n",
       "      <th>0</th>\n",
       "      <td>충청권이 타 지역 지방은행 각축장이 된 까닭</td>\n",
       "      <td>충청권 타 지역 지방 은행 각축 장이 되다 까닭</td>\n",
       "    </tr>\n",
       "    <tr>\n",
       "      <th>1</th>\n",
       "      <td>대전에 문 연 대구은행…지역 반응은 '글쎄'</td>\n",
       "      <td>대전 문 연 대구 은행 지역 반응 글쎄</td>\n",
       "    </tr>\n",
       "    <tr>\n",
       "      <th>2</th>\n",
       "      <td>\"민원 없는 그 날까지\" 은행권, 민원 줄이기에 총력</td>\n",
       "      <td>민원 없다 그 날 까지 은행권 민원 줄이다 총력</td>\n",
       "    </tr>\n",
       "    <tr>\n",
       "      <th>3</th>\n",
       "      <td>DGB대구은행, 대전지점 개점.. 충청도 진출</td>\n",
       "      <td>DGB 대구 은행 대전 지점 개점 충청도 진출</td>\n",
       "    </tr>\n",
       "  </tbody>\n",
       "</table>\n",
       "</div>"
      ],
      "text/plain": [
       "                           title                 nouns_title\n",
       "0       충청권이 타 지역 지방은행 각축장이 된 까닭  충청권 타 지역 지방 은행 각축 장이 되다 까닭\n",
       "1       대전에 문 연 대구은행…지역 반응은 '글쎄'       대전 문 연 대구 은행 지역 반응 글쎄\n",
       "2  \"민원 없는 그 날까지\" 은행권, 민원 줄이기에 총력  민원 없다 그 날 까지 은행권 민원 줄이다 총력\n",
       "3      DGB대구은행, 대전지점 개점.. 충청도 진출   DGB 대구 은행 대전 지점 개점 충청도 진출"
      ]
     },
     "execution_count": 41,
     "metadata": {},
     "output_type": "execute_result"
    }
   ],
   "source": [
    "df_news.loc[:3, ['title', 'nouns_title']]"
   ]
  },
  {
   "cell_type": "code",
   "execution_count": 42,
   "id": "dcf4d4b4",
   "metadata": {
    "ExecuteTime": {
     "end_time": "2022-06-03T01:40:01.108497Z",
     "start_time": "2022-06-03T01:38:27.549415Z"
    }
   },
   "outputs": [],
   "source": [
    "import konlpy\n",
    "from konlpy.tag import Okt\n",
    "okt = Okt()\n",
    "for sentence in df_news['nouns_contents']:\n",
    "    tmp_X = okt.morphs(sentence, stem=True) # 토큰화\n",
    "    tmp_X = [word for word in tmp_X if not word in stopwords] # 불용어 제거\n",
    "    \n",
    "    # ['1', '위'] --> ['1위'] 붙이기\n",
    "    if ('1' in tmp_X) and ('위' in tmp_X):\n",
    "        for i in range(len(tmp_X)):\n",
    "            if tmp_X[i] == '위' and tmp_X[i-1] == '1':\n",
    "                tmp_X[i-1] += tmp_X.pop(i)\n",
    "                break\n",
    "    \n",
    "    copy_tmp = tmp_X.copy()\n",
    "    df_news.replace({'nouns_contents':sentence}, ' '.join(copy_tmp), inplace=True) # 공백 기준으로 단어 나누기."
   ]
  },
  {
   "cell_type": "code",
   "execution_count": 43,
   "id": "086db098",
   "metadata": {
    "ExecuteTime": {
     "end_time": "2022-06-03T01:40:01.123321Z",
     "start_time": "2022-06-03T01:40:01.109359Z"
    },
    "scrolled": true
   },
   "outputs": [
    {
     "data": {
      "text/html": [
       "<div>\n",
       "<style scoped>\n",
       "    .dataframe tbody tr th:only-of-type {\n",
       "        vertical-align: middle;\n",
       "    }\n",
       "\n",
       "    .dataframe tbody tr th {\n",
       "        vertical-align: top;\n",
       "    }\n",
       "\n",
       "    .dataframe thead th {\n",
       "        text-align: right;\n",
       "    }\n",
       "</style>\n",
       "<table border=\"1\" class=\"dataframe\">\n",
       "  <thead>\n",
       "    <tr style=\"text-align: right;\">\n",
       "      <th></th>\n",
       "      <th>contents</th>\n",
       "      <th>nouns_contents</th>\n",
       "    </tr>\n",
       "  </thead>\n",
       "  <tbody>\n",
       "    <tr>\n",
       "      <th>0</th>\n",
       "      <td>DGB대구은행이 엊그제 둔산동에 대전지역 1호 점포를 개설하고 충청권 영업에 본격 ...</td>\n",
       "      <td>DGB 대 구 은행 엊그제 둔산동 대전 지역 1 호 점포 개설 하고 충청권 영업 본...</td>\n",
       "    </tr>\n",
       "    <tr>\n",
       "      <th>1</th>\n",
       "      <td>DGB대구은행이 대전지역 진출을 본격화한 가운데 다소 냉담한 반응이 흘러나오고 있다...</td>\n",
       "      <td>DGB 대 구 은행 대전 지역 진출 을 본격 화 가운데 다소 냉담하다 반응 흘러나오...</td>\n",
       "    </tr>\n",
       "    <tr>\n",
       "      <th>2</th>\n",
       "      <td>DGB대구은행 5.9건, SC제일은행 5.4건, KB국민은행 4.8건, 우리은행 4...</td>\n",
       "      <td>DGB 대구 은행 59 건 SC 제 일 은행 54 건 KB 국민은행 48 건 우리은...</td>\n",
       "    </tr>\n",
       "    <tr>\n",
       "      <th>3</th>\n",
       "      <td>DGB대구은행이 지난달 30일 대전지점을 개점하고, 국토 및 교통의 중심지인 충청지...</td>\n",
       "      <td>DGB 대 구 은행 지난달 30일 대 전 지점 을 개점 하고 국토 및 교통 중심지 ...</td>\n",
       "    </tr>\n",
       "  </tbody>\n",
       "</table>\n",
       "</div>"
      ],
      "text/plain": [
       "                                            contents  \\\n",
       "0  DGB대구은행이 엊그제 둔산동에 대전지역 1호 점포를 개설하고 충청권 영업에 본격 ...   \n",
       "1  DGB대구은행이 대전지역 진출을 본격화한 가운데 다소 냉담한 반응이 흘러나오고 있다...   \n",
       "2  DGB대구은행 5.9건, SC제일은행 5.4건, KB국민은행 4.8건, 우리은행 4...   \n",
       "3  DGB대구은행이 지난달 30일 대전지점을 개점하고, 국토 및 교통의 중심지인 충청지...   \n",
       "\n",
       "                                      nouns_contents  \n",
       "0  DGB 대 구 은행 엊그제 둔산동 대전 지역 1 호 점포 개설 하고 충청권 영업 본...  \n",
       "1  DGB 대 구 은행 대전 지역 진출 을 본격 화 가운데 다소 냉담하다 반응 흘러나오...  \n",
       "2  DGB 대구 은행 59 건 SC 제 일 은행 54 건 KB 국민은행 48 건 우리은...  \n",
       "3  DGB 대 구 은행 지난달 30일 대 전 지점 을 개점 하고 국토 및 교통 중심지 ...  "
      ]
     },
     "execution_count": 43,
     "metadata": {},
     "output_type": "execute_result"
    }
   ],
   "source": [
    "df_news.loc[:3, ['contents', 'nouns_contents']]"
   ]
  },
  {
   "cell_type": "markdown",
   "id": "75f67cf9",
   "metadata": {},
   "source": [
    "## 파생변수 불필요데이터(이상치?) 처리 \n",
    "**nouns_contents 컬럼**\n",
    "- 외화 / 외화 Buyamp / It 해당 단어들이 들어가 있으면 --> 스크래핑 오류 또한, 요약본 기준 글자갯수가 40이하라면 이상치로 판단 --> 또한 의미없는 데이터가 주로 분포됨 90% 이상"
   ]
  },
  {
   "cell_type": "code",
   "execution_count": 44,
   "id": "d80d87d3",
   "metadata": {
    "ExecuteTime": {
     "end_time": "2022-06-03T01:40:01.213109Z",
     "start_time": "2022-06-03T01:40:01.124319Z"
    }
   },
   "outputs": [
    {
     "data": {
      "text/html": [
       "<div>\n",
       "<style scoped>\n",
       "    .dataframe tbody tr th:only-of-type {\n",
       "        vertical-align: middle;\n",
       "    }\n",
       "\n",
       "    .dataframe tbody tr th {\n",
       "        vertical-align: top;\n",
       "    }\n",
       "\n",
       "    .dataframe thead th {\n",
       "        text-align: right;\n",
       "    }\n",
       "</style>\n",
       "<table border=\"1\" class=\"dataframe\">\n",
       "  <thead>\n",
       "    <tr style=\"text-align: right;\">\n",
       "      <th></th>\n",
       "      <th>contents</th>\n",
       "      <th>nouns_contents</th>\n",
       "    </tr>\n",
       "  </thead>\n",
       "  <tbody>\n",
       "    <tr>\n",
       "      <th>65</th>\n",
       "      <td>당분간 인수합병(M&amp;amp</td>\n",
       "      <td>당분간 인수합병 Mamp</td>\n",
       "    </tr>\n",
       "    <tr>\n",
       "      <th>74</th>\n",
       "      <td>(18:30 대전) KIA(윌랜드) : NC(김영규) (18:30 창원) &amp;lt</td>\n",
       "      <td>1830 대전 KIA 윌 랜드 NC 김영규 1830 창원 lt</td>\n",
       "    </tr>\n",
       "    <tr>\n",
       "      <th>1132</th>\n",
       "      <td>김석현 ◆DGB대구은행 &amp;lt</td>\n",
       "      <td>김 석현 ◆ DGB 대구 은행 lt</td>\n",
       "    </tr>\n",
       "  </tbody>\n",
       "</table>\n",
       "</div>"
      ],
      "text/plain": [
       "                                          contents  \\\n",
       "65                                  당분간 인수합병(M&amp   \n",
       "74    (18:30 대전) KIA(윌랜드) : NC(김영규) (18:30 창원) &lt   \n",
       "1132                              김석현 ◆DGB대구은행 &lt   \n",
       "\n",
       "                          nouns_contents  \n",
       "65                         당분간 인수합병 Mamp  \n",
       "74    1830 대전 KIA 윌 랜드 NC 김영규 1830 창원 lt  \n",
       "1132                 김 석현 ◆ DGB 대구 은행 lt  "
      ]
     },
     "execution_count": 44,
     "metadata": {},
     "output_type": "execute_result"
    }
   ],
   "source": [
    "r_idx = list()\n",
    "for i in range(len(df_news)):\n",
    "    if len(df_news['nouns_contents'][i]) <= 60:# or  '외화 Buyamp' in df_news['nouns_contents'][i]:\n",
    "        r_idx.append(i)\n",
    "df_news.loc[r_idx, ['contents', 'nouns_contents']][:3]"
   ]
  },
  {
   "cell_type": "code",
   "execution_count": 45,
   "id": "3c26d88d",
   "metadata": {
    "ExecuteTime": {
     "end_time": "2022-06-03T01:40:01.228046Z",
     "start_time": "2022-06-03T01:40:01.214079Z"
    }
   },
   "outputs": [
    {
     "name": "stdout",
     "output_type": "stream",
     "text": [
      "원본 : 16626\n"
     ]
    }
   ],
   "source": [
    "# 불필요데이터 제거\n",
    "print('원본 :', len(df_news))\n",
    "a = len(df_news)\n",
    "df_news.drop(index = r_idx, axis=0, inplace=True)"
   ]
  },
  {
   "cell_type": "code",
   "execution_count": 46,
   "id": "5345f375",
   "metadata": {
    "ExecuteTime": {
     "end_time": "2022-06-03T01:40:01.243005Z",
     "start_time": "2022-06-03T01:40:01.229039Z"
    }
   },
   "outputs": [],
   "source": [
    "# 인덱스 번호 새로 부여.\n",
    "df_news.reset_index(inplace=True)\n",
    "df_news.drop(['index'], axis=1, inplace=True)"
   ]
  },
  {
   "cell_type": "code",
   "execution_count": 47,
   "id": "6e30177f",
   "metadata": {
    "ExecuteTime": {
     "end_time": "2022-06-03T01:40:01.257965Z",
     "start_time": "2022-06-03T01:40:01.243999Z"
    }
   },
   "outputs": [
    {
     "name": "stdout",
     "output_type": "stream",
     "text": [
      "제거 후 : 16523\n",
      "불필요 데이터 : 103\n"
     ]
    }
   ],
   "source": [
    "print('제거 후 :', len(df_news))\n",
    "print('불필요 데이터 :', a - len(df_news))"
   ]
  },
  {
   "cell_type": "markdown",
   "id": "6a316465",
   "metadata": {},
   "source": [
    "## 리스트 변환 --> 단어별로 긍정 부정 중립 판단"
   ]
  },
  {
   "cell_type": "code",
   "execution_count": 48,
   "id": "588f12f9",
   "metadata": {
    "ExecuteTime": {
     "end_time": "2022-06-03T01:40:01.272925Z",
     "start_time": "2022-06-03T01:40:01.258958Z"
    }
   },
   "outputs": [
    {
     "data": {
      "text/html": [
       "<div>\n",
       "<style scoped>\n",
       "    .dataframe tbody tr th:only-of-type {\n",
       "        vertical-align: middle;\n",
       "    }\n",
       "\n",
       "    .dataframe tbody tr th {\n",
       "        vertical-align: top;\n",
       "    }\n",
       "\n",
       "    .dataframe thead th {\n",
       "        text-align: right;\n",
       "    }\n",
       "</style>\n",
       "<table border=\"1\" class=\"dataframe\">\n",
       "  <thead>\n",
       "    <tr style=\"text-align: right;\">\n",
       "      <th></th>\n",
       "      <th>nouns_title</th>\n",
       "    </tr>\n",
       "  </thead>\n",
       "  <tbody>\n",
       "    <tr>\n",
       "      <th>0</th>\n",
       "      <td>충청권 타 지역 지방 은행 각축 장이 되다 까닭</td>\n",
       "    </tr>\n",
       "    <tr>\n",
       "      <th>1</th>\n",
       "      <td>대전 문 연 대구 은행 지역 반응 글쎄</td>\n",
       "    </tr>\n",
       "    <tr>\n",
       "      <th>2</th>\n",
       "      <td>민원 없다 그 날 까지 은행권 민원 줄이다 총력</td>\n",
       "    </tr>\n",
       "    <tr>\n",
       "      <th>3</th>\n",
       "      <td>DGB 대구 은행 대전 지점 개점 충청도 진출</td>\n",
       "    </tr>\n",
       "  </tbody>\n",
       "</table>\n",
       "</div>"
      ],
      "text/plain": [
       "                  nouns_title\n",
       "0  충청권 타 지역 지방 은행 각축 장이 되다 까닭\n",
       "1       대전 문 연 대구 은행 지역 반응 글쎄\n",
       "2  민원 없다 그 날 까지 은행권 민원 줄이다 총력\n",
       "3   DGB 대구 은행 대전 지점 개점 충청도 진출"
      ]
     },
     "execution_count": 48,
     "metadata": {},
     "output_type": "execute_result"
    }
   ],
   "source": [
    "df_news.loc[:3, ['nouns_title']]"
   ]
  },
  {
   "cell_type": "code",
   "execution_count": 49,
   "id": "c77e23d8",
   "metadata": {
    "ExecuteTime": {
     "end_time": "2022-06-03T01:40:01.287881Z",
     "start_time": "2022-06-03T01:40:01.273918Z"
    },
    "scrolled": true
   },
   "outputs": [
    {
     "name": "stdout",
     "output_type": "stream",
     "text": [
      "['충청권', '타', '지역', '지방', '은행', '각축', '장이', '되다', '까닭']\n",
      "['대전', '문', '연', '대구', '은행', '지역', '반응', '글쎄']\n",
      "['민원', '없다', '그', '날', '까지', '은행권', '민원', '줄이다', '총력']\n",
      "['DGB', '대구', '은행', '대전', '지점', '개점', '충청도', '진출']\n"
     ]
    }
   ],
   "source": [
    "df_news.loc[:5, ['nouns_title']]\n",
    "# nouns 컬럼 --> 공백을 기준으로 나눠 리스트로 변환\n",
    "df_news['nouns_title'][0].split(' ')\n",
    "for title_words in df_news['nouns_title'][:4]:\n",
    "    print(list(title_words.split(' ')))"
   ]
  },
  {
   "cell_type": "code",
   "execution_count": 50,
   "id": "0b2e6c47",
   "metadata": {
    "ExecuteTime": {
     "end_time": "2022-06-03T01:40:01.302845Z",
     "start_time": "2022-06-03T01:40:01.288880Z"
    }
   },
   "outputs": [
    {
     "data": {
      "text/html": [
       "<div>\n",
       "<style scoped>\n",
       "    .dataframe tbody tr th:only-of-type {\n",
       "        vertical-align: middle;\n",
       "    }\n",
       "\n",
       "    .dataframe tbody tr th {\n",
       "        vertical-align: top;\n",
       "    }\n",
       "\n",
       "    .dataframe thead th {\n",
       "        text-align: right;\n",
       "    }\n",
       "</style>\n",
       "<table border=\"1\" class=\"dataframe\">\n",
       "  <thead>\n",
       "    <tr style=\"text-align: right;\">\n",
       "      <th></th>\n",
       "      <th>nouns_contents</th>\n",
       "    </tr>\n",
       "  </thead>\n",
       "  <tbody>\n",
       "    <tr>\n",
       "      <th>0</th>\n",
       "      <td>DGB 대 구 은행 엊그제 둔산동 대전 지역 1 호 점포 개설 하고 충청권 영업 본...</td>\n",
       "    </tr>\n",
       "    <tr>\n",
       "      <th>1</th>\n",
       "      <td>DGB 대 구 은행 대전 지역 진출 을 본격 화 가운데 다소 냉담하다 반응 흘러나오...</td>\n",
       "    </tr>\n",
       "    <tr>\n",
       "      <th>2</th>\n",
       "      <td>DGB 대구 은행 59 건 SC 제 일 은행 54 건 KB 국민은행 48 건 우리은...</td>\n",
       "    </tr>\n",
       "    <tr>\n",
       "      <th>3</th>\n",
       "      <td>DGB 대 구 은행 지난달 30일 대 전 지점 을 개점 하고 국토 및 교통 중심지 ...</td>\n",
       "    </tr>\n",
       "  </tbody>\n",
       "</table>\n",
       "</div>"
      ],
      "text/plain": [
       "                                      nouns_contents\n",
       "0  DGB 대 구 은행 엊그제 둔산동 대전 지역 1 호 점포 개설 하고 충청권 영업 본...\n",
       "1  DGB 대 구 은행 대전 지역 진출 을 본격 화 가운데 다소 냉담하다 반응 흘러나오...\n",
       "2  DGB 대구 은행 59 건 SC 제 일 은행 54 건 KB 국민은행 48 건 우리은...\n",
       "3  DGB 대 구 은행 지난달 30일 대 전 지점 을 개점 하고 국토 및 교통 중심지 ..."
      ]
     },
     "execution_count": 50,
     "metadata": {},
     "output_type": "execute_result"
    }
   ],
   "source": [
    "df_news.loc[:3, ['nouns_contents']]"
   ]
  },
  {
   "cell_type": "code",
   "execution_count": 51,
   "id": "ae220bcb",
   "metadata": {
    "ExecuteTime": {
     "end_time": "2022-06-03T01:40:01.317801Z",
     "start_time": "2022-06-03T01:40:01.303839Z"
    }
   },
   "outputs": [
    {
     "name": "stdout",
     "output_type": "stream",
     "text": [
      "['DGB', '대', '구', '은행', '엊그제', '둔산동', '대전', '지역', '1', '호', '점포', '개설', '하고', '충청권', '영업', '본격', '나서다', '대', '전', '지점', '이미', '지역', '진출', 'DGB', '금융', '그룹', '계열', '사인', '하이', '투자', '증권', 'DGB', '생명', 'DGB', '캐피탈', '과도', '근접하다', '있다', '전북', '은행', '부산', '은행']\n",
      "['DGB', '대', '구', '은행', '대전', '지역', '진출', '을', '본격', '화', '가운데', '다소', '냉담하다', '반응', '흘러나오다', '있다', '향토', '은행', '부재', '속', '잇다', '외지', '은행', '진출', '로', '경쟁', '과열', '양상', '을', '띠', '있다', '지역', '기반', '없다', '탓', '외지', '은행', '낮다', '지역']\n",
      "['DGB', '대구', '은행', '59', '건', 'SC', '제', '일', '은행', '54', '건', 'KB', '국민은행', '48', '건', '우리은행', '44', '건', '뒤', '이다', '총', '민원', '건수', '국민은행', '1512', '건', '가장', '많다', '이다', 'NH', '농협', '은행', '1250', '건', '신한은행', '1026', '건', '우리은행', '1024', '건', '순', '이다', '고객', '민원', '을']\n",
      "['DGB', '대', '구', '은행', '지난달', '30일', '대', '전', '지점', '을', '개점', '하고', '국토', '및', '교통', '중심지', '충청', '지역', '진출', '신호탄', '을', '알리다', 'DGB', '대', '구', '은행', '서울', '지역', '3', '개점', '서울', '영업', '부', '강남', '영업', '부', '여의도', '지점', '경인', '지역', '5', '개점', '반월', '공', '단', '지점']\n"
     ]
    }
   ],
   "source": [
    "for title_words in df_news['nouns_contents'][:4]:\n",
    "    print(list(title_words.split(' ')))"
   ]
  },
  {
   "cell_type": "code",
   "execution_count": 52,
   "id": "85a5f3b0",
   "metadata": {
    "ExecuteTime": {
     "end_time": "2022-06-03T01:40:01.527245Z",
     "start_time": "2022-06-03T01:40:01.318798Z"
    }
   },
   "outputs": [
    {
     "ename": "NameError",
     "evalue": "name 'len_words' is not defined",
     "output_type": "error",
     "traceback": [
      "\u001b[1;31m---------------------------------------------------------------------------\u001b[0m",
      "\u001b[1;31mNameError\u001b[0m                                 Traceback (most recent call last)",
      "\u001b[1;32m<ipython-input-52-9ef741189758>\u001b[0m in \u001b[0;36m<module>\u001b[1;34m\u001b[0m\n\u001b[0;32m     10\u001b[0m \u001b[1;31m#             words[i[1]] = 0\u001b[0m\u001b[1;33m\u001b[0m\u001b[1;33m\u001b[0m\u001b[1;33m\u001b[0m\u001b[0m\n\u001b[0;32m     11\u001b[0m \u001b[1;31m#         else:\u001b[0m\u001b[1;33m\u001b[0m\u001b[1;33m\u001b[0m\u001b[1;33m\u001b[0m\u001b[0m\n\u001b[1;32m---> 12\u001b[1;33m         \u001b[0mlen_words\u001b[0m\u001b[1;33m[\u001b[0m\u001b[0mi\u001b[0m\u001b[1;33m[\u001b[0m\u001b[1;36m1\u001b[0m\u001b[1;33m]\u001b[0m\u001b[1;33m]\u001b[0m \u001b[1;33m+=\u001b[0m \u001b[1;36m1\u001b[0m\u001b[1;33m\u001b[0m\u001b[1;33m\u001b[0m\u001b[0m\n\u001b[0m\u001b[0;32m     13\u001b[0m         \u001b[1;32mif\u001b[0m \u001b[0mi\u001b[0m\u001b[1;33m[\u001b[0m\u001b[1;36m1\u001b[0m\u001b[1;33m]\u001b[0m \u001b[1;33m==\u001b[0m \u001b[1;34m'Verb'\u001b[0m\u001b[1;33m:\u001b[0m\u001b[1;33m\u001b[0m\u001b[1;33m\u001b[0m\u001b[0m\n\u001b[0;32m     14\u001b[0m             \u001b[0mwords\u001b[0m\u001b[1;33m[\u001b[0m\u001b[0mi\u001b[0m\u001b[1;33m[\u001b[0m\u001b[1;36m0\u001b[0m\u001b[1;33m]\u001b[0m\u001b[1;33m]\u001b[0m \u001b[1;33m+=\u001b[0m \u001b[1;36m1\u001b[0m\u001b[1;33m\u001b[0m\u001b[1;33m\u001b[0m\u001b[0m\n",
      "\u001b[1;31mNameError\u001b[0m: name 'len_words' is not defined"
     ]
    }
   ],
   "source": [
    "# # 동사 중에서 가장 많이 나타나는 20개의 동사 추출 후 기사 검색 \n",
    "# # 동사는 아직 패스\n",
    "# from collections import defaultdict\n",
    "\n",
    "# words = defaultdict(int)\n",
    "\n",
    "# for title_words in df_news['nouns_contents']:\n",
    "#     for i in okt.pos(title_words):\n",
    "# #         if not words:\n",
    "# #             words[i[1]] = 0\n",
    "# #         else:\n",
    "#         len_words[i[1]] += 1\n",
    "#         if i[1] == 'Verb':\n",
    "#             words[i[0]] += 1\n",
    "# #             # if i[0] == '밝히다' or i[0] == '알려지다' or i[0] == '나누다' or i[0] == '늘어나다' or i[0] == '따르다'\n",
    "# #             print(i[0])\n",
    "# #     print()\n"
   ]
  },
  {
   "cell_type": "code",
   "execution_count": null,
   "id": "1d62bbb1",
   "metadata": {
    "ExecuteTime": {
     "end_time": "2022-06-03T01:40:01.528239Z",
     "start_time": "2022-06-03T01:37:47.980Z"
    }
   },
   "outputs": [],
   "source": [
    "# import operator\n",
    "\n",
    "# top_20 = sorted(words.items(), key = operator.itemgetter(1), reverse = True)\n",
    "# check = list()\n",
    "# for verb_cnt in top_20[2:]:\n",
    "#     if len(verb_cnt[0]) == 1:\n",
    "#         continue\n",
    "#     else:\n",
    "#         if len(check) <= 20:\n",
    "#             check.append(verb_cnt[1])\n",
    "#         else:\n",
    "#             break\n",
    "\n",
    "# print(top_20[:25])\n",
    "# print()\n",
    "# print(' '.join(map(str, check)))"
   ]
  },
  {
   "cell_type": "markdown",
   "id": "c605eef2",
   "metadata": {},
   "source": [
    "## 중립 개수가 너무 많음.\n",
    "- 제목별로 단어개수를 파악해서 긍정단어사전과 부정단어사전을 만들어서 레이블링 작업 진행해야 함. \n",
    "- 기사당 긍정단어개수 - 부정단어개수가 0보다 크면 긍정 작으면 부정 0이라면 중립으로 진행\n",
    "\n",
    "**nouns_title 컬럼에서 길이가 1 / 한자 제거**\n",
    "<br>\n",
    "**nouns_title 컬럼에서 'A' / '↑' 예외 처리**"
   ]
  },
  {
   "cell_type": "markdown",
   "id": "0472600e",
   "metadata": {},
   "source": [
    "### 기사 제목 ( 추가 불용어 제거 )"
   ]
  },
  {
   "cell_type": "code",
   "execution_count": 53,
   "id": "aaf54fab",
   "metadata": {
    "ExecuteTime": {
     "end_time": "2022-06-03T01:41:43.887440Z",
     "start_time": "2022-06-03T01:41:43.872480Z"
    }
   },
   "outputs": [
    {
     "name": "stdout",
     "output_type": "stream",
     "text": [
      "리스트 레이블링 정제 전\n",
      "['충청권', '타', '지역', '지방', '은행', '각축', '장이', '되다', '까닭']\n",
      "['대전', '문', '연', '대구', '은행', '지역', '반응', '글쎄']\n",
      "['민원', '없다', '그', '날', '까지', '은행권', '민원', '줄이다', '총력']\n",
      "['DGB', '대구', '은행', '대전', '지점', '개점', '충청도', '진출']\n"
     ]
    }
   ],
   "source": [
    "# 리스트로 변환 후 체크 \n",
    "print('리스트 레이블링 정제 전')\n",
    "# nouns 컬럼 --> 공백을 기준으로 나눠 리스트로 변환\n",
    "df_news['nouns_title'][0].split(' ')\n",
    "for title_words in df_news['nouns_title'][:4]:\n",
    "    print(list(title_words.split(' ')))"
   ]
  },
  {
   "cell_type": "code",
   "execution_count": 54,
   "id": "cffca0d9",
   "metadata": {
    "ExecuteTime": {
     "end_time": "2022-06-03T01:41:44.007119Z",
     "start_time": "2022-06-03T01:41:43.992160Z"
    }
   },
   "outputs": [
    {
     "name": "stdout",
     "output_type": "stream",
     "text": [
      "It is an alphabet\n"
     ]
    }
   ],
   "source": [
    "# # [-=+,#/\\?:^.@*\\\"※~ㆍ!』‘|\\(\\)\\[\\]`\\'…》\\”\\“\\’·◇②【】<>�→α&]\n",
    "import re\n",
    "word=\"↑\" # 테스트 용\n",
    "# 한글 / 대소문자 / 숫자만 확인\n",
    "reg = re.compile(r'[가-힣a-zA-Z0-9↑]') \n",
    "\n",
    "if reg.match(word):\n",
    "    print(\"It is an alphabet\")\n",
    "else:\n",
    "    print(\"It is not an alphabet\")"
   ]
  },
  {
   "cell_type": "code",
   "execution_count": 55,
   "id": "1ef84b09",
   "metadata": {
    "ExecuteTime": {
     "end_time": "2022-06-03T01:42:00.253735Z",
     "start_time": "2022-06-03T01:41:44.456965Z"
    }
   },
   "outputs": [
    {
     "data": {
      "text/html": [
       "<div>\n",
       "<style scoped>\n",
       "    .dataframe tbody tr th:only-of-type {\n",
       "        vertical-align: middle;\n",
       "    }\n",
       "\n",
       "    .dataframe tbody tr th {\n",
       "        vertical-align: top;\n",
       "    }\n",
       "\n",
       "    .dataframe thead th {\n",
       "        text-align: right;\n",
       "    }\n",
       "</style>\n",
       "<table border=\"1\" class=\"dataframe\">\n",
       "  <thead>\n",
       "    <tr style=\"text-align: right;\">\n",
       "      <th></th>\n",
       "      <th>date</th>\n",
       "      <th>year</th>\n",
       "      <th>month</th>\n",
       "      <th>day</th>\n",
       "      <th>title</th>\n",
       "      <th>nouns_title</th>\n",
       "      <th>press</th>\n",
       "      <th>contents</th>\n",
       "      <th>nouns_contents</th>\n",
       "    </tr>\n",
       "  </thead>\n",
       "  <tbody>\n",
       "    <tr>\n",
       "      <th>0</th>\n",
       "      <td>2019-05-01</td>\n",
       "      <td>2019</td>\n",
       "      <td>5</td>\n",
       "      <td>1</td>\n",
       "      <td>충청권이 타 지역 지방은행 각축장이 된 까닭</td>\n",
       "      <td>충청권 지역 지방 은행 각축 장이 되다 까닭</td>\n",
       "      <td>충청투데이</td>\n",
       "      <td>DGB대구은행이 엊그제 둔산동에 대전지역 1호 점포를 개설하고 충청권 영업에 본격 ...</td>\n",
       "      <td>DGB 대 구 은행 엊그제 둔산동 대전 지역 1 호 점포 개설 하고 충청권 영업 본...</td>\n",
       "    </tr>\n",
       "    <tr>\n",
       "      <th>1</th>\n",
       "      <td>2019-05-01</td>\n",
       "      <td>2019</td>\n",
       "      <td>5</td>\n",
       "      <td>1</td>\n",
       "      <td>대전에 문 연 대구은행…지역 반응은 '글쎄'</td>\n",
       "      <td>대전 대구 은행 지역 반응 글쎄</td>\n",
       "      <td>충청투데이</td>\n",
       "      <td>DGB대구은행이 대전지역 진출을 본격화한 가운데 다소 냉담한 반응이 흘러나오고 있다...</td>\n",
       "      <td>DGB 대 구 은행 대전 지역 진출 을 본격 화 가운데 다소 냉담하다 반응 흘러나오...</td>\n",
       "    </tr>\n",
       "  </tbody>\n",
       "</table>\n",
       "</div>"
      ],
      "text/plain": [
       "        date  year  month  day                     title  \\\n",
       "0 2019-05-01  2019      5    1  충청권이 타 지역 지방은행 각축장이 된 까닭   \n",
       "1 2019-05-01  2019      5    1  대전에 문 연 대구은행…지역 반응은 '글쎄'   \n",
       "\n",
       "                nouns_title  press  \\\n",
       "0  충청권 지역 지방 은행 각축 장이 되다 까닭  충청투데이   \n",
       "1         대전 대구 은행 지역 반응 글쎄  충청투데이   \n",
       "\n",
       "                                            contents  \\\n",
       "0  DGB대구은행이 엊그제 둔산동에 대전지역 1호 점포를 개설하고 충청권 영업에 본격 ...   \n",
       "1  DGB대구은행이 대전지역 진출을 본격화한 가운데 다소 냉담한 반응이 흘러나오고 있다...   \n",
       "\n",
       "                                      nouns_contents  \n",
       "0  DGB 대 구 은행 엊그제 둔산동 대전 지역 1 호 점포 개설 하고 충청권 영업 본...  \n",
       "1  DGB 대 구 은행 대전 지역 진출 을 본격 화 가운데 다소 냉담하다 반응 흘러나오...  "
      ]
     },
     "execution_count": 55,
     "metadata": {},
     "output_type": "execute_result"
    }
   ],
   "source": [
    "import re\n",
    "# 1글자짜리 한글 한자 제거\n",
    "reg = re.compile(r'[가-힣a-zA-Z0-9↑]')\n",
    "def Chinese_character(x):\n",
    "    if reg.match(x): # 한글 / 대소문자 / 숫자\n",
    "        return False\n",
    "    else: # 한자\n",
    "        return True\n",
    "    \n",
    "for title_words in df_news['nouns_title']: # xxx --> df_news\n",
    "    ch_list = list(title_words.split(' '))\n",
    "    change_value = ''\n",
    "    for i in range(len(ch_list)):\n",
    "        if ch_list[i] == '↑' or ch_list[i] == 'A':\n",
    "            change_value += ch_list[i]\n",
    "            continue\n",
    "            \n",
    "        if len(ch_list[i]) < 2 or Chinese_character(ch_list[i]): # 1글자 이하 또는 함수내에 있다면 제거\n",
    "            continue\n",
    "        else:\n",
    "            change_value += ch_list[i]\n",
    "        \n",
    "        # 리스트 마지막 '' 제거\n",
    "        change_value += ' '\n",
    "    df_news.replace({'nouns_title' : title_words}, change_value[:-1], inplace=True)\n",
    "    \n",
    "df_news.head(2)"
   ]
  },
  {
   "cell_type": "markdown",
   "id": "129011aa",
   "metadata": {},
   "source": [
    "## 파일 저장"
   ]
  },
  {
   "cell_type": "code",
   "execution_count": 56,
   "id": "5e9b55d0",
   "metadata": {
    "ExecuteTime": {
     "end_time": "2022-06-03T01:42:00.283625Z",
     "start_time": "2022-06-03T01:42:00.254702Z"
    }
   },
   "outputs": [
    {
     "name": "stdout",
     "output_type": "stream",
     "text": [
      "<class 'pandas.core.frame.DataFrame'>\n",
      "RangeIndex: 16523 entries, 0 to 16522\n",
      "Data columns (total 9 columns):\n",
      " #   Column          Non-Null Count  Dtype         \n",
      "---  ------          --------------  -----         \n",
      " 0   date            16523 non-null  datetime64[ns]\n",
      " 1   year            16523 non-null  int64         \n",
      " 2   month           16523 non-null  int64         \n",
      " 3   day             16523 non-null  int64         \n",
      " 4   title           16523 non-null  object        \n",
      " 5   nouns_title     16523 non-null  object        \n",
      " 6   press           16523 non-null  object        \n",
      " 7   contents        16523 non-null  object        \n",
      " 8   nouns_contents  16523 non-null  object        \n",
      "dtypes: datetime64[ns](1), int64(3), object(5)\n",
      "memory usage: 1.1+ MB\n"
     ]
    }
   ],
   "source": [
    "df_news.info()"
   ]
  },
  {
   "cell_type": "markdown",
   "id": "0b814794",
   "metadata": {},
   "source": [
    "### 중복 제거 O"
   ]
  },
  {
   "cell_type": "code",
   "execution_count": 57,
   "id": "d59a7b12",
   "metadata": {
    "ExecuteTime": {
     "end_time": "2022-06-03T01:42:00.328505Z",
     "start_time": "2022-06-03T01:42:00.284623Z"
    }
   },
   "outputs": [],
   "source": [
    "df_news_overlap = df_news.copy()\n",
    "df_news_overlap.drop_duplicates(['contents'], keep = False, inplace=True)\n",
    "df_news_overlap.drop_duplicates(['title'], keep = False, inplace=True)"
   ]
  },
  {
   "cell_type": "code",
   "execution_count": 58,
   "id": "9e5226ee",
   "metadata": {
    "ExecuteTime": {
     "end_time": "2022-06-03T01:42:00.343465Z",
     "start_time": "2022-06-03T01:42:00.329502Z"
    }
   },
   "outputs": [],
   "source": [
    "# 저장전 날짜별 내림차순으로 정렬\n",
    "df_news_overlap.sort_values(by = ['date'], inplace=True, ascending=True)\n",
    "\n",
    "# 인덱스 번호 새로 부여.\n",
    "df_news_overlap.reset_index(inplace=True)\n",
    "df_news_overlap.drop(['index'], axis=1, inplace=True)"
   ]
  },
  {
   "cell_type": "code",
   "execution_count": 59,
   "id": "dfdb220b",
   "metadata": {
    "ExecuteTime": {
     "end_time": "2022-06-03T01:42:00.358429Z",
     "start_time": "2022-06-03T01:42:00.344463Z"
    }
   },
   "outputs": [
    {
     "data": {
      "text/plain": [
       "16523"
      ]
     },
     "execution_count": 59,
     "metadata": {},
     "output_type": "execute_result"
    }
   ],
   "source": [
    "len(df_news_overlap)"
   ]
  },
  {
   "cell_type": "code",
   "execution_count": 60,
   "id": "f2b2dccf",
   "metadata": {
    "ExecuteTime": {
     "end_time": "2022-06-03T01:42:00.612881Z",
     "start_time": "2022-06-03T01:42:00.359423Z"
    }
   },
   "outputs": [],
   "source": [
    "# 중복 제거 O\n",
    "df_news_overlap.to_csv('news_data_preprocessing_duplicate.csv')"
   ]
  },
  {
   "cell_type": "markdown",
   "id": "0231a8e2",
   "metadata": {},
   "source": [
    "### 중복 제거 X"
   ]
  },
  {
   "cell_type": "code",
   "execution_count": 61,
   "id": "be8fb173",
   "metadata": {
    "ExecuteTime": {
     "end_time": "2022-06-03T01:42:00.627709Z",
     "start_time": "2022-06-03T01:42:00.613742Z"
    }
   },
   "outputs": [],
   "source": [
    "# 저장전 날짜별 내림차순으로 정렬\n",
    "df_news.sort_values(by = ['date'], inplace=True, ascending=True)\n",
    "\n",
    "# 인덱스 번호 새로 부여.\n",
    "df_news.reset_index(inplace=True)\n",
    "df_news.drop(['index'], axis=1, inplace=True)"
   ]
  },
  {
   "cell_type": "code",
   "execution_count": 62,
   "id": "9f294866",
   "metadata": {
    "ExecuteTime": {
     "end_time": "2022-06-03T01:42:00.642674Z",
     "start_time": "2022-06-03T01:42:00.628702Z"
    }
   },
   "outputs": [],
   "source": [
    "# 기술 통계량 확인\n",
    "# df_news.describe(include='all')"
   ]
  },
  {
   "cell_type": "code",
   "execution_count": 63,
   "id": "eb3cd751",
   "metadata": {
    "ExecuteTime": {
     "end_time": "2022-06-03T01:42:00.896993Z",
     "start_time": "2022-06-03T01:42:00.643668Z"
    }
   },
   "outputs": [],
   "source": [
    "# 중복 제거 X\n",
    "df_news.to_csv('news_data_preprocessing.csv')"
   ]
  },
  {
   "cell_type": "code",
   "execution_count": null,
   "id": "6cf7e9de",
   "metadata": {},
   "outputs": [],
   "source": []
  }
 ],
 "metadata": {
  "kernelspec": {
   "display_name": "Proj",
   "language": "python",
   "name": "intern_project"
  },
  "language_info": {
   "codemirror_mode": {
    "name": "ipython",
    "version": 3
   },
   "file_extension": ".py",
   "mimetype": "text/x-python",
   "name": "python",
   "nbconvert_exporter": "python",
   "pygments_lexer": "ipython3",
   "version": "3.6.13"
  },
  "toc": {
   "base_numbering": 1,
   "nav_menu": {},
   "number_sections": true,
   "sideBar": true,
   "skip_h1_title": false,
   "title_cell": "Table of Contents",
   "title_sidebar": "Contents",
   "toc_cell": false,
   "toc_position": {
    "height": "691.804px",
    "left": "46.9943px",
    "top": "111.051px",
    "width": "342px"
   },
   "toc_section_display": true,
   "toc_window_display": true
  }
 },
 "nbformat": 4,
 "nbformat_minor": 5
}
