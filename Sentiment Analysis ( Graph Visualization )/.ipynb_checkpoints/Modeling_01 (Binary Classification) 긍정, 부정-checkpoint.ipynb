{
 "cells": [
  {
   "cell_type": "code",
   "execution_count": 1,
   "id": "448364d4",
   "metadata": {
    "ExecuteTime": {
     "end_time": "2022-06-10T00:04:50.645020Z",
     "start_time": "2022-06-10T00:04:47.036673Z"
    }
   },
   "outputs": [],
   "source": [
    "import tensorflow as tf\n",
    "from tensorflow.keras import datasets, layers, models\n",
    "\n",
    "gpus = tf.config.experimental.list_physical_devices('GPU')\n",
    "if gpus:\n",
    "    try:\n",
    "        # Currently, memory growth needs to be the same across GPUs\n",
    "        for gpu in gpus:\n",
    "            tf.config.experimental.set_memory_growth(gpu, True)\n",
    "    except RuntimeError as e:\n",
    "        # Memory growth must be set before GPUs have been initialized\n",
    "        print(e)"
   ]
  },
  {
   "cell_type": "markdown",
   "id": "68b209b2",
   "metadata": {},
   "source": [
    "# 전처리된 데이터 셋 불러오기"
   ]
  },
  {
   "cell_type": "code",
   "execution_count": 2,
   "id": "213eb640",
   "metadata": {
    "ExecuteTime": {
     "end_time": "2022-06-10T00:04:50.659980Z",
     "start_time": "2022-06-10T00:04:50.646018Z"
    }
   },
   "outputs": [],
   "source": [
    "# 주피터노트북 단축키\n",
    "# https://nittaku.tistory.com/428"
   ]
  },
  {
   "cell_type": "code",
   "execution_count": 3,
   "id": "052c0275",
   "metadata": {
    "ExecuteTime": {
     "end_time": "2022-06-10T00:04:51.722143Z",
     "start_time": "2022-06-10T00:04:50.661975Z"
    }
   },
   "outputs": [],
   "source": [
    "import pandas as pd\n",
    "import numpy as np\n",
    "import matplotlib\n",
    "import datetime, time\n",
    "import re\n",
    "import timedelta\n",
    "import matplotlib.pyplot as plt\n",
    "import seaborn as sns\n",
    "import os\n",
    "import sys"
   ]
  },
  {
   "cell_type": "markdown",
   "id": "fcad6cad",
   "metadata": {},
   "source": [
    "## DataFrame 2가지 존재 ( 원본, 중복제거 )\n",
    "\n",
    "- 중복제거 데이터가 성능이 뛰어남."
   ]
  },
  {
   "cell_type": "code",
   "execution_count": 4,
   "id": "e6737cb0",
   "metadata": {
    "ExecuteTime": {
     "end_time": "2022-06-10T00:04:52.141154Z",
     "start_time": "2022-06-10T00:04:51.724134Z"
    }
   },
   "outputs": [],
   "source": [
    "# 중복 제거 X\n",
    "df_news = pd.read_csv('./Data_Set/news_data_preprocessing.csv', engine= 'python',encoding = 'utf-8')\n",
    "# 중복 제거 O\n",
    "df_news_overlap = pd.read_csv('./Data_Set/news_data_preprocessing_duplicate.csv', engine= 'python',encoding = 'utf-8')"
   ]
  },
  {
   "cell_type": "code",
   "execution_count": 5,
   "id": "5a1ff349",
   "metadata": {
    "ExecuteTime": {
     "end_time": "2022-06-10T00:04:52.156012Z",
     "start_time": "2022-06-10T00:04:52.142060Z"
    }
   },
   "outputs": [
    {
     "data": {
      "text/plain": [
       "19303"
      ]
     },
     "execution_count": 5,
     "metadata": {},
     "output_type": "execute_result"
    }
   ],
   "source": [
    "len(df_news_overlap)"
   ]
  },
  {
   "cell_type": "code",
   "execution_count": 6,
   "id": "ba8b2dfd",
   "metadata": {
    "ExecuteTime": {
     "end_time": "2022-06-10T00:04:52.170939Z",
     "start_time": "2022-06-10T00:04:52.156976Z"
    }
   },
   "outputs": [
    {
     "data": {
      "text/plain": [
       "Index(['Unnamed: 0', 'date', 'year', 'month', 'day', 'title', 'nouns_title',\n",
       "       'press', 'contents', 'nouns_contents'],\n",
       "      dtype='object')"
      ]
     },
     "execution_count": 6,
     "metadata": {},
     "output_type": "execute_result"
    }
   ],
   "source": [
    "df_news.columns"
   ]
  },
  {
   "cell_type": "code",
   "execution_count": 7,
   "id": "eef67a29",
   "metadata": {
    "ExecuteTime": {
     "end_time": "2022-06-10T00:04:52.200859Z",
     "start_time": "2022-06-10T00:04:52.171936Z"
    }
   },
   "outputs": [],
   "source": [
    "df_news = df_news.loc[:,['date', 'year', 'month', 'day', 'title', 'nouns_title',\n",
    "       'press', 'contents', 'nouns_contents']]\n",
    "df_news_overlap = df_news_overlap.loc[:,['date', 'year', 'month', 'day', 'title', 'nouns_title',\n",
    "       'press', 'contents', 'nouns_contents']]"
   ]
  },
  {
   "cell_type": "code",
   "execution_count": 8,
   "id": "1f61541c",
   "metadata": {
    "ExecuteTime": {
     "end_time": "2022-06-10T00:04:52.215820Z",
     "start_time": "2022-06-10T00:04:52.202852Z"
    }
   },
   "outputs": [],
   "source": [
    "# 시각화 글자 깨짐 방지\n",
    "if os.name == 'posix':\n",
    "    plt.rc(\"font\", family=\"Malgun Gothic\")\n",
    "else:\n",
    "    plt.rc(\"font\", family=\"Malgun Gothic\")"
   ]
  },
  {
   "cell_type": "markdown",
   "id": "a5ee068a",
   "metadata": {},
   "source": [
    "# 레이블링 / 데이터 셋 분할 / 정수 인코딩\n",
    "\n",
    "- 긍정 부정 단어를 분류 기초 방식. 따라서 보충이 필요.\n",
    "\n",
    "**※논문 참고(계산법) : http://www.koreascience.kr/article/JAKO201719363360793.pdf**"
   ]
  },
  {
   "cell_type": "markdown",
   "id": "7aed8444",
   "metadata": {},
   "source": [
    "## 레이블링"
   ]
  },
  {
   "cell_type": "code",
   "execution_count": 9,
   "id": "99d81548",
   "metadata": {
    "ExecuteTime": {
     "end_time": "2022-06-10T00:04:52.230777Z",
     "start_time": "2022-06-10T00:04:52.217814Z"
    }
   },
   "outputs": [],
   "source": [
    "pos_word = []\n",
    "neg_word = []\n",
    "pos_neg = []\n",
    "\n",
    "pos = open('./pos_neg_dictionary/positive_word.txt', 'r', encoding='UTF-8')\n",
    "\n",
    "while True:\n",
    "    line = pos.readline().rstrip()\n",
    "    pos_word.append(line)\n",
    "    \n",
    "    if not line:\n",
    "        break\n",
    "\n",
    "pos.close()\n",
    "\n",
    "neg = open('./pos_neg_dictionary/negative_word.txt', 'r', encoding='UTF-8')\n",
    "\n",
    "while True:\n",
    "    line = neg.readline().rstrip()\n",
    "    neg_word.append(line)\n",
    "    \n",
    "    if not line:\n",
    "        break\n",
    "\n",
    "neg.close()"
   ]
  },
  {
   "cell_type": "code",
   "execution_count": 10,
   "id": "6ec0bff7",
   "metadata": {
    "ExecuteTime": {
     "end_time": "2022-06-10T00:04:52.245737Z",
     "start_time": "2022-06-10T00:04:52.231775Z"
    }
   },
   "outputs": [],
   "source": [
    "# 마지막 인덱스 '' 제거\n",
    "pos_word = pos_word[:-1]\n",
    "neg_word = neg_word[:-1]\n",
    "pos_neg = pos_word + neg_word"
   ]
  },
  {
   "cell_type": "markdown",
   "id": "7cc3b019",
   "metadata": {},
   "source": [
    "### 2개의 클래스로 이진분류 --> 중립은 갯수만 파악"
   ]
  },
  {
   "cell_type": "code",
   "execution_count": 11,
   "id": "9aa39f7f",
   "metadata": {
    "ExecuteTime": {
     "end_time": "2022-06-10T00:04:55.252694Z",
     "start_time": "2022-06-10T00:04:52.246737Z"
    }
   },
   "outputs": [
    {
     "name": "stdout",
     "output_type": "stream",
     "text": [
      "부정:1432   긍정:13720   중립:4151\n"
     ]
    }
   ],
   "source": [
    "pd.set_option('mode.chained_assignment',  None) # 경고 off\n",
    "state = list()\n",
    "\n",
    "# 중립 갯수\n",
    "mid = 0\n",
    "for x in df_news_overlap['nouns_contents']:\n",
    "    words = x.split(' ')\n",
    "    total, p, n = 0, 0, 0\n",
    "    for i in words:\n",
    "        if i in pos_word:\n",
    "            p += 1\n",
    "        elif i in neg_word:\n",
    "            n += 1\n",
    "    \n",
    "    # 기사 제목당 긍정갯수 - 부정 갯수\n",
    "    total = p - n\n",
    "    if total > 0:\n",
    "        state.append(1)\n",
    "    elif total == 0:\n",
    "        state.append(0)\n",
    "    else:\n",
    "        state.append(-1)\n",
    "\n",
    "print('부정:%d   긍정:%d   중립:%d' % (state.count(-1), state.count(1),  state.count(0)))\n",
    "\n",
    "\n",
    "df_news_overlap['label'] = 0\n",
    "for i in range(len(state)):\n",
    "    if state[i] != 0:\n",
    "        df_news_overlap['label'][i] = state[i]\n",
    "\n",
    "# df_news_overlap[df_news_overlap['label'].contains(0)].index\n",
    "# 중립 제거\n",
    "remove_mid_value = df_news_overlap[df_news_overlap['label'] == 0].index\n",
    "df_news_overlap.drop(remove_mid_value, inplace = True)"
   ]
  },
  {
   "cell_type": "code",
   "execution_count": 12,
   "id": "6eefefe3",
   "metadata": {
    "ExecuteTime": {
     "end_time": "2022-06-10T00:04:55.267653Z",
     "start_time": "2022-06-10T00:04:55.253691Z"
    }
   },
   "outputs": [
    {
     "data": {
      "text/plain": [
       "1    1\n",
       "2    1\n",
       "3    1\n",
       "Name: label, dtype: int64"
      ]
     },
     "execution_count": 12,
     "metadata": {},
     "output_type": "execute_result"
    }
   ],
   "source": [
    "df_news_overlap['label'].head(3)"
   ]
  },
  {
   "cell_type": "code",
   "execution_count": 13,
   "id": "72795672",
   "metadata": {
    "ExecuteTime": {
     "end_time": "2022-06-10T00:04:55.282614Z",
     "start_time": "2022-06-10T00:04:55.268654Z"
    }
   },
   "outputs": [],
   "source": [
    "# 인덱스 번호 새로 부여\n",
    "df_news_overlap.reset_index(inplace=True)\n",
    "df_news_overlap.drop(['index'], axis=1, inplace=True)"
   ]
  },
  {
   "cell_type": "markdown",
   "id": "7709a337",
   "metadata": {},
   "source": [
    "## Train Set / Test Set 분할\n",
    "\n",
    "- Train Set과 Test Set으로 분류 ( 7:3 )\n",
    "- train_test_split() 함수에서 shuffle / default option : True.\n",
    "- stratify 옵션 중요 !!\n",
    "- Pos : 개선 / Neg : 불만\n",
    "\n",
    "**참고 https://sosoeasy.tistory.com/488 / https://teddylee777.github.io/scikit-learn/train-test-split**"
   ]
  },
  {
   "cell_type": "code",
   "execution_count": 14,
   "id": "66a6de6e",
   "metadata": {
    "ExecuteTime": {
     "end_time": "2022-06-10T00:04:55.312534Z",
     "start_time": "2022-06-10T00:04:55.283611Z"
    }
   },
   "outputs": [
    {
     "name": "stdout",
     "output_type": "stream",
     "text": [
      "<class 'pandas.core.frame.DataFrame'>\n",
      "RangeIndex: 15152 entries, 0 to 15151\n",
      "Data columns (total 10 columns):\n",
      " #   Column          Non-Null Count  Dtype \n",
      "---  ------          --------------  ----- \n",
      " 0   date            15152 non-null  object\n",
      " 1   year            15152 non-null  int64 \n",
      " 2   month           15152 non-null  int64 \n",
      " 3   day             15152 non-null  int64 \n",
      " 4   title           15152 non-null  object\n",
      " 5   nouns_title     15152 non-null  object\n",
      " 6   press           15152 non-null  object\n",
      " 7   contents        15152 non-null  object\n",
      " 8   nouns_contents  15152 non-null  object\n",
      " 9   label           15152 non-null  int64 \n",
      "dtypes: int64(4), object(6)\n",
      "memory usage: 1.2+ MB\n"
     ]
    }
   ],
   "source": [
    "df_news_overlap.info()"
   ]
  },
  {
   "cell_type": "code",
   "execution_count": 15,
   "id": "c98072f3",
   "metadata": {
    "ExecuteTime": {
     "end_time": "2022-06-10T00:04:56.015682Z",
     "start_time": "2022-06-10T00:04:55.313530Z"
    }
   },
   "outputs": [],
   "source": [
    "from sklearn.model_selection import train_test_split"
   ]
  },
  {
   "cell_type": "markdown",
   "id": "ef5236ed",
   "metadata": {},
   "source": [
    "### 데이터 분할 시 테이블 변경 가능"
   ]
  },
  {
   "cell_type": "code",
   "execution_count": 16,
   "id": "2354a0b9",
   "metadata": {
    "ExecuteTime": {
     "end_time": "2022-06-10T00:04:56.030612Z",
     "start_time": "2022-06-10T00:04:56.016678Z"
    }
   },
   "outputs": [],
   "source": [
    "# 필요한 데이터만 추출 / 컬럼명 변경\n",
    "# 80% / 20% 으로 분할\n",
    "x_train, x_test = train_test_split(df_news_overlap.loc[:,['date', 'year', 'month', 'day','nouns_contents', 'label']], test_size = 0.3, shuffle = True, random_state = 42)"
   ]
  },
  {
   "cell_type": "code",
   "execution_count": 17,
   "id": "8cb3a871",
   "metadata": {
    "ExecuteTime": {
     "end_time": "2022-06-10T00:04:56.045576Z",
     "start_time": "2022-06-10T00:04:56.031611Z"
    }
   },
   "outputs": [],
   "source": [
    "# 인덱스 번호 새로 부여.\n",
    "x_train.reset_index(inplace=True)\n",
    "x_train.drop(['index'], axis=1, inplace=True)\n",
    "\n",
    "x_test.reset_index(inplace=True)\n",
    "x_test.drop(['index'], axis=1, inplace=True)"
   ]
  },
  {
   "cell_type": "code",
   "execution_count": 18,
   "id": "e1cb1a60",
   "metadata": {
    "ExecuteTime": {
     "end_time": "2022-06-10T00:04:56.060533Z",
     "start_time": "2022-06-10T00:04:56.046570Z"
    }
   },
   "outputs": [
    {
     "name": "stdout",
     "output_type": "stream",
     "text": [
      "<class 'pandas.core.frame.DataFrame'> <class 'pandas.core.frame.DataFrame'>\n"
     ]
    }
   ],
   "source": [
    "# 2개의 데이터 프레임 생성\n",
    "print(type(x_train), type(x_test))"
   ]
  },
  {
   "cell_type": "markdown",
   "id": "5fa11919",
   "metadata": {},
   "source": [
    "### Train Set / Test Set 시각화 및 레이블 현황\n",
    "\n",
    "**참고 : isin() 문법 참고 : https://rfriend.tistory.com/460**"
   ]
  },
  {
   "cell_type": "code",
   "execution_count": 19,
   "id": "5910c924",
   "metadata": {
    "ExecuteTime": {
     "end_time": "2022-06-10T00:04:56.240055Z",
     "start_time": "2022-06-10T00:04:56.061531Z"
    }
   },
   "outputs": [
    {
     "data": {
      "image/png": "[encoded data removed]",
      "text/plain": [
       "<Figure size 432x288 with 1 Axes>"
      ]
     },
     "metadata": {
      "needs_background": "light"
     },
     "output_type": "display_data"
    }
   ],
   "source": [
    "x_train['label'].value_counts().plot(kind='bar')\n",
    "plt.title('Train Set Label', size = 15)\n",
    "plt.show()"
   ]
  },
  {
   "cell_type": "code",
   "execution_count": 20,
   "id": "40e68e2c",
   "metadata": {
    "ExecuteTime": {
     "end_time": "2022-06-10T00:04:56.329812Z",
     "start_time": "2022-06-10T00:04:56.241051Z"
    }
   },
   "outputs": [
    {
     "data": {
      "image/png": "[encoded data removed]",
      "text/plain": [
       "<Figure size 432x288 with 1 Axes>"
      ]
     },
     "metadata": {
      "needs_background": "light"
     },
     "output_type": "display_data"
    }
   ],
   "source": [
    "x_test['label'].value_counts().plot(kind='bar')\n",
    "plt.title('Test Set Label', size = 15)\n",
    "plt.show()"
   ]
  },
  {
   "cell_type": "code",
   "execution_count": 21,
   "id": "0b377fc3",
   "metadata": {
    "ExecuteTime": {
     "end_time": "2022-06-10T00:04:56.344772Z",
     "start_time": "2022-06-10T00:04:56.330810Z"
    }
   },
   "outputs": [
    {
     "name": "stdout",
     "output_type": "stream",
     "text": [
      "Train_Set  긍정(1) : 9591 \n",
      "\t   중립(0) : 0 \n",
      "\t   부정(-1) : 1015 \n",
      "\t   총 합계 : 10606\n",
      "\n",
      "Test_Set   긍정(1) : 4129 \n",
      "\t   중립(0) : 0 \n",
      "\t   부정(-1) : 417 \n",
      "\t   총 합계 : 4546\n"
     ]
    }
   ],
   "source": [
    "# Train_Set 레이블 현황 갯수\n",
    "print('Train_Set  긍정(1) : {} \\n\\t   중립(0) : {} \\n\\t   부정(-1) : {} \\n\\t   총 합계 : {}'.format(len(x_train[x_train['label'].isin([1])]), len(x_train[x_train['label'].isin([0])]), len(x_train[x_train['label'].isin([-1])]), len(x_train)))\n",
    "print()\n",
    "# Test_Set 레이블 현황 갯수\n",
    "print('Test_Set   긍정(1) : {} \\n\\t   중립(0) : {} \\n\\t   부정(-1) : {} \\n\\t   총 합계 : {}'.format(len(x_test[x_test['label'].isin([1])]), len(x_test[x_test['label'].isin([0])]), len(x_test[x_test['label'].isin([-1])]), len(x_test)))"
   ]
  },
  {
   "cell_type": "markdown",
   "id": "3e485df2",
   "metadata": {},
   "source": [
    "## Convert to two_dimensional list"
   ]
  },
  {
   "cell_type": "code",
   "execution_count": 22,
   "id": "fdf13752",
   "metadata": {
    "ExecuteTime": {
     "end_time": "2022-06-10T00:04:56.359732Z",
     "start_time": "2022-06-10T00:04:56.345770Z"
    }
   },
   "outputs": [
    {
     "name": "stdout",
     "output_type": "stream",
     "text": [
      "10606 4546\n"
     ]
    }
   ],
   "source": [
    "print(len(x_train), len(x_test))"
   ]
  },
  {
   "cell_type": "code",
   "execution_count": 23,
   "id": "178127da",
   "metadata": {
    "ExecuteTime": {
     "end_time": "2022-06-10T00:04:56.374692Z",
     "start_time": "2022-06-10T00:04:56.362725Z"
    }
   },
   "outputs": [
    {
     "data": {
      "text/html": [
       "<div>\n",
       "<style scoped>\n",
       "    .dataframe tbody tr th:only-of-type {\n",
       "        vertical-align: middle;\n",
       "    }\n",
       "\n",
       "    .dataframe tbody tr th {\n",
       "        vertical-align: top;\n",
       "    }\n",
       "\n",
       "    .dataframe thead th {\n",
       "        text-align: right;\n",
       "    }\n",
       "</style>\n",
       "<table border=\"1\" class=\"dataframe\">\n",
       "  <thead>\n",
       "    <tr style=\"text-align: right;\">\n",
       "      <th></th>\n",
       "      <th>date</th>\n",
       "      <th>year</th>\n",
       "      <th>month</th>\n",
       "      <th>day</th>\n",
       "      <th>nouns_contents</th>\n",
       "      <th>label</th>\n",
       "    </tr>\n",
       "  </thead>\n",
       "  <tbody>\n",
       "    <tr>\n",
       "      <th>0</th>\n",
       "      <td>2019-10-08</td>\n",
       "      <td>2019</td>\n",
       "      <td>10</td>\n",
       "      <td>8</td>\n",
       "      <td>대 구 은행 2016년 라오스 DGB 캐피탈 자회사 DGB Lao Leasing C...</td>\n",
       "      <td>-1</td>\n",
       "    </tr>\n",
       "    <tr>\n",
       "      <th>1</th>\n",
       "      <td>2021-01-26</td>\n",
       "      <td>2021</td>\n",
       "      <td>1</td>\n",
       "      <td>26</td>\n",
       "      <td>DGB 대 구 은행 지역 아동 학습 환경 개선 을 위해 진행 하고 있다 DGB 행복...</td>\n",
       "      <td>1</td>\n",
       "    </tr>\n",
       "    <tr>\n",
       "      <th>2</th>\n",
       "      <td>2021-07-15</td>\n",
       "      <td>2021</td>\n",
       "      <td>7</td>\n",
       "      <td>15</td>\n",
       "      <td>▲ DGB 대구 은행 본점 에서 진행 되다 정보보호 실천 캠페인 에서 임성훈 대 구...</td>\n",
       "      <td>1</td>\n",
       "    </tr>\n",
       "    <tr>\n",
       "      <th>3</th>\n",
       "      <td>2019-08-01</td>\n",
       "      <td>2019</td>\n",
       "      <td>8</td>\n",
       "      <td>1</td>\n",
       "      <td>그룹 주력 계열 사인 DGB 대 구 은행 영업 이익 당기다 순이익 시장 금리 하락 ...</td>\n",
       "      <td>-1</td>\n",
       "    </tr>\n",
       "    <tr>\n",
       "      <th>4</th>\n",
       "      <td>2020-03-11</td>\n",
       "      <td>2020</td>\n",
       "      <td>3</td>\n",
       "      <td>11</td>\n",
       "      <td>DGB 대구 은행 김태오 행 장 왼쪽 11일 본점 에서 신종 코로나바이러스 감염증 ...</td>\n",
       "      <td>1</td>\n",
       "    </tr>\n",
       "    <tr>\n",
       "      <th>5</th>\n",
       "      <td>2021-06-29</td>\n",
       "      <td>2021</td>\n",
       "      <td>6</td>\n",
       "      <td>29</td>\n",
       "      <td>저축은행 중앙회 2016년 우리은행 연 계 대출 협약 을 맺다 것 을 시작 2017...</td>\n",
       "      <td>1</td>\n",
       "    </tr>\n",
       "    <tr>\n",
       "      <th>6</th>\n",
       "      <td>2021-02-26</td>\n",
       "      <td>2021</td>\n",
       "      <td>2</td>\n",
       "      <td>26</td>\n",
       "      <td>이다 DGB 대 구 은행 전 년 대비 156% 줄어들다 2383억원 순이익 을 기록...</td>\n",
       "      <td>-1</td>\n",
       "    </tr>\n",
       "    <tr>\n",
       "      <th>7</th>\n",
       "      <td>2019-07-02</td>\n",
       "      <td>2019</td>\n",
       "      <td>7</td>\n",
       "      <td>2</td>\n",
       "      <td>김태오 DGB 대 구 은행 장 바이오 헬스 분야 창업 기업 적극 협조 DGB 대 구...</td>\n",
       "      <td>1</td>\n",
       "    </tr>\n",
       "    <tr>\n",
       "      <th>8</th>\n",
       "      <td>2020-10-08</td>\n",
       "      <td>2020</td>\n",
       "      <td>10</td>\n",
       "      <td>8</td>\n",
       "      <td>DGB 대 구 은행 캄보디아 현지 법인 DGB 특수은행 DGB Specialized...</td>\n",
       "      <td>-1</td>\n",
       "    </tr>\n",
       "    <tr>\n",
       "      <th>9</th>\n",
       "      <td>2022-03-02</td>\n",
       "      <td>2022</td>\n",
       "      <td>3</td>\n",
       "      <td>2</td>\n",
       "      <td>최병수 기자 DGB 대구 은행 139130 2일 도청 신도시 지점 지점 장 김경 봉...</td>\n",
       "      <td>1</td>\n",
       "    </tr>\n",
       "    <tr>\n",
       "      <th>10</th>\n",
       "      <td>2020-12-02</td>\n",
       "      <td>2020</td>\n",
       "      <td>12</td>\n",
       "      <td>2</td>\n",
       "      <td>DGB 대 구 은행 2억 5000만원 경북 농협 1억원 을 개인 기부 로는 이진복 ...</td>\n",
       "      <td>1</td>\n",
       "    </tr>\n",
       "    <tr>\n",
       "      <th>11</th>\n",
       "      <td>2020-03-02</td>\n",
       "      <td>2020</td>\n",
       "      <td>3</td>\n",
       "      <td>2</td>\n",
       "      <td>DGB 대 구 은행 핀 크다 SK 텔레콤 협업 T high 5 적금 신규 고객 을 ...</td>\n",
       "      <td>1</td>\n",
       "    </tr>\n",
       "    <tr>\n",
       "      <th>12</th>\n",
       "      <td>2022-03-14</td>\n",
       "      <td>2022</td>\n",
       "      <td>3</td>\n",
       "      <td>14</td>\n",
       "      <td>한편 DGB 생명 DGB 대구 은행 등 속 DGB 금융 그룹 그룹 차원 긴급 지원 ...</td>\n",
       "      <td>1</td>\n",
       "    </tr>\n",
       "    <tr>\n",
       "      <th>13</th>\n",
       "      <td>2021-03-17</td>\n",
       "      <td>2021</td>\n",
       "      <td>3</td>\n",
       "      <td>17</td>\n",
       "      <td>DGB 대구 은행 노조 대 구 은행 캄보디아 부동산 사 기 사고 관련 김태오 DGB...</td>\n",
       "      <td>-1</td>\n",
       "    </tr>\n",
       "    <tr>\n",
       "      <th>14</th>\n",
       "      <td>2019-11-28</td>\n",
       "      <td>2019</td>\n",
       "      <td>11</td>\n",
       "      <td>28</td>\n",
       "      <td>DGB 대 구 은행 미얀마 에서 DGB 소액 대출 법인 을 설립 하고 기념 행사 개...</td>\n",
       "      <td>1</td>\n",
       "    </tr>\n",
       "    <tr>\n",
       "      <th>15</th>\n",
       "      <td>2021-04-30</td>\n",
       "      <td>2021</td>\n",
       "      <td>4</td>\n",
       "      <td>30</td>\n",
       "      <td>DGB 대다 구 은행 코로나 19 재난 방역 적극 참여 및 지역 사회 원 활동 을 ...</td>\n",
       "      <td>1</td>\n",
       "    </tr>\n",
       "    <tr>\n",
       "      <th>16</th>\n",
       "      <td>2020-01-06</td>\n",
       "      <td>2020</td>\n",
       "      <td>1</td>\n",
       "      <td>6</td>\n",
       "      <td>DGB 대 구 은행 지역 중소기업 자금난 해소 위해 5000억원 규모 설 특별 자금...</td>\n",
       "      <td>1</td>\n",
       "    </tr>\n",
       "    <tr>\n",
       "      <th>17</th>\n",
       "      <td>2021-04-08</td>\n",
       "      <td>2021</td>\n",
       "      <td>4</td>\n",
       "      <td>8</td>\n",
       "      <td>침체 되다 대구 경북 지역 관광 살리다 우대금리 받다 대구시 경북 DGB 대구 은행...</td>\n",
       "      <td>1</td>\n",
       "    </tr>\n",
       "    <tr>\n",
       "      <th>18</th>\n",
       "      <td>2020-03-11</td>\n",
       "      <td>2020</td>\n",
       "      <td>3</td>\n",
       "      <td>11</td>\n",
       "      <td>김태호 DGB 대 구 은행 장이 10일 수성동 본점 에서 코로나 19 관련 지원 사...</td>\n",
       "      <td>1</td>\n",
       "    </tr>\n",
       "    <tr>\n",
       "      <th>19</th>\n",
       "      <td>2021-08-03</td>\n",
       "      <td>2021</td>\n",
       "      <td>8</td>\n",
       "      <td>3</td>\n",
       "      <td>비교 은행 최고 624% DGB 대 구 은행 에서 최저 144% 제주 은행 수준 낮...</td>\n",
       "      <td>1</td>\n",
       "    </tr>\n",
       "  </tbody>\n",
       "</table>\n",
       "</div>"
      ],
      "text/plain": [
       "          date  year  month  day  \\\n",
       "0   2019-10-08  2019     10    8   \n",
       "1   2021-01-26  2021      1   26   \n",
       "2   2021-07-15  2021      7   15   \n",
       "3   2019-08-01  2019      8    1   \n",
       "4   2020-03-11  2020      3   11   \n",
       "5   2021-06-29  2021      6   29   \n",
       "6   2021-02-26  2021      2   26   \n",
       "7   2019-07-02  2019      7    2   \n",
       "8   2020-10-08  2020     10    8   \n",
       "9   2022-03-02  2022      3    2   \n",
       "10  2020-12-02  2020     12    2   \n",
       "11  2020-03-02  2020      3    2   \n",
       "12  2022-03-14  2022      3   14   \n",
       "13  2021-03-17  2021      3   17   \n",
       "14  2019-11-28  2019     11   28   \n",
       "15  2021-04-30  2021      4   30   \n",
       "16  2020-01-06  2020      1    6   \n",
       "17  2021-04-08  2021      4    8   \n",
       "18  2020-03-11  2020      3   11   \n",
       "19  2021-08-03  2021      8    3   \n",
       "\n",
       "                                       nouns_contents  label  \n",
       "0   대 구 은행 2016년 라오스 DGB 캐피탈 자회사 DGB Lao Leasing C...     -1  \n",
       "1   DGB 대 구 은행 지역 아동 학습 환경 개선 을 위해 진행 하고 있다 DGB 행복...      1  \n",
       "2   ▲ DGB 대구 은행 본점 에서 진행 되다 정보보호 실천 캠페인 에서 임성훈 대 구...      1  \n",
       "3   그룹 주력 계열 사인 DGB 대 구 은행 영업 이익 당기다 순이익 시장 금리 하락 ...     -1  \n",
       "4   DGB 대구 은행 김태오 행 장 왼쪽 11일 본점 에서 신종 코로나바이러스 감염증 ...      1  \n",
       "5   저축은행 중앙회 2016년 우리은행 연 계 대출 협약 을 맺다 것 을 시작 2017...      1  \n",
       "6   이다 DGB 대 구 은행 전 년 대비 156% 줄어들다 2383억원 순이익 을 기록...     -1  \n",
       "7   김태오 DGB 대 구 은행 장 바이오 헬스 분야 창업 기업 적극 협조 DGB 대 구...      1  \n",
       "8   DGB 대 구 은행 캄보디아 현지 법인 DGB 특수은행 DGB Specialized...     -1  \n",
       "9   최병수 기자 DGB 대구 은행 139130 2일 도청 신도시 지점 지점 장 김경 봉...      1  \n",
       "10  DGB 대 구 은행 2억 5000만원 경북 농협 1억원 을 개인 기부 로는 이진복 ...      1  \n",
       "11  DGB 대 구 은행 핀 크다 SK 텔레콤 협업 T high 5 적금 신규 고객 을 ...      1  \n",
       "12  한편 DGB 생명 DGB 대구 은행 등 속 DGB 금융 그룹 그룹 차원 긴급 지원 ...      1  \n",
       "13  DGB 대구 은행 노조 대 구 은행 캄보디아 부동산 사 기 사고 관련 김태오 DGB...     -1  \n",
       "14  DGB 대 구 은행 미얀마 에서 DGB 소액 대출 법인 을 설립 하고 기념 행사 개...      1  \n",
       "15  DGB 대다 구 은행 코로나 19 재난 방역 적극 참여 및 지역 사회 원 활동 을 ...      1  \n",
       "16  DGB 대 구 은행 지역 중소기업 자금난 해소 위해 5000억원 규모 설 특별 자금...      1  \n",
       "17  침체 되다 대구 경북 지역 관광 살리다 우대금리 받다 대구시 경북 DGB 대구 은행...      1  \n",
       "18  김태호 DGB 대 구 은행 장이 10일 수성동 본점 에서 코로나 19 관련 지원 사...      1  \n",
       "19  비교 은행 최고 624% DGB 대 구 은행 에서 최저 144% 제주 은행 수준 낮...      1  "
      ]
     },
     "execution_count": 23,
     "metadata": {},
     "output_type": "execute_result"
    }
   ],
   "source": [
    "x_train.head(20)"
   ]
  },
  {
   "cell_type": "code",
   "execution_count": 24,
   "id": "00c91984",
   "metadata": {
    "ExecuteTime": {
     "end_time": "2022-06-10T00:04:56.389652Z",
     "start_time": "2022-06-10T00:04:56.376687Z"
    }
   },
   "outputs": [
    {
     "data": {
      "text/html": [
       "<div>\n",
       "<style scoped>\n",
       "    .dataframe tbody tr th:only-of-type {\n",
       "        vertical-align: middle;\n",
       "    }\n",
       "\n",
       "    .dataframe tbody tr th {\n",
       "        vertical-align: top;\n",
       "    }\n",
       "\n",
       "    .dataframe thead th {\n",
       "        text-align: right;\n",
       "    }\n",
       "</style>\n",
       "<table border=\"1\" class=\"dataframe\">\n",
       "  <thead>\n",
       "    <tr style=\"text-align: right;\">\n",
       "      <th></th>\n",
       "      <th>date</th>\n",
       "      <th>year</th>\n",
       "      <th>month</th>\n",
       "      <th>day</th>\n",
       "      <th>nouns_contents</th>\n",
       "      <th>label</th>\n",
       "    </tr>\n",
       "  </thead>\n",
       "  <tbody>\n",
       "    <tr>\n",
       "      <th>0</th>\n",
       "      <td>2019-06-18</td>\n",
       "      <td>2019</td>\n",
       "      <td>6</td>\n",
       "      <td>18</td>\n",
       "      <td>조인호 기자 DGB 대 구 은행 은행 장 김태오 18일 담양 달빛 무월 마을 에서 ...</td>\n",
       "      <td>1</td>\n",
       "    </tr>\n",
       "    <tr>\n",
       "      <th>1</th>\n",
       "      <td>2021-02-25</td>\n",
       "      <td>2021</td>\n",
       "      <td>2</td>\n",
       "      <td>25</td>\n",
       "      <td>DGB 대 구 은행 캄보디아 현 법인 DGB 특수은행 본사 부지 매입 과정 에서 1...</td>\n",
       "      <td>-1</td>\n",
       "    </tr>\n",
       "    <tr>\n",
       "      <th>2</th>\n",
       "      <td>2021-01-18</td>\n",
       "      <td>2021</td>\n",
       "      <td>1</td>\n",
       "      <td>18</td>\n",
       "      <td>DGB 대 구 은행 설 연휴 앞두다 5000억원 규모 설날 특별 자금 대출 을 다음...</td>\n",
       "      <td>1</td>\n",
       "    </tr>\n",
       "  </tbody>\n",
       "</table>\n",
       "</div>"
      ],
      "text/plain": [
       "         date  year  month  day  \\\n",
       "0  2019-06-18  2019      6   18   \n",
       "1  2021-02-25  2021      2   25   \n",
       "2  2021-01-18  2021      1   18   \n",
       "\n",
       "                                      nouns_contents  label  \n",
       "0  조인호 기자 DGB 대 구 은행 은행 장 김태오 18일 담양 달빛 무월 마을 에서 ...      1  \n",
       "1  DGB 대 구 은행 캄보디아 현 법인 DGB 특수은행 본사 부지 매입 과정 에서 1...     -1  \n",
       "2  DGB 대 구 은행 설 연휴 앞두다 5000억원 규모 설날 특별 자금 대출 을 다음...      1  "
      ]
     },
     "execution_count": 24,
     "metadata": {},
     "output_type": "execute_result"
    }
   ],
   "source": [
    "x_test.head(3)"
   ]
  },
  {
   "cell_type": "code",
   "execution_count": 25,
   "id": "067af95b",
   "metadata": {
    "ExecuteTime": {
     "end_time": "2022-06-10T00:04:56.449524Z",
     "start_time": "2022-06-10T00:04:56.390651Z"
    }
   },
   "outputs": [],
   "source": [
    "# 리스트로 변환 후 체크 \n",
    "# 6263\n",
    "x_train_words = list()\n",
    "for title_words in x_train['nouns_contents']:\n",
    "    x_train_words.append(list(title_words.split(' ')))\n",
    "\n",
    "# 2685\n",
    "x_test_words = list()\n",
    "for title_words in x_test['nouns_contents']:\n",
    "    x_test_words.append(list(title_words.split(' ')))"
   ]
  },
  {
   "cell_type": "code",
   "execution_count": 26,
   "id": "e496ad23",
   "metadata": {
    "ExecuteTime": {
     "end_time": "2022-06-10T00:04:56.464452Z",
     "start_time": "2022-06-10T00:04:56.450490Z"
    }
   },
   "outputs": [
    {
     "name": "stdout",
     "output_type": "stream",
     "text": [
      "['대', '구', '은행', '2016년', '라오스', 'DGB', '캐피탈', '자회사', 'DGB', 'Lao', 'Leasing', 'Company', 'Co', 'LtdDLCC', '현', '법인', '을', '설립', '이다', '지난해', '1월', '캄보디아', 'MFI', '여', '신', '전', '문', '금융기관', '캠', '캐피탈', '은행', '을', '100%', '분', '인수', 'DGB', '특수은행', 'DGB', 'Specialized']\n"
     ]
    }
   ],
   "source": [
    "print(x_train_words[:1][0])"
   ]
  },
  {
   "cell_type": "code",
   "execution_count": 27,
   "id": "6cc44b13",
   "metadata": {
    "ExecuteTime": {
     "end_time": "2022-06-10T00:04:56.479413Z",
     "start_time": "2022-06-10T00:04:56.465450Z"
    }
   },
   "outputs": [
    {
     "name": "stdout",
     "output_type": "stream",
     "text": [
      "[['조인호', '기자', 'DGB', '대', '구', '은행', '은행', '장', '김태오', '18일', '담양', '달빛', '무월', '마을', '에서', '광주', '은행', '은행', '장', '송종욱', '함께', '영', '호남', '지역', '간', '민간', '교류', '통한', '화합', '소통', '시간', '을', '위해', '2019', '달빛', '동맹', '강화', '봉사활동', '을', '실시', '날'], ['DGB', '대', '구', '은행', '캄보디아', '현', '법인', 'DGB', '특수은행', '본사', '부지', '매입', '과정', '에서', '1200', '여', '달러', '사기', '당한', '것', '뒤늦다', '알려지다', '25일', 'DGB', '대', '구', '은행', '따르다', '해외', '자회사', '캄보디아', 'DGB', '특수은행']]\n"
     ]
    }
   ],
   "source": [
    "print(x_test_words[:2])"
   ]
  },
  {
   "cell_type": "markdown",
   "id": "8bbf8439",
   "metadata": {},
   "source": [
    "## Integer Encoding\n",
    "- 토큰화 한 단어를 컴퓨터가 인식하도록 정수 인코딩 수행"
   ]
  },
  {
   "cell_type": "code",
   "execution_count": 28,
   "id": "e8829a63",
   "metadata": {
    "ExecuteTime": {
     "end_time": "2022-06-10T00:04:56.494372Z",
     "start_time": "2022-06-10T00:04:56.480410Z"
    }
   },
   "outputs": [],
   "source": [
    "from keras.preprocessing.text import Tokenizer"
   ]
  },
  {
   "cell_type": "code",
   "execution_count": 29,
   "id": "da768fff",
   "metadata": {
    "ExecuteTime": {
     "end_time": "2022-06-10T00:04:56.808531Z",
     "start_time": "2022-06-10T00:04:56.495370Z"
    }
   },
   "outputs": [],
   "source": [
    "tokenizer = Tokenizer()\n",
    "tokenizer.fit_on_texts(x_train_words)\n",
    "tokenizer.fit_on_texts(x_test_words)"
   ]
  },
  {
   "cell_type": "code",
   "execution_count": 30,
   "id": "35e8aa0d",
   "metadata": {
    "ExecuteTime": {
     "end_time": "2022-06-10T00:04:56.958131Z",
     "start_time": "2022-06-10T00:04:56.809530Z"
    }
   },
   "outputs": [],
   "source": [
    "x_train_int = tokenizer.texts_to_sequences(x_train_words)"
   ]
  },
  {
   "cell_type": "code",
   "execution_count": 31,
   "id": "acd02184",
   "metadata": {
    "ExecuteTime": {
     "end_time": "2022-06-10T00:04:57.032931Z",
     "start_time": "2022-06-10T00:04:56.959129Z"
    }
   },
   "outputs": [],
   "source": [
    "x_test_int = tokenizer.texts_to_sequences(x_test_words)"
   ]
  },
  {
   "cell_type": "code",
   "execution_count": 32,
   "id": "2df0636d",
   "metadata": {
    "ExecuteTime": {
     "end_time": "2022-06-10T00:04:57.047891Z",
     "start_time": "2022-06-10T00:04:57.033929Z"
    }
   },
   "outputs": [
    {
     "name": "stdout",
     "output_type": "stream",
     "text": [
      "[[4, 5, 1, 1565, 1667, 2, 141, 523, 2, 8550, 8551, 6123, 8552, 8553, 473, 293, 3, 660, 37, 104, 903, 182, 1848, 322, 172, 36, 278, 819, 3657, 141, 1, 3, 1618, 740, 1067, 2, 688, 2, 3379], [2, 4, 5, 1, 9, 346, 1321, 206, 208, 3, 17, 38, 21, 14, 2, 202, 729, 801, 140, 1171, 83, 38, 44, 1566, 1493, 30, 128, 231, 577, 3380, 45, 1494, 48, 99, 2, 202, 729, 801, 140, 1171, 1722], [114, 2, 6, 1, 27, 8, 38, 16, 682, 229, 234, 8, 42, 4, 5, 1, 11, 886, 608, 682, 397, 3035, 2853, 2319, 541, 886, 3658, 1390, 20, 60, 92, 384, 3, 14, 34, 5551]]\n"
     ]
    }
   ],
   "source": [
    "print(x_train_int[:3])"
   ]
  },
  {
   "cell_type": "code",
   "execution_count": 33,
   "id": "daa2a933",
   "metadata": {
    "ExecuteTime": {
     "end_time": "2022-06-10T00:04:57.062851Z",
     "start_time": "2022-06-10T00:04:57.048889Z"
    }
   },
   "outputs": [
    {
     "name": "stdout",
     "output_type": "stream",
     "text": [
      "[[1633, 86, 2, 4, 5, 1, 1, 11, 49, 285, 3136, 1763, 2709, 1037, 8, 264, 1, 1, 11, 2863, 62, 215, 3619, 9, 238, 1196, 1427, 124, 2845, 536, 796, 3, 17, 480, 1763, 2506, 197, 383, 3, 35, 106], [2, 4, 5, 1, 182, 473, 293, 2, 688, 879, 1831, 554, 724, 8, 2824, 322, 1147, 844, 5191, 134, 4749, 1669, 363, 2, 4, 5, 1, 44, 670, 523, 182, 2, 688], [2, 4, 5, 1, 505, 1764, 327, 666, 148, 611, 131, 88, 19, 3, 339, 119, 367, 64, 18, 285, 10, 19, 73, 591, 40, 614, 3, 188, 14, 101, 355, 153, 52, 226, 157, 746, 1242]]\n"
     ]
    }
   ],
   "source": [
    "print(x_test_int[:3])"
   ]
  },
  {
   "cell_type": "markdown",
   "id": "f3d95ef7",
   "metadata": {},
   "source": [
    "## 제목 길이 기준 분포 확인"
   ]
  },
  {
   "cell_type": "code",
   "execution_count": 34,
   "id": "3cb3a9a8",
   "metadata": {
    "ExecuteTime": {
     "end_time": "2022-06-10T00:04:57.287251Z",
     "start_time": "2022-06-10T00:04:57.063848Z"
    },
    "scrolled": false
   },
   "outputs": [
    {
     "name": "stdout",
     "output_type": "stream",
     "text": [
      "최대 길이(단어의 수) : 66\n",
      "평균 길이 : 39\n"
     ]
    },
    {
     "data": {
      "image/png": "[encoded data removed]",
      "text/plain": [
       "<Figure size 864x576 with 1 Axes>"
      ]
     },
     "metadata": {
      "needs_background": "light"
     },
     "output_type": "display_data"
    }
   ],
   "source": [
    "print('최대 길이(단어의 수) :', max([(len(i)) for i in x_train_int]))\n",
    "print('평균 길이 :', sum([len(i) for i in x_train_int]) // len(x_train_int))\n",
    "plt.figure(figsize = (12, 8))\n",
    "plt.hist([len(i) for i in x_train_int], bins=90)\n",
    "plt.xlabel('length fo Data')\n",
    "plt.ylabel('number fo Data')\n",
    "plt.show()"
   ]
  },
  {
   "cell_type": "code",
   "execution_count": 35,
   "id": "65d49830",
   "metadata": {
    "ExecuteTime": {
     "end_time": "2022-06-10T00:04:57.302720Z",
     "start_time": "2022-06-10T00:04:57.289246Z"
    }
   },
   "outputs": [],
   "source": [
    "# print('최대 길이(단어의 수) :', max([(len(i)) for i in x_test_int]))\n",
    "# print('평균 길이 :', sum([len(i) for i in x_test_int]) // len(x_test_int))\n",
    "# plt.figure(figsize = (12, 8))\n",
    "# plt.hist([len(i) for i in x_test_int], bins=90)\n",
    "# plt.xlabel('length fo Data')\n",
    "# plt.ylabel('number fo Data')\n",
    "# plt.show()"
   ]
  },
  {
   "cell_type": "markdown",
   "id": "86c3abfb",
   "metadata": {},
   "source": [
    "## Padding\n",
    "\n",
    "- 길이를 길게 잡으면 학습 시간이 오래 걸림 --> 데이터 손실 최소화 + 효율성\n",
    "- 데이터가 비교적 적은 부분은 패딩으로 처리하는게 좋음.\n",
    "- maxlen의 인자로 정수를 주면, 해당 정수로 모든 문서의 길이를 동일\n",
    "\n",
    "**Ex) 길이가 5인 리스트가 있다면 5보다 작은 인덱스 값들은 0으로 패딩되고 5보다 큰 인덱스들은 즉, 6번째 인덱스부터는 데이터가 손실됨.**<br><br>\n",
    "**참고<br> https://wikidocs.net/83544 (2/5 지점)<br>http://www.nextobe.com/2020/05/14/%EA%B0%80%EB%B3%80-%EA%B8%B8%EC%9D%B4-%EC%9E%85%EB%A0%A5-%EC%8B%9C%ED%80%80%EC%8A%A4%EC%97%90-%EB%8C%80%ED%95%9C-%EB%8D%B0%EC%9D%B4%ED%84%B0-%EC%A4%80%EB%B9%84/<br>https://sig413.tistory.com/5**"
   ]
  },
  {
   "cell_type": "code",
   "execution_count": 36,
   "id": "d80dca85",
   "metadata": {
    "ExecuteTime": {
     "end_time": "2022-06-10T00:04:57.317681Z",
     "start_time": "2022-06-10T00:04:57.303717Z"
    }
   },
   "outputs": [],
   "source": [
    "from tensorflow.keras.preprocessing.sequence import pad_sequences"
   ]
  },
  {
   "cell_type": "code",
   "execution_count": 37,
   "id": "e48e5d1e",
   "metadata": {
    "ExecuteTime": {
     "end_time": "2022-06-10T00:04:57.332640Z",
     "start_time": "2022-06-10T00:04:57.318678Z"
    }
   },
   "outputs": [],
   "source": [
    "# 각 인덱스 길이대로 정렬\n",
    "x_train_int.sort(key=lambda x:len(x),reverse = True)\n",
    "x_test_int.sort(key=lambda x:len(x),reverse = True)"
   ]
  },
  {
   "cell_type": "code",
   "execution_count": 38,
   "id": "1f45508a",
   "metadata": {
    "ExecuteTime": {
     "end_time": "2022-06-10T00:04:57.347600Z",
     "start_time": "2022-06-10T00:04:57.333638Z"
    }
   },
   "outputs": [],
   "source": [
    "def limit_len(front, back, reset_list):\n",
    "    cnt = 0\n",
    "    for s in reset_list:\n",
    "        # if (front <= len(s) <= back):\n",
    "        if len(s) <= back:\n",
    "            cnt += 1\n",
    "    print('전체 학습 데이터 중 길이가 {} 이상 {} 이하인 비율 : {:.2f}%'.format(front, back,( cnt / len(x_train_int)) * 100))"
   ]
  },
  {
   "cell_type": "code",
   "execution_count": 39,
   "id": "e418ee30",
   "metadata": {
    "ExecuteTime": {
     "end_time": "2022-06-10T00:04:57.362560Z",
     "start_time": "2022-06-10T00:04:57.348598Z"
    }
   },
   "outputs": [
    {
     "name": "stdout",
     "output_type": "stream",
     "text": [
      "전체 학습 데이터 중 길이가 0 이상 60 이하인 비율 : 99.91%\n"
     ]
    }
   ],
   "source": [
    "# min_len = 4 / max_len = 14\n",
    "# 앞선 제목의 평균 길이 그래프를 보면 ( 4 <= idx_num <= 14 ) 범위를 벗어난 인덱스들은 데이터가 현저히 적음.\n",
    "limit_len(0, 60, x_train_int)"
   ]
  },
  {
   "cell_type": "markdown",
   "id": "acb4cf1a",
   "metadata": {},
   "source": [
    "**일단 14이하인 것만 패딩 --> 나중에 시간되면 4이상 14이하인 부분만 패딩하도록 전처리 필요**\n",
    "<br>\n",
    "**pad_sequences post / defalut로 각각 한번씩 해주면 됨.**"
   ]
  },
  {
   "cell_type": "code",
   "execution_count": 40,
   "id": "b00d5ad6",
   "metadata": {
    "ExecuteTime": {
     "end_time": "2022-06-10T00:04:57.377520Z",
     "start_time": "2022-06-10T00:04:57.363559Z"
    }
   },
   "outputs": [],
   "source": [
    "max_len = 60"
   ]
  },
  {
   "cell_type": "code",
   "execution_count": 41,
   "id": "221ad7de",
   "metadata": {
    "ExecuteTime": {
     "end_time": "2022-06-10T00:04:57.392480Z",
     "start_time": "2022-06-10T00:04:57.378519Z"
    }
   },
   "outputs": [],
   "source": [
    "# x_train_final --> x_train"
   ]
  },
  {
   "cell_type": "code",
   "execution_count": 42,
   "id": "7aa23e2a",
   "metadata": {
    "ExecuteTime": {
     "end_time": "2022-06-10T00:04:57.467280Z",
     "start_time": "2022-06-10T00:04:57.393478Z"
    }
   },
   "outputs": [],
   "source": [
    "X_train = pad_sequences(x_train_int, maxlen = max_len)"
   ]
  },
  {
   "cell_type": "code",
   "execution_count": 43,
   "id": "353817a2",
   "metadata": {
    "ExecuteTime": {
     "end_time": "2022-06-10T00:04:57.497200Z",
     "start_time": "2022-06-10T00:04:57.468278Z"
    }
   },
   "outputs": [],
   "source": [
    "X_test = pad_sequences(x_test_int, maxlen = max_len)"
   ]
  },
  {
   "cell_type": "markdown",
   "id": "89ce48fd",
   "metadata": {},
   "source": [
    "## One-Hot-Encoding\n",
    "\n",
    "- 단어 집합의 크기를 벡터로 변환하고, 표현하고 싶은 단어 인덱스에 1의 값 부여하고, 다른 인덱스는 0을 부여하는 단어의 벡터 표현 방식\n",
    "- 즉, 1개만 Hot(True)이고 나머지는 Cold(False)\n",
    "\n",
    "※ 벡터 (1차원)  /  행렬 (2차원)  /  배열 (3차원)  /  텐서 (3차원 이상)\n",
    "<br>\n",
    "<br>\n",
    "**참고 : https://godcode.tistory.com/9?category=908926**"
   ]
  },
  {
   "cell_type": "code",
   "execution_count": 44,
   "id": "dc100856",
   "metadata": {
    "ExecuteTime": {
     "end_time": "2022-06-10T00:04:57.527120Z",
     "start_time": "2022-06-10T00:04:57.498198Z"
    }
   },
   "outputs": [
    {
     "data": {
      "text/plain": [
       "{'은행': 1,\n",
       " 'dgb': 2,\n",
       " '을': 3,\n",
       " '대': 4,\n",
       " '구': 5,\n",
       " '대구': 6,\n",
       " '금융': 7,\n",
       " '에서': 8,\n",
       " '지역': 9,\n",
       " '밝히다': 10,\n",
       " '장': 11,\n",
       " '등': 12,\n",
       " '로': 13,\n",
       " '있다': 14,\n",
       " '\\xa0': 15,\n",
       " '되다': 16,\n",
       " '위해': 17,\n",
       " '지원': 18,\n",
       " '대출': 19,\n",
       " '및': 20,\n",
       " '하고': 21,\n",
       " '그룹': 22,\n",
       " '제공': 23,\n",
       " '서비스': 24,\n",
       " '제': 25,\n",
       " '코로나': 26,\n",
       " '본점': 27,\n",
       " '고객': 28,\n",
       " '19': 29,\n",
       " '경북': 30,\n",
       " '기업': 31,\n",
       " '위': 32,\n",
       " '협약': 33,\n",
       " '지난': 34,\n",
       " '실시': 35,\n",
       " '전': 36,\n",
       " '이다': 37,\n",
       " '진행': 38,\n",
       " '사진': 39,\n",
       " '적': 40,\n",
       " '업무': 41,\n",
       " '임성훈': 42,\n",
       " '이번': 43,\n",
       " '따르다': 44,\n",
       " '부터': 45,\n",
       " '상품': 46,\n",
       " '2': 47,\n",
       " '전달': 48,\n",
       " '김태오': 49,\n",
       " 'im': 50,\n",
       " '수': 51,\n",
       " '원': 52,\n",
       " '행사': 53,\n",
       " '회장': 54,\n",
       " '기': 55,\n",
       " '투자': 56,\n",
       " '영업': 57,\n",
       " '금리': 58,\n",
       " '적금': 59,\n",
       " '직원': 60,\n",
       " '디지털': 61,\n",
       " '함께': 62,\n",
       " '사랑': 63,\n",
       " '까지': 64,\n",
       " '증권': 65,\n",
       " '뱅크': 66,\n",
       " '사회': 67,\n",
       " '통해': 68,\n",
       " '지주': 69,\n",
       " '비대': 70,\n",
       " '출시': 71,\n",
       " '식': 72,\n",
       " '대상': 73,\n",
       " '센터': 74,\n",
       " '카드': 75,\n",
       " '활성화': 76,\n",
       " '오다': 77,\n",
       " '계열': 78,\n",
       " '순이익': 79,\n",
       " '체결': 80,\n",
       " '하이': 81,\n",
       " '1': 82,\n",
       " '사업': 83,\n",
       " '이벤트': 84,\n",
       " '모바일': 85,\n",
       " '기자': 86,\n",
       " '개': 87,\n",
       " '자금': 88,\n",
       " '돼다': 89,\n",
       " '신용': 90,\n",
       " '앱': 91,\n",
       " '기념': 92,\n",
       " '대비': 93,\n",
       " '5': 94,\n",
       " '경': 95,\n",
       " '지점': 96,\n",
       " '증가': 97,\n",
       " '핀': 98,\n",
       " '받다': 99,\n",
       " '크다': 100,\n",
       " '중소기업': 101,\n",
       " '경제': 102,\n",
       " '산업': 103,\n",
       " '지난해': 104,\n",
       " '명': 105,\n",
       " '날': 106,\n",
       " '연': 107,\n",
       " '경영': 108,\n",
       " '에게': 109,\n",
       " '기술': 110,\n",
       " 'bnk': 111,\n",
       " '대구시': 112,\n",
       " '년': 113,\n",
       " '▲': 114,\n",
       " '나눔': 115,\n",
       " '올해': 116,\n",
       " '부산': 117,\n",
       " '다양하다': 118,\n",
       " '달': 119,\n",
       " '맞다': 120,\n",
       " '성': 121,\n",
       " '비': 122,\n",
       " '채용': 123,\n",
       " '통한': 124,\n",
       " '소': 125,\n",
       " 'sk': 126,\n",
       " '이익': 127,\n",
       " '사': 128,\n",
       " '가입': 129,\n",
       " '계': 130,\n",
       " '특별': 131,\n",
       " '내': 132,\n",
       " '재단': 133,\n",
       " '것': 134,\n",
       " '지방': 135,\n",
       " '에는': 136,\n",
       " '보증': 137,\n",
       " '참여': 138,\n",
       " '사인': 139,\n",
       " '공': 140,\n",
       " '캐피탈': 141,\n",
       " '이용': 142,\n",
       " '중': 143,\n",
       " '텔레콤': 144,\n",
       " '판매': 145,\n",
       " 'bc': 146,\n",
       " '운영': 147,\n",
       " '규모': 148,\n",
       " '대표': 149,\n",
       " '공인': 150,\n",
       " '세': 151,\n",
       " '점': 152,\n",
       " '당': 153,\n",
       " '할인': 154,\n",
       " '시': 155,\n",
       " '관련': 156,\n",
       " '최대': 157,\n",
       " '플랫폼': 158,\n",
       " '활동': 159,\n",
       " '혁신': 160,\n",
       " '뱅킹': 161,\n",
       " '보다': 162,\n",
       " '한국': 163,\n",
       " '계층': 164,\n",
       " '개최': 165,\n",
       " '주년': 166,\n",
       " '후': 167,\n",
       " '주': 168,\n",
       " '피해': 169,\n",
       " '권': 170,\n",
       " '화': 171,\n",
       " '신': 172,\n",
       " '성금': 173,\n",
       " '이상': 174,\n",
       " '농협': 175,\n",
       " '인증': 176,\n",
       " '실적': 177,\n",
       " '점포': 178,\n",
       " '시장': 179,\n",
       " '최초': 180,\n",
       " '기반': 181,\n",
       " '캄보디아': 182,\n",
       " '3': 183,\n",
       " '늘다': 184,\n",
       " '적십자사': 185,\n",
       " '관리': 186,\n",
       " '소상': 187,\n",
       " '겪다': 188,\n",
       " '협력': 189,\n",
       " 'esg': 190,\n",
       " '봉사': 191,\n",
       " '어려움': 192,\n",
       " '주력': 193,\n",
       " '행': 194,\n",
       " '뉴스': 195,\n",
       " '구축': 196,\n",
       " '강화': 197,\n",
       " '경남': 198,\n",
       " '독도': 199,\n",
       " '활용': 200,\n",
       " '△': 201,\n",
       " '행복': 202,\n",
       " '감소': 203,\n",
       " '확대': 204,\n",
       " '28일': 205,\n",
       " '환경': 206,\n",
       " '단': 207,\n",
       " '개선': 208,\n",
       " '동기': 209,\n",
       " '총': 210,\n",
       " '신청': 211,\n",
       " '8일': 212,\n",
       " '7일': 213,\n",
       " '방문': 214,\n",
       " '영': 215,\n",
       " '일': 216,\n",
       " '수성동': 217,\n",
       " '창립': 218,\n",
       " '1일': 219,\n",
       " '페이': 220,\n",
       " '대다': 221,\n",
       " 't': 222,\n",
       " '형': 223,\n",
       " '4': 224,\n",
       " '확인': 225,\n",
       " '한도': 226,\n",
       " '대한': 227,\n",
       " '거래': 228,\n",
       " '실천': 229,\n",
       " '확산': 230,\n",
       " '회복': 231,\n",
       " '장이': 232,\n",
       " '상공': 233,\n",
       " '캠페인': 234,\n",
       " '주택': 235,\n",
       " '30일': 236,\n",
       " '계좌': 237,\n",
       " '간': 238,\n",
       " '적용': 239,\n",
       " '가능하다': 240,\n",
       " '최근': 241,\n",
       " '기부': 242,\n",
       " '선보이다': 243,\n",
       " '편의': 244,\n",
       " '종합': 245,\n",
       " '말': 246,\n",
       " 'nh': 247,\n",
       " '개인': 248,\n",
       " '기록': 249,\n",
       " '버스': 250,\n",
       " '6일': 251,\n",
       " '곳': 252,\n",
       " '혜택': 253,\n",
       " '프로그램': 254,\n",
       " '예정': 255,\n",
       " '마케팅': 256,\n",
       " '장기': 257,\n",
       " '4일': 258,\n",
       " '오픈': 259,\n",
       " '메타': 260,\n",
       " '홍보': 261,\n",
       " '예': 262,\n",
       " '관계자': 263,\n",
       " '광주': 264,\n",
       " '전국': 265,\n",
       " '21일': 266,\n",
       " '생명': 267,\n",
       " '극복': 268,\n",
       " '열사': 269,\n",
       " 'high': 270,\n",
       " '10': 271,\n",
       " '본부': 272,\n",
       " '후원': 273,\n",
       " '취약': 274,\n",
       " '추진': 275,\n",
       " '성장': 276,\n",
       " '상생': 277,\n",
       " '문': 278,\n",
       " '기간': 279,\n",
       " '개발': 280,\n",
       " '시작': 281,\n",
       " '부': 282,\n",
       " '서': 283,\n",
       " '시스템': 284,\n",
       " '18일': 285,\n",
       " '첫': 286,\n",
       " '담보': 287,\n",
       " '각각': 288,\n",
       " '지사': 289,\n",
       " '대구광역시': 290,\n",
       " '6': 291,\n",
       " '열리다': 292,\n",
       " '법인': 293,\n",
       " '층': 294,\n",
       " '회': 295,\n",
       " '27일': 296,\n",
       " '펀드': 297,\n",
       " '결제': 298,\n",
       " '테크': 299,\n",
       " '보안': 300,\n",
       " '29일': 301,\n",
       " '14일': 302,\n",
       " '나서다': 303,\n",
       " '본부장': 304,\n",
       " '10일': 305,\n",
       " '10월': 306,\n",
       " '희망': 307,\n",
       " '가운데': 308,\n",
       " '현지': 309,\n",
       " '이자': 310,\n",
       " '상반기': 311,\n",
       " '분야': 312,\n",
       " '채널': 313,\n",
       " '16일': 314,\n",
       " '신규': 315,\n",
       " '추석': 316,\n",
       " '24일': 317,\n",
       " 'ibk': 318,\n",
       " '급': 319,\n",
       " '전용': 320,\n",
       " '부동산': 321,\n",
       " '여': 322,\n",
       " '구미': 323,\n",
       " '외화': 324,\n",
       " '조성': 325,\n",
       " '저': 326,\n",
       " '앞두다': 327,\n",
       " '원금': 328,\n",
       " '지속': 329,\n",
       " '20일': 330,\n",
       " '신종': 331,\n",
       " '글로벌': 332,\n",
       " '사용': 333,\n",
       " '예금': 334,\n",
       " '의료': 335,\n",
       " '동': 336,\n",
       " '2일': 337,\n",
       " '인하다': 338,\n",
       " '다음': 339,\n",
       " '헌': 340,\n",
       " '약': 341,\n",
       " '기존': 342,\n",
       " '교육': 343,\n",
       " '26일': 344,\n",
       " '데이터': 345,\n",
       " '아동': 346,\n",
       " '금': 347,\n",
       " '기업은행': 348,\n",
       " '역': 349,\n",
       " '간편': 350,\n",
       " '공개': 351,\n",
       " '공동': 352,\n",
       " '이웃': 353,\n",
       " 'kb': 354,\n",
       " '업체': 355,\n",
       " '공사': 356,\n",
       " '기관': 357,\n",
       " '17일': 358,\n",
       " '나': 359,\n",
       " '이후': 360,\n",
       " '하락': 361,\n",
       " '전문': 362,\n",
       " '25일': 363,\n",
       " '경상북도': 364,\n",
       " '문화': 365,\n",
       " '동참': 366,\n",
       " '19일': 367,\n",
       " '3일': 368,\n",
       " '왼쪽': 369,\n",
       " '자산': 370,\n",
       " 'it': 371,\n",
       " '주요': 372,\n",
       " '일환': 373,\n",
       " '3분': 374,\n",
       " '참석': 375,\n",
       " ';': 376,\n",
       " '전북': 377,\n",
       " '오후': 378,\n",
       " '명절': 379,\n",
       " '이사장': 380,\n",
       " '손잡다': 381,\n",
       " '침체': 382,\n",
       " '봉사활동': 383,\n",
       " '촬영': 384,\n",
       " '두': 385,\n",
       " '5월': 386,\n",
       " '평가': 387,\n",
       " '이하': 388,\n",
       " '제휴': 389,\n",
       " '13일': 390,\n",
       " '환전': 391,\n",
       " '12일': 392,\n",
       " '15일': 393,\n",
       " '5일': 394,\n",
       " '모집': 395,\n",
       " '6월': 396,\n",
       " '최고': 397,\n",
       " '달성': 398,\n",
       " '은행권': 399,\n",
       " '누적': 400,\n",
       " '하나은행': 401,\n",
       " '9일': 402,\n",
       " '선정': 403,\n",
       " '운동': 404,\n",
       " '시행': 405,\n",
       " '우대': 406,\n",
       " '2021': 407,\n",
       " '기금': 408,\n",
       " '협업': 409,\n",
       " '상품권': 410,\n",
       " '예방': 411,\n",
       " '139130': 412,\n",
       " '같다': 413,\n",
       " 'sc': 414,\n",
       " '1년': 415,\n",
       " '1분': 416,\n",
       " '복합': 417,\n",
       " '23일': 418,\n",
       " '마련': 419,\n",
       " '9월': 420,\n",
       " '조회': 421,\n",
       " '대해': 422,\n",
       " '2020년': 423,\n",
       " '비롯': 424,\n",
       " '사태': 425,\n",
       " '개월': 426,\n",
       " '창업': 427,\n",
       " '열다': 428,\n",
       " '증정': 429,\n",
       " '소외': 430,\n",
       " '또': 431,\n",
       " '샵': 432,\n",
       " '실명': 433,\n",
       " '기준': 434,\n",
       " '복지': 435,\n",
       " '22일': 436,\n",
       " '시대': 437,\n",
       " '11일': 438,\n",
       " '통합': 439,\n",
       " '차': 440,\n",
       " '김': 441,\n",
       " '세대': 442,\n",
       " '발급': 443,\n",
       " '추다': 444,\n",
       " '경쟁력': 445,\n",
       " '소비자': 446,\n",
       " '양자': 447,\n",
       " '코로나바이러스': 448,\n",
       " '미래': 449,\n",
       " '상': 450,\n",
       " 'jb': 451,\n",
       " '◆': 452,\n",
       " '전세': 453,\n",
       " '2021년': 454,\n",
       " '컨설팅': 455,\n",
       " '가지다': 456,\n",
       " '크게': 457,\n",
       " '에서는': 458,\n",
       " '부문': 459,\n",
       " '생활': 460,\n",
       " '여명': 461,\n",
       " '신한은행': 462,\n",
       " '언택트': 463,\n",
       " '공모전': 464,\n",
       " '특판': 465,\n",
       " '에도': 466,\n",
       " '새롭다': 467,\n",
       " '부장': 468,\n",
       " '안정': 469,\n",
       " '경우': 470,\n",
       " '우리은행': 471,\n",
       " '지난달': 472,\n",
       " '현': 473,\n",
       " '감염증': 474,\n",
       " '대학생': 475,\n",
       " '위기': 476,\n",
       " '각': 477,\n",
       " '경기': 478,\n",
       " '민': 479,\n",
       " '2019': 480,\n",
       " '오전': 481,\n",
       " '복지관': 482,\n",
       " '2019년': 483,\n",
       " '일자리': 484,\n",
       " '초': 485,\n",
       " '장학금': 486,\n",
       " '모': 487,\n",
       " '우대금리': 488,\n",
       " '특히': 489,\n",
       " '계획': 490,\n",
       " '위원회': 491,\n",
       " '도입': 492,\n",
       " '현재': 493,\n",
       " '내다': 494,\n",
       " '역시': 495,\n",
       " '구매': 496,\n",
       " '위치': 497,\n",
       " '없다': 498,\n",
       " '비상': 499,\n",
       " '경품': 500,\n",
       " '31일': 501,\n",
       " '발생': 502,\n",
       " '임원': 503,\n",
       " '대회': 504,\n",
       " '설': 505,\n",
       " '역량': 506,\n",
       " '발표': 507,\n",
       " '매년': 508,\n",
       " '하반기': 509,\n",
       " '부행': 510,\n",
       " '모두': 511,\n",
       " '최병수': 512,\n",
       " '분석': 513,\n",
       " 'dignity': 514,\n",
       " '발전': 515,\n",
       " '육성': 516,\n",
       " '적극': 517,\n",
       " '7': 518,\n",
       " 'kdb': 519,\n",
       " '인식': 520,\n",
       " '5%': 521,\n",
       " '온라인': 522,\n",
       " '자회사': 523,\n",
       " '무료': 524,\n",
       " '연말': 525,\n",
       " '속': 526,\n",
       " '추가': 527,\n",
       " '대면': 528,\n",
       " '않다': 529,\n",
       " '인터넷': 530,\n",
       " '퇴직': 531,\n",
       " '개점': 532,\n",
       " '양사': 533,\n",
       " '기탁': 534,\n",
       " '뉴데일리': 535,\n",
       " '소통': 536,\n",
       " '창': 537,\n",
       " '앞서': 538,\n",
       " '사의': 539,\n",
       " '북구': 540,\n",
       " '상무': 541,\n",
       " '방역': 542,\n",
       " '없이': 543,\n",
       " '높다': 544,\n",
       " '8': 545,\n",
       " '청소년': 546,\n",
       " '8월': 547,\n",
       " '2020': 548,\n",
       " '베트남': 549,\n",
       " '상호': 550,\n",
       " '상황': 551,\n",
       " '포인트': 552,\n",
       " '가족': 553,\n",
       " '매입': 554,\n",
       " '개설': 555,\n",
       " '인재': 556,\n",
       " '청년': 557,\n",
       " '시설': 558,\n",
       " '광복절': 559,\n",
       " '포항': 560,\n",
       " '만에': 561,\n",
       " '시즌': 562,\n",
       " '누구': 563,\n",
       " '안전': 564,\n",
       " '지능': 565,\n",
       " '대표이사': 566,\n",
       " '차량': 567,\n",
       " '출범': 568,\n",
       " '국내': 569,\n",
       " '이르다': 570,\n",
       " '국민은행': 571,\n",
       " '금은': 572,\n",
       " '목표': 573,\n",
       " '시청': 574,\n",
       " '해당': 575,\n",
       " '새해': 576,\n",
       " '협의': 577,\n",
       " '물품': 578,\n",
       " '플': 579,\n",
       " '사가': 580,\n",
       " '수준': 581,\n",
       " '설명': 582,\n",
       " '돕기': 583,\n",
       " '4월': 584,\n",
       " '가스': 585,\n",
       " '■': 586,\n",
       " '회사': 587,\n",
       " '창구': 588,\n",
       " '수익': 589,\n",
       " '무': 590,\n",
       " '일시': 591,\n",
       " '수성구': 592,\n",
       " '서민': 593,\n",
       " '상담': 594,\n",
       " '핵심': 595,\n",
       " '월': 596,\n",
       " '최종': 597,\n",
       " '접수': 598,\n",
       " '1000억원': 599,\n",
       " '구입': 600,\n",
       " '주다': 601,\n",
       " 'ceo': 602,\n",
       " '인공': 603,\n",
       " '맺다': 604,\n",
       " '본인': 605,\n",
       " '스타트업': 606,\n",
       " '랩': 607,\n",
       " '번째': 608,\n",
       " '동안': 609,\n",
       " '맞이': 610,\n",
       " '설날': 611,\n",
       " '방식': 612,\n",
       " '신입': 613,\n",
       " '자금난': 614,\n",
       " '돌파': 615,\n",
       " '쓰다': 616,\n",
       " '백': 617,\n",
       " '책임': 618,\n",
       " '지부': 619,\n",
       " '보유': 620,\n",
       " '제한': 621,\n",
       " '모으다': 622,\n",
       " '전략': 623,\n",
       " '소재': 624,\n",
       " '진흥': 625,\n",
       " '건물': 626,\n",
       " '액': 627,\n",
       " '담다': 628,\n",
       " '시중': 629,\n",
       " '가다': 630,\n",
       " 'cu': 631,\n",
       " '추첨': 632,\n",
       " 'cnb': 633,\n",
       " '하나': 634,\n",
       " '만들다': 635,\n",
       " '직장인': 636,\n",
       " '후보': 637,\n",
       " '구미시': 638,\n",
       " '스마트': 639,\n",
       " '지정': 640,\n",
       " '결합': 641,\n",
       " '도시락': 642,\n",
       " 'g': 643,\n",
       " '보내다': 644,\n",
       " '얼굴': 645,\n",
       " '직접': 646,\n",
       " '순': 647,\n",
       " '편의점': 648,\n",
       " '겸': 649,\n",
       " '한편': 650,\n",
       " '신탁': 651,\n",
       " '친환경': 652,\n",
       " '찾다': 653,\n",
       " '안면': 654,\n",
       " '칠성동': 655,\n",
       " '기획': 656,\n",
       " '현장': 657,\n",
       " '발행': 658,\n",
       " '씨': 659,\n",
       " '설립': 660,\n",
       " '영향': 661,\n",
       " '금액': 662,\n",
       " '설치': 663,\n",
       " '율': 664,\n",
       " '상공회의소': 665,\n",
       " '5000억원': 666,\n",
       " '통장': 667,\n",
       " '협회': 668,\n",
       " '전경': 669,\n",
       " '해외': 670,\n",
       " '수수료': 671,\n",
       " '근무': 672,\n",
       " '동행': 673,\n",
       " '구성': 674,\n",
       " '중인': 675,\n",
       " '티': 676,\n",
       " '세븐': 677,\n",
       " '고도화': 678,\n",
       " '전통': 679,\n",
       " '회의': 680,\n",
       " '늘어나다': 681,\n",
       " '정보보호': 682,\n",
       " '도청': 683,\n",
       " '업계': 684,\n",
       " '연탄': 685,\n",
       " 'mz': 686,\n",
       " '취급': 687,\n",
       " '특수은행': 688,\n",
       " '방안': 689,\n",
       " '대사': 690,\n",
       " '국': 691,\n",
       " '7월': 692,\n",
       " '포함': 693,\n",
       " '규제': 694,\n",
       " '대응': 695,\n",
       " '비교': 696,\n",
       " '전체': 697,\n",
       " '우리': 698,\n",
       " '가능': 699,\n",
       " '중심': 700,\n",
       " '호': 701,\n",
       " '회원': 702,\n",
       " '시상식': 703,\n",
       " '저축은행': 704,\n",
       " '54': 705,\n",
       " '재': 706,\n",
       " '검찰': 707,\n",
       " '절차': 708,\n",
       " '새': 709,\n",
       " '내년': 710,\n",
       " '하나카드': 711,\n",
       " '체험': 712,\n",
       " '급여': 713,\n",
       " 'p': 714,\n",
       " '정보': 715,\n",
       " '네이버': 716,\n",
       " '3월': 717,\n",
       " '로부터': 718,\n",
       " '인하': 719,\n",
       " '업자': 720,\n",
       " '시장경제': 721,\n",
       " '가장': 722,\n",
       " '경산': 723,\n",
       " '과정': 724,\n",
       " '들다': 725,\n",
       " '자영': 726,\n",
       " '반': 727,\n",
       " '장학': 728,\n",
       " '꽃': 729,\n",
       " '빅데이터': 730,\n",
       " '피우다': 731,\n",
       " '상업': 732,\n",
       " '확보': 733,\n",
       " '서울': 734,\n",
       " '아니다': 735,\n",
       " '혐의': 736,\n",
       " '연금': 737,\n",
       " '20': 738,\n",
       " '취임': 739,\n",
       " '분': 740,\n",
       " '1억원': 741,\n",
       " '금회': 742,\n",
       " '공헌': 743,\n",
       " '캐시': 744,\n",
       " '영상': 745,\n",
       " '10억원': 746,\n",
       " '우수': 747,\n",
       " '소비': 748,\n",
       " '별': 749,\n",
       " '선': 750,\n",
       " '프로젝트': 751,\n",
       " '경력': 752,\n",
       " '충전': 753,\n",
       " '강승탁': 754,\n",
       " '앞': 755,\n",
       " '맞추다': 756,\n",
       " '1%': 757,\n",
       " '상승': 758,\n",
       " '청구': 759,\n",
       " '웹': 760,\n",
       " '기여': 761,\n",
       " '국제': 762,\n",
       " '지급': 763,\n",
       " '먼저': 764,\n",
       " '소득': 765,\n",
       " '데': 766,\n",
       " '간편하다': 767,\n",
       " '내달': 768,\n",
       " '핫': 769,\n",
       " '스': 770,\n",
       " '문화재단': 771,\n",
       " '여름': 772,\n",
       " '결과': 773,\n",
       " '관심': 774,\n",
       " 'ai': 775,\n",
       " '여신': 776,\n",
       " '당기다': 777,\n",
       " '수도권': 778,\n",
       " '정부': 779,\n",
       " '마스크': 780,\n",
       " '13': 781,\n",
       " '네트워크': 782,\n",
       " '전기차': 783,\n",
       " '의회': 784,\n",
       " '2월': 785,\n",
       " '따뜻하다': 786,\n",
       " '북도': 787,\n",
       " '많다': 788,\n",
       " '증대': 789,\n",
       " '또한': 790,\n",
       " '과의': 791,\n",
       " '9': 792,\n",
       " '힘': 793,\n",
       " '양일': 794,\n",
       " '당시': 795,\n",
       " '시간': 796,\n",
       " 'ict': 797,\n",
       " '그': 798,\n",
       " '시키다': 799,\n",
       " '확진': 800,\n",
       " '피다': 801,\n",
       " '수협': 802,\n",
       " '상당': 803,\n",
       " '인사': 804,\n",
       " '공단': 805,\n",
       " '위원장': 806,\n",
       " '차원': 807,\n",
       " '보호': 808,\n",
       " '해': 809,\n",
       " '조': 810,\n",
       " '어린이': 811,\n",
       " '헌혈': 812,\n",
       " '효과': 813,\n",
       " '체크카드': 814,\n",
       " '카카오': 815,\n",
       " '마이': 816,\n",
       " '진출': 817,\n",
       " '더': 818,\n",
       " '금융기관': 819,\n",
       " '긴급': 820,\n",
       " '주민': 821,\n",
       " '사고': 822,\n",
       " '지구': 823,\n",
       " '중소': 824,\n",
       " '론': 825,\n",
       " '노동조합': 826,\n",
       " '정기예금': 827,\n",
       " '2018년': 828,\n",
       " '승인': 829,\n",
       " '나가다': 830,\n",
       " '겨울나기': 831,\n",
       " '자동차': 832,\n",
       " '내용': 833,\n",
       " '본격': 834,\n",
       " '완료': 835,\n",
       " '정책': 836,\n",
       " '12월': 837,\n",
       " '보험': 838,\n",
       " '선임': 839,\n",
       " '개편': 840,\n",
       " '가지': 841,\n",
       " '특': 842,\n",
       " '박': 843,\n",
       " '사기': 844,\n",
       " '비리': 845,\n",
       " '세계': 846,\n",
       " '세븐일레븐': 847,\n",
       " '니': 848,\n",
       " '휴가': 849,\n",
       " '월간': 850,\n",
       " '채다': 851,\n",
       " '린지': 852,\n",
       " '이나': 853,\n",
       " '용': 854,\n",
       " '진': 855,\n",
       " '공식': 856,\n",
       " '인력': 857,\n",
       " '어르신': 858,\n",
       " '뒤': 859,\n",
       " '명의': 860,\n",
       " '애로': 861,\n",
       " '중이': 862,\n",
       " '쉬다': 863,\n",
       " '시민': 864,\n",
       " '방지': 865,\n",
       " '리스크': 866,\n",
       " '어렵다': 867,\n",
       " '력': 868,\n",
       " '아이디어': 869,\n",
       " '또는': 870,\n",
       " '시너지': 871,\n",
       " '특화': 872,\n",
       " '이체': 873,\n",
       " '성과': 874,\n",
       " '학생': 875,\n",
       " '마음': 876,\n",
       " '리테일': 877,\n",
       " '▷': 878,\n",
       " '본사': 879,\n",
       " '㈜': 880,\n",
       " '존': 881,\n",
       " '오늘': 882,\n",
       " 'sns': 883,\n",
       " '스마트폰': 884,\n",
       " '이렇다': 885,\n",
       " '오른쪽': 886,\n",
       " '아': 887,\n",
       " 'cnbnews': 888,\n",
       " '씨앤비': 889,\n",
       " '수출': 890,\n",
       " '주최': 891,\n",
       " 'lt': 892,\n",
       " '전면': 893,\n",
       " '자산운용': 894,\n",
       " '똑디': 895,\n",
       " '지배구조': 896,\n",
       " '릴레이': 897,\n",
       " '온누리상품권': 898,\n",
       " '사업자': 899,\n",
       " '이라고': 900,\n",
       " '지표': 901,\n",
       " '가상': 902,\n",
       " '1월': 903,\n",
       " '관광': 904,\n",
       " '비다': 905,\n",
       " '양': 906,\n",
       " '12': 907,\n",
       " '병원': 908,\n",
       " '주거': 909,\n",
       " '부점': 910,\n",
       " '관': 911,\n",
       " '디': 912,\n",
       " '모금': 913,\n",
       " '사장': 914,\n",
       " '카': 915,\n",
       " '홈페이지': 916,\n",
       " '만족도': 917,\n",
       " '11월': 918,\n",
       " '때': 919,\n",
       " '에서도': 920,\n",
       " '‧': 921,\n",
       " '배달': 922,\n",
       " '가입자': 923,\n",
       " '기본': 924,\n",
       " '부부': 925,\n",
       " '보이다': 926,\n",
       " '우체국': 927,\n",
       " '삼계탕': 928,\n",
       " '단장': 929,\n",
       " '노조': 930,\n",
       " '뿐': 931,\n",
       " '발대식': 932,\n",
       " '노력': 933,\n",
       " '비중': 934,\n",
       " '대금': 935,\n",
       " '유예': 936,\n",
       " '랑': 937,\n",
       " '_': 938,\n",
       " '호치민': 939,\n",
       " '폐쇄': 940,\n",
       " '중순': 941,\n",
       " '결정': 942,\n",
       " '추천': 943,\n",
       " '빵': 944,\n",
       " '화로': 945,\n",
       " '뜻': 946,\n",
       " '5만': 947,\n",
       " '급식': 948,\n",
       " '장애인': 949,\n",
       " 'wm': 950,\n",
       " '송금': 951,\n",
       " '삼성': 952,\n",
       " '임대료': 953,\n",
       " '온': 954,\n",
       " '단체': 955,\n",
       " '변화': 956,\n",
       " '차기': 957,\n",
       " '이면': 958,\n",
       " '코': 959,\n",
       " '50': 960,\n",
       " '여의도': 961,\n",
       " '의미': 962,\n",
       " '입점': 963,\n",
       " '계약': 964,\n",
       " '응원': 965,\n",
       " '펼치다': 966,\n",
       " '소액': 967,\n",
       " '해소': 968,\n",
       " '브랜드': 969,\n",
       " '바': 970,\n",
       " '측은': 971,\n",
       " '꾸준하다': 972,\n",
       " '가정': 973,\n",
       " '트렌드': 974,\n",
       " '대강': 975,\n",
       " '허가': 976,\n",
       " '미얀마': 977,\n",
       " '원화': 978,\n",
       " '이며': 979,\n",
       " '능력': 980,\n",
       " '때문': 981,\n",
       " '본': 982,\n",
       " '매출': 983,\n",
       " '건전성': 984,\n",
       " '주가': 985,\n",
       " '외환': 986,\n",
       " '송준기': 987,\n",
       " '유': 988,\n",
       " '중단': 989,\n",
       " '전망': 990,\n",
       " '고하': 991,\n",
       " '전자': 992,\n",
       " '도움': 993,\n",
       " '청장': 994,\n",
       " '권영진': 995,\n",
       " '1천': 996,\n",
       " '중견': 997,\n",
       " '일부': 998,\n",
       " '5억원': 999,\n",
       " '▶': 1000,\n",
       " ...}"
      ]
     },
     "execution_count": 44,
     "metadata": {},
     "output_type": "execute_result"
    }
   ],
   "source": [
    "tokenizer.word_index"
   ]
  },
  {
   "cell_type": "code",
   "execution_count": 45,
   "id": "04e7c2ba",
   "metadata": {
    "ExecuteTime": {
     "end_time": "2022-06-10T00:04:57.542080Z",
     "start_time": "2022-06-10T00:04:57.528118Z"
    }
   },
   "outputs": [
    {
     "data": {
      "text/plain": [
       "12862"
      ]
     },
     "execution_count": 45,
     "metadata": {},
     "output_type": "execute_result"
    }
   ],
   "source": [
    "len(tokenizer.word_index)"
   ]
  },
  {
   "cell_type": "markdown",
   "id": "eeb566c1",
   "metadata": {},
   "source": [
    "## get dummies --> 원핫인코딩"
   ]
  },
  {
   "cell_type": "code",
   "execution_count": 46,
   "id": "d685770c",
   "metadata": {
    "ExecuteTime": {
     "end_time": "2022-06-10T00:04:57.557039Z",
     "start_time": "2022-06-10T00:04:57.543077Z"
    }
   },
   "outputs": [],
   "source": [
    "# pd.get_dummies()로 쉽게 원핫인코딩 가능.\n",
    "\n",
    "y_train = pd.get_dummies(x_train['label']).to_numpy()\n",
    "y_test = pd.get_dummies(x_test['label']).to_numpy()"
   ]
  },
  {
   "cell_type": "code",
   "execution_count": 47,
   "id": "cc8be725",
   "metadata": {
    "ExecuteTime": {
     "end_time": "2022-06-10T00:04:57.572027Z",
     "start_time": "2022-06-10T00:04:57.558039Z"
    }
   },
   "outputs": [
    {
     "data": {
      "text/plain": [
       "array([[1, 0],\n",
       "       [0, 1],\n",
       "       [0, 1]], dtype=uint8)"
      ]
     },
     "execution_count": 47,
     "metadata": {},
     "output_type": "execute_result"
    }
   ],
   "source": [
    "y_train[0:3]"
   ]
  },
  {
   "cell_type": "code",
   "execution_count": 48,
   "id": "3c193d5a",
   "metadata": {
    "ExecuteTime": {
     "end_time": "2022-06-10T00:04:57.586960Z",
     "start_time": "2022-06-10T00:04:57.572997Z"
    }
   },
   "outputs": [
    {
     "data": {
      "text/plain": [
       "array([[0, 1],\n",
       "       [1, 0],\n",
       "       [0, 1],\n",
       "       ...,\n",
       "       [0, 1],\n",
       "       [0, 1],\n",
       "       [0, 1]], dtype=uint8)"
      ]
     },
     "execution_count": 48,
     "metadata": {},
     "output_type": "execute_result"
    }
   ],
   "source": [
    "y_test"
   ]
  },
  {
   "cell_type": "code",
   "execution_count": 49,
   "id": "ae5e21b1",
   "metadata": {
    "ExecuteTime": {
     "end_time": "2022-06-10T00:04:57.601920Z",
     "start_time": "2022-06-10T00:04:57.587958Z"
    }
   },
   "outputs": [],
   "source": [
    "# y_train = list()\n",
    "# y_test = list()\n",
    "# X_train['label'].unique().tolist()"
   ]
  },
  {
   "cell_type": "code",
   "execution_count": 50,
   "id": "c8255942",
   "metadata": {
    "ExecuteTime": {
     "end_time": "2022-06-10T00:04:57.616880Z",
     "start_time": "2022-06-10T00:04:57.602918Z"
    }
   },
   "outputs": [],
   "source": [
    "# # 1 / 0 / -1\n",
    "# def one_hot_encoding(label):\n",
    "#     one_hot_vector = [0] * len(X_train['label'].unique().tolist())\n",
    "#     one_hot_vector[label+1] = 1\n",
    "#     return one_hot_vector\n",
    "\n",
    "# def right_answer():\n",
    "#     for tr in X_train['label']:\n",
    "#         y_train.append(one_hot_encoding(tr))\n",
    "#     for te in X_test['label']:\n",
    "#         y_test.append(one_hot_encoding(te))\n",
    "\n",
    "# right_answer()"
   ]
  },
  {
   "cell_type": "code",
   "execution_count": 51,
   "id": "c38bfb42",
   "metadata": {
    "ExecuteTime": {
     "end_time": "2022-06-10T00:04:57.631840Z",
     "start_time": "2022-06-10T00:04:57.617878Z"
    }
   },
   "outputs": [],
   "source": [
    "# if (len(y_train) + len(y_test)) == len(df_news_overlap['label']):\n",
    "#     print('정상')\n",
    "# else:\n",
    "#     y_train = list()\n",
    "#     y_test = list()\n",
    "#     right_answer()\n",
    "#     print('재확인 필요')\n",
    "\n",
    "# y_train = np.array(y_train)\n",
    "# y_test = np.array(y_test)"
   ]
  },
  {
   "cell_type": "markdown",
   "id": "316c007b",
   "metadata": {},
   "source": [
    "## 빈도 수가 낮은 단어 제거 --> 대기\n",
    "- 빈도수가 낮은 단어 --> 학습에 영향이 크지 않음.\n",
    "- 전처리를 통해 제거\n",
    "- 패딩 --> 학습 시간 단축 및 최적의 효율성\n",
    "\n",
    "**한두번 나온 단어가 그 문장의 감성을 표현할 수 있는 핵심단어 일수도?**"
   ]
  },
  {
   "cell_type": "code",
   "execution_count": 52,
   "id": "10c152fb",
   "metadata": {
    "ExecuteTime": {
     "end_time": "2022-06-10T00:04:57.646800Z",
     "start_time": "2022-06-10T00:04:57.632838Z"
    }
   },
   "outputs": [
    {
     "data": {
      "text/plain": [
       "12862"
      ]
     },
     "execution_count": 52,
     "metadata": {},
     "output_type": "execute_result"
    }
   ],
   "source": [
    "len(tokenizer.word_counts)"
   ]
  },
  {
   "cell_type": "code",
   "execution_count": 53,
   "id": "19ff4016",
   "metadata": {
    "ExecuteTime": {
     "end_time": "2022-06-10T00:04:57.661760Z",
     "start_time": "2022-06-10T00:04:57.647798Z"
    }
   },
   "outputs": [
    {
     "name": "stdout",
     "output_type": "stream",
     "text": [
      "단어 집합(vocabulary)의 종류 : 12862\n",
      "등장 빈도가 1번 이하인 희귀 단어의 수: 4313\n",
      "단어 집합에서 희귀 단어의 비율: 33.53\n",
      "전체 등장 빈도에서 희귀 단어 등장 빈도 비율: 0.7118547836047283\n"
     ]
    }
   ],
   "source": [
    "threshold = 2 # 임계치\n",
    "total_cnt = len(tokenizer.word_index)\n",
    "rare_cnt = 0\n",
    "words_freq = 0\n",
    "rare_freq = 0\n",
    "\n",
    "for key, value in tokenizer.word_counts.items():\n",
    "    words_freq += value\n",
    "    if value < threshold:\n",
    "        rare_cnt += 1\n",
    "        rare_freq += value\n",
    "print('단어 집합(vocabulary)의 종류 :', total_cnt)\n",
    "print('등장 빈도가 %s번 이하인 희귀 단어의 수: %s' % (threshold - 1, rare_cnt))\n",
    "print(\"단어 집합에서 희귀 단어의 비율: {:.2f}\".format((rare_cnt / total_cnt) * 100))\n",
    "print(\"전체 등장 빈도에서 희귀 단어 등장 빈도 비율:\", (rare_freq / words_freq) * 100)"
   ]
  },
  {
   "cell_type": "code",
   "execution_count": 54,
   "id": "24e0a021",
   "metadata": {
    "ExecuteTime": {
     "end_time": "2022-06-10T00:04:57.676719Z",
     "start_time": "2022-06-10T00:04:57.662757Z"
    }
   },
   "outputs": [
    {
     "name": "stdout",
     "output_type": "stream",
     "text": [
      "8549\n"
     ]
    }
   ],
   "source": [
    "vocab_size = total_cnt-rare_cnt\n",
    "print(vocab_size)"
   ]
  },
  {
   "cell_type": "code",
   "execution_count": 55,
   "id": "3872396c",
   "metadata": {
    "ExecuteTime": {
     "end_time": "2022-06-10T00:04:57.691708Z",
     "start_time": "2022-06-10T00:04:57.677718Z"
    }
   },
   "outputs": [],
   "source": [
    "tokenizer = Tokenizer(vocab_size, oov_token='OOV')"
   ]
  },
  {
   "cell_type": "code",
   "execution_count": 56,
   "id": "8c171809",
   "metadata": {
    "ExecuteTime": {
     "end_time": "2022-06-10T00:04:57.706640Z",
     "start_time": "2022-06-10T00:04:57.692677Z"
    }
   },
   "outputs": [
    {
     "data": {
      "text/plain": [
       "<keras_preprocessing.text.Tokenizer at 0x27720cb1e48>"
      ]
     },
     "execution_count": 56,
     "metadata": {},
     "output_type": "execute_result"
    }
   ],
   "source": [
    "tokenizer"
   ]
  },
  {
   "cell_type": "code",
   "execution_count": 57,
   "id": "35cb1391",
   "metadata": {
    "ExecuteTime": {
     "end_time": "2022-06-10T00:04:57.721600Z",
     "start_time": "2022-06-10T00:04:57.707637Z"
    }
   },
   "outputs": [
    {
     "data": {
      "text/html": [
       "<div>\n",
       "<style scoped>\n",
       "    .dataframe tbody tr th:only-of-type {\n",
       "        vertical-align: middle;\n",
       "    }\n",
       "\n",
       "    .dataframe tbody tr th {\n",
       "        vertical-align: top;\n",
       "    }\n",
       "\n",
       "    .dataframe thead th {\n",
       "        text-align: right;\n",
       "    }\n",
       "</style>\n",
       "<table border=\"1\" class=\"dataframe\">\n",
       "  <thead>\n",
       "    <tr style=\"text-align: right;\">\n",
       "      <th></th>\n",
       "      <th>date</th>\n",
       "      <th>year</th>\n",
       "      <th>month</th>\n",
       "      <th>day</th>\n",
       "      <th>nouns_contents</th>\n",
       "      <th>label</th>\n",
       "    </tr>\n",
       "  </thead>\n",
       "  <tbody>\n",
       "    <tr>\n",
       "      <th>0</th>\n",
       "      <td>2019-10-08</td>\n",
       "      <td>2019</td>\n",
       "      <td>10</td>\n",
       "      <td>8</td>\n",
       "      <td>대 구 은행 2016년 라오스 DGB 캐피탈 자회사 DGB Lao Leasing C...</td>\n",
       "      <td>-1</td>\n",
       "    </tr>\n",
       "    <tr>\n",
       "      <th>1</th>\n",
       "      <td>2021-01-26</td>\n",
       "      <td>2021</td>\n",
       "      <td>1</td>\n",
       "      <td>26</td>\n",
       "      <td>DGB 대 구 은행 지역 아동 학습 환경 개선 을 위해 진행 하고 있다 DGB 행복...</td>\n",
       "      <td>1</td>\n",
       "    </tr>\n",
       "    <tr>\n",
       "      <th>2</th>\n",
       "      <td>2021-07-15</td>\n",
       "      <td>2021</td>\n",
       "      <td>7</td>\n",
       "      <td>15</td>\n",
       "      <td>▲ DGB 대구 은행 본점 에서 진행 되다 정보보호 실천 캠페인 에서 임성훈 대 구...</td>\n",
       "      <td>1</td>\n",
       "    </tr>\n",
       "  </tbody>\n",
       "</table>\n",
       "</div>"
      ],
      "text/plain": [
       "         date  year  month  day  \\\n",
       "0  2019-10-08  2019     10    8   \n",
       "1  2021-01-26  2021      1   26   \n",
       "2  2021-07-15  2021      7   15   \n",
       "\n",
       "                                      nouns_contents  label  \n",
       "0  대 구 은행 2016년 라오스 DGB 캐피탈 자회사 DGB Lao Leasing C...     -1  \n",
       "1  DGB 대 구 은행 지역 아동 학습 환경 개선 을 위해 진행 하고 있다 DGB 행복...      1  \n",
       "2  ▲ DGB 대구 은행 본점 에서 진행 되다 정보보호 실천 캠페인 에서 임성훈 대 구...      1  "
      ]
     },
     "execution_count": 57,
     "metadata": {},
     "output_type": "execute_result"
    }
   ],
   "source": [
    "x_train.head(3)"
   ]
  },
  {
   "cell_type": "code",
   "execution_count": 58,
   "id": "fae1e961",
   "metadata": {
    "ExecuteTime": {
     "end_time": "2022-06-10T00:04:57.736560Z",
     "start_time": "2022-06-10T00:04:57.722597Z"
    }
   },
   "outputs": [
    {
     "data": {
      "text/html": [
       "<div>\n",
       "<style scoped>\n",
       "    .dataframe tbody tr th:only-of-type {\n",
       "        vertical-align: middle;\n",
       "    }\n",
       "\n",
       "    .dataframe tbody tr th {\n",
       "        vertical-align: top;\n",
       "    }\n",
       "\n",
       "    .dataframe thead th {\n",
       "        text-align: right;\n",
       "    }\n",
       "</style>\n",
       "<table border=\"1\" class=\"dataframe\">\n",
       "  <thead>\n",
       "    <tr style=\"text-align: right;\">\n",
       "      <th></th>\n",
       "      <th>date</th>\n",
       "      <th>year</th>\n",
       "      <th>month</th>\n",
       "      <th>day</th>\n",
       "      <th>nouns_contents</th>\n",
       "      <th>label</th>\n",
       "    </tr>\n",
       "  </thead>\n",
       "  <tbody>\n",
       "    <tr>\n",
       "      <th>0</th>\n",
       "      <td>2019-06-18</td>\n",
       "      <td>2019</td>\n",
       "      <td>6</td>\n",
       "      <td>18</td>\n",
       "      <td>조인호 기자 DGB 대 구 은행 은행 장 김태오 18일 담양 달빛 무월 마을 에서 ...</td>\n",
       "      <td>1</td>\n",
       "    </tr>\n",
       "    <tr>\n",
       "      <th>1</th>\n",
       "      <td>2021-02-25</td>\n",
       "      <td>2021</td>\n",
       "      <td>2</td>\n",
       "      <td>25</td>\n",
       "      <td>DGB 대 구 은행 캄보디아 현 법인 DGB 특수은행 본사 부지 매입 과정 에서 1...</td>\n",
       "      <td>-1</td>\n",
       "    </tr>\n",
       "    <tr>\n",
       "      <th>2</th>\n",
       "      <td>2021-01-18</td>\n",
       "      <td>2021</td>\n",
       "      <td>1</td>\n",
       "      <td>18</td>\n",
       "      <td>DGB 대 구 은행 설 연휴 앞두다 5000억원 규모 설날 특별 자금 대출 을 다음...</td>\n",
       "      <td>1</td>\n",
       "    </tr>\n",
       "  </tbody>\n",
       "</table>\n",
       "</div>"
      ],
      "text/plain": [
       "         date  year  month  day  \\\n",
       "0  2019-06-18  2019      6   18   \n",
       "1  2021-02-25  2021      2   25   \n",
       "2  2021-01-18  2021      1   18   \n",
       "\n",
       "                                      nouns_contents  label  \n",
       "0  조인호 기자 DGB 대 구 은행 은행 장 김태오 18일 담양 달빛 무월 마을 에서 ...      1  \n",
       "1  DGB 대 구 은행 캄보디아 현 법인 DGB 특수은행 본사 부지 매입 과정 에서 1...     -1  \n",
       "2  DGB 대 구 은행 설 연휴 앞두다 5000억원 규모 설날 특별 자금 대출 을 다음...      1  "
      ]
     },
     "execution_count": 58,
     "metadata": {},
     "output_type": "execute_result"
    }
   ],
   "source": [
    "x_test.head(3)"
   ]
  },
  {
   "cell_type": "code",
   "execution_count": 59,
   "id": "6c867186",
   "metadata": {
    "ExecuteTime": {
     "end_time": "2022-06-10T00:04:57.826350Z",
     "start_time": "2022-06-10T00:04:57.737558Z"
    }
   },
   "outputs": [],
   "source": [
    "x_train.to_csv('./Data_Set/X_train.csv')\n",
    "x_test.to_csv('./Data_Set/X_test.csv')"
   ]
  },
  {
   "cell_type": "markdown",
   "id": "ba2f92dd",
   "metadata": {},
   "source": [
    "# 모델링\n",
    "\n",
    "- 성능 높이기 + 시각화 해서 파일로 만들기\n",
    "\n",
    "**https://sieon-dev.tistory.com/15**"
   ]
  },
  {
   "cell_type": "markdown",
   "id": "fdeaf17c",
   "metadata": {},
   "source": [
    "## GPU 체크\n",
    "- NVIDIA GeForce RTX 2070 SUPER : 2개 (GPU index number : 0, 1)\n",
    "- CPU :1 개 ( CPU index number : 0)"
   ]
  },
  {
   "cell_type": "code",
   "execution_count": 60,
   "id": "9f76019a",
   "metadata": {
    "ExecuteTime": {
     "end_time": "2022-06-10T00:04:58.679039Z",
     "start_time": "2022-06-10T00:04:57.827317Z"
    }
   },
   "outputs": [
    {
     "name": "stdout",
     "output_type": "stream",
     "text": [
      "2 Physical GPUs, 2 Logical GPUs\n"
     ]
    }
   ],
   "source": [
    "import tensorflow as tf\n",
    "gpus = tf.config.experimental.list_physical_devices('GPU')\n",
    "if gpus:\n",
    "    try:\n",
    "        # Currently, memory growth needs to be the same across GPUs\n",
    "        for gpu in gpus:\n",
    "            tf.config.experimental.set_memory_growth(gpu, True)\n",
    "        logical_gpus = tf.config.experimental.list_logical_devices('GPU')\n",
    "        print(len(gpus), \"Physical GPUs,\", len(logical_gpus), \"Logical GPUs\")\n",
    "    except RuntimeError as e:\n",
    "        # Memory growth must be set before GPUs have been initialized\n",
    "        print(e)"
   ]
  },
  {
   "cell_type": "code",
   "execution_count": 61,
   "id": "c458744d",
   "metadata": {
    "ExecuteTime": {
     "end_time": "2022-06-10T00:04:58.693999Z",
     "start_time": "2022-06-10T00:04:58.680036Z"
    }
   },
   "outputs": [
    {
     "name": "stdout",
     "output_type": "stream",
     "text": [
      "Num GPUs Available:  2\n"
     ]
    }
   ],
   "source": [
    "print(\"Num GPUs Available: \", len(tf.config.list_physical_devices('GPU')))"
   ]
  },
  {
   "cell_type": "code",
   "execution_count": 62,
   "id": "4e306ecb",
   "metadata": {
    "ExecuteTime": {
     "end_time": "2022-06-10T00:04:58.708959Z",
     "start_time": "2022-06-10T00:04:58.694995Z"
    }
   },
   "outputs": [],
   "source": [
    "%matplotlib inline\n",
    "# Function call stack:\n",
    "# train_function -> train_function -> train_function\n",
    "# 해당 줄로 오류 해결\n",
    "# 참고 : https://www.freesion.com/article/71721347190/\n",
    "tf.compat.v1.disable_eager_execution()"
   ]
  },
  {
   "cell_type": "markdown",
   "id": "a2fad17e",
   "metadata": {},
   "source": [
    "## 데이터셋 확인"
   ]
  },
  {
   "cell_type": "code",
   "execution_count": 63,
   "id": "c689f806",
   "metadata": {
    "ExecuteTime": {
     "end_time": "2022-06-10T00:04:58.723919Z",
     "start_time": "2022-06-10T00:04:58.709957Z"
    }
   },
   "outputs": [],
   "source": [
    "from keras import models\n",
    "from tensorflow.python.client import device_lib\n",
    "from tensorflow.keras.layers import BatchNormalization, Embedding, Dense, GRU, Dropout, Input, LSTM, Activation, Bidirectional, Conv1D, MaxPooling1D, GlobalMaxPooling1D, Flatten, SpatialDropout1D, TimeDistributed, Flatten\n",
    "from tensorflow.keras.models import Sequential, Model\n",
    "from tensorflow.keras.models import load_model"
   ]
  },
  {
   "cell_type": "code",
   "execution_count": 64,
   "id": "6cc9b3cc",
   "metadata": {
    "ExecuteTime": {
     "end_time": "2022-06-10T00:04:58.738878Z",
     "start_time": "2022-06-10T00:04:58.724917Z"
    }
   },
   "outputs": [
    {
     "name": "stdout",
     "output_type": "stream",
     "text": [
      "X_train : (10606, 60)\n",
      "X_test : (4546, 60)\n",
      "y_train : (10606, 2)\n",
      "X_test : (4546, 2)\n"
     ]
    }
   ],
   "source": [
    "print('X_train :', X_train.shape)\n",
    "print('X_test :', X_test.shape)\n",
    "print('y_train :', y_train.shape)\n",
    "print('X_test :', y_test.shape)"
   ]
  },
  {
   "cell_type": "markdown",
   "id": "4a5e88a0",
   "metadata": {},
   "source": [
    "## 옵티마이저 튜닝\n",
    "\n",
    "- optimizers 정의 및 튜닝 ( Adam, SGD, RMSprop)\n",
    "- 하이퍼 파라미터 튜닝\n",
    "\n",
    "**val_loss 감소시키는 방법 : https://lsjsj92.tistory.com/353**"
   ]
  },
  {
   "cell_type": "code",
   "execution_count": 65,
   "id": "b024fa27",
   "metadata": {
    "ExecuteTime": {
     "end_time": "2022-06-10T00:04:58.753838Z",
     "start_time": "2022-06-10T00:04:58.739877Z"
    }
   },
   "outputs": [],
   "source": [
    "from tensorflow.keras.optimizers import Adam, SGD, RMSprop\n",
    "from tensorflow.keras.callbacks import EarlyStopping, ModelCheckpoint\n",
    "\n",
    "adam = Adam(learning_rate=0.001, beta_1=0.9, beta_2=0.999, decay=0.0001, clipnorm=1., epsilon=None, amsgrad=False)\n",
    "\n",
    "sgd = SGD(learning_rate=0.01, momentum=0.9, decay=0.0001, nesterov=False)\n",
    "\n",
    "rmsprop = RMSprop(learning_rate=0.001, rho=0.9, decay=0.0001, epsilon=None)"
   ]
  },
  {
   "cell_type": "markdown",
   "id": "0070af43",
   "metadata": {},
   "source": [
    "## 모델 구축 및 데이터 학습\n",
    "\n",
    "- val_accuracy도 점점 떨어지고 있는 것으로 봐서 네트워크가 과적합되는 것으로 보입니다. 과적합의 이유는 임베딩 레이어를 랜덤한 값에서부터 시작해서 학습시키기 때문에 각 단어를 나타내는 벡터의 품질\n",
    "\n",
    "**모델 샘플 : https://www.kaggle.com/code/nafisur/keras-models-lstm-cnn-gru-bidirectional-glove/notebook**\n",
    "<br><br>\n",
    "**성능 개선 : https://wikidocs.net/142041**\n",
    "<br><br>\n",
    "**loss 함수 설명 : https://velog.io/@rcchun/%EB%A8%B8%EC%8B%A0%EB%9F%AC%EB%8B%9D-%EC%86%90%EC%8B%A4%ED%95%A8%EC%88%98%EC%9D%98-%EC%A2%85%EB%A5%98#msemean-squared-error**\n",
    "<br><br>\n",
    "**LSTM / RNN / GRU 개념 : https://velog.io/@dong970827/RNN-LSTM-GRU-%EA%B0%9C%EB%85%90**\n",
    "\n",
    "- 과적합 뜨는 이유\n",
    "- 1. 긍정 80% / 부정 5% / 중립 15% (총 331개 Test Data) 데이터 갯수와 비율 때문이라고 판단.\n",
    "- 2. 학습진행시 전체데이터에서 부정갯수가 가장 작은 편이므로, 긍정데이터에 대해서는 과적합"
   ]
  },
  {
   "cell_type": "markdown",
   "id": "c9d7e278",
   "metadata": {},
   "source": [
    "### LSTM ( 73 ~ 77% / 요약본 / 오차 작음)"
   ]
  },
  {
   "cell_type": "code",
   "execution_count": 66,
   "id": "bb29a0fd",
   "metadata": {
    "ExecuteTime": {
     "end_time": "2022-06-10T00:04:58.948318Z",
     "start_time": "2022-06-10T00:04:58.754836Z"
    }
   },
   "outputs": [
    {
     "name": "stdout",
     "output_type": "stream",
     "text": [
      "WARNING:tensorflow:Layer lstm will not use cuDNN kernels since it doesn't meet the criteria. It will use a generic GPU kernel as fallback when running on GPU.\n",
      "Model: \"sequential_1\"\n",
      "_________________________________________________________________\n",
      "Layer (type)                 Output Shape              Param #   \n",
      "=================================================================\n",
      "embedding (Embedding)        (None, 60, 100)           1286200   \n",
      "_________________________________________________________________\n",
      "lstm (LSTM)                  (None, 128)               117248    \n",
      "_________________________________________________________________\n",
      "dense (Dense)                (None, 2)                 258       \n",
      "=================================================================\n",
      "Total params: 1,403,706\n",
      "Trainable params: 1,403,706\n",
      "Non-trainable params: 0\n",
      "_________________________________________________________________\n"
     ]
    }
   ],
   "source": [
    "# 하이퍼파라미터 : rmsprop / binary_crossentropy / 50 / 256 / 0.2\n",
    "model_01 = Sequential()\n",
    "\n",
    "model_01 = Sequential() # tensorflow.keras.models\n",
    "model_01.add(Embedding(total_cnt, 100, input_length=max_len))\n",
    "model_01.add(LSTM(128))\n",
    "model_01.add(Dense(2, activation='sigmoid'))\n",
    "model_01.summary()"
   ]
  },
  {
   "cell_type": "markdown",
   "id": "ab1f6541",
   "metadata": {},
   "source": [
    "### LSTM 2 Layer + Dropout (64 ~ 66 % / 요약본 / 오차 큼)"
   ]
  },
  {
   "cell_type": "code",
   "execution_count": 67,
   "id": "bdf89589",
   "metadata": {
    "ExecuteTime": {
     "end_time": "2022-06-10T00:05:00.145144Z",
     "start_time": "2022-06-10T00:04:58.949316Z"
    }
   },
   "outputs": [
    {
     "name": "stdout",
     "output_type": "stream",
     "text": [
      "WARNING:tensorflow:Layer lstm_1 will not use cuDNN kernels since it doesn't meet the criteria. It will use a generic GPU kernel as fallback when running on GPU.\n",
      "WARNING:tensorflow:Layer lstm_2 will not use cuDNN kernels since it doesn't meet the criteria. It will use a generic GPU kernel as fallback when running on GPU.\n",
      "Model: \"sequential_2\"\n",
      "_________________________________________________________________\n",
      "Layer (type)                 Output Shape              Param #   \n",
      "=================================================================\n",
      "embedding_1 (Embedding)      (None, None, 100)         1286200   \n",
      "_________________________________________________________________\n",
      "lstm_1 (LSTM)                (None, None, 64)          42240     \n",
      "_________________________________________________________________\n",
      "lstm_2 (LSTM)                (None, 32)                12416     \n",
      "_________________________________________________________________\n",
      "dense_1 (Dense)              (None, 2)                 66        \n",
      "=================================================================\n",
      "Total params: 1,340,922\n",
      "Trainable params: 1,340,922\n",
      "Non-trainable params: 0\n",
      "_________________________________________________________________\n"
     ]
    }
   ],
   "source": [
    "# 하이퍼파라미터 : adam / categorical_crossentropy / 50 / 512 / 0.2\n",
    "model_02 = Sequential()\n",
    "\n",
    "model_02.add(Embedding(total_cnt,100, mask_zero=True))\n",
    "model_02.add(LSTM(64,dropout=0.7, recurrent_dropout=0.7,return_sequences=True))\n",
    "model_02.add(LSTM(32,dropout=0.6, recurrent_dropout=0.6,return_sequences=False))\n",
    "model_02.add(Dense(2, activation='sigmoid'))\n",
    "model_02.summary()"
   ]
  },
  {
   "cell_type": "markdown",
   "id": "f83b5d01",
   "metadata": {},
   "source": [
    "### CNN + Dropout + LSTM ( 77 ~ 79 % / 요약본 / 오차 큼)"
   ]
  },
  {
   "cell_type": "code",
   "execution_count": 68,
   "id": "1938613d",
   "metadata": {
    "ExecuteTime": {
     "end_time": "2022-06-10T00:05:01.267116Z",
     "start_time": "2022-06-10T00:05:00.151100Z"
    }
   },
   "outputs": [
    {
     "name": "stdout",
     "output_type": "stream",
     "text": [
      "WARNING:tensorflow:Layer lstm_3 will not use cuDNN kernels since it doesn't meet the criteria. It will use a generic GPU kernel as fallback when running on GPU.\n",
      "WARNING:tensorflow:Layer lstm_3 will not use cuDNN kernels since it doesn't meet the criteria. It will use a generic GPU kernel as fallback when running on GPU.\n",
      "WARNING:tensorflow:Layer lstm_3 will not use cuDNN kernels since it doesn't meet the criteria. It will use a generic GPU kernel as fallback when running on GPU.\n",
      "WARNING:tensorflow:From C:\\Users\\DGBDS\\AppData\\Roaming\\Python\\Python36\\site-packages\\keras\\layers\\normalization\\batch_normalization.py:520: _colocate_with (from tensorflow.python.framework.ops) is deprecated and will be removed in a future version.\n",
      "Instructions for updating:\n",
      "Colocations handled automatically by placer.\n",
      "Model: \"sequential_3\"\n",
      "_________________________________________________________________\n",
      "Layer (type)                 Output Shape              Param #   \n",
      "=================================================================\n",
      "embedding_2 (Embedding)      (None, 60, 100)           1286200   \n",
      "_________________________________________________________________\n",
      "conv1d (Conv1D)              (None, 60, 128)           38528     \n",
      "_________________________________________________________________\n",
      "bidirectional (Bidirectional (None, 60, 128)           98816     \n",
      "_________________________________________________________________\n",
      "global_max_pooling1d (Global (None, 128)               0         \n",
      "_________________________________________________________________\n",
      "batch_normalization (BatchNo (None, 128)               512       \n",
      "_________________________________________________________________\n",
      "dense_2 (Dense)              (None, 64)                8256      \n",
      "_________________________________________________________________\n",
      "dense_3 (Dense)              (None, 2)                 130       \n",
      "=================================================================\n",
      "Total params: 1,432,442\n",
      "Trainable params: 1,432,186\n",
      "Non-trainable params: 256\n",
      "_________________________________________________________________\n"
     ]
    }
   ],
   "source": [
    "# 하이퍼파라미터 : adam / categorical_crossentropy / 100 / 128 / 0.2\n",
    "model_03= Sequential()\n",
    "\n",
    "model_03.add(Embedding(total_cnt, 100, input_length=max_len))\n",
    "model_03.add(Conv1D(128, kernel_size=3, padding='same', activation='relu', strides=1))\n",
    "model_03.add(Bidirectional(LSTM(64, dropout= 0.6, recurrent_dropout=0.6, return_sequences=True)))\n",
    "model_03.add(GlobalMaxPooling1D())\n",
    "model_03.add(BatchNormalization())\n",
    "\n",
    "# model_03.add(Dropout(0.8))\n",
    "# model_03.add(Dense(256, activation='relu'))\n",
    "# model_03.add(Conv1D(128, kernel_size=3, padding='same', activation='relu', strides=1))\n",
    "# model_03.add(Bidirectional(LSTM(128, dropout= 0.6, recurrent_dropout=0.6, return_sequences=True)))\n",
    "# model_03.add(GlobalMaxPooling1D())\n",
    "# model_03.add(BatchNormalization())\n",
    "# model_03.add(Dropout(0.8))\n",
    "\n",
    "model_03.add(Dense(64, activation='relu'))\n",
    "model_03.add(Dense(2, activation='sigmoid'))\n",
    "model_03.summary()"
   ]
  },
  {
   "cell_type": "markdown",
   "id": "92ced4a2",
   "metadata": {},
   "source": [
    "### Bi GRU + Dropout ( 75 ~ 77% / 요약본 / 오차 매우 작음)"
   ]
  },
  {
   "cell_type": "code",
   "execution_count": 69,
   "id": "2b3c69b4",
   "metadata": {
    "ExecuteTime": {
     "end_time": "2022-06-10T00:05:01.596267Z",
     "start_time": "2022-06-10T00:05:01.269109Z"
    }
   },
   "outputs": [
    {
     "name": "stdout",
     "output_type": "stream",
     "text": [
      "WARNING:tensorflow:Layer gru will not use cuDNN kernels since it doesn't meet the criteria. It will use a generic GPU kernel as fallback when running on GPU.\n",
      "WARNING:tensorflow:Layer gru will not use cuDNN kernels since it doesn't meet the criteria. It will use a generic GPU kernel as fallback when running on GPU.\n",
      "WARNING:tensorflow:Layer gru will not use cuDNN kernels since it doesn't meet the criteria. It will use a generic GPU kernel as fallback when running on GPU.\n",
      "Model: \"sequential_4\"\n",
      "_________________________________________________________________\n",
      "Layer (type)                 Output Shape              Param #   \n",
      "=================================================================\n",
      "embedding_3 (Embedding)      (None, 60, 100)           1286200   \n",
      "_________________________________________________________________\n",
      "spatial_dropout1d (SpatialDr (None, 60, 100)           0         \n",
      "_________________________________________________________________\n",
      "bidirectional_1 (Bidirection (None, 256)               176640    \n",
      "_________________________________________________________________\n",
      "dropout (Dropout)            (None, 256)               0         \n",
      "_________________________________________________________________\n",
      "dense_4 (Dense)              (None, 2)                 514       \n",
      "=================================================================\n",
      "Total params: 1,463,354\n",
      "Trainable params: 1,463,354\n",
      "Non-trainable params: 0\n",
      "_________________________________________________________________\n"
     ]
    }
   ],
   "source": [
    "model_04 = Sequential()\n",
    "\n",
    "model_04.add(Embedding(total_cnt, 100, input_length=max_len))\n",
    "model_04.add(SpatialDropout1D(0.25))\n",
    "model_04.add(Bidirectional(GRU(128)))\n",
    "model_04.add(Dropout(0.5))\n",
    "\n",
    "model_04.add(Dense(2, activation='sigmoid'))\n",
    "model_04.summary()"
   ]
  },
  {
   "cell_type": "markdown",
   "id": "bb43ce6e",
   "metadata": {},
   "source": [
    "### Bi LSTM (  )"
   ]
  },
  {
   "cell_type": "code",
   "execution_count": 70,
   "id": "f6ee252d",
   "metadata": {
    "ExecuteTime": {
     "end_time": "2022-06-10T00:05:02.927701Z",
     "start_time": "2022-06-10T00:05:01.598230Z"
    }
   },
   "outputs": [
    {
     "name": "stdout",
     "output_type": "stream",
     "text": [
      "WARNING:tensorflow:Layer lstm_4 will not use cuDNN kernels since it doesn't meet the criteria. It will use a generic GPU kernel as fallback when running on GPU.\n",
      "WARNING:tensorflow:Layer lstm_4 will not use cuDNN kernels since it doesn't meet the criteria. It will use a generic GPU kernel as fallback when running on GPU.\n",
      "WARNING:tensorflow:Layer lstm_4 will not use cuDNN kernels since it doesn't meet the criteria. It will use a generic GPU kernel as fallback when running on GPU.\n",
      "WARNING:tensorflow:Layer gru_1 will not use cuDNN kernels since it doesn't meet the criteria. It will use a generic GPU kernel as fallback when running on GPU.\n",
      "Model: \"sequential_5\"\n",
      "_________________________________________________________________\n",
      "Layer (type)                 Output Shape              Param #   \n",
      "=================================================================\n",
      "embedding_4 (Embedding)      (None, 60, 100)           1286200   \n",
      "_________________________________________________________________\n",
      "bidirectional_2 (Bidirection (None, 60, 256)           234496    \n",
      "_________________________________________________________________\n",
      "gru_1 (GRU)                  (None, 64)                61824     \n",
      "_________________________________________________________________\n",
      "dense_5 (Dense)              (None, 64)                4160      \n",
      "_________________________________________________________________\n",
      "dropout_1 (Dropout)          (None, 64)                0         \n",
      "_________________________________________________________________\n",
      "dense_6 (Dense)              (None, 2)                 130       \n",
      "=================================================================\n",
      "Total params: 1,586,810\n",
      "Trainable params: 1,586,810\n",
      "Non-trainable params: 0\n",
      "_________________________________________________________________\n"
     ]
    }
   ],
   "source": [
    "model_05 = Sequential()\n",
    "\n",
    "model_05.add(Embedding(total_cnt, 100, input_length=max_len))\n",
    "model_05.add(Bidirectional(LSTM(128, dropout= 0.5, recurrent_dropout=0.5, return_sequences=True)))\n",
    "\n",
    "# model_05.add(Bidirectional(LSTM(128, dropout= 0.7, recurrent_dropout=0.7)))\n",
    "model_05.add(GRU(64))\n",
    "model_05.add(Dense(64, activation='relu'))\n",
    "model_05.add(Dropout(0.2))\n",
    "model_05.add(Dense(2, activation='sigmoid'))\n",
    "model_05.summary()"
   ]
  },
  {
   "cell_type": "code",
   "execution_count": 71,
   "id": "4f5e1654",
   "metadata": {
    "ExecuteTime": {
     "end_time": "2022-06-10T00:05:02.942632Z",
     "start_time": "2022-06-10T00:05:02.928669Z"
    }
   },
   "outputs": [],
   "source": [
    "def learning(model):\n",
    "    es = EarlyStopping(monitor='val_loss', mode='min', verbose=1, patience=30)\n",
    "    mc = ModelCheckpoint('bilstm.h5', monitor='val_acc', mode='max', verbose=1, save_best_only=True)\n",
    "\n",
    "    # categorical_crossentropy / binary_crossentropy / mse / sparse_categorical_crossentropy\n",
    "    # softmax / sigmoid\n",
    "    model.compile(optimizer=adam, loss='binary_crossentropy', metrics=['accuracy'])# 0.002 학습률\n",
    "    history = model.fit(X_train, y_train, epochs=30, callbacks=[es, mc], batch_size=1024, validation_split=0.3)\n",
    "    return history"
   ]
  },
  {
   "cell_type": "markdown",
   "id": "97759b61",
   "metadata": {},
   "source": [
    "## 모델 성능 평가 및 저장\n",
    "\n",
    "- 과적합 : https://stackoverflow.com/questions/50615396/validation-loss-increasing\n",
    "- https://stackoverflow.com/questions/61342448/train-accuracy-increases-train-loss-is-stable-validation-loss-increases-valid"
   ]
  },
  {
   "cell_type": "code",
   "execution_count": null,
   "id": "0f99eda8",
   "metadata": {
    "ExecuteTime": {
     "end_time": "2022-06-10T00:05:03.452270Z",
     "start_time": "2022-06-10T00:04:47.192Z"
    }
   },
   "outputs": [],
   "source": [
    "# model_num = model_05\n",
    "# history = learning(model_num)"
   ]
  },
  {
   "cell_type": "code",
   "execution_count": null,
   "id": "7953a9b1",
   "metadata": {
    "ExecuteTime": {
     "end_time": "2022-06-10T00:05:03.453267Z",
     "start_time": "2022-06-10T00:04:47.194Z"
    },
    "scrolled": true
   },
   "outputs": [],
   "source": [
    "# print('예측률 : {:.2f}%'.format(model_num.evaluate(X_test, y_test)[1] * 100))"
   ]
  },
  {
   "cell_type": "code",
   "execution_count": null,
   "id": "f48b0b93",
   "metadata": {
    "ExecuteTime": {
     "end_time": "2022-06-10T00:05:03.454264Z",
     "start_time": "2022-06-10T00:04:47.197Z"
    }
   },
   "outputs": [],
   "source": [
    "# 모델 저장\n",
    "model_num.save('./Model_Evaluation/Multiclass_model_01.h5')"
   ]
  },
  {
   "cell_type": "code",
   "execution_count": null,
   "id": "ddaad07c",
   "metadata": {
    "ExecuteTime": {
     "end_time": "2022-06-10T00:05:03.454264Z",
     "start_time": "2022-06-10T00:04:47.199Z"
    }
   },
   "outputs": [],
   "source": [
    "# from keras.models import load_model\n",
    "# loaded_model = load_model('./HyperParameter_ModelLayer/LSTM_Sigmoid.h5')\n",
    "# print(\"\\n 테스트 정확도 : {:.2f}%%\".format(loaded_model.evaluate(X_test, y_test)[1] * 100))"
   ]
  },
  {
   "cell_type": "markdown",
   "id": "5ee2498d",
   "metadata": {},
   "source": [
    "## 데이터 학습 시각화\n",
    "\n",
    "- 오버피팅 : https://untitledtblog.tistory.com/158"
   ]
  },
  {
   "cell_type": "code",
   "execution_count": null,
   "id": "39807ffa",
   "metadata": {
    "ExecuteTime": {
     "end_time": "2022-06-10T00:05:03.455261Z",
     "start_time": "2022-06-10T00:04:47.202Z"
    }
   },
   "outputs": [],
   "source": [
    "# hist_dict = history.history\n",
    "# loss = hist_dict['loss']\n",
    "# val_loss = hist_dict['val_loss']\n",
    "# acc = hist_dict['accuracy']\n",
    "# val_acc = hist_dict['val_accuracy']\n",
    "                \n",
    "# plt.plot(loss, 'b--', label = 'training loss')\n",
    "# plt.plot(val_loss, 'r:', label = 'validation loss')\n",
    "# plt.legend()\n",
    "# plt.grid()\n",
    "\n",
    "# plt.figure()\n",
    "# plt.plot(acc, 'b--', label='training accuracy')\n",
    "# plt.plot(val_acc, 'r:', label='validation accuracy')\n",
    "# plt.legend()\n",
    "# plt.grid()"
   ]
  },
  {
   "cell_type": "code",
   "execution_count": null,
   "id": "2eb93566",
   "metadata": {
    "ExecuteTime": {
     "end_time": "2022-06-10T00:05:03.456259Z",
     "start_time": "2022-06-10T00:04:47.203Z"
    }
   },
   "outputs": [],
   "source": [
    "# predict = model_num.predict(X_test)"
   ]
  },
  {
   "cell_type": "code",
   "execution_count": null,
   "id": "eec7c7ab",
   "metadata": {
    "ExecuteTime": {
     "end_time": "2022-06-10T00:05:03.456259Z",
     "start_time": "2022-06-10T00:04:47.205Z"
    }
   },
   "outputs": [],
   "source": [
    "# predict_labels = np.argmax(predict, axis = 1)\n",
    "# original_labels = np.argmax(y_test, axis = 1)"
   ]
  },
  {
   "cell_type": "markdown",
   "id": "d5c51e38",
   "metadata": {},
   "source": [
    "# 그래프 시각화\n",
    "<br>\n",
    "\n",
    "**언론사별 / 월별 / 주중별기사 수량 확인**\n",
    "**아직 제대로 진행 안됨...**"
   ]
  },
  {
   "cell_type": "markdown",
   "id": "cb1daff9",
   "metadata": {},
   "source": [
    "## 저장된 모델 불러오기 ( 이진 분류 )"
   ]
  },
  {
   "cell_type": "code",
   "execution_count": 73,
   "id": "6524961d",
   "metadata": {
    "ExecuteTime": {
     "end_time": "2022-06-10T00:05:46.029871Z",
     "start_time": "2022-06-10T00:05:15.448683Z"
    },
    "scrolled": false
   },
   "outputs": [
    {
     "name": "stdout",
     "output_type": "stream",
     "text": [
      "WARNING:tensorflow:Layer lstm_4 will not use cuDNN kernels since it doesn't meet the criteria. It will use a generic GPU kernel as fallback when running on GPU.\n",
      "WARNING:tensorflow:Layer lstm_4 will not use cuDNN kernels since it doesn't meet the criteria. It will use a generic GPU kernel as fallback when running on GPU.\n",
      "WARNING:tensorflow:Layer lstm_4 will not use cuDNN kernels since it doesn't meet the criteria. It will use a generic GPU kernel as fallback when running on GPU.\n",
      "WARNING:tensorflow:Layer gru_1 will not use cuDNN kernels since it doesn't meet the criteria. It will use a generic GPU kernel as fallback when running on GPU.\n"
     ]
    },
    {
     "name": "stderr",
     "output_type": "stream",
     "text": [
      "C:\\Users\\DGBDS\\AppData\\Roaming\\Python\\Python36\\site-packages\\keras\\engine\\training.py:2470: UserWarning: `Model.state_updates` will be removed in a future version. This property should not be used in TensorFlow 2.0, as `updates` are applied automatically.\n",
      "  warnings.warn('`Model.state_updates` will be removed in a future version. '\n"
     ]
    },
    {
     "name": "stdout",
     "output_type": "stream",
     "text": [
      "예측률 : 86.44%\n"
     ]
    }
   ],
   "source": [
    "from keras.models import load_model\n",
    "\n",
    "model_num = load_model('./Model_Evaluation/Binary_model_05_(85.21%).h5')\n",
    "print('예측률 : {:.2f}%'.format(model_num.evaluate(X_test, y_test)[1] * 100))"
   ]
  },
  {
   "cell_type": "code",
   "execution_count": 74,
   "id": "a6eb6736",
   "metadata": {
    "ExecuteTime": {
     "end_time": "2022-06-10T00:06:11.941694Z",
     "start_time": "2022-06-10T00:05:48.967146Z"
    }
   },
   "outputs": [],
   "source": [
    "predict = model_num.predict(X_test)\n",
    "predict_labels = np.argmax(predict, axis = 1)\n",
    "original_labels = np.argmax(y_test, axis = 1)"
   ]
  },
  {
   "cell_type": "markdown",
   "id": "b1e82455",
   "metadata": {},
   "source": [
    "## 모델이 예측한 긍정 / 부정 / 중립 시각화\n",
    "\n",
    "- X_test 데이터에 대한 y_test 데이터로 평가한 결과 시각화\n",
    "- 시각화 전용 : df_df_Visualization 생성"
   ]
  },
  {
   "cell_type": "code",
   "execution_count": 75,
   "id": "c36b7243",
   "metadata": {
    "ExecuteTime": {
     "end_time": "2022-06-10T00:06:13.273132Z",
     "start_time": "2022-06-10T00:06:13.264184Z"
    }
   },
   "outputs": [],
   "source": [
    "y_train = pd.get_dummies(x_train['label']).to_numpy()\n",
    "y_test = pd.get_dummies(x_test['label']).to_numpy()"
   ]
  },
  {
   "cell_type": "code",
   "execution_count": 76,
   "id": "5a4c8ab9",
   "metadata": {
    "ExecuteTime": {
     "end_time": "2022-06-10T00:06:13.811691Z",
     "start_time": "2022-06-10T00:06:13.800721Z"
    }
   },
   "outputs": [],
   "source": [
    "def change_idx(labels):\n",
    "    value_tmp = list()\n",
    "    for i in labels:\n",
    "        if i == 0:\n",
    "            value_tmp.append('부정')\n",
    "        if i == 1:\n",
    "            value_tmp.append('긍정')\n",
    "    # idx_tmp = list(set(value_tmp))\n",
    "    return value_tmp # , idx_tmp"
   ]
  },
  {
   "cell_type": "code",
   "execution_count": 77,
   "id": "6c9bea63",
   "metadata": {
    "ExecuteTime": {
     "end_time": "2022-06-10T00:06:14.215611Z",
     "start_time": "2022-06-10T00:06:14.200652Z"
    }
   },
   "outputs": [],
   "source": [
    "r_value_tmp = change_idx(original_labels)\n",
    "\n",
    "ori_view = pd.Series(data = r_value_tmp)\n",
    "ori_view.sort_index(ascending=True, inplace=True)\n",
    "\n",
    "x = list(ori_view.keys())\n",
    "y = ori_view.values"
   ]
  },
  {
   "cell_type": "code",
   "execution_count": 78,
   "id": "3a5448a4",
   "metadata": {
    "ExecuteTime": {
     "end_time": "2022-06-10T00:06:14.664411Z",
     "start_time": "2022-06-10T00:06:14.648454Z"
    }
   },
   "outputs": [],
   "source": [
    "p_value_tmp= change_idx(predict_labels)\n",
    "\n",
    "pre_view = pd.Series(data = p_value_tmp)\n",
    "pre_view.sort_index(ascending=True, inplace=True)\n",
    "\n",
    "w = list(pre_view.keys())\n",
    "z = pre_view.values"
   ]
  },
  {
   "cell_type": "code",
   "execution_count": 79,
   "id": "2ac5c68f",
   "metadata": {
    "ExecuteTime": {
     "end_time": "2022-06-10T00:06:15.217957Z",
     "start_time": "2022-06-10T00:06:15.200006Z"
    }
   },
   "outputs": [],
   "source": [
    "df_Visualization = pd.DataFrame({'raw_label' : [0],\n",
    "              'predict_label' : [0]}, index = range(len(predict_labels)))"
   ]
  },
  {
   "cell_type": "code",
   "execution_count": 80,
   "id": "70d4d6b4",
   "metadata": {
    "ExecuteTime": {
     "end_time": "2022-06-10T00:06:15.606937Z",
     "start_time": "2022-06-10T00:06:15.591978Z"
    }
   },
   "outputs": [
    {
     "data": {
      "text/html": [
       "<div>\n",
       "<style scoped>\n",
       "    .dataframe tbody tr th:only-of-type {\n",
       "        vertical-align: middle;\n",
       "    }\n",
       "\n",
       "    .dataframe tbody tr th {\n",
       "        vertical-align: top;\n",
       "    }\n",
       "\n",
       "    .dataframe thead th {\n",
       "        text-align: right;\n",
       "    }\n",
       "</style>\n",
       "<table border=\"1\" class=\"dataframe\">\n",
       "  <thead>\n",
       "    <tr style=\"text-align: right;\">\n",
       "      <th></th>\n",
       "      <th>date</th>\n",
       "      <th>year</th>\n",
       "      <th>month</th>\n",
       "      <th>day</th>\n",
       "      <th>nouns_contents</th>\n",
       "      <th>label</th>\n",
       "    </tr>\n",
       "  </thead>\n",
       "  <tbody>\n",
       "    <tr>\n",
       "      <th>0</th>\n",
       "      <td>2019-06-18</td>\n",
       "      <td>2019</td>\n",
       "      <td>6</td>\n",
       "      <td>18</td>\n",
       "      <td>조인호 기자 DGB 대 구 은행 은행 장 김태오 18일 담양 달빛 무월 마을 에서 ...</td>\n",
       "      <td>1</td>\n",
       "    </tr>\n",
       "    <tr>\n",
       "      <th>1</th>\n",
       "      <td>2021-02-25</td>\n",
       "      <td>2021</td>\n",
       "      <td>2</td>\n",
       "      <td>25</td>\n",
       "      <td>DGB 대 구 은행 캄보디아 현 법인 DGB 특수은행 본사 부지 매입 과정 에서 1...</td>\n",
       "      <td>-1</td>\n",
       "    </tr>\n",
       "    <tr>\n",
       "      <th>2</th>\n",
       "      <td>2021-01-18</td>\n",
       "      <td>2021</td>\n",
       "      <td>1</td>\n",
       "      <td>18</td>\n",
       "      <td>DGB 대 구 은행 설 연휴 앞두다 5000억원 규모 설날 특별 자금 대출 을 다음...</td>\n",
       "      <td>1</td>\n",
       "    </tr>\n",
       "  </tbody>\n",
       "</table>\n",
       "</div>"
      ],
      "text/plain": [
       "         date  year  month  day  \\\n",
       "0  2019-06-18  2019      6   18   \n",
       "1  2021-02-25  2021      2   25   \n",
       "2  2021-01-18  2021      1   18   \n",
       "\n",
       "                                      nouns_contents  label  \n",
       "0  조인호 기자 DGB 대 구 은행 은행 장 김태오 18일 담양 달빛 무월 마을 에서 ...      1  \n",
       "1  DGB 대 구 은행 캄보디아 현 법인 DGB 특수은행 본사 부지 매입 과정 에서 1...     -1  \n",
       "2  DGB 대 구 은행 설 연휴 앞두다 5000억원 규모 설날 특별 자금 대출 을 다음...      1  "
      ]
     },
     "execution_count": 80,
     "metadata": {},
     "output_type": "execute_result"
    }
   ],
   "source": [
    "x_test.head(3)"
   ]
  },
  {
   "cell_type": "code",
   "execution_count": 81,
   "id": "5bb02b1c",
   "metadata": {
    "ExecuteTime": {
     "end_time": "2022-06-10T00:06:15.980937Z",
     "start_time": "2022-06-10T00:06:15.968969Z"
    }
   },
   "outputs": [],
   "source": [
    "df_Visualization.insert(0, 'date', x_test['date'], True)\n",
    "df_Visualization.insert(1, 'year', x_test['year'], True)\n",
    "df_Visualization.insert(2, 'month', x_test['month'], True)\n",
    "df_Visualization.insert(3, 'day', x_test['day'], True)\n",
    "df_Visualization.insert(4, 'nouns_contents', x_test['nouns_contents'], True)"
   ]
  },
  {
   "cell_type": "code",
   "execution_count": 82,
   "id": "59e98cdb",
   "metadata": {
    "ExecuteTime": {
     "end_time": "2022-06-10T00:06:17.102940Z",
     "start_time": "2022-06-10T00:06:16.527507Z"
    }
   },
   "outputs": [],
   "source": [
    "idx = 0\n",
    "for i, j in zip(df_Visualization['raw_label'].index, df_Visualization['predict_label'].index):\n",
    "    # print(p_value_tmp[p_idx_tmp.index(i)])\n",
    "    df_Visualization['raw_label'][i] = r_value_tmp[i]\n",
    "    df_Visualization['predict_label'][j] = p_value_tmp[i]"
   ]
  },
  {
   "cell_type": "code",
   "execution_count": 83,
   "id": "c9437aaa",
   "metadata": {
    "ExecuteTime": {
     "end_time": "2022-06-10T00:06:17.117896Z",
     "start_time": "2022-06-10T00:06:17.103934Z"
    }
   },
   "outputs": [
    {
     "data": {
      "text/html": [
       "<div>\n",
       "<style scoped>\n",
       "    .dataframe tbody tr th:only-of-type {\n",
       "        vertical-align: middle;\n",
       "    }\n",
       "\n",
       "    .dataframe tbody tr th {\n",
       "        vertical-align: top;\n",
       "    }\n",
       "\n",
       "    .dataframe thead th {\n",
       "        text-align: right;\n",
       "    }\n",
       "</style>\n",
       "<table border=\"1\" class=\"dataframe\">\n",
       "  <thead>\n",
       "    <tr style=\"text-align: right;\">\n",
       "      <th></th>\n",
       "      <th>date</th>\n",
       "      <th>year</th>\n",
       "      <th>month</th>\n",
       "      <th>day</th>\n",
       "      <th>nouns_contents</th>\n",
       "      <th>raw_label</th>\n",
       "      <th>predict_label</th>\n",
       "    </tr>\n",
       "  </thead>\n",
       "  <tbody>\n",
       "    <tr>\n",
       "      <th>0</th>\n",
       "      <td>2019-06-18</td>\n",
       "      <td>2019</td>\n",
       "      <td>6</td>\n",
       "      <td>18</td>\n",
       "      <td>조인호 기자 DGB 대 구 은행 은행 장 김태오 18일 담양 달빛 무월 마을 에서 ...</td>\n",
       "      <td>긍정</td>\n",
       "      <td>긍정</td>\n",
       "    </tr>\n",
       "    <tr>\n",
       "      <th>1</th>\n",
       "      <td>2021-02-25</td>\n",
       "      <td>2021</td>\n",
       "      <td>2</td>\n",
       "      <td>25</td>\n",
       "      <td>DGB 대 구 은행 캄보디아 현 법인 DGB 특수은행 본사 부지 매입 과정 에서 1...</td>\n",
       "      <td>부정</td>\n",
       "      <td>긍정</td>\n",
       "    </tr>\n",
       "    <tr>\n",
       "      <th>2</th>\n",
       "      <td>2021-01-18</td>\n",
       "      <td>2021</td>\n",
       "      <td>1</td>\n",
       "      <td>18</td>\n",
       "      <td>DGB 대 구 은행 설 연휴 앞두다 5000억원 규모 설날 특별 자금 대출 을 다음...</td>\n",
       "      <td>긍정</td>\n",
       "      <td>부정</td>\n",
       "    </tr>\n",
       "    <tr>\n",
       "      <th>3</th>\n",
       "      <td>2022-04-11</td>\n",
       "      <td>2022</td>\n",
       "      <td>4</td>\n",
       "      <td>11</td>\n",
       "      <td>세븐일레븐 DGB 대 구 은행 은행 안 편의점 편의점 안 은행 공존 특화 채널 을 ...</td>\n",
       "      <td>긍정</td>\n",
       "      <td>긍정</td>\n",
       "    </tr>\n",
       "    <tr>\n",
       "      <th>4</th>\n",
       "      <td>2020-10-20</td>\n",
       "      <td>2020</td>\n",
       "      <td>10</td>\n",
       "      <td>20</td>\n",
       "      <td>DGB 대 구 은행 20일 부터 KB 국민카드 리브 메이트 앱 에서 DGB 대구 은...</td>\n",
       "      <td>긍정</td>\n",
       "      <td>긍정</td>\n",
       "    </tr>\n",
       "  </tbody>\n",
       "</table>\n",
       "</div>"
      ],
      "text/plain": [
       "         date  year  month  day  \\\n",
       "0  2019-06-18  2019      6   18   \n",
       "1  2021-02-25  2021      2   25   \n",
       "2  2021-01-18  2021      1   18   \n",
       "3  2022-04-11  2022      4   11   \n",
       "4  2020-10-20  2020     10   20   \n",
       "\n",
       "                                      nouns_contents raw_label predict_label  \n",
       "0  조인호 기자 DGB 대 구 은행 은행 장 김태오 18일 담양 달빛 무월 마을 에서 ...        긍정            긍정  \n",
       "1  DGB 대 구 은행 캄보디아 현 법인 DGB 특수은행 본사 부지 매입 과정 에서 1...        부정            긍정  \n",
       "2  DGB 대 구 은행 설 연휴 앞두다 5000억원 규모 설날 특별 자금 대출 을 다음...        긍정            부정  \n",
       "3  세븐일레븐 DGB 대 구 은행 은행 안 편의점 편의점 안 은행 공존 특화 채널 을 ...        긍정            긍정  \n",
       "4  DGB 대 구 은행 20일 부터 KB 국민카드 리브 메이트 앱 에서 DGB 대구 은...        긍정            긍정  "
      ]
     },
     "execution_count": 83,
     "metadata": {},
     "output_type": "execute_result"
    }
   ],
   "source": [
    "df_Visualization.head()"
   ]
  },
  {
   "cell_type": "code",
   "execution_count": 84,
   "id": "ab9fad73",
   "metadata": {
    "ExecuteTime": {
     "end_time": "2022-06-10T00:06:17.761174Z",
     "start_time": "2022-06-10T00:06:17.744221Z"
    }
   },
   "outputs": [],
   "source": [
    "df_Visualization.sort_values('date', inplace = True)\n",
    "df_Visualization.reset_index(inplace=True)\n",
    "df_Visualization.drop(['index'], axis=1, inplace=True)"
   ]
  },
  {
   "cell_type": "markdown",
   "id": "c9505d70",
   "metadata": {},
   "source": [
    "### [꺽은선 그래프] 월별 기사에 대한 예측 시각화 (테스트데이터 / 전체)\n",
    "\n",
    "- raw_data만 생성 /predict_data도 시각화\n",
    "- 추가적인 데이터가 들어올시 데이터 통합을 한 후 예측하면 됨."
   ]
  },
  {
   "cell_type": "code",
   "execution_count": 133,
   "id": "101e4320",
   "metadata": {
    "ExecuteTime": {
     "end_time": "2022-06-10T04:07:24.243748Z",
     "start_time": "2022-06-10T04:07:24.201860Z"
    }
   },
   "outputs": [
    {
     "name": "stdout",
     "output_type": "stream",
     "text": [
      "133 82 124 122 89 131 117 82 104 175 156 72 127 128 119 138 87 123 82 165 140 115 131 161 127 137 189 160 144 161 94 158 95 113 110 154 1 "
     ]
    },
    {
     "data": {
      "text/html": [
       "<div>\n",
       "<style scoped>\n",
       "    .dataframe tbody tr th:only-of-type {\n",
       "        vertical-align: middle;\n",
       "    }\n",
       "\n",
       "    .dataframe tbody tr th {\n",
       "        vertical-align: top;\n",
       "    }\n",
       "\n",
       "    .dataframe thead th {\n",
       "        text-align: right;\n",
       "    }\n",
       "</style>\n",
       "<table border=\"1\" class=\"dataframe\">\n",
       "  <thead>\n",
       "    <tr style=\"text-align: right;\">\n",
       "      <th></th>\n",
       "    </tr>\n",
       "  </thead>\n",
       "  <tbody>\n",
       "  </tbody>\n",
       "</table>\n",
       "</div>"
      ],
      "text/plain": [
       "Empty DataFrame\n",
       "Columns: []\n",
       "Index: []"
      ]
     },
     "execution_count": 133,
     "metadata": {},
     "output_type": "execute_result"
    }
   ],
   "source": [
    "from collections import defaultdict\n",
    "\n",
    "def func(x):\n",
    "    print(x.groupby('month')['raw_label'].count().tolist()[0],  end=' ')\n",
    "    return\n",
    "df_Visualization.groupby(['year', 'month']).apply(func)"
   ]
  },
  {
   "cell_type": "code",
   "execution_count": 134,
   "id": "c016d16b",
   "metadata": {
    "ExecuteTime": {
     "end_time": "2022-06-10T04:07:24.363435Z",
     "start_time": "2022-06-10T04:07:24.347479Z"
    }
   },
   "outputs": [],
   "source": [
    "def decision(state_label):\n",
    "    global r_cnt1, r_cnt2, r_cnt3\n",
    "    \n",
    "    if state_label == '긍정':\n",
    "        r_cnt1 += 1\n",
    "    if state_label == '부정':\n",
    "        r_cnt2 += 1\n",
    "\n",
    "def add_value(x, y):\n",
    "    global r_cnt1, r_cnt2\n",
    "    x.append(r_cnt1)\n",
    "    y.append(r_cnt2)\n",
    "    r_cnt1, r_cnt2 = 0, 0"
   ]
  },
  {
   "cell_type": "code",
   "execution_count": 135,
   "id": "e28bf6ea",
   "metadata": {
    "ExecuteTime": {
     "end_time": "2022-06-10T04:07:24.513035Z",
     "start_time": "2022-06-10T04:07:24.508049Z"
    }
   },
   "outputs": [
    {
     "data": {
      "text/plain": [
       "0       부정\n",
       "1       긍정\n",
       "2       긍정\n",
       "3       긍정\n",
       "4       긍정\n",
       "        ..\n",
       "4541    긍정\n",
       "4542    긍정\n",
       "4543    긍정\n",
       "4544    긍정\n",
       "4545    긍정\n",
       "Name: predict_label, Length: 4546, dtype: object"
      ]
     },
     "execution_count": 135,
     "metadata": {},
     "output_type": "execute_result"
    }
   ],
   "source": [
    "df_Visualization['predict_label']"
   ]
  },
  {
   "cell_type": "markdown",
   "id": "64d44a14",
   "metadata": {},
   "source": [
    "#### Predict Data 리스트"
   ]
  },
  {
   "cell_type": "code",
   "execution_count": 136,
   "id": "2d6b6117",
   "metadata": {
    "ExecuteTime": {
     "end_time": "2022-06-10T04:07:24.887409Z",
     "start_time": "2022-06-10T04:07:24.819216Z"
    }
   },
   "outputs": [
    {
     "name": "stdout",
     "output_type": "stream",
     "text": [
      "36 36\n"
     ]
    }
   ],
   "source": [
    "start_year = df_Visualization['year'][0]\n",
    "start_month = df_Visualization['month'][0]\n",
    "pos_pre, neg_pre = [], []\n",
    "r_cnt1, r_cnt2 = 0, 0\n",
    "# print('연도 : {}, 달 : {}'.format(start_year, start_month))\n",
    "for i in range(len(df_Visualization)):\n",
    "    if (df_Visualization['year'][i] == start_year):\n",
    "        if start_month == df_Visualization['month'][i]:\n",
    "            decision(df_Visualization['predict_label'][i])\n",
    "        else:\n",
    "            decision(df_Visualization['predict_label'][i])  # 하나의 데이터 누락 추가\n",
    "            start_month += 1\n",
    "            add_value(pos_pre, neg_pre)\n",
    "#             print('긍정 : {} 중립 : {} 부정 : {}'.format(pos_pre, mid_pre, neg_pre))\n",
    "#             print('달 : {}'.format(start_month))\n",
    "            \n",
    "    else: # 하나의 데이터 누락\n",
    "        if (r_cnt1 >= 0) and (r_cnt2 >= 0): # 전년도 12월 긍부정 갯수\n",
    "            add_value(pos_pre, neg_pre)\n",
    "            # print('긍정 : {} 중립 : {} 부정 : {}'.format(pos_pre, mid_pre, neg_pre))\n",
    "#         print()\n",
    "        start_year += 1\n",
    "        start_month = 1 # 1월로 초기화\n",
    "#         print('연도 : {}, 달 : {}'.format(start_year, start_month))\n",
    "\n",
    "print(len(pos_pre), len(neg_pre)) # 36개가 떠야함."
   ]
  },
  {
   "cell_type": "markdown",
   "id": "d87a7c05",
   "metadata": {},
   "source": [
    "#### Raw Data 리스트"
   ]
  },
  {
   "cell_type": "code",
   "execution_count": 137,
   "id": "74377459",
   "metadata": {
    "ExecuteTime": {
     "end_time": "2022-06-10T04:07:25.172887Z",
     "start_time": "2022-06-10T04:07:25.107063Z"
    }
   },
   "outputs": [
    {
     "name": "stdout",
     "output_type": "stream",
     "text": [
      "36 36\n"
     ]
    }
   ],
   "source": [
    "start_year = df_Visualization['year'][0]\n",
    "start_month = df_Visualization['month'][0]\n",
    "pos_raw, neg_raw = [], []\n",
    "r_cnt1, r_cnt2 = 0, 0\n",
    "# print('연도 : {}, 달 : {}'.format(start_year, start_month))\n",
    "for i in range(len(df_Visualization)):\n",
    "    if (df_Visualization['year'][i] == start_year):\n",
    "        if start_month == df_Visualization['month'][i]:\n",
    "            decision(df_Visualization['raw_label'][i])\n",
    "        else:\n",
    "            decision(df_Visualization['raw_label'][i])  # 하나의 데이터 누락 추가\n",
    "            start_month += 1\n",
    "            add_value(pos_raw, neg_raw)\n",
    "#             print('긍정 : {} 중립 : {} 부정 : {}'.format(pos_pre, mid_pre, neg_pre))\n",
    "#             print('달 : {}'.format(start_month))\n",
    "            \n",
    "    else: # 하나의 데이터 누락\n",
    "        if (r_cnt1 >= 0) and (r_cnt2 >= 0): # 전년도 12월 긍부정 갯수\n",
    "            add_value(pos_raw, neg_raw)\n",
    "            # print('긍정 : {} 중립 : {} 부정 : {}'.format(pos_pre, mid_pre, neg_pre))\n",
    "#         print()\n",
    "        start_year += 1\n",
    "        start_month = 1 # 1월로 초기화\n",
    "#         print('연도 : {}, 달 : {}'.format(start_year, start_month))\n",
    "\n",
    "print(len(pos_pre), len(neg_pre)) # 36개가 떠야함."
   ]
  },
  {
   "cell_type": "code",
   "execution_count": 138,
   "id": "0cdb8e4b",
   "metadata": {
    "ExecuteTime": {
     "end_time": "2022-06-10T04:07:25.277653Z",
     "start_time": "2022-06-10T04:07:25.253717Z"
    }
   },
   "outputs": [
    {
     "name": "stdout",
     "output_type": "stream",
     "text": [
      "['2019.05', '2019.06', '2019.07', '2019.08', '2019.09']\n",
      "['19.05', '19.06', '19.07', '19.08', '19.09']\n"
     ]
    }
   ],
   "source": [
    "last_year, last_month = map(int, df_Visualization['date'].tail(1).tolist()[0][:7].split('-'))\n",
    "# 2021년도부터 시작\n",
    "def next_date_get(y, x):\n",
    "    global last_date\n",
    "    year = y\n",
    "    for i in range(len(x)):\n",
    "        if (year == last_year) and (x[i] == last_month + 1):\n",
    "            return\n",
    "        if (x[i] % 12) != 0:\n",
    "            if x[i] < 10:\n",
    "                x.insert(i, '{}.0'.format(str(year)) + str(x.pop(i)))\n",
    "            else:\n",
    "                x.insert(i, '{}.'.format(str(year)) + str(x.pop(i)))\n",
    "        else:\n",
    "            x.insert(i, '{}.'.format(str(year)) + str(x.pop(i))) # 12월까지 카운트\n",
    "            year += 1 # 다음년도\n",
    "    return x\n",
    "\n",
    "x = []\n",
    "# 월별로 정렬이 되어 있으므로 21 ~ 22년도 사이 지정 해주어야 함.\n",
    "check_year = [False] * len(df_Visualization['year'].unique().tolist())\n",
    "\n",
    "y_unique = df_Visualization['year'].unique().tolist()\n",
    "for i in range(len(check_year)):\n",
    "    try: \n",
    "        x += next_date_get(y_unique[i], df_Visualization['month'].unique().tolist())\n",
    "    except TypeError:\n",
    "        break\n",
    "        \n",
    "tmp_a, tmp_b = df_Visualization.groupby('month')['date'].count().tolist()[4:], df_Visualization.groupby('month')['date'].count().tolist()[:4]\n",
    "y = tmp_a + tmp_b\n",
    "\n",
    "print(x[:5]) # 월\n",
    "# print('2021.05 ~ :', y) # 값\n",
    "for i in range(len(x)):\n",
    "    x[i] = x[i][2:] \n",
    "print(x[:5])\n",
    "date_range = x"
   ]
  },
  {
   "cell_type": "code",
   "execution_count": 139,
   "id": "0b13da39",
   "metadata": {
    "ExecuteTime": {
     "end_time": "2022-06-10T04:07:49.186198Z",
     "start_time": "2022-06-10T04:07:25.393344Z"
    }
   },
   "outputs": [],
   "source": [
    "_eval = model_num.evaluate(X_test, y_test)[1] * 100"
   ]
  },
  {
   "cell_type": "markdown",
   "id": "b40c2b22",
   "metadata": {},
   "source": [
    "#### 19.05 ~ 20.05"
   ]
  },
  {
   "cell_type": "code",
   "execution_count": 192,
   "id": "a320651a",
   "metadata": {
    "ExecuteTime": {
     "end_time": "2022-06-10T04:46:06.862154Z",
     "start_time": "2022-06-10T04:46:06.407343Z"
    }
   },
   "outputs": [
    {
     "data": {
      "image/png": "[encoded data removed]",
      "text/plain": [
       "<Figure size 1440x612 with 1 Axes>"
      ]
     },
     "metadata": {
      "needs_background": "light"
     },
     "output_type": "display_data"
    }
   ],
   "source": [
    "plt.figure(figsize=(20, 8.5))\n",
    "for i, v in enumerate(x[:13]):\n",
    "    plt.text(v, pos_raw[i], pos_raw[i],                 # 좌표 (x축 = v, y축 = y[0]..y[1], 표시 = y[0]..y[1])\n",
    "             fontsize = 12, color='blue',\n",
    "             horizontalalignment='center', verticalalignment='bottom')\n",
    "    \n",
    "    plt.text(v, neg_raw[i], neg_raw[i],                 # 좌표 (x축 = v, y축 = y[0]..y[1], 표시 = y[0]..y[1])\n",
    "             fontsize = 12, color='red', # orange\n",
    "             horizontalalignment='center', verticalalignment='bottom')\n",
    "    \n",
    "    \n",
    "    plt.text(v, pos_pre[i], pos_pre[i],\n",
    "             fontsize = 18, color='blue', # green\n",
    "             horizontalalignment='center', verticalalignment='bottom', fontweight= 'heavy')\n",
    "    \n",
    "    plt.text(v, neg_pre[i], neg_pre[i],\n",
    "             fontsize = 18, color='red',\n",
    "             horizontalalignment='center', verticalalignment='bottom', fontweight= 'heavy')\n",
    "\n",
    "plt.plot(date_range[:13], pos_raw[:13], label = '긍정')\n",
    "plt.plot(date_range[:13], neg_raw[:13], label = '부정')\n",
    "plt.plot(date_range[:13], pos_pre[:13], label = '긍정(예측)')\n",
    "plt.plot(date_range[:13], neg_pre[:13], label = '부정(예측)')\n",
    "\n",
    "plt.title('Binary Classification (이진 분류 / 월별)', size = 25)\n",
    "plt.xticks(rotation = 0, fontsize = 17.5)\n",
    "plt.yticks(fontsize = 17.5)\n",
    "plt.xlabel('기간 : 2019.05 ~ 2020.05   /   전체 데이터 갯수 : {}개   /   모델 성능 : {:.2f}%'.format(len(df_Visualization), _eval), fontsize=20)\n",
    "plt.ylabel('Count', fontsize=20)\n",
    "# plt.legend(fontsize = 12, shadow=True, loc = 'best')\n",
    "\n",
    "# 이미지 저장\n",
    "plt.savefig('./최종산출물/Binary_line_graph_19.05~20.05.jpg')\n",
    "plt.show()"
   ]
  },
  {
   "cell_type": "code",
   "execution_count": 146,
   "id": "55cade8f",
   "metadata": {
    "ExecuteTime": {
     "end_time": "2022-06-10T04:08:50.903395Z",
     "start_time": "2022-06-10T04:08:49.867168Z"
    }
   },
   "outputs": [
    {
     "data": {
      "image/png": "[encoded data removed]",
      "text/plain": [
       "<Figure size 1872x1008 with 1 Axes>"
      ]
     },
     "metadata": {
      "needs_background": "light"
     },
     "output_type": "display_data"
    }
   ],
   "source": [
    "plt.figure(figsize=(26, 14))\n",
    "for i, v in enumerate(x):\n",
    "    plt.text(v, pos_raw[i], pos_raw[i],                 # 좌표 (x축 = v, y축 = y[0]..y[1], 표시 = y[0]..y[1])\n",
    "             fontsize = 12, color='blue',\n",
    "             horizontalalignment='center', verticalalignment='bottom')\n",
    "    \n",
    "    plt.text(v, neg_raw[i], neg_raw[i],                 # 좌표 (x축 = v, y축 = y[0]..y[1], 표시 = y[0]..y[1])\n",
    "             fontsize = 12, color='red', # orange\n",
    "             horizontalalignment='center', verticalalignment='bottom')\n",
    "    \n",
    "    \n",
    "    plt.text(v, pos_pre[i], pos_pre[i],\n",
    "             fontsize = 18, color='blue', # green\n",
    "             horizontalalignment='center', verticalalignment='bottom', fontweight= 'heavy')\n",
    "    \n",
    "    plt.text(v, neg_pre[i], neg_pre[i],\n",
    "             fontsize = 18, color='red',\n",
    "             horizontalalignment='center', verticalalignment='bottom', fontweight= 'heavy')\n",
    "\n",
    "plt.plot(date_range, pos_raw, label = '긍정')\n",
    "plt.plot(date_range, neg_raw, label = '부정')# , color='gray')\n",
    "plt.plot(date_range, pos_pre, label = '긍정(예측)')\n",
    "plt.plot(date_range, neg_pre, label = '부정(예측)')\n",
    "\n",
    "plt.title('월별 긍부정 추이 예측 시각화', size = 25)\n",
    "plt.xticks(rotation = 45, fontsize = 15)\n",
    "plt.yticks(fontsize = 15)\n",
    "plt.xlabel('기간 : 2019.05.01 ~ 2022.04.30   /   전체 데이터 갯수 : {}개   /   모델 성능 : {:.2f}%'.format(len(df_Visualization), _eval), fontsize=20)\n",
    "plt.ylabel('Count', fontsize=20)\n",
    "plt.legend(fontsize = 20, shadow=True, loc = 'best')\n",
    "\n",
    "# 이미지 저장\n",
    "plt.savefig('./최종산출물/Binary_line_graph.jpg')\n",
    "plt.show()"
   ]
  },
  {
   "cell_type": "code",
   "execution_count": 141,
   "id": "c6296f83",
   "metadata": {
    "ExecuteTime": {
     "end_time": "2022-06-10T04:07:50.248356Z",
     "start_time": "2022-06-10T04:07:50.219433Z"
    }
   },
   "outputs": [],
   "source": [
    "df_Visualization.to_csv('./최종산출물/Final_DataSet(Binary).csv')"
   ]
  },
  {
   "cell_type": "markdown",
   "id": "05ce4aa9",
   "metadata": {},
   "source": [
    "## 주간별 그래프 ( 특정 월 선택 )"
   ]
  },
  {
   "cell_type": "code",
   "execution_count": 142,
   "id": "ea3de4f9",
   "metadata": {
    "ExecuteTime": {
     "end_time": "2022-06-10T04:07:50.278278Z",
     "start_time": "2022-06-10T04:07:50.249354Z"
    }
   },
   "outputs": [],
   "source": [
    "import datetime, timedelta\n",
    "\n",
    "# start = datetime.datetime.strptime(input(), '%Y-%m-%d')\n",
    "input_date = '2022-04-29'\n",
    "start = datetime.datetime.strptime(input_date, '%Y-%m-%d') # 시작 날짜\n",
    "\n",
    "pos_org_list = [] #긍정 배열(원본)\n",
    "neg_org_list = [] #부정 배열(원본)\n",
    "mid_org_list = [] #중립 배열(원본)\n",
    "\n",
    "date_list = [] #날짜 배열\n",
    "pos_list = [] #긍정 배열\n",
    "neg_list = [] #부정 배열\n",
    "\n",
    "total = 0 #데이터 개수\n",
    "week_cnt = 10 # 몇주 뽑을건지\n",
    "\n",
    "for k in range(week_cnt): # 몇주 뽑을건지\n",
    "    \n",
    "    before_one_week = start - datetime.timedelta(weeks=1)\n",
    "    # print(\"1주 전 :\", str(before_one_week)[:11])\n",
    "    #before_one_week = str(before_one_week)[:11]\n",
    "\n",
    "    df_select_month = df_Visualization[('{}'.format(before_one_week) <= df_Visualization['date']) & (df_Visualization['date'] <= '{}'.format(start))]\n",
    "\n",
    "    #print(start - timedelta(days=1))\n",
    "    #for i in range(len(df_select_month))\n",
    "\n",
    "    pos_org_week = 0 #긍정 개수(원본)\n",
    "    neg_org_week = 0 #부정 개수(원본)\n",
    "    \n",
    "    pos_week = 0 #긍정 개수\n",
    "    neg_week = 0 #부정 개수\n",
    "\n",
    "    for i in df_select_month['predict_label']:\n",
    "        if i == '긍정':\n",
    "            pos_week = pos_week + 1\n",
    "        elif i == '부정':\n",
    "            neg_week = neg_week + 1\n",
    "    \n",
    "    for i in df_select_month['raw_label']:\n",
    "        if i == '긍정':\n",
    "            pos_org_week += 1\n",
    "        elif i == '부정':\n",
    "            neg_org_week += 1\n",
    "        \n",
    "    date_str = str(start)[5:10]\n",
    "    \n",
    "    start = before_one_week - datetime.timedelta(days=1)\n",
    "    date_list.insert(0, date_str)\n",
    "    \n",
    "    pos_org_list.insert(0, pos_org_week)\n",
    "    neg_org_list.insert(0, neg_org_week)\n",
    "    pos_list.insert(0, pos_week)\n",
    "    neg_list.insert(0, neg_week)\n",
    "    \n",
    "    total = total + len(df_select_month)"
   ]
  },
  {
   "cell_type": "code",
   "execution_count": 143,
   "id": "d439a651",
   "metadata": {
    "ExecuteTime": {
     "end_time": "2022-06-10T04:07:50.487716Z",
     "start_time": "2022-06-10T04:07:50.279275Z"
    }
   },
   "outputs": [
    {
     "data": {
      "image/png": "[encoded data removed]",
      "text/plain": [
       "<Figure size 1152x432 with 1 Axes>"
      ]
     },
     "metadata": {
      "needs_background": "light"
     },
     "output_type": "display_data"
    }
   ],
   "source": [
    "plt.figure(figsize=(16, 6))\n",
    "plt.title('주별 긍부정 추이 예측 시각화', size = 15)\n",
    "\n",
    "plt.plot(date_list, pos_list, label = '긍정(예측)')\n",
    "plt.plot(date_list, neg_list, label = '부정(예측)')\n",
    "\n",
    "plt.plot(date_list, pos_org_list, label = '긍정(원본)')\n",
    "plt.plot(date_list, neg_org_list, label = '부정(원본)')\n",
    "\n",
    "plt.xticks(rotation = 0, fontsize = 15)\n",
    "plt.yticks(fontsize = 15)\n",
    "plt.xlabel('기간 : 2022-{} ~ 2022-{}   /   전체 데이터 갯수 : {}   /   모델 성능 : {:.2f} % '.format(date_list[0], date_list[-1], total, _eval), fontsize = 20)\n",
    "plt.ylabel('Count', fontsize=20)\n",
    "plt.legend(fontsize = 12, shadow=True, loc = 'best')\n",
    "\n",
    "plt.savefig('./최종산출물/Binary_week_graph.jpg')\n",
    "plt.show()"
   ]
  },
  {
   "cell_type": "markdown",
   "id": "bffc09d2",
   "metadata": {},
   "source": [
    "## [막대 그래프] 전체 데이터에 대한 예측 시각화 (테스트데이터)"
   ]
  },
  {
   "cell_type": "code",
   "execution_count": 97,
   "id": "b7dd60c8",
   "metadata": {
    "ExecuteTime": {
     "end_time": "2022-06-10T00:07:16.513371Z",
     "start_time": "2022-06-10T00:07:16.499408Z"
    }
   },
   "outputs": [],
   "source": [
    "df_Visualization_Total = df_Visualization.copy()"
   ]
  },
  {
   "cell_type": "code",
   "execution_count": 98,
   "id": "cb2e4fb5",
   "metadata": {
    "ExecuteTime": {
     "end_time": "2022-06-10T00:07:16.528331Z",
     "start_time": "2022-06-10T00:07:16.514369Z"
    }
   },
   "outputs": [],
   "source": [
    "def change_idx(labels):\n",
    "    idx_tmp = list()\n",
    "    value_tmp = list()\n",
    "    for i in pd.Series(labels).unique():\n",
    "        if i == 0:\n",
    "            idx_tmp.append('부정')\n",
    "        if i == 1:\n",
    "            idx_tmp.append('긍정')\n",
    "        value_tmp.append(list(labels).count(i))\n",
    "    return value_tmp, idx_tmp"
   ]
  },
  {
   "cell_type": "code",
   "execution_count": 99,
   "id": "ef80f2db",
   "metadata": {
    "ExecuteTime": {
     "end_time": "2022-06-10T00:07:16.543291Z",
     "start_time": "2022-06-10T00:07:16.529330Z"
    }
   },
   "outputs": [],
   "source": [
    "r_value_tmp, r_idx_tmp = change_idx(original_labels)\n",
    "ori_view = pd.Series(data = r_value_tmp, index = r_idx_tmp)\n",
    "ori_view.sort_index(ascending=True, inplace=True)\n",
    "\n",
    "x = list(ori_view.keys())\n",
    "y = ori_view.values"
   ]
  },
  {
   "cell_type": "code",
   "execution_count": 100,
   "id": "5fa488f3",
   "metadata": {
    "ExecuteTime": {
     "end_time": "2022-06-10T00:07:16.558255Z",
     "start_time": "2022-06-10T00:07:16.544289Z"
    }
   },
   "outputs": [],
   "source": [
    "p_value_tmp, p_idx_tmp = change_idx(predict_labels)\n",
    "pre_view = pd.Series(data = p_value_tmp, index = p_idx_tmp)\n",
    "pre_view.sort_index(ascending=True, inplace=True)\n",
    "\n",
    "w = list(pre_view.keys())\n",
    "z = pre_view.values"
   ]
  },
  {
   "cell_type": "code",
   "execution_count": 101,
   "id": "7c2b88be",
   "metadata": {
    "ExecuteTime": {
     "end_time": "2022-06-10T00:07:16.573216Z",
     "start_time": "2022-06-10T00:07:16.559247Z"
    }
   },
   "outputs": [],
   "source": [
    "df_Visualization_Total = pd.DataFrame({'raw_label' : 0,\n",
    "              'predict_label' : 0}, index = ['긍정', '부정'])"
   ]
  },
  {
   "cell_type": "code",
   "execution_count": 102,
   "id": "f4fccd58",
   "metadata": {
    "ExecuteTime": {
     "end_time": "2022-06-10T00:07:16.588174Z",
     "start_time": "2022-06-10T00:07:16.574238Z"
    }
   },
   "outputs": [],
   "source": [
    "idx = 0\n",
    "for i, j in zip(df_Visualization_Total['raw_label'].index, df_Visualization_Total['predict_label'].index):\n",
    "    # print(p_value_tmp[p_idx_tmp.index(i)])\n",
    "    df_Visualization_Total['raw_label'][i] = r_value_tmp[r_idx_tmp.index(i)]\n",
    "    df_Visualization_Total['predict_label'][j] = p_value_tmp[p_idx_tmp.index(i)]\n",
    "\n",
    "# df_Visualization_Total['raw_label']['전체'] = len(df_Visualization['raw_label'])\n",
    "# df_Visualization_Total['predict_label']['전체'] = len(df_Visualization['predict_label'])"
   ]
  },
  {
   "cell_type": "code",
   "execution_count": 103,
   "id": "7994c107",
   "metadata": {
    "ExecuteTime": {
     "end_time": "2022-06-10T00:07:16.603161Z",
     "start_time": "2022-06-10T00:07:16.589169Z"
    }
   },
   "outputs": [
    {
     "data": {
      "text/html": [
       "<div>\n",
       "<style scoped>\n",
       "    .dataframe tbody tr th:only-of-type {\n",
       "        vertical-align: middle;\n",
       "    }\n",
       "\n",
       "    .dataframe tbody tr th {\n",
       "        vertical-align: top;\n",
       "    }\n",
       "\n",
       "    .dataframe thead th {\n",
       "        text-align: right;\n",
       "    }\n",
       "</style>\n",
       "<table border=\"1\" class=\"dataframe\">\n",
       "  <thead>\n",
       "    <tr style=\"text-align: right;\">\n",
       "      <th></th>\n",
       "      <th>raw_label</th>\n",
       "      <th>predict_label</th>\n",
       "    </tr>\n",
       "  </thead>\n",
       "  <tbody>\n",
       "    <tr>\n",
       "      <th>긍정</th>\n",
       "      <td>4129</td>\n",
       "      <td>4287</td>\n",
       "    </tr>\n",
       "    <tr>\n",
       "      <th>부정</th>\n",
       "      <td>417</td>\n",
       "      <td>259</td>\n",
       "    </tr>\n",
       "  </tbody>\n",
       "</table>\n",
       "</div>"
      ],
      "text/plain": [
       "    raw_label  predict_label\n",
       "긍정       4129           4287\n",
       "부정        417            259"
      ]
     },
     "execution_count": 103,
     "metadata": {},
     "output_type": "execute_result"
    }
   ],
   "source": [
    "df_Visualization_Total"
   ]
  },
  {
   "cell_type": "code",
   "execution_count": 110,
   "id": "fc02ec63",
   "metadata": {
    "ExecuteTime": {
     "end_time": "2022-06-10T01:40:56.040377Z",
     "start_time": "2022-06-10T01:40:56.032399Z"
    }
   },
   "outputs": [
    {
     "name": "stdout",
     "output_type": "stream",
     "text": [
      "테스트 데이터 셋 예측\n",
      "긍정 : 96.17 %\n",
      "부정 : 62.11 %\n"
     ]
    }
   ],
   "source": [
    "print('테스트 데이터 셋 예측')\n",
    "Calculation = list(df_Visualization_Total['predict_label'] / df_Visualization_Total['raw_label'])\n",
    "res = list()\n",
    "row = list(df_Visualization_Total.index)\n",
    "for idx in range(len(Calculation)):\n",
    "    print('{} :'.format(row[idx]), end=' ')\n",
    "    if Calculation[idx] > 1:\n",
    "        print('{:.2f} %'.format((2 - Calculation[idx]) * 100))\n",
    "        res.append((2 - Calculation[idx]) * 100)\n",
    "    else:\n",
    "        print('{:.2f} %'.format(Calculation[idx] * 100))\n",
    "        res.append(Calculation[idx] * 100)"
   ]
  },
  {
   "cell_type": "code",
   "execution_count": 185,
   "id": "ccc16768",
   "metadata": {
    "ExecuteTime": {
     "end_time": "2022-06-10T04:43:55.511380Z",
     "start_time": "2022-06-10T04:43:55.336847Z"
    }
   },
   "outputs": [
    {
     "data": {
      "image/png": "[encoded data removed]",
      "text/plain": [
       "<Figure size 720x576 with 1 Axes>"
      ]
     },
     "metadata": {
      "needs_background": "light"
     },
     "output_type": "display_data"
    }
   ],
   "source": [
    "ax = df_Visualization_Total.plot(kind = 'bar', figsize = (10, 8), fontsize=14, rot=0)\n",
    "graph_value = list(df_Visualization_Total['raw_label']) + list(df_Visualization_Total['predict_label']) + list(['end'])\n",
    "jump = 0\n",
    "for p in ax.patches:\n",
    "    left, bottom, width, height = p.get_bbox().bounds\n",
    "    if jump < 2:\n",
    "        ax.annotate('{}'.format(graph_value.pop(0)), (left+width/2, height*1.01), ha='center', color = 'black', fontsize = 15)\n",
    "    else:\n",
    "        ax.annotate('{}'.format(graph_value.pop(0)), (left+width/2, height*1.01), ha='center', color = 'red', fontsize = 15)\n",
    "    jump += 1\n",
    "\n",
    "# plt.title(\"긍정 / 부정 / 중립 예측률\", size = 16)\n",
    "plt.ylim(0, max(max(y), max(z)) + 100)\n",
    "plt.rc('legend', fontsize=16)  # 범례 폰트 크기\n",
    "plt.xlabel('{:.2f}%    /     {:.2f}%'.format(res[0], res[1]), fontsize = 20)\n",
    "plt.xticks(rotation = 0, fontsize = 20)\n",
    "plt.yticks(fontsize = 20)\n",
    "plt.legend(fontsize = 20, shadow=True, loc = 'best')\n",
    "plt.title('Binary Classification (이진 분류)', size = 22)\n",
    "plt.savefig('./최종산출물/Binary_AllData.jpg')\n",
    "plt.show()"
   ]
  }
 ],
 "metadata": {
  "kernelspec": {
   "display_name": "Proj",
   "language": "python",
   "name": "intern_project"
  },
  "language_info": {
   "codemirror_mode": {
    "name": "ipython",
    "version": 3
   },
   "file_extension": ".py",
   "mimetype": "text/x-python",
   "name": "python",
   "nbconvert_exporter": "python",
   "pygments_lexer": "ipython3",
   "version": "3.6.13"
  },
  "toc": {
   "base_numbering": 1,
   "nav_menu": {},
   "number_sections": true,
   "sideBar": true,
   "skip_h1_title": false,
   "title_cell": "Table of Contents",
   "title_sidebar": "Contents",
   "toc_cell": false,
   "toc_position": {
    "height": "calc(100% - 180px)",
    "left": "10px",
    "top": "150px",
    "width": "253.011px"
   },
   "toc_section_display": true,
   "toc_window_display": true
  }
 },
 "nbformat": 4,
 "nbformat_minor": 5
}
