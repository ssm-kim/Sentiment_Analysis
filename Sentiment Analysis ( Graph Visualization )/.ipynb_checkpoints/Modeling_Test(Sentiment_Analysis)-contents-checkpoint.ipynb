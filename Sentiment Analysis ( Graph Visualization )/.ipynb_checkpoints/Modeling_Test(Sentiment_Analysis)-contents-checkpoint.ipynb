{
 "cells": [
  {
   "cell_type": "code",
   "execution_count": 1,
   "id": "448364d4",
   "metadata": {
    "ExecuteTime": {
     "end_time": "2022-05-27T08:44:30.538394Z",
     "start_time": "2022-05-27T08:44:26.869210Z"
    }
   },
   "outputs": [],
   "source": [
    "import tensorflow as tf\n",
    "from tensorflow.keras import datasets, layers, models\n",
    "\n",
    "gpus = tf.config.experimental.list_physical_devices('GPU')\n",
    "if gpus:\n",
    "    try:\n",
    "        # Currently, memory growth needs to be the same across GPUs\n",
    "        for gpu in gpus:\n",
    "            tf.config.experimental.set_memory_growth(gpu, True)\n",
    "    except RuntimeError as e:\n",
    "        # Memory growth must be set before GPUs have been initialized\n",
    "        print(e)"
   ]
  },
  {
   "cell_type": "markdown",
   "id": "68b209b2",
   "metadata": {},
   "source": [
    "# 전처리된 데이터 셋 불러오기"
   ]
  },
  {
   "cell_type": "code",
   "execution_count": 2,
   "id": "213eb640",
   "metadata": {
    "ExecuteTime": {
     "end_time": "2022-05-27T08:44:30.553354Z",
     "start_time": "2022-05-27T08:44:30.539392Z"
    }
   },
   "outputs": [],
   "source": [
    "# 주피터노트북 단축키\n",
    "# https://nittaku.tistory.com/428"
   ]
  },
  {
   "cell_type": "code",
   "execution_count": 3,
   "id": "052c0275",
   "metadata": {
    "ExecuteTime": {
     "end_time": "2022-05-27T08:44:31.690316Z",
     "start_time": "2022-05-27T08:44:30.554351Z"
    }
   },
   "outputs": [],
   "source": [
    "import pandas as pd\n",
    "import numpy as np\n",
    "import matplotlib\n",
    "import datetime, time\n",
    "import re\n",
    "import timedelta\n",
    "import matplotlib.pyplot as plt\n",
    "import seaborn as sns\n",
    "import os\n",
    "import sys"
   ]
  },
  {
   "cell_type": "markdown",
   "id": "fcad6cad",
   "metadata": {},
   "source": [
    "## DataFrame 2가지 존재 ( 원본, 중복제거 )\n",
    "\n",
    "- 중복제거 데이터가 성능이 뛰어남."
   ]
  },
  {
   "cell_type": "code",
   "execution_count": 4,
   "id": "e6737cb0",
   "metadata": {
    "ExecuteTime": {
     "end_time": "2022-05-27T08:44:32.049488Z",
     "start_time": "2022-05-27T08:44:31.691309Z"
    }
   },
   "outputs": [],
   "source": [
    "# 중복 제거 X\n",
    "df_news = pd.read_csv('./Data_Set/news_data_preprocessing.csv', engine= 'python',encoding = 'utf-8')\n",
    "# 중복 제거 O\n",
    "df_news_overlap = pd.read_csv('./Data_Set/news_data_preprocessing_duplicate.csv', engine= 'python',encoding = 'utf-8')"
   ]
  },
  {
   "cell_type": "code",
   "execution_count": 5,
   "id": "5a1ff349",
   "metadata": {
    "ExecuteTime": {
     "end_time": "2022-05-27T08:44:32.064312Z",
     "start_time": "2022-05-27T08:44:32.050349Z"
    }
   },
   "outputs": [
    {
     "data": {
      "text/plain": [
       "16523"
      ]
     },
     "execution_count": 5,
     "metadata": {},
     "output_type": "execute_result"
    }
   ],
   "source": [
    "len(df_news_overlap)"
   ]
  },
  {
   "cell_type": "code",
   "execution_count": 6,
   "id": "ba8b2dfd",
   "metadata": {
    "ExecuteTime": {
     "end_time": "2022-05-27T08:44:32.079272Z",
     "start_time": "2022-05-27T08:44:32.065309Z"
    }
   },
   "outputs": [
    {
     "data": {
      "text/plain": [
       "Index(['Unnamed: 0', 'date', 'year', 'month', 'day', 'title', 'nouns_title',\n",
       "       'press', 'contents', 'nouns_contents'],\n",
       "      dtype='object')"
      ]
     },
     "execution_count": 6,
     "metadata": {},
     "output_type": "execute_result"
    }
   ],
   "source": [
    "df_news.columns"
   ]
  },
  {
   "cell_type": "code",
   "execution_count": 7,
   "id": "eef67a29",
   "metadata": {
    "ExecuteTime": {
     "end_time": "2022-05-27T08:44:32.094233Z",
     "start_time": "2022-05-27T08:44:32.080270Z"
    }
   },
   "outputs": [],
   "source": [
    "df_news = df_news.loc[:,['date', 'year', 'month', 'day', 'title', 'nouns_title',\n",
    "       'press', 'contents', 'nouns_contents']]\n",
    "df_news_overlap = df_news_overlap.loc[:,['date', 'year', 'month', 'day', 'title', 'nouns_title',\n",
    "       'press', 'contents', 'nouns_contents']]"
   ]
  },
  {
   "cell_type": "code",
   "execution_count": 8,
   "id": "1f61541c",
   "metadata": {
    "ExecuteTime": {
     "end_time": "2022-05-27T08:44:32.109195Z",
     "start_time": "2022-05-27T08:44:32.096227Z"
    }
   },
   "outputs": [],
   "source": [
    "# 시각화 글자 깨짐 방지\n",
    "if os.name == 'posix':\n",
    "    plt.rc(\"font\", family=\"Malgun Gothic\")\n",
    "else:\n",
    "    plt.rc(\"font\", family=\"Malgun Gothic\")"
   ]
  },
  {
   "cell_type": "markdown",
   "id": "a5ee068a",
   "metadata": {},
   "source": [
    "# 레이블링 / 데이터 셋 분할 / 정수 인코딩\n",
    "\n",
    "- 긍정 부정 단어를 분류 기초 방식. 따라서 보충이 필요.\n",
    "\n",
    "**※논문 참고(계산법) : http://www.koreascience.kr/article/JAKO201719363360793.pdf**"
   ]
  },
  {
   "cell_type": "markdown",
   "id": "7aed8444",
   "metadata": {},
   "source": [
    "## 레이블링"
   ]
  },
  {
   "cell_type": "code",
   "execution_count": 9,
   "id": "99d81548",
   "metadata": {
    "ExecuteTime": {
     "end_time": "2022-05-27T08:44:32.124156Z",
     "start_time": "2022-05-27T08:44:32.111186Z"
    }
   },
   "outputs": [],
   "source": [
    "pos_word = []\n",
    "neg_word = []\n",
    "pos_neg = []\n",
    "\n",
    "pos = open('./pos_neg_dictionary/positive_word.txt', 'r', encoding='UTF-8')\n",
    "\n",
    "while True:\n",
    "    line = pos.readline().rstrip()\n",
    "    pos_word.append(line)\n",
    "    \n",
    "    if not line:\n",
    "        break\n",
    "\n",
    "pos.close()\n",
    "\n",
    "neg = open('./pos_neg_dictionary/negative_word.txt', 'r', encoding='UTF-8')\n",
    "\n",
    "while True:\n",
    "    line = neg.readline().rstrip()\n",
    "    neg_word.append(line)\n",
    "    \n",
    "    if not line:\n",
    "        break\n",
    "\n",
    "neg.close()"
   ]
  },
  {
   "cell_type": "code",
   "execution_count": 10,
   "id": "6ec0bff7",
   "metadata": {
    "ExecuteTime": {
     "end_time": "2022-05-27T08:44:32.139116Z",
     "start_time": "2022-05-27T08:44:32.125150Z"
    }
   },
   "outputs": [],
   "source": [
    "# 마지막 인덱스 '' 제거\n",
    "pos_word = pos_word[:-1]\n",
    "neg_word = neg_word[:-1]\n",
    "pos_neg = pos_word + neg_word"
   ]
  },
  {
   "cell_type": "code",
   "execution_count": 11,
   "id": "9aa39f7f",
   "metadata": {
    "ExecuteTime": {
     "end_time": "2022-05-27T08:44:34.876815Z",
     "start_time": "2022-05-27T08:44:32.140109Z"
    }
   },
   "outputs": [
    {
     "name": "stdout",
     "output_type": "stream",
     "text": [
      "부정:1213   긍정:11901   중립:3409\n"
     ]
    }
   ],
   "source": [
    "pd.set_option('mode.chained_assignment',  None) # 경고 off\n",
    "state = list()\n",
    "\n",
    "for x in df_news_overlap['nouns_contents']:\n",
    "    words = x.split(' ')\n",
    "    total, p, n = 0, 0, 0\n",
    "    for i in words:\n",
    "        if i in pos_word:\n",
    "            p += 1\n",
    "        elif i in neg_word:\n",
    "            n += 1\n",
    "    \n",
    "    # 기사 제목당 긍정갯수 - 부정 갯수\n",
    "    total = p - n\n",
    "    if total > 0:\n",
    "        state.append(1)\n",
    "    elif total == 0:\n",
    "        state.append(0)\n",
    "    else:\n",
    "        state.append(-1)\n",
    "\n",
    "print('부정:%d   긍정:%d   중립:%d' % (state.count(-1), state.count(1), state.count(0)))\n",
    "df_news_overlap['label'] = 0\n",
    "for i in range(len(state)):\n",
    "    df_news_overlap['label'][i] = state[i]"
   ]
  },
  {
   "cell_type": "code",
   "execution_count": 12,
   "id": "6eefefe3",
   "metadata": {
    "ExecuteTime": {
     "end_time": "2022-05-27T08:44:34.891748Z",
     "start_time": "2022-05-27T08:44:34.877785Z"
    }
   },
   "outputs": [
    {
     "data": {
      "text/html": [
       "<div>\n",
       "<style scoped>\n",
       "    .dataframe tbody tr th:only-of-type {\n",
       "        vertical-align: middle;\n",
       "    }\n",
       "\n",
       "    .dataframe tbody tr th {\n",
       "        vertical-align: top;\n",
       "    }\n",
       "\n",
       "    .dataframe thead th {\n",
       "        text-align: right;\n",
       "    }\n",
       "</style>\n",
       "<table border=\"1\" class=\"dataframe\">\n",
       "  <thead>\n",
       "    <tr style=\"text-align: right;\">\n",
       "      <th></th>\n",
       "      <th>date</th>\n",
       "      <th>year</th>\n",
       "      <th>month</th>\n",
       "      <th>day</th>\n",
       "      <th>title</th>\n",
       "      <th>nouns_title</th>\n",
       "      <th>press</th>\n",
       "      <th>contents</th>\n",
       "      <th>nouns_contents</th>\n",
       "      <th>label</th>\n",
       "    </tr>\n",
       "  </thead>\n",
       "  <tbody>\n",
       "    <tr>\n",
       "      <th>0</th>\n",
       "      <td>2019-05-01</td>\n",
       "      <td>2019</td>\n",
       "      <td>5</td>\n",
       "      <td>1</td>\n",
       "      <td>충청권이 타 지역 지방은행 각축장이 된 까닭</td>\n",
       "      <td>충청권 지역 지방 은행 각축 장이 되다 까닭</td>\n",
       "      <td>충청투데이</td>\n",
       "      <td>DGB대구은행이 엊그제 둔산동에 대전지역 1호 점포를 개설하고 충청권 영업에 본격 ...</td>\n",
       "      <td>DGB 대 구 은행 엊그제 둔산동 대전 지역 1 호 점포 개설 하고 충청권 영업 본...</td>\n",
       "      <td>1</td>\n",
       "    </tr>\n",
       "    <tr>\n",
       "      <th>1</th>\n",
       "      <td>2019-05-01</td>\n",
       "      <td>2019</td>\n",
       "      <td>5</td>\n",
       "      <td>1</td>\n",
       "      <td>대전에 문 연 대구은행…지역 반응은 '글쎄'</td>\n",
       "      <td>대전 대구 은행 지역 반응 글쎄</td>\n",
       "      <td>충청투데이</td>\n",
       "      <td>DGB대구은행이 대전지역 진출을 본격화한 가운데 다소 냉담한 반응이 흘러나오고 있다...</td>\n",
       "      <td>DGB 대 구 은행 대전 지역 진출 을 본격 화 가운데 다소 냉담하다 반응 흘러나오...</td>\n",
       "      <td>1</td>\n",
       "    </tr>\n",
       "  </tbody>\n",
       "</table>\n",
       "</div>"
      ],
      "text/plain": [
       "         date  year  month  day                     title  \\\n",
       "0  2019-05-01  2019      5    1  충청권이 타 지역 지방은행 각축장이 된 까닭   \n",
       "1  2019-05-01  2019      5    1  대전에 문 연 대구은행…지역 반응은 '글쎄'   \n",
       "\n",
       "                nouns_title  press  \\\n",
       "0  충청권 지역 지방 은행 각축 장이 되다 까닭  충청투데이   \n",
       "1         대전 대구 은행 지역 반응 글쎄  충청투데이   \n",
       "\n",
       "                                            contents  \\\n",
       "0  DGB대구은행이 엊그제 둔산동에 대전지역 1호 점포를 개설하고 충청권 영업에 본격 ...   \n",
       "1  DGB대구은행이 대전지역 진출을 본격화한 가운데 다소 냉담한 반응이 흘러나오고 있다...   \n",
       "\n",
       "                                      nouns_contents  label  \n",
       "0  DGB 대 구 은행 엊그제 둔산동 대전 지역 1 호 점포 개설 하고 충청권 영업 본...      1  \n",
       "1  DGB 대 구 은행 대전 지역 진출 을 본격 화 가운데 다소 냉담하다 반응 흘러나오...      1  "
      ]
     },
     "execution_count": 12,
     "metadata": {},
     "output_type": "execute_result"
    }
   ],
   "source": [
    "df_news_overlap[:2]"
   ]
  },
  {
   "cell_type": "markdown",
   "id": "7709a337",
   "metadata": {},
   "source": [
    "## Train Set / Test Set 분할\n",
    "\n",
    "- Train Set과 Test Set으로 분류 ( 7:3 )\n",
    "- train_test_split() 함수에서 shuffle / default option : True.\n",
    "- stratify 옵션 중요 !!\n",
    "- Pos : 개선 / Neg : 불만\n",
    "\n",
    "**참고 https://sosoeasy.tistory.com/488 / https://teddylee777.github.io/scikit-learn/train-test-split**"
   ]
  },
  {
   "cell_type": "code",
   "execution_count": 13,
   "id": "c98072f3",
   "metadata": {
    "ExecuteTime": {
     "end_time": "2022-05-27T08:44:35.595005Z",
     "start_time": "2022-05-27T08:44:34.892746Z"
    }
   },
   "outputs": [],
   "source": [
    "from sklearn.model_selection import train_test_split"
   ]
  },
  {
   "cell_type": "markdown",
   "id": "ef5236ed",
   "metadata": {},
   "source": [
    "### 데이터 분할 시 테이블 변경 가능"
   ]
  },
  {
   "cell_type": "code",
   "execution_count": 14,
   "id": "2354a0b9",
   "metadata": {
    "ExecuteTime": {
     "end_time": "2022-05-27T08:44:35.609830Z",
     "start_time": "2022-05-27T08:44:35.595865Z"
    }
   },
   "outputs": [],
   "source": [
    "# 필요한 데이터만 추출 / 컬럼명 변경\n",
    "# 80% / 20% 으로 분할\n",
    "x_train, x_test = train_test_split(df_news_overlap.loc[:,['nouns_contents', 'label']], test_size = 0.2, shuffle = True, random_state = 1234)"
   ]
  },
  {
   "cell_type": "code",
   "execution_count": 15,
   "id": "8cb3a871",
   "metadata": {
    "ExecuteTime": {
     "end_time": "2022-05-27T08:44:35.624790Z",
     "start_time": "2022-05-27T08:44:35.610824Z"
    }
   },
   "outputs": [],
   "source": [
    "# 인덱스 번호 새로 부여.\n",
    "x_train.reset_index(inplace=True)\n",
    "x_train.drop(['index'], axis=1, inplace=True)\n",
    "\n",
    "x_test.reset_index(inplace=True)\n",
    "x_test.drop(['index'], axis=1, inplace=True)"
   ]
  },
  {
   "cell_type": "code",
   "execution_count": 16,
   "id": "e1cb1a60",
   "metadata": {
    "ExecuteTime": {
     "end_time": "2022-05-27T08:44:35.639747Z",
     "start_time": "2022-05-27T08:44:35.625784Z"
    }
   },
   "outputs": [
    {
     "name": "stdout",
     "output_type": "stream",
     "text": [
      "<class 'pandas.core.frame.DataFrame'> <class 'pandas.core.frame.DataFrame'>\n"
     ]
    }
   ],
   "source": [
    "# 2개의 데이터 프레임 생성\n",
    "print(type(x_train), type(x_test))"
   ]
  },
  {
   "cell_type": "markdown",
   "id": "5fa11919",
   "metadata": {},
   "source": [
    "### Train Set / Test Set 시각화 및 레이블 현황\n",
    "\n",
    "**참고 : isin() 문법 참고 : https://rfriend.tistory.com/460**"
   ]
  },
  {
   "cell_type": "code",
   "execution_count": 17,
   "id": "5910c924",
   "metadata": {
    "ExecuteTime": {
     "end_time": "2022-05-27T08:44:35.819294Z",
     "start_time": "2022-05-27T08:44:35.640745Z"
    }
   },
   "outputs": [
    {
     "data": {
      "image/png": "[encoded data removed]",
      "text/plain": [
       "<Figure size 432x288 with 1 Axes>"
      ]
     },
     "metadata": {
      "needs_background": "light"
     },
     "output_type": "display_data"
    }
   ],
   "source": [
    "x_train['label'].value_counts().plot(kind='bar')\n",
    "plt.title('Train Set Label', size = 15)\n",
    "plt.show()"
   ]
  },
  {
   "cell_type": "code",
   "execution_count": 18,
   "id": "40e68e2c",
   "metadata": {
    "ExecuteTime": {
     "end_time": "2022-05-27T08:44:35.894108Z",
     "start_time": "2022-05-27T08:44:35.820266Z"
    }
   },
   "outputs": [
    {
     "data": {
      "image/png": "[encoded data removed]",
      "text/plain": [
       "<Figure size 432x288 with 1 Axes>"
      ]
     },
     "metadata": {
      "needs_background": "light"
     },
     "output_type": "display_data"
    }
   ],
   "source": [
    "x_test['label'].value_counts().plot(kind='bar')\n",
    "plt.title('Test Set Label', size = 15)\n",
    "plt.show()"
   ]
  },
  {
   "cell_type": "code",
   "execution_count": 19,
   "id": "0b377fc3",
   "metadata": {
    "ExecuteTime": {
     "end_time": "2022-05-27T08:44:35.909056Z",
     "start_time": "2022-05-27T08:44:35.895063Z"
    }
   },
   "outputs": [
    {
     "name": "stdout",
     "output_type": "stream",
     "text": [
      "Train_Set  긍정(1) : 9534 \n",
      "\t   중립(0) : 2712 \n",
      "\t   부정(-1) : 972 \n",
      "\t   총 합계 : 13218\n",
      "\n",
      "Test_Set   긍정(1) : 2367 \n",
      "\t   중립(0) : 697 \n",
      "\t   부정(-1) : 241 \n",
      "\t   총 합계 : 3305\n"
     ]
    }
   ],
   "source": [
    "# Train_Set 레이블 현황 갯수\n",
    "print('Train_Set  긍정(1) : {} \\n\\t   중립(0) : {} \\n\\t   부정(-1) : {} \\n\\t   총 합계 : {}'.format(len(x_train[x_train['label'].isin([1])]), len(x_train[x_train['label'].isin([0])]), len(x_train[x_train['label'].isin([-1])]), len(x_train)))\n",
    "print()\n",
    "# Test_Set 레이블 현황 갯수\n",
    "print('Test_Set   긍정(1) : {} \\n\\t   중립(0) : {} \\n\\t   부정(-1) : {} \\n\\t   총 합계 : {}'.format(len(x_test[x_test['label'].isin([1])]), len(x_test[x_test['label'].isin([0])]), len(x_test[x_test['label'].isin([-1])]), len(x_test)))"
   ]
  },
  {
   "cell_type": "markdown",
   "id": "3e485df2",
   "metadata": {},
   "source": [
    "## Convert to two_dimensional list"
   ]
  },
  {
   "cell_type": "code",
   "execution_count": 20,
   "id": "fdf13752",
   "metadata": {
    "ExecuteTime": {
     "end_time": "2022-05-27T08:44:35.923986Z",
     "start_time": "2022-05-27T08:44:35.910023Z"
    }
   },
   "outputs": [
    {
     "name": "stdout",
     "output_type": "stream",
     "text": [
      "13218 3305\n"
     ]
    }
   ],
   "source": [
    "print(len(x_train), len(x_test))"
   ]
  },
  {
   "cell_type": "code",
   "execution_count": 21,
   "id": "178127da",
   "metadata": {
    "ExecuteTime": {
     "end_time": "2022-05-27T08:44:35.938947Z",
     "start_time": "2022-05-27T08:44:35.924984Z"
    }
   },
   "outputs": [
    {
     "data": {
      "text/html": [
       "<div>\n",
       "<style scoped>\n",
       "    .dataframe tbody tr th:only-of-type {\n",
       "        vertical-align: middle;\n",
       "    }\n",
       "\n",
       "    .dataframe tbody tr th {\n",
       "        vertical-align: top;\n",
       "    }\n",
       "\n",
       "    .dataframe thead th {\n",
       "        text-align: right;\n",
       "    }\n",
       "</style>\n",
       "<table border=\"1\" class=\"dataframe\">\n",
       "  <thead>\n",
       "    <tr style=\"text-align: right;\">\n",
       "      <th></th>\n",
       "      <th>nouns_contents</th>\n",
       "      <th>label</th>\n",
       "    </tr>\n",
       "  </thead>\n",
       "  <tbody>\n",
       "    <tr>\n",
       "      <th>0</th>\n",
       "      <td>DGB 대 구 은행 디지털 을 통한 소통 브랜드 이미지 제 위해 대국민 SNS 홍보...</td>\n",
       "      <td>1</td>\n",
       "    </tr>\n",
       "    <tr>\n",
       "      <th>1</th>\n",
       "      <td>함께 환경보호 사회 공헌 선 순환 ESG 경영 실천 GECONOMY 코 노미 홍종락...</td>\n",
       "      <td>1</td>\n",
       "    </tr>\n",
       "    <tr>\n",
       "      <th>2</th>\n",
       "      <td>최고 연 240% p 금리 출시 기념 항공 할인 권 및 상품권 증정 7일 마다 7 ...</td>\n",
       "      <td>1</td>\n",
       "    </tr>\n",
       "    <tr>\n",
       "      <th>3</th>\n",
       "      <td>DGB 대 구 은행 코로나 19 장기 화 재 확산 인하다 침체 되다 지역 경제 힘 ...</td>\n",
       "      <td>1</td>\n",
       "    </tr>\n",
       "    <tr>\n",
       "      <th>4</th>\n",
       "      <td>DGB 대 구 은행 임성훈 행 장이 MZ 세대 함께 다양하다 소통 장 을 마련 하고...</td>\n",
       "      <td>1</td>\n",
       "    </tr>\n",
       "    <tr>\n",
       "      <th>5</th>\n",
       "      <td>11일 DGB 대구 은행 본점 에서 열리다 지역 경제 활성화 위 노 사정 공동 선언...</td>\n",
       "      <td>1</td>\n",
       "    </tr>\n",
       "    <tr>\n",
       "      <th>6</th>\n",
       "      <td>DGB 대 구 은행 ESG 경영 실천 고객 만족도 제 위해 매월 11일 DGB 대구...</td>\n",
       "      <td>1</td>\n",
       "    </tr>\n",
       "    <tr>\n",
       "      <th>7</th>\n",
       "      <td>출시 달이다 만에 T high 5 적금 가입자 5만 명 돌파 편리하다 가입 간단하다...</td>\n",
       "      <td>1</td>\n",
       "    </tr>\n",
       "    <tr>\n",
       "      <th>8</th>\n",
       "      <td>집중호우 로 피해 입다 기업 DGB 대 구 은행 에서 긴급 특별 대출 대출 상환 유...</td>\n",
       "      <td>0</td>\n",
       "    </tr>\n",
       "    <tr>\n",
       "      <th>9</th>\n",
       "      <td>사진 대구 은행 제공 DGB 대 구 은행 신 학기 및 해외 이동 늘어나다 연초 맞다...</td>\n",
       "      <td>1</td>\n",
       "    </tr>\n",
       "    <tr>\n",
       "      <th>10</th>\n",
       "      <td>DGB 대구 은행 안동 지점 지점 장 이재형 지난 8일 안동시 방문 희망 2021 ...</td>\n",
       "      <td>1</td>\n",
       "    </tr>\n",
       "    <tr>\n",
       "      <th>11</th>\n",
       "      <td>DGB 대구 은행 계 휴가 맞이 통 크다 할인 카드 이벤트 DGB 대 구 은행 달 ...</td>\n",
       "      <td>1</td>\n",
       "    </tr>\n",
       "    <tr>\n",
       "      <th>12</th>\n",
       "      <td>차기 회장 후보 김태오 현 주 회장 김성훈 대 구 은행 장 유 규현 전 우리카드 대...</td>\n",
       "      <td>0</td>\n",
       "    </tr>\n",
       "    <tr>\n",
       "      <th>13</th>\n",
       "      <td>한편 임성훈 DGB 대 구 은행 장 소비자보호 총괄 책임자 CCO 선임 관련 질의 ...</td>\n",
       "      <td>0</td>\n",
       "    </tr>\n",
       "    <tr>\n",
       "      <th>14</th>\n",
       "      <td>DGB 대 구 은행 캄보디아 현 법인 DGB 특수은행 상업 은행 라이센스 획득 8일...</td>\n",
       "      <td>-1</td>\n",
       "    </tr>\n",
       "    <tr>\n",
       "      <th>15</th>\n",
       "      <td>사진 앞줄 왼쪽 부터 김태오 DGB 대 구 은행 장 허다 KB 국민은행 장 이대훈 ...</td>\n",
       "      <td>0</td>\n",
       "    </tr>\n",
       "    <tr>\n",
       "      <th>16</th>\n",
       "      <td>DGB 금융 지난해 말 대 구 은행 장 숏 리스트 로 황병 욱김윤 국 임성훈 부행 ...</td>\n",
       "      <td>0</td>\n",
       "    </tr>\n",
       "    <tr>\n",
       "      <th>17</th>\n",
       "      <td>고령 경찰서 최근 보이스피싱 피해 예방 DGB 대구 은행 고령 지점 권 미현 대리 ...</td>\n",
       "      <td>1</td>\n",
       "    </tr>\n",
       "    <tr>\n",
       "      <th>18</th>\n",
       "      <td>DGB 금융 그룹 닥터 안다 연사 랑 연구소 공동 청소년 창의성 통합 적 사고 능력...</td>\n",
       "      <td>0</td>\n",
       "    </tr>\n",
       "    <tr>\n",
       "      <th>19</th>\n",
       "      <td>DGB 대구 은행 임성훈 은행 장이 소화기 화재경보기 등 소방시설 중요성 을 알리 ...</td>\n",
       "      <td>0</td>\n",
       "    </tr>\n",
       "  </tbody>\n",
       "</table>\n",
       "</div>"
      ],
      "text/plain": [
       "                                       nouns_contents  label\n",
       "0   DGB 대 구 은행 디지털 을 통한 소통 브랜드 이미지 제 위해 대국민 SNS 홍보...      1\n",
       "1   함께 환경보호 사회 공헌 선 순환 ESG 경영 실천 GECONOMY 코 노미 홍종락...      1\n",
       "2   최고 연 240% p 금리 출시 기념 항공 할인 권 및 상품권 증정 7일 마다 7 ...      1\n",
       "3   DGB 대 구 은행 코로나 19 장기 화 재 확산 인하다 침체 되다 지역 경제 힘 ...      1\n",
       "4   DGB 대 구 은행 임성훈 행 장이 MZ 세대 함께 다양하다 소통 장 을 마련 하고...      1\n",
       "5   11일 DGB 대구 은행 본점 에서 열리다 지역 경제 활성화 위 노 사정 공동 선언...      1\n",
       "6   DGB 대 구 은행 ESG 경영 실천 고객 만족도 제 위해 매월 11일 DGB 대구...      1\n",
       "7   출시 달이다 만에 T high 5 적금 가입자 5만 명 돌파 편리하다 가입 간단하다...      1\n",
       "8   집중호우 로 피해 입다 기업 DGB 대 구 은행 에서 긴급 특별 대출 대출 상환 유...      0\n",
       "9   사진 대구 은행 제공 DGB 대 구 은행 신 학기 및 해외 이동 늘어나다 연초 맞다...      1\n",
       "10  DGB 대구 은행 안동 지점 지점 장 이재형 지난 8일 안동시 방문 희망 2021 ...      1\n",
       "11  DGB 대구 은행 계 휴가 맞이 통 크다 할인 카드 이벤트 DGB 대 구 은행 달 ...      1\n",
       "12  차기 회장 후보 김태오 현 주 회장 김성훈 대 구 은행 장 유 규현 전 우리카드 대...      0\n",
       "13  한편 임성훈 DGB 대 구 은행 장 소비자보호 총괄 책임자 CCO 선임 관련 질의 ...      0\n",
       "14  DGB 대 구 은행 캄보디아 현 법인 DGB 특수은행 상업 은행 라이센스 획득 8일...     -1\n",
       "15  사진 앞줄 왼쪽 부터 김태오 DGB 대 구 은행 장 허다 KB 국민은행 장 이대훈 ...      0\n",
       "16  DGB 금융 지난해 말 대 구 은행 장 숏 리스트 로 황병 욱김윤 국 임성훈 부행 ...      0\n",
       "17  고령 경찰서 최근 보이스피싱 피해 예방 DGB 대구 은행 고령 지점 권 미현 대리 ...      1\n",
       "18  DGB 금융 그룹 닥터 안다 연사 랑 연구소 공동 청소년 창의성 통합 적 사고 능력...      0\n",
       "19  DGB 대구 은행 임성훈 은행 장이 소화기 화재경보기 등 소방시설 중요성 을 알리 ...      0"
      ]
     },
     "execution_count": 21,
     "metadata": {},
     "output_type": "execute_result"
    }
   ],
   "source": [
    "x_train.head(20)"
   ]
  },
  {
   "cell_type": "code",
   "execution_count": 22,
   "id": "00c91984",
   "metadata": {
    "ExecuteTime": {
     "end_time": "2022-05-27T08:44:35.953906Z",
     "start_time": "2022-05-27T08:44:35.939944Z"
    }
   },
   "outputs": [
    {
     "data": {
      "text/html": [
       "<div>\n",
       "<style scoped>\n",
       "    .dataframe tbody tr th:only-of-type {\n",
       "        vertical-align: middle;\n",
       "    }\n",
       "\n",
       "    .dataframe tbody tr th {\n",
       "        vertical-align: top;\n",
       "    }\n",
       "\n",
       "    .dataframe thead th {\n",
       "        text-align: right;\n",
       "    }\n",
       "</style>\n",
       "<table border=\"1\" class=\"dataframe\">\n",
       "  <thead>\n",
       "    <tr style=\"text-align: right;\">\n",
       "      <th></th>\n",
       "      <th>nouns_contents</th>\n",
       "      <th>label</th>\n",
       "    </tr>\n",
       "  </thead>\n",
       "  <tbody>\n",
       "    <tr>\n",
       "      <th>0</th>\n",
       "      <td>날 열리다 첫 기부 행사 에서 DGB 대구 은행 경북 농협 등 동참 개인 으로는 이...</td>\n",
       "      <td>1</td>\n",
       "    </tr>\n",
       "    <tr>\n",
       "      <th>1</th>\n",
       "      <td>협약 에는 한국 로봇산업 진흥 원 DGB 대구 은행 국민은행 신한은행 우리은행 중소...</td>\n",
       "      <td>1</td>\n",
       "    </tr>\n",
       "    <tr>\n",
       "      <th>2</th>\n",
       "      <td>DGB 금융 그룹 DGB 대 구 은행 투자 증권 점포 결합 복합 점포 수도권 지역 ...</td>\n",
       "      <td>0</td>\n",
       "    </tr>\n",
       "  </tbody>\n",
       "</table>\n",
       "</div>"
      ],
      "text/plain": [
       "                                      nouns_contents  label\n",
       "0  날 열리다 첫 기부 행사 에서 DGB 대구 은행 경북 농협 등 동참 개인 으로는 이...      1\n",
       "1  협약 에는 한국 로봇산업 진흥 원 DGB 대구 은행 국민은행 신한은행 우리은행 중소...      1\n",
       "2  DGB 금융 그룹 DGB 대 구 은행 투자 증권 점포 결합 복합 점포 수도권 지역 ...      0"
      ]
     },
     "execution_count": 22,
     "metadata": {},
     "output_type": "execute_result"
    }
   ],
   "source": [
    "x_test.head(3)"
   ]
  },
  {
   "cell_type": "code",
   "execution_count": 23,
   "id": "067af95b",
   "metadata": {
    "ExecuteTime": {
     "end_time": "2022-05-27T08:44:36.028734Z",
     "start_time": "2022-05-27T08:44:35.956898Z"
    }
   },
   "outputs": [],
   "source": [
    "# 리스트로 변환 후 체크 \n",
    "# 6263\n",
    "x_train_words = list()\n",
    "for title_words in x_train['nouns_contents']:\n",
    "    x_train_words.append(list(title_words.split(' ')))\n",
    "\n",
    "# 2685\n",
    "x_test_words = list()\n",
    "for title_words in x_test['nouns_contents']:\n",
    "    x_test_words.append(list(title_words.split(' ')))"
   ]
  },
  {
   "cell_type": "code",
   "execution_count": 24,
   "id": "e496ad23",
   "metadata": {
    "ExecuteTime": {
     "end_time": "2022-05-27T08:44:36.043666Z",
     "start_time": "2022-05-27T08:44:36.030702Z"
    }
   },
   "outputs": [
    {
     "name": "stdout",
     "output_type": "stream",
     "text": [
      "[['DGB', '대', '구', '은행', '디지털', '을', '통한', '소통', '브랜드', '이미지', '제', '위해', '대국민', 'SNS', '홍보단', 'DGB', 'Player', '디', '플', '2', '기르다', '모집', '20일', '밝히다', '오다', '1월', '23일', '까지', '모집', '디플', '개인', 'SNS', '활동', '을', '통해', 'DGB', '대', '구', '은행', '을', '홍보'], ['함께', '환경보호', '사회', '공헌', '선', '순환', 'ESG', '경영', '실천', 'GECONOMY', '코', '노미', '홍종락', '기자', 'DGB', '대', '구', '은행', '직원', '시민', '적극', '적', '참여', '통한', '환경보호', '실천', '및', '취약', '계층', '아동', '후원', '을', '위해', '대구', '지역', '지방', '기업']]\n"
     ]
    }
   ],
   "source": [
    "print(x_train_words[:2])"
   ]
  },
  {
   "cell_type": "code",
   "execution_count": 25,
   "id": "6cc44b13",
   "metadata": {
    "ExecuteTime": {
     "end_time": "2022-05-27T08:44:36.058626Z",
     "start_time": "2022-05-27T08:44:36.044664Z"
    }
   },
   "outputs": [
    {
     "name": "stdout",
     "output_type": "stream",
     "text": [
      "[['날', '열리다', '첫', '기부', '행사', '에서', 'DGB', '대구', '은행', '경북', '농협', '등', '동참', '개인', '으로는', '이진복', '경', '북단', '장이', '첫', '기', '부자', '로', '등록', '돼다', '경', '북도', '경복', '공', '동', '모', '금회', '앞', '언론사', '방송', '모금', '거리', '홍보', '캠페인', '모금', '금융기관', '모금'], ['협약', '에는', '한국', '로봇산업', '진흥', '원', 'DGB', '대구', '은행', '국민은행', '신한은행', '우리은행', '중소기업', '은행', '하나은행', 'NH', '농협', '은행', '참여', '코로나', '19', '상황', '을', '고려', '비대', '협약', '을', '맺다', '신', '보', '앞', '한국', '로봇산업', '진흥', '원']]\n"
     ]
    }
   ],
   "source": [
    "print(x_test_words[:2])"
   ]
  },
  {
   "cell_type": "markdown",
   "id": "8bbf8439",
   "metadata": {},
   "source": [
    "## Integer Encoding\n",
    "- 토큰화 한 단어를 컴퓨터가 인식하도록 정수 인코딩 수행"
   ]
  },
  {
   "cell_type": "code",
   "execution_count": 26,
   "id": "e8829a63",
   "metadata": {
    "ExecuteTime": {
     "end_time": "2022-05-27T08:44:36.073586Z",
     "start_time": "2022-05-27T08:44:36.059625Z"
    }
   },
   "outputs": [],
   "source": [
    "from keras.preprocessing.text import Tokenizer"
   ]
  },
  {
   "cell_type": "code",
   "execution_count": 27,
   "id": "da768fff",
   "metadata": {
    "ExecuteTime": {
     "end_time": "2022-05-27T08:44:36.402734Z",
     "start_time": "2022-05-27T08:44:36.074584Z"
    }
   },
   "outputs": [],
   "source": [
    "tokenizer = Tokenizer()\n",
    "tokenizer.fit_on_texts(x_train_words)\n",
    "tokenizer.fit_on_texts(x_test_words)"
   ]
  },
  {
   "cell_type": "code",
   "execution_count": 28,
   "id": "35e8aa0d",
   "metadata": {
    "ExecuteTime": {
     "end_time": "2022-05-27T08:44:36.582225Z",
     "start_time": "2022-05-27T08:44:36.403704Z"
    }
   },
   "outputs": [],
   "source": [
    "x_train_int = tokenizer.texts_to_sequences(x_train_words)"
   ]
  },
  {
   "cell_type": "code",
   "execution_count": 29,
   "id": "acd02184",
   "metadata": {
    "ExecuteTime": {
     "end_time": "2022-05-27T08:44:36.642069Z",
     "start_time": "2022-05-27T08:44:36.583223Z"
    }
   },
   "outputs": [],
   "source": [
    "x_test_int = tokenizer.texts_to_sequences(x_test_words)"
   ]
  },
  {
   "cell_type": "code",
   "execution_count": 30,
   "id": "2df0636d",
   "metadata": {
    "ExecuteTime": {
     "end_time": "2022-05-27T08:44:36.657025Z",
     "start_time": "2022-05-27T08:44:36.643063Z"
    }
   },
   "outputs": [
    {
     "name": "stdout",
     "output_type": "stream",
     "text": [
      "[[2, 4, 5, 1, 83, 3, 153, 562, 941, 1179, 17, 18, 1682, 877, 1388, 2, 1572, 1015, 574, 38, 1370, 337, 348, 11, 68, 622, 381, 61, 337, 2552, 235, 877, 184, 3, 65, 2, 4, 5, 1, 3, 307], [66, 2210, 70, 791, 795, 3786, 202, 97, 267, 1063, 917, 1035, 1064, 86, 2, 4, 5, 1, 60, 817, 534, 40, 135, 153, 2210, 267, 24, 264, 181, 431, 328, 3, 18, 6, 10, 113, 33], [657, 131, 4817, 705, 75, 106, 99, 4305, 196, 136, 24, 540, 498, 220, 2968, 442, 525, 4102, 608, 2, 717, 80, 6685, 180, 2, 4, 5, 1, 445, 2553, 3148, 271, 662, 1438, 3, 905, 5541, 54, 14, 717, 80, 3]]\n"
     ]
    }
   ],
   "source": [
    "print(x_train_int[:3])"
   ]
  },
  {
   "cell_type": "code",
   "execution_count": 31,
   "id": "daa2a933",
   "metadata": {
    "ExecuteTime": {
     "end_time": "2022-05-27T08:44:36.671986Z",
     "start_time": "2022-05-27T08:44:36.658024Z"
    }
   },
   "outputs": [
    {
     "name": "stdout",
     "output_type": "stream",
     "text": [
      "[[96, 249, 281, 302, 74, 9, 2, 6, 1, 36, 147, 12, 423, 235, 1269, 1830, 90, 13368, 170, 281, 57, 1254, 13, 1601, 82, 90, 1004, 13369, 148, 369, 554, 865, 796, 4497, 2217, 1216, 1566, 307, 293, 1216, 845, 1216], [48, 126, 142, 2458, 794, 52, 2, 6, 1, 377, 295, 291, 116, 1, 259, 189, 147, 1, 135, 25, 26, 451, 3, 1681, 78, 48, 3, 734, 165, 1408, 796, 142, 2458, 794, 52], [2, 7, 19, 2, 4, 5, 1, 41, 44, 132, 520, 286, 132, 504, 10, 172, 71, 670, 585, 502, 374, 1060, 62, 454, 373, 11, 34, 479, 454, 6, 2, 6, 1, 23, 449, 670, 585, 502, 23]]\n"
     ]
    }
   ],
   "source": [
    "print(x_test_int[:3])"
   ]
  },
  {
   "cell_type": "markdown",
   "id": "f3d95ef7",
   "metadata": {},
   "source": [
    "## 제목 길이 기준 분포 확인"
   ]
  },
  {
   "cell_type": "code",
   "execution_count": 32,
   "id": "3cb3a9a8",
   "metadata": {
    "ExecuteTime": {
     "end_time": "2022-05-27T08:44:36.926309Z",
     "start_time": "2022-05-27T08:44:36.672983Z"
    },
    "scrolled": true
   },
   "outputs": [
    {
     "name": "stdout",
     "output_type": "stream",
     "text": [
      "최대 길이(단어의 수) : 65\n",
      "평균 길이 : 39\n"
     ]
    },
    {
     "data": {
      "image/png": "[encoded data removed]",
      "text/plain": [
       "<Figure size 864x576 with 1 Axes>"
      ]
     },
     "metadata": {
      "needs_background": "light"
     },
     "output_type": "display_data"
    }
   ],
   "source": [
    "print('최대 길이(단어의 수) :', max([(len(i)) for i in x_train_int]))\n",
    "print('평균 길이 :', sum([len(i) for i in x_train_int]) // len(x_train_int))\n",
    "plt.figure(figsize = (12, 8))\n",
    "plt.hist([len(i) for i in x_train_int], bins=90)\n",
    "plt.xlabel('length fo Data')\n",
    "plt.ylabel('number fo Data')\n",
    "plt.show()"
   ]
  },
  {
   "cell_type": "code",
   "execution_count": 33,
   "id": "65d49830",
   "metadata": {
    "ExecuteTime": {
     "end_time": "2022-05-27T08:44:37.120785Z",
     "start_time": "2022-05-27T08:44:36.927303Z"
    }
   },
   "outputs": [
    {
     "name": "stdout",
     "output_type": "stream",
     "text": [
      "최대 길이(단어의 수) : 66\n",
      "평균 길이 : 40\n"
     ]
    },
    {
     "data": {
      "image/png": "[encoded data removed]",
      "text/plain": [
       "<Figure size 864x576 with 1 Axes>"
      ]
     },
     "metadata": {
      "needs_background": "light"
     },
     "output_type": "display_data"
    }
   ],
   "source": [
    "print('최대 길이(단어의 수) :', max([(len(i)) for i in x_test_int]))\n",
    "print('평균 길이 :', sum([len(i) for i in x_test_int]) // len(x_test_int))\n",
    "plt.figure(figsize = (12, 8))\n",
    "plt.hist([len(i) for i in x_test_int], bins=90)\n",
    "plt.xlabel('length fo Data')\n",
    "plt.ylabel('number fo Data')\n",
    "plt.show()"
   ]
  },
  {
   "cell_type": "markdown",
   "id": "86c3abfb",
   "metadata": {},
   "source": [
    "## Padding\n",
    "\n",
    "- 길이를 길게 잡으면 학습 시간이 오래 걸림 --> 데이터 손실 최소화 + 효율성\n",
    "- 데이터가 비교적 적은 부분은 패딩으로 처리하는게 좋음.\n",
    "- maxlen의 인자로 정수를 주면, 해당 정수로 모든 문서의 길이를 동일\n",
    "\n",
    "**Ex) 길이가 5인 리스트가 있다면 5보다 작은 인덱스 값들은 0으로 패딩되고 5보다 큰 인덱스들은 즉, 6번째 인덱스부터는 데이터가 손실됨.**<br><br>\n",
    "**참고<br> https://wikidocs.net/83544 (2/5 지점)<br>http://www.nextobe.com/2020/05/14/%EA%B0%80%EB%B3%80-%EA%B8%B8%EC%9D%B4-%EC%9E%85%EB%A0%A5-%EC%8B%9C%ED%80%80%EC%8A%A4%EC%97%90-%EB%8C%80%ED%95%9C-%EB%8D%B0%EC%9D%B4%ED%84%B0-%EC%A4%80%EB%B9%84/<br>https://sig413.tistory.com/5**"
   ]
  },
  {
   "cell_type": "code",
   "execution_count": 34,
   "id": "d80dca85",
   "metadata": {
    "ExecuteTime": {
     "end_time": "2022-05-27T08:44:37.135744Z",
     "start_time": "2022-05-27T08:44:37.121782Z"
    }
   },
   "outputs": [],
   "source": [
    "from tensorflow.keras.preprocessing.sequence import pad_sequences"
   ]
  },
  {
   "cell_type": "code",
   "execution_count": 35,
   "id": "e48e5d1e",
   "metadata": {
    "ExecuteTime": {
     "end_time": "2022-05-27T08:44:37.150704Z",
     "start_time": "2022-05-27T08:44:37.136741Z"
    }
   },
   "outputs": [],
   "source": [
    "# 각 인덱스 길이대로 정렬\n",
    "x_train_int.sort(key=lambda x:len(x),reverse = True)\n",
    "x_test_int.sort(key=lambda x:len(x),reverse = True)"
   ]
  },
  {
   "cell_type": "code",
   "execution_count": 36,
   "id": "1f45508a",
   "metadata": {
    "ExecuteTime": {
     "end_time": "2022-05-27T08:44:37.165665Z",
     "start_time": "2022-05-27T08:44:37.151701Z"
    }
   },
   "outputs": [],
   "source": [
    "def limit_len(front, back, reset_list):\n",
    "    cnt = 0\n",
    "    for s in reset_list:\n",
    "        # if (front <= len(s) <= back):\n",
    "        if len(s) <= back:\n",
    "            cnt += 1\n",
    "    print('전체 학습 데이터 중 길이가 {} 이상 {} 이하인 비율 : {:.2f}%'.format(front, back,( cnt / len(x_train_int)) * 100))"
   ]
  },
  {
   "cell_type": "code",
   "execution_count": 37,
   "id": "e418ee30",
   "metadata": {
    "ExecuteTime": {
     "end_time": "2022-05-27T08:44:37.180628Z",
     "start_time": "2022-05-27T08:44:37.166663Z"
    }
   },
   "outputs": [
    {
     "name": "stdout",
     "output_type": "stream",
     "text": [
      "전체 학습 데이터 중 길이가 0 이상 60 이하인 비율 : 99.91%\n"
     ]
    }
   ],
   "source": [
    "# min_len = 4 / max_len = 14\n",
    "# 앞선 제목의 평균 길이 그래프를 보면 ( 4 <= idx_num <= 14 ) 범위를 벗어난 인덱스들은 데이터가 현저히 적음.\n",
    "limit_len(0, 60, x_train_int)"
   ]
  },
  {
   "cell_type": "markdown",
   "id": "acb4cf1a",
   "metadata": {},
   "source": [
    "**일단 14이하인 것만 패딩 --> 나중에 시간되면 4이상 14이하인 부분만 패딩하도록 전처리 필요**\n",
    "<br>\n",
    "**pad_sequences post / defalut로 각각 한번씩 해주면 됨.**"
   ]
  },
  {
   "cell_type": "code",
   "execution_count": 38,
   "id": "b00d5ad6",
   "metadata": {
    "ExecuteTime": {
     "end_time": "2022-05-27T08:44:37.195589Z",
     "start_time": "2022-05-27T08:44:37.181623Z"
    }
   },
   "outputs": [],
   "source": [
    "max_len = 60"
   ]
  },
  {
   "cell_type": "code",
   "execution_count": 39,
   "id": "221ad7de",
   "metadata": {
    "ExecuteTime": {
     "end_time": "2022-05-27T08:44:37.210548Z",
     "start_time": "2022-05-27T08:44:37.196583Z"
    }
   },
   "outputs": [],
   "source": [
    "# x_train_final --> x_train"
   ]
  },
  {
   "cell_type": "code",
   "execution_count": 40,
   "id": "7aa23e2a",
   "metadata": {
    "ExecuteTime": {
     "end_time": "2022-05-27T08:44:37.300332Z",
     "start_time": "2022-05-27T08:44:37.211543Z"
    }
   },
   "outputs": [],
   "source": [
    "X_train = pad_sequences(x_train_int, maxlen = max_len)"
   ]
  },
  {
   "cell_type": "code",
   "execution_count": 41,
   "id": "353817a2",
   "metadata": {
    "ExecuteTime": {
     "end_time": "2022-05-27T08:44:37.330224Z",
     "start_time": "2022-05-27T08:44:37.301302Z"
    }
   },
   "outputs": [],
   "source": [
    "X_test = pad_sequences(x_test_int, maxlen = max_len)"
   ]
  },
  {
   "cell_type": "markdown",
   "id": "89ce48fd",
   "metadata": {},
   "source": [
    "## One-Hot-Encoding\n",
    "\n",
    "- 단어 집합의 크기를 벡터로 변환하고, 표현하고 싶은 단어 인덱스에 1의 값 부여하고, 다른 인덱스는 0을 부여하는 단어의 벡터 표현 방식\n",
    "- 즉, 1개만 Hot(True)이고 나머지는 Cold(False)\n",
    "\n",
    "※ 벡터 (1차원)  /  행렬 (2차원)  /  배열 (3차원)  /  텐서 (3차원 이상)\n",
    "<br>\n",
    "<br>\n",
    "**참고 : https://godcode.tistory.com/9?category=908926**"
   ]
  },
  {
   "cell_type": "code",
   "execution_count": 42,
   "id": "dc100856",
   "metadata": {
    "ExecuteTime": {
     "end_time": "2022-05-27T08:44:37.360173Z",
     "start_time": "2022-05-27T08:44:37.331222Z"
    }
   },
   "outputs": [
    {
     "data": {
      "text/plain": [
       "{'은행': 1,\n",
       " 'dgb': 2,\n",
       " '을': 3,\n",
       " '대': 4,\n",
       " '구': 5,\n",
       " '대구': 6,\n",
       " '금융': 7,\n",
       " '장': 8,\n",
       " '에서': 9,\n",
       " '지역': 10,\n",
       " '밝히다': 11,\n",
       " '등': 12,\n",
       " '로': 13,\n",
       " '있다': 14,\n",
       " '\\xa0': 15,\n",
       " '되다': 16,\n",
       " '제': 17,\n",
       " '위해': 18,\n",
       " '그룹': 19,\n",
       " '대출': 20,\n",
       " '하고': 21,\n",
       " '지원': 22,\n",
       " '본점': 23,\n",
       " '및': 24,\n",
       " '코로나': 25,\n",
       " '19': 26,\n",
       " '제공': 27,\n",
       " '고객': 28,\n",
       " '임성훈': 29,\n",
       " '이다': 30,\n",
       " '회장': 31,\n",
       " '전': 32,\n",
       " '기업': 33,\n",
       " '지난': 34,\n",
       " '서비스': 35,\n",
       " '경북': 36,\n",
       " '위': 37,\n",
       " '2': 38,\n",
       " '진행': 39,\n",
       " '적': 40,\n",
       " '투자': 41,\n",
       " '따르다': 42,\n",
       " '실시': 43,\n",
       " '증권': 44,\n",
       " '김태오': 45,\n",
       " '사진': 46,\n",
       " '지주': 47,\n",
       " '협약': 48,\n",
       " '부터': 49,\n",
       " '이번': 50,\n",
       " '업무': 51,\n",
       " '원': 52,\n",
       " '영업': 53,\n",
       " '수': 54,\n",
       " '상품': 55,\n",
       " '전달': 56,\n",
       " '기': 57,\n",
       " '하이': 58,\n",
       " 'im': 59,\n",
       " '직원': 60,\n",
       " '까지': 61,\n",
       " '센터': 62,\n",
       " '계열': 63,\n",
       " '개': 64,\n",
       " '통해': 65,\n",
       " '함께': 66,\n",
       " '1': 67,\n",
       " '오다': 68,\n",
       " '뱅크': 69,\n",
       " '사회': 70,\n",
       " '지점': 71,\n",
       " '사랑': 72,\n",
       " '명': 73,\n",
       " '행사': 74,\n",
       " '금리': 75,\n",
       " 'bnk': 76,\n",
       " '대상': 77,\n",
       " '비대': 78,\n",
       " '순이익': 79,\n",
       " '적금': 80,\n",
       " '부산': 81,\n",
       " '돼다': 82,\n",
       " '디지털': 83,\n",
       " '카드': 84,\n",
       " '식': 85,\n",
       " '기자': 86,\n",
       " '사업': 87,\n",
       " '받다': 88,\n",
       " '자금': 89,\n",
       " '경': 90,\n",
       " '대비': 91,\n",
       " '이벤트': 92,\n",
       " '지난해': 93,\n",
       " '신용': 94,\n",
       " '채용': 95,\n",
       " '날': 96,\n",
       " '경영': 97,\n",
       " '▲': 98,\n",
       " '기념': 99,\n",
       " '증가': 100,\n",
       " '활성화': 101,\n",
       " '체결': 102,\n",
       " '모바일': 103,\n",
       " '올해': 104,\n",
       " '캐피탈': 105,\n",
       " '출시': 106,\n",
       " '년': 107,\n",
       " '달': 108,\n",
       " '대구시': 109,\n",
       " '성': 110,\n",
       " '것': 111,\n",
       " '비': 112,\n",
       " '지방': 113,\n",
       " '△': 114,\n",
       " '산업': 115,\n",
       " '중소기업': 116,\n",
       " '5': 117,\n",
       " '▷': 118,\n",
       " '대표': 119,\n",
       " '사': 120,\n",
       " '기술': 121,\n",
       " '계': 122,\n",
       " '에게': 123,\n",
       " '앱': 124,\n",
       " '경제': 125,\n",
       " '에는': 126,\n",
       " '중': 127,\n",
       " '크다': 128,\n",
       " '다양하다': 129,\n",
       " '사인': 130,\n",
       " '연': 131,\n",
       " '점포': 132,\n",
       " '주': 133,\n",
       " '이익': 134,\n",
       " '참여': 135,\n",
       " '권': 136,\n",
       " '맞다': 137,\n",
       " '내': 138,\n",
       " '재단': 139,\n",
       " '특별': 140,\n",
       " '핀': 141,\n",
       " '한국': 142,\n",
       " '소': 143,\n",
       " '피해': 144,\n",
       " '관련': 145,\n",
       " '보증': 146,\n",
       " '농협': 147,\n",
       " '공': 148,\n",
       " '이용': 149,\n",
       " '점': 150,\n",
       " '나눔': 151,\n",
       " '경남': 152,\n",
       " '통한': 153,\n",
       " '보다': 154,\n",
       " '규모': 155,\n",
       " '운영': 156,\n",
       " '개최': 157,\n",
       " '3': 158,\n",
       " 'bc': 159,\n",
       " '행': 160,\n",
       " '화': 161,\n",
       " '성금': 162,\n",
       " '공인': 163,\n",
       " '캄보디아': 164,\n",
       " '신': 165,\n",
       " '세': 166,\n",
       " '가입': 167,\n",
       " '판매': 168,\n",
       " '주년': 169,\n",
       " '장이': 170,\n",
       " '대다': 171,\n",
       " '최초': 172,\n",
       " '이상': 173,\n",
       " 'sk': 174,\n",
       " '광주': 175,\n",
       " '당': 176,\n",
       " '플랫폼': 177,\n",
       " '시': 178,\n",
       " '실적': 179,\n",
       " '관리': 180,\n",
       " '계층': 181,\n",
       " '일': 182,\n",
       " '늘다': 183,\n",
       " '활동': 184,\n",
       " '후': 185,\n",
       " '주력': 186,\n",
       " '겪다': 187,\n",
       " '시장': 188,\n",
       " 'nh': 189,\n",
       " '총': 190,\n",
       " '생명': 191,\n",
       " '인증': 192,\n",
       " '곳': 193,\n",
       " '문': 194,\n",
       " '28일': 195,\n",
       " '할인': 196,\n",
       " '수성동': 197,\n",
       " '텔레콤': 198,\n",
       " '방문': 199,\n",
       " '기반': 200,\n",
       " '혁신': 201,\n",
       " 'esg': 202,\n",
       " '어려움': 203,\n",
       " '확대': 204,\n",
       " '말': 205,\n",
       " '적십자사': 206,\n",
       " '활용': 207,\n",
       " '소상': 208,\n",
       " '전북': 209,\n",
       " '예': 210,\n",
       " '뱅킹': 211,\n",
       " '10': 212,\n",
       " '확산': 213,\n",
       " '1일': 214,\n",
       " '창립': 215,\n",
       " '뉴스': 216,\n",
       " '환경': 217,\n",
       " '6일': 218,\n",
       " '동기': 219,\n",
       " '7일': 220,\n",
       " '회': 221,\n",
       " '최근': 222,\n",
       " '층': 223,\n",
       " '8일': 224,\n",
       " 'kb': 225,\n",
       " '담보': 226,\n",
       " '강화': 227,\n",
       " '형': 228,\n",
       " '대한': 229,\n",
       " '프로그램': 230,\n",
       " '열사': 231,\n",
       " '영': 232,\n",
       " '개선': 233,\n",
       " '최대': 234,\n",
       " '개인': 235,\n",
       " '서': 236,\n",
       " '6': 237,\n",
       " '감소': 238,\n",
       " '관계자': 239,\n",
       " '예정': 240,\n",
       " '각각': 241,\n",
       " '본부': 242,\n",
       " '선정': 243,\n",
       " '급': 244,\n",
       " '페이': 245,\n",
       " '주택': 246,\n",
       " 'ibk': 247,\n",
       " '적용': 248,\n",
       " '열리다': 249,\n",
       " '전국': 250,\n",
       " '4': 251,\n",
       " '후보': 252,\n",
       " '간': 253,\n",
       " '분야': 254,\n",
       " '최종': 255,\n",
       " '장기': 256,\n",
       " '4일': 257,\n",
       " '기업은행': 258,\n",
       " '하나은행': 259,\n",
       " '종합': 260,\n",
       " '상공': 261,\n",
       " '단': 262,\n",
       " '기록': 263,\n",
       " '취약': 264,\n",
       " '현': 265,\n",
       " '부': 266,\n",
       " '실천': 267,\n",
       " '상반기': 268,\n",
       " '문화': 269,\n",
       " '21일': 270,\n",
       " '기간': 271,\n",
       " '회복': 272,\n",
       " '독도': 273,\n",
       " '시스템': 274,\n",
       " '법인': 275,\n",
       " '시작': 276,\n",
       " '구축': 277,\n",
       " '버스': 278,\n",
       " '30일': 279,\n",
       " '마케팅': 280,\n",
       " '첫': 281,\n",
       " '거래': 282,\n",
       " '봉사': 283,\n",
       " '27일': 284,\n",
       " '한도': 285,\n",
       " '복합': 286,\n",
       " '협력': 287,\n",
       " '신종': 288,\n",
       " '본부장': 289,\n",
       " '메타': 290,\n",
       " '우리은행': 291,\n",
       " '편의': 292,\n",
       " '캠페인': 293,\n",
       " '공개': 294,\n",
       " '신한은행': 295,\n",
       " '역': 296,\n",
       " '나서다': 297,\n",
       " '대구광역시': 298,\n",
       " '부행': 299,\n",
       " '행복': 300,\n",
       " '다음': 301,\n",
       " '기부': 302,\n",
       " '선보이다': 303,\n",
       " '김': 304,\n",
       " '29일': 305,\n",
       " '가운데': 306,\n",
       " '홍보': 307,\n",
       " '지사': 308,\n",
       " '현지': 309,\n",
       " '극복': 310,\n",
       " '10월': 311,\n",
       " '추진': 312,\n",
       " '구미': 313,\n",
       " '14일': 314,\n",
       " '17일': 315,\n",
       " '보안': 316,\n",
       " '결제': 317,\n",
       " '신규': 318,\n",
       " '개발': 319,\n",
       " '이하': 320,\n",
       " '부동산': 321,\n",
       " '테크': 322,\n",
       " '25일': 323,\n",
       " '평가': 324,\n",
       " '참석': 325,\n",
       " '신청': 326,\n",
       " '계좌': 327,\n",
       " '후원': 328,\n",
       " '성장': 329,\n",
       " '확인': 330,\n",
       " '9월': 331,\n",
       " '16일': 332,\n",
       " '가능하다': 333,\n",
       " '24일': 334,\n",
       " '이후': 335,\n",
       " '부장': 336,\n",
       " '모집': 337,\n",
       " '앞두다': 338,\n",
       " '18일': 339,\n",
       " '10일': 340,\n",
       " '주요': 341,\n",
       " '열다': 342,\n",
       " '이웃': 343,\n",
       " '비롯': 344,\n",
       " '전용': 345,\n",
       " '글로벌': 346,\n",
       " '여': 347,\n",
       " '20일': 348,\n",
       " '대표이사': 349,\n",
       " '두': 350,\n",
       " 'sc': 351,\n",
       " '위원회': 352,\n",
       " '왼쪽': 353,\n",
       " '약': 354,\n",
       " '오후': 355,\n",
       " '희망': 356,\n",
       " '같다': 357,\n",
       " '전문': 358,\n",
       " '지속': 359,\n",
       " '인하다': 360,\n",
       " '기존': 361,\n",
       " 'jb': 362,\n",
       " '기준': 363,\n",
       " '기관': 364,\n",
       " '데이터': 365,\n",
       " '자산': 366,\n",
       " '임원': 367,\n",
       " '코로나바이러스': 368,\n",
       " '동': 369,\n",
       " '외화': 370,\n",
       " '추석': 371,\n",
       " '19일': 372,\n",
       " '9일': 373,\n",
       " 'dignity': 374,\n",
       " '26일': 375,\n",
       " '혜택': 376,\n",
       " '국민은행': 377,\n",
       " '저': 378,\n",
       " '3일': 379,\n",
       " '2일': 380,\n",
       " '23일': 381,\n",
       " '이자': 382,\n",
       " '오전': 383,\n",
       " '대해': 384,\n",
       " '감염증': 385,\n",
       " '은행권': 386,\n",
       " '사용': 387,\n",
       " '2021': 388,\n",
       " '부문': 389,\n",
       " '복지': 390,\n",
       " '채널': 391,\n",
       " 'it': 392,\n",
       " '나': 393,\n",
       " '원금': 394,\n",
       " '침체': 395,\n",
       " '이사장': 396,\n",
       " '예금': 397,\n",
       " '13일': 398,\n",
       " '5일': 399,\n",
       " '3분': 400,\n",
       " '새롭다': 401,\n",
       " '헌': 402,\n",
       " '오픈': 403,\n",
       " '◆': 404,\n",
       " '매입': 405,\n",
       " '2021년': 406,\n",
       " 'ceo': 407,\n",
       " '명절': 408,\n",
       " '펀드': 409,\n",
       " '15일': 410,\n",
       " '씨': 411,\n",
       " '공동': 412,\n",
       " '초': 413,\n",
       " '22일': 414,\n",
       " '우대': 415,\n",
       " '2019년': 416,\n",
       " '업체': 417,\n",
       " '사태': 418,\n",
       " '지난달': 419,\n",
       " '계획': 420,\n",
       " '달성': 421,\n",
       " '추천': 422,\n",
       " '동참': 423,\n",
       " '6월': 424,\n",
       " '차기': 425,\n",
       " '경기': 426,\n",
       " '에서는': 427,\n",
       " '현재': 428,\n",
       " '상생': 429,\n",
       " '북구': 430,\n",
       " '아동': 431,\n",
       " '마련': 432,\n",
       " '교육': 433,\n",
       " '협업': 434,\n",
       " '상': 435,\n",
       " '예방': 436,\n",
       " '조성': 437,\n",
       " '손잡다': 438,\n",
       " '간편': 439,\n",
       " '대회': 440,\n",
       " '의료': 441,\n",
       " '7': 442,\n",
       " '촬영': 443,\n",
       " '생활': 444,\n",
       " '1년': 445,\n",
       " '세대': 446,\n",
       " '방역': 447,\n",
       " '발표': 448,\n",
       " '위치': 449,\n",
       " '금': 450,\n",
       " '상황': 451,\n",
       " '창업': 452,\n",
       " '100만원': 453,\n",
       " '개점': 454,\n",
       " '139130': 455,\n",
       " '일환': 456,\n",
       " '시행': 457,\n",
       " '언택트': 458,\n",
       " '미래': 459,\n",
       " '자회사': 460,\n",
       " '2020년': 461,\n",
       " '특히': 462,\n",
       " '민': 463,\n",
       " '또': 464,\n",
       " '양자': 465,\n",
       " '기금': 466,\n",
       " '통합': 467,\n",
       " '크게': 468,\n",
       " '12일': 469,\n",
       " '하락': 470,\n",
       " '시대': 471,\n",
       " '서울': 472,\n",
       " '않다': 473,\n",
       " '제휴': 474,\n",
       " '하반기': 475,\n",
       " '11일': 476,\n",
       " '누적': 477,\n",
       " '건물': 478,\n",
       " '5월': 479,\n",
       " '회의': 480,\n",
       " '경상북도': 481,\n",
       " '상무': 482,\n",
       " '온라인': 483,\n",
       " '속': 484,\n",
       " '근무': 485,\n",
       " '8': 486,\n",
       " '경우': 487,\n",
       " '랩': 488,\n",
       " 't': 489,\n",
       " '추가': 490,\n",
       " '각': 491,\n",
       " '발급': 492,\n",
       " '사의': 493,\n",
       " '에도': 494,\n",
       " '안정': 495,\n",
       " '순': 496,\n",
       " '1분': 497,\n",
       " '증정': 498,\n",
       " '운동': 499,\n",
       " '분석': 500,\n",
       " '경쟁력': 501,\n",
       " '티': 502,\n",
       " '수성구': 503,\n",
       " '수도권': 504,\n",
       " '해당': 505,\n",
       " '없다': 506,\n",
       " '내다': 507,\n",
       " '추다': 508,\n",
       " '위기': 509,\n",
       " '육성': 510,\n",
       " '샵': 511,\n",
       " '국내': 512,\n",
       " '무': 513,\n",
       " '소비자': 514,\n",
       " '확진': 515,\n",
       " '▷㈜': 516,\n",
       " '규제': 517,\n",
       " ';': 518,\n",
       " '13': 519,\n",
       " '결합': 520,\n",
       " '높다': 521,\n",
       " '대면': 522,\n",
       " '자산운용': 523,\n",
       " '회사': 524,\n",
       " '개월': 525,\n",
       " '퇴직': 526,\n",
       " '일자리': 527,\n",
       " '사가': 528,\n",
       " '겸': 529,\n",
       " '공모전': 530,\n",
       " '인터넷': 531,\n",
       " '번째': 532,\n",
       " '취임': 533,\n",
       " '적극': 534,\n",
       " '전세': 535,\n",
       " '설': 536,\n",
       " '가장': 537,\n",
       " '소재': 538,\n",
       " '역시': 539,\n",
       " '상품권': 540,\n",
       " '우리카드': 541,\n",
       " '수협': 542,\n",
       " '포함': 543,\n",
       " '가지다': 544,\n",
       " '접수': 545,\n",
       " '책임': 546,\n",
       " '안전': 547,\n",
       " '상담': 548,\n",
       " '수준': 549,\n",
       " '앞서': 550,\n",
       " '조회': 551,\n",
       " '봉사활동': 552,\n",
       " '인재': 553,\n",
       " '모': 554,\n",
       " '경품': 555,\n",
       " '비교': 556,\n",
       " '가족': 557,\n",
       " '광복절': 558,\n",
       " '전체': 559,\n",
       " '매년': 560,\n",
       " '역량': 561,\n",
       " '소통': 562,\n",
       " '이르다': 563,\n",
       " '위원장': 564,\n",
       " 'high': 565,\n",
       " '우대금리': 566,\n",
       " '보내다': 567,\n",
       " '환전': 568,\n",
       " '상공회의소': 569,\n",
       " '50만원': 570,\n",
       " '뉴데일리': 571,\n",
       " '복지관': 572,\n",
       " '제한': 573,\n",
       " '플': 574,\n",
       " '경력': 575,\n",
       " '구매': 576,\n",
       " '차': 577,\n",
       " '시설': 578,\n",
       " '하나': 579,\n",
       " '공사': 580,\n",
       " '설명': 581,\n",
       " '호': 582,\n",
       " '여명': 583,\n",
       " '㈜': 584,\n",
       " '니': 585,\n",
       " '신입': 586,\n",
       " '포항': 587,\n",
       " '그': 588,\n",
       " '칠성동': 589,\n",
       " '최병수': 590,\n",
       " '발생': 591,\n",
       " '시중': 592,\n",
       " '서민': 593,\n",
       " '소외': 594,\n",
       " '스타트업': 595,\n",
       " '특수은행': 596,\n",
       " '기획': 597,\n",
       " '포인트': 598,\n",
       " '피우다': 599,\n",
       " '차량': 600,\n",
       " '도입': 601,\n",
       " '창': 602,\n",
       " '결과': 603,\n",
       " '대학생': 604,\n",
       " '모두': 605,\n",
       " '양사': 606,\n",
       " '여의도': 607,\n",
       " '새해': 608,\n",
       " '목표': 609,\n",
       " '한편': 610,\n",
       " '보유': 611,\n",
       " '군': 612,\n",
       " '■': 613,\n",
       " '발전': 614,\n",
       " '없이': 615,\n",
       " '20': 616,\n",
       " '베트남': 617,\n",
       " '31일': 618,\n",
       " '지능': 619,\n",
       " '일시': 620,\n",
       " '출범': 621,\n",
       " '1월': 622,\n",
       " '3월': 623,\n",
       " '스마트': 624,\n",
       " '현장': 625,\n",
       " '업계': 626,\n",
       " '협회': 627,\n",
       " '연말': 628,\n",
       " '청소년': 629,\n",
       " '특판': 630,\n",
       " '저축은행': 631,\n",
       " '상업': 632,\n",
       " '1000억원': 633,\n",
       " '2018년': 634,\n",
       " '씨티': 635,\n",
       " '우리': 636,\n",
       " '만들다': 637,\n",
       " '물품': 638,\n",
       " '방안': 639,\n",
       " '지부': 640,\n",
       " '선임': 641,\n",
       " '기탁': 642,\n",
       " '중인': 643,\n",
       " '9': 644,\n",
       " '급여': 645,\n",
       " '들다': 646,\n",
       " '방식': 647,\n",
       " '편의점': 648,\n",
       " '직접': 649,\n",
       " '전략': 650,\n",
       " '가다': 651,\n",
       " '차원': 652,\n",
       " '늘어나다': 653,\n",
       " '데': 654,\n",
       " '무료': 655,\n",
       " '비상': 656,\n",
       " '최고': 657,\n",
       " '8월': 658,\n",
       " '취급': 659,\n",
       " '2020': 660,\n",
       " '새': 661,\n",
       " '동안': 662,\n",
       " '인사': 663,\n",
       " '중심': 664,\n",
       " '실명': 665,\n",
       " '시즌': 666,\n",
       " '과정': 667,\n",
       " '하나카드': 668,\n",
       " '10억원': 669,\n",
       " '디그': 670,\n",
       " '4월': 671,\n",
       " '인식': 672,\n",
       " '조': 673,\n",
       " '수익': 674,\n",
       " '청구': 675,\n",
       " '설날': 676,\n",
       " 'mz': 677,\n",
       " '인공': 678,\n",
       " '병원': 679,\n",
       " '돌파': 680,\n",
       " '핵심': 681,\n",
       " '전경': 682,\n",
       " '컨설팅': 683,\n",
       " '통장': 684,\n",
       " '쓰다': 685,\n",
       " '사주': 686,\n",
       " '시청': 687,\n",
       " '국': 688,\n",
       " '창구': 689,\n",
       " '개설': 690,\n",
       " '많다': 691,\n",
       " '누구': 692,\n",
       " '정책': 693,\n",
       " '영향': 694,\n",
       " '영상': 695,\n",
       " '해외': 696,\n",
       " 'g': 697,\n",
       " '자금난': 698,\n",
       " '이나': 699,\n",
       " '별': 700,\n",
       " '상호': 701,\n",
       " '결정': 702,\n",
       " '아니다': 703,\n",
       " '반': 704,\n",
       " 'p': 705,\n",
       " '홈페이지': 706,\n",
       " '협의': 707,\n",
       " '도시락': 708,\n",
       " '가상': 709,\n",
       " '재': 710,\n",
       " '담다': 711,\n",
       " '회원': 712,\n",
       " '전통': 713,\n",
       " '맞추다': 714,\n",
       " '당시': 715,\n",
       " '청년': 716,\n",
       " '세븐': 717,\n",
       " '추첨': 718,\n",
       " 'sh': 719,\n",
       " '액': 720,\n",
       " '친환경': 721,\n",
       " '구성': 722,\n",
       " '관심': 723,\n",
       " '금은': 724,\n",
       " '구입': 725,\n",
       " '돕기': 726,\n",
       " '주다': 727,\n",
       " '수출': 728,\n",
       " '7월': 729,\n",
       " '5000억원': 730,\n",
       " '팀': 731,\n",
       " '국제': 732,\n",
       " '인수': 733,\n",
       " '맺다': 734,\n",
       " '정보보호': 735,\n",
       " '시장경제': 736,\n",
       " '프로젝트': 737,\n",
       " 'wm': 738,\n",
       " '내달': 739,\n",
       " '여름': 740,\n",
       " '이라고': 741,\n",
       " '금액': 742,\n",
       " '여신': 743,\n",
       " '2월': 744,\n",
       " '장학금': 745,\n",
       " '2년': 746,\n",
       " '54': 747,\n",
       " '고도화': 748,\n",
       " '수수료': 749,\n",
       " '카카오': 750,\n",
       " '먼저': 751,\n",
       " '구미시': 752,\n",
       " '뒤': 753,\n",
       " 'kdb': 754,\n",
       " '특': 755,\n",
       " '확보': 756,\n",
       " '지정': 757,\n",
       " '공단': 758,\n",
       " '대응': 759,\n",
       " '피다': 760,\n",
       " '가능': 761,\n",
       " '당기다': 762,\n",
       " '마이': 763,\n",
       " '우수': 764,\n",
       " '절차': 765,\n",
       " '시상식': 766,\n",
       " '보험': 767,\n",
       " '론': 768,\n",
       " '기여': 769,\n",
       " '분': 770,\n",
       " '체험': 771,\n",
       " '시키다': 772,\n",
       " '네이버': 773,\n",
       " '검찰': 774,\n",
       " '유예': 775,\n",
       " '건': 776,\n",
       " '본격': 777,\n",
       " '삼성': 778,\n",
       " '강승탁': 779,\n",
       " '꽃': 780,\n",
       " '핫': 781,\n",
       " '연금': 782,\n",
       " '힘': 783,\n",
       " '백': 784,\n",
       " '유': 785,\n",
       " '설치': 786,\n",
       " '일본': 787,\n",
       " '진': 788,\n",
       " '주가': 789,\n",
       " '월간': 790,\n",
       " '공헌': 791,\n",
       " '찾다': 792,\n",
       " 'cnb': 793,\n",
       " '진흥': 794,\n",
       " '선': 795,\n",
       " '앞': 796,\n",
       " '개소식': 797,\n",
       " '신탁': 798,\n",
       " '로부터': 799,\n",
       " '리테일': 800,\n",
       " '또는': 801,\n",
       " '대사': 802,\n",
       " '맞이': 803,\n",
       " '얼굴': 804,\n",
       " '양일': 805,\n",
       " '상당': 806,\n",
       " '네트워크': 807,\n",
       " '마스크': 808,\n",
       " '인력': 809,\n",
       " '상승': 810,\n",
       " '정보': 811,\n",
       " '11월': 812,\n",
       " '노동조합': 813,\n",
       " '업자': 814,\n",
       " '빅데이터': 815,\n",
       " '충전': 816,\n",
       " '시민': 817,\n",
       " '자영': 818,\n",
       " '양': 819,\n",
       " '일부': 820,\n",
       " '우체국': 821,\n",
       " '이렇다': 822,\n",
       " '의회': 823,\n",
       " '만에': 824,\n",
       " '어렵다': 825,\n",
       " '중이': 826,\n",
       " '소비': 827,\n",
       " '폐쇄': 828,\n",
       " '전기차': 829,\n",
       " '지배구조': 830,\n",
       " '스': 831,\n",
       " '12': 832,\n",
       " '사고': 833,\n",
       " '애로': 834,\n",
       " 'ict': 835,\n",
       " '판정': 836,\n",
       " '월': 837,\n",
       " '▶': 838,\n",
       " '대금': 839,\n",
       " '12월': 840,\n",
       " '지구': 841,\n",
       " 'pb': 842,\n",
       " '세계': 843,\n",
       " '시간': 844,\n",
       " '금융기관': 845,\n",
       " '국가': 846,\n",
       " '만족도': 847,\n",
       " '제주': 848,\n",
       " '확': 849,\n",
       " '본': 850,\n",
       " '단체': 851,\n",
       " '어린이': 852,\n",
       " '에서도': 853,\n",
       " '시너지': 854,\n",
       " '나가다': 855,\n",
       " 'ai': 856,\n",
       " '발행': 857,\n",
       " '진출': 858,\n",
       " '5%': 859,\n",
       " '담비': 860,\n",
       " '헌혈': 861,\n",
       " '연탄': 862,\n",
       " '성과': 863,\n",
       " '도청': 864,\n",
       " '금회': 865,\n",
       " '직장인': 866,\n",
       " '때문': 867,\n",
       " '용': 868,\n",
       " '1억원': 869,\n",
       " '본사': 870,\n",
       " '세븐일레븐': 871,\n",
       " '휴가': 872,\n",
       " '해': 873,\n",
       " '온누리상품권': 874,\n",
       " '또한': 875,\n",
       " '가계': 876,\n",
       " 'sns': 877,\n",
       " '학생': 878,\n",
       " '심사': 879,\n",
       " '익': 880,\n",
       " '간편하다': 881,\n",
       " '계약': 882,\n",
       " '추위': 883,\n",
       " '본인': 884,\n",
       " '율': 885,\n",
       " '비리': 886,\n",
       " '설립': 887,\n",
       " 'm': 888,\n",
       " '과의': 889,\n",
       " '작년': 890,\n",
       " '진자': 891,\n",
       " '주민': 892,\n",
       " '장애인': 893,\n",
       " '노조': 894,\n",
       " '보호': 895,\n",
       " '인상': 896,\n",
       " '_': 897,\n",
       " '격려': 898,\n",
       " '비중': 899,\n",
       " '사기': 900,\n",
       " '모으다': 901,\n",
       " '뿐': 902,\n",
       " '유구현': 903,\n",
       " '오늘': 904,\n",
       " '꾸준하다': 905,\n",
       " '화로': 906,\n",
       " '5억원': 907,\n",
       " '자리': 908,\n",
       " '겸직': 909,\n",
       " '적립': 910,\n",
       " '특화': 911,\n",
       " '똑디': 912,\n",
       " '동행': 913,\n",
       " '혐의': 914,\n",
       " '내용': 915,\n",
       " '발대식': 916,\n",
       " '코': 917,\n",
       " '안면': 918,\n",
       " '중단': 919,\n",
       " '방지': 920,\n",
       " '번': 921,\n",
       " '매일신문': 922,\n",
       " '공간': 923,\n",
       " '이며': 924,\n",
       " '리스크': 925,\n",
       " '아': 926,\n",
       " '력': 927,\n",
       " '두다': 928,\n",
       " '100': 929,\n",
       " '따뜻하다': 930,\n",
       " '경산': 931,\n",
       " '입다': 932,\n",
       " '외환': 933,\n",
       " '채다': 934,\n",
       " '아이디어': 935,\n",
       " '석': 936,\n",
       " '소득': 937,\n",
       " '부부': 938,\n",
       " '권영진': 939,\n",
       " '출장소': 940,\n",
       " '브랜드': 941,\n",
       " '노력': 942,\n",
       " '린지': 943,\n",
       " '필요하다': 944,\n",
       " '온': 945,\n",
       " '내년': 946,\n",
       " '1만': 947,\n",
       " '지급': 948,\n",
       " '공식': 949,\n",
       " '제외': 950,\n",
       " '직': 951,\n",
       " '정부': 952,\n",
       " '중앙': 953,\n",
       " '지표': 954,\n",
       " '수익률': 955,\n",
       " '릴레이': 956,\n",
       " '뜻': 957,\n",
       " '카': 958,\n",
       " '못': 959,\n",
       " '관광': 960,\n",
       " '정기예금': 961,\n",
       " '관': 962,\n",
       " '더': 963,\n",
       " '매출': 964,\n",
       " '중소': 965,\n",
       " '50': 966,\n",
       " '기능': 967,\n",
       " '1천': 968,\n",
       " '당국': 969,\n",
       " '부점': 970,\n",
       " '도움': 971,\n",
       " '증대': 972,\n",
       " '글판': 973,\n",
       " '비다': 974,\n",
       " '어르신': 975,\n",
       " '체크카드': 976,\n",
       " '검사': 977,\n",
       " '마음': 978,\n",
       " '평균': 979,\n",
       " '이체': 980,\n",
       " '웹': 981,\n",
       " '임대료': 982,\n",
       " '긴급': 983,\n",
       " '획득': 984,\n",
       " '쉬다': 985,\n",
       " '중순': 986,\n",
       " '조정': 987,\n",
       " '우선': 988,\n",
       " '조건': 989,\n",
       " '나타나다': 990,\n",
       " '‧': 991,\n",
       " '1%': 992,\n",
       " '보이다': 993,\n",
       " 'irp': 994,\n",
       " '장학재단': 995,\n",
       " '200만원': 996,\n",
       " '강화하다': 997,\n",
       " '호점': 998,\n",
       " '전면': 999,\n",
       " '주의': 1000,\n",
       " ...}"
      ]
     },
     "execution_count": 42,
     "metadata": {},
     "output_type": "execute_result"
    }
   ],
   "source": [
    "tokenizer.word_index"
   ]
  },
  {
   "cell_type": "code",
   "execution_count": 43,
   "id": "04e7c2ba",
   "metadata": {
    "ExecuteTime": {
     "end_time": "2022-05-27T08:44:37.375104Z",
     "start_time": "2022-05-27T08:44:37.361142Z"
    }
   },
   "outputs": [
    {
     "data": {
      "text/plain": [
       "14428"
      ]
     },
     "execution_count": 43,
     "metadata": {},
     "output_type": "execute_result"
    }
   ],
   "source": [
    "len(tokenizer.word_index)"
   ]
  },
  {
   "cell_type": "markdown",
   "id": "eeb566c1",
   "metadata": {},
   "source": [
    "## get dummies --> 원핫인코딩"
   ]
  },
  {
   "cell_type": "code",
   "execution_count": 44,
   "id": "d685770c",
   "metadata": {
    "ExecuteTime": {
     "end_time": "2022-05-27T08:44:37.390092Z",
     "start_time": "2022-05-27T08:44:37.376102Z"
    }
   },
   "outputs": [],
   "source": [
    "# pd.get_dummies()로 쉽게 원핫인코딩 가능.\n",
    "\n",
    "y_train = pd.get_dummies(x_train['label']).to_numpy()\n",
    "y_test = pd.get_dummies(x_test['label']).to_numpy()"
   ]
  },
  {
   "cell_type": "code",
   "execution_count": 45,
   "id": "ae5e21b1",
   "metadata": {
    "ExecuteTime": {
     "end_time": "2022-05-27T08:44:37.405024Z",
     "start_time": "2022-05-27T08:44:37.391062Z"
    }
   },
   "outputs": [],
   "source": [
    "# y_train = list()\n",
    "# y_test = list()\n",
    "# X_train['label'].unique().tolist()"
   ]
  },
  {
   "cell_type": "code",
   "execution_count": 46,
   "id": "c8255942",
   "metadata": {
    "ExecuteTime": {
     "end_time": "2022-05-27T08:44:37.419984Z",
     "start_time": "2022-05-27T08:44:37.406022Z"
    }
   },
   "outputs": [],
   "source": [
    "# # 1 / 0 / -1\n",
    "# def one_hot_encoding(label):\n",
    "#     one_hot_vector = [0] * len(X_train['label'].unique().tolist())\n",
    "#     one_hot_vector[label+1] = 1\n",
    "#     return one_hot_vector\n",
    "\n",
    "# def right_answer():\n",
    "#     for tr in X_train['label']:\n",
    "#         y_train.append(one_hot_encoding(tr))\n",
    "#     for te in X_test['label']:\n",
    "#         y_test.append(one_hot_encoding(te))\n",
    "\n",
    "# right_answer()"
   ]
  },
  {
   "cell_type": "code",
   "execution_count": 47,
   "id": "c38bfb42",
   "metadata": {
    "ExecuteTime": {
     "end_time": "2022-05-27T08:44:37.434978Z",
     "start_time": "2022-05-27T08:44:37.420981Z"
    }
   },
   "outputs": [],
   "source": [
    "# if (len(y_train) + len(y_test)) == len(df_news_overlap['label']):\n",
    "#     print('정상')\n",
    "# else:\n",
    "#     y_train = list()\n",
    "#     y_test = list()\n",
    "#     right_answer()\n",
    "#     print('재확인 필요')\n",
    "\n",
    "# y_train = np.array(y_train)\n",
    "# y_test = np.array(y_test)"
   ]
  },
  {
   "cell_type": "markdown",
   "id": "316c007b",
   "metadata": {},
   "source": [
    "## 빈도 수가 낮은 단어 제거 --> 대기\n",
    "- 빈도수가 낮은 단어 --> 학습에 영향이 크지 않음.\n",
    "- 전처리를 통해 제거\n",
    "- 패딩 --> 학습 시간 단축 및 최적의 효율성\n",
    "\n",
    "**한두번 나온 단어가 그 문장의 감성을 표현할 수 있는 핵심단어 일수도?**"
   ]
  },
  {
   "cell_type": "code",
   "execution_count": 48,
   "id": "10c152fb",
   "metadata": {
    "ExecuteTime": {
     "end_time": "2022-05-27T08:44:37.449904Z",
     "start_time": "2022-05-27T08:44:37.435942Z"
    }
   },
   "outputs": [
    {
     "data": {
      "text/plain": [
       "14428"
      ]
     },
     "execution_count": 48,
     "metadata": {},
     "output_type": "execute_result"
    }
   ],
   "source": [
    "len(tokenizer.word_counts)"
   ]
  },
  {
   "cell_type": "code",
   "execution_count": 49,
   "id": "19ff4016",
   "metadata": {
    "ExecuteTime": {
     "end_time": "2022-05-27T08:44:37.464865Z",
     "start_time": "2022-05-27T08:44:37.450903Z"
    }
   },
   "outputs": [
    {
     "name": "stdout",
     "output_type": "stream",
     "text": [
      "단어 집합(vocabulary)의 종류 : 14428\n",
      "등장 빈도가 3번 이하인 희귀 단어의 수: 7744\n",
      "단어 집합에서 희귀 단어의 비율: 53.67\n",
      "전체 등장 빈도에서 희귀 단어 등장 빈도 비율: 1.7408334734421789\n"
     ]
    }
   ],
   "source": [
    "threshold = 4 # 임계치\n",
    "total_cnt = len(tokenizer.word_index)\n",
    "rare_cnt = 0\n",
    "words_freq = 0\n",
    "rare_freq = 0\n",
    "\n",
    "for key, value in tokenizer.word_counts.items():\n",
    "    words_freq += value\n",
    "    if value < threshold:\n",
    "        rare_cnt += 1\n",
    "        rare_freq += value\n",
    "print('단어 집합(vocabulary)의 종류 :', total_cnt)\n",
    "print('등장 빈도가 %s번 이하인 희귀 단어의 수: %s' % (threshold - 1, rare_cnt))\n",
    "print(\"단어 집합에서 희귀 단어의 비율: {:.2f}\".format((rare_cnt / total_cnt) * 100))\n",
    "print(\"전체 등장 빈도에서 희귀 단어 등장 빈도 비율:\", (rare_freq / words_freq) * 100)"
   ]
  },
  {
   "cell_type": "code",
   "execution_count": 50,
   "id": "24e0a021",
   "metadata": {
    "ExecuteTime": {
     "end_time": "2022-05-27T08:44:37.479854Z",
     "start_time": "2022-05-27T08:44:37.465864Z"
    }
   },
   "outputs": [
    {
     "name": "stdout",
     "output_type": "stream",
     "text": [
      "6684\n"
     ]
    }
   ],
   "source": [
    "vocab_size = total_cnt-rare_cnt\n",
    "print(vocab_size)"
   ]
  },
  {
   "cell_type": "code",
   "execution_count": 51,
   "id": "3872396c",
   "metadata": {
    "ExecuteTime": {
     "end_time": "2022-05-27T08:44:37.494784Z",
     "start_time": "2022-05-27T08:44:37.480822Z"
    }
   },
   "outputs": [],
   "source": [
    "tokenizer = Tokenizer(vocab_size, oov_token='OOV')"
   ]
  },
  {
   "cell_type": "code",
   "execution_count": 52,
   "id": "8c171809",
   "metadata": {
    "ExecuteTime": {
     "end_time": "2022-05-27T08:44:37.509744Z",
     "start_time": "2022-05-27T08:44:37.495782Z"
    }
   },
   "outputs": [
    {
     "data": {
      "text/plain": [
       "<keras_preprocessing.text.Tokenizer at 0x1e69fd6b588>"
      ]
     },
     "execution_count": 52,
     "metadata": {},
     "output_type": "execute_result"
    }
   ],
   "source": [
    "tokenizer"
   ]
  },
  {
   "cell_type": "code",
   "execution_count": 53,
   "id": "35cb1391",
   "metadata": {
    "ExecuteTime": {
     "end_time": "2022-05-27T08:44:37.524704Z",
     "start_time": "2022-05-27T08:44:37.510741Z"
    }
   },
   "outputs": [
    {
     "data": {
      "text/html": [
       "<div>\n",
       "<style scoped>\n",
       "    .dataframe tbody tr th:only-of-type {\n",
       "        vertical-align: middle;\n",
       "    }\n",
       "\n",
       "    .dataframe tbody tr th {\n",
       "        vertical-align: top;\n",
       "    }\n",
       "\n",
       "    .dataframe thead th {\n",
       "        text-align: right;\n",
       "    }\n",
       "</style>\n",
       "<table border=\"1\" class=\"dataframe\">\n",
       "  <thead>\n",
       "    <tr style=\"text-align: right;\">\n",
       "      <th></th>\n",
       "      <th>nouns_contents</th>\n",
       "      <th>label</th>\n",
       "    </tr>\n",
       "  </thead>\n",
       "  <tbody>\n",
       "    <tr>\n",
       "      <th>0</th>\n",
       "      <td>DGB 대 구 은행 디지털 을 통한 소통 브랜드 이미지 제 위해 대국민 SNS 홍보...</td>\n",
       "      <td>1</td>\n",
       "    </tr>\n",
       "    <tr>\n",
       "      <th>1</th>\n",
       "      <td>함께 환경보호 사회 공헌 선 순환 ESG 경영 실천 GECONOMY 코 노미 홍종락...</td>\n",
       "      <td>1</td>\n",
       "    </tr>\n",
       "    <tr>\n",
       "      <th>2</th>\n",
       "      <td>최고 연 240% p 금리 출시 기념 항공 할인 권 및 상품권 증정 7일 마다 7 ...</td>\n",
       "      <td>1</td>\n",
       "    </tr>\n",
       "  </tbody>\n",
       "</table>\n",
       "</div>"
      ],
      "text/plain": [
       "                                      nouns_contents  label\n",
       "0  DGB 대 구 은행 디지털 을 통한 소통 브랜드 이미지 제 위해 대국민 SNS 홍보...      1\n",
       "1  함께 환경보호 사회 공헌 선 순환 ESG 경영 실천 GECONOMY 코 노미 홍종락...      1\n",
       "2  최고 연 240% p 금리 출시 기념 항공 할인 권 및 상품권 증정 7일 마다 7 ...      1"
      ]
     },
     "execution_count": 53,
     "metadata": {},
     "output_type": "execute_result"
    }
   ],
   "source": [
    "x_train.head(3)"
   ]
  },
  {
   "cell_type": "code",
   "execution_count": 54,
   "id": "fae1e961",
   "metadata": {
    "ExecuteTime": {
     "end_time": "2022-05-27T08:44:37.539695Z",
     "start_time": "2022-05-27T08:44:37.525703Z"
    }
   },
   "outputs": [
    {
     "data": {
      "text/html": [
       "<div>\n",
       "<style scoped>\n",
       "    .dataframe tbody tr th:only-of-type {\n",
       "        vertical-align: middle;\n",
       "    }\n",
       "\n",
       "    .dataframe tbody tr th {\n",
       "        vertical-align: top;\n",
       "    }\n",
       "\n",
       "    .dataframe thead th {\n",
       "        text-align: right;\n",
       "    }\n",
       "</style>\n",
       "<table border=\"1\" class=\"dataframe\">\n",
       "  <thead>\n",
       "    <tr style=\"text-align: right;\">\n",
       "      <th></th>\n",
       "      <th>nouns_contents</th>\n",
       "      <th>label</th>\n",
       "    </tr>\n",
       "  </thead>\n",
       "  <tbody>\n",
       "    <tr>\n",
       "      <th>0</th>\n",
       "      <td>날 열리다 첫 기부 행사 에서 DGB 대구 은행 경북 농협 등 동참 개인 으로는 이...</td>\n",
       "      <td>1</td>\n",
       "    </tr>\n",
       "    <tr>\n",
       "      <th>1</th>\n",
       "      <td>협약 에는 한국 로봇산업 진흥 원 DGB 대구 은행 국민은행 신한은행 우리은행 중소...</td>\n",
       "      <td>1</td>\n",
       "    </tr>\n",
       "    <tr>\n",
       "      <th>2</th>\n",
       "      <td>DGB 금융 그룹 DGB 대 구 은행 투자 증권 점포 결합 복합 점포 수도권 지역 ...</td>\n",
       "      <td>0</td>\n",
       "    </tr>\n",
       "  </tbody>\n",
       "</table>\n",
       "</div>"
      ],
      "text/plain": [
       "                                      nouns_contents  label\n",
       "0  날 열리다 첫 기부 행사 에서 DGB 대구 은행 경북 농협 등 동참 개인 으로는 이...      1\n",
       "1  협약 에는 한국 로봇산업 진흥 원 DGB 대구 은행 국민은행 신한은행 우리은행 중소...      1\n",
       "2  DGB 금융 그룹 DGB 대 구 은행 투자 증권 점포 결합 복합 점포 수도권 지역 ...      0"
      ]
     },
     "execution_count": 54,
     "metadata": {},
     "output_type": "execute_result"
    }
   ],
   "source": [
    "x_test.head(3)"
   ]
  },
  {
   "cell_type": "code",
   "execution_count": 55,
   "id": "6c867186",
   "metadata": {
    "ExecuteTime": {
     "end_time": "2022-05-27T08:44:37.629451Z",
     "start_time": "2022-05-27T08:44:37.540662Z"
    }
   },
   "outputs": [],
   "source": [
    "x_train.to_csv('./Data_Set/X_train.csv')\n",
    "x_test.to_csv('./Data_Set/X_test.csv')"
   ]
  },
  {
   "cell_type": "markdown",
   "id": "ba2f92dd",
   "metadata": {},
   "source": [
    "# 모델링\n",
    "\n",
    "- 성능 높이기 + 시각화 해서 파일로 만들기\n",
    "\n",
    "**https://sieon-dev.tistory.com/15**"
   ]
  },
  {
   "cell_type": "markdown",
   "id": "fdeaf17c",
   "metadata": {},
   "source": [
    "## GPU 체크\n",
    "- NVIDIA GeForce RTX 2070 SUPER : 2개 (GPU index number : 0, 1)\n",
    "- CPU :1 개 ( CPU index number : 0)"
   ]
  },
  {
   "cell_type": "code",
   "execution_count": 56,
   "id": "9f76019a",
   "metadata": {
    "ExecuteTime": {
     "end_time": "2022-05-27T08:44:38.497103Z",
     "start_time": "2022-05-27T08:44:37.630422Z"
    }
   },
   "outputs": [
    {
     "name": "stdout",
     "output_type": "stream",
     "text": [
      "2 Physical GPUs, 2 Logical GPUs\n"
     ]
    }
   ],
   "source": [
    "import tensorflow as tf\n",
    "gpus = tf.config.experimental.list_physical_devices('GPU')\n",
    "if gpus:\n",
    "    try:\n",
    "        # Currently, memory growth needs to be the same across GPUs\n",
    "        for gpu in gpus:\n",
    "            tf.config.experimental.set_memory_growth(gpu, True)\n",
    "        logical_gpus = tf.config.experimental.list_logical_devices('GPU')\n",
    "        print(len(gpus), \"Physical GPUs,\", len(logical_gpus), \"Logical GPUs\")\n",
    "    except RuntimeError as e:\n",
    "        # Memory growth must be set before GPUs have been initialized\n",
    "        print(e)"
   ]
  },
  {
   "cell_type": "code",
   "execution_count": 57,
   "id": "c458744d",
   "metadata": {
    "ExecuteTime": {
     "end_time": "2022-05-27T08:44:38.512063Z",
     "start_time": "2022-05-27T08:44:38.498101Z"
    }
   },
   "outputs": [
    {
     "name": "stdout",
     "output_type": "stream",
     "text": [
      "Num GPUs Available:  2\n"
     ]
    }
   ],
   "source": [
    "print(\"Num GPUs Available: \", len(tf.config.list_physical_devices('GPU')))"
   ]
  },
  {
   "cell_type": "code",
   "execution_count": 58,
   "id": "4e306ecb",
   "metadata": {
    "ExecuteTime": {
     "end_time": "2022-05-27T08:44:38.527023Z",
     "start_time": "2022-05-27T08:44:38.513061Z"
    }
   },
   "outputs": [],
   "source": [
    "%matplotlib inline\n",
    "# Function call stack:\n",
    "# train_function -> train_function -> train_function\n",
    "# 해당 줄로 오류 해결\n",
    "# 참고 : https://www.freesion.com/article/71721347190/\n",
    "tf.compat.v1.disable_eager_execution()"
   ]
  },
  {
   "cell_type": "markdown",
   "id": "a2fad17e",
   "metadata": {},
   "source": [
    "## 데이터셋 확인"
   ]
  },
  {
   "cell_type": "code",
   "execution_count": 59,
   "id": "c689f806",
   "metadata": {
    "ExecuteTime": {
     "end_time": "2022-05-27T08:44:38.541983Z",
     "start_time": "2022-05-27T08:44:38.528020Z"
    }
   },
   "outputs": [],
   "source": [
    "from keras import models\n",
    "from tensorflow.python.client import device_lib\n",
    "from tensorflow.keras.layers import Embedding, Dense, GRU, Dropout, Input, LSTM, Activation, Bidirectional, Conv1D, MaxPooling1D, GlobalMaxPooling1D, Flatten, SpatialDropout1D, TimeDistributed, Flatten\n",
    "from tensorflow.keras.models import Sequential, Model\n",
    "from tensorflow.keras.models import load_model"
   ]
  },
  {
   "cell_type": "code",
   "execution_count": 60,
   "id": "6cc9b3cc",
   "metadata": {
    "ExecuteTime": {
     "end_time": "2022-05-27T08:44:38.556943Z",
     "start_time": "2022-05-27T08:44:38.542981Z"
    }
   },
   "outputs": [
    {
     "name": "stdout",
     "output_type": "stream",
     "text": [
      "X_train : (13218, 60)\n",
      "X_test : (3305, 60)\n",
      "y_train : (13218, 3)\n",
      "X_test : (3305, 3)\n"
     ]
    }
   ],
   "source": [
    "print('X_train :', X_train.shape)\n",
    "print('X_test :', X_test.shape)\n",
    "print('y_train :', y_train.shape)\n",
    "print('X_test :', y_test.shape)"
   ]
  },
  {
   "cell_type": "markdown",
   "id": "4a5e88a0",
   "metadata": {},
   "source": [
    "## 옵티마이저 튜닝\n",
    "\n",
    "- optimizers 정의 및 튜닝 ( Adam, SGD, RMSprop)\n",
    "- 하이퍼 파라미터 튜닝\n",
    "\n",
    "**val_loss 감소시키는 방법 : https://lsjsj92.tistory.com/353**"
   ]
  },
  {
   "cell_type": "code",
   "execution_count": 61,
   "id": "b024fa27",
   "metadata": {
    "ExecuteTime": {
     "end_time": "2022-05-27T08:44:38.571903Z",
     "start_time": "2022-05-27T08:44:38.557941Z"
    }
   },
   "outputs": [],
   "source": [
    "from tensorflow.keras.optimizers import Adam, SGD, RMSprop\n",
    "from tensorflow.keras.callbacks import EarlyStopping, ModelCheckpoint\n",
    "\n",
    "adam = Adam(learning_rate=0.001, beta_1=0.9, beta_2=0.999, decay=0.0001, clipnorm=1., epsilon=None, amsgrad=False)\n",
    "\n",
    "sgd = SGD(learning_rate=0.01, momentum=0.9, decay=0.0001, nesterov=False)\n",
    "\n",
    "rmsprop = RMSprop(learning_rate=0.001, rho=0.9, decay=0.0001, epsilon=None)"
   ]
  },
  {
   "cell_type": "markdown",
   "id": "0070af43",
   "metadata": {},
   "source": [
    "## 모델 구축 및 데이터 학습\n",
    "\n",
    "- val_accuracy도 점점 떨어지고 있는 것으로 봐서 네트워크가 과적합되는 것으로 보입니다. 과적합의 이유는 임베딩 레이어를 랜덤한 값에서부터 시작해서 학습시키기 때문에 각 단어를 나타내는 벡터의 품질\n",
    "\n",
    "**모델 샘플 : https://www.kaggle.com/code/nafisur/keras-models-lstm-cnn-gru-bidirectional-glove/notebook**\n",
    "<br><br>\n",
    "**성능 개선 : https://wikidocs.net/142041**\n",
    "<br><br>\n",
    "**loss 함수 설명 : https://velog.io/@rcchun/%EB%A8%B8%EC%8B%A0%EB%9F%AC%EB%8B%9D-%EC%86%90%EC%8B%A4%ED%95%A8%EC%88%98%EC%9D%98-%EC%A2%85%EB%A5%98#msemean-squared-error**\n",
    "<br><br>\n",
    "**LSTM / RNN / GRU 개념 : https://velog.io/@dong970827/RNN-LSTM-GRU-%EA%B0%9C%EB%85%90**\n",
    "\n",
    "- 과적합 뜨는 이유\n",
    "- 1. 긍정 80% / 부정 5% / 중립 15% (총 331개 Test Data) 데이터 갯수와 비율 때문이라고 판단.\n",
    "- 2. 학습진행시 전체데이터에서 부정갯수가 가장 작은 편이므로, 긍정데이터에 대해서는 과적합"
   ]
  },
  {
   "cell_type": "markdown",
   "id": "c9d7e278",
   "metadata": {},
   "source": [
    "### LSTM ( 73 ~ 77% / 요약본 / 오차 작음)"
   ]
  },
  {
   "cell_type": "code",
   "execution_count": 62,
   "id": "bb29a0fd",
   "metadata": {
    "ExecuteTime": {
     "end_time": "2022-05-27T08:44:38.856142Z",
     "start_time": "2022-05-27T08:44:38.572901Z"
    }
   },
   "outputs": [
    {
     "name": "stdout",
     "output_type": "stream",
     "text": [
      "WARNING:tensorflow:Layer lstm will not use cuDNN kernels since it doesn't meet the criteria. It will use a generic GPU kernel as fallback when running on GPU.\n",
      "Model: \"sequential_1\"\n",
      "_________________________________________________________________\n",
      "Layer (type)                 Output Shape              Param #   \n",
      "=================================================================\n",
      "embedding (Embedding)        (None, 60, 100)           1442800   \n",
      "_________________________________________________________________\n",
      "lstm (LSTM)                  (None, 128)               117248    \n",
      "_________________________________________________________________\n",
      "dense (Dense)                (None, 3)                 387       \n",
      "=================================================================\n",
      "Total params: 1,560,435\n",
      "Trainable params: 1,560,435\n",
      "Non-trainable params: 0\n",
      "_________________________________________________________________\n"
     ]
    }
   ],
   "source": [
    "# 하이퍼파라미터 : rmsprop / binary_crossentropy / 50 / 256 / 0.2\n",
    "model_01 = Sequential()\n",
    "\n",
    "model_01 = Sequential() # tensorflow.keras.models\n",
    "model_01.add(Embedding(total_cnt, 100, input_length=max_len))\n",
    "model_01.add(LSTM(128))\n",
    "model_01.add(Dense(3, activation='softmax'))\n",
    "model_01.summary()"
   ]
  },
  {
   "cell_type": "markdown",
   "id": "ab1f6541",
   "metadata": {},
   "source": [
    "### LSTM 2 Layer + Dropout (64 ~ 66 % / 요약본 / 오차 큼)"
   ]
  },
  {
   "cell_type": "code",
   "execution_count": 63,
   "id": "bdf89589",
   "metadata": {
    "ExecuteTime": {
     "end_time": "2022-05-27T08:44:39.963181Z",
     "start_time": "2022-05-27T08:44:38.857141Z"
    }
   },
   "outputs": [
    {
     "name": "stdout",
     "output_type": "stream",
     "text": [
      "WARNING:tensorflow:Layer lstm_1 will not use cuDNN kernels since it doesn't meet the criteria. It will use a generic GPU kernel as fallback when running on GPU.\n",
      "WARNING:tensorflow:Layer lstm_2 will not use cuDNN kernels since it doesn't meet the criteria. It will use a generic GPU kernel as fallback when running on GPU.\n",
      "Model: \"sequential_2\"\n",
      "_________________________________________________________________\n",
      "Layer (type)                 Output Shape              Param #   \n",
      "=================================================================\n",
      "embedding_1 (Embedding)      (None, None, 100)         1442800   \n",
      "_________________________________________________________________\n",
      "lstm_1 (LSTM)                (None, None, 64)          42240     \n",
      "_________________________________________________________________\n",
      "lstm_2 (LSTM)                (None, 32)                12416     \n",
      "_________________________________________________________________\n",
      "dense_1 (Dense)              (None, 3)                 99        \n",
      "=================================================================\n",
      "Total params: 1,497,555\n",
      "Trainable params: 1,497,555\n",
      "Non-trainable params: 0\n",
      "_________________________________________________________________\n"
     ]
    }
   ],
   "source": [
    "# 하이퍼파라미터 : adam / categorical_crossentropy / 50 / 512 / 0.2\n",
    "model_02 = Sequential()\n",
    "\n",
    "model_02.add(Embedding(total_cnt,100, mask_zero=True))\n",
    "model_02.add(LSTM(64,dropout=0.7, recurrent_dropout=0.7,return_sequences=True))\n",
    "model_02.add(LSTM(32,dropout=0.6, recurrent_dropout=0.6,return_sequences=False))\n",
    "model_02.add(Dense(3, activation='softmax'))\n",
    "model_02.summary()"
   ]
  },
  {
   "cell_type": "markdown",
   "id": "f83b5d01",
   "metadata": {},
   "source": [
    "### CNN + Dropout ( 77 ~ 79 % / 요약본 / 오차 큼)"
   ]
  },
  {
   "cell_type": "code",
   "execution_count": 64,
   "id": "1938613d",
   "metadata": {
    "ExecuteTime": {
     "end_time": "2022-05-27T08:44:40.037980Z",
     "start_time": "2022-05-27T08:44:39.964178Z"
    }
   },
   "outputs": [
    {
     "name": "stdout",
     "output_type": "stream",
     "text": [
      "Model: \"sequential_3\"\n",
      "_________________________________________________________________\n",
      "Layer (type)                 Output Shape              Param #   \n",
      "=================================================================\n",
      "embedding_2 (Embedding)      (None, 60, 100)           1442800   \n",
      "_________________________________________________________________\n",
      "conv1d (Conv1D)              (None, 60, 64)            19264     \n",
      "_________________________________________________________________\n",
      "global_max_pooling1d (Global (None, 64)                0         \n",
      "_________________________________________________________________\n",
      "dense_2 (Dense)              (None, 128)               8320      \n",
      "_________________________________________________________________\n",
      "dropout (Dropout)            (None, 128)               0         \n",
      "_________________________________________________________________\n",
      "dense_3 (Dense)              (None, 3)                 387       \n",
      "=================================================================\n",
      "Total params: 1,470,771\n",
      "Trainable params: 1,470,771\n",
      "Non-trainable params: 0\n",
      "_________________________________________________________________\n"
     ]
    }
   ],
   "source": [
    "# 하이퍼파라미터 : adam / categorical_crossentropy / 100 / 128 / 0.2\n",
    "model_03= Sequential()\n",
    "\n",
    "model_03.add(Embedding(total_cnt, 100, input_length=max_len))\n",
    "model_03.add(Conv1D(64, kernel_size=3, padding='same', activation='relu', strides=1))\n",
    "model_03.add(GlobalMaxPooling1D())\n",
    "model_03.add(Dense(128, activation='relu'))\n",
    "model_03.add(Dropout(0.8))\n",
    "model_03.add(Dense(3, activation='softmax'))\n",
    "model_03.summary()"
   ]
  },
  {
   "cell_type": "markdown",
   "id": "92ced4a2",
   "metadata": {},
   "source": [
    "### Bi GRU + Dropout ( 75 ~ 77% / 요약본 / 오차 매우 작음)"
   ]
  },
  {
   "cell_type": "code",
   "execution_count": 65,
   "id": "2b3c69b4",
   "metadata": {
    "ExecuteTime": {
     "end_time": "2022-05-27T08:44:40.352168Z",
     "start_time": "2022-05-27T08:44:40.038978Z"
    }
   },
   "outputs": [
    {
     "name": "stdout",
     "output_type": "stream",
     "text": [
      "WARNING:tensorflow:Layer gru will not use cuDNN kernels since it doesn't meet the criteria. It will use a generic GPU kernel as fallback when running on GPU.\n",
      "WARNING:tensorflow:Layer gru will not use cuDNN kernels since it doesn't meet the criteria. It will use a generic GPU kernel as fallback when running on GPU.\n",
      "WARNING:tensorflow:Layer gru will not use cuDNN kernels since it doesn't meet the criteria. It will use a generic GPU kernel as fallback when running on GPU.\n",
      "Model: \"sequential_4\"\n",
      "_________________________________________________________________\n",
      "Layer (type)                 Output Shape              Param #   \n",
      "=================================================================\n",
      "embedding_3 (Embedding)      (None, 60, 100)           1442800   \n",
      "_________________________________________________________________\n",
      "spatial_dropout1d (SpatialDr (None, 60, 100)           0         \n",
      "_________________________________________________________________\n",
      "bidirectional (Bidirectional (None, 256)               176640    \n",
      "_________________________________________________________________\n",
      "dropout_1 (Dropout)          (None, 256)               0         \n",
      "_________________________________________________________________\n",
      "dense_4 (Dense)              (None, 3)                 771       \n",
      "=================================================================\n",
      "Total params: 1,620,211\n",
      "Trainable params: 1,620,211\n",
      "Non-trainable params: 0\n",
      "_________________________________________________________________\n"
     ]
    }
   ],
   "source": [
    "model_04 = Sequential()\n",
    "\n",
    "model_04.add(Embedding(total_cnt, 100, input_length=max_len))\n",
    "model_04.add(SpatialDropout1D(0.25))\n",
    "model_04.add(Bidirectional(GRU(128)))\n",
    "model_04.add(Dropout(0.5))\n",
    "\n",
    "model_04.add(Dense(3, activation='softmax'))\n",
    "model_04.summary()"
   ]
  },
  {
   "cell_type": "markdown",
   "id": "bb43ce6e",
   "metadata": {},
   "source": [
    "### Bi LSTM (  )"
   ]
  },
  {
   "cell_type": "code",
   "execution_count": 66,
   "id": "f6ee252d",
   "metadata": {
    "ExecuteTime": {
     "end_time": "2022-05-27T08:44:41.653658Z",
     "start_time": "2022-05-27T08:44:40.353138Z"
    }
   },
   "outputs": [
    {
     "name": "stdout",
     "output_type": "stream",
     "text": [
      "WARNING:tensorflow:Layer lstm_3 will not use cuDNN kernels since it doesn't meet the criteria. It will use a generic GPU kernel as fallback when running on GPU.\n",
      "WARNING:tensorflow:Layer lstm_3 will not use cuDNN kernels since it doesn't meet the criteria. It will use a generic GPU kernel as fallback when running on GPU.\n",
      "WARNING:tensorflow:Layer lstm_3 will not use cuDNN kernels since it doesn't meet the criteria. It will use a generic GPU kernel as fallback when running on GPU.\n",
      "WARNING:tensorflow:Layer gru_1 will not use cuDNN kernels since it doesn't meet the criteria. It will use a generic GPU kernel as fallback when running on GPU.\n",
      "Model: \"sequential_5\"\n",
      "_________________________________________________________________\n",
      "Layer (type)                 Output Shape              Param #   \n",
      "=================================================================\n",
      "embedding_4 (Embedding)      (None, 60, 100)           1442800   \n",
      "_________________________________________________________________\n",
      "bidirectional_1 (Bidirection (None, 60, 256)           234496    \n",
      "_________________________________________________________________\n",
      "gru_1 (GRU)                  (None, 64)                61824     \n",
      "_________________________________________________________________\n",
      "dense_5 (Dense)              (None, 64)                4160      \n",
      "_________________________________________________________________\n",
      "dropout_2 (Dropout)          (None, 64)                0         \n",
      "_________________________________________________________________\n",
      "dense_6 (Dense)              (None, 3)                 195       \n",
      "=================================================================\n",
      "Total params: 1,743,475\n",
      "Trainable params: 1,743,475\n",
      "Non-trainable params: 0\n",
      "_________________________________________________________________\n"
     ]
    }
   ],
   "source": [
    "model_05 = Sequential()\n",
    "\n",
    "model_05.add(Embedding(total_cnt, 100, input_length=max_len))\n",
    "model_05.add(Bidirectional(LSTM(128, dropout= 0.5, recurrent_dropout=0.5, return_sequences=True)))\n",
    "\n",
    "# model_05.add(Bidirectional(LSTM(128, dropout= 0.7, recurrent_dropout=0.7)))\n",
    "model_05.add(GRU(64))\n",
    "model_05.add(Dense(64, activation='relu'))\n",
    "model_05.add(Dropout(0.2))\n",
    "model_05.add(Dense(3, activation='sigmoid'))\n",
    "model_05.summary()"
   ]
  },
  {
   "cell_type": "code",
   "execution_count": 67,
   "id": "4f5e1654",
   "metadata": {
    "ExecuteTime": {
     "end_time": "2022-05-27T08:44:41.668618Z",
     "start_time": "2022-05-27T08:44:41.654656Z"
    }
   },
   "outputs": [],
   "source": [
    "def learning(model):\n",
    "    es = EarlyStopping(monitor='val_loss', mode='min', verbose=1, patience=50)\n",
    "    mc = ModelCheckpoint('bilstm.h5', monitor='val_acc', mode='max', verbose=1, save_best_only=True)\n",
    "\n",
    "    # categorical_crossentropy / binary_crossentropy / mse / sparse_categorical_crossentropy\n",
    "    # softmax / sigmoid\n",
    "    model.compile(optimizer=rmsprop, loss='categorical_crossentropy', metrics=['accuracy'])# 0.002 학습률\n",
    "    history = model.fit(X_train, y_train, epochs=50, callbacks=[es, mc], batch_size=512, validation_split=0.2)\n",
    "    return history"
   ]
  },
  {
   "cell_type": "markdown",
   "id": "97759b61",
   "metadata": {},
   "source": [
    "### 모델 변수 수정\n",
    "\n",
    "- 과적합 : https://stackoverflow.com/questions/50615396/validation-loss-increasing\n",
    "- https://stackoverflow.com/questions/61342448/train-accuracy-increases-train-loss-is-stable-validation-loss-increases-valid"
   ]
  },
  {
   "cell_type": "code",
   "execution_count": 68,
   "id": "77a28192",
   "metadata": {
    "ExecuteTime": {
     "end_time": "2022-05-27T08:50:59.446254Z",
     "start_time": "2022-05-27T08:44:41.673605Z"
    }
   },
   "outputs": [
    {
     "name": "stdout",
     "output_type": "stream",
     "text": [
      "Train on 10574 samples, validate on 2644 samples\n",
      "Epoch 1/50\n",
      "10574/10574 [==============================] - ETA: 0s - loss: 0.8239 - accuracy: 0.7054"
     ]
    },
    {
     "name": "stderr",
     "output_type": "stream",
     "text": [
      "C:\\Users\\DGBDS\\AppData\\Roaming\\Python\\Python36\\site-packages\\keras\\engine\\training.py:2470: UserWarning: `Model.state_updates` will be removed in a future version. This property should not be used in TensorFlow 2.0, as `updates` are applied automatically.\n",
      "  warnings.warn('`Model.state_updates` will be removed in a future version. '\n"
     ]
    },
    {
     "name": "stdout",
     "output_type": "stream",
     "text": [
      "WARNING:tensorflow:Can save best model only with val_acc available, skipping.\n",
      "10574/10574 [==============================] - 17s 2ms/sample - loss: 0.8239 - accuracy: 0.7054 - val_loss: 0.7871 - val_accuracy: 0.7122\n",
      "Epoch 2/50\n",
      "10574/10574 [==============================] - ETA: 0s - loss: 0.7524 - accuracy: 0.7236WARNING:tensorflow:Can save best model only with val_acc available, skipping.\n",
      "10574/10574 [==============================] - 15s 1ms/sample - loss: 0.7524 - accuracy: 0.7236 - val_loss: 0.7734 - val_accuracy: 0.7122\n",
      "Epoch 3/50\n",
      "10574/10574 [==============================] - ETA: 0s - loss: 0.7279 - accuracy: 0.7236WARNING:tensorflow:Can save best model only with val_acc available, skipping.\n",
      "10574/10574 [==============================] - 14s 1ms/sample - loss: 0.7279 - accuracy: 0.7236 - val_loss: 0.7847 - val_accuracy: 0.7122\n",
      "Epoch 4/50\n",
      "10574/10574 [==============================] - ETA: 0s - loss: 0.6991 - accuracy: 0.7244WARNING:tensorflow:Can save best model only with val_acc available, skipping.\n",
      "10574/10574 [==============================] - 14s 1ms/sample - loss: 0.6991 - accuracy: 0.7244 - val_loss: 0.8261 - val_accuracy: 0.7110\n",
      "Epoch 5/50\n",
      "10574/10574 [==============================] - ETA: 0s - loss: 0.6679 - accuracy: 0.7312WARNING:tensorflow:Can save best model only with val_acc available, skipping.\n",
      "10574/10574 [==============================] - 14s 1ms/sample - loss: 0.6679 - accuracy: 0.7312 - val_loss: 0.8365 - val_accuracy: 0.6910\n",
      "Epoch 6/50\n",
      "10574/10574 [==============================] - ETA: 0s - loss: 0.6287 - accuracy: 0.7436WARNING:tensorflow:Can save best model only with val_acc available, skipping.\n",
      "10574/10574 [==============================] - 15s 1ms/sample - loss: 0.6287 - accuracy: 0.7436 - val_loss: 0.8716 - val_accuracy: 0.6778\n",
      "Epoch 7/50\n",
      "10574/10574 [==============================] - ETA: 0s - loss: 0.6047 - accuracy: 0.7563WARNING:tensorflow:Can save best model only with val_acc available, skipping.\n",
      "10574/10574 [==============================] - 15s 1ms/sample - loss: 0.6047 - accuracy: 0.7563 - val_loss: 0.9768 - val_accuracy: 0.6838\n",
      "Epoch 8/50\n",
      "10574/10574 [==============================] - ETA: 0s - loss: 0.5806 - accuracy: 0.7645WARNING:tensorflow:Can save best model only with val_acc available, skipping.\n",
      "10574/10574 [==============================] - 15s 1ms/sample - loss: 0.5806 - accuracy: 0.7645 - val_loss: 0.9330 - val_accuracy: 0.6732\n",
      "Epoch 9/50\n",
      "10574/10574 [==============================] - ETA: 0s - loss: 0.5535 - accuracy: 0.7770WARNING:tensorflow:Can save best model only with val_acc available, skipping.\n",
      "10574/10574 [==============================] - 14s 1ms/sample - loss: 0.5535 - accuracy: 0.7770 - val_loss: 0.9871 - val_accuracy: 0.6471\n",
      "Epoch 10/50\n",
      "10574/10574 [==============================] - ETA: 0s - loss: 0.5319 - accuracy: 0.7847WARNING:tensorflow:Can save best model only with val_acc available, skipping.\n",
      "10574/10574 [==============================] - 15s 1ms/sample - loss: 0.5319 - accuracy: 0.7847 - val_loss: 1.0011 - val_accuracy: 0.6464\n",
      "Epoch 11/50\n",
      "10574/10574 [==============================] - ETA: 0s - loss: 0.5100 - accuracy: 0.7901WARNING:tensorflow:Can save best model only with val_acc available, skipping.\n",
      "10574/10574 [==============================] - 14s 1ms/sample - loss: 0.5100 - accuracy: 0.7901 - val_loss: 1.0833 - val_accuracy: 0.6309\n",
      "Epoch 12/50\n",
      "10574/10574 [==============================] - ETA: 0s - loss: 0.4873 - accuracy: 0.8033WARNING:tensorflow:Can save best model only with val_acc available, skipping.\n",
      "10574/10574 [==============================] - 14s 1ms/sample - loss: 0.4873 - accuracy: 0.8033 - val_loss: 1.1666 - val_accuracy: 0.6210\n",
      "Epoch 13/50\n",
      "10574/10574 [==============================] - ETA: 0s - loss: 0.4582 - accuracy: 0.8213WARNING:tensorflow:Can save best model only with val_acc available, skipping.\n",
      "10574/10574 [==============================] - 15s 1ms/sample - loss: 0.4582 - accuracy: 0.8213 - val_loss: 1.1464 - val_accuracy: 0.5840\n",
      "Epoch 14/50\n",
      "10574/10574 [==============================] - ETA: 0s - loss: 0.4346 - accuracy: 0.8316WARNING:tensorflow:Can save best model only with val_acc available, skipping.\n",
      "10574/10574 [==============================] - 15s 1ms/sample - loss: 0.4346 - accuracy: 0.8316 - val_loss: 1.1926 - val_accuracy: 0.6222\n",
      "Epoch 15/50\n",
      "10574/10574 [==============================] - ETA: 0s - loss: 0.4099 - accuracy: 0.8392WARNING:tensorflow:Can save best model only with val_acc available, skipping.\n",
      "10574/10574 [==============================] - 14s 1ms/sample - loss: 0.4099 - accuracy: 0.8392 - val_loss: 1.2230 - val_accuracy: 0.5998\n",
      "Epoch 16/50\n",
      "10574/10574 [==============================] - ETA: 0s - loss: 0.3982 - accuracy: 0.8457WARNING:tensorflow:Can save best model only with val_acc available, skipping.\n",
      "10574/10574 [==============================] - 15s 1ms/sample - loss: 0.3982 - accuracy: 0.8457 - val_loss: 1.2649 - val_accuracy: 0.6067\n",
      "Epoch 17/50\n",
      "10574/10574 [==============================] - ETA: 0s - loss: 0.3767 - accuracy: 0.8532WARNING:tensorflow:Can save best model only with val_acc available, skipping.\n",
      "10574/10574 [==============================] - 15s 1ms/sample - loss: 0.3767 - accuracy: 0.8532 - val_loss: 1.3052 - val_accuracy: 0.6048\n",
      "Epoch 18/50\n",
      "10574/10574 [==============================] - ETA: 0s - loss: 0.3601 - accuracy: 0.8612WARNING:tensorflow:Can save best model only with val_acc available, skipping.\n",
      "10574/10574 [==============================] - 14s 1ms/sample - loss: 0.3601 - accuracy: 0.8612 - val_loss: 1.3992 - val_accuracy: 0.6040\n",
      "Epoch 19/50\n",
      "10574/10574 [==============================] - ETA: 0s - loss: 0.3426 - accuracy: 0.8654WARNING:tensorflow:Can save best model only with val_acc available, skipping.\n",
      "10574/10574 [==============================] - 15s 1ms/sample - loss: 0.3426 - accuracy: 0.8654 - val_loss: 1.4765 - val_accuracy: 0.6093\n",
      "Epoch 20/50\n",
      "10574/10574 [==============================] - ETA: 0s - loss: 0.3209 - accuracy: 0.8735WARNING:tensorflow:Can save best model only with val_acc available, skipping.\n",
      "10574/10574 [==============================] - 15s 1ms/sample - loss: 0.3209 - accuracy: 0.8735 - val_loss: 1.4416 - val_accuracy: 0.6036\n",
      "Epoch 21/50\n",
      "10574/10574 [==============================] - ETA: 0s - loss: 0.3188 - accuracy: 0.8760WARNING:tensorflow:Can save best model only with val_acc available, skipping.\n",
      "10574/10574 [==============================] - 15s 1ms/sample - loss: 0.3188 - accuracy: 0.8760 - val_loss: 1.5463 - val_accuracy: 0.5923\n",
      "Epoch 22/50\n",
      "10574/10574 [==============================] - ETA: 0s - loss: 0.3036 - accuracy: 0.8816WARNING:tensorflow:Can save best model only with val_acc available, skipping.\n",
      "10574/10574 [==============================] - 14s 1ms/sample - loss: 0.3036 - accuracy: 0.8816 - val_loss: 1.4961 - val_accuracy: 0.5624\n",
      "Epoch 23/50\n",
      "10574/10574 [==============================] - ETA: 0s - loss: 0.2897 - accuracy: 0.8897WARNING:tensorflow:Can save best model only with val_acc available, skipping.\n",
      "10574/10574 [==============================] - 15s 1ms/sample - loss: 0.2897 - accuracy: 0.8897 - val_loss: 1.5171 - val_accuracy: 0.5779\n",
      "Epoch 24/50\n",
      "10574/10574 [==============================] - ETA: 0s - loss: 0.2805 - accuracy: 0.8932WARNING:tensorflow:Can save best model only with val_acc available, skipping.\n",
      "10574/10574 [==============================] - 14s 1ms/sample - loss: 0.2805 - accuracy: 0.8932 - val_loss: 1.6255 - val_accuracy: 0.6044\n",
      "Epoch 25/50\n",
      "10574/10574 [==============================] - ETA: 0s - loss: 0.2639 - accuracy: 0.8960WARNING:tensorflow:Can save best model only with val_acc available, skipping.\n",
      "10574/10574 [==============================] - 14s 1ms/sample - loss: 0.2639 - accuracy: 0.8960 - val_loss: 1.7046 - val_accuracy: 0.5227\n",
      "Epoch 26/50\n",
      " 7168/10574 [===================>..........] - ETA: 4s - loss: 0.2559 - accuracy: 0.9005"
     ]
    },
    {
     "ename": "KeyboardInterrupt",
     "evalue": "",
     "output_type": "error",
     "traceback": [
      "\u001b[1;31m---------------------------------------------------------------------------\u001b[0m",
      "\u001b[1;31mKeyboardInterrupt\u001b[0m                         Traceback (most recent call last)",
      "\u001b[1;32m<ipython-input-68-c480981b58d6>\u001b[0m in \u001b[0;36m<module>\u001b[1;34m\u001b[0m\n\u001b[0;32m      1\u001b[0m \u001b[0mmodel_num\u001b[0m \u001b[1;33m=\u001b[0m \u001b[0mmodel_05\u001b[0m\u001b[1;33m\u001b[0m\u001b[1;33m\u001b[0m\u001b[0m\n\u001b[1;32m----> 2\u001b[1;33m \u001b[0mhistory\u001b[0m \u001b[1;33m=\u001b[0m \u001b[0mlearning\u001b[0m\u001b[1;33m(\u001b[0m\u001b[0mmodel_num\u001b[0m\u001b[1;33m)\u001b[0m\u001b[1;33m\u001b[0m\u001b[1;33m\u001b[0m\u001b[0m\n\u001b[0m",
      "\u001b[1;32m<ipython-input-67-a989f10a6193>\u001b[0m in \u001b[0;36mlearning\u001b[1;34m(model)\u001b[0m\n\u001b[0;32m      6\u001b[0m     \u001b[1;31m# softmax / sigmoid\u001b[0m\u001b[1;33m\u001b[0m\u001b[1;33m\u001b[0m\u001b[1;33m\u001b[0m\u001b[0m\n\u001b[0;32m      7\u001b[0m     \u001b[0mmodel\u001b[0m\u001b[1;33m.\u001b[0m\u001b[0mcompile\u001b[0m\u001b[1;33m(\u001b[0m\u001b[0moptimizer\u001b[0m\u001b[1;33m=\u001b[0m\u001b[0mrmsprop\u001b[0m\u001b[1;33m,\u001b[0m \u001b[0mloss\u001b[0m\u001b[1;33m=\u001b[0m\u001b[1;34m'categorical_crossentropy'\u001b[0m\u001b[1;33m,\u001b[0m \u001b[0mmetrics\u001b[0m\u001b[1;33m=\u001b[0m\u001b[1;33m[\u001b[0m\u001b[1;34m'accuracy'\u001b[0m\u001b[1;33m]\u001b[0m\u001b[1;33m)\u001b[0m\u001b[1;31m# 0.002 학습률\u001b[0m\u001b[1;33m\u001b[0m\u001b[1;33m\u001b[0m\u001b[0m\n\u001b[1;32m----> 8\u001b[1;33m     \u001b[0mhistory\u001b[0m \u001b[1;33m=\u001b[0m \u001b[0mmodel\u001b[0m\u001b[1;33m.\u001b[0m\u001b[0mfit\u001b[0m\u001b[1;33m(\u001b[0m\u001b[0mX_train\u001b[0m\u001b[1;33m,\u001b[0m \u001b[0my_train\u001b[0m\u001b[1;33m,\u001b[0m \u001b[0mepochs\u001b[0m\u001b[1;33m=\u001b[0m\u001b[1;36m50\u001b[0m\u001b[1;33m,\u001b[0m \u001b[0mcallbacks\u001b[0m\u001b[1;33m=\u001b[0m\u001b[1;33m[\u001b[0m\u001b[0mes\u001b[0m\u001b[1;33m,\u001b[0m \u001b[0mmc\u001b[0m\u001b[1;33m]\u001b[0m\u001b[1;33m,\u001b[0m \u001b[0mbatch_size\u001b[0m\u001b[1;33m=\u001b[0m\u001b[1;36m512\u001b[0m\u001b[1;33m,\u001b[0m \u001b[0mvalidation_split\u001b[0m\u001b[1;33m=\u001b[0m\u001b[1;36m0.2\u001b[0m\u001b[1;33m)\u001b[0m\u001b[1;33m\u001b[0m\u001b[1;33m\u001b[0m\u001b[0m\n\u001b[0m\u001b[0;32m      9\u001b[0m     \u001b[1;32mreturn\u001b[0m \u001b[0mhistory\u001b[0m\u001b[1;33m\u001b[0m\u001b[1;33m\u001b[0m\u001b[0m\n",
      "\u001b[1;32m~\\AppData\\Roaming\\Python\\Python36\\site-packages\\keras\\engine\\training_v1.py\u001b[0m in \u001b[0;36mfit\u001b[1;34m(self, x, y, batch_size, epochs, verbose, callbacks, validation_split, validation_data, shuffle, class_weight, sample_weight, initial_epoch, steps_per_epoch, validation_steps, validation_freq, max_queue_size, workers, use_multiprocessing, **kwargs)\u001b[0m\n\u001b[0;32m    794\u001b[0m         \u001b[0mmax_queue_size\u001b[0m\u001b[1;33m=\u001b[0m\u001b[0mmax_queue_size\u001b[0m\u001b[1;33m,\u001b[0m\u001b[1;33m\u001b[0m\u001b[1;33m\u001b[0m\u001b[0m\n\u001b[0;32m    795\u001b[0m         \u001b[0mworkers\u001b[0m\u001b[1;33m=\u001b[0m\u001b[0mworkers\u001b[0m\u001b[1;33m,\u001b[0m\u001b[1;33m\u001b[0m\u001b[1;33m\u001b[0m\u001b[0m\n\u001b[1;32m--> 796\u001b[1;33m         use_multiprocessing=use_multiprocessing)\n\u001b[0m\u001b[0;32m    797\u001b[0m \u001b[1;33m\u001b[0m\u001b[0m\n\u001b[0;32m    798\u001b[0m   def evaluate(self,\n",
      "\u001b[1;32m~\\AppData\\Roaming\\Python\\Python36\\site-packages\\keras\\engine\\training_arrays_v1.py\u001b[0m in \u001b[0;36mfit\u001b[1;34m(self, model, x, y, batch_size, epochs, verbose, callbacks, validation_split, validation_data, shuffle, class_weight, sample_weight, initial_epoch, steps_per_epoch, validation_steps, validation_freq, **kwargs)\u001b[0m\n\u001b[0;32m    655\u001b[0m         \u001b[0mvalidation_steps\u001b[0m\u001b[1;33m=\u001b[0m\u001b[0mvalidation_steps\u001b[0m\u001b[1;33m,\u001b[0m\u001b[1;33m\u001b[0m\u001b[1;33m\u001b[0m\u001b[0m\n\u001b[0;32m    656\u001b[0m         \u001b[0mvalidation_freq\u001b[0m\u001b[1;33m=\u001b[0m\u001b[0mvalidation_freq\u001b[0m\u001b[1;33m,\u001b[0m\u001b[1;33m\u001b[0m\u001b[1;33m\u001b[0m\u001b[0m\n\u001b[1;32m--> 657\u001b[1;33m         steps_name='steps_per_epoch')\n\u001b[0m\u001b[0;32m    658\u001b[0m \u001b[1;33m\u001b[0m\u001b[0m\n\u001b[0;32m    659\u001b[0m   def evaluate(self,\n",
      "\u001b[1;32m~\\AppData\\Roaming\\Python\\Python36\\site-packages\\keras\\engine\\training_arrays_v1.py\u001b[0m in \u001b[0;36mmodel_iteration\u001b[1;34m(model, inputs, targets, sample_weights, batch_size, epochs, verbose, callbacks, val_inputs, val_targets, val_sample_weights, shuffle, initial_epoch, steps_per_epoch, validation_steps, validation_freq, mode, validation_in_fit, prepared_feed_values_from_dataset, steps_name, **kwargs)\u001b[0m\n\u001b[0;32m    374\u001b[0m \u001b[1;33m\u001b[0m\u001b[0m\n\u001b[0;32m    375\u001b[0m         \u001b[1;31m# Get outputs.\u001b[0m\u001b[1;33m\u001b[0m\u001b[1;33m\u001b[0m\u001b[1;33m\u001b[0m\u001b[0m\n\u001b[1;32m--> 376\u001b[1;33m         \u001b[0mbatch_outs\u001b[0m \u001b[1;33m=\u001b[0m \u001b[0mf\u001b[0m\u001b[1;33m(\u001b[0m\u001b[0mins_batch\u001b[0m\u001b[1;33m)\u001b[0m\u001b[1;33m\u001b[0m\u001b[1;33m\u001b[0m\u001b[0m\n\u001b[0m\u001b[0;32m    377\u001b[0m         \u001b[1;32mif\u001b[0m \u001b[1;32mnot\u001b[0m \u001b[0misinstance\u001b[0m\u001b[1;33m(\u001b[0m\u001b[0mbatch_outs\u001b[0m\u001b[1;33m,\u001b[0m \u001b[0mlist\u001b[0m\u001b[1;33m)\u001b[0m\u001b[1;33m:\u001b[0m\u001b[1;33m\u001b[0m\u001b[1;33m\u001b[0m\u001b[0m\n\u001b[0;32m    378\u001b[0m           \u001b[0mbatch_outs\u001b[0m \u001b[1;33m=\u001b[0m \u001b[1;33m[\u001b[0m\u001b[0mbatch_outs\u001b[0m\u001b[1;33m]\u001b[0m\u001b[1;33m\u001b[0m\u001b[1;33m\u001b[0m\u001b[0m\n",
      "\u001b[1;32m~\\AppData\\Roaming\\Python\\Python36\\site-packages\\keras\\backend.py\u001b[0m in \u001b[0;36m__call__\u001b[1;34m(self, inputs)\u001b[0m\n\u001b[0;32m   4030\u001b[0m \u001b[1;33m\u001b[0m\u001b[0m\n\u001b[0;32m   4031\u001b[0m     fetched = self._callable_fn(*array_vals,\n\u001b[1;32m-> 4032\u001b[1;33m                                 run_metadata=self.run_metadata)\n\u001b[0m\u001b[0;32m   4033\u001b[0m     \u001b[0mself\u001b[0m\u001b[1;33m.\u001b[0m\u001b[0m_call_fetch_callbacks\u001b[0m\u001b[1;33m(\u001b[0m\u001b[0mfetched\u001b[0m\u001b[1;33m[\u001b[0m\u001b[1;33m-\u001b[0m\u001b[0mlen\u001b[0m\u001b[1;33m(\u001b[0m\u001b[0mself\u001b[0m\u001b[1;33m.\u001b[0m\u001b[0m_fetches\u001b[0m\u001b[1;33m)\u001b[0m\u001b[1;33m:\u001b[0m\u001b[1;33m]\u001b[0m\u001b[1;33m)\u001b[0m\u001b[1;33m\u001b[0m\u001b[1;33m\u001b[0m\u001b[0m\n\u001b[0;32m   4034\u001b[0m     output_structure = tf.nest.pack_sequence_as(\n",
      "\u001b[1;32m~\\anaconda3\\envs\\Intern_Project\\lib\\site-packages\\tensorflow\\python\\client\\session.py\u001b[0m in \u001b[0;36m__call__\u001b[1;34m(self, *args, **kwargs)\u001b[0m\n\u001b[0;32m   1478\u001b[0m         ret = tf_session.TF_SessionRunCallable(self._session._session,\n\u001b[0;32m   1479\u001b[0m                                                \u001b[0mself\u001b[0m\u001b[1;33m.\u001b[0m\u001b[0m_handle\u001b[0m\u001b[1;33m,\u001b[0m \u001b[0margs\u001b[0m\u001b[1;33m,\u001b[0m\u001b[1;33m\u001b[0m\u001b[1;33m\u001b[0m\u001b[0m\n\u001b[1;32m-> 1480\u001b[1;33m                                                run_metadata_ptr)\n\u001b[0m\u001b[0;32m   1481\u001b[0m         \u001b[1;32mif\u001b[0m \u001b[0mrun_metadata\u001b[0m\u001b[1;33m:\u001b[0m\u001b[1;33m\u001b[0m\u001b[1;33m\u001b[0m\u001b[0m\n\u001b[0;32m   1482\u001b[0m           \u001b[0mproto_data\u001b[0m \u001b[1;33m=\u001b[0m \u001b[0mtf_session\u001b[0m\u001b[1;33m.\u001b[0m\u001b[0mTF_GetBuffer\u001b[0m\u001b[1;33m(\u001b[0m\u001b[0mrun_metadata_ptr\u001b[0m\u001b[1;33m)\u001b[0m\u001b[1;33m\u001b[0m\u001b[1;33m\u001b[0m\u001b[0m\n",
      "\u001b[1;31mKeyboardInterrupt\u001b[0m: "
     ]
    }
   ],
   "source": [
    "model_num = model_05\n",
    "history = learning(model_num)"
   ]
  },
  {
   "cell_type": "code",
   "execution_count": 69,
   "id": "7953a9b1",
   "metadata": {
    "ExecuteTime": {
     "end_time": "2022-05-27T08:51:19.492625Z",
     "start_time": "2022-05-27T08:51:01.531675Z"
    }
   },
   "outputs": [
    {
     "name": "stdout",
     "output_type": "stream",
     "text": [
      "예측률 : 58.28%\n",
      "\n"
     ]
    }
   ],
   "source": [
    "print('예측률 : {:.2f}%'.format(model_num.evaluate(X_test, y_test)[1] * 100))\n",
    "print()\n",
    "# loaded_model = load_model('bilstm.h5')\n",
    "# print(\"\\n 테스트 정확도: %.4f\" % (loaded_model.evaluate(X_test, y_test)[1]))"
   ]
  },
  {
   "cell_type": "markdown",
   "id": "5ee2498d",
   "metadata": {},
   "source": [
    "## 데이터 학습 시각화\n",
    "\n",
    "- 오버피팅 : https://untitledtblog.tistory.com/158"
   ]
  },
  {
   "cell_type": "code",
   "execution_count": null,
   "id": "39807ffa",
   "metadata": {
    "ExecuteTime": {
     "end_time": "2022-05-27T08:50:59.449246Z",
     "start_time": "2022-05-27T08:44:26.988Z"
    }
   },
   "outputs": [],
   "source": [
    "hist_dict = history.history\n",
    "loss = hist_dict['loss']\n",
    "val_loss = hist_dict['val_loss']\n",
    "acc = hist_dict['accuracy']\n",
    "val_acc = hist_dict['val_accuracy']\n",
    "                \n",
    "plt.plot(loss, 'b--', label = 'training loss')\n",
    "plt.plot(val_loss, 'r:', label = 'validation loss')\n",
    "plt.legend()\n",
    "plt.grid()\n",
    "\n",
    "plt.figure()\n",
    "plt.plot(acc, 'b--', label='training accuracy')\n",
    "plt.plot(val_acc, 'r:', label='validation accuracy')\n",
    "plt.legend()\n",
    "plt.grid()"
   ]
  },
  {
   "cell_type": "code",
   "execution_count": null,
   "id": "2eb93566",
   "metadata": {
    "ExecuteTime": {
     "end_time": "2022-05-27T08:50:59.449246Z",
     "start_time": "2022-05-27T08:44:26.990Z"
    }
   },
   "outputs": [],
   "source": [
    "predict = model_num.predict(X_test)"
   ]
  },
  {
   "cell_type": "code",
   "execution_count": null,
   "id": "eec7c7ab",
   "metadata": {
    "ExecuteTime": {
     "end_time": "2022-05-27T08:50:59.450243Z",
     "start_time": "2022-05-27T08:44:26.991Z"
    }
   },
   "outputs": [],
   "source": [
    "predict_labels = np.argmax(predict, axis = 1)\n",
    "original_labels = np.argmax(y_test, axis = 1)"
   ]
  },
  {
   "cell_type": "code",
   "execution_count": null,
   "id": "9a06d671",
   "metadata": {
    "ExecuteTime": {
     "end_time": "2022-05-27T08:50:59.450243Z",
     "start_time": "2022-05-27T08:44:26.993Z"
    }
   },
   "outputs": [],
   "source": [
    "# for i in range(200):\n",
    "#     # print('기사 제목  :', X_test['nouns_contents'].iloc[i], '/\\t 원래 라벨 :', original_labels[i], '/\\t 예측한 라벨 :', predict_labels[i])\n",
    "#     print('원래 라벨 :', original_labels[i], '/\\t 예측한 라벨 :', predict_labels[i])"
   ]
  },
  {
   "cell_type": "markdown",
   "id": "d5c51e38",
   "metadata": {},
   "source": [
    "## 모델 평가 및 저장  후 테스트"
   ]
  },
  {
   "cell_type": "code",
   "execution_count": null,
   "id": "6524961d",
   "metadata": {
    "ExecuteTime": {
     "end_time": "2022-05-27T08:50:59.451240Z",
     "start_time": "2022-05-27T08:44:26.996Z"
    },
    "scrolled": true
   },
   "outputs": [],
   "source": [
    "print('예측률 : {:.2f}%'.format(model_num.evaluate(X_test, y_test)[1] * 100))\n",
    "print()\n",
    "# loaded_model = load_model('bilstm.h5')\n",
    "# print(\"\\n 테스트 정확도: %.4f\" % (loaded_model.evaluate(X_test, y_test)[1]))"
   ]
  },
  {
   "cell_type": "code",
   "execution_count": null,
   "id": "a6eb6736",
   "metadata": {
    "ExecuteTime": {
     "end_time": "2022-05-27T08:50:59.452237Z",
     "start_time": "2022-05-27T08:44:26.998Z"
    }
   },
   "outputs": [],
   "source": [
    "model_num.save('./HyperParameter_ModelLayer/LSTM_Sigmoid.h5')"
   ]
  },
  {
   "cell_type": "code",
   "execution_count": null,
   "id": "01c0244d",
   "metadata": {
    "ExecuteTime": {
     "end_time": "2022-05-27T08:50:59.452237Z",
     "start_time": "2022-05-27T08:44:27.000Z"
    }
   },
   "outputs": [],
   "source": [
    "from keras.models import load_model\n",
    "loaded_model = load_model('./HyperParameter_ModelLayer/LSTM_Sigmoid.h5')\n",
    "print(\"\\n 테스트 정확도 : {:.2f}%%\".format(loaded_model.evaluate(X_test, y_test)[1] * 100))"
   ]
  },
  {
   "cell_type": "markdown",
   "id": "b1e82455",
   "metadata": {},
   "source": [
    "## 모델이 예측한 긍정 / 부정 / 중립 시각화\n",
    "- model_01 사용 ( 기본 )\n",
    "- X_test 데이터에 대한 y_test 데이터로 평가한 결과 시각화"
   ]
  },
  {
   "cell_type": "code",
   "execution_count": null,
   "id": "c36b7243",
   "metadata": {
    "ExecuteTime": {
     "end_time": "2022-05-27T08:50:59.453235Z",
     "start_time": "2022-05-27T08:44:27.003Z"
    }
   },
   "outputs": [],
   "source": [
    "pd.Series(original_labels).unique()"
   ]
  },
  {
   "cell_type": "code",
   "execution_count": null,
   "id": "5a4c8ab9",
   "metadata": {
    "ExecuteTime": {
     "end_time": "2022-05-27T08:50:59.453235Z",
     "start_time": "2022-05-27T08:44:27.004Z"
    }
   },
   "outputs": [],
   "source": [
    "def change_idx(labels):\n",
    "    idx_tmp = list()\n",
    "    value_tmp = list()\n",
    "    for i in pd.Series(labels).unique():\n",
    "        if i == 0:\n",
    "            idx_tmp.append('부정')\n",
    "        if i == 1:\n",
    "            idx_tmp.append('중립')\n",
    "        if i == 2:\n",
    "            idx_tmp.append('긍정')\n",
    "        value_tmp.append(list(labels).count(i))\n",
    "    return value_tmp, idx_tmp"
   ]
  },
  {
   "cell_type": "code",
   "execution_count": null,
   "id": "6c9bea63",
   "metadata": {
    "ExecuteTime": {
     "end_time": "2022-05-27T08:50:59.454232Z",
     "start_time": "2022-05-27T08:44:27.006Z"
    }
   },
   "outputs": [],
   "source": [
    "r_value_tmp, r_idx_tmp = change_idx(original_labels)\n",
    "ori_view = pd.Series(data = r_value_tmp, index = r_idx_tmp)\n",
    "ori_view.sort_index(ascending=True, inplace=True)\n",
    "\n",
    "x = list(ori_view.keys())\n",
    "y = ori_view.values"
   ]
  },
  {
   "cell_type": "code",
   "execution_count": null,
   "id": "3a5448a4",
   "metadata": {
    "ExecuteTime": {
     "end_time": "2022-05-27T08:50:59.455230Z",
     "start_time": "2022-05-27T08:44:27.007Z"
    }
   },
   "outputs": [],
   "source": [
    "p_value_tmp, p_idx_tmp = change_idx(predict_labels)\n",
    "pre_view = pd.Series(data = p_value_tmp, index = p_idx_tmp)\n",
    "pre_view.sort_index(ascending=True, inplace=True)\n",
    "\n",
    "w = list(pre_view.keys())\n",
    "z = pre_view.values"
   ]
  },
  {
   "cell_type": "code",
   "execution_count": null,
   "id": "2ac5c68f",
   "metadata": {
    "ExecuteTime": {
     "end_time": "2022-05-27T08:50:59.455230Z",
     "start_time": "2022-05-27T08:44:27.009Z"
    }
   },
   "outputs": [],
   "source": [
    "Visualization = pd.DataFrame({'raw_label' : 0,\n",
    "              'predict_label' : 0}, index = ['긍정', '부정', '중립'])"
   ]
  },
  {
   "cell_type": "code",
   "execution_count": null,
   "id": "59e98cdb",
   "metadata": {
    "ExecuteTime": {
     "end_time": "2022-05-27T08:50:59.456227Z",
     "start_time": "2022-05-27T08:44:27.010Z"
    }
   },
   "outputs": [],
   "source": [
    "idx = 0\n",
    "for i, j in zip(Visualization['raw_label'].index, Visualization['predict_label'].index):\n",
    "    # print(p_value_tmp[p_idx_tmp.index(i)])\n",
    "    Visualization['raw_label'][i] = r_value_tmp[r_idx_tmp.index(i)]\n",
    "    Visualization['predict_label'][j] = p_value_tmp[p_idx_tmp.index(i)]"
   ]
  },
  {
   "cell_type": "code",
   "execution_count": null,
   "id": "c9437aaa",
   "metadata": {
    "ExecuteTime": {
     "end_time": "2022-05-27T08:50:59.456227Z",
     "start_time": "2022-05-27T08:44:27.012Z"
    }
   },
   "outputs": [],
   "source": [
    "Visualization"
   ]
  },
  {
   "cell_type": "code",
   "execution_count": null,
   "id": "21e96974",
   "metadata": {
    "ExecuteTime": {
     "end_time": "2022-05-27T08:50:59.457224Z",
     "start_time": "2022-05-27T08:44:27.013Z"
    }
   },
   "outputs": [],
   "source": [
    "print('테스트 데이터 셋 예측')\n",
    "Calculation = list(Visualization['predict_label'] / Visualization['raw_label'])\n",
    "row = list(Visualization.index)\n",
    "for idx in range(len(Calculation)):\n",
    "    print('{} :'.format(row[idx]), end=' ')\n",
    "    if Calculation[idx] > 1:\n",
    "        print('{:.2f} %'.format((2 - Calculation[idx]) * 100))\n",
    "    else:\n",
    "        print('{:.2f} %'.format(Calculation[idx] * 100))"
   ]
  },
  {
   "cell_type": "code",
   "execution_count": null,
   "id": "7f44b13e",
   "metadata": {
    "ExecuteTime": {
     "end_time": "2022-05-27T08:50:59.458221Z",
     "start_time": "2022-05-27T08:44:27.014Z"
    }
   },
   "outputs": [],
   "source": [
    "ax = Visualization.plot(kind = 'bar', figsize = (10, 6), fontsize=14, rot=0)\n",
    "graph_value = list(Visualization['raw_label']) + list(Visualization['predict_label']) + list(['end'])\n",
    "jump = 0\n",
    "\n",
    "for p in ax.patches:\n",
    "    left, bottom, width, height = p.get_bbox().bounds\n",
    "    if jump < 3:\n",
    "        ax.annotate('{}'.format(graph_value.pop(0)), (left+width/2, height*1.01), ha='center', color = 'black', fontsize = 14)\n",
    "    else:\n",
    "        ax.annotate('{}'.format(graph_value.pop(0)), (left+width/2, height*1.01), ha='center', color = 'red', fontsize = 14)\n",
    "    jump += 1\n",
    "\n",
    "# plt.title(\"긍정 / 부정 / 중립 예측률\", size = 16)\n",
    "plt.ylim(0, max(max(y), max(z)) + 100)\n",
    "plt.rc('legend', fontsize=16)  # 범례 폰트 크기\n",
    "\n",
    "plt.legend()\n",
    "plt.title('긍정 / 부정 / 중립 예측률', size = 18)\n",
    "plt.savefig('savefig_default.jpg')\n",
    "plt.show()"
   ]
  },
  {
   "cell_type": "markdown",
   "id": "49399098",
   "metadata": {},
   "source": [
    "# 그래프 분석 (EDA)\n",
    "<br>\n",
    "\n",
    "**언론사별 / 월별 / 주중별기사 수량 확인**\n",
    "    \n",
    "    ▶ 언론사를 각 숫자로 표현 후 EDA 실시 Ex) 1 : 미디어펜, 2 : 아이뉴스24, 3 : 데일리안 ...\n",
    "    ▶ date : 등록된 기사별 날짜\n",
    "**아직 제대로 진행 안됨...**"
   ]
  },
  {
   "cell_type": "code",
   "execution_count": null,
   "id": "472db68c",
   "metadata": {
    "ExecuteTime": {
     "end_time": "2022-05-27T08:50:59.458221Z",
     "start_time": "2022-05-27T08:44:27.016Z"
    }
   },
   "outputs": [],
   "source": [
    "# 날짜별 데이터 갯수\n",
    "df_news.groupby('date').count().head(3)"
   ]
  },
  {
   "cell_type": "markdown",
   "id": "67f28ebb",
   "metadata": {},
   "source": [
    "## 월별 기사 갯수\n",
    "<br>\n",
    "\n",
    "- 월별로 꺽은선 그래프로 학습된 긍정 / 부정 / 중립 개수 표현하기\n",
    "\n",
    "**참고사이트 : https://zephyrus1111.tistory.com/9**"
   ]
  },
  {
   "cell_type": "code",
   "execution_count": null,
   "id": "f47efef6",
   "metadata": {
    "ExecuteTime": {
     "end_time": "2022-05-27T08:50:59.459219Z",
     "start_time": "2022-05-27T08:44:27.018Z"
    }
   },
   "outputs": [],
   "source": [
    "df_news.describe(include='all')"
   ]
  },
  {
   "cell_type": "code",
   "execution_count": null,
   "id": "eec99b85",
   "metadata": {
    "ExecuteTime": {
     "end_time": "2022-05-27T08:50:59.460216Z",
     "start_time": "2022-05-27T08:44:27.019Z"
    },
    "scrolled": false
   },
   "outputs": [],
   "source": [
    "df_news.head()"
   ]
  },
  {
   "cell_type": "code",
   "execution_count": null,
   "id": "5e555bb8",
   "metadata": {
    "ExecuteTime": {
     "end_time": "2022-05-27T08:50:59.460216Z",
     "start_time": "2022-05-27T08:44:27.020Z"
    }
   },
   "outputs": [],
   "source": [
    "df_news.hist(figsize = (16, 12))\n",
    "plt.show()"
   ]
  },
  {
   "cell_type": "code",
   "execution_count": null,
   "id": "11bb4c06",
   "metadata": {
    "ExecuteTime": {
     "end_time": "2022-05-27T08:50:59.461213Z",
     "start_time": "2022-05-27T08:44:27.022Z"
    }
   },
   "outputs": [],
   "source": [
    "# 2021년도부터 시작\n",
    "def next_date_get(x):\n",
    "    year = 21\n",
    "    for i in range(len(x)):\n",
    "        if (x[i] % 12) != 0:\n",
    "            if x[i] < 10:\n",
    "                x.insert(i, '{}.0'.format(str(year)) + str(x.pop(i)))\n",
    "            else:\n",
    "                x.insert(i, '{}.'.format(str(year)) + str(x.pop(i)))\n",
    "        else:\n",
    "            x.insert(i, '{}.'.format(str(year)) + str(x.pop(i))) # 12월까지 카운트\n",
    "            year += 1 # 다음년도\n",
    "    return x\n",
    "\n",
    "# 월별로 정렬이 되어 있으므로 21 ~ 22년도 사이 지정 해주어야 함.\n",
    "x = next_date_get(df_news['month'].unique().tolist()) \n",
    "\n",
    "tmp_a, tmp_b = df_news.groupby('month')['date'].count().tolist()[4:], df_news.groupby('month')['date'].count().tolist()[:4]\n",
    "y = tmp_a + tmp_b\n",
    "\n",
    "print('2021.05 ~ :', x) # 월\n",
    "print('2021.05 ~ :', y) # 값"
   ]
  },
  {
   "cell_type": "code",
   "execution_count": null,
   "id": "df546274",
   "metadata": {
    "ExecuteTime": {
     "end_time": "2022-05-27T08:50:59.461213Z",
     "start_time": "2022-05-27T08:44:27.023Z"
    }
   },
   "outputs": [],
   "source": [
    "plt.figure(figsize = (16, 8))\n",
    "\n",
    "for i, v in enumerate(x):\n",
    "    plt.text(v, y[i], y[i],                 # 좌표 (x축 = v, y축 = y[0]..y[1], 표시 = y[0]..y[1])\n",
    "             fontsize = 15, \n",
    "             color='green',\n",
    "             horizontalalignment='center',  # horizontalalignment (left, center, right)\n",
    "             verticalalignment='bottom')    # verticalalignment (top, center, bottom)\n",
    "\n",
    "plt.title('월별 뉴스 기사', size = 25)\n",
    "plt.bar(x, y, width=0.5, color='pink')\n",
    "plt.xlabel('월별', size = 20, labelpad=20) # x축 제목 설정\n",
    "plt.ylabel('갯수', size = 20, labelpad=20) #y축 제목 설정, 빨간 글씨\n",
    "plt.show()"
   ]
  },
  {
   "cell_type": "markdown",
   "id": "f54eacb9",
   "metadata": {},
   "source": [
    "## 언론사별 기사 갯수\n",
    "- 언론사별 범주형 데이터 --> 수치형으로 변환"
   ]
  },
  {
   "cell_type": "code",
   "execution_count": null,
   "id": "b342f1ef",
   "metadata": {
    "ExecuteTime": {
     "end_time": "2022-05-27T08:50:59.462211Z",
     "start_time": "2022-05-27T08:44:27.025Z"
    },
    "scrolled": false
   },
   "outputs": [],
   "source": [
    "df_news.head(1)"
   ]
  },
  {
   "cell_type": "code",
   "execution_count": null,
   "id": "821b5e16",
   "metadata": {
    "ExecuteTime": {
     "end_time": "2022-05-27T08:50:59.463208Z",
     "start_time": "2022-05-27T08:44:27.027Z"
    }
   },
   "outputs": [],
   "source": [
    "len(df_news['press'].unique())\n",
    "df_news['press'].unique()[:5]"
   ]
  },
  {
   "cell_type": "code",
   "execution_count": null,
   "id": "9590f120",
   "metadata": {
    "ExecuteTime": {
     "end_time": "2022-05-27T08:50:59.463208Z",
     "start_time": "2022-05-27T08:44:27.028Z"
    }
   },
   "outputs": [],
   "source": [
    "df_news['press'].unique()\n",
    "x = df_news['press'].value_counts().index.tolist()\n",
    "y = df_news['press'].value_counts().values.tolist()"
   ]
  },
  {
   "cell_type": "code",
   "execution_count": null,
   "id": "77afdff1",
   "metadata": {
    "ExecuteTime": {
     "end_time": "2022-05-27T08:50:59.464206Z",
     "start_time": "2022-05-27T08:44:27.030Z"
    }
   },
   "outputs": [],
   "source": [
    "# 기사 갯수가 85 이상인 것만\n",
    "limit = 0\n",
    "for idx, value  in enumerate(y):\n",
    "    if value < 85:\n",
    "        limit = idx\n",
    "        break\n",
    "\n",
    "x = x[:limit]\n",
    "y = y[:limit]"
   ]
  },
  {
   "cell_type": "code",
   "execution_count": null,
   "id": "fa83c21a",
   "metadata": {
    "ExecuteTime": {
     "end_time": "2022-05-27T08:50:59.465203Z",
     "start_time": "2022-05-27T08:44:27.031Z"
    }
   },
   "outputs": [],
   "source": [
    "df_news['press'].value_counts()[50:]"
   ]
  },
  {
   "cell_type": "code",
   "execution_count": null,
   "id": "9ed1f99f",
   "metadata": {
    "ExecuteTime": {
     "end_time": "2022-05-27T08:50:59.465203Z",
     "start_time": "2022-05-27T08:44:27.033Z"
    },
    "scrolled": true
   },
   "outputs": [],
   "source": [
    "plt.figure(figsize = (46, 12))\n",
    "\n",
    "for i, v in enumerate(x):\n",
    "    plt.text(v, y[i], y[i],                 # 좌표 (x축 = v, y축 = y[0]..y[1], 표시 = y[0]..y[1])\n",
    "             fontsize = 15, \n",
    "             color='green',\n",
    "             horizontalalignment='center',  # horizontalalignment (left, center, right)\n",
    "             verticalalignment='bottom')    # verticalalignment (top, center, bottom)\n",
    "\n",
    "plt.title('언론사별 기사 개수', fontsize = 20)\n",
    "plt.bar(x, y, width=0.5, color = 'pink')\n",
    "plt.xticks(rotation = -45)\n",
    "plt.xlabel('count', fontsize=20)\n",
    "plt.ylabel('press', fontsize=20)\n",
    "plt.show()"
   ]
  },
  {
   "cell_type": "markdown",
   "id": "a904a87e",
   "metadata": {},
   "source": [
    "# 해야할 것들\n",
    "- 이슈분석지표 워드 클라우드는 이제 단어별 갯수 구한 후 표 그리면 완성\n",
    "- 감정분석 \n",
    "<br><br>\n",
    "- 1. 현재 사용중인 CSV파일이 아닌 1년치 데이터를 스크래핑\n",
    "<br><br>\n",
    "- 2. 스크래핑한 데이터의 갯수가 50000개의 데이터라면 / Train_set : 70% Test_set : 30%로 분할 (랜덤모듈이용)<br>\n",
    "※ 단, Test_set 분할시 2.5%로 12개월분할하면 제일 좋음 ( 매달마다 2.5%의 Test_set를 뽑아와서 총 30%로 만듬.) 1~12월 골고루 뽑아올 수 있음.\n",
    "<br><br>\n",
    "- 3. Train_set에 Labeling을 해주어야 함. (긍정 1, 부정 -1, 중립 0)\n",
    "<br>\n",
    "※ Labeling 할 때 어떤식으로 정답을 부여할지 생각해야 됨.\n",
    "<br>\n",
    "<br>\n",
    "- 4. 코로나 이전 1년치랑 이후 1년치 데이터 비교\n",
    "<br>\n",
    "1. 긍정 부정 단어사전 구축 후 레이블링 작업 진행\n"
   ]
  },
  {
   "cell_type": "code",
   "execution_count": null,
   "id": "834adc6a",
   "metadata": {},
   "outputs": [],
   "source": []
  }
 ],
 "metadata": {
  "kernelspec": {
   "display_name": "Proj",
   "language": "python",
   "name": "intern_project"
  },
  "language_info": {
   "codemirror_mode": {
    "name": "ipython",
    "version": 3
   },
   "file_extension": ".py",
   "mimetype": "text/x-python",
   "name": "python",
   "nbconvert_exporter": "python",
   "pygments_lexer": "ipython3",
   "version": "3.6.13"
  },
  "toc": {
   "base_numbering": 1,
   "nav_menu": {},
   "number_sections": true,
   "sideBar": true,
   "skip_h1_title": false,
   "title_cell": "Table of Contents",
   "title_sidebar": "Contents",
   "toc_cell": false,
   "toc_position": {
    "height": "calc(100% - 180px)",
    "left": "10px",
    "top": "150px",
    "width": "238.2px"
   },
   "toc_section_display": true,
   "toc_window_display": true
  }
 },
 "nbformat": 4,
 "nbformat_minor": 5
}
