{
 "cells": [
  {
   "cell_type": "code",
   "execution_count": 1,
   "id": "448364d4",
   "metadata": {
    "ExecuteTime": {
     "end_time": "2022-06-02T01:54:43.050585Z",
     "start_time": "2022-06-02T01:54:39.352474Z"
    }
   },
   "outputs": [],
   "source": [
    "import tensorflow as tf\n",
    "from tensorflow.keras import datasets, layers, models\n",
    "\n",
    "gpus = tf.config.experimental.list_physical_devices('GPU')\n",
    "if gpus:\n",
    "    try:\n",
    "        # Currently, memory growth needs to be the same across GPUs\n",
    "        for gpu in gpus:\n",
    "            tf.config.experimental.set_memory_growth(gpu, True)\n",
    "    except RuntimeError as e:\n",
    "        # Memory growth must be set before GPUs have been initialized\n",
    "        print(e)"
   ]
  },
  {
   "cell_type": "markdown",
   "id": "68b209b2",
   "metadata": {},
   "source": [
    "# 전처리된 데이터 셋 불러오기"
   ]
  },
  {
   "cell_type": "code",
   "execution_count": 2,
   "id": "213eb640",
   "metadata": {
    "ExecuteTime": {
     "end_time": "2022-06-02T01:54:43.065542Z",
     "start_time": "2022-06-02T01:54:43.051579Z"
    }
   },
   "outputs": [],
   "source": [
    "# 주피터노트북 단축키\n",
    "# https://nittaku.tistory.com/428"
   ]
  },
  {
   "cell_type": "code",
   "execution_count": 3,
   "id": "052c0275",
   "metadata": {
    "ExecuteTime": {
     "end_time": "2022-06-02T01:54:44.187567Z",
     "start_time": "2022-06-02T01:54:43.066539Z"
    }
   },
   "outputs": [],
   "source": [
    "import pandas as pd\n",
    "import numpy as np\n",
    "import matplotlib\n",
    "import datetime, time\n",
    "import re\n",
    "import timedelta\n",
    "import matplotlib.pyplot as plt\n",
    "import seaborn as sns\n",
    "import os\n",
    "import sys"
   ]
  },
  {
   "cell_type": "markdown",
   "id": "fcad6cad",
   "metadata": {},
   "source": [
    "## DataFrame 2가지 존재 ( 원본, 중복제거 )\n",
    "\n",
    "- 중복제거 데이터가 성능이 뛰어남."
   ]
  },
  {
   "cell_type": "code",
   "execution_count": 4,
   "id": "e6737cb0",
   "metadata": {
    "ExecuteTime": {
     "end_time": "2022-06-02T01:54:44.546583Z",
     "start_time": "2022-06-02T01:54:44.188537Z"
    }
   },
   "outputs": [],
   "source": [
    "# 중복 제거 X\n",
    "df_news = pd.read_csv('./Data_Set/news_data_preprocessing.csv', engine= 'python',encoding = 'utf-8')\n",
    "# 중복 제거 O\n",
    "df_news_overlap = pd.read_csv('./Data_Set/news_data_preprocessing_duplicate.csv', engine= 'python',encoding = 'utf-8')"
   ]
  },
  {
   "cell_type": "code",
   "execution_count": 5,
   "id": "5a1ff349",
   "metadata": {
    "ExecuteTime": {
     "end_time": "2022-06-02T01:54:44.561539Z",
     "start_time": "2022-06-02T01:54:44.547576Z"
    }
   },
   "outputs": [
    {
     "data": {
      "text/plain": [
       "16523"
      ]
     },
     "execution_count": 5,
     "metadata": {},
     "output_type": "execute_result"
    }
   ],
   "source": [
    "len(df_news_overlap)"
   ]
  },
  {
   "cell_type": "code",
   "execution_count": 6,
   "id": "ba8b2dfd",
   "metadata": {
    "ExecuteTime": {
     "end_time": "2022-06-02T01:54:44.576499Z",
     "start_time": "2022-06-02T01:54:44.562537Z"
    }
   },
   "outputs": [
    {
     "data": {
      "text/plain": [
       "Index(['Unnamed: 0', 'date', 'year', 'month', 'day', 'title', 'nouns_title',\n",
       "       'press', 'contents', 'nouns_contents'],\n",
       "      dtype='object')"
      ]
     },
     "execution_count": 6,
     "metadata": {},
     "output_type": "execute_result"
    }
   ],
   "source": [
    "df_news.columns"
   ]
  },
  {
   "cell_type": "code",
   "execution_count": 7,
   "id": "eef67a29",
   "metadata": {
    "ExecuteTime": {
     "end_time": "2022-06-02T01:54:44.591459Z",
     "start_time": "2022-06-02T01:54:44.577497Z"
    }
   },
   "outputs": [],
   "source": [
    "df_news = df_news.loc[:,['date', 'year', 'month', 'day', 'title', 'nouns_title',\n",
    "       'press', 'contents', 'nouns_contents']]\n",
    "df_news_overlap = df_news_overlap.loc[:,['date', 'year', 'month', 'day', 'title', 'nouns_title',\n",
    "       'press', 'contents', 'nouns_contents']]"
   ]
  },
  {
   "cell_type": "code",
   "execution_count": 8,
   "id": "1f61541c",
   "metadata": {
    "ExecuteTime": {
     "end_time": "2022-06-02T01:54:44.606419Z",
     "start_time": "2022-06-02T01:54:44.592457Z"
    }
   },
   "outputs": [],
   "source": [
    "# 시각화 글자 깨짐 방지\n",
    "if os.name == 'posix':\n",
    "    plt.rc(\"font\", family=\"Malgun Gothic\")\n",
    "else:\n",
    "    plt.rc(\"font\", family=\"Malgun Gothic\")"
   ]
  },
  {
   "cell_type": "markdown",
   "id": "a5ee068a",
   "metadata": {},
   "source": [
    "# 레이블링 / 데이터 셋 분할 / 정수 인코딩\n",
    "\n",
    "- 긍정 부정 단어를 분류 기초 방식. 따라서 보충이 필요.\n",
    "\n",
    "**※논문 참고(계산법) : http://www.koreascience.kr/article/JAKO201719363360793.pdf**"
   ]
  },
  {
   "cell_type": "markdown",
   "id": "7aed8444",
   "metadata": {},
   "source": [
    "## 레이블링"
   ]
  },
  {
   "cell_type": "code",
   "execution_count": 9,
   "id": "99d81548",
   "metadata": {
    "ExecuteTime": {
     "end_time": "2022-06-02T01:54:44.621379Z",
     "start_time": "2022-06-02T01:54:44.607417Z"
    }
   },
   "outputs": [],
   "source": [
    "pos_word = []\n",
    "neg_word = []\n",
    "pos_neg = []\n",
    "\n",
    "pos = open('./pos_neg_dictionary/positive_word.txt', 'r', encoding='UTF-8')\n",
    "\n",
    "while True:\n",
    "    line = pos.readline().rstrip()\n",
    "    pos_word.append(line)\n",
    "    \n",
    "    if not line:\n",
    "        break\n",
    "\n",
    "pos.close()\n",
    "\n",
    "neg = open('./pos_neg_dictionary/negative_word.txt', 'r', encoding='UTF-8')\n",
    "\n",
    "while True:\n",
    "    line = neg.readline().rstrip()\n",
    "    neg_word.append(line)\n",
    "    \n",
    "    if not line:\n",
    "        break\n",
    "\n",
    "neg.close()"
   ]
  },
  {
   "cell_type": "code",
   "execution_count": 10,
   "id": "6ec0bff7",
   "metadata": {
    "ExecuteTime": {
     "end_time": "2022-06-02T01:54:44.636339Z",
     "start_time": "2022-06-02T01:54:44.622376Z"
    }
   },
   "outputs": [],
   "source": [
    "# 마지막 인덱스 '' 제거\n",
    "pos_word = pos_word[:-1]\n",
    "neg_word = neg_word[:-1]\n",
    "pos_neg = pos_word + neg_word"
   ]
  },
  {
   "cell_type": "markdown",
   "id": "5e334fd7",
   "metadata": {},
   "source": [
    "### 2개의 클래스로 이진분류 --> 중립은 갯수만 파악"
   ]
  },
  {
   "cell_type": "code",
   "execution_count": 11,
   "id": "9aa39f7f",
   "metadata": {
    "ExecuteTime": {
     "end_time": "2022-06-02T01:54:47.209483Z",
     "start_time": "2022-06-02T01:54:44.637337Z"
    }
   },
   "outputs": [
    {
     "name": "stdout",
     "output_type": "stream",
     "text": [
      "부정:1213   긍정:11901   중립:3409\n"
     ]
    }
   ],
   "source": [
    "pd.set_option('mode.chained_assignment',  None) # 경고 off\n",
    "state = list()\n",
    "\n",
    "# 중립 갯수\n",
    "mid = 0\n",
    "for x in df_news_overlap['nouns_contents']:\n",
    "    words = x.split(' ')\n",
    "    total, p, n = 0, 0, 0\n",
    "    for i in words:\n",
    "        if i in pos_word:\n",
    "            p += 1\n",
    "        elif i in neg_word:\n",
    "            n += 1\n",
    "    \n",
    "    # 기사 제목당 긍정갯수 - 부정 갯수\n",
    "    total = p - n\n",
    "    if total > 0:\n",
    "        state.append(1)\n",
    "    elif total == 0:\n",
    "        mid += 1\n",
    "    else:\n",
    "        state.append(-1)\n",
    "\n",
    "print('부정:%d   긍정:%d   중립:%d' % (state.count(-1), state.count(1), mid))\n",
    "\n",
    "\n",
    "df_news_overlap['label'] = 0\n",
    "for i in range(len(state)):\n",
    "    df_news_overlap['label'][i] = state[i]\n",
    "\n",
    "# df_news_overlap[df_news_overlap['label'].contains(0)].index\n",
    "# 중립 제거\n",
    "remove_mid_value = df_news_overlap[df_news_overlap['label'] == 0].index\n",
    "df_news_overlap.drop(remove_mid_value, inplace = True)"
   ]
  },
  {
   "cell_type": "code",
   "execution_count": 12,
   "id": "3bfc96bf",
   "metadata": {
    "ExecuteTime": {
     "end_time": "2022-06-02T01:54:47.224443Z",
     "start_time": "2022-06-02T01:54:47.210453Z"
    }
   },
   "outputs": [
    {
     "data": {
      "text/plain": [
       "3409"
      ]
     },
     "execution_count": 12,
     "metadata": {},
     "output_type": "execute_result"
    }
   ],
   "source": [
    "# 중립 --> 학습 데이터에서 제거\n",
    "mid"
   ]
  },
  {
   "cell_type": "code",
   "execution_count": 13,
   "id": "6eefefe3",
   "metadata": {
    "ExecuteTime": {
     "end_time": "2022-06-02T01:54:47.239376Z",
     "start_time": "2022-06-02T01:54:47.225413Z"
    }
   },
   "outputs": [
    {
     "data": {
      "text/plain": [
       "0    1\n",
       "1    1\n",
       "2    1\n",
       "Name: label, dtype: int64"
      ]
     },
     "execution_count": 13,
     "metadata": {},
     "output_type": "execute_result"
    }
   ],
   "source": [
    "df_news_overlap['label'].head(3)"
   ]
  },
  {
   "cell_type": "code",
   "execution_count": 14,
   "id": "9b1a3525",
   "metadata": {
    "ExecuteTime": {
     "end_time": "2022-06-02T01:54:47.254337Z",
     "start_time": "2022-06-02T01:54:47.240373Z"
    }
   },
   "outputs": [],
   "source": [
    "# 인덱스 번호 새로 부여\n",
    "df_news_overlap.reset_index(inplace=True)"
   ]
  },
  {
   "cell_type": "markdown",
   "id": "7709a337",
   "metadata": {},
   "source": [
    "## Train Set / Test Set 분할\n",
    "\n",
    "- Train Set과 Test Set으로 분류 ( 7:3 )\n",
    "- train_test_split() 함수에서 shuffle / default option : True.\n",
    "- stratify 옵션 중요 !!\n",
    "- Pos : 개선 / Neg : 불만\n",
    "\n",
    "**참고 https://sosoeasy.tistory.com/488 / https://teddylee777.github.io/scikit-learn/train-test-split**"
   ]
  },
  {
   "cell_type": "code",
   "execution_count": 15,
   "id": "c98072f3",
   "metadata": {
    "ExecuteTime": {
     "end_time": "2022-06-02T01:54:47.957454Z",
     "start_time": "2022-06-02T01:54:47.255333Z"
    }
   },
   "outputs": [],
   "source": [
    "from sklearn.model_selection import train_test_split"
   ]
  },
  {
   "cell_type": "markdown",
   "id": "ef5236ed",
   "metadata": {},
   "source": [
    "### 데이터 분할 시 테이블 변경 가능"
   ]
  },
  {
   "cell_type": "code",
   "execution_count": 16,
   "id": "2354a0b9",
   "metadata": {
    "ExecuteTime": {
     "end_time": "2022-06-02T01:54:47.972442Z",
     "start_time": "2022-06-02T01:54:47.958451Z"
    }
   },
   "outputs": [],
   "source": [
    "# 필요한 데이터만 추출 / 컬럼명 변경\n",
    "# 80% / 20% 으로 분할\n",
    "x_train, x_test = train_test_split(df_news_overlap.loc[:,['nouns_contents', 'label']], test_size = 0.3, shuffle = True, random_state = 1234)"
   ]
  },
  {
   "cell_type": "code",
   "execution_count": 17,
   "id": "8cb3a871",
   "metadata": {
    "ExecuteTime": {
     "end_time": "2022-06-02T01:54:47.987375Z",
     "start_time": "2022-06-02T01:54:47.973413Z"
    }
   },
   "outputs": [],
   "source": [
    "# 인덱스 번호 새로 부여.\n",
    "x_train.reset_index(inplace=True)\n",
    "x_train.drop(['index'], axis=1, inplace=True)\n",
    "\n",
    "x_test.reset_index(inplace=True)\n",
    "x_test.drop(['index'], axis=1, inplace=True)"
   ]
  },
  {
   "cell_type": "code",
   "execution_count": 18,
   "id": "e1cb1a60",
   "metadata": {
    "ExecuteTime": {
     "end_time": "2022-06-02T01:54:48.002338Z",
     "start_time": "2022-06-02T01:54:47.988372Z"
    }
   },
   "outputs": [
    {
     "name": "stdout",
     "output_type": "stream",
     "text": [
      "<class 'pandas.core.frame.DataFrame'> <class 'pandas.core.frame.DataFrame'>\n"
     ]
    }
   ],
   "source": [
    "# 2개의 데이터 프레임 생성\n",
    "print(type(x_train), type(x_test))"
   ]
  },
  {
   "cell_type": "markdown",
   "id": "5fa11919",
   "metadata": {},
   "source": [
    "### Train Set / Test Set 시각화 및 레이블 현황\n",
    "\n",
    "**참고 : isin() 문법 참고 : https://rfriend.tistory.com/460**"
   ]
  },
  {
   "cell_type": "code",
   "execution_count": 19,
   "id": "5910c924",
   "metadata": {
    "ExecuteTime": {
     "end_time": "2022-06-02T01:54:48.181882Z",
     "start_time": "2022-06-02T01:54:48.003332Z"
    }
   },
   "outputs": [
    {
     "data": {
      "image/png": "[encoded data removed]",
      "text/plain": [
       "<Figure size 432x288 with 1 Axes>"
      ]
     },
     "metadata": {
      "needs_background": "light"
     },
     "output_type": "display_data"
    }
   ],
   "source": [
    "x_train['label'].value_counts().plot(kind='bar')\n",
    "plt.title('Train Set Label', size = 15)\n",
    "plt.show()"
   ]
  },
  {
   "cell_type": "code",
   "execution_count": 20,
   "id": "40e68e2c",
   "metadata": {
    "ExecuteTime": {
     "end_time": "2022-06-02T01:54:48.256685Z",
     "start_time": "2022-06-02T01:54:48.182877Z"
    }
   },
   "outputs": [
    {
     "data": {
      "image/png": "[encoded data removed]",
      "text/plain": [
       "<Figure size 432x288 with 1 Axes>"
      ]
     },
     "metadata": {
      "needs_background": "light"
     },
     "output_type": "display_data"
    }
   ],
   "source": [
    "x_test['label'].value_counts().plot(kind='bar')\n",
    "plt.title('Test Set Label', size = 15)\n",
    "plt.show()"
   ]
  },
  {
   "cell_type": "code",
   "execution_count": 21,
   "id": "0b377fc3",
   "metadata": {
    "ExecuteTime": {
     "end_time": "2022-06-02T01:54:48.271614Z",
     "start_time": "2022-06-02T01:54:48.257652Z"
    }
   },
   "outputs": [
    {
     "name": "stdout",
     "output_type": "stream",
     "text": [
      "Train_Set  긍정(1) : 8314 \n",
      "\t   중립(0) : 0 \n",
      "\t   부정(-1) : 865 \n",
      "\t   총 합계 : 9179\n",
      "\n",
      "Test_Set   긍정(1) : 3587 \n",
      "\t   중립(0) : 0 \n",
      "\t   부정(-1) : 348 \n",
      "\t   총 합계 : 3935\n"
     ]
    }
   ],
   "source": [
    "# Train_Set 레이블 현황 갯수\n",
    "print('Train_Set  긍정(1) : {} \\n\\t   중립(0) : {} \\n\\t   부정(-1) : {} \\n\\t   총 합계 : {}'.format(len(x_train[x_train['label'].isin([1])]), len(x_train[x_train['label'].isin([0])]), len(x_train[x_train['label'].isin([-1])]), len(x_train)))\n",
    "print()\n",
    "# Test_Set 레이블 현황 갯수\n",
    "print('Test_Set   긍정(1) : {} \\n\\t   중립(0) : {} \\n\\t   부정(-1) : {} \\n\\t   총 합계 : {}'.format(len(x_test[x_test['label'].isin([1])]), len(x_test[x_test['label'].isin([0])]), len(x_test[x_test['label'].isin([-1])]), len(x_test)))"
   ]
  },
  {
   "cell_type": "markdown",
   "id": "3e485df2",
   "metadata": {},
   "source": [
    "## Convert to two_dimensional list"
   ]
  },
  {
   "cell_type": "code",
   "execution_count": 22,
   "id": "fdf13752",
   "metadata": {
    "ExecuteTime": {
     "end_time": "2022-06-02T01:54:48.286574Z",
     "start_time": "2022-06-02T01:54:48.272612Z"
    }
   },
   "outputs": [
    {
     "name": "stdout",
     "output_type": "stream",
     "text": [
      "9179 3935\n"
     ]
    }
   ],
   "source": [
    "print(len(x_train), len(x_test))"
   ]
  },
  {
   "cell_type": "code",
   "execution_count": 23,
   "id": "178127da",
   "metadata": {
    "ExecuteTime": {
     "end_time": "2022-06-02T01:54:48.301534Z",
     "start_time": "2022-06-02T01:54:48.290564Z"
    }
   },
   "outputs": [
    {
     "data": {
      "text/html": [
       "<div>\n",
       "<style scoped>\n",
       "    .dataframe tbody tr th:only-of-type {\n",
       "        vertical-align: middle;\n",
       "    }\n",
       "\n",
       "    .dataframe tbody tr th {\n",
       "        vertical-align: top;\n",
       "    }\n",
       "\n",
       "    .dataframe thead th {\n",
       "        text-align: right;\n",
       "    }\n",
       "</style>\n",
       "<table border=\"1\" class=\"dataframe\">\n",
       "  <thead>\n",
       "    <tr style=\"text-align: right;\">\n",
       "      <th></th>\n",
       "      <th>nouns_contents</th>\n",
       "      <th>label</th>\n",
       "    </tr>\n",
       "  </thead>\n",
       "  <tbody>\n",
       "    <tr>\n",
       "      <th>0</th>\n",
       "      <td>김태오 왼쪽 DGB 대구 은행 은행 장 송준기 대 적십자사 대구 지사 회장 기념 촬...</td>\n",
       "      <td>1</td>\n",
       "    </tr>\n",
       "    <tr>\n",
       "      <th>1</th>\n",
       "      <td>DGB 대 구 은행 에서 서정동 대표 여 신통 불리다 만큼 DGB 대 구 은행 DG...</td>\n",
       "      <td>1</td>\n",
       "    </tr>\n",
       "    <tr>\n",
       "      <th>2</th>\n",
       "      <td>최근 김태오 DGB 금융 지주 회장 사주 1만 주를 사들이다 DGB 금융 대구 은행...</td>\n",
       "      <td>1</td>\n",
       "    </tr>\n",
       "    <tr>\n",
       "      <th>3</th>\n",
       "      <td>▲ CNB 뉴스 CNBNEWS 씨앤비 뉴스 보훈 물품 전달 식 에서 박 신한 대 구...</td>\n",
       "      <td>1</td>\n",
       "    </tr>\n",
       "    <tr>\n",
       "      <th>4</th>\n",
       "      <td>DGB 대 구 은행 밉다 중 무역 전쟁 장기 화 일본 수출 규제 등 불확실 성 증대...</td>\n",
       "      <td>1</td>\n",
       "    </tr>\n",
       "    <tr>\n",
       "      <th>5</th>\n",
       "      <td>27일 오전 대 구 은행 을 보유 금융 지주사 로 알려지다 DGB 금융 지주 139...</td>\n",
       "      <td>1</td>\n",
       "    </tr>\n",
       "    <tr>\n",
       "      <th>6</th>\n",
       "      <td>그룹 주력 계열 사인 DGB 대다 구 은행 영업 이익 당 기 순이익 시장 금리 하락...</td>\n",
       "      <td>1</td>\n",
       "    </tr>\n",
       "    <tr>\n",
       "      <th>7</th>\n",
       "      <td>지역 을 넘다 세계 향 지속 가능 경영 을 위해 활약 하고 있다 DGB 글로벌 봉사...</td>\n",
       "      <td>1</td>\n",
       "    </tr>\n",
       "    <tr>\n",
       "      <th>8</th>\n",
       "      <td>DGB 대구 은행 제공 DGB 금융 그룹 수도권 주요 거점 지역 자리다 김 DGB ...</td>\n",
       "      <td>1</td>\n",
       "    </tr>\n",
       "    <tr>\n",
       "      <th>9</th>\n",
       "      <td>DGB 금융 그룹 28일 DGB 금융 지주 DGB 대 구 은행 하반기 정기 인사 통...</td>\n",
       "      <td>1</td>\n",
       "    </tr>\n",
       "    <tr>\n",
       "      <th>10</th>\n",
       "      <td>▲ DGB 대 구 은행 2021년 6 급 대졸 및 졸업 예정자 전형 신입 행 원 을...</td>\n",
       "      <td>1</td>\n",
       "    </tr>\n",
       "    <tr>\n",
       "      <th>11</th>\n",
       "      <td>수익금 전액 기부 DGB 대 구 은행 은행 장 김태오 제 2회 DGB 메다 힐링 청...</td>\n",
       "      <td>1</td>\n",
       "    </tr>\n",
       "    <tr>\n",
       "      <th>12</th>\n",
       "      <td>DGB 대 구 은행 금융 위원회 기술 금융 실적 평가 에서 소형 은행 부문 1위 오...</td>\n",
       "      <td>1</td>\n",
       "    </tr>\n",
       "    <tr>\n",
       "      <th>13</th>\n",
       "      <td>DGB 대 구 은행 기업 인터넷 및 모바일 뱅킹 서비스 전면 개편 17일 밝히다 언...</td>\n",
       "      <td>1</td>\n",
       "    </tr>\n",
       "    <tr>\n",
       "      <th>14</th>\n",
       "      <td>회 추위 내부 규정 따르다 지난 9월 23일 경영 승계 개시 결정 11월 27일 김...</td>\n",
       "      <td>1</td>\n",
       "    </tr>\n",
       "    <tr>\n",
       "      <th>15</th>\n",
       "      <td>사진 DGB 대구 은행 DGB 대 구 은행 친환경 차 이용 고객 편의 높이 탄소 중...</td>\n",
       "      <td>1</td>\n",
       "    </tr>\n",
       "    <tr>\n",
       "      <th>16</th>\n",
       "      <td>DGB 대구 은행 복 현 지점 에서 근무 권다윤 행 원 시민 보이스피싱 피해 막다 ...</td>\n",
       "      <td>1</td>\n",
       "    </tr>\n",
       "    <tr>\n",
       "      <th>17</th>\n",
       "      <td>우선 적 KEB 하나우 리신 KB 국민 한국 씨티 BNK 부산 BNK 경남 광주 제...</td>\n",
       "      <td>1</td>\n",
       "    </tr>\n",
       "    <tr>\n",
       "      <th>18</th>\n",
       "      <td>DGB 대 구 은행 13일 대 구 재활 센터 에서 진행 희망 꽃 배달 서비스 사업 ...</td>\n",
       "      <td>1</td>\n",
       "    </tr>\n",
       "    <tr>\n",
       "      <th>19</th>\n",
       "      <td>▲ 4일 열리다 DGB 대구 은행 2020 금융 소비자보호 고객 아이디어 공모전 시...</td>\n",
       "      <td>1</td>\n",
       "    </tr>\n",
       "  </tbody>\n",
       "</table>\n",
       "</div>"
      ],
      "text/plain": [
       "                                       nouns_contents  label\n",
       "0   김태오 왼쪽 DGB 대구 은행 은행 장 송준기 대 적십자사 대구 지사 회장 기념 촬...      1\n",
       "1   DGB 대 구 은행 에서 서정동 대표 여 신통 불리다 만큼 DGB 대 구 은행 DG...      1\n",
       "2   최근 김태오 DGB 금융 지주 회장 사주 1만 주를 사들이다 DGB 금융 대구 은행...      1\n",
       "3   ▲ CNB 뉴스 CNBNEWS 씨앤비 뉴스 보훈 물품 전달 식 에서 박 신한 대 구...      1\n",
       "4   DGB 대 구 은행 밉다 중 무역 전쟁 장기 화 일본 수출 규제 등 불확실 성 증대...      1\n",
       "5   27일 오전 대 구 은행 을 보유 금융 지주사 로 알려지다 DGB 금융 지주 139...      1\n",
       "6   그룹 주력 계열 사인 DGB 대다 구 은행 영업 이익 당 기 순이익 시장 금리 하락...      1\n",
       "7   지역 을 넘다 세계 향 지속 가능 경영 을 위해 활약 하고 있다 DGB 글로벌 봉사...      1\n",
       "8   DGB 대구 은행 제공 DGB 금융 그룹 수도권 주요 거점 지역 자리다 김 DGB ...      1\n",
       "9   DGB 금융 그룹 28일 DGB 금융 지주 DGB 대 구 은행 하반기 정기 인사 통...      1\n",
       "10  ▲ DGB 대 구 은행 2021년 6 급 대졸 및 졸업 예정자 전형 신입 행 원 을...      1\n",
       "11  수익금 전액 기부 DGB 대 구 은행 은행 장 김태오 제 2회 DGB 메다 힐링 청...      1\n",
       "12  DGB 대 구 은행 금융 위원회 기술 금융 실적 평가 에서 소형 은행 부문 1위 오...      1\n",
       "13  DGB 대 구 은행 기업 인터넷 및 모바일 뱅킹 서비스 전면 개편 17일 밝히다 언...      1\n",
       "14  회 추위 내부 규정 따르다 지난 9월 23일 경영 승계 개시 결정 11월 27일 김...      1\n",
       "15  사진 DGB 대구 은행 DGB 대 구 은행 친환경 차 이용 고객 편의 높이 탄소 중...      1\n",
       "16  DGB 대구 은행 복 현 지점 에서 근무 권다윤 행 원 시민 보이스피싱 피해 막다 ...      1\n",
       "17  우선 적 KEB 하나우 리신 KB 국민 한국 씨티 BNK 부산 BNK 경남 광주 제...      1\n",
       "18  DGB 대 구 은행 13일 대 구 재활 센터 에서 진행 희망 꽃 배달 서비스 사업 ...      1\n",
       "19  ▲ 4일 열리다 DGB 대구 은행 2020 금융 소비자보호 고객 아이디어 공모전 시...      1"
      ]
     },
     "execution_count": 23,
     "metadata": {},
     "output_type": "execute_result"
    }
   ],
   "source": [
    "x_train.head(20)"
   ]
  },
  {
   "cell_type": "code",
   "execution_count": 24,
   "id": "00c91984",
   "metadata": {
    "ExecuteTime": {
     "end_time": "2022-06-02T01:54:48.316494Z",
     "start_time": "2022-06-02T01:54:48.303529Z"
    }
   },
   "outputs": [
    {
     "data": {
      "text/html": [
       "<div>\n",
       "<style scoped>\n",
       "    .dataframe tbody tr th:only-of-type {\n",
       "        vertical-align: middle;\n",
       "    }\n",
       "\n",
       "    .dataframe tbody tr th {\n",
       "        vertical-align: top;\n",
       "    }\n",
       "\n",
       "    .dataframe thead th {\n",
       "        text-align: right;\n",
       "    }\n",
       "</style>\n",
       "<table border=\"1\" class=\"dataframe\">\n",
       "  <thead>\n",
       "    <tr style=\"text-align: right;\">\n",
       "      <th></th>\n",
       "      <th>nouns_contents</th>\n",
       "      <th>label</th>\n",
       "    </tr>\n",
       "  </thead>\n",
       "  <tbody>\n",
       "    <tr>\n",
       "      <th>0</th>\n",
       "      <td>▷ 건화 문화 장학재단 200만원 ▷ DGB 대구 은행 100만원 ▷ 경북 장식 철...</td>\n",
       "      <td>-1</td>\n",
       "    </tr>\n",
       "    <tr>\n",
       "      <th>1</th>\n",
       "      <td>DGB 대구 은행 금복주 등 대구 경북 을 기반 기업 성금 기부 늘어나다 있다 대구...</td>\n",
       "      <td>1</td>\n",
       "    </tr>\n",
       "    <tr>\n",
       "      <th>2</th>\n",
       "      <td>하나 금융 그룹 SK 텔레콤 합작 사 핀 크다 지난해   9월   DGB 대 구 은...</td>\n",
       "      <td>1</td>\n",
       "    </tr>\n",
       "  </tbody>\n",
       "</table>\n",
       "</div>"
      ],
      "text/plain": [
       "                                      nouns_contents  label\n",
       "0  ▷ 건화 문화 장학재단 200만원 ▷ DGB 대구 은행 100만원 ▷ 경북 장식 철...     -1\n",
       "1  DGB 대구 은행 금복주 등 대구 경북 을 기반 기업 성금 기부 늘어나다 있다 대구...      1\n",
       "2  하나 금융 그룹 SK 텔레콤 합작 사 핀 크다 지난해   9월   DGB 대 구 은...      1"
      ]
     },
     "execution_count": 24,
     "metadata": {},
     "output_type": "execute_result"
    }
   ],
   "source": [
    "x_test.head(3)"
   ]
  },
  {
   "cell_type": "code",
   "execution_count": 25,
   "id": "067af95b",
   "metadata": {
    "ExecuteTime": {
     "end_time": "2022-06-02T01:54:48.376333Z",
     "start_time": "2022-06-02T01:54:48.317492Z"
    }
   },
   "outputs": [],
   "source": [
    "# 리스트로 변환 후 체크 \n",
    "# 6263\n",
    "x_train_words = list()\n",
    "for title_words in x_train['nouns_contents']:\n",
    "    x_train_words.append(list(title_words.split(' ')))\n",
    "\n",
    "# 2685\n",
    "x_test_words = list()\n",
    "for title_words in x_test['nouns_contents']:\n",
    "    x_test_words.append(list(title_words.split(' ')))"
   ]
  },
  {
   "cell_type": "code",
   "execution_count": 26,
   "id": "e496ad23",
   "metadata": {
    "ExecuteTime": {
     "end_time": "2022-06-02T01:54:48.391293Z",
     "start_time": "2022-06-02T01:54:48.377332Z"
    }
   },
   "outputs": [
    {
     "name": "stdout",
     "output_type": "stream",
     "text": [
      "[['김태오', '왼쪽', 'DGB', '대구', '은행', '은행', '장', '송준기', '대', '적십자사', '대구', '지사', '회장', '기념', '촬영', '을', '있다', '사진', '대구', '은행', '대', '적십자사', '대', '구', '지사', '함께', '지난', '10일', '대구', '삼성', '라이온즈', '파크', '에서', '헌혈', '초청'], ['DGB', '대', '구', '은행', '에서', '서정동', '대표', '여', '신통', '불리다', '만큼', 'DGB', '대', '구', '은행', 'DGB', '캐피탈', '간', '연', '계', '원활하다', '이뤄지다', '평가', '올해', '상반기', '이익', '개선', '돼다', '올해', '상반기', 'DGB', '캐피탈', '순', '익', '180억원', '전', '년', '동', '기', '대비', '224']]\n"
     ]
    }
   ],
   "source": [
    "print(x_train_words[:2])"
   ]
  },
  {
   "cell_type": "code",
   "execution_count": 27,
   "id": "6cc44b13",
   "metadata": {
    "ExecuteTime": {
     "end_time": "2022-06-02T01:54:48.406253Z",
     "start_time": "2022-06-02T01:54:48.392292Z"
    }
   },
   "outputs": [
    {
     "name": "stdout",
     "output_type": "stream",
     "text": [
      "[['▷', '건화', '문화', '장학재단', '200만원', '▷', 'DGB', '대구', '은행', '100만원', '▷', '경북', '장식', '철물', '김영자', '100만원', '▷', '평화', '크다', '나무', '복지', '재단', '100만원', '▷㈜', '태원', '전기', '50만원', '▷', '신라', '공업', '50만원', '▷㈜', '태린', '이정훈', '40만원', '▷㈜', '서', '원', '푸드', '30만원', '▷㈜', '신행', '건설'], ['DGB', '대구', '은행', '금복주', '등', '대구', '경북', '을', '기반', '기업', '성금', '기부', '늘어나다', '있다', '대구', '외', '에도', '대구', '지원', '손길', '늘', '있다', '대', '공중보건', '사', '협의', '회', '전국', '에서', '차출', '되다', '100', '여명', '공보', '들다', '대구', '지역']]\n"
     ]
    }
   ],
   "source": [
    "print(x_test_words[:2])"
   ]
  },
  {
   "cell_type": "markdown",
   "id": "8bbf8439",
   "metadata": {},
   "source": [
    "## Integer Encoding\n",
    "- 토큰화 한 단어를 컴퓨터가 인식하도록 정수 인코딩 수행"
   ]
  },
  {
   "cell_type": "code",
   "execution_count": 28,
   "id": "e8829a63",
   "metadata": {
    "ExecuteTime": {
     "end_time": "2022-06-02T01:54:48.421244Z",
     "start_time": "2022-06-02T01:54:48.407251Z"
    }
   },
   "outputs": [],
   "source": [
    "from keras.preprocessing.text import Tokenizer"
   ]
  },
  {
   "cell_type": "code",
   "execution_count": 29,
   "id": "da768fff",
   "metadata": {
    "ExecuteTime": {
     "end_time": "2022-06-02T01:54:48.690493Z",
     "start_time": "2022-06-02T01:54:48.422211Z"
    }
   },
   "outputs": [],
   "source": [
    "tokenizer = Tokenizer()\n",
    "tokenizer.fit_on_texts(x_train_words)\n",
    "tokenizer.fit_on_texts(x_test_words)"
   ]
  },
  {
   "cell_type": "code",
   "execution_count": 30,
   "id": "35e8aa0d",
   "metadata": {
    "ExecuteTime": {
     "end_time": "2022-06-02T01:54:48.810202Z",
     "start_time": "2022-06-02T01:54:48.691491Z"
    }
   },
   "outputs": [],
   "source": [
    "x_train_int = tokenizer.texts_to_sequences(x_train_words)"
   ]
  },
  {
   "cell_type": "code",
   "execution_count": 31,
   "id": "acd02184",
   "metadata": {
    "ExecuteTime": {
     "end_time": "2022-06-02T01:54:48.870042Z",
     "start_time": "2022-06-02T01:54:48.811171Z"
    }
   },
   "outputs": [],
   "source": [
    "x_test_int = tokenizer.texts_to_sequences(x_test_words)"
   ]
  },
  {
   "cell_type": "code",
   "execution_count": 32,
   "id": "2df0636d",
   "metadata": {
    "ExecuteTime": {
     "end_time": "2022-06-02T01:54:48.884973Z",
     "start_time": "2022-06-02T01:54:48.871011Z"
    }
   },
   "outputs": [
    {
     "name": "stdout",
     "output_type": "stream",
     "text": [
      "[[37, 356, 2, 6, 1, 1, 9, 1133, 4, 225, 6, 309, 31, 91, 432, 3, 14, 51, 6, 1, 4, 225, 4, 5, 309, 65, 33, 339, 6, 675, 1520, 904, 8, 918, 1204], [2, 4, 5, 1, 8, 1589, 114, 295, 6870, 3194, 1027, 2, 4, 5, 1, 2, 120, 237, 117, 116, 2509, 1929, 282, 109, 235, 158, 283, 83, 109, 235, 2, 120, 494, 946, 4570, 34, 127, 372, 62, 87, 8484], [218, 37, 2, 7, 43, 31, 555, 801, 2667, 1635, 2, 7, 6, 1, 96, 947, 109, 2579, 555, 1521, 4053, 399, 79, 7, 43, 105, 6871, 160, 555, 399, 3, 42, 1134, 28]]\n"
     ]
    }
   ],
   "source": [
    "print(x_train_int[:3])"
   ]
  },
  {
   "cell_type": "code",
   "execution_count": 33,
   "id": "daa2a933",
   "metadata": {
    "ExecuteTime": {
     "end_time": "2022-06-02T01:54:48.899933Z",
     "start_time": "2022-06-02T01:54:48.885971Z"
    }
   },
   "outputs": [
    {
     "name": "stdout",
     "output_type": "stream",
     "text": [
      "[[125, 1493, 369, 1062, 1136, 125, 2, 6, 1, 527, 125, 36, 6736, 6737, 11665, 527, 125, 1494, 103, 1393, 408, 161, 527, 556, 1495, 1430, 745, 125, 1431, 1452, 745, 556, 1730, 3813, 1593, 556, 221, 54, 1097, 1145, 556, 2496, 1819], [2, 6, 1, 2323, 12, 6, 36, 3, 197, 29, 166, 326, 744, 14, 6, 956, 473, 6, 23, 5349, 3782, 14, 4, 8190, 122, 673, 212, 258, 8, 11666, 16, 959, 508, 11667, 597, 6, 10], [528, 7, 19, 137, 156, 5157, 122, 121, 103, 101, 15, 264, 15, 2, 4, 5, 1, 381, 256, 15, 121, 103, 853, 581, 25, 100, 15, 1138, 483, 762, 25, 565, 340, 2110, 15, 2516, 3, 590, 320, 11, 15, 28, 270, 317, 729, 2156]]\n"
     ]
    }
   ],
   "source": [
    "print(x_test_int[:3])"
   ]
  },
  {
   "cell_type": "markdown",
   "id": "f3d95ef7",
   "metadata": {},
   "source": [
    "## 제목 길이 기준 분포 확인"
   ]
  },
  {
   "cell_type": "code",
   "execution_count": 34,
   "id": "3cb3a9a8",
   "metadata": {
    "ExecuteTime": {
     "end_time": "2022-06-02T01:54:49.124332Z",
     "start_time": "2022-06-02T01:54:48.900930Z"
    },
    "scrolled": true
   },
   "outputs": [
    {
     "name": "stdout",
     "output_type": "stream",
     "text": [
      "최대 길이(단어의 수) : 65\n",
      "평균 길이 : 39\n"
     ]
    },
    {
     "data": {
      "image/png": "[encoded data removed]",
      "text/plain": [
       "<Figure size 864x576 with 1 Axes>"
      ]
     },
     "metadata": {
      "needs_background": "light"
     },
     "output_type": "display_data"
    }
   ],
   "source": [
    "print('최대 길이(단어의 수) :', max([(len(i)) for i in x_train_int]))\n",
    "print('평균 길이 :', sum([len(i) for i in x_train_int]) // len(x_train_int))\n",
    "plt.figure(figsize = (12, 8))\n",
    "plt.hist([len(i) for i in x_train_int], bins=90)\n",
    "plt.xlabel('length fo Data')\n",
    "plt.ylabel('number fo Data')\n",
    "plt.show()"
   ]
  },
  {
   "cell_type": "code",
   "execution_count": 35,
   "id": "65d49830",
   "metadata": {
    "ExecuteTime": {
     "end_time": "2022-06-02T01:54:49.333805Z",
     "start_time": "2022-06-02T01:54:49.125331Z"
    }
   },
   "outputs": [
    {
     "name": "stdout",
     "output_type": "stream",
     "text": [
      "최대 길이(단어의 수) : 66\n",
      "평균 길이 : 39\n"
     ]
    },
    {
     "data": {
      "image/png": "[encoded data removed]",
      "text/plain": [
       "<Figure size 864x576 with 1 Axes>"
      ]
     },
     "metadata": {
      "needs_background": "light"
     },
     "output_type": "display_data"
    }
   ],
   "source": [
    "print('최대 길이(단어의 수) :', max([(len(i)) for i in x_test_int]))\n",
    "print('평균 길이 :', sum([len(i) for i in x_test_int]) // len(x_test_int))\n",
    "plt.figure(figsize = (12, 8))\n",
    "plt.hist([len(i) for i in x_test_int], bins=90)\n",
    "plt.xlabel('length fo Data')\n",
    "plt.ylabel('number fo Data')\n",
    "plt.show()"
   ]
  },
  {
   "cell_type": "markdown",
   "id": "86c3abfb",
   "metadata": {},
   "source": [
    "## Padding\n",
    "\n",
    "- 길이를 길게 잡으면 학습 시간이 오래 걸림 --> 데이터 손실 최소화 + 효율성\n",
    "- 데이터가 비교적 적은 부분은 패딩으로 처리하는게 좋음.\n",
    "- maxlen의 인자로 정수를 주면, 해당 정수로 모든 문서의 길이를 동일\n",
    "\n",
    "**Ex) 길이가 5인 리스트가 있다면 5보다 작은 인덱스 값들은 0으로 패딩되고 5보다 큰 인덱스들은 즉, 6번째 인덱스부터는 데이터가 손실됨.**<br><br>\n",
    "**참고<br> https://wikidocs.net/83544 (2/5 지점)<br>http://www.nextobe.com/2020/05/14/%EA%B0%80%EB%B3%80-%EA%B8%B8%EC%9D%B4-%EC%9E%85%EB%A0%A5-%EC%8B%9C%ED%80%80%EC%8A%A4%EC%97%90-%EB%8C%80%ED%95%9C-%EB%8D%B0%EC%9D%B4%ED%84%B0-%EC%A4%80%EB%B9%84/<br>https://sig413.tistory.com/5**"
   ]
  },
  {
   "cell_type": "code",
   "execution_count": 36,
   "id": "d80dca85",
   "metadata": {
    "ExecuteTime": {
     "end_time": "2022-06-02T01:54:49.348733Z",
     "start_time": "2022-06-02T01:54:49.334770Z"
    }
   },
   "outputs": [],
   "source": [
    "from tensorflow.keras.preprocessing.sequence import pad_sequences"
   ]
  },
  {
   "cell_type": "code",
   "execution_count": 37,
   "id": "e48e5d1e",
   "metadata": {
    "ExecuteTime": {
     "end_time": "2022-06-02T01:54:49.363696Z",
     "start_time": "2022-06-02T01:54:49.349730Z"
    }
   },
   "outputs": [],
   "source": [
    "# 각 인덱스 길이대로 정렬\n",
    "x_train_int.sort(key=lambda x:len(x),reverse = True)\n",
    "x_test_int.sort(key=lambda x:len(x),reverse = True)"
   ]
  },
  {
   "cell_type": "code",
   "execution_count": 38,
   "id": "1f45508a",
   "metadata": {
    "ExecuteTime": {
     "end_time": "2022-06-02T01:54:49.378656Z",
     "start_time": "2022-06-02T01:54:49.364690Z"
    }
   },
   "outputs": [],
   "source": [
    "def limit_len(front, back, reset_list):\n",
    "    cnt = 0\n",
    "    for s in reset_list:\n",
    "        # if (front <= len(s) <= back):\n",
    "        if len(s) <= back:\n",
    "            cnt += 1\n",
    "    print('전체 학습 데이터 중 길이가 {} 이상 {} 이하인 비율 : {:.2f}%'.format(front, back,( cnt / len(x_train_int)) * 100))"
   ]
  },
  {
   "cell_type": "code",
   "execution_count": 39,
   "id": "e418ee30",
   "metadata": {
    "ExecuteTime": {
     "end_time": "2022-06-02T01:54:49.393641Z",
     "start_time": "2022-06-02T01:54:49.379650Z"
    }
   },
   "outputs": [
    {
     "name": "stdout",
     "output_type": "stream",
     "text": [
      "전체 학습 데이터 중 길이가 0 이상 60 이하인 비율 : 99.88%\n"
     ]
    }
   ],
   "source": [
    "# min_len = 4 / max_len = 14\n",
    "# 앞선 제목의 평균 길이 그래프를 보면 ( 4 <= idx_num <= 14 ) 범위를 벗어난 인덱스들은 데이터가 현저히 적음.\n",
    "limit_len(0, 60, x_train_int)"
   ]
  },
  {
   "cell_type": "markdown",
   "id": "acb4cf1a",
   "metadata": {},
   "source": [
    "**일단 14이하인 것만 패딩 --> 나중에 시간되면 4이상 14이하인 부분만 패딩하도록 전처리 필요**\n",
    "<br>\n",
    "**pad_sequences post / defalut로 각각 한번씩 해주면 됨.**"
   ]
  },
  {
   "cell_type": "code",
   "execution_count": 40,
   "id": "b00d5ad6",
   "metadata": {
    "ExecuteTime": {
     "end_time": "2022-06-02T01:54:49.408573Z",
     "start_time": "2022-06-02T01:54:49.394610Z"
    }
   },
   "outputs": [],
   "source": [
    "max_len = 60"
   ]
  },
  {
   "cell_type": "code",
   "execution_count": 41,
   "id": "221ad7de",
   "metadata": {
    "ExecuteTime": {
     "end_time": "2022-06-02T01:54:49.423533Z",
     "start_time": "2022-06-02T01:54:49.409570Z"
    }
   },
   "outputs": [],
   "source": [
    "# x_train_final --> x_train"
   ]
  },
  {
   "cell_type": "code",
   "execution_count": 42,
   "id": "7aa23e2a",
   "metadata": {
    "ExecuteTime": {
     "end_time": "2022-06-02T01:54:49.483372Z",
     "start_time": "2022-06-02T01:54:49.424531Z"
    }
   },
   "outputs": [],
   "source": [
    "X_train = pad_sequences(x_train_int, maxlen = max_len)"
   ]
  },
  {
   "cell_type": "code",
   "execution_count": 43,
   "id": "353817a2",
   "metadata": {
    "ExecuteTime": {
     "end_time": "2022-06-02T01:54:49.513292Z",
     "start_time": "2022-06-02T01:54:49.484370Z"
    }
   },
   "outputs": [],
   "source": [
    "X_test = pad_sequences(x_test_int, maxlen = max_len)"
   ]
  },
  {
   "cell_type": "markdown",
   "id": "89ce48fd",
   "metadata": {},
   "source": [
    "## One-Hot-Encoding\n",
    "\n",
    "- 단어 집합의 크기를 벡터로 변환하고, 표현하고 싶은 단어 인덱스에 1의 값 부여하고, 다른 인덱스는 0을 부여하는 단어의 벡터 표현 방식\n",
    "- 즉, 1개만 Hot(True)이고 나머지는 Cold(False)\n",
    "\n",
    "※ 벡터 (1차원)  /  행렬 (2차원)  /  배열 (3차원)  /  텐서 (3차원 이상)\n",
    "<br>\n",
    "<br>\n",
    "**참고 : https://godcode.tistory.com/9?category=908926**"
   ]
  },
  {
   "cell_type": "code",
   "execution_count": 44,
   "id": "dc100856",
   "metadata": {
    "ExecuteTime": {
     "end_time": "2022-06-02T01:54:49.543212Z",
     "start_time": "2022-06-02T01:54:49.514290Z"
    }
   },
   "outputs": [
    {
     "data": {
      "text/plain": [
       "{'은행': 1,\n",
       " 'dgb': 2,\n",
       " '을': 3,\n",
       " '대': 4,\n",
       " '구': 5,\n",
       " '대구': 6,\n",
       " '금융': 7,\n",
       " '에서': 8,\n",
       " '장': 9,\n",
       " '지역': 10,\n",
       " '밝히다': 11,\n",
       " '등': 12,\n",
       " '로': 13,\n",
       " '있다': 14,\n",
       " '\\xa0': 15,\n",
       " '되다': 16,\n",
       " '위해': 17,\n",
       " '코로나': 18,\n",
       " '그룹': 19,\n",
       " '제': 20,\n",
       " '본점': 21,\n",
       " '하고': 22,\n",
       " '지원': 23,\n",
       " '19': 24,\n",
       " '대출': 25,\n",
       " '및': 26,\n",
       " '제공': 27,\n",
       " '이다': 28,\n",
       " '기업': 29,\n",
       " '고객': 30,\n",
       " '회장': 31,\n",
       " '서비스': 32,\n",
       " '지난': 33,\n",
       " '전': 34,\n",
       " '위': 35,\n",
       " '경북': 36,\n",
       " '김태오': 37,\n",
       " '임성훈': 38,\n",
       " '따르다': 39,\n",
       " '적': 40,\n",
       " '실시': 41,\n",
       " '진행': 42,\n",
       " '지주': 43,\n",
       " '2': 44,\n",
       " '투자': 45,\n",
       " '협약': 46,\n",
       " '증권': 47,\n",
       " '이번': 48,\n",
       " '영업': 49,\n",
       " '부터': 50,\n",
       " '사진': 51,\n",
       " '업무': 52,\n",
       " '수': 53,\n",
       " '원': 54,\n",
       " '상품': 55,\n",
       " '전달': 56,\n",
       " '직원': 57,\n",
       " 'im': 58,\n",
       " '적금': 59,\n",
       " '까지': 60,\n",
       " '1': 61,\n",
       " '기': 62,\n",
       " '개': 63,\n",
       " '지점': 64,\n",
       " '함께': 65,\n",
       " '대상': 66,\n",
       " '하이': 67,\n",
       " '오다': 68,\n",
       " '명': 69,\n",
       " '통해': 70,\n",
       " '뱅크': 71,\n",
       " '비대': 72,\n",
       " '센터': 73,\n",
       " '사회': 74,\n",
       " '사랑': 75,\n",
       " '계열': 76,\n",
       " '금리': 77,\n",
       " '행사': 78,\n",
       " 'bnk': 79,\n",
       " '카드': 80,\n",
       " '순이익': 81,\n",
       " '디지털': 82,\n",
       " '돼다': 83,\n",
       " '식': 84,\n",
       " '받다': 85,\n",
       " '신용': 86,\n",
       " '대비': 87,\n",
       " '기자': 88,\n",
       " '날': 89,\n",
       " '사업': 90,\n",
       " '기념': 91,\n",
       " '이벤트': 92,\n",
       " '활성화': 93,\n",
       " '5': 94,\n",
       " '채용': 95,\n",
       " '경': 96,\n",
       " '모바일': 97,\n",
       " '경영': 98,\n",
       " '부산': 99,\n",
       " '출시': 100,\n",
       " '지난해': 101,\n",
       " '체결': 102,\n",
       " '크다': 103,\n",
       " '산업': 104,\n",
       " '달': 105,\n",
       " '기술': 106,\n",
       " '성': 107,\n",
       " '▲': 108,\n",
       " '올해': 109,\n",
       " '지방': 110,\n",
       " '경제': 111,\n",
       " '대구시': 112,\n",
       " '것': 113,\n",
       " '대표': 114,\n",
       " '중': 115,\n",
       " '계': 116,\n",
       " '연': 117,\n",
       " '자금': 118,\n",
       " '중소기업': 119,\n",
       " '캐피탈': 120,\n",
       " '핀': 121,\n",
       " '사': 122,\n",
       " '△': 123,\n",
       " '에는': 124,\n",
       " '▷': 125,\n",
       " '특별': 126,\n",
       " '년': 127,\n",
       " '한국': 128,\n",
       " '비': 129,\n",
       " '에게': 130,\n",
       " '앱': 131,\n",
       " '점포': 132,\n",
       " '사인': 133,\n",
       " '증가': 134,\n",
       " '다양하다': 135,\n",
       " '점': 136,\n",
       " 'sk': 137,\n",
       " '맞다': 138,\n",
       " '권': 139,\n",
       " '주': 140,\n",
       " '관련': 141,\n",
       " '운영': 142,\n",
       " '참여': 143,\n",
       " '경남': 144,\n",
       " '3': 145,\n",
       " '소': 146,\n",
       " '이용': 147,\n",
       " '개최': 148,\n",
       " '주년': 149,\n",
       " '공': 150,\n",
       " '농협': 151,\n",
       " '화': 152,\n",
       " '피해': 153,\n",
       " '보다': 154,\n",
       " '보증': 155,\n",
       " '텔레콤': 156,\n",
       " '내': 157,\n",
       " '이익': 158,\n",
       " '통한': 159,\n",
       " '규모': 160,\n",
       " '재단': 161,\n",
       " '대다': 162,\n",
       " '가입': 163,\n",
       " '광주': 164,\n",
       " '나눔': 165,\n",
       " '성금': 166,\n",
       " '장이': 167,\n",
       " '시장': 168,\n",
       " '행': 169,\n",
       " '최초': 170,\n",
       " '판매': 171,\n",
       " '시': 172,\n",
       " '공인': 173,\n",
       " 'bc': 174,\n",
       " '인증': 175,\n",
       " '이상': 176,\n",
       " '뱅킹': 177,\n",
       " '겪다': 178,\n",
       " '곳': 179,\n",
       " '후': 180,\n",
       " '세': 181,\n",
       " '신': 182,\n",
       " '감소': 183,\n",
       " '실적': 184,\n",
       " '생명': 185,\n",
       " '창립': 186,\n",
       " '전북': 187,\n",
       " '늘다': 188,\n",
       " '총': 189,\n",
       " '관리': 190,\n",
       " '당': 191,\n",
       " '일': 192,\n",
       " '수성동': 193,\n",
       " '7일': 194,\n",
       " '말': 195,\n",
       " '환경': 196,\n",
       " '기반': 197,\n",
       " '확산': 198,\n",
       " 'nh': 199,\n",
       " '주력': 200,\n",
       " '문': 201,\n",
       " '후보': 202,\n",
       " '활용': 203,\n",
       " '계층': 204,\n",
       " '프로그램': 205,\n",
       " '할인': 206,\n",
       " '뉴스': 207,\n",
       " '플랫폼': 208,\n",
       " '층': 209,\n",
       " '혁신': 210,\n",
       " '활동': 211,\n",
       " '회': 212,\n",
       " '캄보디아': 213,\n",
       " '확대': 214,\n",
       " '어려움': 215,\n",
       " '1일': 216,\n",
       " '예': 217,\n",
       " '최근': 218,\n",
       " '최종': 219,\n",
       " '선정': 220,\n",
       " '서': 221,\n",
       " '독도': 222,\n",
       " '각각': 223,\n",
       " '방문': 224,\n",
       " '적십자사': 225,\n",
       " '적용': 226,\n",
       " '본부': 227,\n",
       " '6일': 228,\n",
       " '열리다': 229,\n",
       " '30일': 230,\n",
       " '영': 231,\n",
       " '관계자': 232,\n",
       " 'kb': 233,\n",
       " '신종': 234,\n",
       " '상반기': 235,\n",
       " '대한': 236,\n",
       " '간': 237,\n",
       " '분야': 238,\n",
       " '동기': 239,\n",
       " '6': 240,\n",
       " '형': 241,\n",
       " '보안': 242,\n",
       " '소상': 243,\n",
       " '28일': 244,\n",
       " 'ibk': 245,\n",
       " '급': 246,\n",
       " 'esg': 247,\n",
       " '열사': 248,\n",
       " '예정': 249,\n",
       " '기업은행': 250,\n",
       " '현': 251,\n",
       " '8일': 252,\n",
       " '4일': 253,\n",
       " '10': 254,\n",
       " '하나은행': 255,\n",
       " '선보이다': 256,\n",
       " '부': 257,\n",
       " '전국': 258,\n",
       " '강화': 259,\n",
       " '종합': 260,\n",
       " '회복': 261,\n",
       " '개인': 262,\n",
       " '시스템': 263,\n",
       " '9월': 264,\n",
       " '우리은행': 265,\n",
       " '봉사': 266,\n",
       " '상공': 267,\n",
       " '다음': 268,\n",
       " '구축': 269,\n",
       " '최대': 270,\n",
       " '협력': 271,\n",
       " '행복': 272,\n",
       " '장기': 273,\n",
       " '테크': 274,\n",
       " '전용': 275,\n",
       " '신한은행': 276,\n",
       " '위원회': 277,\n",
       " '페이': 278,\n",
       " '대구광역시': 279,\n",
       " '기록': 280,\n",
       " '나서다': 281,\n",
       " '평가': 282,\n",
       " '개선': 283,\n",
       " '추석': 284,\n",
       " '마케팅': 285,\n",
       " '편의': 286,\n",
       " '실천': 287,\n",
       " '27일': 288,\n",
       " '대표이사': 289,\n",
       " '시작': 290,\n",
       " '계좌': 291,\n",
       " '오후': 292,\n",
       " '가운데': 293,\n",
       " '24일': 294,\n",
       " '여': 295,\n",
       " '열다': 296,\n",
       " '17일': 297,\n",
       " '21일': 298,\n",
       " '이하': 299,\n",
       " '구미': 300,\n",
       " '29일': 301,\n",
       " '극복': 302,\n",
       " '코로나바이러스': 303,\n",
       " '부행': 304,\n",
       " '단': 305,\n",
       " '김': 306,\n",
       " '26일': 307,\n",
       " '4': 308,\n",
       " '지사': 309,\n",
       " '법인': 310,\n",
       " '기존': 311,\n",
       " '신규': 312,\n",
       " '후원': 313,\n",
       " '결제': 314,\n",
       " '전문': 315,\n",
       " '주택': 316,\n",
       " '한도': 317,\n",
       " '오전': 318,\n",
       " '16일': 319,\n",
       " '25일': 320,\n",
       " 'it': 321,\n",
       " '성장': 322,\n",
       " '확인': 323,\n",
       " 'jb': 324,\n",
       " '기간': 325,\n",
       " '기부': 326,\n",
       " '복합': 327,\n",
       " '가능하다': 328,\n",
       " '감염증': 329,\n",
       " '공개': 330,\n",
       " '참석': 331,\n",
       " '9일': 332,\n",
       " '14일': 333,\n",
       " '거래': 334,\n",
       " '5일': 335,\n",
       " '임원': 336,\n",
       " '10월': 337,\n",
       " '역': 338,\n",
       " '10일': 339,\n",
       " '약': 340,\n",
       " '비롯': 341,\n",
       " '18일': 342,\n",
       " '저': 343,\n",
       " '버스': 344,\n",
       " '차기': 345,\n",
       " '취약': 346,\n",
       " '앞두다': 347,\n",
       " '본부장': 348,\n",
       " '지속': 349,\n",
       " '첫': 350,\n",
       " '기관': 351,\n",
       " '주요': 352,\n",
       " '메타': 353,\n",
       " '담보': 354,\n",
       " '사용': 355,\n",
       " '왼쪽': 356,\n",
       " '두': 357,\n",
       " '19일': 358,\n",
       " '추천': 359,\n",
       " '2019년': 360,\n",
       " '사태': 361,\n",
       " '경기': 362,\n",
       " '신청': 363,\n",
       " '외화': 364,\n",
       " '3일': 365,\n",
       " '20일': 366,\n",
       " '인하다': 367,\n",
       " '기준': 368,\n",
       " '문화': 369,\n",
       " '7': 370,\n",
       " '새롭다': 371,\n",
       " '동': 372,\n",
       " '방역': 373,\n",
       " '양자': 374,\n",
       " '혜택': 375,\n",
       " '같다': 376,\n",
       " '침체': 377,\n",
       " '홍보': 378,\n",
       " '23일': 379,\n",
       " '펀드': 380,\n",
       " '손잡다': 381,\n",
       " '2021년': 382,\n",
       " 'ceo': 383,\n",
       " '이사장': 384,\n",
       " '하락': 385,\n",
       " '대회': 386,\n",
       " '계획': 387,\n",
       " '교육': 388,\n",
       " 'sc': 389,\n",
       " 't': 390,\n",
       " '은행권': 391,\n",
       " '국민은행': 392,\n",
       " '동참': 393,\n",
       " '2일': 394,\n",
       " '6월': 395,\n",
       " '발표': 396,\n",
       " '언택트': 397,\n",
       " '이웃': 398,\n",
       " '매입': 399,\n",
       " '캠페인': 400,\n",
       " '개발': 401,\n",
       " '하반기': 402,\n",
       " '업체': 403,\n",
       " '2021': 404,\n",
       " '상황': 405,\n",
       " '자산': 406,\n",
       " '명절': 407,\n",
       " '복지': 408,\n",
       " '생활': 409,\n",
       " '근무': 410,\n",
       " '13일': 411,\n",
       " '현지': 412,\n",
       " '초': 413,\n",
       " '12일': 414,\n",
       " '에서는': 415,\n",
       " '지난달': 416,\n",
       " '확진': 417,\n",
       " '개점': 418,\n",
       " '조성': 419,\n",
       " '이후': 420,\n",
       " '아동': 421,\n",
       " '상생': 422,\n",
       " '부장': 423,\n",
       " '발급': 424,\n",
       " '현재': 425,\n",
       " '시대': 426,\n",
       " '공동': 427,\n",
       " '모집': 428,\n",
       " '글로벌': 429,\n",
       " '원금': 430,\n",
       " '의료': 431,\n",
       " '촬영': 432,\n",
       " '데이터': 433,\n",
       " '추진': 434,\n",
       " '부동산': 435,\n",
       " '수성구': 436,\n",
       " '경상북도': 437,\n",
       " '우대': 438,\n",
       " '달성': 439,\n",
       " '추가': 440,\n",
       " '1년': 441,\n",
       " '분석': 442,\n",
       " '간편': 443,\n",
       " '기금': 444,\n",
       " '않다': 445,\n",
       " '마련': 446,\n",
       " '상': 447,\n",
       " '랩': 448,\n",
       " '예방': 449,\n",
       " '각': 450,\n",
       " ';': 451,\n",
       " '규제': 452,\n",
       " '회의': 453,\n",
       " '민': 454,\n",
       " '광복절': 455,\n",
       " '또': 456,\n",
       " '◆': 457,\n",
       " '8': 458,\n",
       " '자회사': 459,\n",
       " '취임': 460,\n",
       " '속': 461,\n",
       " '위치': 462,\n",
       " '안정': 463,\n",
       " 'high': 464,\n",
       " '나': 465,\n",
       " '139130': 466,\n",
       " '일환': 467,\n",
       " '대해': 468,\n",
       " '인터넷': 469,\n",
       " '미래': 470,\n",
       " '가족': 471,\n",
       " '5월': 472,\n",
       " '에도': 473,\n",
       " '창업': 474,\n",
       " '수협': 475,\n",
       " '북구': 476,\n",
       " '겸': 477,\n",
       " '상품권': 478,\n",
       " '샵': 479,\n",
       " '수도권': 480,\n",
       " '수준': 481,\n",
       " '우리카드': 482,\n",
       " '개월': 483,\n",
       " '시행': 484,\n",
       " '운동': 485,\n",
       " '13': 486,\n",
       " '위원장': 487,\n",
       " '서울': 488,\n",
       " '위기': 489,\n",
       " '㈜': 490,\n",
       " '대면': 491,\n",
       " '상담': 492,\n",
       " 'dignity': 493,\n",
       " '순': 494,\n",
       " '가장': 495,\n",
       " '전체': 496,\n",
       " '이자': 497,\n",
       " '헌': 498,\n",
       " '소외': 499,\n",
       " '예금': 500,\n",
       " '봉사활동': 501,\n",
       " '차': 502,\n",
       " '희망': 503,\n",
       " '제휴': 504,\n",
       " '통합': 505,\n",
       " '부문': 506,\n",
       " '공모전': 507,\n",
       " '여명': 508,\n",
       " '해당': 509,\n",
       " '내다': 510,\n",
       " '복지관': 511,\n",
       " '포함': 512,\n",
       " '상무': 513,\n",
       " '특히': 514,\n",
       " '협업': 515,\n",
       " '오픈': 516,\n",
       " '자산운용': 517,\n",
       " '책임': 518,\n",
       " '베트남': 519,\n",
       " '시설': 520,\n",
       " '현장': 521,\n",
       " '일자리': 522,\n",
       " '소재': 523,\n",
       " '조회': 524,\n",
       " '채널': 525,\n",
       " '발생': 526,\n",
       " '100만원': 527,\n",
       " '하나': 528,\n",
       " '매년': 529,\n",
       " '군': 530,\n",
       " '경우': 531,\n",
       " '20': 532,\n",
       " '없다': 533,\n",
       " '높다': 534,\n",
       " '건물': 535,\n",
       " '결과': 536,\n",
       " '추다': 537,\n",
       " '15일': 538,\n",
       " '2020년': 539,\n",
       " '3분': 540,\n",
       " '상공회의소': 541,\n",
       " '접수': 542,\n",
       " '2020': 543,\n",
       " '보유': 544,\n",
       " '회사': 545,\n",
       " '국내': 546,\n",
       " '적극': 547,\n",
       " '앞서': 548,\n",
       " '도입': 549,\n",
       " '22일': 550,\n",
       " '업계': 551,\n",
       " '모': 552,\n",
       " '인재': 553,\n",
       " '청소년': 554,\n",
       " '사주': 555,\n",
       " '▷㈜': 556,\n",
       " '육성': 557,\n",
       " '기획': 558,\n",
       " '설명': 559,\n",
       " '피우다': 560,\n",
       " '보내다': 561,\n",
       " '10억원': 562,\n",
       " '가다': 563,\n",
       " '씨티': 564,\n",
       " '누적': 565,\n",
       " '스마트': 566,\n",
       " '목표': 567,\n",
       " '물품': 568,\n",
       " '8월': 569,\n",
       " 'g': 570,\n",
       " '협회': 571,\n",
       " '사가': 572,\n",
       " '무료': 573,\n",
       " '발전': 574,\n",
       " '뉴데일리': 575,\n",
       " '그': 576,\n",
       " '차량': 577,\n",
       " '설': 578,\n",
       " '온라인': 579,\n",
       " '병원': 580,\n",
       " '금': 581,\n",
       " '세븐': 582,\n",
       " '방안': 583,\n",
       " '증정': 584,\n",
       " '중심': 585,\n",
       " '가지다': 586,\n",
       " '우리': 587,\n",
       " '창구': 588,\n",
       " '안전': 589,\n",
       " '돌파': 590,\n",
       " '개설': 591,\n",
       " '경품': 592,\n",
       " '티': 593,\n",
       " '정보보호': 594,\n",
       " '31일': 595,\n",
       " '퇴직': 596,\n",
       " '들다': 597,\n",
       " '수출': 598,\n",
       " '여름': 599,\n",
       " '급여': 600,\n",
       " '쓰다': 601,\n",
       " '기탁': 602,\n",
       " '새': 603,\n",
       " '양사': 604,\n",
       " '경쟁력': 605,\n",
       " '중인': 606,\n",
       " '2018년': 607,\n",
       " '하나카드': 608,\n",
       " '역량': 609,\n",
       " '호': 610,\n",
       " '직접': 611,\n",
       " '구매': 612,\n",
       " '지능': 613,\n",
       " '만들다': 614,\n",
       " '최고': 615,\n",
       " '선임': 616,\n",
       " '최병수': 617,\n",
       " '스타트업': 618,\n",
       " '신입': 619,\n",
       " '전통': 620,\n",
       " '재': 621,\n",
       " '창': 622,\n",
       " '이르다': 623,\n",
       " '1분': 624,\n",
       " '포인트': 625,\n",
       " '피다': 626,\n",
       " '7월': 627,\n",
       " '크게': 628,\n",
       " '공사': 629,\n",
       " '수익': 630,\n",
       " '핫': 631,\n",
       " '꽃': 632,\n",
       " '당기다': 633,\n",
       " '출범': 634,\n",
       " '환전': 635,\n",
       " 'sh': 636,\n",
       " '우대금리': 637,\n",
       " '장학금': 638,\n",
       " '일본': 639,\n",
       " '과정': 640,\n",
       " '새해': 641,\n",
       " '시청': 642,\n",
       " '정책': 643,\n",
       " '지부': 644,\n",
       " '소비자': 645,\n",
       " '1월': 646,\n",
       " '대응': 647,\n",
       " '자금난': 648,\n",
       " '인수': 649,\n",
       " '데': 650,\n",
       " '차원': 651,\n",
       " '결정': 652,\n",
       " '모두': 653,\n",
       " '번째': 654,\n",
       " '조': 655,\n",
       " '전경': 656,\n",
       " '내달': 657,\n",
       " '서민': 658,\n",
       " '동안': 659,\n",
       " '54': 660,\n",
       " '별': 661,\n",
       " '인식': 662,\n",
       " '플': 663,\n",
       " '진흥': 664,\n",
       " '사의': 665,\n",
       " '방식': 666,\n",
       " '인공': 667,\n",
       " '무': 668,\n",
       " '지정': 669,\n",
       " '절차': 670,\n",
       " '역시': 671,\n",
       " '한편': 672,\n",
       " '협의': 673,\n",
       " '폐쇄': 674,\n",
       " '삼성': 675,\n",
       " '9': 676,\n",
       " '이나': 677,\n",
       " 'kdb': 678,\n",
       " '홈페이지': 679,\n",
       " '판정': 680,\n",
       " '포항': 681,\n",
       " '먼저': 682,\n",
       " '론': 683,\n",
       " '맞추다': 684,\n",
       " '충전': 685,\n",
       " '핵심': 686,\n",
       " '맺다': 687,\n",
       " '시중': 688,\n",
       " '이라고': 689,\n",
       " '상호': 690,\n",
       " '담다': 691,\n",
       " '확': 692,\n",
       " '아니다': 693,\n",
       " '영상': 694,\n",
       " 'pb': 695,\n",
       " '개소식': 696,\n",
       " '여신': 697,\n",
       " '친환경': 698,\n",
       " '전기차': 699,\n",
       " '1000억원': 700,\n",
       " '구미시': 701,\n",
       " '구성': 702,\n",
       " '힘': 703,\n",
       " '5%': 704,\n",
       " '관심': 705,\n",
       " '체험': 706,\n",
       " '선': 707,\n",
       " '추위': 708,\n",
       " '해외': 709,\n",
       " '없이': 710,\n",
       " '공단': 711,\n",
       " '실명': 712,\n",
       " '회원': 713,\n",
       " '인사': 714,\n",
       " '2월': 715,\n",
       " '본격': 716,\n",
       " '액': 717,\n",
       " '단체': 718,\n",
       " '확보': 719,\n",
       " '진자': 720,\n",
       " '■': 721,\n",
       " '결합': 722,\n",
       " '유구현': 723,\n",
       " '2년': 724,\n",
       " '일부': 725,\n",
       " '시즌': 726,\n",
       " '주가': 727,\n",
       " '진출': 728,\n",
       " '금액': 729,\n",
       " 'm': 730,\n",
       " '통장': 731,\n",
       " '월': 732,\n",
       " '컨설팅': 733,\n",
       " '칠성동': 734,\n",
       " '노동조합': 735,\n",
       " '일시': 736,\n",
       " '공헌': 737,\n",
       " '11일': 738,\n",
       " '추첨': 739,\n",
       " '뒤': 740,\n",
       " '정보': 741,\n",
       " '어린이': 742,\n",
       " '가능': 743,\n",
       " '늘어나다': 744,\n",
       " '50만원': 745,\n",
       " '똑디': 746,\n",
       " '전략': 747,\n",
       " '어렵다': 748,\n",
       " '네이버': 749,\n",
       " '심사': 750,\n",
       " '금은': 751,\n",
       " '격려': 752,\n",
       " '특화': 753,\n",
       " '고도화': 754,\n",
       " '특': 755,\n",
       " '네트워크': 756,\n",
       " '때문': 757,\n",
       " '직장인': 758,\n",
       " '이렇다': 759,\n",
       " '로부터': 760,\n",
       " '분': 761,\n",
       " '만에': 762,\n",
       " '율': 763,\n",
       " '소비': 764,\n",
       " '12': 765,\n",
       " '카카오': 766,\n",
       " '출장소': 767,\n",
       " '기여': 768,\n",
       " '양': 769,\n",
       " '세계': 770,\n",
       " '설날': 771,\n",
       " '시키다': 772,\n",
       " '본': 773,\n",
       " '11월': 774,\n",
       " '에서도': 775,\n",
       " '석': 776,\n",
       " '성과': 777,\n",
       " '백': 778,\n",
       " '자리': 779,\n",
       " '수수료': 780,\n",
       " '도시락': 781,\n",
       " '많다': 782,\n",
       " '글판': 783,\n",
       " 'ai': 784,\n",
       " '설치': 785,\n",
       " '대학생': 786,\n",
       " '카': 787,\n",
       " '발행': 788,\n",
       " '시상식': 789,\n",
       " '씨': 790,\n",
       " '공간': 791,\n",
       " '5억원': 792,\n",
       " '비중': 793,\n",
       " '팀': 794,\n",
       " '본인': 795,\n",
       " '50': 796,\n",
       " '임대료': 797,\n",
       " '마스크': 798,\n",
       " '인력': 799,\n",
       " '주다': 800,\n",
       " '1만': 801,\n",
       " '제주': 802,\n",
       " '중소': 803,\n",
       " '웹': 804,\n",
       " '정부': 805,\n",
       " '삼계탕': 806,\n",
       " '관광': 807,\n",
       " '얼굴': 808,\n",
       " '국제': 809,\n",
       " '호점': 810,\n",
       " '또한': 811,\n",
       " '앞': 812,\n",
       " '상업': 813,\n",
       " '1억원': 814,\n",
       " '의회': 815,\n",
       " '누구': 816,\n",
       " '가스': 817,\n",
       " '월간': 818,\n",
       " '지배구조': 819,\n",
       " '5000억원': 820,\n",
       " '돕기': 821,\n",
       " '설립': 822,\n",
       " '우체국': 823,\n",
       " '보험': 824,\n",
       " '시민': 825,\n",
       " '중순': 826,\n",
       " '기능': 827,\n",
       " '조정': 828,\n",
       " '연구개발': 829,\n",
       " '력': 830,\n",
       " '반': 831,\n",
       " '전면': 832,\n",
       " '작년': 833,\n",
       " '키코': 834,\n",
       " '용': 835,\n",
       " '니': 836,\n",
       " '장애인': 837,\n",
       " '스': 838,\n",
       " '가계': 839,\n",
       " '중단': 840,\n",
       " '이체': 841,\n",
       " '휴가': 842,\n",
       " '우수': 843,\n",
       " '장학': 844,\n",
       " 'cnb': 845,\n",
       " 'keb': 846,\n",
       " '진': 847,\n",
       " '시간': 848,\n",
       " '강승탁': 849,\n",
       " '건': 850,\n",
       " '특수은행': 851,\n",
       " '중이': 852,\n",
       " '비상': 853,\n",
       " '소득': 854,\n",
       " '어르신': 855,\n",
       " '특판': 856,\n",
       " '획득': 857,\n",
       " '문화재단': 858,\n",
       " '뿐': 859,\n",
       " '국가': 860,\n",
       " '찾다': 861,\n",
       " '경산': 862,\n",
       " '5만원': 863,\n",
       " '주민': 864,\n",
       " '채다': 865,\n",
       " '주식': 866,\n",
       " '프로젝트': 867,\n",
       " '국': 868,\n",
       " '내용': 869,\n",
       " '맞이': 870,\n",
       " '세대': 871,\n",
       " '린지': 872,\n",
       " '능력': 873,\n",
       " '53': 874,\n",
       " '온누리상품권': 875,\n",
       " '애로': 876,\n",
       " '온': 877,\n",
       " '쉬다': 878,\n",
       " '학생': 879,\n",
       " '안면': 880,\n",
       " '간편하다': 881,\n",
       " '방지': 882,\n",
       " '관': 883,\n",
       " '검찰': 884,\n",
       " '장보': 885,\n",
       " '활': 886,\n",
       " 'ict': 887,\n",
       " '강화하다': 888,\n",
       " '소통': 889,\n",
       " '청구': 890,\n",
       " '▶': 891,\n",
       " '수익률': 892,\n",
       " '꾸준하다': 893,\n",
       " '두다': 894,\n",
       " '사고': 895,\n",
       " '모으다': 896,\n",
       " '호치민': 897,\n",
       " '청년': 898,\n",
       " '긴급': 899,\n",
       " '갤러리': 900,\n",
       " '마이': 901,\n",
       " '지급': 902,\n",
       " '대학': 903,\n",
       " '파크': 904,\n",
       " '명의': 905,\n",
       " '선제': 906,\n",
       " '중견': 907,\n",
       " 'cj': 908,\n",
       " '또는': 909,\n",
       " '공식': 910,\n",
       " '단지': 911,\n",
       " '강남': 912,\n",
       " '충당금': 913,\n",
       " '영향': 914,\n",
       " '빅데이터': 915,\n",
       " '아': 916,\n",
       " '감다': 917,\n",
       " '헌혈': 918,\n",
       " '2분': 919,\n",
       " '오늘': 920,\n",
       " 'p': 921,\n",
       " '계약': 922,\n",
       " '스마트폰': 923,\n",
       " '비교': 924,\n",
       " '_': 925,\n",
       " '나타나다': 926,\n",
       " '1천': 927,\n",
       " '서류': 928,\n",
       " '구입': 929,\n",
       " 'cnbnews': 930,\n",
       " '씨앤비': 931,\n",
       " '증대': 932,\n",
       " '업종': 933,\n",
       " '지주사': 934,\n",
       " '개편': 935,\n",
       " '못': 936,\n",
       " '평균': 937,\n",
       " '후보자': 938,\n",
       " '달러': 939,\n",
       " '해소': 940,\n",
       " '도움': 941,\n",
       " '연금': 942,\n",
       " '단계': 943,\n",
       " '금회': 944,\n",
       " '유': 945,\n",
       " '익': 946,\n",
       " '영진': 947,\n",
       " '내년': 948,\n",
       " '보호': 949,\n",
       " '나가다': 950,\n",
       " '의미': 951,\n",
       " '노조': 952,\n",
       " '시너지': 953,\n",
       " '청도': 954,\n",
       " '4월': 955,\n",
       " '외': 956,\n",
       " '마음': 957,\n",
       " '본사': 958,\n",
       " '100': 959,\n",
       " '금감원': 960,\n",
       " '입다': 961,\n",
       " '3월': 962,\n",
       " '신한': 963,\n",
       " '우선': 964,\n",
       " '릴레이': 965,\n",
       " '경력': 966,\n",
       " '유예': 967,\n",
       " '권영진': 968,\n",
       " '리스크': 969,\n",
       " '오른쪽': 970,\n",
       " '변화': 971,\n",
       " '바이오': 972,\n",
       " '대형': 973,\n",
       " '©': 974,\n",
       " '반면': 975,\n",
       " '디그': 976,\n",
       " '해오다': 977,\n",
       " '폭': 978,\n",
       " '만족도': 979,\n",
       " '내부': 980,\n",
       " '배달': 981,\n",
       " '국경일': 982,\n",
       " '주의': 983,\n",
       " '가치': 984,\n",
       " '비리': 985,\n",
       " '자동차': 986,\n",
       " '지표': 987,\n",
       " '12월': 988,\n",
       " '공연': 989,\n",
       " '반영': 990,\n",
       " '50%': 991,\n",
       " '아이디어': 992,\n",
       " '프로세스': 993,\n",
       " '정기예금': 994,\n",
       " '시장경제': 995,\n",
       " '응원': 996,\n",
       " '차장': 997,\n",
       " '취급': 998,\n",
       " '민간': 999,\n",
       " '상당': 1000,\n",
       " ...}"
      ]
     },
     "execution_count": 44,
     "metadata": {},
     "output_type": "execute_result"
    }
   ],
   "source": [
    "tokenizer.word_index"
   ]
  },
  {
   "cell_type": "code",
   "execution_count": 45,
   "id": "04e7c2ba",
   "metadata": {
    "ExecuteTime": {
     "end_time": "2022-06-02T01:54:49.558172Z",
     "start_time": "2022-06-02T01:54:49.544211Z"
    }
   },
   "outputs": [
    {
     "data": {
      "text/plain": [
       "13007"
      ]
     },
     "execution_count": 45,
     "metadata": {},
     "output_type": "execute_result"
    }
   ],
   "source": [
    "len(tokenizer.word_index)"
   ]
  },
  {
   "cell_type": "markdown",
   "id": "eeb566c1",
   "metadata": {},
   "source": [
    "## get dummies --> 원핫인코딩"
   ]
  },
  {
   "cell_type": "code",
   "execution_count": 46,
   "id": "d685770c",
   "metadata": {
    "ExecuteTime": {
     "end_time": "2022-06-02T01:54:49.573132Z",
     "start_time": "2022-06-02T01:54:49.559170Z"
    }
   },
   "outputs": [],
   "source": [
    "# pd.get_dummies()로 쉽게 원핫인코딩 가능.\n",
    "\n",
    "y_train = pd.get_dummies(x_train['label']).to_numpy()\n",
    "y_test = pd.get_dummies(x_test['label']).to_numpy()"
   ]
  },
  {
   "cell_type": "code",
   "execution_count": 47,
   "id": "ae5e21b1",
   "metadata": {
    "ExecuteTime": {
     "end_time": "2022-06-02T01:54:49.588093Z",
     "start_time": "2022-06-02T01:54:49.574130Z"
    }
   },
   "outputs": [],
   "source": [
    "# y_train = list()\n",
    "# y_test = list()\n",
    "# X_train['label'].unique().tolist()"
   ]
  },
  {
   "cell_type": "code",
   "execution_count": 48,
   "id": "c8255942",
   "metadata": {
    "ExecuteTime": {
     "end_time": "2022-06-02T01:54:49.603053Z",
     "start_time": "2022-06-02T01:54:49.589090Z"
    }
   },
   "outputs": [],
   "source": [
    "# # 1 / 0 / -1\n",
    "# def one_hot_encoding(label):\n",
    "#     one_hot_vector = [0] * len(X_train['label'].unique().tolist())\n",
    "#     one_hot_vector[label+1] = 1\n",
    "#     return one_hot_vector\n",
    "\n",
    "# def right_answer():\n",
    "#     for tr in X_train['label']:\n",
    "#         y_train.append(one_hot_encoding(tr))\n",
    "#     for te in X_test['label']:\n",
    "#         y_test.append(one_hot_encoding(te))\n",
    "\n",
    "# right_answer()"
   ]
  },
  {
   "cell_type": "code",
   "execution_count": 49,
   "id": "c38bfb42",
   "metadata": {
    "ExecuteTime": {
     "end_time": "2022-06-02T01:54:49.618012Z",
     "start_time": "2022-06-02T01:54:49.604050Z"
    }
   },
   "outputs": [],
   "source": [
    "# if (len(y_train) + len(y_test)) == len(df_news_overlap['label']):\n",
    "#     print('정상')\n",
    "# else:\n",
    "#     y_train = list()\n",
    "#     y_test = list()\n",
    "#     right_answer()\n",
    "#     print('재확인 필요')\n",
    "\n",
    "# y_train = np.array(y_train)\n",
    "# y_test = np.array(y_test)"
   ]
  },
  {
   "cell_type": "markdown",
   "id": "316c007b",
   "metadata": {},
   "source": [
    "## 빈도 수가 낮은 단어 제거 --> 대기\n",
    "- 빈도수가 낮은 단어 --> 학습에 영향이 크지 않음.\n",
    "- 전처리를 통해 제거\n",
    "- 패딩 --> 학습 시간 단축 및 최적의 효율성\n",
    "\n",
    "**한두번 나온 단어가 그 문장의 감성을 표현할 수 있는 핵심단어 일수도?**"
   ]
  },
  {
   "cell_type": "code",
   "execution_count": 50,
   "id": "10c152fb",
   "metadata": {
    "ExecuteTime": {
     "end_time": "2022-06-02T01:54:49.632972Z",
     "start_time": "2022-06-02T01:54:49.619010Z"
    }
   },
   "outputs": [
    {
     "data": {
      "text/plain": [
       "13007"
      ]
     },
     "execution_count": 50,
     "metadata": {},
     "output_type": "execute_result"
    }
   ],
   "source": [
    "len(tokenizer.word_counts)"
   ]
  },
  {
   "cell_type": "code",
   "execution_count": 51,
   "id": "19ff4016",
   "metadata": {
    "ExecuteTime": {
     "end_time": "2022-06-02T01:54:49.647932Z",
     "start_time": "2022-06-02T01:54:49.633970Z"
    }
   },
   "outputs": [
    {
     "name": "stdout",
     "output_type": "stream",
     "text": [
      "단어 집합(vocabulary)의 종류 : 13007\n",
      "등장 빈도가 1번 이하인 희귀 단어의 수: 4524\n",
      "단어 집합에서 희귀 단어의 비율: 34.78\n",
      "전체 등장 빈도에서 희귀 단어 등장 빈도 비율: 0.8637857261509029\n"
     ]
    }
   ],
   "source": [
    "threshold = 2 # 임계치\n",
    "total_cnt = len(tokenizer.word_index)\n",
    "rare_cnt = 0\n",
    "words_freq = 0\n",
    "rare_freq = 0\n",
    "\n",
    "for key, value in tokenizer.word_counts.items():\n",
    "    words_freq += value\n",
    "    if value < threshold:\n",
    "        rare_cnt += 1\n",
    "        rare_freq += value\n",
    "print('단어 집합(vocabulary)의 종류 :', total_cnt)\n",
    "print('등장 빈도가 %s번 이하인 희귀 단어의 수: %s' % (threshold - 1, rare_cnt))\n",
    "print(\"단어 집합에서 희귀 단어의 비율: {:.2f}\".format((rare_cnt / total_cnt) * 100))\n",
    "print(\"전체 등장 빈도에서 희귀 단어 등장 빈도 비율:\", (rare_freq / words_freq) * 100)"
   ]
  },
  {
   "cell_type": "code",
   "execution_count": 52,
   "id": "24e0a021",
   "metadata": {
    "ExecuteTime": {
     "end_time": "2022-06-02T01:54:49.662892Z",
     "start_time": "2022-06-02T01:54:49.648930Z"
    }
   },
   "outputs": [
    {
     "name": "stdout",
     "output_type": "stream",
     "text": [
      "8483\n"
     ]
    }
   ],
   "source": [
    "vocab_size = total_cnt-rare_cnt\n",
    "print(vocab_size)"
   ]
  },
  {
   "cell_type": "code",
   "execution_count": 53,
   "id": "3872396c",
   "metadata": {
    "ExecuteTime": {
     "end_time": "2022-06-02T01:54:49.677881Z",
     "start_time": "2022-06-02T01:54:49.663890Z"
    }
   },
   "outputs": [],
   "source": [
    "tokenizer = Tokenizer(vocab_size, oov_token='OOV')"
   ]
  },
  {
   "cell_type": "code",
   "execution_count": 54,
   "id": "8c171809",
   "metadata": {
    "ExecuteTime": {
     "end_time": "2022-06-02T01:54:49.692847Z",
     "start_time": "2022-06-02T01:54:49.678850Z"
    }
   },
   "outputs": [
    {
     "data": {
      "text/plain": [
       "<keras_preprocessing.text.Tokenizer at 0x19722283908>"
      ]
     },
     "execution_count": 54,
     "metadata": {},
     "output_type": "execute_result"
    }
   ],
   "source": [
    "tokenizer"
   ]
  },
  {
   "cell_type": "code",
   "execution_count": 55,
   "id": "35cb1391",
   "metadata": {
    "ExecuteTime": {
     "end_time": "2022-06-02T01:54:49.707772Z",
     "start_time": "2022-06-02T01:54:49.693810Z"
    }
   },
   "outputs": [
    {
     "data": {
      "text/html": [
       "<div>\n",
       "<style scoped>\n",
       "    .dataframe tbody tr th:only-of-type {\n",
       "        vertical-align: middle;\n",
       "    }\n",
       "\n",
       "    .dataframe tbody tr th {\n",
       "        vertical-align: top;\n",
       "    }\n",
       "\n",
       "    .dataframe thead th {\n",
       "        text-align: right;\n",
       "    }\n",
       "</style>\n",
       "<table border=\"1\" class=\"dataframe\">\n",
       "  <thead>\n",
       "    <tr style=\"text-align: right;\">\n",
       "      <th></th>\n",
       "      <th>nouns_contents</th>\n",
       "      <th>label</th>\n",
       "    </tr>\n",
       "  </thead>\n",
       "  <tbody>\n",
       "    <tr>\n",
       "      <th>0</th>\n",
       "      <td>김태오 왼쪽 DGB 대구 은행 은행 장 송준기 대 적십자사 대구 지사 회장 기념 촬...</td>\n",
       "      <td>1</td>\n",
       "    </tr>\n",
       "    <tr>\n",
       "      <th>1</th>\n",
       "      <td>DGB 대 구 은행 에서 서정동 대표 여 신통 불리다 만큼 DGB 대 구 은행 DG...</td>\n",
       "      <td>1</td>\n",
       "    </tr>\n",
       "    <tr>\n",
       "      <th>2</th>\n",
       "      <td>최근 김태오 DGB 금융 지주 회장 사주 1만 주를 사들이다 DGB 금융 대구 은행...</td>\n",
       "      <td>1</td>\n",
       "    </tr>\n",
       "  </tbody>\n",
       "</table>\n",
       "</div>"
      ],
      "text/plain": [
       "                                      nouns_contents  label\n",
       "0  김태오 왼쪽 DGB 대구 은행 은행 장 송준기 대 적십자사 대구 지사 회장 기념 촬...      1\n",
       "1  DGB 대 구 은행 에서 서정동 대표 여 신통 불리다 만큼 DGB 대 구 은행 DG...      1\n",
       "2  최근 김태오 DGB 금융 지주 회장 사주 1만 주를 사들이다 DGB 금융 대구 은행...      1"
      ]
     },
     "execution_count": 55,
     "metadata": {},
     "output_type": "execute_result"
    }
   ],
   "source": [
    "x_train.head(3)"
   ]
  },
  {
   "cell_type": "code",
   "execution_count": 56,
   "id": "fae1e961",
   "metadata": {
    "ExecuteTime": {
     "end_time": "2022-06-02T01:54:49.722735Z",
     "start_time": "2022-06-02T01:54:49.708770Z"
    }
   },
   "outputs": [
    {
     "data": {
      "text/html": [
       "<div>\n",
       "<style scoped>\n",
       "    .dataframe tbody tr th:only-of-type {\n",
       "        vertical-align: middle;\n",
       "    }\n",
       "\n",
       "    .dataframe tbody tr th {\n",
       "        vertical-align: top;\n",
       "    }\n",
       "\n",
       "    .dataframe thead th {\n",
       "        text-align: right;\n",
       "    }\n",
       "</style>\n",
       "<table border=\"1\" class=\"dataframe\">\n",
       "  <thead>\n",
       "    <tr style=\"text-align: right;\">\n",
       "      <th></th>\n",
       "      <th>nouns_contents</th>\n",
       "      <th>label</th>\n",
       "    </tr>\n",
       "  </thead>\n",
       "  <tbody>\n",
       "    <tr>\n",
       "      <th>0</th>\n",
       "      <td>▷ 건화 문화 장학재단 200만원 ▷ DGB 대구 은행 100만원 ▷ 경북 장식 철...</td>\n",
       "      <td>-1</td>\n",
       "    </tr>\n",
       "    <tr>\n",
       "      <th>1</th>\n",
       "      <td>DGB 대구 은행 금복주 등 대구 경북 을 기반 기업 성금 기부 늘어나다 있다 대구...</td>\n",
       "      <td>1</td>\n",
       "    </tr>\n",
       "    <tr>\n",
       "      <th>2</th>\n",
       "      <td>하나 금융 그룹 SK 텔레콤 합작 사 핀 크다 지난해   9월   DGB 대 구 은...</td>\n",
       "      <td>1</td>\n",
       "    </tr>\n",
       "  </tbody>\n",
       "</table>\n",
       "</div>"
      ],
      "text/plain": [
       "                                      nouns_contents  label\n",
       "0  ▷ 건화 문화 장학재단 200만원 ▷ DGB 대구 은행 100만원 ▷ 경북 장식 철...     -1\n",
       "1  DGB 대구 은행 금복주 등 대구 경북 을 기반 기업 성금 기부 늘어나다 있다 대구...      1\n",
       "2  하나 금융 그룹 SK 텔레콤 합작 사 핀 크다 지난해   9월   DGB 대 구 은...      1"
      ]
     },
     "execution_count": 56,
     "metadata": {},
     "output_type": "execute_result"
    }
   ],
   "source": [
    "x_test.head(3)"
   ]
  },
  {
   "cell_type": "code",
   "execution_count": 57,
   "id": "6c867186",
   "metadata": {
    "ExecuteTime": {
     "end_time": "2022-06-02T01:54:49.797533Z",
     "start_time": "2022-06-02T01:54:49.723730Z"
    }
   },
   "outputs": [],
   "source": [
    "x_train.to_csv('./Data_Set/X_train.csv')\n",
    "x_test.to_csv('./Data_Set/X_test.csv')"
   ]
  },
  {
   "cell_type": "markdown",
   "id": "ba2f92dd",
   "metadata": {},
   "source": [
    "# 모델링\n",
    "\n",
    "- 성능 높이기 + 시각화 해서 파일로 만들기\n",
    "\n",
    "**https://sieon-dev.tistory.com/15**"
   ]
  },
  {
   "cell_type": "markdown",
   "id": "fdeaf17c",
   "metadata": {},
   "source": [
    "## GPU 체크\n",
    "- NVIDIA GeForce RTX 2070 SUPER : 2개 (GPU index number : 0, 1)\n",
    "- CPU :1 개 ( CPU index number : 0)"
   ]
  },
  {
   "cell_type": "code",
   "execution_count": 58,
   "id": "9f76019a",
   "metadata": {
    "ExecuteTime": {
     "end_time": "2022-06-02T01:54:50.695131Z",
     "start_time": "2022-06-02T01:54:49.798530Z"
    }
   },
   "outputs": [
    {
     "name": "stdout",
     "output_type": "stream",
     "text": [
      "2 Physical GPUs, 2 Logical GPUs\n"
     ]
    }
   ],
   "source": [
    "import tensorflow as tf\n",
    "gpus = tf.config.experimental.list_physical_devices('GPU')\n",
    "if gpus:\n",
    "    try:\n",
    "        # Currently, memory growth needs to be the same across GPUs\n",
    "        for gpu in gpus:\n",
    "            tf.config.experimental.set_memory_growth(gpu, True)\n",
    "        logical_gpus = tf.config.experimental.list_logical_devices('GPU')\n",
    "        print(len(gpus), \"Physical GPUs,\", len(logical_gpus), \"Logical GPUs\")\n",
    "    except RuntimeError as e:\n",
    "        # Memory growth must be set before GPUs have been initialized\n",
    "        print(e)"
   ]
  },
  {
   "cell_type": "code",
   "execution_count": 59,
   "id": "c458744d",
   "metadata": {
    "ExecuteTime": {
     "end_time": "2022-06-02T01:54:50.710090Z",
     "start_time": "2022-06-02T01:54:50.696127Z"
    }
   },
   "outputs": [
    {
     "name": "stdout",
     "output_type": "stream",
     "text": [
      "Num GPUs Available:  2\n"
     ]
    }
   ],
   "source": [
    "print(\"Num GPUs Available: \", len(tf.config.list_physical_devices('GPU')))"
   ]
  },
  {
   "cell_type": "code",
   "execution_count": 60,
   "id": "4e306ecb",
   "metadata": {
    "ExecuteTime": {
     "end_time": "2022-06-02T01:54:50.725051Z",
     "start_time": "2022-06-02T01:54:50.711089Z"
    }
   },
   "outputs": [],
   "source": [
    "%matplotlib inline\n",
    "# Function call stack:\n",
    "# train_function -> train_function -> train_function\n",
    "# 해당 줄로 오류 해결\n",
    "# 참고 : https://www.freesion.com/article/71721347190/\n",
    "tf.compat.v1.disable_eager_execution()"
   ]
  },
  {
   "cell_type": "markdown",
   "id": "a2fad17e",
   "metadata": {},
   "source": [
    "## 데이터셋 확인"
   ]
  },
  {
   "cell_type": "code",
   "execution_count": 61,
   "id": "c689f806",
   "metadata": {
    "ExecuteTime": {
     "end_time": "2022-06-02T01:54:50.740011Z",
     "start_time": "2022-06-02T01:54:50.726049Z"
    }
   },
   "outputs": [],
   "source": [
    "from keras import models\n",
    "from tensorflow.python.client import device_lib\n",
    "from tensorflow.keras.layers import BatchNormalization, Embedding, Dense, GRU, Dropout, Input, LSTM, Activation, Bidirectional, Conv1D, MaxPooling1D, GlobalMaxPooling1D, Flatten, SpatialDropout1D, TimeDistributed, Flatten\n",
    "from tensorflow.keras.models import Sequential, Model\n",
    "from tensorflow.keras.models import load_model"
   ]
  },
  {
   "cell_type": "code",
   "execution_count": 62,
   "id": "6cc9b3cc",
   "metadata": {
    "ExecuteTime": {
     "end_time": "2022-06-02T01:54:50.754971Z",
     "start_time": "2022-06-02T01:54:50.741009Z"
    }
   },
   "outputs": [
    {
     "name": "stdout",
     "output_type": "stream",
     "text": [
      "X_train : (9179, 60)\n",
      "X_test : (3935, 60)\n",
      "y_train : (9179, 2)\n",
      "X_test : (3935, 2)\n"
     ]
    }
   ],
   "source": [
    "print('X_train :', X_train.shape)\n",
    "print('X_test :', X_test.shape)\n",
    "print('y_train :', y_train.shape)\n",
    "print('X_test :', y_test.shape)"
   ]
  },
  {
   "cell_type": "markdown",
   "id": "4a5e88a0",
   "metadata": {},
   "source": [
    "## 옵티마이저 튜닝\n",
    "\n",
    "- optimizers 정의 및 튜닝 ( Adam, SGD, RMSprop)\n",
    "- 하이퍼 파라미터 튜닝\n",
    "\n",
    "**val_loss 감소시키는 방법 : https://lsjsj92.tistory.com/353**"
   ]
  },
  {
   "cell_type": "code",
   "execution_count": 63,
   "id": "b024fa27",
   "metadata": {
    "ExecuteTime": {
     "end_time": "2022-06-02T01:54:50.769931Z",
     "start_time": "2022-06-02T01:54:50.755968Z"
    }
   },
   "outputs": [],
   "source": [
    "from tensorflow.keras.optimizers import Adam, SGD, RMSprop\n",
    "from tensorflow.keras.callbacks import EarlyStopping, ModelCheckpoint\n",
    "\n",
    "adam = Adam(learning_rate=0.001, beta_1=0.9, beta_2=0.999, decay=0.0001, clipnorm=1., epsilon=None, amsgrad=False)\n",
    "\n",
    "sgd = SGD(learning_rate=0.01, momentum=0.9, decay=0.0001, nesterov=False)\n",
    "\n",
    "rmsprop = RMSprop(learning_rate=0.001, rho=0.9, decay=0.0001, epsilon=None)"
   ]
  },
  {
   "cell_type": "markdown",
   "id": "0070af43",
   "metadata": {},
   "source": [
    "## 모델 구축 및 데이터 학습\n",
    "\n",
    "- val_accuracy도 점점 떨어지고 있는 것으로 봐서 네트워크가 과적합되는 것으로 보입니다. 과적합의 이유는 임베딩 레이어를 랜덤한 값에서부터 시작해서 학습시키기 때문에 각 단어를 나타내는 벡터의 품질\n",
    "\n",
    "**모델 샘플 : https://www.kaggle.com/code/nafisur/keras-models-lstm-cnn-gru-bidirectional-glove/notebook**\n",
    "<br><br>\n",
    "**성능 개선 : https://wikidocs.net/142041**\n",
    "<br><br>\n",
    "**loss 함수 설명 : https://velog.io/@rcchun/%EB%A8%B8%EC%8B%A0%EB%9F%AC%EB%8B%9D-%EC%86%90%EC%8B%A4%ED%95%A8%EC%88%98%EC%9D%98-%EC%A2%85%EB%A5%98#msemean-squared-error**\n",
    "<br><br>\n",
    "**LSTM / RNN / GRU 개념 : https://velog.io/@dong970827/RNN-LSTM-GRU-%EA%B0%9C%EB%85%90**\n",
    "\n",
    "- 과적합 뜨는 이유\n",
    "- 1. 긍정 80% / 부정 5% / 중립 15% (총 331개 Test Data) 데이터 갯수와 비율 때문이라고 판단.\n",
    "- 2. 학습진행시 전체데이터에서 부정갯수가 가장 작은 편이므로, 긍정데이터에 대해서는 과적합"
   ]
  },
  {
   "cell_type": "markdown",
   "id": "c9d7e278",
   "metadata": {},
   "source": [
    "### LSTM ( 73 ~ 77% / 요약본 / 오차 작음)"
   ]
  },
  {
   "cell_type": "code",
   "execution_count": 64,
   "id": "bb29a0fd",
   "metadata": {
    "ExecuteTime": {
     "end_time": "2022-06-02T01:54:50.949450Z",
     "start_time": "2022-06-02T01:54:50.770928Z"
    }
   },
   "outputs": [
    {
     "name": "stdout",
     "output_type": "stream",
     "text": [
      "WARNING:tensorflow:Layer lstm will not use cuDNN kernels since it doesn't meet the criteria. It will use a generic GPU kernel as fallback when running on GPU.\n",
      "Model: \"sequential_1\"\n",
      "_________________________________________________________________\n",
      "Layer (type)                 Output Shape              Param #   \n",
      "=================================================================\n",
      "embedding (Embedding)        (None, 60, 100)           1300700   \n",
      "_________________________________________________________________\n",
      "lstm (LSTM)                  (None, 128)               117248    \n",
      "_________________________________________________________________\n",
      "dense (Dense)                (None, 2)                 258       \n",
      "=================================================================\n",
      "Total params: 1,418,206\n",
      "Trainable params: 1,418,206\n",
      "Non-trainable params: 0\n",
      "_________________________________________________________________\n"
     ]
    }
   ],
   "source": [
    "# 하이퍼파라미터 : rmsprop / binary_crossentropy / 50 / 256 / 0.2\n",
    "model_01 = Sequential()\n",
    "\n",
    "model_01 = Sequential() # tensorflow.keras.models\n",
    "model_01.add(Embedding(total_cnt, 100, input_length=max_len))\n",
    "model_01.add(LSTM(128))\n",
    "model_01.add(Dense(2, activation='sigmoid'))\n",
    "model_01.summary()"
   ]
  },
  {
   "cell_type": "markdown",
   "id": "ab1f6541",
   "metadata": {},
   "source": [
    "### LSTM 2 Layer + Dropout (64 ~ 66 % / 요약본 / 오차 큼)"
   ]
  },
  {
   "cell_type": "code",
   "execution_count": 65,
   "id": "bdf89589",
   "metadata": {
    "ExecuteTime": {
     "end_time": "2022-06-02T01:54:52.161237Z",
     "start_time": "2022-06-02T01:54:50.950447Z"
    }
   },
   "outputs": [
    {
     "name": "stdout",
     "output_type": "stream",
     "text": [
      "WARNING:tensorflow:Layer lstm_1 will not use cuDNN kernels since it doesn't meet the criteria. It will use a generic GPU kernel as fallback when running on GPU.\n",
      "WARNING:tensorflow:Layer lstm_2 will not use cuDNN kernels since it doesn't meet the criteria. It will use a generic GPU kernel as fallback when running on GPU.\n",
      "Model: \"sequential_2\"\n",
      "_________________________________________________________________\n",
      "Layer (type)                 Output Shape              Param #   \n",
      "=================================================================\n",
      "embedding_1 (Embedding)      (None, None, 100)         1300700   \n",
      "_________________________________________________________________\n",
      "lstm_1 (LSTM)                (None, None, 64)          42240     \n",
      "_________________________________________________________________\n",
      "lstm_2 (LSTM)                (None, 32)                12416     \n",
      "_________________________________________________________________\n",
      "dense_1 (Dense)              (None, 2)                 66        \n",
      "=================================================================\n",
      "Total params: 1,355,422\n",
      "Trainable params: 1,355,422\n",
      "Non-trainable params: 0\n",
      "_________________________________________________________________\n"
     ]
    }
   ],
   "source": [
    "# 하이퍼파라미터 : adam / categorical_crossentropy / 50 / 512 / 0.2\n",
    "model_02 = Sequential()\n",
    "\n",
    "model_02.add(Embedding(total_cnt,100, mask_zero=True))\n",
    "model_02.add(LSTM(64,dropout=0.7, recurrent_dropout=0.7,return_sequences=True))\n",
    "model_02.add(LSTM(32,dropout=0.6, recurrent_dropout=0.6,return_sequences=False))\n",
    "model_02.add(Dense(2, activation='sigmoid'))\n",
    "model_02.summary()"
   ]
  },
  {
   "cell_type": "markdown",
   "id": "f83b5d01",
   "metadata": {},
   "source": [
    "### CNN + Dropout ( 77 ~ 79 % / 요약본 / 오차 큼)"
   ]
  },
  {
   "cell_type": "code",
   "execution_count": 74,
   "id": "1938613d",
   "metadata": {
    "ExecuteTime": {
     "end_time": "2022-06-02T01:56:35.941943Z",
     "start_time": "2022-06-02T01:56:34.889754Z"
    }
   },
   "outputs": [
    {
     "name": "stdout",
     "output_type": "stream",
     "text": [
      "WARNING:tensorflow:Layer lstm_6 will not use cuDNN kernels since it doesn't meet the criteria. It will use a generic GPU kernel as fallback when running on GPU.\n",
      "WARNING:tensorflow:Layer lstm_6 will not use cuDNN kernels since it doesn't meet the criteria. It will use a generic GPU kernel as fallback when running on GPU.\n",
      "WARNING:tensorflow:Layer lstm_6 will not use cuDNN kernels since it doesn't meet the criteria. It will use a generic GPU kernel as fallback when running on GPU.\n",
      "Model: \"sequential_7\"\n",
      "_________________________________________________________________\n",
      "Layer (type)                 Output Shape              Param #   \n",
      "=================================================================\n",
      "embedding_6 (Embedding)      (None, 60, 100)           1300700   \n",
      "_________________________________________________________________\n",
      "conv1d_2 (Conv1D)            (None, 60, 128)           38528     \n",
      "_________________________________________________________________\n",
      "bidirectional_4 (Bidirection (None, 60, 128)           98816     \n",
      "_________________________________________________________________\n",
      "global_max_pooling1d_1 (Glob (None, 128)               0         \n",
      "_________________________________________________________________\n",
      "batch_normalization_4 (Batch (None, 128)               512       \n",
      "_________________________________________________________________\n",
      "dense_9 (Dense)              (None, 64)                8256      \n",
      "_________________________________________________________________\n",
      "dense_10 (Dense)             (None, 2)                 130       \n",
      "=================================================================\n",
      "Total params: 1,446,942\n",
      "Trainable params: 1,446,686\n",
      "Non-trainable params: 256\n",
      "_________________________________________________________________\n"
     ]
    }
   ],
   "source": [
    "# 하이퍼파라미터 : adam / categorical_crossentropy / 100 / 128 / 0.2\n",
    "model_03= Sequential()\n",
    "\n",
    "model_03.add(Embedding(total_cnt, 100, input_length=max_len))\n",
    "model_03.add(Conv1D(128, kernel_size=3, padding='same', activation='relu', strides=1))\n",
    "model_03.add(Bidirectional(LSTM(64, dropout= 0.6, recurrent_dropout=0.6, return_sequences=True)))\n",
    "model_03.add(GlobalMaxPooling1D())\n",
    "model_03.add(BatchNormalization())\n",
    "\n",
    "# model_03.add(Dropout(0.8))\n",
    "# model_03.add(Dense(256, activation='relu'))\n",
    "# model_03.add(Conv1D(128, kernel_size=3, padding='same', activation='relu', strides=1))\n",
    "# model_03.add(Bidirectional(LSTM(128, dropout= 0.6, recurrent_dropout=0.6, return_sequences=True)))\n",
    "# model_03.add(GlobalMaxPooling1D())\n",
    "# model_03.add(BatchNormalization())\n",
    "# model_03.add(Dropout(0.8))\n",
    "\n",
    "model_03.add(Dense(64, activation='relu'))\n",
    "model_03.add(Dense(2, activation='sigmoid'))\n",
    "model_03.summary()"
   ]
  },
  {
   "cell_type": "markdown",
   "id": "92ced4a2",
   "metadata": {},
   "source": [
    "### Bi GRU + Dropout ( 75 ~ 77% / 요약본 / 오차 매우 작음)"
   ]
  },
  {
   "cell_type": "code",
   "execution_count": 67,
   "id": "2b3c69b4",
   "metadata": {
    "ExecuteTime": {
     "end_time": "2022-06-02T01:54:53.761927Z",
     "start_time": "2022-06-02T01:54:53.403885Z"
    }
   },
   "outputs": [
    {
     "name": "stdout",
     "output_type": "stream",
     "text": [
      "WARNING:tensorflow:Layer gru will not use cuDNN kernels since it doesn't meet the criteria. It will use a generic GPU kernel as fallback when running on GPU.\n",
      "WARNING:tensorflow:Layer gru will not use cuDNN kernels since it doesn't meet the criteria. It will use a generic GPU kernel as fallback when running on GPU.\n",
      "WARNING:tensorflow:Layer gru will not use cuDNN kernels since it doesn't meet the criteria. It will use a generic GPU kernel as fallback when running on GPU.\n",
      "Model: \"sequential_4\"\n",
      "_________________________________________________________________\n",
      "Layer (type)                 Output Shape              Param #   \n",
      "=================================================================\n",
      "embedding_3 (Embedding)      (None, 60, 100)           1300700   \n",
      "_________________________________________________________________\n",
      "spatial_dropout1d (SpatialDr (None, 60, 100)           0         \n",
      "_________________________________________________________________\n",
      "bidirectional_1 (Bidirection (None, 256)               176640    \n",
      "_________________________________________________________________\n",
      "dropout (Dropout)            (None, 256)               0         \n",
      "_________________________________________________________________\n",
      "dense_4 (Dense)              (None, 2)                 514       \n",
      "=================================================================\n",
      "Total params: 1,477,854\n",
      "Trainable params: 1,477,854\n",
      "Non-trainable params: 0\n",
      "_________________________________________________________________\n"
     ]
    }
   ],
   "source": [
    "model_04 = Sequential()\n",
    "\n",
    "model_04.add(Embedding(total_cnt, 100, input_length=max_len))\n",
    "model_04.add(SpatialDropout1D(0.25))\n",
    "model_04.add(Bidirectional(GRU(128)))\n",
    "model_04.add(Dropout(0.5))\n",
    "\n",
    "model_04.add(Dense(2, activation='sigmoid'))\n",
    "model_04.summary()"
   ]
  },
  {
   "cell_type": "markdown",
   "id": "bb43ce6e",
   "metadata": {},
   "source": [
    "### Bi LSTM (  )"
   ]
  },
  {
   "cell_type": "code",
   "execution_count": 68,
   "id": "f6ee252d",
   "metadata": {
    "ExecuteTime": {
     "end_time": "2022-06-02T01:54:55.108324Z",
     "start_time": "2022-06-02T01:54:53.765916Z"
    }
   },
   "outputs": [
    {
     "name": "stdout",
     "output_type": "stream",
     "text": [
      "WARNING:tensorflow:Layer lstm_4 will not use cuDNN kernels since it doesn't meet the criteria. It will use a generic GPU kernel as fallback when running on GPU.\n",
      "WARNING:tensorflow:Layer lstm_4 will not use cuDNN kernels since it doesn't meet the criteria. It will use a generic GPU kernel as fallback when running on GPU.\n",
      "WARNING:tensorflow:Layer lstm_4 will not use cuDNN kernels since it doesn't meet the criteria. It will use a generic GPU kernel as fallback when running on GPU.\n",
      "WARNING:tensorflow:Layer gru_1 will not use cuDNN kernels since it doesn't meet the criteria. It will use a generic GPU kernel as fallback when running on GPU.\n",
      "Model: \"sequential_5\"\n",
      "_________________________________________________________________\n",
      "Layer (type)                 Output Shape              Param #   \n",
      "=================================================================\n",
      "embedding_4 (Embedding)      (None, 60, 100)           1300700   \n",
      "_________________________________________________________________\n",
      "bidirectional_2 (Bidirection (None, 60, 256)           234496    \n",
      "_________________________________________________________________\n",
      "gru_1 (GRU)                  (None, 64)                61824     \n",
      "_________________________________________________________________\n",
      "dense_5 (Dense)              (None, 64)                4160      \n",
      "_________________________________________________________________\n",
      "dropout_1 (Dropout)          (None, 64)                0         \n",
      "_________________________________________________________________\n",
      "dense_6 (Dense)              (None, 2)                 130       \n",
      "=================================================================\n",
      "Total params: 1,601,310\n",
      "Trainable params: 1,601,310\n",
      "Non-trainable params: 0\n",
      "_________________________________________________________________\n"
     ]
    }
   ],
   "source": [
    "model_05 = Sequential()\n",
    "\n",
    "model_05.add(Embedding(total_cnt, 100, input_length=max_len))\n",
    "model_05.add(Bidirectional(LSTM(128, dropout= 0.5, recurrent_dropout=0.5, return_sequences=True)))\n",
    "\n",
    "# model_05.add(Bidirectional(LSTM(128, dropout= 0.7, recurrent_dropout=0.7)))\n",
    "model_05.add(GRU(64))\n",
    "model_05.add(Dense(64, activation='relu'))\n",
    "model_05.add(Dropout(0.2))\n",
    "model_05.add(Dense(2, activation='sigmoid'))\n",
    "model_05.summary()"
   ]
  },
  {
   "cell_type": "code",
   "execution_count": 75,
   "id": "4f5e1654",
   "metadata": {
    "ExecuteTime": {
     "end_time": "2022-06-02T01:56:44.229932Z",
     "start_time": "2022-06-02T01:56:44.224946Z"
    }
   },
   "outputs": [],
   "source": [
    "def learning(model):\n",
    "    es = EarlyStopping(monitor='val_loss', mode='min', verbose=1, patience=50)\n",
    "    mc = ModelCheckpoint('bilstm.h5', monitor='val_acc', mode='max', verbose=1, save_best_only=True)\n",
    "\n",
    "    # categorical_crossentropy / binary_crossentropy / mse / sparse_categorical_crossentropy\n",
    "    # softmax / sigmoid\n",
    "    model.compile(optimizer=adam, loss='binary_crossentropy', metrics=['accuracy'])# 0.002 학습률\n",
    "    history = model.fit(X_train, y_train, epochs=50, callbacks=[es, mc], batch_size=256, validation_split=0.3)\n",
    "    return history"
   ]
  },
  {
   "cell_type": "markdown",
   "id": "97759b61",
   "metadata": {},
   "source": [
    "### 모델 변수 수정\n",
    "\n",
    "- 과적합 : https://stackoverflow.com/questions/50615396/validation-loss-increasing\n",
    "- https://stackoverflow.com/questions/61342448/train-accuracy-increases-train-loss-is-stable-validation-loss-increases-valid"
   ]
  },
  {
   "cell_type": "code",
   "execution_count": 77,
   "id": "fa0626c2",
   "metadata": {
    "ExecuteTime": {
     "end_time": "2022-06-02T02:10:10.082950Z",
     "start_time": "2022-06-02T02:10:10.068987Z"
    }
   },
   "outputs": [],
   "source": [
    "# model_num = model_05\n",
    "# history = learning(model_num)"
   ]
  },
  {
   "cell_type": "code",
   "execution_count": 76,
   "id": "f5dd4476",
   "metadata": {
    "ExecuteTime": {
     "end_time": "2022-06-02T02:10:10.067990Z",
     "start_time": "2022-06-02T01:56:46.000403Z"
    }
   },
   "outputs": [
    {
     "name": "stdout",
     "output_type": "stream",
     "text": [
      "Train on 6425 samples, validate on 2754 samples\n",
      "Epoch 1/50\n",
      "6425/6425 [==============================] - ETA: 0s - loss: 0.4961 - accuracy: 0.8016WARNING:tensorflow:Can save best model only with val_acc available, skipping.\n",
      "6425/6425 [==============================] - 19s 3ms/sample - loss: 0.4961 - accuracy: 0.8016 - val_loss: 0.3114 - val_accuracy: 0.9074\n",
      "Epoch 2/50\n",
      "6425/6425 [==============================] - ETA: 0s - loss: 0.3390 - accuracy: 0.9050WARNING:tensorflow:Can save best model only with val_acc available, skipping.\n",
      "6425/6425 [==============================] - 16s 2ms/sample - loss: 0.3390 - accuracy: 0.9050 - val_loss: 0.3248 - val_accuracy: 0.9074\n",
      "Epoch 3/50\n",
      "6425/6425 [==============================] - ETA: 0s - loss: 0.3003 - accuracy: 0.9049WARNING:tensorflow:Can save best model only with val_acc available, skipping.\n",
      "6425/6425 [==============================] - 15s 2ms/sample - loss: 0.3003 - accuracy: 0.9049 - val_loss: 0.3223 - val_accuracy: 0.9074\n",
      "Epoch 4/50\n",
      "6425/6425 [==============================] - ETA: 0s - loss: 0.2467 - accuracy: 0.9040WARNING:tensorflow:Can save best model only with val_acc available, skipping.\n",
      "6425/6425 [==============================] - 15s 2ms/sample - loss: 0.2467 - accuracy: 0.9040 - val_loss: 0.3140 - val_accuracy: 0.9074\n",
      "Epoch 5/50\n",
      "6425/6425 [==============================] - ETA: 0s - loss: 0.2034 - accuracy: 0.9181WARNING:tensorflow:Can save best model only with val_acc available, skipping.\n",
      "6425/6425 [==============================] - 16s 2ms/sample - loss: 0.2034 - accuracy: 0.9181 - val_loss: 0.3166 - val_accuracy: 0.9074\n",
      "Epoch 6/50\n",
      "6425/6425 [==============================] - ETA: 0s - loss: 0.1670 - accuracy: 0.9356WARNING:tensorflow:Can save best model only with val_acc available, skipping.\n",
      "6425/6425 [==============================] - 16s 2ms/sample - loss: 0.1670 - accuracy: 0.9356 - val_loss: 0.3278 - val_accuracy: 0.9074\n",
      "Epoch 7/50\n",
      "6425/6425 [==============================] - ETA: 0s - loss: 0.1433 - accuracy: 0.9444WARNING:tensorflow:Can save best model only with val_acc available, skipping.\n",
      "6425/6425 [==============================] - 15s 2ms/sample - loss: 0.1433 - accuracy: 0.9444 - val_loss: 0.3363 - val_accuracy: 0.9074\n",
      "Epoch 8/50\n",
      "6425/6425 [==============================] - ETA: 0s - loss: 0.1124 - accuracy: 0.9570WARNING:tensorflow:Can save best model only with val_acc available, skipping.\n",
      "6425/6425 [==============================] - 16s 2ms/sample - loss: 0.1124 - accuracy: 0.9570 - val_loss: 0.3471 - val_accuracy: 0.9072\n",
      "Epoch 9/50\n",
      "6425/6425 [==============================] - ETA: 0s - loss: 0.0837 - accuracy: 0.9685WARNING:tensorflow:Can save best model only with val_acc available, skipping.\n",
      "6425/6425 [==============================] - 16s 2ms/sample - loss: 0.0837 - accuracy: 0.9685 - val_loss: 0.3668 - val_accuracy: 0.9070\n",
      "Epoch 10/50\n",
      "6425/6425 [==============================] - ETA: 0s - loss: 0.0713 - accuracy: 0.9773WARNING:tensorflow:Can save best model only with val_acc available, skipping.\n",
      "6425/6425 [==============================] - 16s 2ms/sample - loss: 0.0713 - accuracy: 0.9773 - val_loss: 0.4106 - val_accuracy: 0.9070\n",
      "Epoch 11/50\n",
      "6425/6425 [==============================] - ETA: 0s - loss: 0.0661 - accuracy: 0.9753WARNING:tensorflow:Can save best model only with val_acc available, skipping.\n",
      "6425/6425 [==============================] - 15s 2ms/sample - loss: 0.0661 - accuracy: 0.9753 - val_loss: 0.4205 - val_accuracy: 0.9070\n",
      "Epoch 12/50\n",
      "6425/6425 [==============================] - ETA: 0s - loss: 0.0541 - accuracy: 0.9804WARNING:tensorflow:Can save best model only with val_acc available, skipping.\n",
      "6425/6425 [==============================] - 16s 2ms/sample - loss: 0.0541 - accuracy: 0.9804 - val_loss: 0.4252 - val_accuracy: 0.9047\n",
      "Epoch 13/50\n",
      "6425/6425 [==============================] - ETA: 0s - loss: 0.0461 - accuracy: 0.9838WARNING:tensorflow:Can save best model only with val_acc available, skipping.\n",
      "6425/6425 [==============================] - 16s 3ms/sample - loss: 0.0461 - accuracy: 0.9838 - val_loss: 0.4393 - val_accuracy: 0.9012\n",
      "Epoch 14/50\n",
      "6425/6425 [==============================] - ETA: 0s - loss: 0.0408 - accuracy: 0.9868WARNING:tensorflow:Can save best model only with val_acc available, skipping.\n",
      "6425/6425 [==============================] - 16s 3ms/sample - loss: 0.0408 - accuracy: 0.9868 - val_loss: 0.4550 - val_accuracy: 0.9025\n",
      "Epoch 15/50\n",
      "6425/6425 [==============================] - ETA: 0s - loss: 0.0369 - accuracy: 0.9861WARNING:tensorflow:Can save best model only with val_acc available, skipping.\n",
      "6425/6425 [==============================] - 16s 3ms/sample - loss: 0.0369 - accuracy: 0.9861 - val_loss: 0.4895 - val_accuracy: 0.8983\n",
      "Epoch 16/50\n",
      "6425/6425 [==============================] - ETA: 0s - loss: 0.0403 - accuracy: 0.9855WARNING:tensorflow:Can save best model only with val_acc available, skipping.\n",
      "6425/6425 [==============================] - 18s 3ms/sample - loss: 0.0403 - accuracy: 0.9855 - val_loss: 0.5573 - val_accuracy: 0.8883\n",
      "Epoch 17/50\n",
      "6425/6425 [==============================] - ETA: 0s - loss: 0.0371 - accuracy: 0.9872WARNING:tensorflow:Can save best model only with val_acc available, skipping.\n",
      "6425/6425 [==============================] - 17s 3ms/sample - loss: 0.0371 - accuracy: 0.9872 - val_loss: 0.5833 - val_accuracy: 0.8524\n",
      "Epoch 18/50\n",
      "6425/6425 [==============================] - ETA: 0s - loss: 0.0322 - accuracy: 0.9885WARNING:tensorflow:Can save best model only with val_acc available, skipping.\n",
      "6425/6425 [==============================] - 16s 3ms/sample - loss: 0.0322 - accuracy: 0.9885 - val_loss: 0.6230 - val_accuracy: 0.8898\n",
      "Epoch 19/50\n",
      "6425/6425 [==============================] - ETA: 0s - loss: 0.0276 - accuracy: 0.9905WARNING:tensorflow:Can save best model only with val_acc available, skipping.\n",
      "6425/6425 [==============================] - 16s 2ms/sample - loss: 0.0276 - accuracy: 0.9905 - val_loss: 0.6756 - val_accuracy: 0.8606\n",
      "Epoch 20/50\n",
      "6425/6425 [==============================] - ETA: 0s - loss: 0.0267 - accuracy: 0.9920WARNING:tensorflow:Can save best model only with val_acc available, skipping.\n",
      "6425/6425 [==============================] - 19s 3ms/sample - loss: 0.0267 - accuracy: 0.9920 - val_loss: 0.7334 - val_accuracy: 0.8598\n",
      "Epoch 21/50\n",
      "6425/6425 [==============================] - ETA: 0s - loss: 0.0242 - accuracy: 0.9907WARNING:tensorflow:Can save best model only with val_acc available, skipping.\n",
      "6425/6425 [==============================] - 22s 3ms/sample - loss: 0.0242 - accuracy: 0.9907 - val_loss: 0.8158 - val_accuracy: 0.8509\n",
      "Epoch 22/50\n",
      "6425/6425 [==============================] - ETA: 0s - loss: 0.0246 - accuracy: 0.9923WARNING:tensorflow:Can save best model only with val_acc available, skipping.\n",
      "6425/6425 [==============================] - 16s 2ms/sample - loss: 0.0246 - accuracy: 0.9923 - val_loss: 0.8138 - val_accuracy: 0.8511\n",
      "Epoch 23/50\n",
      "6425/6425 [==============================] - ETA: 0s - loss: 0.0235 - accuracy: 0.9918WARNING:tensorflow:Can save best model only with val_acc available, skipping.\n",
      "6425/6425 [==============================] - 16s 2ms/sample - loss: 0.0235 - accuracy: 0.9918 - val_loss: 0.7978 - val_accuracy: 0.8597\n",
      "Epoch 24/50\n",
      "6425/6425 [==============================] - ETA: 0s - loss: 0.0214 - accuracy: 0.9927WARNING:tensorflow:Can save best model only with val_acc available, skipping.\n",
      "6425/6425 [==============================] - 15s 2ms/sample - loss: 0.0214 - accuracy: 0.9927 - val_loss: 0.9496 - val_accuracy: 0.8106\n",
      "Epoch 25/50\n",
      "6425/6425 [==============================] - ETA: 0s - loss: 0.0260 - accuracy: 0.9904WARNING:tensorflow:Can save best model only with val_acc available, skipping.\n",
      "6425/6425 [==============================] - 15s 2ms/sample - loss: 0.0260 - accuracy: 0.9904 - val_loss: 0.7867 - val_accuracy: 0.8397\n",
      "Epoch 26/50\n",
      "6425/6425 [==============================] - ETA: 0s - loss: 0.0188 - accuracy: 0.9930WARNING:tensorflow:Can save best model only with val_acc available, skipping.\n",
      "6425/6425 [==============================] - 15s 2ms/sample - loss: 0.0188 - accuracy: 0.9930 - val_loss: 0.8951 - val_accuracy: 0.8393\n",
      "Epoch 27/50\n"
     ]
    },
    {
     "name": "stdout",
     "output_type": "stream",
     "text": [
      "6425/6425 [==============================] - ETA: 0s - loss: 0.0179 - accuracy: 0.9935WARNING:tensorflow:Can save best model only with val_acc available, skipping.\n",
      "6425/6425 [==============================] - 15s 2ms/sample - loss: 0.0179 - accuracy: 0.9935 - val_loss: 0.9080 - val_accuracy: 0.8480\n",
      "Epoch 28/50\n",
      "6425/6425 [==============================] - ETA: 0s - loss: 0.0200 - accuracy: 0.9916WARNING:tensorflow:Can save best model only with val_acc available, skipping.\n",
      "6425/6425 [==============================] - 16s 2ms/sample - loss: 0.0200 - accuracy: 0.9916 - val_loss: 0.8889 - val_accuracy: 0.8542\n",
      "Epoch 29/50\n",
      "6425/6425 [==============================] - ETA: 0s - loss: 0.0200 - accuracy: 0.9924WARNING:tensorflow:Can save best model only with val_acc available, skipping.\n",
      "6425/6425 [==============================] - 15s 2ms/sample - loss: 0.0200 - accuracy: 0.9924 - val_loss: 0.8801 - val_accuracy: 0.8644\n",
      "Epoch 30/50\n",
      "6425/6425 [==============================] - ETA: 0s - loss: 0.0174 - accuracy: 0.9944WARNING:tensorflow:Can save best model only with val_acc available, skipping.\n",
      "6425/6425 [==============================] - 16s 2ms/sample - loss: 0.0174 - accuracy: 0.9944 - val_loss: 0.9814 - val_accuracy: 0.8333\n",
      "Epoch 31/50\n",
      "6425/6425 [==============================] - ETA: 0s - loss: 0.0155 - accuracy: 0.9939WARNING:tensorflow:Can save best model only with val_acc available, skipping.\n",
      "6425/6425 [==============================] - 16s 2ms/sample - loss: 0.0155 - accuracy: 0.9939 - val_loss: 0.9453 - val_accuracy: 0.8502\n",
      "Epoch 32/50\n",
      "6425/6425 [==============================] - ETA: 0s - loss: 0.0142 - accuracy: 0.9953WARNING:tensorflow:Can save best model only with val_acc available, skipping.\n",
      "6425/6425 [==============================] - 16s 2ms/sample - loss: 0.0142 - accuracy: 0.9953 - val_loss: 0.9931 - val_accuracy: 0.8495\n",
      "Epoch 33/50\n",
      "6425/6425 [==============================] - ETA: 0s - loss: 0.0146 - accuracy: 0.9946WARNING:tensorflow:Can save best model only with val_acc available, skipping.\n",
      "6425/6425 [==============================] - 15s 2ms/sample - loss: 0.0146 - accuracy: 0.9946 - val_loss: 0.9083 - val_accuracy: 0.8535\n",
      "Epoch 34/50\n",
      "6425/6425 [==============================] - ETA: 0s - loss: 0.0160 - accuracy: 0.9949WARNING:tensorflow:Can save best model only with val_acc available, skipping.\n",
      "6425/6425 [==============================] - 16s 2ms/sample - loss: 0.0160 - accuracy: 0.9949 - val_loss: 1.0127 - val_accuracy: 0.8239\n",
      "Epoch 35/50\n",
      "6425/6425 [==============================] - ETA: 0s - loss: 0.0142 - accuracy: 0.9956WARNING:tensorflow:Can save best model only with val_acc available, skipping.\n",
      "6425/6425 [==============================] - 16s 2ms/sample - loss: 0.0142 - accuracy: 0.9956 - val_loss: 0.8821 - val_accuracy: 0.8500\n",
      "Epoch 36/50\n",
      "6425/6425 [==============================] - ETA: 0s - loss: 0.0133 - accuracy: 0.9957WARNING:tensorflow:Can save best model only with val_acc available, skipping.\n",
      "6425/6425 [==============================] - 15s 2ms/sample - loss: 0.0133 - accuracy: 0.9957 - val_loss: 1.0182 - val_accuracy: 0.8286\n",
      "Epoch 37/50\n",
      "6425/6425 [==============================] - ETA: 0s - loss: 0.0128 - accuracy: 0.9963WARNING:tensorflow:Can save best model only with val_acc available, skipping.\n",
      "6425/6425 [==============================] - 15s 2ms/sample - loss: 0.0128 - accuracy: 0.9963 - val_loss: 0.9620 - val_accuracy: 0.8437\n",
      "Epoch 38/50\n",
      "6425/6425 [==============================] - ETA: 0s - loss: 0.0123 - accuracy: 0.9949WARNING:tensorflow:Can save best model only with val_acc available, skipping.\n",
      "6425/6425 [==============================] - 16s 2ms/sample - loss: 0.0123 - accuracy: 0.9949 - val_loss: 1.0426 - val_accuracy: 0.8268\n",
      "Epoch 39/50\n",
      "6425/6425 [==============================] - ETA: 0s - loss: 0.0112 - accuracy: 0.9954WARNING:tensorflow:Can save best model only with val_acc available, skipping.\n",
      "6425/6425 [==============================] - 15s 2ms/sample - loss: 0.0112 - accuracy: 0.9954 - val_loss: 1.0406 - val_accuracy: 0.8157\n",
      "Epoch 40/50\n",
      "6425/6425 [==============================] - ETA: 0s - loss: 0.0128 - accuracy: 0.9953WARNING:tensorflow:Can save best model only with val_acc available, skipping.\n",
      "6425/6425 [==============================] - 16s 2ms/sample - loss: 0.0128 - accuracy: 0.9953 - val_loss: 1.1190 - val_accuracy: 0.8014\n",
      "Epoch 41/50\n",
      "6425/6425 [==============================] - ETA: 0s - loss: 0.0126 - accuracy: 0.9951WARNING:tensorflow:Can save best model only with val_acc available, skipping.\n",
      "6425/6425 [==============================] - 15s 2ms/sample - loss: 0.0126 - accuracy: 0.9951 - val_loss: 1.0836 - val_accuracy: 0.8143\n",
      "Epoch 42/50\n",
      "6425/6425 [==============================] - ETA: 0s - loss: 0.0120 - accuracy: 0.9947WARNING:tensorflow:Can save best model only with val_acc available, skipping.\n",
      "6425/6425 [==============================] - 15s 2ms/sample - loss: 0.0120 - accuracy: 0.9947 - val_loss: 1.1137 - val_accuracy: 0.7927\n",
      "Epoch 43/50\n",
      "6425/6425 [==============================] - ETA: 0s - loss: 0.0117 - accuracy: 0.9963WARNING:tensorflow:Can save best model only with val_acc available, skipping.\n",
      "6425/6425 [==============================] - 15s 2ms/sample - loss: 0.0117 - accuracy: 0.9963 - val_loss: 1.1336 - val_accuracy: 0.8161\n",
      "Epoch 44/50\n",
      "6425/6425 [==============================] - ETA: 0s - loss: 0.0126 - accuracy: 0.9956WARNING:tensorflow:Can save best model only with val_acc available, skipping.\n",
      "6425/6425 [==============================] - 15s 2ms/sample - loss: 0.0126 - accuracy: 0.9956 - val_loss: 1.0986 - val_accuracy: 0.8350\n",
      "Epoch 45/50\n",
      "6425/6425 [==============================] - ETA: 0s - loss: 0.0129 - accuracy: 0.9954WARNING:tensorflow:Can save best model only with val_acc available, skipping.\n",
      "6425/6425 [==============================] - 15s 2ms/sample - loss: 0.0129 - accuracy: 0.9954 - val_loss: 1.0917 - val_accuracy: 0.8250\n",
      "Epoch 46/50\n",
      "6425/6425 [==============================] - ETA: 0s - loss: 0.0107 - accuracy: 0.9958WARNING:tensorflow:Can save best model only with val_acc available, skipping.\n",
      "6425/6425 [==============================] - 16s 2ms/sample - loss: 0.0107 - accuracy: 0.9958 - val_loss: 1.2592 - val_accuracy: 0.7988\n",
      "Epoch 47/50\n",
      "6425/6425 [==============================] - ETA: 0s - loss: 0.0126 - accuracy: 0.9949WARNING:tensorflow:Can save best model only with val_acc available, skipping.\n",
      "6425/6425 [==============================] - 15s 2ms/sample - loss: 0.0126 - accuracy: 0.9949 - val_loss: 1.0694 - val_accuracy: 0.8194\n",
      "Epoch 48/50\n",
      "6425/6425 [==============================] - ETA: 0s - loss: 0.0095 - accuracy: 0.9966WARNING:tensorflow:Can save best model only with val_acc available, skipping.\n",
      "6425/6425 [==============================] - 16s 2ms/sample - loss: 0.0095 - accuracy: 0.9966 - val_loss: 1.1301 - val_accuracy: 0.8112\n",
      "Epoch 49/50\n",
      "6425/6425 [==============================] - ETA: 0s - loss: 0.0093 - accuracy: 0.9964WARNING:tensorflow:Can save best model only with val_acc available, skipping.\n",
      "6425/6425 [==============================] - 16s 2ms/sample - loss: 0.0093 - accuracy: 0.9964 - val_loss: 1.1258 - val_accuracy: 0.8197\n",
      "Epoch 50/50\n",
      "6425/6425 [==============================] - ETA: 0s - loss: 0.0082 - accuracy: 0.9968WARNING:tensorflow:Can save best model only with val_acc available, skipping.\n",
      "6425/6425 [==============================] - 16s 2ms/sample - loss: 0.0082 - accuracy: 0.9968 - val_loss: 1.1688 - val_accuracy: 0.8134\n"
     ]
    }
   ],
   "source": [
    "model_num = model_03\n",
    "history = learning(model_num)"
   ]
  },
  {
   "cell_type": "code",
   "execution_count": null,
   "id": "77a28192",
   "metadata": {
    "ExecuteTime": {
     "end_time": "2022-06-02T01:55:21.275372Z",
     "start_time": "2022-06-02T01:54:39.494Z"
    }
   },
   "outputs": [],
   "source": [
    "model_num = model_04\n",
    "history = learning(model_num)"
   ]
  },
  {
   "cell_type": "code",
   "execution_count": 78,
   "id": "7953a9b1",
   "metadata": {
    "ExecuteTime": {
     "end_time": "2022-06-02T02:16:56.908684Z",
     "start_time": "2022-06-02T02:16:40.287151Z"
    },
    "scrolled": true
   },
   "outputs": [
    {
     "name": "stdout",
     "output_type": "stream",
     "text": [
      "예측률 : 83.52%\n",
      "\n"
     ]
    }
   ],
   "source": [
    "print('예측률 : {:.2f}%'.format(model_num.evaluate(X_test, y_test)[1] * 100))\n",
    "print()\n",
    "# loaded_model = load_model('bilstm.h5')\n",
    "# print(\"\\n 테스트 정확도: %.4f\" % (loaded_model.evaluate(X_test, y_test)[1]))"
   ]
  },
  {
   "cell_type": "markdown",
   "id": "5ee2498d",
   "metadata": {},
   "source": [
    "## 데이터 학습 시각화\n",
    "\n",
    "- 오버피팅 : https://untitledtblog.tistory.com/158"
   ]
  },
  {
   "cell_type": "code",
   "execution_count": 79,
   "id": "39807ffa",
   "metadata": {
    "ExecuteTime": {
     "end_time": "2022-06-02T02:17:08.654093Z",
     "start_time": "2022-06-02T02:17:08.438666Z"
    }
   },
   "outputs": [
    {
     "data": {
      "image/png": "[encoded data removed]",
      "text/plain": [
       "<Figure size 432x288 with 1 Axes>"
      ]
     },
     "metadata": {
      "needs_background": "light"
     },
     "output_type": "display_data"
    },
    {
     "data": {
      "image/png": "[encoded data removed]",
      "text/plain": [
       "<Figure size 432x288 with 1 Axes>"
      ]
     },
     "metadata": {
      "needs_background": "light"
     },
     "output_type": "display_data"
    }
   ],
   "source": [
    "hist_dict = history.history\n",
    "loss = hist_dict['loss']\n",
    "val_loss = hist_dict['val_loss']\n",
    "acc = hist_dict['accuracy']\n",
    "val_acc = hist_dict['val_accuracy']\n",
    "                \n",
    "plt.plot(loss, 'b--', label = 'training loss')\n",
    "plt.plot(val_loss, 'r:', label = 'validation loss')\n",
    "plt.legend()\n",
    "plt.grid()\n",
    "\n",
    "plt.figure()\n",
    "plt.plot(acc, 'b--', label='training accuracy')\n",
    "plt.plot(val_acc, 'r:', label='validation accuracy')\n",
    "plt.legend()\n",
    "plt.grid()"
   ]
  },
  {
   "cell_type": "code",
   "execution_count": 80,
   "id": "2eb93566",
   "metadata": {
    "ExecuteTime": {
     "end_time": "2022-06-02T02:17:29.388685Z",
     "start_time": "2022-06-02T02:17:11.055730Z"
    }
   },
   "outputs": [],
   "source": [
    "predict = model_num.predict(X_test)"
   ]
  },
  {
   "cell_type": "code",
   "execution_count": 81,
   "id": "eec7c7ab",
   "metadata": {
    "ExecuteTime": {
     "end_time": "2022-06-02T02:17:29.403645Z",
     "start_time": "2022-06-02T02:17:29.389683Z"
    }
   },
   "outputs": [],
   "source": [
    "predict_labels = np.argmax(predict, axis = 1)\n",
    "original_labels = np.argmax(y_test, axis = 1)"
   ]
  },
  {
   "cell_type": "code",
   "execution_count": null,
   "id": "9a06d671",
   "metadata": {
    "ExecuteTime": {
     "end_time": "2022-06-02T01:55:21.278365Z",
     "start_time": "2022-06-02T01:54:39.505Z"
    }
   },
   "outputs": [],
   "source": [
    "# for i in range(200):\n",
    "#     # print('기사 제목  :', X_test['nouns_contents'].iloc[i], '/\\t 원래 라벨 :', original_labels[i], '/\\t 예측한 라벨 :', predict_labels[i])\n",
    "#     print('원래 라벨 :', original_labels[i], '/\\t 예측한 라벨 :', predict_labels[i])"
   ]
  },
  {
   "cell_type": "markdown",
   "id": "d5c51e38",
   "metadata": {},
   "source": [
    "## 모델 평가 및 저장  후 테스트"
   ]
  },
  {
   "cell_type": "code",
   "execution_count": null,
   "id": "6524961d",
   "metadata": {
    "ExecuteTime": {
     "end_time": "2022-06-02T01:55:21.279362Z",
     "start_time": "2022-06-02T01:54:39.507Z"
    },
    "scrolled": true
   },
   "outputs": [],
   "source": [
    "print('예측률 : {:.2f}%'.format(model_num.evaluate(X_test, y_test)[1] * 100))\n",
    "print()\n",
    "# loaded_model = load_model('bilstm.h5')\n",
    "# print(\"\\n 테스트 정확도: %.4f\" % (loaded_model.evaluate(X_test, y_test)[1]))"
   ]
  },
  {
   "cell_type": "code",
   "execution_count": null,
   "id": "a6eb6736",
   "metadata": {
    "ExecuteTime": {
     "end_time": "2022-06-02T01:55:21.280360Z",
     "start_time": "2022-06-02T01:54:39.509Z"
    }
   },
   "outputs": [],
   "source": [
    "model_num.save('./HyperParameter_ModelLayer/LSTM_Sigmoid.h5')"
   ]
  },
  {
   "cell_type": "code",
   "execution_count": null,
   "id": "01c0244d",
   "metadata": {
    "ExecuteTime": {
     "end_time": "2022-06-02T01:55:21.280360Z",
     "start_time": "2022-06-02T01:54:39.511Z"
    }
   },
   "outputs": [],
   "source": [
    "from keras.models import load_model\n",
    "loaded_model = load_model('./HyperParameter_ModelLayer/LSTM_Sigmoid.h5')\n",
    "print(\"\\n 테스트 정확도 : {:.2f}%%\".format(loaded_model.evaluate(X_test, y_test)[1] * 100))"
   ]
  },
  {
   "cell_type": "markdown",
   "id": "b1e82455",
   "metadata": {},
   "source": [
    "## 모델이 예측한 긍정 / 부정 / 중립 시각화\n",
    "- model_01 사용 ( 기본 )\n",
    "- X_test 데이터에 대한 y_test 데이터로 평가한 결과 시각화"
   ]
  },
  {
   "cell_type": "code",
   "execution_count": 82,
   "id": "c36b7243",
   "metadata": {
    "ExecuteTime": {
     "end_time": "2022-06-02T02:17:29.418605Z",
     "start_time": "2022-06-02T02:17:29.404643Z"
    }
   },
   "outputs": [
    {
     "data": {
      "text/plain": [
       "array([0, 1], dtype=int64)"
      ]
     },
     "execution_count": 82,
     "metadata": {},
     "output_type": "execute_result"
    }
   ],
   "source": [
    "pd.Series(original_labels).unique()"
   ]
  },
  {
   "cell_type": "code",
   "execution_count": 83,
   "id": "5a4c8ab9",
   "metadata": {
    "ExecuteTime": {
     "end_time": "2022-06-02T02:17:29.433565Z",
     "start_time": "2022-06-02T02:17:29.419603Z"
    }
   },
   "outputs": [],
   "source": [
    "def change_idx(labels):\n",
    "    idx_tmp = list()\n",
    "    value_tmp = list()\n",
    "    for i in pd.Series(labels).unique():\n",
    "        if i == 0:\n",
    "            idx_tmp.append('부정')\n",
    "        if i == 1:\n",
    "            idx_tmp.append('긍정')\n",
    "        value_tmp.append(list(labels).count(i))\n",
    "    return value_tmp, idx_tmp"
   ]
  },
  {
   "cell_type": "code",
   "execution_count": 84,
   "id": "6c9bea63",
   "metadata": {
    "ExecuteTime": {
     "end_time": "2022-06-02T02:17:29.448527Z",
     "start_time": "2022-06-02T02:17:29.434563Z"
    }
   },
   "outputs": [],
   "source": [
    "r_value_tmp, r_idx_tmp = change_idx(original_labels)\n",
    "ori_view = pd.Series(data = r_value_tmp, index = r_idx_tmp)\n",
    "ori_view.sort_index(ascending=True, inplace=True)\n",
    "\n",
    "x = list(ori_view.keys())\n",
    "y = ori_view.values"
   ]
  },
  {
   "cell_type": "code",
   "execution_count": 85,
   "id": "3a5448a4",
   "metadata": {
    "ExecuteTime": {
     "end_time": "2022-06-02T02:17:29.463485Z",
     "start_time": "2022-06-02T02:17:29.449523Z"
    }
   },
   "outputs": [],
   "source": [
    "p_value_tmp, p_idx_tmp = change_idx(predict_labels)\n",
    "pre_view = pd.Series(data = p_value_tmp, index = p_idx_tmp)\n",
    "pre_view.sort_index(ascending=True, inplace=True)\n",
    "\n",
    "w = list(pre_view.keys())\n",
    "z = pre_view.values"
   ]
  },
  {
   "cell_type": "code",
   "execution_count": 86,
   "id": "2ac5c68f",
   "metadata": {
    "ExecuteTime": {
     "end_time": "2022-06-02T02:17:29.478446Z",
     "start_time": "2022-06-02T02:17:29.464483Z"
    }
   },
   "outputs": [],
   "source": [
    "Visualization = pd.DataFrame({'raw_label' : 0,\n",
    "              'predict_label' : 0}, index = ['긍정', '부정'])"
   ]
  },
  {
   "cell_type": "code",
   "execution_count": 87,
   "id": "59e98cdb",
   "metadata": {
    "ExecuteTime": {
     "end_time": "2022-06-02T02:17:29.493409Z",
     "start_time": "2022-06-02T02:17:29.479444Z"
    }
   },
   "outputs": [],
   "source": [
    "idx = 0\n",
    "for i, j in zip(Visualization['raw_label'].index, Visualization['predict_label'].index):\n",
    "    # print(p_value_tmp[p_idx_tmp.index(i)])\n",
    "    Visualization['raw_label'][i] = r_value_tmp[r_idx_tmp.index(i)]\n",
    "    Visualization['predict_label'][j] = p_value_tmp[p_idx_tmp.index(i)]"
   ]
  },
  {
   "cell_type": "code",
   "execution_count": 88,
   "id": "c9437aaa",
   "metadata": {
    "ExecuteTime": {
     "end_time": "2022-06-02T02:17:29.508365Z",
     "start_time": "2022-06-02T02:17:29.494402Z"
    }
   },
   "outputs": [
    {
     "data": {
      "text/html": [
       "<div>\n",
       "<style scoped>\n",
       "    .dataframe tbody tr th:only-of-type {\n",
       "        vertical-align: middle;\n",
       "    }\n",
       "\n",
       "    .dataframe tbody tr th {\n",
       "        vertical-align: top;\n",
       "    }\n",
       "\n",
       "    .dataframe thead th {\n",
       "        text-align: right;\n",
       "    }\n",
       "</style>\n",
       "<table border=\"1\" class=\"dataframe\">\n",
       "  <thead>\n",
       "    <tr style=\"text-align: right;\">\n",
       "      <th></th>\n",
       "      <th>raw_label</th>\n",
       "      <th>predict_label</th>\n",
       "    </tr>\n",
       "  </thead>\n",
       "  <tbody>\n",
       "    <tr>\n",
       "      <th>긍정</th>\n",
       "      <td>3587</td>\n",
       "      <td>3568</td>\n",
       "    </tr>\n",
       "    <tr>\n",
       "      <th>부정</th>\n",
       "      <td>348</td>\n",
       "      <td>367</td>\n",
       "    </tr>\n",
       "  </tbody>\n",
       "</table>\n",
       "</div>"
      ],
      "text/plain": [
       "    raw_label  predict_label\n",
       "긍정       3587           3568\n",
       "부정        348            367"
      ]
     },
     "execution_count": 88,
     "metadata": {},
     "output_type": "execute_result"
    }
   ],
   "source": [
    "Visualization"
   ]
  },
  {
   "cell_type": "code",
   "execution_count": 89,
   "id": "21e96974",
   "metadata": {
    "ExecuteTime": {
     "end_time": "2022-06-02T02:17:39.309138Z",
     "start_time": "2022-06-02T02:17:39.297171Z"
    }
   },
   "outputs": [
    {
     "name": "stdout",
     "output_type": "stream",
     "text": [
      "테스트 데이터 셋 예측\n",
      "긍정 : 99.47 %\n",
      "부정 : 94.54 %\n"
     ]
    }
   ],
   "source": [
    "print('테스트 데이터 셋 예측')\n",
    "Calculation = list(Visualization['predict_label'] / Visualization['raw_label'])\n",
    "row = list(Visualization.index)\n",
    "for idx in range(len(Calculation)):\n",
    "    print('{} :'.format(row[idx]), end=' ')\n",
    "    if Calculation[idx] > 1:\n",
    "        print('{:.2f} %'.format((2 - Calculation[idx]) * 100))\n",
    "    else:\n",
    "        print('{:.2f} %'.format(Calculation[idx] * 100))"
   ]
  },
  {
   "cell_type": "code",
   "execution_count": 90,
   "id": "7f44b13e",
   "metadata": {
    "ExecuteTime": {
     "end_time": "2022-06-02T02:19:21.449717Z",
     "start_time": "2022-06-02T02:19:21.287122Z"
    }
   },
   "outputs": [
    {
     "data": {
      "image/png": "[encoded data removed]",
      "text/plain": [
       "<Figure size 720x432 with 1 Axes>"
      ]
     },
     "metadata": {
      "needs_background": "light"
     },
     "output_type": "display_data"
    }
   ],
   "source": [
    "ax = Visualization.plot(kind = 'bar', figsize = (10, 6), fontsize=14, rot=0)\n",
    "graph_value = list(Visualization['raw_label']) + list(Visualization['predict_label']) + list(['end'])\n",
    "jump = 0\n",
    "\n",
    "for p in ax.patches:\n",
    "    left, bottom, width, height = p.get_bbox().bounds\n",
    "    if jump < 3:\n",
    "        ax.annotate('{}'.format(graph_value.pop(0)), (left+width/2, height*1.01), ha='center', color = 'black', fontsize = 14)\n",
    "    else:\n",
    "        ax.annotate('{}'.format(graph_value.pop(0)), (left+width/2, height*1.01), ha='center', color = 'red', fontsize = 14)\n",
    "    jump += 1\n",
    "\n",
    "# plt.title(\"긍정 / 부정 / 중립 예측률\", size = 16)\n",
    "plt.ylim(0, max(max(y), max(z)) + 100)\n",
    "plt.rc('legend', fontsize=16)  # 범례 폰트 크기\n",
    "\n",
    "plt.legend()\n",
    "plt.title('긍정 / 부정 / 중립 예측률', size = 18)\n",
    "plt.savefig('savefig_default.jpg')\n",
    "plt.show()"
   ]
  },
  {
   "cell_type": "markdown",
   "id": "49399098",
   "metadata": {},
   "source": [
    "# 그래프 분석 (EDA)\n",
    "<br>\n",
    "\n",
    "**언론사별 / 월별 / 주중별기사 수량 확인**\n",
    "    \n",
    "    ▶ 언론사를 각 숫자로 표현 후 EDA 실시 Ex) 1 : 미디어펜, 2 : 아이뉴스24, 3 : 데일리안 ...\n",
    "    ▶ date : 등록된 기사별 날짜\n",
    "**아직 제대로 진행 안됨...**"
   ]
  },
  {
   "cell_type": "code",
   "execution_count": 91,
   "id": "472db68c",
   "metadata": {
    "ExecuteTime": {
     "end_time": "2022-06-02T04:57:44.023816Z",
     "start_time": "2022-06-02T04:57:43.994894Z"
    }
   },
   "outputs": [
    {
     "data": {
      "text/html": [
       "<div>\n",
       "<style scoped>\n",
       "    .dataframe tbody tr th:only-of-type {\n",
       "        vertical-align: middle;\n",
       "    }\n",
       "\n",
       "    .dataframe tbody tr th {\n",
       "        vertical-align: top;\n",
       "    }\n",
       "\n",
       "    .dataframe thead th {\n",
       "        text-align: right;\n",
       "    }\n",
       "</style>\n",
       "<table border=\"1\" class=\"dataframe\">\n",
       "  <thead>\n",
       "    <tr style=\"text-align: right;\">\n",
       "      <th></th>\n",
       "      <th>year</th>\n",
       "      <th>month</th>\n",
       "      <th>day</th>\n",
       "      <th>title</th>\n",
       "      <th>nouns_title</th>\n",
       "      <th>press</th>\n",
       "      <th>contents</th>\n",
       "      <th>nouns_contents</th>\n",
       "    </tr>\n",
       "    <tr>\n",
       "      <th>date</th>\n",
       "      <th></th>\n",
       "      <th></th>\n",
       "      <th></th>\n",
       "      <th></th>\n",
       "      <th></th>\n",
       "      <th></th>\n",
       "      <th></th>\n",
       "      <th></th>\n",
       "    </tr>\n",
       "  </thead>\n",
       "  <tbody>\n",
       "    <tr>\n",
       "      <th>2019-05-01</th>\n",
       "      <td>9</td>\n",
       "      <td>9</td>\n",
       "      <td>9</td>\n",
       "      <td>9</td>\n",
       "      <td>9</td>\n",
       "      <td>9</td>\n",
       "      <td>9</td>\n",
       "      <td>9</td>\n",
       "    </tr>\n",
       "    <tr>\n",
       "      <th>2019-05-02</th>\n",
       "      <td>54</td>\n",
       "      <td>54</td>\n",
       "      <td>54</td>\n",
       "      <td>54</td>\n",
       "      <td>54</td>\n",
       "      <td>54</td>\n",
       "      <td>54</td>\n",
       "      <td>54</td>\n",
       "    </tr>\n",
       "    <tr>\n",
       "      <th>2019-05-03</th>\n",
       "      <td>16</td>\n",
       "      <td>16</td>\n",
       "      <td>16</td>\n",
       "      <td>16</td>\n",
       "      <td>16</td>\n",
       "      <td>16</td>\n",
       "      <td>16</td>\n",
       "      <td>16</td>\n",
       "    </tr>\n",
       "  </tbody>\n",
       "</table>\n",
       "</div>"
      ],
      "text/plain": [
       "            year  month  day  title  nouns_title  press  contents  \\\n",
       "date                                                                \n",
       "2019-05-01     9      9    9      9            9      9         9   \n",
       "2019-05-02    54     54   54     54           54     54        54   \n",
       "2019-05-03    16     16   16     16           16     16        16   \n",
       "\n",
       "            nouns_contents  \n",
       "date                        \n",
       "2019-05-01               9  \n",
       "2019-05-02              54  \n",
       "2019-05-03              16  "
      ]
     },
     "execution_count": 91,
     "metadata": {},
     "output_type": "execute_result"
    }
   ],
   "source": [
    "# 날짜별 데이터 갯수\n",
    "df_news.groupby('date').count().head(3)"
   ]
  },
  {
   "cell_type": "markdown",
   "id": "67f28ebb",
   "metadata": {},
   "source": [
    "## 월별 기사 갯수\n",
    "<br>\n",
    "\n",
    "- 월별로 꺽은선 그래프로 학습된 긍정 / 부정 / 중립 개수 표현하기\n",
    "\n",
    "**참고사이트 : https://zephyrus1111.tistory.com/9**"
   ]
  },
  {
   "cell_type": "code",
   "execution_count": 92,
   "id": "f47efef6",
   "metadata": {
    "ExecuteTime": {
     "end_time": "2022-06-02T04:57:44.831842Z",
     "start_time": "2022-06-02T04:57:44.778984Z"
    }
   },
   "outputs": [
    {
     "data": {
      "text/html": [
       "<div>\n",
       "<style scoped>\n",
       "    .dataframe tbody tr th:only-of-type {\n",
       "        vertical-align: middle;\n",
       "    }\n",
       "\n",
       "    .dataframe tbody tr th {\n",
       "        vertical-align: top;\n",
       "    }\n",
       "\n",
       "    .dataframe thead th {\n",
       "        text-align: right;\n",
       "    }\n",
       "</style>\n",
       "<table border=\"1\" class=\"dataframe\">\n",
       "  <thead>\n",
       "    <tr style=\"text-align: right;\">\n",
       "      <th></th>\n",
       "      <th>date</th>\n",
       "      <th>year</th>\n",
       "      <th>month</th>\n",
       "      <th>day</th>\n",
       "      <th>title</th>\n",
       "      <th>nouns_title</th>\n",
       "      <th>press</th>\n",
       "      <th>contents</th>\n",
       "      <th>nouns_contents</th>\n",
       "    </tr>\n",
       "  </thead>\n",
       "  <tbody>\n",
       "    <tr>\n",
       "      <th>count</th>\n",
       "      <td>16523</td>\n",
       "      <td>16523.000000</td>\n",
       "      <td>16523.000000</td>\n",
       "      <td>16523.000000</td>\n",
       "      <td>16523</td>\n",
       "      <td>16523</td>\n",
       "      <td>16523</td>\n",
       "      <td>16523</td>\n",
       "      <td>16523</td>\n",
       "    </tr>\n",
       "    <tr>\n",
       "      <th>unique</th>\n",
       "      <td>919</td>\n",
       "      <td>NaN</td>\n",
       "      <td>NaN</td>\n",
       "      <td>NaN</td>\n",
       "      <td>16523</td>\n",
       "      <td>15662</td>\n",
       "      <td>413</td>\n",
       "      <td>16523</td>\n",
       "      <td>16335</td>\n",
       "    </tr>\n",
       "    <tr>\n",
       "      <th>top</th>\n",
       "      <td>2020-08-20</td>\n",
       "      <td>NaN</td>\n",
       "      <td>NaN</td>\n",
       "      <td>NaN</td>\n",
       "      <td>코로나19 확진자 발생에 하나은행 본점 건물 폐쇄</td>\n",
       "      <td>DGB 대구 은행 경북 신용 보증 재단 경북 기업 상공 금융 지원 협약</td>\n",
       "      <td>매일신문</td>\n",
       "      <td>DGB금융지주 차기 회장후보에 김태오 현 회장 DGB금융지주는 회장후보추천위원회가 ...</td>\n",
       "      <td>DGB 대다 구 은행 코로나 19 로 인하다 경제 위기 극복 내 수 촉진 을 위해 ...</td>\n",
       "    </tr>\n",
       "    <tr>\n",
       "      <th>freq</th>\n",
       "      <td>133</td>\n",
       "      <td>NaN</td>\n",
       "      <td>NaN</td>\n",
       "      <td>NaN</td>\n",
       "      <td>1</td>\n",
       "      <td>7</td>\n",
       "      <td>441</td>\n",
       "      <td>1</td>\n",
       "      <td>3</td>\n",
       "    </tr>\n",
       "    <tr>\n",
       "      <th>mean</th>\n",
       "      <td>NaN</td>\n",
       "      <td>2020.519216</td>\n",
       "      <td>6.242268</td>\n",
       "      <td>15.685650</td>\n",
       "      <td>NaN</td>\n",
       "      <td>NaN</td>\n",
       "      <td>NaN</td>\n",
       "      <td>NaN</td>\n",
       "      <td>NaN</td>\n",
       "    </tr>\n",
       "    <tr>\n",
       "      <th>std</th>\n",
       "      <td>NaN</td>\n",
       "      <td>0.861722</td>\n",
       "      <td>3.406481</td>\n",
       "      <td>9.160703</td>\n",
       "      <td>NaN</td>\n",
       "      <td>NaN</td>\n",
       "      <td>NaN</td>\n",
       "      <td>NaN</td>\n",
       "      <td>NaN</td>\n",
       "    </tr>\n",
       "    <tr>\n",
       "      <th>min</th>\n",
       "      <td>NaN</td>\n",
       "      <td>2019.000000</td>\n",
       "      <td>1.000000</td>\n",
       "      <td>1.000000</td>\n",
       "      <td>NaN</td>\n",
       "      <td>NaN</td>\n",
       "      <td>NaN</td>\n",
       "      <td>NaN</td>\n",
       "      <td>NaN</td>\n",
       "    </tr>\n",
       "    <tr>\n",
       "      <th>25%</th>\n",
       "      <td>NaN</td>\n",
       "      <td>2020.000000</td>\n",
       "      <td>3.000000</td>\n",
       "      <td>7.000000</td>\n",
       "      <td>NaN</td>\n",
       "      <td>NaN</td>\n",
       "      <td>NaN</td>\n",
       "      <td>NaN</td>\n",
       "      <td>NaN</td>\n",
       "    </tr>\n",
       "    <tr>\n",
       "      <th>50%</th>\n",
       "      <td>NaN</td>\n",
       "      <td>2021.000000</td>\n",
       "      <td>6.000000</td>\n",
       "      <td>15.000000</td>\n",
       "      <td>NaN</td>\n",
       "      <td>NaN</td>\n",
       "      <td>NaN</td>\n",
       "      <td>NaN</td>\n",
       "      <td>NaN</td>\n",
       "    </tr>\n",
       "    <tr>\n",
       "      <th>75%</th>\n",
       "      <td>NaN</td>\n",
       "      <td>2021.000000</td>\n",
       "      <td>9.000000</td>\n",
       "      <td>24.000000</td>\n",
       "      <td>NaN</td>\n",
       "      <td>NaN</td>\n",
       "      <td>NaN</td>\n",
       "      <td>NaN</td>\n",
       "      <td>NaN</td>\n",
       "    </tr>\n",
       "    <tr>\n",
       "      <th>max</th>\n",
       "      <td>NaN</td>\n",
       "      <td>2022.000000</td>\n",
       "      <td>12.000000</td>\n",
       "      <td>31.000000</td>\n",
       "      <td>NaN</td>\n",
       "      <td>NaN</td>\n",
       "      <td>NaN</td>\n",
       "      <td>NaN</td>\n",
       "      <td>NaN</td>\n",
       "    </tr>\n",
       "  </tbody>\n",
       "</table>\n",
       "</div>"
      ],
      "text/plain": [
       "              date          year         month           day  \\\n",
       "count        16523  16523.000000  16523.000000  16523.000000   \n",
       "unique         919           NaN           NaN           NaN   \n",
       "top     2020-08-20           NaN           NaN           NaN   \n",
       "freq           133           NaN           NaN           NaN   \n",
       "mean           NaN   2020.519216      6.242268     15.685650   \n",
       "std            NaN      0.861722      3.406481      9.160703   \n",
       "min            NaN   2019.000000      1.000000      1.000000   \n",
       "25%            NaN   2020.000000      3.000000      7.000000   \n",
       "50%            NaN   2021.000000      6.000000     15.000000   \n",
       "75%            NaN   2021.000000      9.000000     24.000000   \n",
       "max            NaN   2022.000000     12.000000     31.000000   \n",
       "\n",
       "                              title                              nouns_title  \\\n",
       "count                         16523                                    16523   \n",
       "unique                        16523                                    15662   \n",
       "top     코로나19 확진자 발생에 하나은행 본점 건물 폐쇄  DGB 대구 은행 경북 신용 보증 재단 경북 기업 상공 금융 지원 협약   \n",
       "freq                              1                                        7   \n",
       "mean                            NaN                                      NaN   \n",
       "std                             NaN                                      NaN   \n",
       "min                             NaN                                      NaN   \n",
       "25%                             NaN                                      NaN   \n",
       "50%                             NaN                                      NaN   \n",
       "75%                             NaN                                      NaN   \n",
       "max                             NaN                                      NaN   \n",
       "\n",
       "        press                                           contents  \\\n",
       "count   16523                                              16523   \n",
       "unique    413                                              16523   \n",
       "top      매일신문  DGB금융지주 차기 회장후보에 김태오 현 회장 DGB금융지주는 회장후보추천위원회가 ...   \n",
       "freq      441                                                  1   \n",
       "mean      NaN                                                NaN   \n",
       "std       NaN                                                NaN   \n",
       "min       NaN                                                NaN   \n",
       "25%       NaN                                                NaN   \n",
       "50%       NaN                                                NaN   \n",
       "75%       NaN                                                NaN   \n",
       "max       NaN                                                NaN   \n",
       "\n",
       "                                           nouns_contents  \n",
       "count                                               16523  \n",
       "unique                                              16335  \n",
       "top     DGB 대다 구 은행 코로나 19 로 인하다 경제 위기 극복 내 수 촉진 을 위해 ...  \n",
       "freq                                                    3  \n",
       "mean                                                  NaN  \n",
       "std                                                   NaN  \n",
       "min                                                   NaN  \n",
       "25%                                                   NaN  \n",
       "50%                                                   NaN  \n",
       "75%                                                   NaN  \n",
       "max                                                   NaN  "
      ]
     },
     "execution_count": 92,
     "metadata": {},
     "output_type": "execute_result"
    }
   ],
   "source": [
    "df_news.describe(include='all')"
   ]
  },
  {
   "cell_type": "code",
   "execution_count": 93,
   "id": "eec99b85",
   "metadata": {
    "ExecuteTime": {
     "end_time": "2022-06-02T04:57:45.160961Z",
     "start_time": "2022-06-02T04:57:45.146999Z"
    },
    "scrolled": false
   },
   "outputs": [
    {
     "data": {
      "text/html": [
       "<div>\n",
       "<style scoped>\n",
       "    .dataframe tbody tr th:only-of-type {\n",
       "        vertical-align: middle;\n",
       "    }\n",
       "\n",
       "    .dataframe tbody tr th {\n",
       "        vertical-align: top;\n",
       "    }\n",
       "\n",
       "    .dataframe thead th {\n",
       "        text-align: right;\n",
       "    }\n",
       "</style>\n",
       "<table border=\"1\" class=\"dataframe\">\n",
       "  <thead>\n",
       "    <tr style=\"text-align: right;\">\n",
       "      <th></th>\n",
       "      <th>date</th>\n",
       "      <th>year</th>\n",
       "      <th>month</th>\n",
       "      <th>day</th>\n",
       "      <th>title</th>\n",
       "      <th>nouns_title</th>\n",
       "      <th>press</th>\n",
       "      <th>contents</th>\n",
       "      <th>nouns_contents</th>\n",
       "    </tr>\n",
       "  </thead>\n",
       "  <tbody>\n",
       "    <tr>\n",
       "      <th>0</th>\n",
       "      <td>2019-05-01</td>\n",
       "      <td>2019</td>\n",
       "      <td>5</td>\n",
       "      <td>1</td>\n",
       "      <td>충청권이 타 지역 지방은행 각축장이 된 까닭</td>\n",
       "      <td>충청권 지역 지방 은행 각축 장이 되다 까닭</td>\n",
       "      <td>충청투데이</td>\n",
       "      <td>DGB대구은행이 엊그제 둔산동에 대전지역 1호 점포를 개설하고 충청권 영업에 본격 ...</td>\n",
       "      <td>DGB 대 구 은행 엊그제 둔산동 대전 지역 1 호 점포 개설 하고 충청권 영업 본...</td>\n",
       "    </tr>\n",
       "    <tr>\n",
       "      <th>1</th>\n",
       "      <td>2019-05-01</td>\n",
       "      <td>2019</td>\n",
       "      <td>5</td>\n",
       "      <td>1</td>\n",
       "      <td>대전에 문 연 대구은행…지역 반응은 '글쎄'</td>\n",
       "      <td>대전 대구 은행 지역 반응 글쎄</td>\n",
       "      <td>충청투데이</td>\n",
       "      <td>DGB대구은행이 대전지역 진출을 본격화한 가운데 다소 냉담한 반응이 흘러나오고 있다...</td>\n",
       "      <td>DGB 대 구 은행 대전 지역 진출 을 본격 화 가운데 다소 냉담하다 반응 흘러나오...</td>\n",
       "    </tr>\n",
       "    <tr>\n",
       "      <th>2</th>\n",
       "      <td>2019-05-01</td>\n",
       "      <td>2019</td>\n",
       "      <td>5</td>\n",
       "      <td>1</td>\n",
       "      <td>\"민원 없는 그 날까지\" 은행권, 민원 줄이기에 총력</td>\n",
       "      <td>민원 없다 까지 은행권 민원 줄이다 총력</td>\n",
       "      <td>한스경제</td>\n",
       "      <td>DGB대구은행 5.9건, SC제일은행 5.4건, KB국민은행 4.8건, 우리은행 4...</td>\n",
       "      <td>DGB 대구 은행 59 건 SC 제 일 은행 54 건 KB 국민은행 48 건 우리은...</td>\n",
       "    </tr>\n",
       "    <tr>\n",
       "      <th>3</th>\n",
       "      <td>2019-05-01</td>\n",
       "      <td>2019</td>\n",
       "      <td>5</td>\n",
       "      <td>1</td>\n",
       "      <td>DGB대구은행, 대전지점 개점.. 충청도 진출</td>\n",
       "      <td>DGB 대구 은행 대전 지점 개점 충청도 진출</td>\n",
       "      <td>베타뉴스</td>\n",
       "      <td>DGB대구은행이 지난달 30일 대전지점을 개점하고, 국토 및 교통의 중심지인 충청지...</td>\n",
       "      <td>DGB 대 구 은행 지난달 30일 대 전 지점 을 개점 하고 국토 및 교통 중심지 ...</td>\n",
       "    </tr>\n",
       "    <tr>\n",
       "      <th>4</th>\n",
       "      <td>2019-05-01</td>\n",
       "      <td>2019</td>\n",
       "      <td>5</td>\n",
       "      <td>1</td>\n",
       "      <td>DGB대구은행 대전 1호 점포 개점...전국 확대</td>\n",
       "      <td>DGB 대구 은행 대전 점포 개점 전국 확대</td>\n",
       "      <td>대구MBC</td>\n",
       "      <td>DGB대구은행이 대전에 점포를 열었습니다. DGB대구은행은 어제 대전시 서구 문예로...</td>\n",
       "      <td>DGB 대 구 은행 대전 점포 열다 DGB 대 구 은행 어제 대 전시 서구 문예로 ...</td>\n",
       "    </tr>\n",
       "  </tbody>\n",
       "</table>\n",
       "</div>"
      ],
      "text/plain": [
       "         date  year  month  day                          title  \\\n",
       "0  2019-05-01  2019      5    1       충청권이 타 지역 지방은행 각축장이 된 까닭   \n",
       "1  2019-05-01  2019      5    1       대전에 문 연 대구은행…지역 반응은 '글쎄'   \n",
       "2  2019-05-01  2019      5    1  \"민원 없는 그 날까지\" 은행권, 민원 줄이기에 총력   \n",
       "3  2019-05-01  2019      5    1      DGB대구은행, 대전지점 개점.. 충청도 진출   \n",
       "4  2019-05-01  2019      5    1    DGB대구은행 대전 1호 점포 개점...전국 확대   \n",
       "\n",
       "                 nouns_title  press  \\\n",
       "0   충청권 지역 지방 은행 각축 장이 되다 까닭  충청투데이   \n",
       "1          대전 대구 은행 지역 반응 글쎄  충청투데이   \n",
       "2     민원 없다 까지 은행권 민원 줄이다 총력   한스경제   \n",
       "3  DGB 대구 은행 대전 지점 개점 충청도 진출   베타뉴스   \n",
       "4   DGB 대구 은행 대전 점포 개점 전국 확대  대구MBC   \n",
       "\n",
       "                                            contents  \\\n",
       "0  DGB대구은행이 엊그제 둔산동에 대전지역 1호 점포를 개설하고 충청권 영업에 본격 ...   \n",
       "1  DGB대구은행이 대전지역 진출을 본격화한 가운데 다소 냉담한 반응이 흘러나오고 있다...   \n",
       "2  DGB대구은행 5.9건, SC제일은행 5.4건, KB국민은행 4.8건, 우리은행 4...   \n",
       "3  DGB대구은행이 지난달 30일 대전지점을 개점하고, 국토 및 교통의 중심지인 충청지...   \n",
       "4  DGB대구은행이 대전에 점포를 열었습니다. DGB대구은행은 어제 대전시 서구 문예로...   \n",
       "\n",
       "                                      nouns_contents  \n",
       "0  DGB 대 구 은행 엊그제 둔산동 대전 지역 1 호 점포 개설 하고 충청권 영업 본...  \n",
       "1  DGB 대 구 은행 대전 지역 진출 을 본격 화 가운데 다소 냉담하다 반응 흘러나오...  \n",
       "2  DGB 대구 은행 59 건 SC 제 일 은행 54 건 KB 국민은행 48 건 우리은...  \n",
       "3  DGB 대 구 은행 지난달 30일 대 전 지점 을 개점 하고 국토 및 교통 중심지 ...  \n",
       "4  DGB 대 구 은행 대전 점포 열다 DGB 대 구 은행 어제 대 전시 서구 문예로 ...  "
      ]
     },
     "execution_count": 93,
     "metadata": {},
     "output_type": "execute_result"
    }
   ],
   "source": [
    "df_news.head()"
   ]
  },
  {
   "cell_type": "code",
   "execution_count": 94,
   "id": "5e555bb8",
   "metadata": {
    "ExecuteTime": {
     "end_time": "2022-06-02T04:57:45.983760Z",
     "start_time": "2022-06-02T04:57:45.691542Z"
    }
   },
   "outputs": [
    {
     "data": {
      "image/png": "[encoded data removed]",
      "text/plain": [
       "<Figure size 1152x864 with 4 Axes>"
      ]
     },
     "metadata": {
      "needs_background": "light"
     },
     "output_type": "display_data"
    }
   ],
   "source": [
    "df_news.hist(figsize = (16, 12))\n",
    "plt.show()"
   ]
  },
  {
   "cell_type": "code",
   "execution_count": 95,
   "id": "11bb4c06",
   "metadata": {
    "ExecuteTime": {
     "end_time": "2022-06-02T04:57:46.836483Z",
     "start_time": "2022-06-02T04:57:46.682890Z"
    }
   },
   "outputs": [
    {
     "name": "stdout",
     "output_type": "stream",
     "text": [
      "2021.05 ~ : ['21.05', '21.06', '21.07', '21.08', '21.09', '21.01', '21.02', '21.03', '21.04', '21.10', '21.11', '21.12']\n",
      "2021.05 ~ : [999, 1195, 1706, 1870, 1059, 1205, 822, 1461, 1323, 1632, 1672, 1579]\n"
     ]
    }
   ],
   "source": [
    "# 2021년도부터 시작\n",
    "def next_date_get(x):\n",
    "    year = 21\n",
    "    for i in range(len(x)):\n",
    "        if (x[i] % 12) != 0:\n",
    "            if x[i] < 10:\n",
    "                x.insert(i, '{}.0'.format(str(year)) + str(x.pop(i)))\n",
    "            else:\n",
    "                x.insert(i, '{}.'.format(str(year)) + str(x.pop(i)))\n",
    "        else:\n",
    "            x.insert(i, '{}.'.format(str(year)) + str(x.pop(i))) # 12월까지 카운트\n",
    "            year += 1 # 다음년도\n",
    "    return x\n",
    "\n",
    "# 월별로 정렬이 되어 있으므로 21 ~ 22년도 사이 지정 해주어야 함.\n",
    "x = next_date_get(df_news['month'].unique().tolist()) \n",
    "\n",
    "tmp_a, tmp_b = df_news.groupby('month')['date'].count().tolist()[4:], df_news.groupby('month')['date'].count().tolist()[:4]\n",
    "y = tmp_a + tmp_b\n",
    "\n",
    "print('2021.05 ~ :', x) # 월\n",
    "print('2021.05 ~ :', y) # 값"
   ]
  },
  {
   "cell_type": "code",
   "execution_count": 96,
   "id": "df546274",
   "metadata": {
    "ExecuteTime": {
     "end_time": "2022-06-02T04:57:48.587294Z",
     "start_time": "2022-06-02T04:57:48.426723Z"
    }
   },
   "outputs": [
    {
     "data": {
      "image/png": "[encoded data removed]",
      "text/plain": [
       "<Figure size 1152x576 with 1 Axes>"
      ]
     },
     "metadata": {
      "needs_background": "light"
     },
     "output_type": "display_data"
    }
   ],
   "source": [
    "plt.figure(figsize = (16, 8))\n",
    "\n",
    "for i, v in enumerate(x):\n",
    "    plt.text(v, y[i], y[i],                 # 좌표 (x축 = v, y축 = y[0]..y[1], 표시 = y[0]..y[1])\n",
    "             fontsize = 15, \n",
    "             color='green',\n",
    "             horizontalalignment='center',  # horizontalalignment (left, center, right)\n",
    "             verticalalignment='bottom')    # verticalalignment (top, center, bottom)\n",
    "\n",
    "plt.title('월별 뉴스 기사', size = 25)\n",
    "plt.bar(x, y, width=0.5, color='pink')\n",
    "plt.xlabel('월별', size = 20, labelpad=20) # x축 제목 설정\n",
    "plt.ylabel('갯수', size = 20, labelpad=20) #y축 제목 설정, 빨간 글씨\n",
    "plt.show()"
   ]
  },
  {
   "cell_type": "markdown",
   "id": "f54eacb9",
   "metadata": {},
   "source": [
    "## 언론사별 기사 갯수\n",
    "- 언론사별 범주형 데이터 --> 수치형으로 변환"
   ]
  },
  {
   "cell_type": "code",
   "execution_count": null,
   "id": "b342f1ef",
   "metadata": {
    "ExecuteTime": {
     "end_time": "2022-06-02T01:55:21.290333Z",
     "start_time": "2022-06-02T01:54:39.544Z"
    },
    "scrolled": false
   },
   "outputs": [],
   "source": [
    "df_news.head(1)"
   ]
  },
  {
   "cell_type": "code",
   "execution_count": null,
   "id": "821b5e16",
   "metadata": {
    "ExecuteTime": {
     "end_time": "2022-06-02T01:55:21.291330Z",
     "start_time": "2022-06-02T01:54:39.546Z"
    }
   },
   "outputs": [],
   "source": [
    "len(df_news['press'].unique())\n",
    "df_news['press'].unique()[:5]"
   ]
  },
  {
   "cell_type": "code",
   "execution_count": null,
   "id": "9590f120",
   "metadata": {
    "ExecuteTime": {
     "end_time": "2022-06-02T01:55:21.291330Z",
     "start_time": "2022-06-02T01:54:39.548Z"
    }
   },
   "outputs": [],
   "source": [
    "df_news['press'].unique()\n",
    "x = df_news['press'].value_counts().index.tolist()\n",
    "y = df_news['press'].value_counts().values.tolist()"
   ]
  },
  {
   "cell_type": "code",
   "execution_count": null,
   "id": "77afdff1",
   "metadata": {
    "ExecuteTime": {
     "end_time": "2022-06-02T01:55:21.292327Z",
     "start_time": "2022-06-02T01:54:39.550Z"
    }
   },
   "outputs": [],
   "source": [
    "# 기사 갯수가 85 이상인 것만\n",
    "limit = 0\n",
    "for idx, value  in enumerate(y):\n",
    "    if value < 85:\n",
    "        limit = idx\n",
    "        break\n",
    "\n",
    "x = x[:limit]\n",
    "y = y[:limit]"
   ]
  },
  {
   "cell_type": "code",
   "execution_count": null,
   "id": "fa83c21a",
   "metadata": {
    "ExecuteTime": {
     "end_time": "2022-06-02T01:55:21.292327Z",
     "start_time": "2022-06-02T01:54:39.551Z"
    }
   },
   "outputs": [],
   "source": [
    "df_news['press'].value_counts()[50:]"
   ]
  },
  {
   "cell_type": "code",
   "execution_count": null,
   "id": "9ed1f99f",
   "metadata": {
    "ExecuteTime": {
     "end_time": "2022-06-02T01:55:21.293325Z",
     "start_time": "2022-06-02T01:54:39.553Z"
    },
    "scrolled": true
   },
   "outputs": [],
   "source": [
    "plt.figure(figsize = (46, 12))\n",
    "\n",
    "for i, v in enumerate(x):\n",
    "    plt.text(v, y[i], y[i],                 # 좌표 (x축 = v, y축 = y[0]..y[1], 표시 = y[0]..y[1])\n",
    "             fontsize = 15, \n",
    "             color='green',\n",
    "             horizontalalignment='center',  # horizontalalignment (left, center, right)\n",
    "             verticalalignment='bottom')    # verticalalignment (top, center, bottom)\n",
    "\n",
    "plt.title('언론사별 기사 개수', fontsize = 20)\n",
    "plt.bar(x, y, width=0.5, color = 'pink')\n",
    "plt.xticks(rotation = -45)\n",
    "plt.xlabel('count', fontsize=20)\n",
    "plt.ylabel('press', fontsize=20)\n",
    "plt.show()"
   ]
  },
  {
   "cell_type": "markdown",
   "id": "a904a87e",
   "metadata": {},
   "source": [
    "# 해야할 것들\n",
    "- 이슈분석지표 워드 클라우드는 이제 단어별 갯수 구한 후 표 그리면 완성\n",
    "- 감정분석 \n",
    "<br><br>\n",
    "- 1. 현재 사용중인 CSV파일이 아닌 1년치 데이터를 스크래핑\n",
    "<br><br>\n",
    "- 2. 스크래핑한 데이터의 갯수가 50000개의 데이터라면 / Train_set : 70% Test_set : 30%로 분할 (랜덤모듈이용)<br>\n",
    "※ 단, Test_set 분할시 2.5%로 12개월분할하면 제일 좋음 ( 매달마다 2.5%의 Test_set를 뽑아와서 총 30%로 만듬.) 1~12월 골고루 뽑아올 수 있음.\n",
    "<br><br>\n",
    "- 3. Train_set에 Labeling을 해주어야 함. (긍정 1, 부정 -1, 중립 0)\n",
    "<br>\n",
    "※ Labeling 할 때 어떤식으로 정답을 부여할지 생각해야 됨.\n",
    "<br>\n",
    "<br>\n",
    "- 4. 코로나 이전 1년치랑 이후 1년치 데이터 비교\n",
    "<br>\n",
    "1. 긍정 부정 단어사전 구축 후 레이블링 작업 진행\n"
   ]
  },
  {
   "cell_type": "code",
   "execution_count": null,
   "id": "834adc6a",
   "metadata": {},
   "outputs": [],
   "source": []
  }
 ],
 "metadata": {
  "kernelspec": {
   "display_name": "Proj",
   "language": "python",
   "name": "intern_project"
  },
  "language_info": {
   "codemirror_mode": {
    "name": "ipython",
    "version": 3
   },
   "file_extension": ".py",
   "mimetype": "text/x-python",
   "name": "python",
   "nbconvert_exporter": "python",
   "pygments_lexer": "ipython3",
   "version": "3.6.13"
  },
  "toc": {
   "base_numbering": 1,
   "nav_menu": {},
   "number_sections": true,
   "sideBar": true,
   "skip_h1_title": false,
   "title_cell": "Table of Contents",
   "title_sidebar": "Contents",
   "toc_cell": false,
   "toc_position": {
    "height": "calc(100% - 180px)",
    "left": "10px",
    "top": "150px",
    "width": "260.2px"
   },
   "toc_section_display": true,
   "toc_window_display": false
  }
 },
 "nbformat": 4,
 "nbformat_minor": 5
}
